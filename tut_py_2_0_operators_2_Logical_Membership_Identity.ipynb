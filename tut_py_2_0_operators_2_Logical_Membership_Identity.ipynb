{
 "cells": [
  {
   "cell_type": "markdown",
   "metadata": {},
   "source": [
    "# Python Operators part 2\n",
    "### TYPES: Logical, Membership, Identity"
   ]
  },
  {
   "cell_type": "code",
   "execution_count": null,
   "metadata": {},
   "outputs": [],
   "source": []
  },
  {
   "cell_type": "markdown",
   "metadata": {},
   "source": [
    "### 4. Logical Operator: and, or, not\n",
    "- returns boolean variable: **True or False**"
   ]
  },
  {
   "cell_type": "code",
   "execution_count": null,
   "metadata": {},
   "outputs": [
    {
     "name": "stdout",
     "output_type": "stream",
     "text": [
      "True\n",
      "False\n",
      "False\n",
      "False\n",
      "#######################\n",
      "True\n",
      "False\n"
     ]
    }
   ],
   "source": [
    "# and operator: if every single condition is True then it will return True, else it will return False \n",
    "print(True  and True)\n",
    "print(True  and False)\n",
    "print(False and True)\n",
    "print(False and False)\n",
    "\n",
    "\n",
    "print(\"#######################\")\n",
    "print(True  and True and True  and True)\n",
    "print(True  and True and False and True)"
   ]
  },
  {
   "cell_type": "code",
   "execution_count": 10,
   "metadata": {},
   "outputs": [
    {
     "name": "stdout",
     "output_type": "stream",
     "text": [
      "False\n"
     ]
    }
   ],
   "source": [
    "# example1: Check if age is between 20 and 30\n",
    "age = 60\n",
    "\n",
    "res = age > 20 and age < 30 \n",
    "# res = True  and   False\n",
    "\n",
    "print(res)"
   ]
  },
  {
   "cell_type": "code",
   "execution_count": 11,
   "metadata": {},
   "outputs": [
    {
     "name": "stdout",
     "output_type": "stream",
     "text": [
      "False\n"
     ]
    }
   ],
   "source": [
    "# example2: Check if age and income satisfy some condition\n",
    "age = 25 \n",
    "income = 20000\n",
    "\n",
    "# Check if age > 20 and income > 15000\n",
    "res = age > 20 and income > 15000 \n",
    "# res = True      and    True\n",
    "\n",
    "print(res)\n",
    "########################\n",
    "age = 25 \n",
    "income = 20000\n",
    "\n",
    "# Check if age > 30 and income < 15000\n",
    "# res = age > 30 and income < 15000 \n",
    "# res =  False   and   False\n",
    "\n",
    "print(res)"
   ]
  },
  {
   "cell_type": "code",
   "execution_count": null,
   "metadata": {},
   "outputs": [
    {
     "name": "stdout",
     "output_type": "stream",
     "text": [
      "True\n",
      "True\n",
      "True\n",
      "False\n",
      "#######################\n",
      "True\n",
      "True\n",
      "False\n"
     ]
    }
   ],
   "source": [
    "# or condition: if a single condition is True then  it will return True else it will return False\n",
    "print(True  or True)\n",
    "print(True  or False)\n",
    "print(False or True)\n",
    "print(False or False)\n",
    "\n",
    "print(\"#######################\")\n",
    "print(True  or True  or True  or True)\n",
    "print(True  or True  or False or True)\n",
    "print(False or False or False or False)\n",
    "\n"
   ]
  },
  {
   "cell_type": "code",
   "execution_count": 12,
   "metadata": {},
   "outputs": [
    {
     "name": "stdout",
     "output_type": "stream",
     "text": [
      "True\n"
     ]
    }
   ],
   "source": [
    "# EXAMPLE1: determine if age is out range [30 to 60]\n",
    "age = 5\n",
    "\n",
    "res = age < 30 or age > 60 \n",
    "# res = True   or False\n",
    "\n",
    "print(res)"
   ]
  },
  {
   "cell_type": "code",
   "execution_count": 11,
   "metadata": {},
   "outputs": [
    {
     "name": "stdout",
     "output_type": "stream",
     "text": [
      "False\n"
     ]
    }
   ],
   "source": [
    "# EXAMPLE2: check age and name\n",
    "age = 5\n",
    "name = 'jerry'\n",
    "\n",
    "# res = age < 30 or name == 'tinku' # True or False\n",
    "# res = age < 30 or name == 'jerry' # True or True\n",
    "res = age > 30 or name == 'TINKU' # False or False\n",
    "\n",
    "\n",
    "print(res)"
   ]
  },
  {
   "cell_type": "code",
   "execution_count": 15,
   "metadata": {},
   "outputs": [
    {
     "name": "stdout",
     "output_type": "stream",
     "text": [
      "False\n"
     ]
    }
   ],
   "source": [
    "# (SKIP) OPTIONAL: EXAMPLE3: \n",
    "user = \"ash\"\n",
    "\n",
    "res = user == 'admin' or user == 'jerry' # False or False\n",
    "# res = (user == 'admin' or user == 'jerry') # I put () for readability.  \n",
    "# res = (user == 'admin' or user == 'ash') # False or True\n",
    "\n",
    "print(res)"
   ]
  },
  {
   "cell_type": "code",
   "execution_count": null,
   "metadata": {},
   "outputs": [],
   "source": []
  },
  {
   "cell_type": "code",
   "execution_count": 16,
   "metadata": {},
   "outputs": [
    {
     "name": "stdout",
     "output_type": "stream",
     "text": [
      "True\n"
     ]
    }
   ],
   "source": [
    "# combine or +  and\n",
    "\n",
    "# example1: Extra charge if high consumption(more than 500 W) and either urban area or AC is used.\n",
    "units_used = 520 # power consume\n",
    "area = 'urban'\n",
    "has_air_conditioner = True\n",
    "\n",
    "res = units_used > 500 and (area == 'urban' or has_air_conditioner) \n",
    "# res =  True         and  (   True        or        True)\n",
    "\n",
    "print(res)"
   ]
  },
  {
   "cell_type": "code",
   "execution_count": 18,
   "metadata": {},
   "outputs": [
    {
     "name": "stdout",
     "output_type": "stream",
     "text": [
      "False\n",
      "#####################\n",
      "True\n"
     ]
    }
   ],
   "source": [
    "# example2: checks either if both subjects(science+math) score are > 40 or total score exceed 95.\n",
    "math_score = 21\n",
    "science_score = 65\n",
    "\n",
    "res = (math_score > 40 and science_score > 40) or (math_score + science_score > 95) \n",
    "# res = (False        and           True     ) or (   False  )\n",
    "\n",
    "print(res)\n",
    "\n",
    "print(\"#####################\")\n",
    "math_score = 33\n",
    "science_score = 65\n",
    "\n",
    "res = (math_score > 40 and science_score > 40) or (math_score + science_score > 95) \n",
    "# res = (False       and      True           ) or ( True )\n",
    "\n",
    "print(res)"
   ]
  },
  {
   "cell_type": "code",
   "execution_count": 8,
   "metadata": {},
   "outputs": [
    {
     "name": "stdout",
     "output_type": "stream",
     "text": [
      "True\n"
     ]
    }
   ],
   "source": [
    "# (SKIP) OPTIONAL: example3: The salary must be good(>25000) and either credit score is high or a guarantor is available.\n",
    "\n",
    "salary = 30000\n",
    "credit_score = 650\n",
    "has_guarantor = True\n",
    "\n",
    "b = salary > 25000 and (credit_score > 700 or has_guarantor)\n",
    "\n",
    "print(b)"
   ]
  },
  {
   "cell_type": "code",
   "execution_count": 19,
   "metadata": {},
   "outputs": [
    {
     "name": "stdout",
     "output_type": "stream",
     "text": [
      "True\n",
      "False\n",
      "True\n",
      "False\n",
      "False\n"
     ]
    }
   ],
   "source": [
    "# Print not a is False \n",
    "print(True)\n",
    "print(not True)\n",
    "print(not False)\n",
    "\n",
    "################\n",
    "a = True\n",
    "print(not a)\n",
    "################\n",
    "\n",
    "#example: check if user is admin\n",
    "user = 'Admin'\n",
    "res = (user == 'admin')\n",
    "\n",
    "print(res)"
   ]
  },
  {
   "cell_type": "markdown",
   "metadata": {},
   "source": [
    "# 5. Membership Operator- in, not in"
   ]
  },
  {
   "cell_type": "code",
   "execution_count": 16,
   "metadata": {},
   "outputs": [
    {
     "name": "stdout",
     "output_type": "stream",
     "text": [
      "True\n",
      "False\n"
     ]
    }
   ],
   "source": [
    "#STEP1:  check if a substring is present inside another string\n",
    "sentence = 'University of Miami'\n",
    "\n",
    "res = 'Mia' in sentence\n",
    "print(res)\n",
    "\n",
    "########################\n",
    "\n",
    "res = 'Mia' not in sentence\n",
    "print(res)"
   ]
  },
  {
   "cell_type": "code",
   "execution_count": 17,
   "metadata": {},
   "outputs": [
    {
     "name": "stdout",
     "output_type": "stream",
     "text": [
      "False\n",
      "True\n"
     ]
    }
   ],
   "source": [
    "# STEP2: Now I change Mia -> mia\n",
    "\n",
    "# check if a substring is present inside another string\n",
    "sentence = 'University of Miami'\n",
    "\n",
    "res = 'mia' in sentence\n",
    "print(res)\n",
    "\n",
    "########################\n",
    "\n",
    "res = 'mia' not in sentence\n",
    "print(res)"
   ]
  },
  {
   "cell_type": "code",
   "execution_count": 18,
   "metadata": {},
   "outputs": [
    {
     "name": "stdout",
     "output_type": "stream",
     "text": [
      "True\n",
      "True\n"
     ]
    }
   ],
   "source": [
    "# check if element is present inside a container\n",
    "lst = [1, 3, 5, 2]\n",
    "\n",
    "print(1 in lst)\n",
    "print(2 in lst)"
   ]
  },
  {
   "cell_type": "code",
   "execution_count": null,
   "metadata": {},
   "outputs": [],
   "source": []
  },
  {
   "cell_type": "markdown",
   "metadata": {},
   "source": [
    "### 6. Identity Operator is , is not\n",
    "Used to check if 2 variables refer to the same memory location, not just if they have the same value.\n",
    "\n",
    "- **==** Checks whether two values are equal. It compares **contents/values**, not whether they’re the same object.\n",
    "\n",
    "- **is** Checks whether two variables point to the **same object in memory**."
   ]
  },
  {
   "cell_type": "code",
   "execution_count": 20,
   "metadata": {},
   "outputs": [
    {
     "name": "stdout",
     "output_type": "stream",
     "text": [
      "False\n",
      "True\n"
     ]
    }
   ],
   "source": [
    "a = 3\n",
    "b = 6\n",
    "\n",
    "print(a is b) # checks if a and b are living in same memory address\n",
    "print(a is not b) # this would negate the above 'is' operator"
   ]
  },
  {
   "cell_type": "code",
   "execution_count": 21,
   "metadata": {},
   "outputs": [
    {
     "name": "stdout",
     "output_type": "stream",
     "text": [
      "1572062456176\n",
      "1572062456272\n"
     ]
    }
   ],
   "source": [
    "# where is it stored ?\n",
    "a = 3\n",
    "b = 6\n",
    "\n",
    "print(id(a))\n",
    "print(id(b))"
   ]
  },
  {
   "cell_type": "code",
   "execution_count": 22,
   "metadata": {},
   "outputs": [
    {
     "name": "stdout",
     "output_type": "stream",
     "text": [
      "True\n",
      "1572062456176\n",
      "1572062456176\n"
     ]
    }
   ],
   "source": [
    "a = 3\n",
    "b = 3\n",
    "print(a is b)\n",
    "\n",
    "print(id(a))\n",
    "print(id(b))"
   ]
  },
  {
   "cell_type": "code",
   "execution_count": 26,
   "metadata": {},
   "outputs": [
    {
     "name": "stdout",
     "output_type": "stream",
     "text": [
      "True\n",
      "1572062456176\n",
      "1572062456176\n"
     ]
    }
   ],
   "source": [
    "a = 3\n",
    "b = a\n",
    "print(a is b) \n",
    "\n",
    "print(id(a))\n",
    "print(id(b))"
   ]
  },
  {
   "cell_type": "code",
   "execution_count": null,
   "metadata": {},
   "outputs": [],
   "source": []
  },
  {
   "cell_type": "code",
   "execution_count": null,
   "metadata": {},
   "outputs": [],
   "source": []
  },
  {
   "cell_type": "code",
   "execution_count": null,
   "metadata": {},
   "outputs": [],
   "source": []
  },
  {
   "cell_type": "code",
   "execution_count": null,
   "metadata": {},
   "outputs": [],
   "source": []
  },
  {
   "cell_type": "code",
   "execution_count": null,
   "metadata": {},
   "outputs": [],
   "source": []
  },
  {
   "cell_type": "code",
   "execution_count": null,
   "metadata": {},
   "outputs": [],
   "source": []
  },
  {
   "cell_type": "code",
   "execution_count": null,
   "metadata": {},
   "outputs": [],
   "source": []
  },
  {
   "cell_type": "markdown",
   "metadata": {},
   "source": [
    "# STOP"
   ]
  },
  {
   "cell_type": "code",
   "execution_count": 10,
   "metadata": {},
   "outputs": [
    {
     "name": "stdout",
     "output_type": "stream",
     "text": [
      "True\n",
      "False\n"
     ]
    }
   ],
   "source": [
    "# SKIP\n",
    "a = [1, 2, 3]\n",
    "b = a\n",
    "print(a is b)  # True (same object in memory)\n",
    "\n",
    "c = [1, 2, 3]\n",
    "print(a is c)  # False (same value, but different object)"
   ]
  },
  {
   "cell_type": "code",
   "execution_count": 11,
   "metadata": {},
   "outputs": [
    {
     "name": "stdout",
     "output_type": "stream",
     "text": [
      "False\n",
      "True\n"
     ]
    }
   ],
   "source": [
    "a = [1, 2, 3]\n",
    "b = [1, 2, 3]\n",
    "print(a is b)   # False — different objects in memory\n",
    "\n",
    "c = a\n",
    "print(a is c)   # True — both point to the same list object"
   ]
  },
  {
   "cell_type": "code",
   "execution_count": null,
   "metadata": {},
   "outputs": [],
   "source": [
    "m = [1, 2, 3] # 0A1203CF\n",
    "n = m\n",
    "\n",
    "print(id(m)) # memory address (identity) of the object m.\n",
    "print(id(n)) # memory address (identity) of the object n."
   ]
  },
  {
   "cell_type": "code",
   "execution_count": null,
   "metadata": {},
   "outputs": [],
   "source": [
    "m = [1, 2, 3] \n",
    "n = [1, 2, 3]\n",
    "\n",
    "print(id(m)) # memory address (identity) of the object m.\n",
    "print(id(n)) # memory address (identity) of the object n."
   ]
  },
  {
   "cell_type": "code",
   "execution_count": 3,
   "metadata": {},
   "outputs": [
    {
     "name": "stdout",
     "output_type": "stream",
     "text": [
      "Weather data not available yet\n"
     ]
    }
   ],
   "source": [
    "# Simulate checking weather data\n",
    "temperature = None  # No data yet\n",
    "# temperature = 30  # temperature received from the weather API\n",
    "\n",
    "if temperature is None:\n",
    "    print(\"Weather data not available yet\")\n",
    "\n",
    "if temperature is not None:\n",
    "    print(f\"The current temperature is {temperature}°C\")\n"
   ]
  }
 ],
 "metadata": {
  "kernelspec": {
   "display_name": "Python 3 (ipykernel)",
   "language": "python",
   "name": "python3"
  },
  "language_info": {
   "codemirror_mode": {
    "name": "ipython",
    "version": 3
   },
   "file_extension": ".py",
   "mimetype": "text/x-python",
   "name": "python",
   "nbconvert_exporter": "python",
   "pygments_lexer": "ipython3",
   "version": "3.9.9"
  }
 },
 "nbformat": 4,
 "nbformat_minor": 4
}
