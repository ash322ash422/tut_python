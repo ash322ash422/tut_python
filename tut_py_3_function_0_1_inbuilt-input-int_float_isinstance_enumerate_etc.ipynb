{
 "cells": [
  {
   "cell_type": "markdown",
   "metadata": {},
   "source": [
    "### prerequisite: print, strings, list, dictionary"
   ]
  },
  {
   "cell_type": "markdown",
   "metadata": {},
   "source": [
    "# FUNCTION: inbuilt and user-defined\n",
    "\n",
    "**why do we need function?** make your code cleaner, reusable, and easier to manage\n",
    "\n",
    "## in built function:\n",
    "Examples of in built fn: \n",
    "- **print, input, int, float, len, range, type, isinstance, enumerate, list, tuple, dict, map, filter, any, sorted** etc\n",
    "- we will look at few of them\n"
   ]
  },
  {
   "cell_type": "markdown",
   "metadata": {},
   "source": [
    "### input , int, float"
   ]
  },
  {
   "cell_type": "code",
   "execution_count": 2,
   "metadata": {},
   "outputs": [
    {
     "name": "stdout",
     "output_type": "stream",
     "text": [
      "the sum is 12\n"
     ]
    },
    {
     "name": "stdin",
     "output_type": "stream",
     "text": [
      "enter your first number 2\n",
      "enter your second number 7\n"
     ]
    },
    {
     "name": "stdout",
     "output_type": "stream",
     "text": [
      "you entered 2 and 7\n",
      "The type of a is <class 'str'>. The type of b is <class 'str'>\n",
      "Your sum is 27\n"
     ]
    }
   ],
   "source": [
    "# STEP1: User does not supply input\n",
    "a = 5\n",
    "b = 7\n",
    "ans = a + b\n",
    "\n",
    "print(f\"the sum is {ans}\")\n",
    "\n",
    "#################\n",
    "# STEP2: We want user to input data. Now user supplies input ( but output is not what was desired )\n",
    "\n",
    "a = input(\"enter your first number:\") # here a is str\n",
    "b = input(\"enter your second number:\") # here b is str\n",
    "\n",
    "# Lets print what the user entered\n",
    "print(f\"you entered {a} and {b}\")\n",
    "print(f\"The type of a is {type(a)}. The type of b is {type(b)}\")\n",
    "\n",
    "# And add the numbers\n",
    "ans = a + b # concatenates the string\n",
    "print(f\"Your sum is {ans}\") # ANSWER IS WRONG"
   ]
  },
  {
   "cell_type": "code",
   "execution_count": 7,
   "metadata": {},
   "outputs": [
    {
     "name": "stdout",
     "output_type": "stream",
     "text": [
      "Your sum is 8\n"
     ]
    }
   ],
   "source": [
    "# STEP3: convert a, b into data-type int using type casting\n",
    "a = input(\"enter your first number:\") # here a is str\n",
    "b = input(\"enter your second number:\") # here b is str\n",
    "\n",
    "a = int(a) # type cast\n",
    "b = int(b) # type cast\n",
    "\n",
    "ans = a + b\n",
    "\n",
    "print(f\"Your sum is {ans}\") # ANSWER IS RIGHT"
   ]
  },
  {
   "cell_type": "code",
   "execution_count": null,
   "metadata": {},
   "outputs": [],
   "source": [
    "# STEP4: convert a, b into data-type int directly: Let's combine/wrap int on input: \n",
    "a = int(input(\"enter your first number:\")) # here a is int\n",
    "b = int(input(\"enter your second number:\")) # here b is int\n",
    "\n",
    "ans = a + b\n",
    "\n",
    "print(f\"Your sum is {ans}\") # ANSWER IS RIGHT"
   ]
  },
  {
   "cell_type": "code",
   "execution_count": 2,
   "metadata": {},
   "outputs": [
    {
     "name": "stdin",
     "output_type": "stream",
     "text": [
      "enter your first number: 3\n",
      "enter your second number: 6\n"
     ]
    },
    {
     "name": "stdout",
     "output_type": "stream",
     "text": [
      "Your product is 18\n"
     ]
    }
   ],
   "source": [
    "# Now I can perform all arithmetic operation on user supplied\n",
    "# numbers: multiply, divide, etc\n",
    "\n",
    "a = int(input(\"enter your first number:\")) # here a is int\n",
    "b = int(input(\"enter your second number:\")) # here b is int\n",
    "\n",
    "ans = a * b\n",
    "\n",
    "print(f\"Your product is {ans}\") # ANSWER IS RIGHT"
   ]
  },
  {
   "cell_type": "code",
   "execution_count": 3,
   "metadata": {},
   "outputs": [
    {
     "name": "stdin",
     "output_type": "stream",
     "text": [
      "enter your first number 4\n",
      "enter your second number 6\n"
     ]
    },
    {
     "name": "stdout",
     "output_type": "stream",
     "text": [
      "you entered 4.0 and 6.0\n",
      "Your product is 24.0\n"
     ]
    },
    {
     "data": {
      "text/plain": [
       "float"
      ]
     },
     "execution_count": 3,
     "metadata": {},
     "output_type": "execute_result"
    }
   ],
   "source": [
    "# Now user supplies input with float values.\n",
    "a = float(input(\"enter your first number\"))\n",
    "b = float(input(\"enter your second number\"))\n",
    "\n",
    "ans = a * b\n",
    "\n",
    "print(f\"you entered {a} and {b}\")\n",
    "print(f\"Your product is {ans}\")\n",
    "\n",
    "# type(ans)"
   ]
  },
  {
   "cell_type": "code",
   "execution_count": 4,
   "metadata": {},
   "outputs": [
    {
     "ename": "ValueError",
     "evalue": "invalid literal for int() with base 10: 'heebie-jeebie'",
     "output_type": "error",
     "traceback": [
      "\u001b[1;31m---------------------------------------------------------------------------\u001b[0m",
      "\u001b[1;31mValueError\u001b[0m                                Traceback (most recent call last)",
      "Cell \u001b[1;32mIn[4], line 3\u001b[0m\n\u001b[0;32m      1\u001b[0m \u001b[38;5;66;03m# NOTE: We can convert only numbers to int...not text charaters\u001b[39;00m\n\u001b[0;32m      2\u001b[0m a \u001b[38;5;241m=\u001b[39m \u001b[38;5;124m\"\u001b[39m\u001b[38;5;124mheebie-jeebie\u001b[39m\u001b[38;5;124m\"\u001b[39m\n\u001b[1;32m----> 3\u001b[0m x \u001b[38;5;241m=\u001b[39m \u001b[38;5;28;43mint\u001b[39;49m\u001b[43m(\u001b[49m\u001b[43ma\u001b[49m\u001b[43m)\u001b[49m \u001b[38;5;66;03m# ERROR\u001b[39;00m\n\u001b[0;32m      5\u001b[0m \u001b[38;5;28mprint\u001b[39m(x)\n",
      "\u001b[1;31mValueError\u001b[0m: invalid literal for int() with base 10: 'heebie-jeebie'"
     ]
    }
   ],
   "source": [
    "# NOTE: We can convert only numbers to int...not text charaters\n",
    "# a = \"heebie-jeebie\" # ERROR\n",
    "a = \"11\"\n",
    "\n",
    "x = int(a) \n",
    "\n",
    "print(x)"
   ]
  },
  {
   "cell_type": "markdown",
   "metadata": {},
   "source": [
    "### len\n",
    "length of list, string, tuple, set, dictionary,etc"
   ]
  },
  {
   "cell_type": "code",
   "execution_count": 7,
   "metadata": {},
   "outputs": [
    {
     "name": "stdout",
     "output_type": "stream",
     "text": [
      "4\n",
      "4\n",
      "3\n",
      "3\n"
     ]
    }
   ],
   "source": [
    "fruits = [\"Guava\", \"Kiwi\", \"Mango\", \"Kiwi\" ] # list\n",
    "print(len(fruits))\n",
    "\n",
    "fruits = (\"Guava\", \"Kiwi\", \"Mango\", \"Kiwi\") # tuple\n",
    "print(len(fruits))\n",
    "\n",
    "fruits = {\"Guava\", \"Kiwi\", \"Mango\"} # set\n",
    "print(len(fruits))\n",
    "\n",
    "scores = {\n",
    "    'Smith': 23,\n",
    "    'Sharma': 34,\n",
    "    'Lee': 23,\n",
    "}\n",
    "print(len(scores))"
   ]
  },
  {
   "cell_type": "markdown",
   "metadata": {},
   "source": [
    "## isinstance\n",
    "It checks whether the **type of data** is str, int, float, list, set, dict, etc...then it return boolean variable, True/False"
   ]
  },
  {
   "cell_type": "code",
   "execution_count": 43,
   "metadata": {},
   "outputs": [
    {
     "name": "stdout",
     "output_type": "stream",
     "text": [
      "Is 10 an integer? True\n",
      "Is 'Hello' a string? True\n",
      "Is [1, 2, 3] a list? True\n",
      "Is 3.14 an integer or a float? True\n",
      "Is {'name': 'Alice', 'age': 30} a dictionary? True\n",
      "Is {1, 2, 3} a set? True\n",
      "Is [1, 2, 3] a mutable sequence? True\n"
     ]
    }
   ],
   "source": [
    "# Example 1: Checking if a variable is an integer\n",
    "data = 10\n",
    "check = isinstance(data, int)\n",
    "print(f\"Is {data} an integer? {check}\")  # Output: Is 10 an integer? True\n",
    "#########################\n",
    "\n",
    "# Example 2: Checking if a variable is a string\n",
    "data = \"Hello\"\n",
    "check = isinstance(data, str)\n",
    "print(f\"Is '{data}' a string? {check}\")  # Output: Is 'Hello' a string? True\n",
    "#########################\n",
    "\n",
    "# Example 3: Checking if a variable is a list\n",
    "data = [1, 2, 3]\n",
    "check = isinstance(data, list)\n",
    "print(f\"Is {data} a list? {check}\")  # Output: Is [1, 2, 3] a list? True\n",
    "#########################\n",
    "\n",
    "# Example 4: Checking if a variable is either an integer or a float\n",
    "data = 3.14\n",
    "check = isinstance(data, (int, float))\n",
    "print(f\"Is {data} an integer or a float? {check}\")  # Output: Is 3.14 an integer or a float? True\n",
    "#########################\n",
    "\n",
    "# Example 1: Checking if a variable is a dictionary\n",
    "data = {\"name\": \"Alice\", \"age\": 30}\n",
    "check = isinstance(data, dict)\n",
    "print(f\"Is {data} a dictionary? {check}\")  # Output: Is {'name': 'Alice', 'age': 30} a dictionary? True\n",
    "#########################\n",
    "\n",
    "# Example 2: Checking if a variable is a set\n",
    "data = {1, 2, 3}\n",
    "check = isinstance(data, set)\n",
    "print(f\"Is {data} a set? {check}\")  # Output: Is {1, 2, 3} a set? True\n",
    "#########################"
   ]
  },
  {
   "cell_type": "code",
   "execution_count": 8,
   "metadata": {},
   "outputs": [
    {
     "name": "stdout",
     "output_type": "stream",
     "text": [
      "Is [1, 2, 3] a mutable sequence? True\n",
      "Is bytearray(b'hello') a mutable sequence? True\n"
     ]
    }
   ],
   "source": [
    "# SKIP\n",
    "# Example 4: Checking if a variable is a mutable sequence (list or bytearray)\n",
    "data = [1, 2, 3]\n",
    "check = isinstance(data, (list, bytearray))\n",
    "print(f\"Is {data} a mutable sequence? {check}\") # Output: Is [1, 2, 3] a mutable sequence? True\n",
    "\n",
    "mutable_bytearray = bytearray(b'hello')\n",
    "is_mutable_sequence_bytearray = isinstance(mutable_bytearray, (list, bytearray))\n",
    "print(f\"Is {mutable_bytearray} a mutable sequence? {is_mutable_sequence_bytearray}\") # Output: Is bytearray(b'hello') a mutable sequence? True"
   ]
  },
  {
   "cell_type": "markdown",
   "metadata": {},
   "source": [
    "# enumerate"
   ]
  },
  {
   "cell_type": "code",
   "execution_count": 2,
   "metadata": {},
   "outputs": [
    {
     "name": "stdout",
     "output_type": "stream",
     "text": [
      "Item: cherry\n",
      "Item: kiwi\n",
      "Item: banana\n",
      "Index: 1 | Item: cherry\n",
      "Index: 2 | Item: kiwi\n",
      "Index: 3 | Item: banana\n",
      "#######################\n",
      "Index: 1 | Item: cherry\n",
      "Index: 2 | Item: kiwi\n",
      "Index: 3 | Item: banana\n"
     ]
    }
   ],
   "source": [
    "sequence = ['cherry', 'kiwi', 'banana']\n",
    "\n",
    "#STEP1: without enumerate:\n",
    "for e in sequence:\n",
    "    print(f\"Item: {e}\")\n",
    "\n",
    "# STEP2: I want to put numbers in  front of data that is being printed, i.e. I want to enumerate\n",
    "i = 1\n",
    "for e in sequence:\n",
    "    print(f\"Index: {i} | Item: {e}\")\n",
    "    i += 1\n",
    "\n",
    "print(\"#######################\")\n",
    "# STEP3: Lets use enumerate function\n",
    "for i,e in enumerate(sequence, start=1):\n",
    "    print(f\"Index: {i} | Item: {e}\")"
   ]
  },
  {
   "cell_type": "code",
   "execution_count": 3,
   "metadata": {},
   "outputs": [
    {
     "name": "stdout",
     "output_type": "stream",
     "text": [
      "Index: 1 | Item: H\n",
      "Index: 2 | Item: e\n",
      "Index: 3 | Item: l\n",
      "Index: 4 | Item: l\n",
      "Index: 5 | Item: o\n",
      "Index: 6 | Item:  \n",
      "Index: 7 | Item: y\n",
      "Index: 8 | Item: o\n",
      "Index: 9 | Item: u\n"
     ]
    }
   ],
   "source": [
    "# The sequence could be list, tuple, set, dict\n",
    "\n",
    "# sequence = ['cherry', 'kiwi', 'banana']\n",
    "# sequence = ('cherry', 'kiwi', 'banana')\n",
    "# sequence = {'cherry', 'kiwi', 'banana', 'banana'}\n",
    "sequence = \"Hello you\"\n",
    "\n",
    "# student_scores = {\"Ram\": 85, \n",
    "#                   \"Carlos\": 92, \n",
    "#                   \"Roman\": 78\n",
    "# }\n",
    "# sequence = student_scores.items()\n",
    "\n",
    "for i,e in enumerate(sequence, start=1):\n",
    "    print(f\"Index: {i} | Item: {e}\")"
   ]
  },
  {
   "cell_type": "markdown",
   "metadata": {},
   "source": [
    "# STOP"
   ]
  },
  {
   "cell_type": "code",
   "execution_count": null,
   "metadata": {},
   "outputs": [],
   "source": []
  },
  {
   "cell_type": "code",
   "execution_count": null,
   "metadata": {},
   "outputs": [],
   "source": []
  },
  {
   "cell_type": "code",
   "execution_count": null,
   "metadata": {},
   "outputs": [],
   "source": []
  },
  {
   "cell_type": "code",
   "execution_count": 12,
   "metadata": {},
   "outputs": [
    {
     "name": "stdin",
     "output_type": "stream",
     "text": [
      "enter your first name:  ash\n",
      "enter your last name:  gerry\n"
     ]
    },
    {
     "name": "stdout",
     "output_type": "stream",
     "text": [
      "The full name is: ash gerry ☀\n"
     ]
    }
   ],
   "source": [
    "# (SKIP): OPTIONAL Another example of input:\n",
    "# first_name = 'ash'\n",
    "# last_name = 'kumar'\n",
    "\n",
    "# full_name = first_name + \"----   ++ \" + last_name   + \"\\u2600\"\n",
    "\n",
    "# print(\"The full name is:\", full_name)\n",
    "# print(\"######################\")\n",
    "\n",
    "first_name = input(\"enter your first name: \")\n",
    "last_name  = input(\"enter your last name: \")\n",
    "\n",
    "full_name = first_name + \" \" + last_name + \" \\u2600\"\n",
    "\n",
    "print(\"The full name is:\", full_name)"
   ]
  },
  {
   "cell_type": "code",
   "execution_count": 53,
   "metadata": {},
   "outputs": [
    {
     "name": "stdout",
     "output_type": "stream",
     "text": [
      "At even index 0: 10\n",
      "At even index 2: 5\n",
      "At even index 4: 15\n",
      "'Tommy' found at index: 3\n"
     ]
    }
   ],
   "source": [
    "# SKIP ############APPLICATION1\n",
    "# Filtering Elements Based on Index\n",
    "data = [10, 25, 5, 30, 15, 40]\n",
    "\n",
    "for i,value in enumerate(data):\n",
    "    if i % 2 == 0:  # Process only elements at even indices\n",
    "        print(f\"At even index {i}: {value}\")\n",
    "\n",
    "\n",
    "############APPLICATION2\n",
    "# Finding the Index of a specific element in a list\n",
    "names = [\"Harsh\", \"Khan\", \"Charlie\", \"Tommy\", \"Patel\", \"Gupta\", \"Tommy\"]\n",
    "search_name =  \"Tommy\" # \"Charlie\"\n",
    "\n",
    "\n",
    "found_index = -1  # Initialize to a value indicating not found\n",
    "for i,name in enumerate(names):\n",
    "    if name == search_name:\n",
    "        found_index = i\n",
    "        break  # Exit the loop once found\n",
    "\n",
    "\n",
    "if found_index != -1:\n",
    "    print(f\"'{search_name}' found at index: {found_index}\")\n",
    "else:\n",
    "    print(f\"'{search_name}' not found in the list.\""
   ]
  },
  {
   "cell_type": "code",
   "execution_count": null,
   "metadata": {},
   "outputs": [],
   "source": [
    "# sorted\n",
    "l = [5, 0, 3, 9, 1]\n",
    "sorted_l = sorted(l)\n",
    "print(l)"
   ]
  },
  {
   "cell_type": "code",
   "execution_count": null,
   "metadata": {},
   "outputs": [],
   "source": []
  },
  {
   "cell_type": "code",
   "execution_count": null,
   "metadata": {},
   "outputs": [],
   "source": []
  },
  {
   "cell_type": "code",
   "execution_count": null,
   "metadata": {},
   "outputs": [],
   "source": []
  },
  {
   "cell_type": "code",
   "execution_count": null,
   "metadata": {},
   "outputs": [],
   "source": []
  },
  {
   "cell_type": "code",
   "execution_count": null,
   "metadata": {},
   "outputs": [],
   "source": []
  },
  {
   "cell_type": "code",
   "execution_count": null,
   "metadata": {},
   "outputs": [],
   "source": []
  }
 ],
 "metadata": {
  "kernelspec": {
   "display_name": "Python 3 (ipykernel)",
   "language": "python",
   "name": "python3"
  },
  "language_info": {
   "codemirror_mode": {
    "name": "ipython",
    "version": 3
   },
   "file_extension": ".py",
   "mimetype": "text/x-python",
   "name": "python",
   "nbconvert_exporter": "python",
   "pygments_lexer": "ipython3",
   "version": "3.9.9"
  }
 },
 "nbformat": 4,
 "nbformat_minor": 4
}
