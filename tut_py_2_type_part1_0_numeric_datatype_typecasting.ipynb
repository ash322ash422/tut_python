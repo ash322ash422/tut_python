{
 "cells": [
  {
   "cell_type": "markdown",
   "id": "664d2660-f76d-4e4b-80f6-e24b12def069",
   "metadata": {},
   "source": [
    "## Numeric Types\n",
    "**int** → Whole numbers: x = 10, -4, 7, 89,\n",
    "\n",
    "**float** → Decimal numbers: y = 10.5, -54.789, 3.567\n",
    "\n",
    "**complex** → Complex numbers: z = 3 + 4j , -1 + 2j, etc"
   ]
  },
  {
   "cell_type": "code",
   "execution_count": 4,
   "id": "f6bdaf07-053b-480f-be7a-599d5a7a0a53",
   "metadata": {},
   "outputs": [
    {
     "name": "stdout",
     "output_type": "stream",
     "text": [
      "<class 'int'>\n",
      "type of a is <class 'int'>\n",
      "type of b is <class 'int'>\n",
      "type of c is <class 'float'>\n",
      "type of d is <class 'complex'>\n"
     ]
    }
   ],
   "source": [
    "a = 10\n",
    "b = 3\n",
    "c = 1.2\n",
    "d = 1 + 2j\n",
    "\n",
    "print(type(a))\n",
    "\n",
    "# Lets print above using f-string\n",
    "print(f\"type of a is {type(a)}\")\n",
    "print(f\"type of b is {type(b)}\")\n",
    "print(f\"type of c is {type(c)}\")\n",
    "print(f\"type of d is {type(d)}\")"
   ]
  },
  {
   "cell_type": "markdown",
   "id": "887b2a68-8614-4a09-a908-e870d0afcb46",
   "metadata": {},
   "source": [
    "## 1. Integer (int) Operations"
   ]
  },
  {
   "cell_type": "code",
   "execution_count": 1,
   "id": "e4f14afc-4aa4-463b-9b8d-d7b5d5b6dbda",
   "metadata": {},
   "outputs": [
    {
     "name": "stdout",
     "output_type": "stream",
     "text": [
      "addition:22\n",
      "subtraction: 12\n",
      "multiplication:85\n",
      "3.4\n",
      "3\n",
      "2\n",
      "1419857\n"
     ]
    }
   ],
   "source": [
    "a = 17 # apple\n",
    "b = 5 \n",
    "\n",
    "res = a + b\n",
    "print(f\"addition:{res}\")   # Addition → 13\n",
    "\n",
    "res = a - b\n",
    "print(f\"subtraction: {res}\")   # Subtraction → 7\n",
    "\n",
    "res = a * b # apple * price_of_apple\n",
    "print(f\"multiplication:{res}\")   # Multiplication → 30\n",
    "\n",
    "# I can perform calculation directly inside print method\n",
    "print(a / b)   # Division → 3.3333\n",
    "print(a // b)  # Floor Division → 3\n",
    "print(a % b)   # Modulus (Remainder) → 1\n",
    "print(a ** b)  # Exponentiation → 1000 (10^3)"
   ]
  },
  {
   "cell_type": "markdown",
   "id": "236d4908-a5ee-444b-848d-1c7e90405037",
   "metadata": {},
   "source": [
    "### 2. Float (float) Operations"
   ]
  },
  {
   "cell_type": "code",
   "execution_count": 8,
   "id": "843ccf58-029d-40b8-a656-279d3532305a",
   "metadata": {},
   "outputs": [
    {
     "name": "stdout",
     "output_type": "stream",
     "text": [
      "4.0\n",
      "0.5\n",
      "357.2508309997333\n"
     ]
    }
   ],
   "source": [
    "x = 10.5\n",
    "y = 2.5\n",
    "\n",
    "# print(x + y)   # Addition → 13.0\n",
    "# print(x - y)   # Subtraction → 8.0\n",
    "# print(x * y)   # Multiplication → 26.25\n",
    "# print(x / y)   # Division → 4.2\n",
    "\n",
    "print(x // y)  # Floor Division → 4.0\n",
    "print(x % y)   # Modulus(Remainder) → 0.5\n",
    "print(x ** y)  # Exponentiation → 237.3046875\n"
   ]
  },
  {
   "cell_type": "markdown",
   "id": "4dd4bdfb-8590-4d42-9e59-eff52a8e3973",
   "metadata": {},
   "source": [
    "### 3. Complex Number (complex) Operations"
   ]
  },
  {
   "cell_type": "code",
   "execution_count": 5,
   "id": "eb2dd042-5837-4036-82f0-499f5bf43341",
   "metadata": {},
   "outputs": [
    {
     "name": "stdout",
     "output_type": "stream",
     "text": [
      "(4+6j)\n",
      "(2+2j)\n",
      "(-5+10j)\n",
      "(2.2-0.4j)\n",
      "5.0\n"
     ]
    }
   ],
   "source": [
    "c1 = 3 + 4j\n",
    "c2 = 1 + 2j\n",
    "\n",
    "print(c1 + c2)   # Addition → (4+6j)\n",
    "print(c1 - c2)   # Subtraction → (2+2j)\n",
    "print(c1 * c2)   # Multiplication → (-5+10j)\n",
    "print(c1 / c2)   # Division → (2.2-0.4j)\n",
    "print(abs(c1))   # Magnitude (modulus) → 5.0"
   ]
  },
  {
   "cell_type": "markdown",
   "id": "7b8f6cae",
   "metadata": {},
   "source": [
    "# convert str to int or float"
   ]
  },
  {
   "cell_type": "code",
   "execution_count": null,
   "id": "58eb509f",
   "metadata": {},
   "outputs": [
    {
     "name": "stdout",
     "output_type": "stream",
     "text": [
      "<class 'str'>\n",
      "<class 'int'>\n",
      "1.0\n"
     ]
    }
   ],
   "source": [
    "# step1: \n",
    "x = \"10\"\n",
    "print(type(x))\n",
    "# print(x / 10) # ERROR\n",
    "\n",
    "\n",
    "# step2: now convert str into int\n",
    "x = int(x) # or float(x)\n",
    "print(type(x))\n",
    "print(x / 10) "
   ]
  },
  {
   "cell_type": "markdown",
   "id": "a6c4d3b5-63ae-46ad-bec9-39597faebd5b",
   "metadata": {},
   "source": [
    "# convert float to int"
   ]
  },
  {
   "cell_type": "code",
   "execution_count": 1,
   "id": "aacdb27e-4590-4149-84bc-92fd0ba21f88",
   "metadata": {},
   "outputs": [
    {
     "name": "stdout",
     "output_type": "stream",
     "text": [
      "10\n"
     ]
    }
   ],
   "source": [
    "# convert float -> int\n",
    "x = 10.5 # float\n",
    "\n",
    "x = int(x) # covert it into int\n",
    "print(x)"
   ]
  },
  {
   "cell_type": "markdown",
   "id": "c5406197-c653-4f6d-939b-5720e9641b4b",
   "metadata": {},
   "source": [
    "### 4. Mixed Operations (int + float)"
   ]
  },
  {
   "cell_type": "code",
   "execution_count": null,
   "id": "2f8d30e0-fad1-45cc-a84b-636c2d6a153f",
   "metadata": {},
   "outputs": [
    {
     "name": "stdout",
     "output_type": "stream",
     "text": [
      "7.5\n",
      "<class 'float'>\n"
     ]
    }
   ],
   "source": [
    "num1 = 5      # int\n",
    "num2 = 2.5    # float\n",
    "\n",
    "print(num1 + num2)   \n",
    "print(type(num1 + num2))\n"
   ]
  },
  {
   "cell_type": "markdown",
   "id": "07c2252a",
   "metadata": {},
   "source": [
    "### 5. Mixed Operations (int + float+ complex)"
   ]
  },
  {
   "cell_type": "code",
   "execution_count": 2,
   "id": "fb4190fc",
   "metadata": {},
   "outputs": [
    {
     "name": "stdout",
     "output_type": "stream",
     "text": [
      "(5+15j)\n",
      "<class 'complex'>\n",
      "(3.5+3j)\n",
      "<class 'complex'>\n"
     ]
    }
   ],
   "source": [
    "num1 = 5      # int\n",
    "num2 = 2.5    # float\n",
    "num3 = 1 + 3j # complex\n",
    "\n",
    "print(num1 * num3)   # int * complex -> complex\n",
    "print(type(num1 * num3))\n",
    "\n",
    "print(num2 * num3)  # float * complex -> complex\n",
    "print(type(num2 + num3))   "
   ]
  },
  {
   "cell_type": "code",
   "execution_count": null,
   "id": "aa1d0b94-6293-41ef-bbc4-47f16e83ac25",
   "metadata": {},
   "outputs": [],
   "source": []
  }
 ],
 "metadata": {
  "kernelspec": {
   "display_name": "Python 3 (ipykernel)",
   "language": "python",
   "name": "python3"
  },
  "language_info": {
   "codemirror_mode": {
    "name": "ipython",
    "version": 3
   },
   "file_extension": ".py",
   "mimetype": "text/x-python",
   "name": "python",
   "nbconvert_exporter": "python",
   "pygments_lexer": "ipython3",
   "version": "3.9.9"
  }
 },
 "nbformat": 4,
 "nbformat_minor": 5
}
