{
 "cells": [
  {
   "cell_type": "markdown",
   "id": "a664e953-82bd-4f6d-af0d-95c2972f355d",
   "metadata": {},
   "source": [
    "# Binary Types\n",
    "Here are real-world examples of Binary Types in Python, including bytes, bytearray, and memoryview. These types are used for handling binary data, such as files, network communication, and encryption.\n",
    "\n",
    "### 1️. bytes (Immutable Binary Data)\n",
    "Scenario: Storing a binary representation of a string."
   ]
  },
  {
   "cell_type": "code",
   "execution_count": 6,
   "id": "46101d84-a3f4-456f-b42a-f5e3857f9c39",
   "metadata": {},
   "outputs": [
    {
     "name": "stdout",
     "output_type": "stream",
     "text": [
      "b'Hollow'\n",
      "111111111111111\n",
      "\n",
      "72\n",
      "111\n",
      "108\n",
      "108\n",
      "111\n",
      "2222222222222222\n",
      "\n",
      "Hollow\n"
     ]
    }
   ],
   "source": [
    "# Creating a bytes object from a string\n",
    "text = \"Hollow\"\n",
    "binary_data = bytes(text, \"utf-8\")\n",
    "\n",
    "print(binary_data)  \n",
    "print(\"111111111111111\\n\")\n",
    "\n",
    "# Accessing individual bytes\n",
    "print(binary_data[0]) # for H\n",
    "print(binary_data[1]) # for o\n",
    "print(binary_data[2]) # for l\n",
    "print(binary_data[3]) # for l\n",
    "print(binary_data[4]) # for o\n",
    "print(\"2222222222222222\\n\")\n",
    "\n",
    "# Converting bytes back to string\n",
    "print(binary_data.decode(\"utf-8\"))  \n"
   ]
  },
  {
   "cell_type": "markdown",
   "id": "747eb341-7274-48e0-89e9-936c64f78898",
   "metadata": {},
   "source": [
    "### 2️. bytearray (Mutable Binary Data)\n",
    "Scenario: Modifying binary data (e.g., changing an image header)."
   ]
  },
  {
   "cell_type": "code",
   "execution_count": 7,
   "id": "16e1b0c5-c14c-465b-ae68-a957136984a8",
   "metadata": {},
   "outputs": [
    {
     "name": "stdout",
     "output_type": "stream",
     "text": [
      "bytearray(b'hello')\n",
      "hello\n"
     ]
    }
   ],
   "source": [
    "# Creating a mutable bytearray\n",
    "data = bytearray(b\"Hello\")\n",
    "\n",
    "# Modifying the first byte (ASCII value of 'H' → 'h')\n",
    "data[0] = ord('h')  \n",
    "\n",
    "print(data)   # Output: bytearray(b'hello')\n",
    "\n",
    "# Converting bytearray back to string\n",
    "print(data.decode(\"utf-8\"))  # Output: \"hello\"\n"
   ]
  },
  {
   "cell_type": "markdown",
   "id": "e061ffa3-d019-4be1-ba34-81a6bac9e324",
   "metadata": {},
   "source": [
    "### 3️. memoryview (Efficient Memory Handling)\n",
    "Scenario: Viewing and slicing a binary buffer without copying data.\n",
    "\n",
    "Use memoryview for efficient operations on large binary files without unnecessary copying."
   ]
  },
  {
   "cell_type": "code",
   "execution_count": 8,
   "id": "a9e6193a-75d9-4fde-9c38-38335679dc08",
   "metadata": {},
   "outputs": [
    {
     "name": "stdout",
     "output_type": "stream",
     "text": [
      "b'Pyt'\n",
      "bytearray(b'Jython')\n"
     ]
    }
   ],
   "source": [
    "# Creating a memoryview of a bytearray\n",
    "data = bytearray(b\"Python\")\n",
    "view = memoryview(data)\n",
    "\n",
    "# Slicing the memoryview (first 3 bytes)\n",
    "print(view[:3].tobytes())  # Output: b'Pyt'\n",
    "\n",
    "# Modifying the underlying bytearray via memoryview\n",
    "view[0] = ord('J')  \n",
    "\n",
    "print(data)  # Output: bytearray(b'Jython')  (Original bytearray is modified)\n"
   ]
  },
  {
   "cell_type": "markdown",
   "id": "1323aa74-2173-4c09-bc49-0ce04f53d1d6",
   "metadata": {},
   "source": [
    "### 4️. Reading a Binary File Using bytes\n",
    "Scenario: Reading the first 10 bytes of an image file."
   ]
  },
  {
   "cell_type": "code",
   "execution_count": 9,
   "id": "6c9428c8-69c8-4aec-a98e-5c1c9168be14",
   "metadata": {},
   "outputs": [
    {
     "ename": "FileNotFoundError",
     "evalue": "[Errno 2] No such file or directory: 'image.jpg'",
     "output_type": "error",
     "traceback": [
      "\u001b[1;31m---------------------------------------------------------------------------\u001b[0m",
      "\u001b[1;31mFileNotFoundError\u001b[0m                         Traceback (most recent call last)",
      "Cell \u001b[1;32mIn[9], line 1\u001b[0m\n\u001b[1;32m----> 1\u001b[0m \u001b[38;5;28;01mwith\u001b[39;00m \u001b[38;5;28;43mopen\u001b[39;49m\u001b[43m(\u001b[49m\u001b[38;5;124;43m\"\u001b[39;49m\u001b[38;5;124;43mimage.jpg\u001b[39;49m\u001b[38;5;124;43m\"\u001b[39;49m\u001b[43m,\u001b[49m\u001b[43m \u001b[49m\u001b[38;5;124;43m\"\u001b[39;49m\u001b[38;5;124;43mrb\u001b[39;49m\u001b[38;5;124;43m\"\u001b[39;49m\u001b[43m)\u001b[49m \u001b[38;5;28;01mas\u001b[39;00m file:\n\u001b[0;32m      2\u001b[0m     binary_data \u001b[38;5;241m=\u001b[39m file\u001b[38;5;241m.\u001b[39mread(\u001b[38;5;241m10\u001b[39m)  \u001b[38;5;66;03m# Read first 10 bytes\u001b[39;00m\n\u001b[0;32m      4\u001b[0m \u001b[38;5;28mprint\u001b[39m(binary_data)  \n",
      "File \u001b[1;32mc:\\Users\\hi\\Desktop\\projects\\python_projects\\tutorial\\tut_tensorflow\\.venv\\Lib\\site-packages\\IPython\\core\\interactiveshell.py:324\u001b[0m, in \u001b[0;36m_modified_open\u001b[1;34m(file, *args, **kwargs)\u001b[0m\n\u001b[0;32m    317\u001b[0m \u001b[38;5;28;01mif\u001b[39;00m file \u001b[38;5;129;01min\u001b[39;00m {\u001b[38;5;241m0\u001b[39m, \u001b[38;5;241m1\u001b[39m, \u001b[38;5;241m2\u001b[39m}:\n\u001b[0;32m    318\u001b[0m     \u001b[38;5;28;01mraise\u001b[39;00m \u001b[38;5;167;01mValueError\u001b[39;00m(\n\u001b[0;32m    319\u001b[0m         \u001b[38;5;124mf\u001b[39m\u001b[38;5;124m\"\u001b[39m\u001b[38;5;124mIPython won\u001b[39m\u001b[38;5;124m'\u001b[39m\u001b[38;5;124mt let you open fd=\u001b[39m\u001b[38;5;132;01m{\u001b[39;00mfile\u001b[38;5;132;01m}\u001b[39;00m\u001b[38;5;124m by default \u001b[39m\u001b[38;5;124m\"\u001b[39m\n\u001b[0;32m    320\u001b[0m         \u001b[38;5;124m\"\u001b[39m\u001b[38;5;124mas it is likely to crash IPython. If you know what you are doing, \u001b[39m\u001b[38;5;124m\"\u001b[39m\n\u001b[0;32m    321\u001b[0m         \u001b[38;5;124m\"\u001b[39m\u001b[38;5;124myou can use builtins\u001b[39m\u001b[38;5;124m'\u001b[39m\u001b[38;5;124m open.\u001b[39m\u001b[38;5;124m\"\u001b[39m\n\u001b[0;32m    322\u001b[0m     )\n\u001b[1;32m--> 324\u001b[0m \u001b[38;5;28;01mreturn\u001b[39;00m \u001b[43mio_open\u001b[49m\u001b[43m(\u001b[49m\u001b[43mfile\u001b[49m\u001b[43m,\u001b[49m\u001b[43m \u001b[49m\u001b[38;5;241;43m*\u001b[39;49m\u001b[43margs\u001b[49m\u001b[43m,\u001b[49m\u001b[43m \u001b[49m\u001b[38;5;241;43m*\u001b[39;49m\u001b[38;5;241;43m*\u001b[39;49m\u001b[43mkwargs\u001b[49m\u001b[43m)\u001b[49m\n",
      "\u001b[1;31mFileNotFoundError\u001b[0m: [Errno 2] No such file or directory: 'image.jpg'"
     ]
    }
   ],
   "source": [
    "with open(\"image.jpg\", \"rb\") as file:\n",
    "    binary_data = file.read(10)  # Read first 10 bytes\n",
    "\n",
    "print(binary_data)  \n",
    "# Output: b'\\xff\\xd8\\xff\\xe0\\x00\\x10JFIF'  (Example JPEG header)\n"
   ]
  },
  {
   "cell_type": "markdown",
   "id": "8950c477-cc99-47bc-bc64-b855dac1344e",
   "metadata": {},
   "source": [
    "### 5️. Writing and Modifying a Binary File Using bytearray\n",
    "Scenario: Modifying a binary file (e.g., changing metadata)."
   ]
  },
  {
   "cell_type": "code",
   "execution_count": null,
   "id": "90fe8973-8c51-45be-ba2d-3ae52a8e5aa6",
   "metadata": {},
   "outputs": [],
   "source": [
    "# Writing binary data to a file\n",
    "with open(\"sample.bin\", \"wb\") as file:\n",
    "    file.write(b'\\x01\\x02\\x03\\x04\\x05\\x06\\x07\\x08\\x09\\x0A')  # 10 bytes of data\n",
    "\n",
    "with open(\"sample.bin\", \"rb\") as file:\n",
    "    data = bytearray(file.read())  # Read file as mutable bytearray\n",
    "\n",
    "data[0] = 0xFF  # Modify the first byte\n",
    "\n",
    "with open(\"sample_modified.bin\", \"wb\") as file:\n",
    "    file.write(data)  # Save the modified binary file\n"
   ]
  },
  {
   "cell_type": "code",
   "execution_count": null,
   "id": "fa6071d1-dfa4-4e07-b3ad-6954442058e9",
   "metadata": {},
   "outputs": [],
   "source": [
    "# Function to read and print binary file as hex\n",
    "def print_binary_file(filename):\n",
    "    with open(filename, \"rb\") as file:\n",
    "        data = file.read()\n",
    "        print(f\"{filename}: {' '.join(f'{byte:02X}' for byte in data)}\")\n",
    "\n",
    "print_binary_file(\"sample.bin\")\n",
    "print_binary_file(\"sample_modified.bin\")"
   ]
  },
  {
   "cell_type": "code",
   "execution_count": null,
   "id": "d66db3e1-5e7e-4b58-a7c7-4766d2f92845",
   "metadata": {},
   "outputs": [],
   "source": []
  }
 ],
 "metadata": {
  "kernelspec": {
   "display_name": "Python 3 (ipykernel)",
   "language": "python",
   "name": "python3"
  },
  "language_info": {
   "codemirror_mode": {
    "name": "ipython",
    "version": 3
   },
   "file_extension": ".py",
   "mimetype": "text/x-python",
   "name": "python",
   "nbconvert_exporter": "python",
   "pygments_lexer": "ipython3",
   "version": "3.11.2"
  }
 },
 "nbformat": 4,
 "nbformat_minor": 5
}
