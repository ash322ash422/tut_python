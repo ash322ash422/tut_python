{
 "cells": [
  {
   "cell_type": "code",
   "execution_count": 2,
   "id": "a7476373",
   "metadata": {},
   "outputs": [
    {
     "name": "stdout",
     "output_type": "stream",
     "text": [
      "An error occurred!\n",
      "Program continues running after the exception.\n"
     ]
    }
   ],
   "source": [
    "# ----------------------------------------\n",
    "# Example 1: Basic try-except structure\n",
    "# ----------------------------------------\n",
    "\n",
    "\"\"\"\n",
    "Demonstrates the most basic form of exception handling with try-except.\n",
    "\"\"\"\n",
    "try:\n",
    "    # Code that might raise an exception\n",
    "    x = 10 / 0  # This will raise a ZeroDivisionError\n",
    "    \n",
    "except:\n",
    "    # This block executes if any exception occurs in the try block\n",
    "    print(\"An error occurred!\")\n",
    "    \n",
    "# Code execution continues here after the except block\n",
    "print(\"Program continues running after the exception.\")\n"
   ]
  },
  {
   "cell_type": "code",
   "execution_count": 2,
   "id": "69310a0d",
   "metadata": {},
   "outputs": [
    {
     "name": "stdin",
     "output_type": "stream",
     "text": [
      "Enter a number:  0\n"
     ]
    },
    {
     "name": "stdout",
     "output_type": "stream",
     "text": [
      "Error: You cannot divide by zero!\n"
     ]
    }
   ],
   "source": [
    "# ----------------------------------------\n",
    "# Example 2: Catching specific exceptions\n",
    "# ----------------------------------------\n",
    "\n",
    "\"\"\"\n",
    "Shows how to catch specific types of exceptions.\n",
    "This is generally preferred over catching all exceptions.\n",
    "\"\"\"\n",
    "try:\n",
    "    # Code that might raise different kinds of exceptions\n",
    "    user_input = input(\"Enter a number: \")\n",
    "    result = 100 / int(user_input)\n",
    "    print(f\"100 divided by {user_input} is {result}\")\n",
    "    \n",
    "except ZeroDivisionError:\n",
    "    # This executes only for division by zero errors\n",
    "    print(\"Error: You cannot divide by zero!\")\n",
    "    \n",
    "except ValueError:\n",
    "    # This executes if int() conversion fails (e.g., if user enters letters)\n",
    "    print(\"Error: You must enter a valid number!\")\n",
    "    \n",
    "except Exception as e:\n",
    "    # This catches any other exceptions not specifically handled above\n",
    "    print(f\"An unexpected error occurred: {e}\")\n",
    "\n"
   ]
  },
  {
   "cell_type": "code",
   "execution_count": 3,
   "id": "5a28095b-d91c-4e3d-976b-36d8038f06cc",
   "metadata": {},
   "outputs": [
    {
     "name": "stdout",
     "output_type": "stream",
     "text": [
      "File content: This is a sample file created by the exception handler.\n",
      "Execution completed. Cleaning up resources...\n",
      "File closed successfully.\n"
     ]
    }
   ],
   "source": [
    "# ----------------------------------------\n",
    "# Example 3: try-except-else-finally\n",
    "# ----------------------------------------\n",
    "\n",
    "\"\"\"\n",
    "Demonstrates the complete try-except-else-finally structure.\n",
    "\"\"\"\n",
    "try:\n",
    "    # Code that might raise an exception\n",
    "    file = open(\"example.txt\", \"r\")\n",
    "    content = file.read()\n",
    "    \n",
    "except FileNotFoundError:\n",
    "    # This executes if the file doesn't exist\n",
    "    print(\"Error: The file 'example.txt' was not found.\")\n",
    "    \n",
    "except IOError:\n",
    "    # This executes for other file-related errors\n",
    "    print(\"Error: There was an issue reading the file.\")\n",
    "    \n",
    "else:\n",
    "    # This executes only if no exceptions were raised in the try block\n",
    "    print(f\"File content: {content}\")\n",
    "    \n",
    "finally:\n",
    "    # This always executes, regardless of whether an exception occurred\n",
    "    # Great for cleanup operations like closing files or network connections\n",
    "    print(\"Execution completed. Cleaning up resources...\")\n",
    "    try:\n",
    "        file.close()\n",
    "        print(\"File closed successfully.\")\n",
    "    except NameError:\n",
    "        # This handles the case where 'file' was never successfully opened\n",
    "        pass\n",
    "\n"
   ]
  },
  {
   "cell_type": "code",
   "execution_count": 11,
   "id": "3a5d1510-8b4a-496a-a776-944d2e315d4e",
   "metadata": {},
   "outputs": [
    {
     "name": "stdout",
     "output_type": "stream",
     "text": [
      "Caught exception: Invalid age value: Age is unrealistically high\n"
     ]
    }
   ],
   "source": [
    "# ----------------------------------------\n",
    "# Example 4: Raising exceptions manually\n",
    "# ----------------------------------------\n",
    "\n",
    "def validate_age(age):\n",
    "    \"\"\"\n",
    "    Demonstrates how to raise exceptions manually.\n",
    "    \n",
    "    Args:\n",
    "        age: The age to validate\n",
    "        \n",
    "    Returns:\n",
    "        A message if age is valid\n",
    "        \n",
    "    Raises:\n",
    "        ValueError: If age is negative\n",
    "        TypeError: If age is not a number\n",
    "    \"\"\"\n",
    "    try:\n",
    "        # Convert to int if it's a string\n",
    "        age_value = int(age)\n",
    "        \n",
    "        # Check if age is valid\n",
    "        if age_value < 0:\n",
    "            raise ValueError(\"Age cannot be negative\")\n",
    "        elif age_value > 150:\n",
    "            raise ValueError(\"Age is unrealistically high\")\n",
    "            \n",
    "        # return f\"Valid age: {age_value}\"\n",
    "        print(f\"Valid age: {age_value}\")\n",
    "        \n",
    "        \n",
    "    except ValueError as e:\n",
    "        # Re-raise with our custom message\n",
    "        raise ValueError(f\"Invalid age value: {e}\")\n",
    "        \n",
    "    except Exception as e:\n",
    "        # Convert any other exception to a TypeError\n",
    "        raise TypeError(f\"Expected a number but got an error: {e}\")\n",
    "\n",
    "\n",
    "if __name__ == \"__main__\":\n",
    "    \n",
    "    try:\n",
    "        result = validate_age(199) #  # change to -4, 190, 72, etc\n",
    "        print(result)\n",
    "        \n",
    "        # These will raise exceptions:\n",
    "        # validate_age(-5)\n",
    "        # validate_age(\"not a number\")\n",
    "    except Exception as e:\n",
    "        print(f\"Caught exception: {e}\")\n",
    "\n"
   ]
  },
  {
   "cell_type": "code",
   "execution_count": 12,
   "id": "b41fe6bb-2847-4c0b-a38b-6677679754f5",
   "metadata": {},
   "outputs": [
    {
     "name": "stdout",
     "output_type": "stream",
     "text": [
      "Banking error: Cannot withdraw $150. Balance is $100, which is $50 short.\n"
     ]
    }
   ],
   "source": [
    "# ----------------------------------------\n",
    "# Example 5: Creating custom exceptions\n",
    "# ----------------------------------------\n",
    "\n",
    "class InsufficientFundsError(Exception):\n",
    "    \"\"\"\n",
    "    Custom exception for bank account operations.\n",
    "    Inheriting from Exception creates a custom exception type.\n",
    "    \"\"\"\n",
    "    def __init__(self, balance, amount):\n",
    "        self.balance = balance\n",
    "        self.amount = amount\n",
    "        self.deficit = amount - balance\n",
    "        # Create a custom error message\n",
    "        message = f\"Cannot withdraw ${amount}. Balance is ${balance}, which is ${self.deficit} short.\"\n",
    "        # Pass the message to the parent Exception class\n",
    "        super().__init__(message)\n",
    "\n",
    "\n",
    "class BankAccount:\n",
    "    \"\"\"Class demonstrating the use of custom exceptions.\"\"\"\n",
    "    \n",
    "    def __init__(self, initial_balance=0):\n",
    "        self.balance = initial_balance\n",
    "        \n",
    "    def deposit(self, amount):\n",
    "        if amount <= 0:\n",
    "            raise ValueError(\"Deposit amount must be positive\")\n",
    "        self.balance += amount\n",
    "        return self.balance\n",
    "        \n",
    "    def withdraw(self, amount):\n",
    "        if amount <= 0:\n",
    "            raise ValueError(\"Withdrawal amount must be positive\")\n",
    "            \n",
    "        if amount > self.balance:\n",
    "            # Raise our custom exception with contextual information\n",
    "            raise InsufficientFundsError(self.balance, amount)\n",
    "            \n",
    "        self.balance -= amount\n",
    "        return self.balance\n",
    "\n",
    "if __name__ == \"__main__\":\n",
    "\n",
    "    account = BankAccount(100)\n",
    "    try:\n",
    "        account.withdraw(150)\n",
    "    except InsufficientFundsError as e:\n",
    "        print(f\"Banking error: {e}\")\n",
    "\n"
   ]
  },
  {
   "cell_type": "code",
   "execution_count": 13,
   "id": "64a0f98c-c3f9-4729-9ee0-5d464d35b9cc",
   "metadata": {},
   "outputs": [
    {
     "name": "stdout",
     "output_type": "stream",
     "text": [
      "File content: This is a sample file created by the exception handler.\n"
     ]
    }
   ],
   "source": [
    "# ----------------------------------------\n",
    "# Example 6: Context managers (with statement)\n",
    "# ----------------------------------------\n",
    "\n",
    "\"\"\"\n",
    "Demonstrates using a context manager (with statement),\n",
    "which handles exceptions and resource cleanup automatically.\n",
    "\"\"\"\n",
    "try:\n",
    "    # The 'with' statement automatically manages resources\n",
    "    # It ensures the file is closed even if an exception occurs\n",
    "    with open(\"example.txt\", \"r\") as file:\n",
    "        content = file.read()\n",
    "        print(f\"File content: {content}\")\n",
    "        # Note: No need to close the file manually\n",
    "        \n",
    "except FileNotFoundError:\n",
    "    print(\"Error: The file doesn't exist.\")\n",
    "    \n",
    "    # Create the file since it doesn't exist\n",
    "    with open(\"example.txt\", \"w\") as file:\n",
    "        file.write(\"This is a sample file created by the exception handler.\")\n",
    "    print(\"Created a new file since it was missing.\")\n"
   ]
  },
  {
   "cell_type": "code",
   "execution_count": 14,
   "id": "73bd36c6-4a34-4db3-b9ca-cdd735482a3a",
   "metadata": {},
   "outputs": [
    {
     "name": "stdout",
     "output_type": "stream",
     "text": [
      "Starting calculation process...\n"
     ]
    },
    {
     "name": "stdin",
     "output_type": "stream",
     "text": [
      "Enter first number:  2\n",
      "Enter second number:  0\n"
     ]
    },
    {
     "name": "stdout",
     "output_type": "stream",
     "text": [
      "Error: Cannot divide by zero!\n",
      "Calculation result: undefined\n",
      "Calculation process finished.\n"
     ]
    }
   ],
   "source": [
    "# ----------------------------------------\n",
    "# Example 7: Nested exception handling\n",
    "# ----------------------------------------\n",
    "\n",
    "\"\"\"\n",
    "Demonstrates nested exception handling for more complex scenarios.\n",
    "\"\"\"\n",
    "try:\n",
    "    # Outer try block\n",
    "    print(\"Starting calculation process...\")\n",
    "    \n",
    "    try:\n",
    "        # Inner try block\n",
    "        value1 = float(input(\"Enter first number: \"))\n",
    "        value2 = float(input(\"Enter second number: \"))\n",
    "        result = value1 / value2\n",
    "        \n",
    "    except ValueError:\n",
    "        # Handle value conversion errors in the inner block\n",
    "        print(\"Error: Please enter valid numbers!\")\n",
    "        # Re-raise as a different exception type to be caught by outer block\n",
    "        raise RuntimeError(\"Invalid input provided\")\n",
    "        \n",
    "    except ZeroDivisionError:\n",
    "        # Handle division by zero in the inner block\n",
    "        print(\"Error: Cannot divide by zero!\")\n",
    "        # Create a default result instead of raising\n",
    "        result = \"undefined\"\n",
    "        \n",
    "    # This will be accessible in the outer try block\n",
    "    print(f\"Calculation result: {result}\")\n",
    "    \n",
    "except RuntimeError as e:\n",
    "    # Outer exception handler catches errors from inner block\n",
    "    print(f\"The calculation process was aborted: {e}\")\n",
    "    \n",
    "finally:\n",
    "    # Always executed\n",
    "    print(\"Calculation process finished.\")\n",
    "\n"
   ]
  },
  {
   "cell_type": "code",
   "execution_count": 15,
   "id": "cf878a34-b1d4-4f60-a638-dd8523cc46d1",
   "metadata": {},
   "outputs": [
    {
     "name": "stdout",
     "output_type": "stream",
     "text": [
      "\n",
      "=== Example 9: Data Processing Example ===\n",
      "\n",
      "Processing user data...\n",
      "Error in record 2: Invalid age: -5\n",
      "Error in record 3: \"Missing 'age' field\"\n",
      "Error in record 4: \"Missing 'name' field\"\n",
      "Error in record 5: invalid literal for int() with base 10: 'twenty-two'\n",
      "\n",
      "Successfully processed records:\n",
      "- John Smith, Age: 28, Adult: True\n",
      "- Mike Brown, Age: 42, Adult: True\n",
      "\n",
      "Processed 2 out of 6 records successfully.\n"
     ]
    }
   ],
   "source": [
    "# ----------------------------------------\n",
    "# Example 9: Practical example - Data processing with exceptions\n",
    "# ----------------------------------------\n",
    "\n",
    "def process_user_data(data_list):\n",
    "    \"\"\"\n",
    "    Processes a list of user data, handling various potential errors.\n",
    "    \n",
    "    Args:\n",
    "        data_list: List of user data dictionaries\n",
    "        \n",
    "    Returns:\n",
    "        List of processed user information\n",
    "    \"\"\"\n",
    "    processed_data = []\n",
    "    \n",
    "    for i, user_data in enumerate(data_list):\n",
    "        try:\n",
    "            # Check if required fields exist\n",
    "            if 'name' not in user_data:\n",
    "                raise KeyError(\"Missing 'name' field\")\n",
    "                \n",
    "            if 'age' not in user_data:\n",
    "                raise KeyError(\"Missing 'age' field\")\n",
    "                \n",
    "            # Try to process age\n",
    "            age = int(user_data['age'])\n",
    "            if age < 0 or age > 150:\n",
    "                raise ValueError(f\"Invalid age: {age}\")\n",
    "                \n",
    "            # Process and add to results\n",
    "            processed_info = {\n",
    "                'name': user_data['name'].strip().title(),\n",
    "                'age': age,\n",
    "                'is_adult': age >= 18\n",
    "            }\n",
    "            processed_data.append(processed_info)\n",
    "            \n",
    "        except KeyError as e:\n",
    "            print(f\"Error in record {i+1}: {e}\")\n",
    "            \n",
    "        except ValueError as e:\n",
    "            print(f\"Error in record {i+1}: {e}\")\n",
    "            \n",
    "        except Exception as e:\n",
    "            print(f\"Unexpected error in record {i+1}: {e}\")\n",
    "            \n",
    "    return processed_data\n",
    "\n",
    "\n",
    "# Example usage of the data processing function\n",
    "def demo_data_processing():\n",
    "    \"\"\"\n",
    "    Demonstrates practical exception handling with a data processing example.\n",
    "    \"\"\"\n",
    "    # Sample data with various issues\n",
    "    user_data = [\n",
    "        {'name': 'john smith', 'age': '28'},            # Valid\n",
    "        {'name': 'sarah jones', 'age': '-5'},           # Invalid age\n",
    "        {'name': 'bob miller'},                         # Missing age\n",
    "        {'age': '35', 'email': 'test@example.com'},     # Missing name\n",
    "        {'name': 'lisa wong', 'age': 'twenty-two'},     # Non-numeric age\n",
    "        {'name': 'mike brown', 'age': '42'}             # Valid\n",
    "    ]\n",
    "    \n",
    "    print(\"\\nProcessing user data...\")\n",
    "    processed = process_user_data(user_data)\n",
    "    \n",
    "    print(\"\\nSuccessfully processed records:\")\n",
    "    for user in processed:\n",
    "        print(f\"- {user['name']}, Age: {user['age']}, Adult: {user['is_adult']}\")\n",
    "    \n",
    "    print(f\"\\nProcessed {len(processed)} out of {len(user_data)} records successfully.\")\n",
    "\n",
    "\n",
    "# ----------------------------------------\n",
    "# Run all the examples\n",
    "# ----------------------------------------\n",
    "\n",
    "if __name__ == \"__main__\":\n",
    "    \n",
    "    print(\"\\n=== Example 9: Data Processing Example ===\")\n",
    "    demo_data_processing()"
   ]
  },
  {
   "cell_type": "code",
   "execution_count": null,
   "id": "1edda030-d199-4551-a9aa-154729b8af57",
   "metadata": {},
   "outputs": [],
   "source": []
  }
 ],
 "metadata": {
  "kernelspec": {
   "display_name": "Python 3 (ipykernel)",
   "language": "python",
   "name": "python3"
  },
  "language_info": {
   "codemirror_mode": {
    "name": "ipython",
    "version": 3
   },
   "file_extension": ".py",
   "mimetype": "text/x-python",
   "name": "python",
   "nbconvert_exporter": "python",
   "pygments_lexer": "ipython3",
   "version": "3.11.2"
  }
 },
 "nbformat": 4,
 "nbformat_minor": 5
}
