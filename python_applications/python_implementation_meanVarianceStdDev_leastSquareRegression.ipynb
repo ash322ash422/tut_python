{
  "cells": [
    {
      "cell_type": "code",
      "execution_count": null,
      "metadata": {
        "colab": {
          "base_uri": "https://localhost:8080/"
        },
        "id": "t1Ee2cx-gjWb",
        "outputId": "b96d9d68-7bad-4c47-d5bc-6673bf529063"
      },
      "outputs": [
        {
          "name": "stdout",
          "output_type": "stream",
          "text": [
            "Mean: 2.4454545454545453\n",
            "Variance: 0.02429752066115703\n",
            "Standard Deviation: 0.15587661999529318\n"
          ]
        }
      ],
      "source": [
        "# implement formula to calculate mean, variance and standard deviation\n",
        "\n",
        "# Sample data: e.g., vibration measurements in mm\n",
        "data = [2.3, 2.5, 2.4, 2.6, 2.7, 2.4, 2.5, 2.6, 2.2, 2.5, 2.2]\n",
        "\n",
        "# Step 1: Calculate mean\n",
        "n = len(data)\n",
        "mean = sum(data) / n\n",
        "\n",
        "# Step 2: Calculate variance\n",
        "squared_diff = 0\n",
        "for x in data:\n",
        "    squared_diff += (x - mean) ** 2\n",
        "\n",
        "variance = squared_diff / n  # population variance (use n-1 for sample variance)\n",
        "\n",
        "# Step 3: Calculate standard deviation\n",
        "std_dev = variance ** 0.5\n",
        "\n",
        "print(\"Mean:\", mean)\n",
        "print(\"Variance:\", variance)\n",
        "print(\"Standard Deviation:\", std_dev)\n"
      ]
    },
    {
      "cell_type": "markdown",
      "metadata": {
        "id": "r72-goJ6ksSv"
      },
      "source": [
        "## Least Squares Linear Regression Equations\n",
        "\n",
        "The goal is to fit a line of the form:\n",
        "\n",
        "$y = mx + c$\n",
        "\n",
        "where:  \n",
        "- $m$ is the slope of the line.  \n",
        "- $c$ is the intercept.\n",
        "\n",
        "---\n",
        "\n",
        "### **Formulas**\n",
        "\n",
        "**Slope ($m$)**\n",
        "\n",
        "$m = \\frac{n \\sum xy - \\sum x \\sum y}{n \\sum x^2 - (\\sum x)^2}$\n",
        "\n",
        "---\n",
        "\n",
        "**Intercept ($c$)**\n",
        "\n",
        "$c = \\frac{\\sum y - m \\sum x}{n}$\n",
        "\n",
        "---\n",
        "\n",
        "Where:  \n",
        "- $n$ = number of data points  \n",
        "- $x$ = independent variable (e.g., strain)  \n",
        "- $y$ = dependent variable (e.g., stress)\n"
      ]
    },
    {
      "cell_type": "code",
      "execution_count": 1,
      "metadata": {
        "colab": {
          "base_uri": "https://localhost:8080/"
        },
        "id": "n9XjItKyjKTY",
        "outputId": "0452fead-8097-428a-b8d1-3b9bd45dd063"
      },
      "outputs": [
        {
          "name": "stdout",
          "output_type": "stream",
          "text": [
            "Slope (Young's Modulus) = 2.00e+05 MPa\n",
            "Intercept = 2.00 MPa\n",
            "Predicted Stress at Strain 0.0035 = 702.00 MPa\n"
          ]
        }
      ],
      "source": [
        "# Suppose you measure the stress (force per unit area) and the corresponding strain (deformation) in a material test.\n",
        "# The relationship is approximately linear in the elastic region:\n",
        "\n",
        "# Stress = E * Strain\n",
        "# where E = Young’s Modulus (slope of the line)\n",
        "\n",
        "# Goal: Given a set of (strain, stress) pairs, fit a straight line:\n",
        "#  y=mx+c , using Least Squares Method\n",
        "\n",
        "def linear_regression(x_values, y_values):\n",
        "    \"\"\"\n",
        "    Perform simple linear regression (least squares) on two lists.\n",
        "\n",
        "    Args:\n",
        "        x_values (list of float): Independent variable (e.g., strain)\n",
        "        y_values (list of float): Dependent variable (e.g., stress)\n",
        "\n",
        "    Returns:\n",
        "        slope (float): Slope of the best fit line\n",
        "        intercept (float): Intercept of the best fit line\n",
        "    \"\"\"\n",
        "    n = len(x_values)\n",
        "\n",
        "    sum_x = sum(x_values)\n",
        "    sum_y = sum(y_values)\n",
        "    sum_xy = sum([x * y for x, y in zip(x_values, y_values)])\n",
        "    sum_x2 = sum([x**2 for x in x_values])\n",
        "\n",
        "    slope = (n * sum_xy - sum_x * sum_y) / (n * sum_x2 - sum_x**2)\n",
        "    intercept = (sum_y - slope * sum_x) / n\n",
        "\n",
        "    return slope, intercept\n",
        "\n",
        "# ------------------------------\n",
        "# Example usage\n",
        "\n",
        "x = [0.001, 0.002, 0.003, 0.004, 0.005] # say stress\n",
        "y = [200, 400, 610, 800, 1000] # say strain\n",
        "\n",
        "m, c = linear_regression(x, y)\n",
        "\n",
        "print(f\"Slope (Young's Modulus) = {m:.2e} MPa\")\n",
        "print(f\"Intercept = {c:.2f} MPa\")\n",
        "\n",
        "# Predict stress at new strain\n",
        "new_strain = 0.0035\n",
        "predicted_stress = m * new_strain + c\n",
        "print(f\"Predicted Stress at Strain {new_strain} = {predicted_stress:.2f} MPa\")\n"
      ]
    }
  ],
  "metadata": {
    "colab": {
      "provenance": []
    },
    "kernelspec": {
      "display_name": "Python 3",
      "name": "python3"
    },
    "language_info": {
      "name": "python"
    }
  },
  "nbformat": 4,
  "nbformat_minor": 0
}
