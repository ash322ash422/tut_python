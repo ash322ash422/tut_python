{
 "cells": [
  {
   "cell_type": "markdown",
   "id": "a59e8ea5-034c-4174-a348-5c31b2dd42bb",
   "metadata": {},
   "source": [
    "# function : lambda, map, filter, reduce, any\n",
    "\n",
    "## anonymous function lambda\n",
    "-  anonymous functions — that is, functions without a name.\n",
    "-  Used when you need a quick, short function for a one-time use\n",
    "-  Used when you want compact code\n",
    "-  No doc string option"
   ]
  },
  {
   "cell_type": "code",
   "execution_count": 1,
   "id": "0008ec2c-107a-44bd-be90-74d657e4b20a",
   "metadata": {},
   "outputs": [
    {
     "name": "stdout",
     "output_type": "stream",
     "text": [
      "25\n",
      "25\n"
     ]
    }
   ],
   "source": [
    "def square(x):\n",
    "    return x * x\n",
    "\n",
    "print(square(5))\n",
    "\n",
    "\n",
    "# REDO above using lambda\n",
    "square = lambda x: x * x\n",
    "print(square(5))  "
   ]
  },
  {
   "cell_type": "code",
   "execution_count": 2,
   "id": "5608376c-1ff4-46a5-b0c2-e83766ba0512",
   "metadata": {},
   "outputs": [
    {
     "name": "stdout",
     "output_type": "stream",
     "text": [
      "7\n",
      "7\n"
     ]
    }
   ],
   "source": [
    "def add(a, b):\n",
    "    return a + b\n",
    "\n",
    "print(add(3, 4)) \n",
    "\n",
    "# REDO above using lambda\n",
    "add = lambda a, b: a + b\n",
    "print(add(3, 4))  # Output: 7"
   ]
  },
  {
   "cell_type": "code",
   "execution_count": 9,
   "id": "b3532118-b4cd-4d32-a08e-49cafced5e3b",
   "metadata": {},
   "outputs": [
    {
     "name": "stdout",
     "output_type": "stream",
     "text": [
      "['Bob', 'Alice', 'Charlie']\n"
     ]
    }
   ],
   "source": [
    "# sort names based on their string length\n",
    "names = [\"Charlie\", \"Alice\", \"Bob\"]\n",
    "sorted_names = sorted(names, key=lambda x: len(x))\n",
    "print(sorted_names)  # Output: ['Bob', 'Alice', 'Charlie']"
   ]
  },
  {
   "cell_type": "markdown",
   "id": "a469d76b-38d1-47ed-b60e-42d30324f045",
   "metadata": {},
   "source": [
    "## map\n",
    "- map(some_function, some_list)\n",
    "- Apply a Function to Each Item in a List"
   ]
  },
  {
   "cell_type": "code",
   "execution_count": 5,
   "id": "98a11ff1-8164-446c-84f1-6e80bb83b7a1",
   "metadata": {},
   "outputs": [
    {
     "name": "stdout",
     "output_type": "stream",
     "text": [
      "[<map object at 0x0000014B3F34EBC0>]\n"
     ]
    }
   ],
   "source": [
    "# The map() function applies a function to every item in an iterable (like a list).\n",
    "\n",
    "# Example: Convert a List of Temperatures from Celsius to Fahrenheit\n",
    "temps_celsius = [0, 10, 20, 30, 40]\n",
    "\n",
    "# Convert to Fahrenheit using map()\n",
    "temps_fahrenheit = list(map(lambda c: (c * 9/5) + 32, temps_celsius))\n",
    "\n",
    "print(temps_fahrenheit)"
   ]
  },
  {
   "cell_type": "markdown",
   "id": "11e30d8f-0e9a-4ebd-93d7-fb926e4e3256",
   "metadata": {},
   "source": [
    "## (OPTIONAL) filter\n",
    "- filter(some_function, some_list)\n",
    "- Select Items Based on a Condition"
   ]
  },
  {
   "cell_type": "code",
   "execution_count": 1,
   "id": "886d8b40-e815-4f8c-8053-8715c9e2d169",
   "metadata": {},
   "outputs": [
    {
     "name": "stdout",
     "output_type": "stream",
     "text": [
      "[2, 4, 6, 8, 10]\n"
     ]
    }
   ],
   "source": [
    "# The filter() function filters elements based on a condition (returns True).\n",
    "\n",
    "# Example: Filter Out Odd Numbers from a List\n",
    "numbers = [1, 2, 3, 4, 5, 6, 7, 8, 9, 10]\n",
    "\n",
    "# Keep only even numbers\n",
    "even_numbers = list(filter(lambda x: x % 2 == 0, numbers))\n",
    "\n",
    "print(even_numbers)"
   ]
  },
  {
   "cell_type": "markdown",
   "id": "43742a81-001a-46ce-9a52-c93253a64dab",
   "metadata": {},
   "source": [
    "## (OPTIONAL) reduce\n",
    " – Perform a Cumulative Computation"
   ]
  },
  {
   "cell_type": "code",
   "execution_count": 6,
   "id": "9327b9ed-2f4e-4f78-9631-3db866df37b6",
   "metadata": {},
   "outputs": [
    {
     "name": "stdout",
     "output_type": "stream",
     "text": [
      "120\n"
     ]
    }
   ],
   "source": [
    "# The reduce() function (from functools) reduces a sequence to a single value.\n",
    "\n",
    "# Example: Find the Product of All Numbers in a List\n",
    "from functools import reduce\n",
    "\n",
    "numbers = [1, 2, 3, 4, 5]\n",
    "\n",
    "# Multiply all numbers together\n",
    "product = reduce(lambda x, y: x * y, numbers)\n",
    "\n",
    "print(product)\n"
   ]
  },
  {
   "cell_type": "markdown",
   "id": "2d267354-c3ea-4288-973d-a4b61e0d5f91",
   "metadata": {},
   "source": [
    "##  any() \n",
    "– Check If At Least One Element is True"
   ]
  },
  {
   "cell_type": "code",
   "execution_count": 2,
   "id": "f9944180-f448-4b9b-8e97-233f2677cb65",
   "metadata": {},
   "outputs": [
    {
     "name": "stdout",
     "output_type": "stream",
     "text": [
      "True\n"
     ]
    }
   ],
   "source": [
    "status_list = [False, False, True, False]\n",
    "result = any(status_list)\n",
    "\n",
    "print(result) \n"
   ]
  },
  {
   "cell_type": "code",
   "execution_count": 7,
   "id": "b81d283b-6021-4f8e-8afb-b0e0f6070c40",
   "metadata": {},
   "outputs": [
    {
     "name": "stdout",
     "output_type": "stream",
     "text": [
      "True\n"
     ]
    }
   ],
   "source": [
    "\n",
    "# The any() function checks if at least one element in an iterable is True.\n",
    "\n",
    "# Example: Check if a List Contains Any negative Numbers\n",
    "num = [-3, -2, -1, 0, 5] # count of apples\n",
    "\n",
    "# Check if at least one number is positive\n",
    "has_negative = any(x > 0 for x in num)\n",
    "\n",
    "print(has_negative)"
   ]
  },
  {
   "cell_type": "markdown",
   "id": "5492efa9-19ef-420a-89f3-ae46c550689d",
   "metadata": {},
   "source": [
    "## all()\n",
    "- It returns True if all elements in an iterable are true (or truthy).\n",
    "- If even one element is false (or falsy), it returns False.\n"
   ]
  },
  {
   "cell_type": "code",
   "execution_count": 3,
   "id": "618ef8cb-1616-4194-b72c-5ec760e8f3c4",
   "metadata": {},
   "outputs": [
    {
     "name": "stdout",
     "output_type": "stream",
     "text": [
      "True\n"
     ]
    }
   ],
   "source": [
    "nums = [1, 2, 3, 4]\n",
    "print(all(nums))  # True → all elements are non-zero (truthy)"
   ]
  },
  {
   "cell_type": "code",
   "execution_count": 4,
   "id": "e8bf6a67-1dd5-48a5-a55d-2ba3e55eb759",
   "metadata": {},
   "outputs": [
    {
     "name": "stdout",
     "output_type": "stream",
     "text": [
      "False\n"
     ]
    }
   ],
   "source": [
    "nums = [1, 0, 3, 4]\n",
    "print(all(nums))  # False → 0 is false"
   ]
  },
  {
   "cell_type": "code",
   "execution_count": 5,
   "id": "12f7a638-acc2-49eb-a5cd-afbc1da7d2ae",
   "metadata": {},
   "outputs": [
    {
     "name": "stdout",
     "output_type": "stream",
     "text": [
      "True\n"
     ]
    }
   ],
   "source": [
    "ages = [22, 35, 30, 28]\n",
    "are_adults = all(age >= 18 for age in ages)\n",
    "print(are_adults)  # True → all are 18 or older"
   ]
  },
  {
   "cell_type": "code",
   "execution_count": null,
   "id": "f8d047d2-e03b-400e-9676-8de25ee79cea",
   "metadata": {},
   "outputs": [],
   "source": []
  }
 ],
 "metadata": {
  "kernelspec": {
   "display_name": "Python 3 (ipykernel)",
   "language": "python",
   "name": "python3"
  },
  "language_info": {
   "codemirror_mode": {
    "name": "ipython",
    "version": 3
   },
   "file_extension": ".py",
   "mimetype": "text/x-python",
   "name": "python",
   "nbconvert_exporter": "python",
   "pygments_lexer": "ipython3",
   "version": "3.11.2"
  }
 },
 "nbformat": 4,
 "nbformat_minor": 5
}
