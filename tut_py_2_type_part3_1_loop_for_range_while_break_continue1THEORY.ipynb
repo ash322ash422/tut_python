{
 "cells": [
  {
   "cell_type": "markdown",
   "id": "d42fed27-2540-47d1-b144-8ddc6650e58f",
   "metadata": {},
   "source": [
    "# For Loop \n",
    "- Allow you to perform repetitive tasks.\n",
    "- Following is the general expression of for loop:\n",
    "```\n",
    "for variable in iterable:\n",
    "    # block of code\n",
    "```\n"
   ]
  },
  {
   "cell_type": "code",
   "execution_count": 1,
   "id": "de9d4088-3424-4b40-b27f-b8521a329737",
   "metadata": {},
   "outputs": [
    {
     "name": "stdout",
     "output_type": "stream",
     "text": [
      "hello\n",
      "hello\n",
      "hello\n",
      "hello\n",
      "hello\n",
      "hello\n",
      "hello\n",
      "hello\n"
     ]
    }
   ],
   "source": [
    "# step1: suppose we want to print hello 4 times:\n",
    "print(\"hello\")\n",
    "print(\"hello\")\n",
    "print(\"hello\")\n",
    "print(\"hello\")\n",
    "\n",
    "#######################\n",
    "\n",
    "# step2: Or I can print using for loop\n",
    "for i in [0,1,2,3]: \n",
    "    print(\"hello\")"
   ]
  },
  {
   "cell_type": "code",
   "execution_count": null,
   "id": "1518cbca-0181-4c16-938f-b6360303155e",
   "metadata": {},
   "outputs": [
    {
     "name": "stdout",
     "output_type": "stream",
     "text": [
      "hello\n",
      "I am trapped in for loop\n",
      "Whats going on?\n",
      "hello\n",
      "I am trapped in for loop\n",
      "Whats going on?\n",
      "hello\n",
      "I am trapped in for loop\n",
      "Whats going on?\n",
      "hello\n",
      "I am trapped in for loop\n",
      "Whats going on?\n",
      "###############\n",
      "hello\n",
      "I am trapped in for loop\n",
      "hello\n",
      "I am trapped in for loop\n",
      "hello\n",
      "I am trapped in for loop\n",
      "hello\n",
      "I am trapped in for loop\n",
      "Whats going on?\n"
     ]
    }
   ],
   "source": [
    "# where does the for loop ends: thats decided by indentation\n",
    "# STEP1: \n",
    "for i in [0,1,2,3]:\n",
    "    print(\"hello\")\n",
    "    print(\"I am trapped in for loop\") \n",
    "    print(\"Finished\")\n",
    "\n",
    "print(\"###############\")\n",
    "\n",
    "# STEP2: Move last stmt out of for loop\n",
    "for i in [0,1,2,3]:\n",
    "    print(\"hello\")\n",
    "    print(\"I am trapped in for loop\") \n",
    "print(\"Finished\")"
   ]
  },
  {
   "cell_type": "code",
   "execution_count": 3,
   "id": "20d82859",
   "metadata": {},
   "outputs": [
    {
     "name": "stdout",
     "output_type": "stream",
     "text": [
      "0\n",
      "1\n",
      "2\n",
      "3\n",
      "###############\n",
      "0:hello\n",
      "I am trapped in for loop\n",
      "1:hello\n",
      "I am trapped in for loop\n",
      "2:hello\n",
      "I am trapped in for loop\n",
      "3:hello\n",
      "I am trapped in for loop\n",
      "Finished\n",
      "0 * 3 = 0\n",
      "1 * 3 = 3\n",
      "2 * 3 = 6\n",
      "3 * 3 = 9\n",
      "Finished\n"
     ]
    }
   ],
   "source": [
    "# What is this variable iterator i? Lets print this\n",
    "# STEP1: \n",
    "for i in [0,1,2,3]: \n",
    "    print(i) # here I am accessing iterator i\n",
    "\n",
    "print(\"###############\")\n",
    "\n",
    "# STEP2: Lets print a number in front of each line\n",
    "for i in [0,1,2,3]:\n",
    "    print(f\"{i}: hello\")\n",
    "    print(\"I am trapped in for loop\") \n",
    "print(\"Finished\")\n",
    "\n",
    "\n",
    "# STEP3: lets perform some math on elements: multiply all elements by 3\n",
    "for i in [0,1,2,3]:\n",
    "    res = i * 3\n",
    "    print(f\"{i} * 3 = {res}\")\n",
    "print(\"Finished\")\n",
    "\n"
   ]
  },
  {
   "cell_type": "code",
   "execution_count": 3,
   "id": "6bf3db47",
   "metadata": {},
   "outputs": [
    {
     "name": "stdout",
     "output_type": "stream",
     "text": [
      "I love mango\n",
      "I love kiwi\n",
      "I love cherry\n",
      "I love jackfruit\n"
     ]
    }
   ],
   "source": [
    "#1) prints all elements of a list with meaningful message with each fruit\n",
    "fruits = [\"mango\", \"kiwi\", \"cherry\", \"jackfruit\"]\n",
    "for e in fruits:\n",
    "    print(f\"I love {e}\")"
   ]
  },
  {
   "cell_type": "markdown",
   "id": "466aa290",
   "metadata": {},
   "source": [
    "# Range\n",
    "### generally used with for loop"
   ]
  },
  {
   "cell_type": "code",
   "execution_count": 8,
   "id": "1f337507-ff95-4970-84db-c36ad69a48c3",
   "metadata": {},
   "outputs": [
    {
     "name": "stdout",
     "output_type": "stream",
     "text": [
      "0 hello\n",
      "I am trapped in for loop\n",
      "1 hello\n",
      "I am trapped in for loop\n",
      "2 hello\n",
      "I am trapped in for loop\n",
      "3 hello\n",
      "I am trapped in for loop\n",
      "finished\n",
      "0 * 3 = 0 \n",
      "1 * 3 = 3 \n",
      "2 * 3 = 6 \n",
      "3 * 3 = 9 \n",
      "Finished\n",
      "0 * 4 = 0\n",
      "4 * 4 = 12\n",
      "8 * 4 = 24\n",
      "12 * 4 = 36\n"
     ]
    }
   ],
   "source": [
    "# Now comes range: It helps to iterate many many times..say 100\n",
    "# range(start, stop, step): Generates a sequence from start up to (but not including) stop, incrementing by step.\n",
    "# default step=1\n",
    "\n",
    "for i in range(0,4): # here start=0, stop=4\n",
    "    print(f\"{i} hello\") # here I am accessing iterator i\n",
    "    print(\"I am trapped in for loop\") \n",
    "    \n",
    "print(\"finished\")\n",
    "\n",
    "#################################\n",
    "# Lets perform some math on elements: multiply all elements by 3\n",
    "for i in range(0,4):\n",
    "    res = i * 3\n",
    "    print(f\"{i} * 3 = {res} \")\n",
    "    \n",
    "print(\"Finished\")\n",
    "\n",
    "##################################\n",
    "# lets redo above and add the step in range: 0,4,8,12\n",
    "for i in range(0,16,4): # start=0, stop=16, step=4\n",
    "    res = i * 4\n",
    "    print(f\"{i} * 4 = {res}\")\n",
    "    "
   ]
  },
  {
   "cell_type": "markdown",
   "id": "1d330e7e-58eb-4bb4-853f-c330f744acfb",
   "metadata": {},
   "source": [
    "# for + break \n",
    "- **break**: immediately exits the loop even if some iterations are left\n"
   ]
  },
  {
   "cell_type": "code",
   "execution_count": 4,
   "id": "d050f00f-fd4c-4e47-b8b6-879fecffaeb4",
   "metadata": {},
   "outputs": [
    {
     "name": "stdout",
     "output_type": "stream",
     "text": [
      "checking 5\n",
      "checking 23\n",
      "checking 8\n",
      "checking 43\n",
      "checking 7\n",
      "Found target! Exiting the for loop\n",
      "Loop finished\n",
      "#####################\n"
     ]
    }
   ],
   "source": [
    "# for + break:\n",
    "\n",
    "# 1) Find if number 7 exists in a list: exit the loop after finding 7 in a list of numbers\n",
    "numbers = [5, 23, 8, 43, 7, 3, 65, 16, 3, 14]\n",
    "\n",
    "for i in numbers:\n",
    "    print(f\"checking {i}\")\n",
    "    if i == 7:\n",
    "        print(f\"Found target! Exiting the for loop\")\n",
    "        break # NOTE: comment it out to see what happens without it\n",
    "print(\"Loop finished\")\n",
    "print(\"#####################\")      "
   ]
  },
  {
   "cell_type": "markdown",
   "id": "77bc3fbb-403b-489d-8cb4-02afbfd0ed0d",
   "metadata": {},
   "source": [
    "# for + continue\n",
    "- **continue**: skip the rest of the current loop iteration and move to the next iteration"
   ]
  },
  {
   "cell_type": "code",
   "execution_count": 9,
   "id": "4bbfc1aa-2618-4421-83f0-edcee0ec903f",
   "metadata": {},
   "outputs": [
    {
     "name": "stdout",
     "output_type": "stream",
     "text": [
      "number: 5\n",
      "number: 23\n",
      "number: 8\n",
      "number: 43\n",
      "number: 7\n",
      "number: 3\n",
      "skipping number 65\n",
      "number: 16\n",
      "skipping number 65\n",
      "number: 14\n",
      "Loop finished\n",
      "#####################\n"
     ]
    }
   ],
   "source": [
    "# 1) continue: print all number except 65\n",
    "numbers = [5, 23, 8, 43, 7, 3, 65, 16, 65, 14]\n",
    "\n",
    "for i in numbers:\n",
    "    if i == 65:\n",
    "        print(f\"skipping number {i}\")\n",
    "        continue # NOTE: comment it out to see what happens without it\n",
    "    print(f\"number: {i}\")\n",
    "        \n",
    "print(\"Loop finished\")\n",
    "print(\"#####################\")      "
   ]
  },
  {
   "cell_type": "markdown",
   "id": "1d674661-b2b9-47c6-97d7-b5ed5ad48430",
   "metadata": {},
   "source": [
    "## while\n",
    "\n",
    "```\n",
    "while [boolean_expression]:\n",
    "    stmt1\n",
    "    stmt2\n",
    "    .\n",
    "    .\n",
    "    stmtn\n",
    "```\n",
    "\n",
    "**NOTE: In for loop we are encoding the iterator value**"
   ]
  },
  {
   "cell_type": "code",
   "execution_count": 1,
   "id": "f34e87b3-f2ca-48b4-8a72-b290f736e4fa",
   "metadata": {},
   "outputs": [
    {
     "name": "stdout",
     "output_type": "stream",
     "text": [
      "1\n",
      "2\n",
      "3\n",
      "4\n",
      "5\n",
      "#################\n"
     ]
    }
   ],
   "source": [
    "# 1. Basic while Loop\n",
    "\n",
    "# print 1 2 3 4 5 on each newline\n",
    "i = 1\n",
    "while i <= 5:\n",
    "    print(i)\n",
    "    i += 1  # Increment i\n",
    "print(\"#################\")\n"
   ]
  },
  {
   "cell_type": "code",
   "execution_count": 30,
   "id": "3b215707-d0eb-43de-a690-5684cf0eb88d",
   "metadata": {},
   "outputs": [
    {
     "name": "stdout",
     "output_type": "stream",
     "text": [
      "2\n",
      "4\n",
      "6\n",
      "8\n",
      "10\n",
      "Done\n",
      "##############\n",
      "2\n",
      "4\n",
      "6\n",
      "8\n",
      "10\n",
      "Done\n",
      "##############\n",
      "2\n",
      "4\n",
      "6\n",
      "8\n",
      "10\n",
      "Done\n",
      "##############\n"
     ]
    }
   ],
   "source": [
    "# Print only even numbers: 2 4 6 8 10\n",
    "# Same task can be accomplished multiple styles\n",
    "\n",
    "#style1: 2 3 4 5 6 7 8 9 10\n",
    "num = 2\n",
    "while num <= 10:\n",
    "    print(num)\n",
    "    num += 2\n",
    "\n",
    "print(\"Done\")\n",
    "print(\"##############\")\n",
    "\n",
    "#style2\n",
    "num = 0\n",
    "while num < 10:\n",
    "    num += 1\n",
    "    if num % 2 == 0:  # Check if the number is even\n",
    "        print(num)    \n",
    "\n",
    "print(\"Done\")\n",
    "print(\"##############\")\n",
    "\n",
    "#style3: using continue\n",
    "num = 0\n",
    "while num < 10:\n",
    "    num += 1\n",
    "    if num % 2 != 0:\n",
    "        continue  # Skip odd numbers\n",
    "    print(num)\n",
    "\n",
    "print(\"Done\")\n",
    "print(\"##############\")\n"
   ]
  },
  {
   "cell_type": "code",
   "execution_count": null,
   "id": "449d7b07-ca50-4fd0-a3a2-b2fcb7b19191",
   "metadata": {},
   "outputs": [
    {
     "name": "stdout",
     "output_type": "stream",
     "text": [
      "You entered: 1\n"
     ]
    }
   ],
   "source": [
    "# 2. while Loop with User Input\n",
    "num = int(input(\"Enter a number (0 to stop): \"))\n",
    "while num != 0:\n",
    "    print(f\"You entered: {num}\")\n",
    "    num = int(input(\"Enter a number (0 to stop): \"))\n",
    "\n",
    "print(\"Loop ended.\")"
   ]
  },
  {
   "cell_type": "code",
   "execution_count": 2,
   "id": "ade7ccac-c251-4cf4-80bb-d4751a6cb359",
   "metadata": {},
   "outputs": [
    {
     "name": "stdout",
     "output_type": "stream",
     "text": [
      "1\n",
      "2\n",
      "3\n",
      "Stopping at 4\n",
      "##############\n"
     ]
    }
   ],
   "source": [
    "# while + break\n",
    "\n",
    "# 3. Using break in a while Loop to exit the loop\n",
    "\n",
    "# print 1 2 3 on each newline and stop at 4\n",
    "i = 1\n",
    "while i <= 6:\n",
    "    if i == 4:\n",
    "        print(\"Stopping at 4\")\n",
    "        break  # Exit the loop\n",
    "    print(i)\n",
    "    i += 1\n",
    "print(\"##############\")"
   ]
  },
  {
   "cell_type": "code",
   "execution_count": null,
   "id": "ac4aa14e-04b9-4f3b-9efa-499560324909",
   "metadata": {},
   "outputs": [],
   "source": [
    "# 5. Infinite Loop (Press Ctrl+C to Stop) DANGEROUS\n",
    "\n",
    "#infinite loop\n",
    "# i = 1\n",
    "# while i>0:\n",
    "#     print(\"hello\")\n",
    "#     i += 2\n",
    "    \n",
    "\n",
    "\n",
    "# while True:\n",
    "#     print(\"This is an infinite loop. Press Ctrl+C to stop.\")\n"
   ]
  },
  {
   "cell_type": "markdown",
   "id": "f6490c90-0ed8-4d4a-8495-6ae452555543",
   "metadata": {},
   "source": [
    "# STOP"
   ]
  },
  {
   "cell_type": "code",
   "execution_count": null,
   "id": "521abda0-0d92-42e3-9878-ac1de12e7b11",
   "metadata": {},
   "outputs": [],
   "source": []
  },
  {
   "cell_type": "code",
   "execution_count": null,
   "id": "39aa4053-68ce-4005-bd52-95168587413b",
   "metadata": {},
   "outputs": [],
   "source": []
  },
  {
   "cell_type": "code",
   "execution_count": null,
   "id": "25e3ff6e-35fa-4d8b-b704-46517613a0c7",
   "metadata": {},
   "outputs": [],
   "source": []
  },
  {
   "cell_type": "code",
   "execution_count": null,
   "id": "7ad044fc-f1e3-4617-a3f8-8d4efd1ccc20",
   "metadata": {},
   "outputs": [],
   "source": []
  },
  {
   "cell_type": "code",
   "execution_count": null,
   "id": "df3f3eaf-63c8-47ae-80b0-b2584848c4c1",
   "metadata": {},
   "outputs": [],
   "source": []
  },
  {
   "cell_type": "code",
   "execution_count": null,
   "id": "8ca92536-32a7-489d-b712-933aec0d17d3",
   "metadata": {},
   "outputs": [],
   "source": []
  },
  {
   "cell_type": "markdown",
   "id": "c33d4ec8-7563-45fe-a95b-49b53b036605",
   "metadata": {},
   "source": [
    "# (ADVANCED) Nested \"for inside for\""
   ]
  },
  {
   "cell_type": "code",
   "execution_count": null,
   "id": "cb138bdc-d9ea-4f9d-bffc-4e6ca1549d8a",
   "metadata": {},
   "outputs": [],
   "source": [
    "# work backward...start with outer for loop and start adding inside for statement to see whats happening.\n",
    "#step1\n",
    "for outer in range(4): # Outer loop: iterates three times (0, 1, 2, 3)\n",
    "    print(\"start outer\")\n",
    "    print(f\"outer is {outer}\")\n",
    "    print(\"end outer\\n\")\n",
    "print(\"##########\")\n",
    "\n",
    "# step2\n",
    "for outer in range(4): # Outer loop: iterates three times (0, 1, 2, 3)\n",
    "    print(\"start outer\")\n",
    "    print(f\"outer is {outer}\")\n",
    "    for inner in range(3): # Inner loop: iterates two times (0, 1, 2) inside\n",
    "        print(f\"...inner is {inner}\")\n",
    "    print(\"end outer\\n\")"
   ]
  },
  {
   "cell_type": "code",
   "execution_count": null,
   "id": "f3a906e4-c1b2-4b9a-99e5-bfedaaba920b",
   "metadata": {},
   "outputs": [],
   "source": [
    "# I wanted to see what following loop is going to print.. and analyse this.\n",
    "for outer in range(4): # Outer loop: iterates three times (0, 1, 2, 3)\n",
    "    for inner in range(3): # Inner loop: iterates two times (0, 1, 2) for each i\n",
    "        print(f\"outer: {outer}, inner: {inner}\")\n",
    "    print(\"next\\n\")\n",
    "\n",
    "print(\"DONE\")"
   ]
  },
  {
   "cell_type": "code",
   "execution_count": null,
   "id": "b03d973d-c3d9-49e7-86d6-29ff24fa0a46",
   "metadata": {},
   "outputs": [],
   "source": [
    "# What can I do with this ? Answer: Print multiplication table...start small\n",
    "\n",
    "# STEP1: trial and error1: This is does not work\n",
    "for i in range(4): # Outer loop: iterates three times (0, 1, 2, 3)\n",
    "    for j in range(3): # Inner loop: iterates two times (0, 1, 2) for each i\n",
    "        result = i * j\n",
    "        print(f\"{i} x {j} = {result}\")\n",
    "    print(\"next\\n\")\n",
    "print(\"####################\")\n",
    "\n",
    "\n",
    "# STEP2: trial and error2: This is does not work\n",
    "for i in range(1, 5): # CHANGED  \n",
    "    for j in range(3):\n",
    "        result = i * j\n",
    "        print(f\"{i} x {j} = {result}\")  \n",
    "    print()  # Print a blank line after each table\n",
    "print(\"####################\")\n",
    "\n",
    "# STEP3: trial and error3: SUCCESS\n",
    "for i in range(1, 5):  \n",
    "    for j in range(1, 4):# CHANGED  \n",
    "        result = i * j\n",
    "        print(f\"{i} x {j} = {result}\")  \n",
    "    print()  # Print a blank line after each table\n",
    "print(\"####################\")\n",
    "\n",
    "\n",
    "# STEP4: trial and error3: OPTIMIZE\n",
    "for i in range(1, 5):  \n",
    "    for j in range(1, 4): \n",
    "        print(f\"{i} x {j} = {i*j}\")  # REMOVED variable result\n",
    "    print()  # Print a blank line after each table\n",
    "print(\"####################\")"
   ]
  },
  {
   "cell_type": "code",
   "execution_count": null,
   "id": "3bd6d23d-12cf-49b0-b49a-d695d875a1de",
   "metadata": {},
   "outputs": [],
   "source": [
    "# OPTIONAL: lets do some addition with nested for loop\n",
    "for i in range(1, 5):  \n",
    "    for j in range(1, 4):\n",
    "        result = i + j\n",
    "        print(f\"{i} + {j} = {result}\")  \n",
    "    print()  # Print a blank line after each table"
   ]
  },
  {
   "cell_type": "code",
   "execution_count": null,
   "id": "a8441499-9c15-4fc0-8aad-a4a60854767a",
   "metadata": {},
   "outputs": [],
   "source": []
  },
  {
   "cell_type": "code",
   "execution_count": null,
   "id": "da5bf28a-ac83-4466-bdbd-4e5e48b83a2d",
   "metadata": {},
   "outputs": [],
   "source": []
  }
 ],
 "metadata": {
  "kernelspec": {
   "display_name": "Python 3 (ipykernel)",
   "language": "python",
   "name": "python3"
  },
  "language_info": {
   "codemirror_mode": {
    "name": "ipython",
    "version": 3
   },
   "file_extension": ".py",
   "mimetype": "text/x-python",
   "name": "python",
   "nbconvert_exporter": "python",
   "pygments_lexer": "ipython3",
   "version": "3.9.9"
  }
 },
 "nbformat": 4,
 "nbformat_minor": 5
}
