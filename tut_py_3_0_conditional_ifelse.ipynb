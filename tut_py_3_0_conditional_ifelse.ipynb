{
 "cells": [
  {
   "cell_type": "markdown",
   "id": "05ba9f55-4226-41f1-a7b8-8c82fe190439",
   "metadata": {},
   "source": [
    "## if - else\n",
    "```\n",
    "if  [boolean_expression1]:\n",
    "    statements1\n",
    "elif [boolean_expression2]:\n",
    "    statements2\n",
    "elif [boolean_expression3]:\n",
    "    statements3\n",
    "else\n",
    "    statements4\n",
    "```     \n",
    "\n"
   ]
  },
  {
   "cell_type": "code",
   "execution_count": 2,
   "id": "5221b0b0-aea6-4cfc-9e5e-05f6f11cedc8",
   "metadata": {},
   "outputs": [
    {
     "name": "stdout",
     "output_type": "stream",
     "text": [
      "x is greater than 5\n",
      "I am happy for x\n",
      "are you happy for x?\n",
      "I have exited the if condition\n"
     ]
    }
   ],
   "source": [
    "x = 10 # change x to 4\n",
    "if x > 5:\n",
    "    print(\"x is greater than 5\")\n",
    "    print(\"I am happy for x\")\n",
    "    print(\"are you happy for x?\")\n",
    "\n",
    "print(\"I have moved past the if condition\")    \n"
   ]
  },
  {
   "cell_type": "code",
   "execution_count": 3,
   "id": "9cff667a-8710-48b3-9cd4-2fd3abbcea05",
   "metadata": {},
   "outputs": [
    {
     "name": "stdout",
     "output_type": "stream",
     "text": [
      "x is less than 5\n",
      "I have moved past the if-else condition\n"
     ]
    }
   ],
   "source": [
    "x = 2\n",
    "\n",
    "# if x is less than 5, print less that 5 , else print greater than\n",
    "if x < 5:\n",
    "    print(\"x is less than 5\")\n",
    "else:\n",
    "    print(\"x is not less than 5\")\n",
    "\n",
    "print(\"I have moved past the if-else condition\")    \n"
   ]
  },
  {
   "cell_type": "code",
   "execution_count": 5,
   "id": "70dae8a0-9f62-4cbc-a699-254b73cc844a",
   "metadata": {},
   "outputs": [
    {
     "name": "stdout",
     "output_type": "stream",
     "text": [
      "Enter your name:  ash\n",
      "Enter your age:  45\n"
     ]
    },
    {
     "name": "stdout",
     "output_type": "stream",
     "text": [
      "Hello ash! You are younger than 100 year old man.\n"
     ]
    }
   ],
   "source": [
    "# Program to calculate the year user turns 100, with an if condition\n",
    "name = input(\"Enter your name: \")\n",
    "age = int(input(\"Enter your age: \"))\n",
    "\n",
    "if age < 100:\n",
    "    print(f\"Hello {name}! You are younger than 100 year old man.\")\n",
    "elif age == 100:\n",
    "    print(f\"Wow {name}, you're already 100 years old this year!\")\n",
    "else:\n",
    "    print(f\"Hey {name}, you are older than 100 years old man.\")\n"
   ]
  },
  {
   "cell_type": "code",
   "execution_count": null,
   "id": "e1564d31-7736-486e-a83a-41feefcbc336",
   "metadata": {},
   "outputs": [],
   "source": [
    "# Program to calculate the year user turns 100, with an if condition\n",
    "\n",
    "name = input(\"Enter your name: \")\n",
    "age = int(input(\"Enter your age: \"))\n",
    "\n",
    "current_year = 2025\n",
    "\n",
    "if age < 100:\n",
    "    year_when_100 = current_year + (100 - age)\n",
    "    print(f\"Hello {name}! You will turn 100 years old in the year {year_when_100}.\")\n",
    "elif age == 100:\n",
    "    print(f\"Wow {name}, you're already 100 years old this year!\")\n",
    "else:\n",
    "    print(f\"Hey {name}, you turned 100 years old {age - 100} years ago.\")\n"
   ]
  },
  {
   "cell_type": "code",
   "execution_count": null,
   "id": "f27b155a-a1c1-4071-9729-6435e0610dfa",
   "metadata": {},
   "outputs": [],
   "source": [
    "num = 7\n",
    "\n",
    "if num % 2 == 0:\n",
    "    print(\"Even number\")\n",
    "else:\n",
    "    print(\"Odd number\")\n"
   ]
  },
  {
   "cell_type": "code",
   "execution_count": 10,
   "id": "98492e67-7dd9-4a18-b929-a68f2d6f13f0",
   "metadata": {},
   "outputs": [
    {
     "name": "stdout",
     "output_type": "stream",
     "text": [
      "Grade: B\n",
      "Good work\n"
     ]
    }
   ],
   "source": [
    "marks = 85\n",
    "\n",
    "if marks >= 90:\n",
    "    print(\"Grade: A\")\n",
    "    print(\"Congratulations. Your parents would be proud\")\n",
    "    \n",
    "elif marks >= 80:\n",
    "    print(\"Grade: B\")\n",
    "    print(\"Good work\")\n",
    "    \n",
    "elif marks >= 70:\n",
    "    print(\"Grade: C\")\n",
    "    print(\"Good work, but you can  do better\")\n",
    "    \n",
    "elif marks >= 60:\n",
    "    print(\"Grade: D\")\n",
    "    print(\"Buddy whats going on ? I have confidence that u can do better\")\n",
    "    \n",
    "else:\n",
    "    print(\"Grade: F\")\n",
    "    print(\"Buddy wake up. Start studying.\")\n"
   ]
  },
  {
   "cell_type": "code",
   "execution_count": null,
   "id": "9e4bd387-5b56-4c76-b0fa-63e43ae599ba",
   "metadata": {},
   "outputs": [],
   "source": [
    "### FIX ME\n",
    "# marks = 85\n",
    "\n",
    "# if 100 <= marks <= 90:\n",
    "#     print(\"Grade: A\")\n",
    "#     print(\"Congratulations. Your parents would be proud\")\n",
    "    \n",
    "# elif 90 < marks <= 80:\n",
    "#     print(\"Grade: B\")\n",
    "#     print(\"Good work\")\n",
    "    \n",
    "# elif 80 < marks <= 70:\n",
    "#     print(\"Grade: C\")\n",
    "#     print(\"Good work, but you can  do better\")\n",
    "    \n",
    "# elif 70 < marks <= 60:\n",
    "#     print(\"Grade: D\")\n",
    "#     print(\"Buddy whats going on ? I have confidence that u can do better\")\n",
    "    \n",
    "# else:\n",
    "#     print(\"Grade: F\")\n",
    "#     print(\"Buddy wake up. Start studying.\")\n"
   ]
  },
  {
   "cell_type": "markdown",
   "id": "f365f1f3-f9d1-4a18-a3e5-8a26dd661abc",
   "metadata": {},
   "source": [
    "# if with 'and' 'or'"
   ]
  },
  {
   "cell_type": "code",
   "execution_count": null,
   "id": "4311c784-1845-4d6e-bd42-90160de4a6e5",
   "metadata": {},
   "outputs": [],
   "source": [
    "# if with 'or'\n",
    "\n",
    "#e.g.1\n",
    "age = 16\n",
    "if age < 13 or age > 65:  # Check if the age is less than 13 or greater than 65\n",
    "    print(\"You are eligible for a child or senior ticket.\")\n",
    "else:\n",
    "    print(\"You are eligible for an adult ticket.\")\n",
    "print(\"######################\")\n",
    "\n",
    "#e.g.2\n",
    "user_input = input(\"Do you want to continue? (yes/no): \").strip().lower()\n",
    "if user_input == \"yes\" or user_input == \"no\":  # Check if the input is valid\n",
    "    print(\"Thank you for your response.\")\n",
    "else:\n",
    "    print(\"Invalid input. Please enter 'yes' or 'no'.\")\n",
    "\n",
    "#e.g.3\n",
    "temperature = 95  # Temperature in Fahrenheit\n",
    "if temperature > 90 or temperature < 32:  # Check if it's too hot or too cold\n",
    "    print(\"Weather alert: Extreme temperature!\")\n",
    "else:\n",
    "    print(\"Temperature is within a normal range.\")\n",
    "\n"
   ]
  },
  {
   "cell_type": "code",
   "execution_count": null,
   "id": "2eb4dd39-d4c6-4b1e-88a9-b660490d6641",
   "metadata": {},
   "outputs": [],
   "source": [
    "# if with 'and'\n",
    "\n",
    "#e.g.1\n",
    "#  Checking User Login Credentials\n",
    "# if with 'and'\n",
    "username = input(\"Username:\")\n",
    "password = input(\"Enter password:\")\n",
    "\n",
    "if username == \"admin\" and password == \"12345\":\n",
    "    print(\"Successful login\")\n",
    "else:\n",
    "    print(\"Invalid login\")\n",
    "\n",
    "print(\"##################\")\n",
    "\n",
    "#e.g.2\n",
    "membership_status = \"gold\"\n",
    "purchase_amount = 150 \n",
    "\n",
    "if membership_status == \"gold\" and purchase_amount > 100:  # Check if both conditions are met\n",
    "    print(\"You are eligible for a 20% discount!\")\n",
    "else:\n",
    "    print(\"You are not eligible for a discount.\")\n",
    "\n",
    "#e.g.3\n",
    "exam_score = 78\n",
    "attendance_percentage = 85  # Attendance in percentage\n",
    "\n",
    "if exam_score >= 70 and attendance_percentage >= 75:  # Check if both conditions are met\n",
    "    print(\"Congratulations! You have passed the course.\")\n",
    "else:\n",
    "    print(\"You need to improve your score or attendance to pass.\")\n"
   ]
  },
  {
   "cell_type": "code",
   "execution_count": 4,
   "id": "2951acf7-88cf-4ffd-be4c-df5e3af16256",
   "metadata": {},
   "outputs": [
    {
     "name": "stdout",
     "output_type": "stream",
     "text": [
      "You are eligible for the scholarship!\n",
      "####################\n",
      "Access granted to the restricted area.\n"
     ]
    }
   ],
   "source": [
    "# if with 'and' and 'or'\n",
    "\n",
    "#e.g.1\n",
    "gpa = 3.5\n",
    "extracurriculars = 2  # Number of extracurricular activities\n",
    "\n",
    "if (gpa >= 3.0 and extracurriculars >= 2) or gpa >= 3.8:  # Check if either condition is met\n",
    "    print(\"You are eligible for the scholarship!\")\n",
    "else:\n",
    "    print(\"You are not eligible for the scholarship.\")\n",
    "print(\"####################\")\n",
    "\n",
    "#e.g.2\n",
    "user_role = \"editor\"\n",
    "is_active = True\n",
    "\n",
    "if (user_role == \"admin\" or user_role == \"editor\") and is_active:  # Check if the user is an admin or editor and is active\n",
    "    print(\"Access granted to the restricted area.\")\n",
    "else:\n",
    "    print(\"Access denied.\")"
   ]
  },
  {
   "cell_type": "markdown",
   "id": "ecd5f73f-c276-466d-acaa-3603235cc8f1",
   "metadata": {},
   "source": [
    "## Using if with 'in' (Checking List Membership)"
   ]
  },
  {
   "cell_type": "code",
   "execution_count": 36,
   "id": "11d71c83-44e8-4caa-8963-02020bbca355",
   "metadata": {},
   "outputs": [
    {
     "name": "stdout",
     "output_type": "stream",
     "text": [
      "Milk is on the list.\n"
     ]
    }
   ],
   "source": [
    "shopping_list = [\"milk\", \"bread\", \"eggs\"]\n",
    "\n",
    "if \"milk\" in shopping_list:\n",
    "    print(\"Milk is on the list.\")\n",
    "else:\n",
    "    print(\"Milk is not on the list.\")\n"
   ]
  },
  {
   "cell_type": "code",
   "execution_count": 40,
   "id": "3f149afa-c1a2-4a11-ab69-5677e946bf97",
   "metadata": {},
   "outputs": [
    {
     "name": "stdout",
     "output_type": "stream",
     "text": [
      "milk is on the list.\n"
     ]
    }
   ],
   "source": [
    "shopping_list = [\"milk\", \"bread\", \"eggs\"]\n",
    "item = \"milk\"\n",
    "\n",
    "if item in shopping_list:\n",
    "    print(f\"{item} is on the list.\")\n",
    "else:\n",
    "    print(f\"{item} is not on the list.\")\n"
   ]
  },
  {
   "cell_type": "code",
   "execution_count": 41,
   "id": "2701eb86-e40f-49b5-b846-e80518449641",
   "metadata": {},
   "outputs": [
    {
     "name": "stdout",
     "output_type": "stream",
     "text": [
      "butter is not on the list.\n"
     ]
    }
   ],
   "source": [
    "shopping_list = [\"milk\", \"bread\", \"eggs\"]\n",
    "item = \"butter\"\n",
    "\n",
    "if item in shopping_list:\n",
    "    print(f\"{item} is on the list.\")\n",
    "else:\n",
    "    print(f\"{item} is not on the list.\")\n"
   ]
  },
  {
   "cell_type": "code",
   "execution_count": 42,
   "id": "1c643cc6-4b00-4a32-917c-e319625db19d",
   "metadata": {},
   "outputs": [
    {
     "name": "stdout",
     "output_type": "stream",
     "text": [
      "You are eligible to drive.\n"
     ]
    }
   ],
   "source": [
    "# Nested if Statement\n",
    "age = 20\n",
    "has_license = True\n",
    "\n",
    "if age >= 18:\n",
    "    if has_license:\n",
    "        print(\"You are eligible to drive.\")\n",
    "    else:\n",
    "        print(\"You are eligible to drive, but you need a driving license.\")\n",
    "else:\n",
    "    print(\"You are too young to drive.\")\n"
   ]
  }
 ],
 "metadata": {
  "kernelspec": {
   "display_name": "Python 3 (ipykernel)",
   "language": "python",
   "name": "python3"
  },
  "language_info": {
   "codemirror_mode": {
    "name": "ipython",
    "version": 3
   },
   "file_extension": ".py",
   "mimetype": "text/x-python",
   "name": "python",
   "nbconvert_exporter": "python",
   "pygments_lexer": "ipython3",
   "version": "3.11.2"
  }
 },
 "nbformat": 4,
 "nbformat_minor": 5
}
