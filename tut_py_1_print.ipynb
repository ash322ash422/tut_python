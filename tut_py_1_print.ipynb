{
  "cells": [
    {
      "cell_type": "markdown",
      "id": "41f90248-9f29-492e-8bb9-07b88cc7e03c",
      "metadata": {
        "id": "41f90248-9f29-492e-8bb9-07b88cc7e03c"
      },
      "source": [
        "## Print simple hello world"
      ]
    },
    {
      "cell_type": "code",
      "execution_count": 1,
      "id": "e724929f-5c74-4032-aa07-f4e32aaadc65",
      "metadata": {
        "colab": {
          "base_uri": "https://localhost:8080/"
        },
        "id": "e724929f-5c74-4032-aa07-f4e32aaadc65",
        "outputId": "59cf62ce-2ce2-4e25-ac2a-45f329fa9360"
      },
      "outputs": [
        {
          "output_type": "stream",
          "name": "stdout",
          "text": [
            "hello world jupyter\n"
          ]
        }
      ],
      "source": [
        "print(\"hello world jupyter\")"
      ]
    },
    {
      "cell_type": "code",
      "execution_count": 2,
      "id": "d8d3cc62-5d74-4e2a-998d-8c016b4cb14e",
      "metadata": {
        "colab": {
          "base_uri": "https://localhost:8080/"
        },
        "id": "d8d3cc62-5d74-4e2a-998d-8c016b4cb14e",
        "outputId": "abb33836-1d04-4865-ef8d-a30f7c11b64f"
      },
      "outputs": [
        {
          "output_type": "stream",
          "name": "stdout",
          "text": [
            "Today is good day to learn python.\n"
          ]
        }
      ],
      "source": [
        "print(\"Today is good day to learn python.\")"
      ]
    },
    {
      "cell_type": "markdown",
      "id": "ac15334f-eab8-41b7-b917-fac6bc628c8b",
      "metadata": {
        "id": "ac15334f-eab8-41b7-b917-fac6bc628c8b"
      },
      "source": [
        "### seperator between string"
      ]
    },
    {
      "cell_type": "code",
      "execution_count": 3,
      "id": "3bf35a72-b1fb-4351-9d6b-8a7e8198b261",
      "metadata": {
        "colab": {
          "base_uri": "https://localhost:8080/"
        },
        "id": "3bf35a72-b1fb-4351-9d6b-8a7e8198b261",
        "outputId": "bd03ca4c-f24d-4075-9db8-3f697dab17e6"
      },
      "outputs": [
        {
          "output_type": "stream",
          "name": "stdout",
          "text": [
            "Hello. How are you? I am doing good.\n"
          ]
        }
      ],
      "source": [
        "print(\"Hello. How are you? I am doing good.\")"
      ]
    },
    {
      "cell_type": "code",
      "execution_count": null,
      "id": "3fcfda61-b646-4455-9f53-d4bb33f396cd",
      "metadata": {
        "id": "3fcfda61-b646-4455-9f53-d4bb33f396cd",
        "outputId": "22c8c9a7-9cbb-4a1e-a51b-183d162a5403"
      },
      "outputs": [
        {
          "name": "stdout",
          "output_type": "stream",
          "text": [
            "Hello. How are you? I am doing good.\n"
          ]
        }
      ],
      "source": [
        "print(\"Hello.\", \"How are you?\", \"I am doing good.\")"
      ]
    },
    {
      "cell_type": "code",
      "execution_count": null,
      "id": "0192fb41-78cb-4e9f-b3d4-a4f1b56ee55c",
      "metadata": {
        "id": "0192fb41-78cb-4e9f-b3d4-a4f1b56ee55c",
        "outputId": "bf93e1f3-8864-490e-bdea-0d1b59134f35"
      },
      "outputs": [
        {
          "name": "stdout",
          "output_type": "stream",
          "text": [
            "Hello---how are you?---I am doing good.\n"
          ]
        }
      ],
      "source": [
        "print(\"Hello\", \"how are you?\", \"I am doing good.\", sep=\"---\")"
      ]
    },
    {
      "cell_type": "code",
      "execution_count": null,
      "id": "f7c6d905-927e-49ce-adb0-ed238e6fd4fe",
      "metadata": {
        "id": "f7c6d905-927e-49ce-adb0-ed238e6fd4fe",
        "outputId": "66b95418-366b-40cc-e721-4eb1b7387e9d"
      },
      "outputs": [
        {
          "name": "stdout",
          "output_type": "stream",
          "text": [
            "Hello.---How are you?---I am doing good.\n"
          ]
        }
      ],
      "source": [
        "print(\"Hello.\", \"How are you?\", \"I am doing good.\", sep=\"---\")"
      ]
    },
    {
      "cell_type": "markdown",
      "id": "242f038d-e5d5-4e45-8dc2-6255b8366f3c",
      "metadata": {
        "id": "242f038d-e5d5-4e45-8dc2-6255b8366f3c"
      },
      "source": [
        "### Print variables in 3 different styles"
      ]
    },
    {
      "cell_type": "code",
      "execution_count": null,
      "id": "31f82bf9-f1c2-462c-bd82-15e12a55c849",
      "metadata": {
        "id": "31f82bf9-f1c2-462c-bd82-15e12a55c849",
        "outputId": "73aaa9e6-adce-4de5-eda7-a3708781a5c1"
      },
      "outputs": [
        {
          "name": "stdout",
          "output_type": "stream",
          "text": [
            "Hello. My name is Alice. My brothers name is Rahim. My age is 5. My weight is 4.3 Kg\n"
          ]
        }
      ],
      "source": [
        "print(\"Hello. My name is Alice. My brothers name is Rahim. My age is 5. My weight is 4.3 Kg\")"
      ]
    },
    {
      "cell_type": "code",
      "execution_count": 4,
      "id": "accf14af-ee29-4325-8870-ed5a846fc0c3",
      "metadata": {
        "colab": {
          "base_uri": "https://localhost:8080/"
        },
        "id": "accf14af-ee29-4325-8870-ed5a846fc0c3",
        "outputId": "000e6144-3680-4d62-d010-1f7119b44f91"
      },
      "outputs": [
        {
          "output_type": "stream",
          "name": "stdout",
          "text": [
            "Hello. My name is  Alice . My brothers name is Rahim . My age is  5 . My weight is  4.3\n"
          ]
        }
      ],
      "source": [
        "# Printing Multiple Values\n",
        "name = \"Alice\" # a string variable\n",
        "brother = \"Rahim\"\n",
        "age = 10 # an int variable\n",
        "wt = 4.3 # float\n",
        "\n",
        "print(\"Hello. My name is \", name, \". My brothers name is\", brother, \". My age is \", age , \". My weight is \", wt)"
      ]
    },
    {
      "cell_type": "code",
      "execution_count": 5,
      "id": "f3adadc0-dc7c-4a7c-a9f4-98ab02e5ba90",
      "metadata": {
        "colab": {
          "base_uri": "https://localhost:8080/"
        },
        "id": "f3adadc0-dc7c-4a7c-a9f4-98ab02e5ba90",
        "outputId": "56de9eca-51c1-493b-c58b-f292e7ca4b75"
      },
      "outputs": [
        {
          "output_type": "stream",
          "name": "stdout",
          "text": [
            "Hello. My name is Alice. My brothers name is Rahim. My age is 5. My weight is 4.3\n"
          ]
        }
      ],
      "source": [
        "# Printing Multiple Values\n",
        "name = \"Alice\" # a string variable\n",
        "brother = \"Rahim\" # a string variable\n",
        "age = 5 # an int variable\n",
        "wt = 4.3 # an float variable\n",
        "\n",
        "print(f\"Hello. My name is {name}. My brothers name is {brother}. My age is {age}. My weight is {wt}\")"
      ]
    },
    {
      "cell_type": "code",
      "execution_count": null,
      "id": "1f92aef6-96dc-493a-b795-9fe49479dcb7",
      "metadata": {
        "id": "1f92aef6-96dc-493a-b795-9fe49479dcb7",
        "outputId": "be71a73d-20c6-4347-b1c0-f0cbf1aef260"
      },
      "outputs": [
        {
          "name": "stdout",
          "output_type": "stream",
          "text": [
            "Hello. My name is Alice. My brothers name is Rahim. My age is 5. My weight is 4.3\n"
          ]
        }
      ],
      "source": [
        "# Printing Multiple Values\n",
        "name = \"Alice\" # a string variable\n",
        "brother = \"Rahim\" # a string variable\n",
        "age = 5 # an int variable\n",
        "wt = 4.3 # a float variable\n",
        "\n",
        "msg = f\"Hello. My name is {name}. My brothers name is {brother}. My age is {age}. My weight is {wt}\"\n",
        "print(msg)"
      ]
    },
    {
      "cell_type": "code",
      "execution_count": null,
      "id": "8af4c00a-867f-4d42-bf51-f86ac3e8253e",
      "metadata": {
        "id": "8af4c00a-867f-4d42-bf51-f86ac3e8253e",
        "outputId": "feb72b6c-c00e-4066-e54a-416f2feb41db"
      },
      "outputs": [
        {
          "name": "stdout",
          "output_type": "stream",
          "text": [
            "Hey Sameer. How are you doing Sameer ?. Its a good day Sameer to do some kayaking today. What do you think Sameer ?\n"
          ]
        }
      ],
      "source": [
        "name = 'Sameer'\n",
        "\n",
        "msg = f\"Hey {name}. How are you doing {name} ?. Its a good day {name} to do some kayaking today. What do you think {name} ?\"\n",
        "print(msg)"
      ]
    },
    {
      "cell_type": "code",
      "execution_count": null,
      "id": "8b2611b0-96e3-4f8e-8d72-1e40c05696d3",
      "metadata": {
        "id": "8b2611b0-96e3-4f8e-8d72-1e40c05696d3",
        "outputId": "5cc48830-0d1b-4769-8a5e-7837fb2d88a9"
      },
      "outputs": [
        {
          "name": "stdout",
          "output_type": "stream",
          "text": [
            "Hey Carlos. How are you doing Carlos ?. Its a good day Carlos to do some kayaking today. What do you think Carlos ?\n"
          ]
        }
      ],
      "source": [
        "# Easy to change the names\n",
        "name = 'Carlos'\n",
        "\n",
        "msg = f\"Hey {name}. How are you doing {name} ?. Its a good day {name} to do some kayaking today. What do you think {name} ?\"\n",
        "print(msg)"
      ]
    },
    {
      "cell_type": "markdown",
      "id": "eb2abba7-5e88-42bb-802d-49634ba951b6",
      "metadata": {
        "id": "eb2abba7-5e88-42bb-802d-49634ba951b6"
      },
      "source": [
        "### print special characters"
      ]
    },
    {
      "cell_type": "code",
      "execution_count": 7,
      "id": "ca4069d4-6fee-440a-a222-80a5c10f676c",
      "metadata": {
        "colab": {
          "base_uri": "https://localhost:8080/"
        },
        "id": "ca4069d4-6fee-440a-a222-80a5c10f676c",
        "outputId": "4426390a-64e9-4cf8-8182-a135492ea055"
      },
      "outputs": [
        {
          "output_type": "stream",
          "name": "stdout",
          "text": [
            "HelloWorld!\n",
            "Good\n",
            "Morning!\n",
            "How\tare\tyou\tRahim!\n"
          ]
        }
      ],
      "source": [
        "# print special character using / backslash\n",
        "print(\"HelloWorld!\")\n",
        "print(\"Good\\nMorning!\")  # Newline \\n\n",
        "print(\"How\\tare\\tyou\\tRahim!\")  # Tab \\t"
      ]
    },
    {
      "cell_type": "code",
      "execution_count": null,
      "id": "dd6e67a2-2122-4df5-a100-b49102aab8db",
      "metadata": {
        "id": "dd6e67a2-2122-4df5-a100-b49102aab8db",
        "outputId": "6a820f76-559f-4a46-8b5e-4d1bf720530e"
      },
      "outputs": [
        {
          "name": "stdout",
          "output_type": "stream",
          "text": [
            "Hello\tWorld! This is my \tfirst example \tof tab\n"
          ]
        }
      ],
      "source": [
        "print(\"Hello\\tWorld! This is my \\tfirst example \\tof tab\")  # Tab"
      ]
    },
    {
      "cell_type": "code",
      "execution_count": 9,
      "id": "04bc9f33-6465-4c13-8887-5f4cfaaf0d80",
      "metadata": {
        "colab": {
          "base_uri": "https://localhost:8080/"
        },
        "id": "04bc9f33-6465-4c13-8887-5f4cfaaf0d80",
        "outputId": "5cc359b3-b688-497e-b540-1062a6a2d5e5"
      },
      "outputs": [
        {
          "output_type": "stream",
          "name": "stdout",
          "text": [
            "❤\n",
            "☀\n",
            "Ω\n"
          ]
        }
      ],
      "source": [
        "# Printing Unicode Characters\n",
        "print(\"\\u2764\")  # Heart symbol (❤)\n",
        "print(\"\\u2600\")  # Sun symbol (☀)\n",
        "print(\"\\u03A9\")  # Greek Omega (Ω)"
      ]
    },
    {
      "cell_type": "code",
      "execution_count": null,
      "id": "4a4f6297-dca9-4326-9629-b16480cc3d83",
      "metadata": {
        "id": "4a4f6297-dca9-4326-9629-b16480cc3d83",
        "outputId": "df880220-8d9a-4388-964c-d64514f993a3"
      },
      "outputs": [
        {
          "name": "stdout",
          "output_type": "stream",
          "text": [
            "Today is sunny ☀. I want to talk with my ❤ daughter.\n"
          ]
        }
      ],
      "source": [
        "print(\"Today is sunny \\u2600. I want to talk with my \\u2764 daughter.\")"
      ]
    },
    {
      "cell_type": "code",
      "execution_count": null,
      "id": "ebcc6ad1-fc09-4e6b-97fd-788d46459144",
      "metadata": {
        "id": "ebcc6ad1-fc09-4e6b-97fd-788d46459144",
        "outputId": "95dd9897-4137-416f-a691-d7e00d13d002"
      },
      "outputs": [
        {
          "name": "stdout",
          "output_type": "stream",
          "text": [
            "A\n",
            "😀\n"
          ]
        }
      ],
      "source": [
        "# ASCII Characters using chr()\n",
        "print(chr(65))   # 'A'\n",
        "print(chr(128512))  # 😀 Smiley Face"
      ]
    },
    {
      "cell_type": "code",
      "execution_count": null,
      "id": "39020688-560f-49fe-a5ed-a6ba2a278265",
      "metadata": {
        "id": "39020688-560f-49fe-a5ed-a6ba2a278265",
        "outputId": "0bbdc7c7-aec2-4c51-8cff-e12f1456f7c4"
      },
      "outputs": [
        {
          "name": "stdout",
          "output_type": "stream",
          "text": [
            "I am feeling  😀\n"
          ]
        }
      ],
      "source": [
        "print(\"I am feeling \", chr(128512))"
      ]
    },
    {
      "cell_type": "markdown",
      "id": "84814b36-8bca-440e-a91f-07181055d47f",
      "metadata": {
        "id": "84814b36-8bca-440e-a91f-07181055d47f"
      },
      "source": [
        "### print multiple lines"
      ]
    },
    {
      "cell_type": "code",
      "execution_count": null,
      "id": "b7d78825-b7c7-423d-a254-e497200f93a1",
      "metadata": {
        "id": "b7d78825-b7c7-423d-a254-e497200f93a1",
        "outputId": "ba7a5ca6-ed41-44f9-e135-373edca859a4"
      },
      "outputs": [
        {
          "ename": "SyntaxError",
          "evalue": "unterminated string literal (detected at line 2) (2057713002.py, line 2)",
          "output_type": "error",
          "traceback": [
            "\u001b[1;36m  Cell \u001b[1;32mIn[20], line 2\u001b[1;36m\u001b[0m\n\u001b[1;33m    print(\"This is not\u001b[0m\n\u001b[1;37m          ^\u001b[0m\n\u001b[1;31mSyntaxError\u001b[0m\u001b[1;31m:\u001b[0m unterminated string literal (detected at line 2)\n"
          ]
        }
      ],
      "source": [
        "# I get error\n",
        "print(\"This is not\n",
        "a multiline\n",
        "message!\")"
      ]
    },
    {
      "cell_type": "code",
      "execution_count": null,
      "id": "fc98a9a3-9e56-4246-bfd2-400e7d9e63db",
      "metadata": {
        "id": "fc98a9a3-9e56-4246-bfd2-400e7d9e63db",
        "outputId": "fba639fa-1def-4727-827b-f9752ef3d1bd"
      },
      "outputs": [
        {
          "name": "stdout",
          "output_type": "stream",
          "text": [
            "This is not a multiline message!\n"
          ]
        }
      ],
      "source": [
        "# Printing Multiple Lines Using \\\n",
        "print(\"This is not \\\n",
        "a multiline \\\n",
        "message!\")"
      ]
    },
    {
      "cell_type": "code",
      "execution_count": null,
      "id": "6d1a5a07-8b71-48ef-b3d9-f45e7900ddde",
      "metadata": {
        "id": "6d1a5a07-8b71-48ef-b3d9-f45e7900ddde",
        "outputId": "853da521-4cb1-479e-e2a0-5e7f7a5de9fc"
      },
      "outputs": [
        {
          "name": "stdout",
          "output_type": "stream",
          "text": [
            "This is \n",
            "a multiline \n",
            "message!\n",
            "Now it makes sense.\n",
            "Now I understand how to print multiline\n",
            "messages.\n"
          ]
        }
      ],
      "source": [
        "# Printing Multiple Lines Using Triple Quotes\n",
        "print(\"\"\"This is\n",
        "a multiline\n",
        "message!\n",
        "Now I understand how to print multiline\n",
        "messages.\"\"\")"
      ]
    },
    {
      "cell_type": "code",
      "execution_count": null,
      "id": "0d26e9d5-b450-4327-acc8-0f3ab765d3a7",
      "metadata": {
        "id": "0d26e9d5-b450-4327-acc8-0f3ab765d3a7",
        "outputId": "3da4e9e3-bfd9-433a-dff8-8484c9f0aea7"
      },
      "outputs": [
        {
          "name": "stdout",
          "output_type": "stream",
          "text": [
            "This is \n",
            "a multiline \n",
            "message!\n",
            "Now I understand how to print multiline\n",
            "messages.\n"
          ]
        }
      ],
      "source": [
        "# Printing Multiple Lines Using Triple Quotes\n",
        "msg = \"\"\"This is\n",
        "a multiline\n",
        "message!\n",
        "Now I understand how to print multiline\n",
        "messages.\"\"\"\n",
        "\n",
        "print(msg)"
      ]
    },
    {
      "cell_type": "code",
      "execution_count": null,
      "id": "b74e4e2d-b083-479f-ab89-db883543e223",
      "metadata": {
        "id": "b74e4e2d-b083-479f-ab89-db883543e223"
      },
      "outputs": [],
      "source": []
    }
  ],
  "metadata": {
    "kernelspec": {
      "display_name": "Python 3 (ipykernel)",
      "language": "python",
      "name": "python3"
    },
    "language_info": {
      "codemirror_mode": {
        "name": "ipython",
        "version": 3
      },
      "file_extension": ".py",
      "mimetype": "text/x-python",
      "name": "python",
      "nbconvert_exporter": "python",
      "pygments_lexer": "ipython3",
      "version": "3.11.9"
    },
    "colab": {
      "provenance": []
    }
  },
  "nbformat": 4,
  "nbformat_minor": 5
}