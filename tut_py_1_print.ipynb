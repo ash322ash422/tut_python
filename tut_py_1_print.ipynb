{
 "cells": [
  {
   "cell_type": "markdown",
   "id": "41f90248-9f29-492e-8bb9-07b88cc7e03c",
   "metadata": {},
   "source": [
    "## Print simple hello world"
   ]
  },
  {
   "cell_type": "code",
   "execution_count": 1,
   "id": "e724929f-5c74-4032-aa07-f4e32aaadc65",
   "metadata": {},
   "outputs": [
    {
     "name": "stdout",
     "output_type": "stream",
     "text": [
      "hello world jupyter\n"
     ]
    }
   ],
   "source": [
    "print(\"hello world jupyter\")"
   ]
  },
  {
   "cell_type": "code",
   "execution_count": 2,
   "id": "d8d3cc62-5d74-4e2a-998d-8c016b4cb14e",
   "metadata": {},
   "outputs": [
    {
     "name": "stdout",
     "output_type": "stream",
     "text": [
      "Today is good day to learn python.\n"
     ]
    }
   ],
   "source": [
    "print(\"Today is good day to learn python.\")"
   ]
  },
  {
   "cell_type": "markdown",
   "id": "ac15334f-eab8-41b7-b917-fac6bc628c8b",
   "metadata": {},
   "source": [
    "### seperator between string"
   ]
  },
  {
   "cell_type": "code",
   "execution_count": 6,
   "id": "3bf35a72-b1fb-4351-9d6b-8a7e8198b261",
   "metadata": {},
   "outputs": [
    {
     "name": "stdout",
     "output_type": "stream",
     "text": [
      "Hello. How are you? I am doing good.\n"
     ]
    }
   ],
   "source": [
    "print(\"Hello. How are you? I am doing good.\")"
   ]
  },
  {
   "cell_type": "code",
   "execution_count": 7,
   "id": "3fcfda61-b646-4455-9f53-d4bb33f396cd",
   "metadata": {},
   "outputs": [
    {
     "name": "stdout",
     "output_type": "stream",
     "text": [
      "Hello. how are you? I am doing good.\n"
     ]
    }
   ],
   "source": [
    "print(\"Hello.\", \"How are you?\", \"I am doing good.\")"
   ]
  },
  {
   "cell_type": "code",
   "execution_count": 8,
   "id": "0192fb41-78cb-4e9f-b3d4-a4f1b56ee55c",
   "metadata": {},
   "outputs": [
    {
     "name": "stdout",
     "output_type": "stream",
     "text": [
      "Hello---how are you?---I am doing good.\n"
     ]
    }
   ],
   "source": [
    "print(\"Hello\", \"how are you?\", \"I am doing good.\", sep=\"---\")"
   ]
  },
  {
   "cell_type": "code",
   "execution_count": 9,
   "id": "f7c6d905-927e-49ce-adb0-ed238e6fd4fe",
   "metadata": {},
   "outputs": [
    {
     "name": "stdout",
     "output_type": "stream",
     "text": [
      "Hello---how are you?---I am doing good.\n"
     ]
    }
   ],
   "source": [
    "print(\"Hello.\", \"How are you?\", \"I am doing good.\", sep=\"---\")"
   ]
  },
  {
   "cell_type": "markdown",
   "id": "242f038d-e5d5-4e45-8dc2-6255b8366f3c",
   "metadata": {},
   "source": [
    "### Print variables in 3 different styles"
   ]
  },
  {
   "cell_type": "code",
   "execution_count": 4,
   "id": "31f82bf9-f1c2-462c-bd82-15e12a55c849",
   "metadata": {},
   "outputs": [
    {
     "name": "stdout",
     "output_type": "stream",
     "text": [
      "Hello. My name is Alice. My brothers name is Rahim. My age is 5 and his age is 4\n"
     ]
    }
   ],
   "source": [
    "print(\"Hello. My name is Alice. My brothers name is Rahim. My age is 5. My weight is 4.3 Kg\")"
   ]
  },
  {
   "cell_type": "code",
   "execution_count": 13,
   "id": "accf14af-ee29-4325-8870-ed5a846fc0c3",
   "metadata": {},
   "outputs": [
    {
     "name": "stdout",
     "output_type": "stream",
     "text": [
      "Hello. My name is  Alice . My brothers name is Rahim . My age is  5 .My weight is  4.3\n"
     ]
    }
   ],
   "source": [
    "# Printing Multiple Values\n",
    "name = \"Alice\" # a string variable\n",
    "brother = \"Rahim\"\n",
    "age = 5 # an int variable\n",
    "wt = 4.3\n",
    "print(\"Hello. My name is \", name, \". My brothers name is\", brother, \". My age is \", age , \". My weight is \", wt)"
   ]
  },
  {
   "cell_type": "code",
   "execution_count": 16,
   "id": "f3adadc0-dc7c-4a7c-a9f4-98ab02e5ba90",
   "metadata": {},
   "outputs": [
    {
     "name": "stdout",
     "output_type": "stream",
     "text": [
      "Hello. My name is Alice. My brothers name is Rahim. My age is 5. My weight is 4.3\n"
     ]
    }
   ],
   "source": [
    "# Printing Multiple Values\n",
    "name = \"Alice\" # a string variable\n",
    "brother = \"Rahim\"\n",
    "age = 5 # an int variable\n",
    "wt = 4.3\n",
    "print(f\"Hello. My name is {name}. My brothers name is {brother}. My age is {age}. My weight is {wt}\")"
   ]
  },
  {
   "cell_type": "code",
   "execution_count": 17,
   "id": "1f92aef6-96dc-493a-b795-9fe49479dcb7",
   "metadata": {},
   "outputs": [
    {
     "name": "stdout",
     "output_type": "stream",
     "text": [
      "Hello. My name is Alice. My brothers name is Rahim. My age is 5. My weight is 4.3\n"
     ]
    }
   ],
   "source": [
    "# Printing Multiple Values\n",
    "name = \"Alice\" # a string variable\n",
    "brother = \"Rahim\" # a string variable\n",
    "age = 5 # an int variable\n",
    "wt = 4.3 \n",
    "\n",
    "msg = f\"Hello. My name is {name}. My brothers name is {brother}. My age is {age}. My weight is {wt}\"\n",
    "print(msg)"
   ]
  },
  {
   "cell_type": "code",
   "execution_count": 28,
   "id": "8af4c00a-867f-4d42-bf51-f86ac3e8253e",
   "metadata": {},
   "outputs": [
    {
     "name": "stdout",
     "output_type": "stream",
     "text": [
      "Hey Sameer. How are you doing Sameer ?. Its a good day Sameer to do some kayaking today. What do you think Sameer ?\n"
     ]
    }
   ],
   "source": [
    "name = 'Sameer'\n",
    "msg = f\"Hey {name}. How are you doing {name} ?. Its a good day {name} to do some kayaking today. What do you think {name} ?\"\n",
    "\n",
    "print(msg)"
   ]
  },
  {
   "cell_type": "code",
   "execution_count": 29,
   "id": "8b2611b0-96e3-4f8e-8d72-1e40c05696d3",
   "metadata": {},
   "outputs": [
    {
     "name": "stdout",
     "output_type": "stream",
     "text": [
      "Hey Carlos. How are you doing Carlos ?. Its a good day Carlos to do some kayaking today. What do you think Carlos ?\n"
     ]
    }
   ],
   "source": [
    "# Easy to change the names\n",
    "name = 'Carlos'\n",
    "msg = f\"Hey {name}. How are you doing {name} ?. Its a good day {name} to do some kayaking today. What do you think {name} ?\"\n",
    "\n",
    "print(msg)"
   ]
  },
  {
   "cell_type": "markdown",
   "id": "eb2abba7-5e88-42bb-802d-49634ba951b6",
   "metadata": {},
   "source": [
    "### print special characters"
   ]
  },
  {
   "cell_type": "code",
   "execution_count": 32,
   "id": "ca4069d4-6fee-440a-a222-80a5c10f676c",
   "metadata": {},
   "outputs": [
    {
     "name": "stdout",
     "output_type": "stream",
     "text": [
      "Hello\n",
      "World!\n",
      "Hello\tWorld!\n",
      "Hello\tWorld! This is my \tfirst example \tof tab\n"
     ]
    }
   ],
   "source": [
    "# print special character using / backslash\n",
    "print(\"Hello\\nWorld!\")  # Newline\n",
    "print(\"Hello\\tWorld!\")  # Tab\n",
    "print(\"Hello\\tWorld! This is my \\tfirst example \\tof tab\")  # Tab"
   ]
  },
  {
   "cell_type": "code",
   "execution_count": 18,
   "id": "04bc9f33-6465-4c13-8887-5f4cfaaf0d80",
   "metadata": {},
   "outputs": [
    {
     "name": "stdout",
     "output_type": "stream",
     "text": [
      "❤\n",
      "☀\n",
      "Ω\n"
     ]
    }
   ],
   "source": [
    "# Printing Unicode Characters\n",
    "print(\"\\u2764\")  # Heart symbol (❤)\n",
    "print(\"\\u2600\")  # Sun symbol (☀)\n",
    "print(\"\\u03A9\")  # Greek Omega (Ω)"
   ]
  },
  {
   "cell_type": "code",
   "execution_count": 19,
   "id": "ebcc6ad1-fc09-4e6b-97fd-788d46459144",
   "metadata": {},
   "outputs": [
    {
     "name": "stdout",
     "output_type": "stream",
     "text": [
      "A\n",
      "😀\n"
     ]
    }
   ],
   "source": [
    "# ASCII Characters using chr()\n",
    "print(chr(65))   # 'A'\n",
    "print(chr(128512))  # 😀 Smiley Face"
   ]
  },
  {
   "cell_type": "markdown",
   "id": "84814b36-8bca-440e-a91f-07181055d47f",
   "metadata": {},
   "source": [
    "### print multiple lines"
   ]
  },
  {
   "cell_type": "code",
   "execution_count": 25,
   "id": "b7d78825-b7c7-423d-a254-e497200f93a1",
   "metadata": {},
   "outputs": [
    {
     "ename": "SyntaxError",
     "evalue": "unterminated string literal (detected at line 2) (2046530338.py, line 2)",
     "output_type": "error",
     "traceback": [
      "\u001b[1;36m  Cell \u001b[1;32mIn[25], line 2\u001b[1;36m\u001b[0m\n\u001b[1;33m    print(\"This is not\u001b[0m\n\u001b[1;37m          ^\u001b[0m\n\u001b[1;31mSyntaxError\u001b[0m\u001b[1;31m:\u001b[0m unterminated string literal (detected at line 2)\n"
     ]
    }
   ],
   "source": [
    "# I get error\n",
    "print(\"This is not \n",
    "a multiline \n",
    "message!\")"
   ]
  },
  {
   "cell_type": "code",
   "execution_count": 24,
   "id": "fc98a9a3-9e56-4246-bfd2-400e7d9e63db",
   "metadata": {},
   "outputs": [
    {
     "name": "stdout",
     "output_type": "stream",
     "text": [
      "This is not a multiline message!\n"
     ]
    }
   ],
   "source": [
    "# Printing Multiple Lines Using Triple Quotes\n",
    "print(\"This is not \\\n",
    "a multiline \\\n",
    "message!\")"
   ]
  },
  {
   "cell_type": "code",
   "execution_count": 33,
   "id": "6d1a5a07-8b71-48ef-b3d9-f45e7900ddde",
   "metadata": {},
   "outputs": [
    {
     "name": "stdout",
     "output_type": "stream",
     "text": [
      "This is \n",
      "a multiline \n",
      "message!\n",
      "Now I understand how to print multiline\n",
      "messages.\n"
     ]
    }
   ],
   "source": [
    "# Printing Multiple Lines Using Triple Quotes\n",
    "print(\"\"\"This is \n",
    "a multiline \n",
    "message!\n",
    "Now I understand how to print multiline\n",
    "messages.\"\"\")"
   ]
  },
  {
   "cell_type": "code",
   "execution_count": 34,
   "id": "0d26e9d5-b450-4327-acc8-0f3ab765d3a7",
   "metadata": {},
   "outputs": [
    {
     "name": "stdout",
     "output_type": "stream",
     "text": [
      "This is \n",
      "a multiline \n",
      "message!\n",
      "Now I understand how to print multiline\n",
      "messages.\n"
     ]
    }
   ],
   "source": [
    "# Printing Multiple Lines Using Triple Quotes\n",
    "msg = \"\"\"This is \n",
    "a multiline \n",
    "message!\n",
    "Now I understand how to print multiline\n",
    "messages.\"\"\"\n",
    "\n",
    "print(msg)"
   ]
  },
  {
   "cell_type": "code",
   "execution_count": null,
   "id": "b74e4e2d-b083-479f-ab89-db883543e223",
   "metadata": {},
   "outputs": [],
   "source": []
  }
 ],
 "metadata": {
  "kernelspec": {
   "display_name": "Python 3 (ipykernel)",
   "language": "python",
   "name": "python3"
  },
  "language_info": {
   "codemirror_mode": {
    "name": "ipython",
    "version": 3
   },
   "file_extension": ".py",
   "mimetype": "text/x-python",
   "name": "python",
   "nbconvert_exporter": "python",
   "pygments_lexer": "ipython3",
   "version": "3.11.2"
  }
 },
 "nbformat": 4,
 "nbformat_minor": 5
}
