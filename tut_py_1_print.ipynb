{
 "cells": [
  {
   "cell_type": "markdown",
   "id": "41f90248-9f29-492e-8bb9-07b88cc7e03c",
   "metadata": {
    "id": "41f90248-9f29-492e-8bb9-07b88cc7e03c"
   },
   "source": [
    "## print single line"
   ]
  },
  {
   "cell_type": "code",
   "execution_count": 1,
   "id": "e724929f-5c74-4032-aa07-f4e32aaadc65",
   "metadata": {
    "colab": {
     "base_uri": "https://localhost:8080/"
    },
    "id": "e724929f-5c74-4032-aa07-f4e32aaadc65",
    "outputId": "59cf62ce-2ce2-4e25-ac2a-45f329fa9360"
   },
   "outputs": [
    {
     "name": "stdout",
     "output_type": "stream",
     "text": [
      "1 Hello world\n",
      "1 Hello world\n",
      "'1 Hello world'\n",
      "2 Hello world. Today its raining.\n",
      "3 Hello world. Today its raining.\n",
      "4 Hello world. Today its raining. It is going to be humid today. Good luck\n"
     ]
    }
   ],
   "source": [
    "print()\n",
    "print(\"1 Hello world\") # octothorpe or hashtag\n",
    "print('1 Hello world') # using single quote\n",
    "print(\"This is in quotes: '1 Hello world'\") # octothorpe or hashtag\n",
    "\n",
    "\n",
    "# using comma , to print series of stmts \n",
    "print(\"2 Hello world. Today its raining.\")\n",
    "print(\"3 Hello world.\", \"Today its raining.\")\n",
    "print(\"4 Hello world.\", \"Today its raining.\", \"It is going to be humid today.\", \"Good luck\")"
   ]
  },
  {
   "cell_type": "code",
   "execution_count": 8,
   "id": "c78e69d8-6d96-4cb2-90b4-e539d58d7c39",
   "metadata": {},
   "outputs": [
    {
     "name": "stdout",
     "output_type": "stream",
     "text": [
      "The universe is a vast and mysterious expanse, stretching far beyond what our eyes can see. It's filled with billions of galaxies, each holding stars, planets, and secrets waiting to be discovered. From black holes that warp time to nebulas that birth stars, every corner holds a story. Despite its immense scale, the universe follows precise laws that hint at a hidden order. As we explore it, we not only uncover the cosmos but also understand more about ourselves.\n"
     ]
    }
   ],
   "source": [
    "# Sometimes the line is very big:\n",
    "# Problem: I want to print following paragraph...but it gets scrolled towards right\n",
    "print(\"The universe is a vast and mysterious expanse, stretching far beyond what our eyes can see. It's filled with billions of galaxies, each holding stars, planets, and secrets waiting to be discovered. From black holes that warp time to nebulas that birth stars, every corner holds a story. Despite its immense scale, the universe follows precise laws that hint at a hidden order. As we explore it, we not only uncover the cosmos but also understand more about ourselves.\")"
   ]
  },
  {
   "cell_type": "code",
   "execution_count": 2,
   "id": "6d35dad3-2838-48f4-92a9-7cffa892b8f0",
   "metadata": {},
   "outputs": [
    {
     "ename": "SyntaxError",
     "evalue": "unterminated string literal (detected at line 2) (3194076693.py, line 2)",
     "output_type": "error",
     "traceback": [
      "\u001b[1;36m  Cell \u001b[1;32mIn[2], line 2\u001b[1;36m\u001b[0m\n\u001b[1;33m    print(\"The universe is a vast and mysterious expanse, stretching far beyond\u001b[0m\n\u001b[1;37m          ^\u001b[0m\n\u001b[1;31mSyntaxError\u001b[0m\u001b[1;31m:\u001b[0m unterminated string literal (detected at line 2)\n"
     ]
    }
   ],
   "source": [
    "# I get error: Not a multiline message\n",
    "print(\"The universe is a vast and mysterious expanse, stretching far beyond\n",
    "what our eyes can see. It's filled with billions of galaxies, each holding stars,\n",
    "planets, and secrets waiting to be discovered. From black holes that warp time \n",
    "to nebulas that birth stars, every corner holds a story. Despite its immense scale,\n",
    "the universe follows precise laws that hint at a hidden order. As we explore it, \n",
    "we not only uncover the cosmos but also understand more about ourselves.\")"
   ]
  },
  {
   "cell_type": "code",
   "execution_count": 7,
   "id": "e81e1bd5-8126-44b2-b29d-22cdf9548d7d",
   "metadata": {},
   "outputs": [
    {
     "name": "stdout",
     "output_type": "stream",
     "text": [
      "The universe is a vast and mysterious expanse, stretching far beyond what our eyes can see. It's filled with billions of galaxies, each holding stars, planets, and secrets waiting to be discovered. From black holes that warp time to nebulas that birth stars, every corner holds a story. Despite its immense scale, the universe follows precise laws that hint at a hidden order. As we explore it, we not only uncover the cosmos but also understand more about ourselves.\n"
     ]
    }
   ],
   "source": [
    "# Solution: print single line using backslash \\\n",
    "print(\"The universe is a vast and mysterious expanse, stretching far beyond \\\n",
    "what our eyes can see. It's filled with billions of galaxies, each holding stars, \\\n",
    "planets, and secrets waiting to be discovered. From black holes that warp time \\\n",
    "to nebulas that birth stars, every corner holds a story. Despite its immense scale, \\\n",
    "the universe follows precise laws that hint at a hidden order. As we explore it, \\\n",
    "we not only uncover the cosmos but also understand more about ourselves.\")"
   ]
  },
  {
   "cell_type": "markdown",
   "id": "e04970c2-6653-43f2-8d32-985f4fc17087",
   "metadata": {},
   "source": [
    "### print multiple lines\n",
    "I want to print following:\n",
    "\n",
    "```\n",
    "Beneath the stars, the night wind sings,\n",
    "Of quiet dreams and silver wings.\n",
    "The moonlight dances on the sea,\n",
    "A gentle world, so wild and free.\n",
    "In silence, peace begins to grow.\n",
    "```"
   ]
  },
  {
   "cell_type": "code",
   "execution_count": 8,
   "id": "238550be-5eed-47a5-a3ea-608086b4ed85",
   "metadata": {},
   "outputs": [
    {
     "name": "stdout",
     "output_type": "stream",
     "text": [
      "Beneath the stars, the night wind sings,\n",
      "Of quiet dreams and silver wings.\n",
      "The moonlight dances on the sea,\n",
      "A gentle world, so wild and free.\n",
      "In silence, peace begins to grow.\n"
     ]
    }
   ],
   "source": [
    "# Printing Multiple Lines Using Triple Quotes\n",
    "print(\"\"\"Beneath the stars, the night wind sings,\n",
    "Of quiet dreams and silver wings.\n",
    "The moonlight dances on the sea,\n",
    "A gentle world, so wild and free.\n",
    "In silence, peace begins to grow.\"\"\")"
   ]
  },
  {
   "cell_type": "markdown",
   "id": "ac15334f-eab8-41b7-b917-fac6bc628c8b",
   "metadata": {
    "id": "ac15334f-eab8-41b7-b917-fac6bc628c8b"
   },
   "source": [
    "### seperator between string"
   ]
  },
  {
   "cell_type": "code",
   "execution_count": 9,
   "id": "3bf35a72-b1fb-4351-9d6b-8a7e8198b261",
   "metadata": {
    "colab": {
     "base_uri": "https://localhost:8080/"
    },
    "id": "3bf35a72-b1fb-4351-9d6b-8a7e8198b261",
    "outputId": "bd03ca4c-f24d-4075-9db8-3f697dab17e6"
   },
   "outputs": [
    {
     "name": "stdout",
     "output_type": "stream",
     "text": [
      "Hello. How are you? I am doing good.\n"
     ]
    }
   ],
   "source": [
    "print(\"Hello. How are you? I am doing good.\")"
   ]
  },
  {
   "cell_type": "code",
   "execution_count": 10,
   "id": "3fcfda61-b646-4455-9f53-d4bb33f396cd",
   "metadata": {
    "id": "3fcfda61-b646-4455-9f53-d4bb33f396cd",
    "outputId": "22c8c9a7-9cbb-4a1e-a51b-183d162a5403"
   },
   "outputs": [
    {
     "name": "stdout",
     "output_type": "stream",
     "text": [
      "Hello. How are you? I am doing good.\n"
     ]
    }
   ],
   "source": [
    "print(\"Hello.\", \"How are you?\", \"I am doing good.\")"
   ]
  },
  {
   "cell_type": "code",
   "execution_count": 11,
   "id": "0192fb41-78cb-4e9f-b3d4-a4f1b56ee55c",
   "metadata": {
    "id": "0192fb41-78cb-4e9f-b3d4-a4f1b56ee55c",
    "outputId": "bf93e1f3-8864-490e-bdea-0d1b59134f35"
   },
   "outputs": [
    {
     "name": "stdout",
     "output_type": "stream",
     "text": [
      "Hello...how are you?...I am doing good.\n"
     ]
    }
   ],
   "source": [
    "# use sep to insert seperator between strings: \\t \\n\n",
    "print(\"Hello\", \"how are you?\", \"I am doing good.\", sep=\"...\")"
   ]
  },
  {
   "cell_type": "markdown",
   "id": "fdf47f68-e5ae-4ce3-9ed2-d8de5f6eddff",
   "metadata": {},
   "source": [
    "# endline between print statememt"
   ]
  },
  {
   "cell_type": "code",
   "execution_count": 2,
   "id": "83e0055a-6f19-4c56-aaba-0f42d2ec91ee",
   "metadata": {},
   "outputs": [
    {
     "name": "stdout",
     "output_type": "stream",
     "text": [
      "Hello.\n",
      "How are you?\n",
      "I am doing good.\n"
     ]
    }
   ],
   "source": [
    "# Now I want to override the default end line char \\n\n",
    "print(\"Hello.\")\n",
    "print(\"How are you?\")\n",
    "print(\"I am doing good.\")\n"
   ]
  },
  {
   "cell_type": "code",
   "execution_count": 3,
   "id": "7da3f4b4-d729-444d-ba6e-f785b326d840",
   "metadata": {},
   "outputs": [
    {
     "name": "stdout",
     "output_type": "stream",
     "text": [
      "Hello. How are you? I am doing good. "
     ]
    }
   ],
   "source": [
    "print(\"Hello.\", end=\" \") # other options: ; \\t ,\n",
    "print(\"How are you?\", end=\" \")\n",
    "print(\"I am doing good.\", end=\" \")\n",
    "\n",
    "# print(\"Hello.\", end=\"\\n\") # DEFAULT is newline \\n\n",
    "# print(\"How are you?\", end=\"\\n\")\n",
    "# print(\"I am doing good.\", end=\"\\n\")\n"
   ]
  },
  {
   "cell_type": "markdown",
   "id": "242f038d-e5d5-4e45-8dc2-6255b8366f3c",
   "metadata": {
    "id": "242f038d-e5d5-4e45-8dc2-6255b8366f3c"
   },
   "source": [
    "### Print variables in 2 different styles"
   ]
  },
  {
   "cell_type": "code",
   "execution_count": 13,
   "id": "31f82bf9-f1c2-462c-bd82-15e12a55c849",
   "metadata": {
    "id": "31f82bf9-f1c2-462c-bd82-15e12a55c849",
    "outputId": "73aaa9e6-adce-4de5-eda7-a3708781a5c1"
   },
   "outputs": [
    {
     "name": "stdout",
     "output_type": "stream",
     "text": [
      "Hello. My name is Alice. My brothers name is Rahim. My age is 5. My weight is 4.3 Kg\n"
     ]
    }
   ],
   "source": [
    "print(\"Hello. My name is Alice. My brothers name is Rahim. My age is 5. My weight is 4.3 Kg\")"
   ]
  },
  {
   "cell_type": "code",
   "execution_count": 21,
   "id": "accf14af-ee29-4325-8870-ed5a846fc0c3",
   "metadata": {
    "colab": {
     "base_uri": "https://localhost:8080/"
    },
    "id": "accf14af-ee29-4325-8870-ed5a846fc0c3",
    "outputId": "000e6144-3680-4d62-d010-1f7119b44f91"
   },
   "outputs": [
    {
     "name": "stdout",
     "output_type": "stream",
     "text": [
      "Hello. My name is Alice . My brothers name is Rahim . My age is 10 . My weight is 4.3\n"
     ]
    }
   ],
   "source": [
    "# style 1) Printing Multiple Values\n",
    "person  = \"Alice\"    # name is a str variable with value Alice, \n",
    "brother = \"Rahim\"    # brother is a str variable with value Rahim\n",
    "age     = 10         # age is a int variable with value 10\n",
    "wt      = 4.3        # wt is a float variable with value 4.3\n",
    "\n",
    "\n",
    "# print(person)\n",
    "# print(brother)\n",
    "# print(\"person\")\n",
    "# print(father) # ERROR: This need to be defined first\n",
    "\n",
    "# print(person, brother)\n",
    "# print(person, brother, age, wt)\n",
    "# print(\"person, brother, age, wt\")\n",
    "\n",
    "\n",
    "# Lets print a meaning statement\n",
    "print(\"Hello. My name is\", person, \". My brothers name is\", brother, \". My age is\", age, \". My weight is\", wt)"
   ]
  },
  {
   "cell_type": "code",
   "execution_count": 23,
   "id": "f3adadc0-dc7c-4a7c-a9f4-98ab02e5ba90",
   "metadata": {
    "colab": {
     "base_uri": "https://localhost:8080/"
    },
    "id": "f3adadc0-dc7c-4a7c-a9f4-98ab02e5ba90",
    "outputId": "56de9eca-51c1-493b-c58b-f292e7ca4b75"
   },
   "outputs": [
    {
     "name": "stdout",
     "output_type": "stream",
     "text": [
      "Hello. My name is Alice. My brother name is Rahim. My age is 10. My weight is 4.3\n"
     ]
    }
   ],
   "source": [
    "# style 2) Printing Multiple Values: formatting string\n",
    "person  = \"Alice\"    # name is a str variable with value Alice, \n",
    "brother = \"Rahim\"    # brother is a str variable with value Rahim\n",
    "age     = 10         # age is a int variable with value 10\n",
    "wt      = 4.3        # wt is a float variable with value 4.3\n",
    "\n",
    "print(f\"Hello. My name is {person}. My brother name is {brother}. My age is {age}. My weight is {wt}\") # var should be in {} braces\n",
    "# print(\"Hello. My name is {person}. My brother name is {brother}. My age is {age}. My weight is {wt}\") # without f"
   ]
  },
  {
   "cell_type": "code",
   "execution_count": 24,
   "id": "1f92aef6-96dc-493a-b795-9fe49479dcb7",
   "metadata": {
    "id": "1f92aef6-96dc-493a-b795-9fe49479dcb7",
    "outputId": "be71a73d-20c6-4347-b1c0-f0cbf1aef260"
   },
   "outputs": [
    {
     "name": "stdout",
     "output_type": "stream",
     "text": [
      "Hello. My name is Alice. My brothers name is Rahim. My age is 10. My weight is 4.3\n"
     ]
    }
   ],
   "source": [
    "# Lets make above little different \n",
    "person  = \"Alice\"    # name is a str variable with value Alice, \n",
    "brother = \"Rahim\"    # brother is a str variable with value Rahim\n",
    "age     = 10         # age is a int variable with value 10\n",
    "wt      = 4.3        # wt is a float variable with value 4.3\n",
    "\n",
    "msg = f\"Hello. My name is {person}. My brothers name is {brother}. My age is {age}. My weight is {wt}\"\n",
    "print(msg)"
   ]
  },
  {
   "cell_type": "code",
   "execution_count": 31,
   "id": "8af4c00a-867f-4d42-bf51-f86ac3e8253e",
   "metadata": {
    "id": "8af4c00a-867f-4d42-bf51-f86ac3e8253e",
    "outputId": "feb72b6c-c00e-4066-e54a-416f2feb41db"
   },
   "outputs": [
    {
     "name": "stdout",
     "output_type": "stream",
     "text": [
      "Hey Harry. How are you doing Harry ?. \n",
      "It's a good day Harry to do some kayaking \n",
      "today. What do you think Harry?\n"
     ]
    }
   ],
   "source": [
    "# Why do we need variables ? A simple use case: Easy to change the names at multiple places and I can reuse the  string\n",
    "person = 'Harry'\n",
    "\n",
    "msg = f\"\"\"Hey {person}. How are you doing {person} ?. \n",
    "It's a good day {person} to do some kayaking \n",
    "today. What do you think {person}?\"\"\"\n",
    "\n",
    "print(msg)"
   ]
  },
  {
   "cell_type": "markdown",
   "id": "bc199daa-4f07-4940-9fb4-e6a0b986f661",
   "metadata": {},
   "source": [
    "## print numbers using format: float numbers"
   ]
  },
  {
   "cell_type": "code",
   "execution_count": 44,
   "id": "86c6d458-1592-4966-a2d0-ec3631b743ce",
   "metadata": {},
   "outputs": [
    {
     "name": "stdout",
     "output_type": "stream",
     "text": [
      "The number is 3.14159\n",
      "The number is 3.14\n"
     ]
    }
   ],
   "source": [
    "# n = 3.14159 # use 22/7\n",
    "# print(f\"The number is {n}\") \n",
    "# print(f\"The number is {n:.2f}\")\n",
    "# print(f\"The number is {n:.3f}\")\n",
    "\n",
    "# print(\"############\")\n",
    "# n = 1234567.8912 # represents money,etc\n",
    "# print(f\"Formatted number with comma: {n:,.2f}\") # formats the number with commas as thousands separators and two decimal places.\n",
    "\n",
    "# print(\"############\")\n",
    "# ratio = 0.857573\n",
    "# print(f\"Success rate: {ratio:.1%}\")\n",
    "# print(f\"Success rate: {ratio:.3%}\")\n",
    "\n",
    "# print(\"############OPTIONAL#######\")\n",
    "# # left-aligns the integer i within 5 characters; right-aligns the float value within 6 characters, formatted to two decimal places.\n",
    "# # print(\"1234567890123456789\")\n",
    "# print(\"S.No. | rate\")\n",
    "# for i in range(1, 12):\n",
    "#     value = i * 10.1234\n",
    "#     print(f\"{i:<5} | {value:>6.2f}\") \n"
   ]
  },
  {
   "cell_type": "markdown",
   "id": "eb2abba7-5e88-42bb-802d-49634ba951b6",
   "metadata": {
    "id": "eb2abba7-5e88-42bb-802d-49634ba951b6"
   },
   "source": [
    "### print special characters, aka escape sequence\n",
    "- These are used to represent non-printable or reserved characters in strings\n",
    "```\n",
    "Escape Sequence Meaning\tExample\n",
    "\\\\\tBackslash (\\)\t\"C:\\\\Users\\\\file.txt\"\n",
    "\\'\tSingle quote (')\t'It\\'s zenith'\n",
    "\\\"\tDouble quote (\")\t\"He said, \\\"You turned vermillion\\\"\"\n",
    "\\b\tBackspace\t\"Hello\\b\" → \"Hell\"\n",
    "\\r\tCarriage return\t\"Hello\\rWorld\" → World\n",
    "\\n  Newline\n",
    "\\t  tab\n",
    "\n",
    "```"
   ]
  },
  {
   "cell_type": "code",
   "execution_count": 8,
   "id": "ca4069d4-6fee-440a-a222-80a5c10f676c",
   "metadata": {
    "colab": {
     "base_uri": "https://localhost:8080/"
    },
    "id": "ca4069d4-6fee-440a-a222-80a5c10f676c",
    "outputId": "4426390a-64e9-4cf8-8182-a135492ea055"
   },
   "outputs": [
    {
     "name": "stdout",
     "output_type": "stream",
     "text": [
      "HelloWorld!\n",
      "Hello\n",
      "World!\n"
     ]
    }
   ],
   "source": [
    "# print special character using \\ backslash\n",
    "print(\"HelloWorld!\")\n",
    "# print(\"Hello\\nWorld!\") # newline \\n\n",
    "# print(\"Hello World\\nGood Morning. \\n Hope you hade good sleep\")  # Newline \\n\n",
    "# print(\"#############################\")\n",
    "# print(\"How     are     you     Rahim!\")  # Tab \\t\n",
    "# print(\"How\\tare\\tyou\\tRahim!\")  # Tab \\t\n",
    "# print(\"Hello\\tWorld! This is my \\tfirst example \\tof tab\")  # Tab\n",
    "# print(\"#############################\")\n",
    "\n",
    "# print(\"Hello\\rWorld!\")# carriage return \\r"
   ]
  },
  {
   "cell_type": "code",
   "execution_count": 13,
   "id": "7c171858-3cbc-4cfc-980a-22618c72cbef",
   "metadata": {},
   "outputs": [
    {
     "name": "stdout",
     "output_type": "stream",
     "text": [
      "The path of file is C:\\Users\\file.txt\n",
      "He said, \"My sister put vermillion tika on my forehead\"\n"
     ]
    }
   ],
   "source": [
    "# printing \\ inside a \"\"\n",
    "# print(\"The path of file is C:\\Users\\file.txt\") # Throws error\n",
    "# print(\"\"\"The path of file is C:\\Users\\file.txt\"\"\") # Throws error\n",
    "print(\"The path of file is C:\\\\Users\\\\file.txt\") # C:\\Users\\file.txt\n",
    "\n",
    "\n",
    "# printing ' inside a ''\n",
    "# print('It's a zenith') # Throws error\n",
    "# print('It\\'s a zenith') # It's a zenith\n",
    "# print('It is\\b a zenith')\n",
    "\n",
    "# printing \" inside a \"\"\n",
    "print(\"He said, \\\"My sister put vermillion tika on my forehead\\\"\")\n",
    "\n",
    "# #OPTIONAL\n",
    "# # print(\"\\a\")\n",
    "# # print(\"His astute candor disarmed latent hostilities\\b\") # His astute candor disarmed latent hostilitie\n",
    "# # print(\"Her tenacity ignited\\r profound, serendipitous triumphs\") # profound, serendipitous triumphs\n"
   ]
  },
  {
   "cell_type": "markdown",
   "id": "fd504bc9-c9eb-42a6-9dd5-4d9da0638373",
   "metadata": {},
   "source": [
    "# extra"
   ]
  },
  {
   "cell_type": "code",
   "execution_count": null,
   "id": "391596b2-ab94-4f2c-a39b-8d9a8774fb09",
   "metadata": {},
   "outputs": [],
   "source": [
    "# perform calculation inside format string\n",
    "age = 21\n",
    "print(f\"My age is {age}. People twice my age would be {2*age} years old\")"
   ]
  },
  {
   "cell_type": "code",
   "execution_count": 6,
   "id": "65db1ff5-9c05-47fb-b8a4-8cd53d960682",
   "metadata": {},
   "outputs": [
    {
     "name": "stdout",
     "output_type": "stream",
     "text": [
      "3\n",
      "5789\n"
     ]
    }
   ],
   "source": [
    "# Python(unlike SQL) is CASE SENSITIVE  <- VERY IMPORTANT\n",
    "a = 3\n",
    "A = 5789\n",
    "print(a) # python is case sensitive: var a and A are different \n",
    "print(A)\n",
    "\n",
    "# print(\"Hello\") # is not same as Print()\n",
    "# Print(\"Hello\") # ERROR"
   ]
  },
  {
   "cell_type": "markdown",
   "id": "73bd6c63-8bdb-4023-86be-1dc399d180b9",
   "metadata": {},
   "source": [
    "# OPTIONAL: print special characters"
   ]
  },
  {
   "cell_type": "code",
   "execution_count": 34,
   "id": "04bc9f33-6465-4c13-8887-5f4cfaaf0d80",
   "metadata": {
    "colab": {
     "base_uri": "https://localhost:8080/"
    },
    "id": "04bc9f33-6465-4c13-8887-5f4cfaaf0d80",
    "outputId": "5cc359b3-b688-497e-b540-1062a6a2d5e5"
   },
   "outputs": [
    {
     "name": "stdout",
     "output_type": "stream",
     "text": [
      "❤\n",
      "☀\n",
      "Ω\n",
      "🫠\n"
     ]
    }
   ],
   "source": [
    "# Printing Unicode Characters\n",
    "# https://en.wikipedia.org/wiki/List_of_Unicode_characters\n",
    "print(\"\\u2764\")  # Heart symbol (❤)\n",
    "print(\"\\u2600\")  # Sun symbol (☀)\n",
    "print(\"\\u03A9\")  # Greek Omega (Ω)\n",
    "\n",
    "# Following got it from https://unicode.org/emoji/charts/full-emoji-list.html#1f605 and changed U+1FAE0 to \\U0001FAE0\n",
    "print('\\U0001FAE0') "
   ]
  },
  {
   "cell_type": "code",
   "execution_count": 45,
   "id": "4a4f6297-dca9-4326-9629-b16480cc3d83",
   "metadata": {
    "id": "4a4f6297-dca9-4326-9629-b16480cc3d83",
    "outputId": "df880220-8d9a-4388-964c-d64514f993a3"
   },
   "outputs": [
    {
     "name": "stdout",
     "output_type": "stream",
     "text": [
      "Today is sunny ☀. I want to talk with my ❤ daughter.\n"
     ]
    }
   ],
   "source": [
    "# application\n",
    "print(\"Today is sunny \\u2600. I want to talk with my \\u2764 daughter.\")"
   ]
  },
  {
   "cell_type": "code",
   "execution_count": 16,
   "id": "ebcc6ad1-fc09-4e6b-97fd-788d46459144",
   "metadata": {
    "id": "ebcc6ad1-fc09-4e6b-97fd-788d46459144",
    "outputId": "95dd9897-4137-416f-a691-d7e00d13d002"
   },
   "outputs": [
    {
     "name": "stdout",
     "output_type": "stream",
     "text": [
      "A\n",
      "😀\n",
      "I am feeling  😀\n"
     ]
    }
   ],
   "source": [
    "# ASCII Characters using chr()\n",
    "print(chr(65))   # 'A'\n",
    "print(chr(128512))  # 😀 Smiley Face\n",
    "print(\"I am feeling \", chr(128512))"
   ]
  },
  {
   "cell_type": "markdown",
   "id": "82cad047-9762-4a7b-be21-815c5a888d35",
   "metadata": {},
   "source": [
    "## OPTIONAL: write to a file: "
   ]
  },
  {
   "cell_type": "code",
   "execution_count": 45,
   "id": "2dd4139f",
   "metadata": {},
   "outputs": [],
   "source": [
    "# you can also print to file\n",
    "f = open('output.txt', 'w')  # Open the file in write mode\n",
    "\n",
    "print(\"Hello, world!\", file=f)  # Print to the file\n",
    "print(\"This is my first program in python\", file=f)\n",
    "\n",
    "f.close()  # Don't forget to close the file"
   ]
  },
  {
   "cell_type": "code",
   "execution_count": null,
   "id": "8713bd82-ab2c-41ee-93eb-7d28880978a6",
   "metadata": {},
   "outputs": [],
   "source": []
  }
 ],
 "metadata": {
  "colab": {
   "provenance": []
  },
  "kernelspec": {
   "display_name": "Python 3 (ipykernel)",
   "language": "python",
   "name": "python3"
  },
  "language_info": {
   "codemirror_mode": {
    "name": "ipython",
    "version": 3
   },
   "file_extension": ".py",
   "mimetype": "text/x-python",
   "name": "python",
   "nbconvert_exporter": "python",
   "pygments_lexer": "ipython3",
   "version": "3.9.9"
  }
 },
 "nbformat": 4,
 "nbformat_minor": 5
}
