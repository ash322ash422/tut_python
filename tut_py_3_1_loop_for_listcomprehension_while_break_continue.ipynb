{
 "cells": [
  {
   "cell_type": "markdown",
   "id": "d42fed27-2540-47d1-b144-8ddc6650e58f",
   "metadata": {},
   "source": [
    "# For Loop\n",
    "\n",
    " - range, list comprehension, nested for\n",
    " - practice question"
   ]
  },
  {
   "cell_type": "code",
   "execution_count": 28,
   "id": "de9d4088-3424-4b40-b27f-b8521a329737",
   "metadata": {},
   "outputs": [
    {
     "name": "stdout",
     "output_type": "stream",
     "text": [
      "hello\n",
      "hello\n",
      "hello\n",
      "hello\n"
     ]
    }
   ],
   "source": [
    "print(\"hello\")\n",
    "print(\"hello\")\n",
    "print(\"hello\")\n",
    "print(\"hello\")"
   ]
  },
  {
   "cell_type": "code",
   "execution_count": 18,
   "id": "80f57696-6852-4cae-a0c4-28e84b85da9a",
   "metadata": {},
   "outputs": [
    {
     "name": "stdout",
     "output_type": "stream",
     "text": [
      "hello\n",
      "hello\n",
      "hello\n",
      "hello\n"
     ]
    }
   ],
   "source": [
    "for i in [0,1,2,3]:\n",
    "    print(\"hello\")"
   ]
  },
  {
   "cell_type": "code",
   "execution_count": 11,
   "id": "1518cbca-0181-4c16-938f-b6360303155e",
   "metadata": {},
   "outputs": [
    {
     "name": "stdout",
     "output_type": "stream",
     "text": [
      "hello\n",
      "...I am trapped in for loop\n",
      "hello\n",
      "...I am trapped in for loop\n",
      "hello\n",
      "...I am trapped in for loop\n",
      "hello\n",
      "...I am trapped in for loop\n",
      "I am out of for loop\n"
     ]
    }
   ],
   "source": [
    "# where does the for loop ends, thats decided by indentation\n",
    "for i in [0,1,2,3]:\n",
    "    print(\"hello\")\n",
    "    print(\"...I am trapped in for loop\") \n",
    "\n",
    "\n",
    "print(\"I am out of for loop\")"
   ]
  },
  {
   "cell_type": "code",
   "execution_count": 12,
   "id": "1f337507-ff95-4970-84db-c36ad69a48c3",
   "metadata": {},
   "outputs": [
    {
     "name": "stdout",
     "output_type": "stream",
     "text": [
      "hello\n",
      "...I am trapped in for loop\n",
      "hello\n",
      "...I am trapped in for loop\n",
      "hello\n",
      "...I am trapped in for loop\n",
      "hello\n",
      "...I am trapped in for loop\n",
      "I am out of for loop\n"
     ]
    }
   ],
   "source": [
    "# Now comes range to iterate many many times..say 100\n",
    "# range(start, stop, step): Generates a sequence from start up to (but not including) stop, incrementing by step.\n",
    "# default step=1\n",
    "for i in range(0,4): \n",
    "    print(\"hello\")\n",
    "    print(\"...I am trapped in for loop\") \n",
    "\n",
    "print(\"I am out of for loop\")\n",
    "\n",
    "# change 4 -> 10, etc"
   ]
  },
  {
   "cell_type": "code",
   "execution_count": 8,
   "id": "e616c1ab-a509-4e35-b8f9-fc7831fb36cf",
   "metadata": {},
   "outputs": [
    {
     "name": "stdout",
     "output_type": "stream",
     "text": [
      "The i value is 0\n",
      "The i value is 1\n",
      "The i value is 2\n",
      "The i value is 3\n",
      "The i value is 4\n",
      "The i value is 5\n",
      "The i value is 6\n",
      "The i value is 7\n"
     ]
    }
   ],
   "source": [
    "for i in range(0,8):\n",
    "    print(f\"The i value is {i}\")"
   ]
  },
  {
   "cell_type": "code",
   "execution_count": 9,
   "id": "17fc7ed4-f1e1-448b-8003-694f3b41f2c8",
   "metadata": {},
   "outputs": [
    {
     "name": "stdout",
     "output_type": "stream",
     "text": [
      "The i value is 0\n",
      "The i value is 3\n",
      "The i value is 6\n"
     ]
    }
   ],
   "source": [
    "for i in range(0,8,3):\n",
    "    print(f\"The i value is {i}\")"
   ]
  },
  {
   "cell_type": "code",
   "execution_count": 10,
   "id": "83658d8b-bff1-448c-8ef0-962cc48dc97c",
   "metadata": {},
   "outputs": [
    {
     "name": "stdout",
     "output_type": "stream",
     "text": [
      "100 103 106 109 112 115 118 121 124 127 130 133 136 139 142 145 148 "
     ]
    }
   ],
   "source": [
    "for i in range(100,150,3):\n",
    "    print(i,end=\" \")"
   ]
  },
  {
   "cell_type": "code",
   "execution_count": 3,
   "id": "3c4faaed-a501-4c23-a9a8-6e995bebb977",
   "metadata": {},
   "outputs": [
    {
     "name": "stdout",
     "output_type": "stream",
     "text": [
      "[0, 1, 2, 3]\n",
      "[0, 5, 10, 15, 20]\n",
      "hello\n",
      "...sita\n",
      "hello\n",
      "...sita\n",
      "hello\n",
      "...sita\n",
      "hello\n",
      "...sita\n",
      "I have exited the loop\n"
     ]
    }
   ],
   "source": [
    "# Aside: I want to create a list of numbers from 0 to 3\n",
    "list_range = list(range(0,4))\n",
    "print(list_range)\n",
    "print(\"################\")\n",
    "\n",
    "# Aside: I want to create a list of numbers like 0, 5, 10, 15, 20, etc.\n",
    "list_range = list(range(0,21,5))\n",
    "print(list_range)\n",
    "print(\"################\")\n",
    "\n",
    "\n",
    "list_range = list(range(0,4))\n",
    "for i in list_range:\n",
    "    print(\"hello\")\n",
    "    print(\"...sita\")\n",
    "print(\"I have exited the loop\")"
   ]
  },
  {
   "cell_type": "code",
   "execution_count": 18,
   "id": "1e3f5df0-5ad5-4a88-bbb3-28a8a9bf1f8c",
   "metadata": {},
   "outputs": [
    {
     "name": "stdout",
     "output_type": "stream",
     "text": [
      "apple\n",
      "banana\n",
      "cherry\n"
     ]
    }
   ],
   "source": [
    "#prints in new line\n",
    "fruits = [\"apple\", \"banana\", \"cherry\"]\n",
    "for fruit in fruits:\n",
    "    print(fruit)"
   ]
  },
  {
   "cell_type": "code",
   "execution_count": 17,
   "id": "8d6ff012-75cb-4e2e-8e38-dcc598090ef5",
   "metadata": {},
   "outputs": [
    {
     "name": "stdout",
     "output_type": "stream",
     "text": [
      "apple banana cherry "
     ]
    }
   ],
   "source": [
    "# prints in 1 line\n",
    "fruits = [\"apple\", \"banana\", \"cherry\"]\n",
    "for fruit in fruits:\n",
    "    print(fruit, end = \" \")"
   ]
  },
  {
   "cell_type": "code",
   "execution_count": 6,
   "id": "ded904d5-8a83-417b-94cf-8dfc78a6a107",
   "metadata": {},
   "outputs": [
    {
     "name": "stdout",
     "output_type": "stream",
     "text": [
      "I love apple\n",
      "I love banana\n",
      "I love cherry\n"
     ]
    }
   ],
   "source": [
    "fruits = [\"apple\", \"banana\", \"cherry\"]\n",
    "for fruit in fruits:\n",
    "    print(f\"I love {fruit}\")"
   ]
  },
  {
   "cell_type": "markdown",
   "id": "b47e65cd-5bc9-490f-9a27-d276256a19ea",
   "metadata": {},
   "source": [
    "### for loop practice"
   ]
  },
  {
   "cell_type": "code",
   "execution_count": 5,
   "id": "b0839441-6cc8-4501-95a2-a6431bcbccd5",
   "metadata": {},
   "outputs": [
    {
     "name": "stdout",
     "output_type": "stream",
     "text": [
      "<class 'int'>\n",
      "<class 'float'>\n",
      "<class 'bool'>\n",
      "<class 'str'>\n"
     ]
    }
   ],
   "source": [
    "# I want to see the data type of all elements in a list\n",
    "assorted_list = [4, 5.98, True, \"ad astra\", ]\n",
    "for e in assorted_list:\n",
    "    print(type(e))"
   ]
  },
  {
   "cell_type": "code",
   "execution_count": 3,
   "id": "90be671e-901d-4f7d-b5b4-00ebd9514323",
   "metadata": {},
   "outputs": [
    {
     "name": "stdout",
     "output_type": "stream",
     "text": [
      "<class 'int'>\n",
      "<class 'bool'>\n",
      "<class 'str'>\n",
      "<class 'dict'>\n",
      "<class 'list'>\n"
     ]
    }
   ],
   "source": [
    "# I want to see the data type of all elements in a list\n",
    "assorted_list = [4, 5.98, True, \"ad astra\", {'ash': 1234}, [2,4,7] ]\n",
    "for e in assorted_list:\n",
    "    print(type(e))"
   ]
  },
  {
   "cell_type": "code",
   "execution_count": 7,
   "id": "143bcdc1-a908-4686-aeb3-b04937664708",
   "metadata": {},
   "outputs": [
    {
     "name": "stdout",
     "output_type": "stream",
     "text": [
      "Element is 1. Data type is <class 'int'>\n",
      "Element is True. Data type is <class 'bool'>\n",
      "Element is ad astra. Data type is <class 'str'>\n",
      "Element is {'ash': 1234}. Data type is <class 'dict'>\n",
      "Element is [2, 4, 7]. Data type is <class 'list'>\n",
      "######I am out of for loop############\n"
     ]
    }
   ],
   "source": [
    "# Now I want to print the element and its data type: \n",
    "assorted_list = [1, True, \"ad astra\", {'ash': 1234}, [2,4,7] ]\n",
    "for e in assorted_list:\n",
    "    print(f\"Element is {e}. Data type is {type(e)}\")\n",
    "    \n",
    "print(\"######I am out of for loop############\")"
   ]
  },
  {
   "cell_type": "code",
   "execution_count": 13,
   "id": "7f318608-af29-4b54-8fcd-5afb991acc6f",
   "metadata": {},
   "outputs": [
    {
     "name": "stdout",
     "output_type": "stream",
     "text": [
      "4\n",
      "3\n",
      "3\n",
      "4\n",
      "5\n",
      "2\n",
      "###################\n",
      "2\n",
      "3\n",
      "4\n",
      "5\n"
     ]
    }
   ],
   "source": [
    "# lets print the element of tuple or set\n",
    "# create a tuple of height of kids\n",
    "height = (4, 3, 3, 4, 5, 2)\n",
    "\n",
    "# iterate a tuple\n",
    "for i in height:\n",
    "    print(i)\n",
    "print(\"###################\")\n",
    "\n",
    "# create a  set\n",
    "height = {4, 3, 3, 4, 5, 2 }\n",
    "\n",
    "# iterate a tuple\n",
    "for i in height:\n",
    "    print(i)"
   ]
  },
  {
   "cell_type": "code",
   "execution_count": 34,
   "id": "b02351bb-9c73-4423-a455-d3bde8d3894e",
   "metadata": {},
   "outputs": [
    {
     "name": "stdout",
     "output_type": "stream",
     "text": [
      "[2, 4, 6, 8, 10]\n"
     ]
    }
   ],
   "source": [
    "# Lets print a scaled numbers by factor 2\n",
    "numbers = [1, 2, 3, 4, 5]\n",
    "result = []\n",
    "for n in numbers:\n",
    "    scaled_n = n*2\n",
    "    result.append(scaled_n)\n",
    "\n",
    "print(result)\n"
   ]
  },
  {
   "cell_type": "code",
   "execution_count": 19,
   "id": "9233b52c-9c21-4e61-b33f-305c4f49f69f",
   "metadata": {},
   "outputs": [
    {
     "name": "stdout",
     "output_type": "stream",
     "text": [
      "The sum is 10\n",
      "##############\n",
      "The sum is 20\n",
      "##############\n",
      "The sum is 16\n",
      "##############\n",
      "The sum is 105\n",
      "##############\n"
     ]
    }
   ],
   "source": [
    "# Lets add numbers from 1 to 4 (500)\n",
    "sum = 0\n",
    "for i in range(1, 5): # start with 1\n",
    "    sum = sum + i\n",
    "print(f\"The sum is {sum}\")\n",
    "print(\"##############\")\n",
    "\n",
    "# lets add even numbers: 2 + 4 + 6 + 8\n",
    "sum = 0\n",
    "for i in range(2, 9, 2): # start with 2, step size = 2\n",
    "    sum = sum + i\n",
    "print(f\"The sum is {sum}\")\n",
    "print(\"##############\")\n",
    "\n",
    "# lets add odd numbers: 1 + 3 + 5 + 7\n",
    "sum = 0\n",
    "for i in range(1, 8, 2): # start with 1, step size = 2\n",
    "    sum = sum + i\n",
    "print(f\"The sum is {sum}\")\n",
    "print(\"##############\")\n",
    "\n",
    "# lets add numbers: 11 + 16 + 21 + 26 + 31\n",
    "sum = 0\n",
    "for i in range(11, 32, 5): # start with 11, step size = 5\n",
    "    sum = sum + i\n",
    "print(f\"The sum is {sum}\")\n",
    "print(\"##############\")\n",
    "\n"
   ]
  },
  {
   "cell_type": "code",
   "execution_count": 20,
   "id": "be65af69-ac99-4bb2-bd64-6cf078b1d08f",
   "metadata": {},
   "outputs": [
    {
     "name": "stdout",
     "output_type": "stream",
     "text": [
      "Square of 3 is: 9\n",
      "Square of 5 is: 25\n",
      "Square of 4 is: 16\n",
      "Square of 10 is: 100\n",
      "Square of 7 is: 49\n"
     ]
    }
   ],
   "source": [
    "# lets print the square of following numbers\n",
    "numbers = [3, 5, 4, 10, 7]\n",
    "\n",
    "for i in numbers: \n",
    "    square = i ** 2 # ** exponent operator\n",
    "    print(f\"Square of {i} is: {square}\")"
   ]
  },
  {
   "cell_type": "markdown",
   "id": "684097b4-852a-45b3-abe6-a06966c8152c",
   "metadata": {},
   "source": [
    "### list Comprehension"
   ]
  },
  {
   "cell_type": "code",
   "execution_count": 33,
   "id": "f051e5c0-9603-4b61-b59d-e31045d7764e",
   "metadata": {},
   "outputs": [
    {
     "name": "stdout",
     "output_type": "stream",
     "text": [
      "numbers: [1, 2, 3, 4, 5, 6, 7, 8, 9, 10]\n",
      "####\n",
      "numbers: [1, 2, 3, 4, 5, 6, 7, 8, 9, 10]\n",
      "#######################################\n",
      "[2, 4, 6, 8, 10]\n",
      "####\n",
      "[2, 4, 6, 8, 10]\n",
      "#######################################\n",
      "times3: [3, 6, 9, 12, 15, 18, 21, 24, 27, 30]\n",
      "squares: [1, 4, 9, 16, 25, 36, 49, 64, 81, 100]\n"
     ]
    }
   ],
   "source": [
    "# 1. Basic List Comprehension\n",
    "\n",
    "#create a list of 10 numbers\n",
    "result = []\n",
    "for n in range(1,11):\n",
    "    result.append(n)\n",
    "\n",
    "print(f\"numbers: {result}\")\n",
    "print(\"####\")\n",
    "\n",
    "# Lets redo above using list Comprehension\n",
    "result = [n for n in range(1, 11)]\n",
    "print(f\"numbers: {result}\")\n",
    "print(\"#######################################\")\n",
    "\n",
    "\n",
    "# Lets print a scaled numbers by factor 2 w/o list compr.\n",
    "numbers = [1, 2, 3, 4, 5]\n",
    "result = []\n",
    "for n in numbers:\n",
    "    scaled_n = n*2\n",
    "    result.append(scaled_n)\n",
    "\n",
    "print(result)\n",
    "print(\"####\")\n",
    "\n",
    "# Lets redo above using list Comprehension\n",
    "numbers = [1, 2, 3, 4, 5]\n",
    "result = [n * 2 for n in numbers]  # Multiply each element by 2\n",
    "print(result)  # Output: [2, 4, 6, 8, 10]\n",
    "print(\"#######################################\")\n",
    "\n",
    "\n",
    "# Create a list of \"times 3\" from 1 to 10.\n",
    "times3 = [x*3 for x in range(1, 11)]\n",
    "print(f\"times3: {times3}\")\n",
    "\n",
    "# Create a list of squares from 1 to 10.\n",
    "squares = [x**2 for x in range(1, 11)]\n",
    "print(f\"squares: {squares}\")"
   ]
  },
  {
   "cell_type": "code",
   "execution_count": 36,
   "id": "cd1f4b60-8ce9-4b03-a64f-478e6361c07a",
   "metadata": {},
   "outputs": [
    {
     "name": "stdout",
     "output_type": "stream",
     "text": [
      "numbers: [1, 2, 3, 4, 5, 6, 7, 8, 9, 10]\n",
      "evens:   [2, 4, 6, 8, 10]\n"
     ]
    }
   ],
   "source": [
    "# 2. List Comprehension with Condition...here we print all even numbers\n",
    "# Get even numbers from 1 to 10.\n",
    "\n",
    "numbers = [n for n in range(1, 11)]\n",
    "print(f\"numbers: {numbers}\")\n",
    "\n",
    "evens = [n for n in range(1, 11) if n % 2 == 0]\n",
    "print(f\"evens:   {evens}\")"
   ]
  },
  {
   "cell_type": "code",
   "execution_count": 37,
   "id": "aa414ba4-130a-4950-9d88-3dc28d306e3b",
   "metadata": {},
   "outputs": [
    {
     "name": "stdout",
     "output_type": "stream",
     "text": [
      "numbers: [1, 2, 3, 4, 5, 6, 7, 8, 9, 10]\n",
      "['Odd', 'Even', 'Odd', 'Even', 'Odd', 'Even', 'Odd', 'Even', 'Odd', 'Even']\n"
     ]
    }
   ],
   "source": [
    "# 3. List Comprehension with if-else...here we print even or odd\n",
    "numbers = [n for n in range(1, 11)]\n",
    "print(f\"numbers: {numbers}\")\n",
    "\n",
    "labels = [\"Even\" if n % 2 == 0 else \"Odd\" for n in range(1, 11)]\n",
    "print(labels)\n"
   ]
  },
  {
   "cell_type": "code",
   "execution_count": 38,
   "id": "549e9568-fa72-4165-9181-1f03bbfb09af",
   "metadata": {},
   "outputs": [
    {
     "name": "stdout",
     "output_type": "stream",
     "text": [
      "['I', 'i', 'o', 'i', 'i', 'o', 'u', 'a', 'i', 'i', 'i', 'a', 'e', 'o', 'e']\n"
     ]
    }
   ],
   "source": [
    "# 5. Real-World Example: Extract Vowels from a String in order they appear.\n",
    "sentence = \"It is snowing in  mountains. This is awesome\"\n",
    "vowels = [char for char in sentence if char.lower() in 'aeiou']\n",
    "print(vowels)"
   ]
  },
  {
   "cell_type": "markdown",
   "id": "a8b56ec7-ee30-4a2d-8795-7e5154174d45",
   "metadata": {},
   "source": [
    "## practice \"for with if\""
   ]
  },
  {
   "cell_type": "code",
   "execution_count": 26,
   "id": "a8ad3324-58f7-4ab6-bc51-a1cc4ad58c3c",
   "metadata": {},
   "outputs": [
    {
     "name": "stdout",
     "output_type": "stream",
     "text": [
      "Total number of a is: 3\n",
      "################\n",
      "Total number of vowels: 15\n",
      "################\n",
      "Found keywords: ['human', 'dwelt']\n"
     ]
    }
   ],
   "source": [
    "# count number of char a in sentence\n",
    "name = \"saturn to mars to earth\"\n",
    "count = 0\n",
    "for char in name:\n",
    "    if char == 'a':  # Check if the character is 'a'\n",
    "        count += 1   # Increment the count if it is 'a'\n",
    "\n",
    "print('Total number of a is:', count)\n",
    "\n",
    "print(\"################\")\n",
    "# count the number of vowels in a given sentence.\n",
    "# Lets change the sentence = \"The quick brown fox jumps over the lazy dog\"\n",
    "sentence = \"The slow white fox could not jump over the little dog\"\n",
    "count = 0\n",
    "vowels = \"aeiouAEIOU\"\n",
    "\n",
    "for char in sentence:\n",
    "    if char in vowels:  # Check if the character is a vowel\n",
    "        count += 1\n",
    "\n",
    "print(\"Total number of vowels:\",count)\n",
    "\n",
    "print(\"################\")\n",
    "# check if certain words are present in a given text.\n",
    "# copy and paste poem from  https://en.wikipedia.org/wiki/Lucy_Gray\n",
    "text = \"\"\"\n",
    "LUCY GRAY\n",
    "\n",
    "Oft I had heard of Lucy Gray,\n",
    "And, when I crossed the Wild,\n",
    "I chanced to see at break of day\n",
    "The solitary Child.\n",
    "\n",
    "No mate, no comrade Lucy knew;\n",
    "She dwelt on a wide Moor,\n",
    "-The sweetest Thing that ever grew\n",
    "Beside a human door!\n",
    "\n",
    "\"\"\"\n",
    "keywords = [\"human\", \"dwelt\", \"bank\", \"Jupyter\"]\n",
    "found_keywords = []\n",
    "\n",
    "for k in keywords:\n",
    "    if k in text:  # Check if the word  k is in the text\n",
    "        found_keywords.append(k)\n",
    "\n",
    "print(\"Found keywords:\", found_keywords)"
   ]
  },
  {
   "cell_type": "markdown",
   "id": "eb7f518e-ea22-48dc-8e1d-c6303ef0de85",
   "metadata": {},
   "source": [
    "## practice for "
   ]
  },
  {
   "cell_type": "code",
   "execution_count": 65,
   "id": "47d6c9f9-b253-47c7-b0ae-65df7836868d",
   "metadata": {},
   "outputs": [
    {
     "name": "stdout",
     "output_type": "stream",
     "text": [
      "Pyramid with 3 rows:\n",
      "  *\n",
      " ***\n",
      "*****\n"
     ]
    }
   ],
   "source": [
    "# Prints a pyramid shape with a specified number of rows.\n",
    "\n",
    "rows = 3 # 4 , 5, 6\n",
    "print(f\"Pyramid with {rows} rows:\")\n",
    "for i in range(rows):\n",
    "    # Calculate the number of spaces before the asterisks\n",
    "    spaces = rows - 1 - i\n",
    "\n",
    "    # Calculate the number of asterisks in the current row\n",
    "    asterisks = 2 * i + 1\n",
    "\n",
    "    # Print the spaces and then the asterisks\n",
    "    print(\" \" * spaces + \"*\" * asterisks)\n"
   ]
  },
  {
   "cell_type": "code",
   "execution_count": 66,
   "id": "c332d5c7-8580-4d44-b817-3820692d6e7d",
   "metadata": {},
   "outputs": [
    {
     "name": "stdout",
     "output_type": "stream",
     "text": [
      "\n",
      "Inverted Pyramid with 3 rows:\n",
      "*****\n",
      " ***\n",
      "  *\n"
     ]
    }
   ],
   "source": [
    "# Prints an inverted pyramid shape with a specified number of rows.\n",
    "\n",
    "rows = 3\n",
    "print(f\"\\nInverted Pyramid with {rows} rows:\") \n",
    "for i in range(rows):\n",
    "    # Calculate the number of spaces before the asterisks\n",
    "    spaces = i\n",
    "    \n",
    "    # Calculate the number of asterisks in the current row\n",
    "    asterisks = 2 * (rows - 1 - i) + 1\n",
    "    \n",
    "    # Print the spaces and then the asterisks\n",
    "    print(\" \" * spaces + \"*\" * asterisks)\n"
   ]
  },
  {
   "cell_type": "code",
   "execution_count": null,
   "id": "0de265a2-29fc-4597-9132-d5b07737687c",
   "metadata": {},
   "outputs": [],
   "source": [
    "# Prints a diamond shape with out nested for loop\n",
    "\n",
    "# rows (int): The number of rows in the top half of the diamond.\n",
    "#                 The total height will be 2 * rows - 1.\n",
    "rows = 4\n",
    "print(f\"Diamond with {rows} top rows:\")\n",
    "# Top half of the diamond\n",
    "for i in range(rows):\n",
    "    spaces = rows - 1 - i\n",
    "    asterisks = 2 * i + 1\n",
    "    print(\" \" * spaces + \"*\" * asterisks)\n",
    "\n",
    "# Bottom half of the diamond\n",
    "for i in range(rows - 2, -1, -1):\n",
    "    spaces = rows - 1 - i\n",
    "    asterisks = 2 * i + 1\n",
    "    print(\" \" * spaces + \"*\" * asterisks)"
   ]
  },
  {
   "cell_type": "markdown",
   "id": "e65d566e-da55-4c6b-839e-b0c8b3dededd",
   "metadata": {},
   "source": [
    "## Nested \"for inside for\""
   ]
  },
  {
   "cell_type": "code",
   "execution_count": 50,
   "id": "7863f0d2-47c2-44f3-8caf-519ca6e0a83f",
   "metadata": {},
   "outputs": [
    {
     "name": "stdout",
     "output_type": "stream",
     "text": [
      "start outer\n",
      "outer is 0\n",
      "end outer\n",
      "\n",
      "start outer\n",
      "outer is 1\n",
      "end outer\n",
      "\n",
      "start outer\n",
      "outer is 2\n",
      "end outer\n",
      "\n",
      "start outer\n",
      "outer is 3\n",
      "end outer\n",
      "\n",
      "##########\n",
      "start outer\n",
      "outer is 0\n",
      "...inner is 0\n",
      "...inner is 1\n",
      "...inner is 2\n",
      "end outer\n",
      "\n",
      "start outer\n",
      "outer is 1\n",
      "...inner is 0\n",
      "...inner is 1\n",
      "...inner is 2\n",
      "end outer\n",
      "\n",
      "start outer\n",
      "outer is 2\n",
      "...inner is 0\n",
      "...inner is 1\n",
      "...inner is 2\n",
      "end outer\n",
      "\n",
      "start outer\n",
      "outer is 3\n",
      "...inner is 0\n",
      "...inner is 1\n",
      "...inner is 2\n",
      "end outer\n",
      "\n"
     ]
    }
   ],
   "source": [
    "# work backward...start with outer for loop and start adding inside for statement to see whats happening.\n",
    "#step1\n",
    "for outer in range(4): # Outer loop: iterates three times (0, 1, 2, 3)\n",
    "    print(\"start outer\")\n",
    "    print(f\"outer is {outer}\")\n",
    "    print(\"end outer\\n\")\n",
    "print(\"##########\")\n",
    "# step2\n",
    "for outer in range(4): # Outer loop: iterates three times (0, 1, 2, 3)\n",
    "    print(\"start outer\")\n",
    "    print(f\"outer is {outer}\")\n",
    "    for inner in range(3): # Inner loop: iterates two times (0, 1, 2) inside\n",
    "        print(f\"...inner is {inner}\")\n",
    "    print(\"end outer\\n\")"
   ]
  },
  {
   "cell_type": "code",
   "execution_count": 58,
   "id": "38a8b15d-b860-48fb-ac51-0256cc51356b",
   "metadata": {},
   "outputs": [
    {
     "name": "stdout",
     "output_type": "stream",
     "text": [
      "i: 0, j: 0\n",
      "i: 0, j: 1\n",
      "i: 0, j: 2\n",
      "next\n",
      "\n",
      "i: 1, j: 0\n",
      "i: 1, j: 1\n",
      "i: 1, j: 2\n",
      "next\n",
      "\n",
      "i: 2, j: 0\n",
      "i: 2, j: 1\n",
      "i: 2, j: 2\n",
      "next\n",
      "\n",
      "i: 3, j: 0\n",
      "i: 3, j: 1\n",
      "i: 3, j: 2\n",
      "next\n",
      "\n"
     ]
    }
   ],
   "source": [
    "# I wanted to see what following loop is going to print.. and analyse this.\n",
    "for i in range(4): # Outer loop: iterates three times (0, 1, 2, 3)\n",
    "    for j in range(3): # Inner loop: iterates two times (0, 1, 2) for each i\n",
    "        print(f\"i: {i}, j: {j}\")\n",
    "    print(\"next\\n\")\n",
    "\n",
    "# Nested loop: \"for inside for\"\n",
    "# print(\"i: 0, j: 0\")\n",
    "# print(\"i: 0, j: 1\")\n",
    "# print(\"i: 0, j: 2\")\n",
    "# print(\"next\")\n",
    "\n",
    "# print(\"i: 1, j: 0\")\n",
    "# print(\"i: 1, j: 1\")\n",
    "# print(\"i: 1, j: 2\")\n",
    "# print(\"next\")\n",
    "\n",
    "# print(\"i: 2, j: 0\")\n",
    "# print(\"i: 2, j: 1\")\n",
    "# print(\"i: 2, j: 2\")\n",
    "# print(\"next\")\n",
    "\n",
    "# print(\"i: 3, j: 0\")\n",
    "# print(\"i: 3, j: 1\")\n",
    "# print(\"i: 3, j: 2\")\n",
    "# print(\"next\")\n",
    "# print(\"##########\")\n"
   ]
  },
  {
   "cell_type": "code",
   "execution_count": 61,
   "id": "e7dd69b8-d2db-405b-89ed-505a3d9a3e39",
   "metadata": {},
   "outputs": [
    {
     "name": "stdout",
     "output_type": "stream",
     "text": [
      "0 x 0 = 0\n",
      "0 x 1 = 0\n",
      "0 x 2 = 0\n",
      "next\n",
      "\n",
      "1 x 0 = 0\n",
      "1 x 1 = 1\n",
      "1 x 2 = 2\n",
      "next\n",
      "\n",
      "2 x 0 = 0\n",
      "2 x 1 = 2\n",
      "2 x 2 = 4\n",
      "next\n",
      "\n",
      "3 x 0 = 0\n",
      "3 x 1 = 3\n",
      "3 x 2 = 6\n",
      "next\n",
      "\n",
      "####################\n",
      "1 x 0 = 0\n",
      "1 x 1 = 1\n",
      "1 x 2 = 2\n",
      "\n",
      "2 x 0 = 0\n",
      "2 x 1 = 2\n",
      "2 x 2 = 4\n",
      "\n",
      "3 x 0 = 0\n",
      "3 x 1 = 3\n",
      "3 x 2 = 6\n",
      "\n",
      "4 x 0 = 0\n",
      "4 x 1 = 4\n",
      "4 x 2 = 8\n",
      "\n",
      "####################\n",
      "1 x 1 = 1\n",
      "1 x 2 = 2\n",
      "1 x 3 = 3\n",
      "\n",
      "2 x 1 = 2\n",
      "2 x 2 = 4\n",
      "2 x 3 = 6\n",
      "\n",
      "3 x 1 = 3\n",
      "3 x 2 = 6\n",
      "3 x 3 = 9\n",
      "\n",
      "4 x 1 = 4\n",
      "4 x 2 = 8\n",
      "4 x 3 = 12\n",
      "\n"
     ]
    }
   ],
   "source": [
    "# What can I do with this ? Answer: Print multiplication table...start small\n",
    "\n",
    "# trial and error1\n",
    "for i in range(4): # Outer loop: iterates three times (0, 1, 2, 3)\n",
    "    for j in range(3): # Inner loop: iterates two times (0, 1, 2) for each i\n",
    "        result = i * j\n",
    "        print(f\"{i} x {j} = {result}\")\n",
    "    print(\"next\\n\")\n",
    "\n",
    "print(\"####################\")\n",
    "# trial and error2\n",
    "for i in range(1, 5): # CHANGED  \n",
    "    for j in range(3):\n",
    "        result = i * j\n",
    "        print(f\"{i} x {j} = {result}\")  \n",
    "    print()  # Print a blank line after each table\n",
    "print(\"####################\")\n",
    "\n",
    "# trial and error3: SUCCESS\n",
    "for i in range(1, 5):  \n",
    "    for j in range(1, 4):\n",
    "        result = i * j\n",
    "        print(f\"{i} x {j} = {result}\")  \n",
    "    print()  # Print a blank line after each table"
   ]
  },
  {
   "cell_type": "code",
   "execution_count": 62,
   "id": "f668f608-64a0-4305-809e-7d9181fc20fc",
   "metadata": {},
   "outputs": [
    {
     "name": "stdout",
     "output_type": "stream",
     "text": [
      "1 + 1 = 2\n",
      "1 + 2 = 3\n",
      "1 + 3 = 4\n",
      "\n",
      "2 + 1 = 3\n",
      "2 + 2 = 4\n",
      "2 + 3 = 5\n",
      "\n",
      "3 + 1 = 4\n",
      "3 + 2 = 5\n",
      "3 + 3 = 6\n",
      "\n",
      "4 + 1 = 5\n",
      "4 + 2 = 6\n",
      "4 + 3 = 7\n",
      "\n"
     ]
    }
   ],
   "source": [
    "# lets do some addition  with nested for loop\n",
    "for i in range(1, 5):  \n",
    "    for j in range(1, 4):\n",
    "        result = i + j\n",
    "        print(f\"{i} + {j} = {result}\")  \n",
    "    print()  # Print a blank line after each table"
   ]
  },
  {
   "cell_type": "code",
   "execution_count": 55,
   "id": "d9888897-aa17-4059-a336-218b6e023883",
   "metadata": {},
   "outputs": [
    {
     "name": "stdout",
     "output_type": "stream",
     "text": [
      "* \n",
      "* * \n",
      "* * * \n",
      "* * * * \n",
      "##########\n",
      "\n",
      "Mirrored Left-Angled Triangle with 4 rows:\n",
      "* \n",
      "* * \n",
      "* * * \n",
      "* * * * \n"
     ]
    }
   ],
   "source": [
    "# Prints a mirrored left-angled triangle.\n",
    "\n",
    "print(\"*\", end=\" \")\n",
    "print()\n",
    "\n",
    "print(\"*\", end=\" \")\n",
    "print(\"*\", end=\" \")\n",
    "print()\n",
    "\n",
    "print(\"*\", end=\" \")\n",
    "print(\"*\", end=\" \")\n",
    "print(\"*\", end=\" \")\n",
    "print()\n",
    "\n",
    "print(\"*\", end=\" \")\n",
    "print(\"*\", end=\" \")\n",
    "print(\"*\", end=\" \")\n",
    "print(\"*\", end=\" \")\n",
    "print()\n",
    "print(\"##########\")\n",
    "\n",
    "# redo above using \"for inside for\" loop\n",
    "rows = 4\n",
    "print(f\"\\nMirrored Left-Angled Triangle with {rows} rows:\")\n",
    "# outer loop\n",
    "for i in range(1, rows + 1):\n",
    "    for j in range(1, i + 1): # inner loop\n",
    "        print(\"*\", end=\" \")\n",
    "    print('')\n"
   ]
  },
  {
   "cell_type": "markdown",
   "id": "1d674661-b2b9-47c6-97d7-b5ed5ad48430",
   "metadata": {},
   "source": [
    "## while\n",
    "\n",
    "```\n",
    "while [boolean_expression]:\n",
    "    stmt1\n",
    "    stmt2\n",
    "    .\n",
    "    .\n",
    "    stmtn\n",
    "```"
   ]
  },
  {
   "cell_type": "code",
   "execution_count": 2,
   "id": "f34e87b3-f2ca-48b4-8a72-b290f736e4fa",
   "metadata": {},
   "outputs": [
    {
     "name": "stdout",
     "output_type": "stream",
     "text": [
      "1\n",
      "2\n",
      "3\n",
      "4\n",
      "5\n",
      "#################\n",
      "1 2 3 4 5 "
     ]
    }
   ],
   "source": [
    "# 1. Basic while Loop\n",
    "\n",
    "# print 1 2 3 4 5 on each newline\n",
    "i = 1\n",
    "while i <= 5:\n",
    "    print(i)\n",
    "    i += 1  # Increment i\n",
    "print(\"#################\")\n",
    "\n",
    "# print 1 2 3 4 5 on one line\n",
    "i = 1\n",
    "while i <= 5:\n",
    "    print(i, end=\" \")\n",
    "    i += 1  # Increment i\n",
    "\n"
   ]
  },
  {
   "cell_type": "code",
   "execution_count": 9,
   "id": "3b215707-d0eb-43de-a690-5684cf0eb88d",
   "metadata": {},
   "outputs": [
    {
     "name": "stdout",
     "output_type": "stream",
     "text": [
      "2\n",
      "4\n",
      "6\n",
      "8\n",
      "10\n",
      "Done\n",
      "##############\n",
      "2\n",
      "4\n",
      "6\n",
      "8\n",
      "10\n",
      "Done\n",
      "##############\n",
      "2\n",
      "4\n",
      "6\n",
      "8\n",
      "10\n",
      "Done\n",
      "##############\n"
     ]
    }
   ],
   "source": [
    "# Print only even numbers: 2 4 6 8 10\n",
    "\n",
    "#style1\n",
    "num = 2\n",
    "while num <= 10:\n",
    "    print(num)\n",
    "    num += 2\n",
    "print(\"Done\")\n",
    "print(\"##############\")\n",
    "\n",
    "#style2\n",
    "num = 0\n",
    "while num < 10:\n",
    "    num += 1\n",
    "    if num % 2 == 0:  # Check if the number is even\n",
    "        print(num)    \n",
    "print(\"Done\")\n",
    "print(\"##############\")\n",
    "\n",
    "#style3\n",
    "num = 0\n",
    "while num < 10:\n",
    "    num += 1\n",
    "    if num % 2 != 0:\n",
    "        continue  # Skip odd numbers\n",
    "    print(num)\n",
    "print(\"Done\")\n",
    "print(\"##############\")\n"
   ]
  },
  {
   "cell_type": "code",
   "execution_count": 11,
   "id": "449d7b07-ca50-4fd0-a3a2-b2fcb7b19191",
   "metadata": {},
   "outputs": [
    {
     "name": "stdin",
     "output_type": "stream",
     "text": [
      "Enter a number (0 to stop):  4\n"
     ]
    },
    {
     "name": "stdout",
     "output_type": "stream",
     "text": [
      "You entered: 4\n"
     ]
    },
    {
     "name": "stdin",
     "output_type": "stream",
     "text": [
      "Enter a number (0 to stop):  8\n"
     ]
    },
    {
     "name": "stdout",
     "output_type": "stream",
     "text": [
      "You entered: 8\n"
     ]
    },
    {
     "name": "stdin",
     "output_type": "stream",
     "text": [
      "Enter a number (0 to stop):  4\n"
     ]
    },
    {
     "name": "stdout",
     "output_type": "stream",
     "text": [
      "You entered: 4\n"
     ]
    },
    {
     "name": "stdin",
     "output_type": "stream",
     "text": [
      "Enter a number (0 to stop):  0\n"
     ]
    },
    {
     "name": "stdout",
     "output_type": "stream",
     "text": [
      "Loop ended.\n"
     ]
    }
   ],
   "source": [
    "# 2. while Loop with User Input\n",
    "num = int(input(\"Enter a number (0 to stop): \"))\n",
    "while num != 0:\n",
    "    print(f\"You entered: {num}\")\n",
    "    num = int(input(\"Enter a number (0 to stop): \"))\n",
    "\n",
    "print(\"Loop ended.\")"
   ]
  },
  {
   "cell_type": "code",
   "execution_count": 13,
   "id": "ade7ccac-c251-4cf4-80bb-d4751a6cb359",
   "metadata": {},
   "outputs": [
    {
     "name": "stdout",
     "output_type": "stream",
     "text": [
      "1\n",
      "2\n",
      "3\n",
      "Stopping at 4\n",
      "##############\n",
      "1 2 3 4 5 "
     ]
    }
   ],
   "source": [
    "# 3. Using break in a while Loop to exit the loop\n",
    "\n",
    "# print 1 2 3 on each newline\n",
    "i = 1\n",
    "while i <= 6:\n",
    "    if i == 4:\n",
    "        print(\"Stopping at 4\")\n",
    "        break  # Exit the loop\n",
    "    print(i)\n",
    "    i += 1\n",
    "print(\"##############\")\n",
    "\n",
    "# print 1 2 3 4 5 \n",
    "i = 1\n",
    "while True:\n",
    "    print(i, end=\" \")\n",
    "    i += 1  # Increment i\n",
    "    if i == 6:\n",
    "        break"
   ]
  },
  {
   "cell_type": "code",
   "execution_count": 15,
   "id": "67140b6a-0aa9-4ece-986f-2f1cf13b1285",
   "metadata": {},
   "outputs": [
    {
     "name": "stdout",
     "output_type": "stream",
     "text": [
      "1\n",
      "2\n",
      "4\n",
      "5\n",
      "DONE#############\n",
      "1\n",
      "2\n",
      "5\n"
     ]
    }
   ],
   "source": [
    "# 4. Using continue in a while Loop to skip certain iteration\n",
    "\n",
    "# print 1 2 4 5 on each newline...skips 3\n",
    "i = 0\n",
    "while i < 5:\n",
    "    i += 1\n",
    "    if i == 3:\n",
    "        continue  # Skip iteration when i == 3\n",
    "    print(i)\n",
    "print(\"DONE#############\")\n",
    "\n",
    "# print 1 2 5 on each newline...skips 3,4\n",
    "i = 0\n",
    "while i < 5:\n",
    "    i += 1\n",
    "    if i == 3 or i == 4:\n",
    "        continue  # Skip iteration when i == 3\n",
    "    print(i)\n"
   ]
  },
  {
   "cell_type": "code",
   "execution_count": null,
   "id": "ac4aa14e-04b9-4f3b-9efa-499560324909",
   "metadata": {},
   "outputs": [],
   "source": [
    "# 5. Infinite Loop (Press Ctrl+C to Stop) DANGEROUS\n",
    "while True:\n",
    "    print(\"This is an infinite loop. Press Ctrl+C to stop.\")\n"
   ]
  },
  {
   "cell_type": "markdown",
   "id": "947b03ea-984c-4581-a578-57153b7ab6a6",
   "metadata": {},
   "source": [
    "## Real world example\n",
    "ATM Withdrawal Simulation\n",
    "\n",
    "This example simulates an ATM where a user can withdraw money until their balance runs out or they exit."
   ]
  },
  {
   "cell_type": "code",
   "execution_count": null,
   "id": "d13b8d85-2ceb-4edd-9b2b-3e5143c2507a",
   "metadata": {},
   "outputs": [
    {
     "name": "stdout",
     "output_type": "stream",
     "text": [
      "\n",
      "ATM Machine\n",
      "1. Check Balance\n",
      "2. Withdraw Money\n",
      "3. Exit\n"
     ]
    }
   ],
   "source": [
    "balance = 1000  # Initial account balance\n",
    "\n",
    "while True:\n",
    "    print(\"\\nATM Machine\")\n",
    "    print(\"1. Check Balance\")\n",
    "    print(\"2. Withdraw Money\")\n",
    "    print(\"3. Exit\")\n",
    "    \n",
    "    choice = input(\"Enter your choice (1-3): \")\n",
    "    \n",
    "    if choice == \"1\":\n",
    "        print(f\"Your current balance is: ${balance}\")\n",
    "    \n",
    "    elif choice == \"2\":\n",
    "        amount = float(input(\"Enter amount to withdraw: \"))\n",
    "        \n",
    "        if amount > balance:\n",
    "            print(\"Insufficient funds! Try a smaller amount.\")\n",
    "        else:\n",
    "            balance = balance - amount\n",
    "            print(f\"Withdrawal successful! New balance: ${balance}\")\n",
    "    \n",
    "    elif choice == \"3\":\n",
    "        print(\"Thank you for using the ATM. Goodbye!\")\n",
    "        break  # Exit the loop\n",
    "    \n",
    "    else:\n",
    "        print(\"Invalid choice! Please enter 1, 2, or 3.\")\n"
   ]
  },
  {
   "cell_type": "markdown",
   "id": "31f8bccc-003f-4067-bf7d-afb6690e73bc",
   "metadata": {},
   "source": [
    "## more examples of \"for, if, break, continue\" "
   ]
  },
  {
   "cell_type": "code",
   "execution_count": 10,
   "id": "4a01fd51-852e-4ff0-bc5f-fa76a3982b9a",
   "metadata": {},
   "outputs": [
    {
     "name": "stdout",
     "output_type": "stream",
     "text": [
      "210 231 252 273 294 315 336 357 378 399 \n",
      "I am out of 'for' life\n",
      "###############\n",
      "210 315 "
     ]
    }
   ],
   "source": [
    "# find all numbers between 200 and 400 that are divisible by 3 \"and\" 7\n",
    "for num in range(200, 401):\n",
    "    if num % 3 == 0 and num % 7 == 0:\n",
    "        print(num, end = \" \")\n",
    "print(\"\\nI am out of 'for' life\")\n",
    "\n",
    "print(\"###############\")\n",
    "# find all numbers between 200 and 400 that are divisible by 3 \"and\" 5 \"and\" 7 \n",
    "for num in range(200, 401):\n",
    "    if num % 3 == 0 and num % 5 == 0 and num % 7 == 0:\n",
    "        print(num, end = \" \")"
   ]
  },
  {
   "cell_type": "code",
   "execution_count": 2,
   "id": "c3a8e370-0013-4960-896f-f508cfefa78d",
   "metadata": {},
   "outputs": [
    {
     "name": "stdout",
     "output_type": "stream",
     "text": [
      "201 203 204 207 210 213 216 217 219 222 224 225 228 231 234 237 238 240 243 245 246 249 252 255 258 259 261 264 266 267 270 273 276 279 280 282 285 287 288 291 294 297 300 301 303 306 308 309 312 315 318 321 322 324 327 329 330 333 336 339 342 343 345 348 350 351 354 357 360 363 364 366 369 371 372 375 378 381 384 385 387 390 392 393 396 399 "
     ]
    }
   ],
   "source": [
    "# find all numbers between 200 and 400 that are divisible by 3 \"or\" 7\n",
    "for num in range(200, 401):\n",
    "    if num % 3 == 0 or num % 7 == 0:\n",
    "        print(num, end = \" \")"
   ]
  },
  {
   "cell_type": "code",
   "execution_count": 3,
   "id": "787d20ce-527e-4a04-85c8-9e7dabad3d6f",
   "metadata": {},
   "outputs": [
    {
     "name": "stdout",
     "output_type": "stream",
     "text": [
      "[210, 231, 252, 273, 294, 315, 336, 357, 378, 399]\n",
      "##############\n",
      "[210, 231, 252, 273, 294, 315, 336, 357, 378, 399]\n"
     ]
    }
   ],
   "source": [
    "# find all numbers between 200 and 400 that are divisible by 3 and 7, and save them in  a list\n",
    "\n",
    "#style1\n",
    "result = []\n",
    "for num in range(200, 401):\n",
    "    if num % 3 == 0 and num % 7 == 0:\n",
    "        result.append(num)\n",
    "print(result)\n",
    "print(\"##############\")\n",
    "\n",
    "#style2\n",
    "result = [num for num in range(200, 401) if num % 3 == 0 and num % 7 == 0]\n",
    "print(result)\n"
   ]
  },
  {
   "cell_type": "code",
   "execution_count": 13,
   "id": "0e1cedd5-88ea-4634-aad8-de9bbca7e7f1",
   "metadata": {},
   "outputs": [
    {
     "name": "stdout",
     "output_type": "stream",
     "text": [
      "OMG: Somebody help me. Mr Else has trapped me in the loop 1\n",
      "OMG: Somebody help me. Mr Else has trapped me in the loop 4\n",
      "OMG: Somebody help me. Mr Else has trapped me in the loop 7\n",
      "OMG: Somebody help me. Mr Else has trapped me in the loop 8\n",
      "OMG: Somebody help me. Mr Else has trapped me in the loop 15\n",
      "Good bye. I am breaking out of the loop. Thanks Mr If\n"
     ]
    }
   ],
   "source": [
    "numbers = [1, 4, 7, 8, 15, 20, 35, 45, 55]\n",
    "for i in numbers:\n",
    "    if i > 15:\n",
    "        # break the loop\n",
    "        print(\"Good bye. I am breaking out of the loop. Thanks Mr If\")\n",
    "        break\n",
    "    else:\n",
    "        print(f\"OMG: Somebody help me. Mr Else has trapped me in the loop {i}\")"
   ]
  },
  {
   "cell_type": "code",
   "execution_count": 16,
   "id": "464c11c9-b3ac-4808-b4b2-0fdb974f8eab",
   "metadata": {},
   "outputs": [
    {
     "name": "stdout",
     "output_type": "stream",
     "text": [
      "Total number of a is: 2\n",
      "####################\n",
      "Total number of s is: 10\n"
     ]
    }
   ],
   "source": [
    "# count number of chars in sentence\n",
    "name = \"saturn to mars\"\n",
    "count = 0\n",
    "for char in name:\n",
    "    if char != 'a':\n",
    "        continue\n",
    "    else:\n",
    "        count = count + 1\n",
    "\n",
    "print('Total number of a is:', count)\n",
    "print(\"####################\")\n",
    "\n",
    "\n",
    "name = \"The universe is a vast, poetic canvas of stars and silence, where every atom whispers the story of creation. \"\n",
    "count = 0\n",
    "for char in name:\n",
    "    if char != 's':\n",
    "        continue\n",
    "    else:\n",
    "        count = count + 1\n",
    "\n",
    "print(f'Total number of s is: {count}')"
   ]
  },
  {
   "cell_type": "code",
   "execution_count": null,
   "id": "b32e3ebf-af33-4134-afd2-e9c958ace23e",
   "metadata": {},
   "outputs": [],
   "source": []
  }
 ],
 "metadata": {
  "kernelspec": {
   "display_name": "Python 3 (ipykernel)",
   "language": "python",
   "name": "python3"
  },
  "language_info": {
   "codemirror_mode": {
    "name": "ipython",
    "version": 3
   },
   "file_extension": ".py",
   "mimetype": "text/x-python",
   "name": "python",
   "nbconvert_exporter": "python",
   "pygments_lexer": "ipython3",
   "version": "3.11.2"
  }
 },
 "nbformat": 4,
 "nbformat_minor": 5
}
