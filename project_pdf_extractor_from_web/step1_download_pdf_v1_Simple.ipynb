{
 "cells": [
  {
   "cell_type": "code",
   "execution_count": 4,
   "id": "1f950c7f-5299-4f9e-bda4-d977f401e6f3",
   "metadata": {},
   "outputs": [
    {
     "name": "stdout",
     "output_type": "stream",
     "text": [
      "C:\\Users\\UCT\\Desktop\\ashwani_stuff\\code_stuff_temp\\temp\\project_pdf_extractor_from_web_using_python\n",
      "Successfully downloaded PDF: Recommended_List_Under_ATAL_OFFLINE_FDPs_2025_26.pdf (833,978 bytes)\n",
      "PDF saved to: C:\\Users\\UCT\\Desktop\\ashwani_stuff\\code_stuff_temp\\temp\\project_pdf_extractor_from_web_using_python\\Recommended_List_Under_ATAL_OFFLINE_FDPs_2025_26.pdf\n"
     ]
    }
   ],
   "source": [
    "import requests\n",
    "import os\n",
    "from urllib.parse import urlparse, unquote\n",
    "from pathlib import Path\n",
    "\n",
    "# This code does not contain many error checks\n",
    "\n",
    "def download_pdf(url, save_path=None, filename=None):\n",
    "    # Send GET request with headers to mimic a browser\n",
    "    headers = {\n",
    "        'User-Agent': 'Mozilla/5.0 (Windows NT 10.0; Win64; x64) AppleWebKit/537.36'\n",
    "    }\n",
    "    \n",
    "    response = requests.get(url, headers=headers, stream=True, timeout=30)\n",
    "\n",
    "    # Determine filename\n",
    "    if not filename:\n",
    "        # Try to get filename from URL\n",
    "        parsed_url = urlparse(url)\n",
    "        filename = unquote(os.path.basename(parsed_url.path))\n",
    "        \n",
    "    \n",
    "    # Determine save path\n",
    "    if save_path is None:\n",
    "        save_path = os.getcwd()\n",
    "    \n",
    "    # Create directory if it doesn't exist\n",
    "    Path(save_path).mkdir(parents=True, exist_ok=True)\n",
    "    \n",
    "    # Full file path\n",
    "    file_path = os.path.join(save_path, filename)\n",
    "    \n",
    "    # Download and save the file\n",
    "    with open(file_path, 'wb') as file:\n",
    "        for chunk in response.iter_content(chunk_size=8192):\n",
    "            if chunk:  # Filter out keep-alive chunks\n",
    "                file.write(chunk)\n",
    "    \n",
    "    file_size = os.path.getsize(file_path)\n",
    "    print(f\"Successfully downloaded PDF: {filename} ({file_size:,} bytes)\")\n",
    "    \n",
    "    return file_path\n",
    "    \n",
    "\n",
    "# Example usage\n",
    "if __name__ == \"__main__\":\n",
    "    # Example with your domain (replace with actual PDF URL)\n",
    "    pdf_url = \"https://atalacademy.aicte.gov.in/assets/data/Recommended_List_Under_ATAL_OFFLINE_FDPs_2025_26.pdf\"\n",
    "    \n",
    "    # Download to current directory\n",
    "    result = download_pdf(pdf_url)\n",
    "    \n",
    "    # Download to specific directory with custom filename\n",
    "    # result = download_pdf(pdf_url, save_path=\"./downloads\", filename=\"my_document.pdf\")\n",
    "    \n",
    "    print(f\"PDF saved to: {result}\")\n",
    "    "
   ]
  },
  {
   "cell_type": "code",
   "execution_count": null,
   "id": "8cc1c34d-4b80-44e7-aea5-8373ef84f96b",
   "metadata": {},
   "outputs": [],
   "source": []
  }
 ],
 "metadata": {
  "kernelspec": {
   "display_name": "Python 3 (ipykernel)",
   "language": "python",
   "name": "python3"
  },
  "language_info": {
   "codemirror_mode": {
    "name": "ipython",
    "version": 3
   },
   "file_extension": ".py",
   "mimetype": "text/x-python",
   "name": "python",
   "nbconvert_exporter": "python",
   "pygments_lexer": "ipython3",
   "version": "3.12.7"
  }
 },
 "nbformat": 4,
 "nbformat_minor": 5
}
