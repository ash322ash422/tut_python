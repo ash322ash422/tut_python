{
 "cells": [
  {
   "cell_type": "code",
   "execution_count": null,
   "id": "ede55161-c793-49c5-9399-075757103c20",
   "metadata": {},
   "outputs": [
    {
     "name": "stdout",
     "output_type": "stream",
     "text": [
      "Guess the number between 1 and 10!\n"
     ]
    },
    {
     "name": "stdin",
     "output_type": "stream",
     "text": [
      "Enter your guess:  0\n"
     ]
    },
    {
     "name": "stdout",
     "output_type": "stream",
     "text": [
      "Please guess a number between 1 and 10.\n"
     ]
    },
    {
     "name": "stdin",
     "output_type": "stream",
     "text": [
      "Enter your guess:  00\n"
     ]
    },
    {
     "name": "stdout",
     "output_type": "stream",
     "text": [
      "Please guess a number between 1 and 10.\n"
     ]
    },
    {
     "name": "stdin",
     "output_type": "stream",
     "text": [
      "Enter your guess:  01\n"
     ]
    },
    {
     "name": "stdout",
     "output_type": "stream",
     "text": [
      "Too low! Try guessing higher.\n"
     ]
    }
   ],
   "source": [
    "import random\n",
    "\n",
    "secret_number = random.randint(1, 10)\n",
    "\n",
    "print(\"Guess the number between 1 and 10!\")\n",
    "\n",
    "while True:\n",
    "    user_input = input(\"Enter your guess: \")\n",
    "\n",
    "    if not user_input.isdigit():\n",
    "        print(\"Invalid input! You cannot enter negative or decimal. Please enter a number.\")\n",
    "        continue\n",
    "\n",
    "    guess = int(user_input) # convert str to int\n",
    "\n",
    "    if guess == 0 or guess > 10:\n",
    "        print(\"Please guess a number between 1 and 10.\")\n",
    "        continue\n",
    "\n",
    "    if guess == secret_number:\n",
    "        print(\"Congratulations! You guessed it right!\")\n",
    "        break # exit the loop\n",
    "    elif guess < secret_number:\n",
    "        print(\"Too low! Try guessing higher.\")\n",
    "    else:\n",
    "        print(\"Too high! Try guessing lower.\")"
   ]
  },
  {
   "cell_type": "code",
   "execution_count": null,
   "id": "ebe6ce24-cab9-4b02-b4cb-692a04a5526e",
   "metadata": {},
   "outputs": [],
   "source": []
  }
 ],
 "metadata": {
  "kernelspec": {
   "display_name": "Python 3 (ipykernel)",
   "language": "python",
   "name": "python3"
  },
  "language_info": {
   "codemirror_mode": {
    "name": "ipython",
    "version": 3
   },
   "file_extension": ".py",
   "mimetype": "text/x-python",
   "name": "python",
   "nbconvert_exporter": "python",
   "pygments_lexer": "ipython3",
   "version": "3.12.7"
  }
 },
 "nbformat": 4,
 "nbformat_minor": 5
}
