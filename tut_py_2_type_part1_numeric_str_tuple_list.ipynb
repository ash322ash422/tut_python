{
 "cells": [
  {
   "cell_type": "markdown",
   "id": "664d2660-f76d-4e4b-80f6-e24b12def069",
   "metadata": {},
   "source": [
    "## Numeric Types\n",
    "int → Whole numbers: x = 10\n",
    "\n",
    "float → Decimal numbers: y = 10.5\n",
    "\n",
    "complex → Complex numbers: z = 3 + 4j"
   ]
  },
  {
   "cell_type": "code",
   "execution_count": 2,
   "id": "f6bdaf07-053b-480f-be7a-599d5a7a0a53",
   "metadata": {},
   "outputs": [
    {
     "name": "stdout",
     "output_type": "stream",
     "text": [
      "<class 'int'>\n",
      "<class 'int'>\n",
      "<class 'float'>\n",
      "<class 'complex'>\n"
     ]
    }
   ],
   "source": [
    "a = 10\n",
    "b = 3\n",
    "c = 1.2\n",
    "d = 1+2j\n",
    "print(type(a))\n",
    "print(type(b))\n",
    "print(type(c))\n",
    "print(type(d))"
   ]
  },
  {
   "cell_type": "markdown",
   "id": "887b2a68-8614-4a09-a908-e870d0afcb46",
   "metadata": {},
   "source": [
    "## 1. Integer (int) Operations"
   ]
  },
  {
   "cell_type": "code",
   "execution_count": 3,
   "id": "e4f14afc-4aa4-463b-9b8d-d7b5d5b6dbda",
   "metadata": {},
   "outputs": [
    {
     "name": "stdout",
     "output_type": "stream",
     "text": [
      "13\n",
      "7\n",
      "30\n",
      "3.3333333333333335\n",
      "3\n",
      "1\n",
      "1000\n"
     ]
    }
   ],
   "source": [
    "a = 10\n",
    "b = 3\n",
    "\n",
    "print(a + b)   # Addition → 13\n",
    "print(a - b)   # Subtraction → 7\n",
    "print(a * b)   # Multiplication → 30\n",
    "print(a / b)   # Division → 3.3333\n",
    "print(a // b)  # Floor Division → 3\n",
    "print(a % b)   # Modulus (Remainder) → 1\n",
    "print(a ** b)  # Exponentiation → 1000 (10^3)"
   ]
  },
  {
   "cell_type": "code",
   "execution_count": 1,
   "id": "f031189b-24ac-4a89-aa09-c47eb8bfa4e9",
   "metadata": {},
   "outputs": [
    {
     "name": "stdout",
     "output_type": "stream",
     "text": [
      "20\n"
     ]
    }
   ],
   "source": [
    "x = 4\n",
    "y = 5\n",
    "result = x*y\n",
    "\n",
    "print(result)"
   ]
  },
  {
   "cell_type": "markdown",
   "id": "236d4908-a5ee-444b-848d-1c7e90405037",
   "metadata": {},
   "source": [
    "### 2. Float (float) Operations"
   ]
  },
  {
   "cell_type": "code",
   "execution_count": 4,
   "id": "843ccf58-029d-40b8-a656-279d3532305a",
   "metadata": {},
   "outputs": [
    {
     "name": "stdout",
     "output_type": "stream",
     "text": [
      "13.0\n",
      "8.0\n",
      "26.25\n",
      "4.2\n",
      "4.0\n",
      "0.5\n",
      "357.2508309997333\n"
     ]
    }
   ],
   "source": [
    "x = 10.5\n",
    "y = 2.5\n",
    "\n",
    "print(x + y)   # Addition → 13.0\n",
    "print(x - y)   # Subtraction → 8.0\n",
    "print(x * y)   # Multiplication → 26.25\n",
    "print(x / y)   # Division → 4.2\n",
    "print(x // y)  # Floor Division → 4.0\n",
    "print(x % y)   # Modulus → 0.5\n",
    "print(x ** y)  # Exponentiation → 237.3046875\n"
   ]
  },
  {
   "cell_type": "markdown",
   "id": "4dd4bdfb-8590-4d42-9e59-eff52a8e3973",
   "metadata": {},
   "source": [
    "### 3. Complex Number (complex) Operations"
   ]
  },
  {
   "cell_type": "code",
   "execution_count": 5,
   "id": "eb2dd042-5837-4036-82f0-499f5bf43341",
   "metadata": {},
   "outputs": [
    {
     "name": "stdout",
     "output_type": "stream",
     "text": [
      "(4+6j)\n",
      "(2+2j)\n",
      "(-5+10j)\n",
      "(2.2-0.4j)\n",
      "5.0\n"
     ]
    }
   ],
   "source": [
    "c1 = 3 + 4j\n",
    "c2 = 1 + 2j\n",
    "\n",
    "print(c1 + c2)   # Addition → (4+6j)\n",
    "print(c1 - c2)   # Subtraction → (2+2j)\n",
    "print(c1 * c2)   # Multiplication → (-5+10j)\n",
    "print(c1 / c2)   # Division → (2.2-0.4j)\n",
    "print(abs(c1))   # Magnitude (modulus) → 5.0\n"
   ]
  },
  {
   "cell_type": "markdown",
   "id": "c5406197-c653-4f6d-939b-5720e9641b4b",
   "metadata": {},
   "source": [
    "### 4. Mixed Operations (int + float + complex)"
   ]
  },
  {
   "cell_type": "code",
   "execution_count": 8,
   "id": "2f8d30e0-fad1-45cc-a84b-636c2d6a153f",
   "metadata": {},
   "outputs": [
    {
     "name": "stdout",
     "output_type": "stream",
     "text": [
      "7.5\n",
      "(5+15j)\n",
      "(3.5+3j)\n"
     ]
    }
   ],
   "source": [
    "num1 = 5      # int\n",
    "num2 = 2.5    # float\n",
    "num3 = 1 + 3j # complex\n",
    "\n",
    "print(num1 + num2)   # 7.5 (int + float → float)\n",
    "print(num1 * num3)   # (5+15j) (int * complex → complex)\n",
    "print(num2 + num3)   # (3.5+3j) (float + complex → complex)"
   ]
  },
  {
   "cell_type": "markdown",
   "id": "848850d6-28a3-4ee5-84f5-726fac2d2da5",
   "metadata": {},
   "source": [
    "## Sequence Types\n",
    "str → String: s = \"Hello\"\n",
    "\n",
    "list → Ordered, mutable: l = [1, 2, 3]\n",
    "\n",
    "tuple → Ordered, immutable: t = (1, 2, 3)\n",
    "\n",
    "### 1. String (str) Operations\n",
    "A string is an immutable sequence of characters."
   ]
  },
  {
   "cell_type": "code",
   "execution_count": 21,
   "id": "ef232980-ec92-45bf-b9c6-fc3af4c1b45e",
   "metadata": {},
   "outputs": [
    {
     "name": "stdout",
     "output_type": "stream",
     "text": [
      "P\n",
      "n\n",
      "1111111111111111111111111111\n",
      "\n",
      "yth\n",
      "Pyt\n",
      "thon\n",
      "22222222222222222222222222222\n",
      "\n",
      "ython i\n",
      "Python is a\n",
      "s a easy to learn.\n",
      "33333333333333333333333333333\n",
      "\n",
      "Python is fun!\n",
      "PythonPythonPython\n",
      "True\n",
      "False\n",
      "44444444444444444444444444444\n",
      "\n",
      "python\n",
      "PYTHON\n",
      "Mython\n",
      "5555555555555555555555555555555\n",
      "\n",
      "['today', ' is a good day', ' to learn something new.']\n"
     ]
    }
   ],
   "source": [
    "# String declaration\n",
    "s = \"Python\"\n",
    "\n",
    "# Accessing elements\n",
    "print(s[0])    # 'P' (First character)\n",
    "print(s[-1])   # 'n' (Last character)\n",
    "print(\"1111111111111111111111111111\\n\")\n",
    "\n",
    "# Slicing\n",
    "print(s[1:4])  # 'yth' (From index 1 to 3)\n",
    "print(s[:3])   # 'Pyt' (First 3 characters)\n",
    "print(s[2:])   # 'thon' (From index 2 to end)\n",
    "print(\"22222222222222222222222222222\\n\")\n",
    "\n",
    "# Slicing\n",
    "msg = \"Python is a easy to learn.\"\n",
    "print(msg[1:8])  # 'ython i' (From index 1 to 8)\n",
    "print(msg[:11])   # 'Python is a' (First 11 characters)\n",
    "print(msg[8:])   # 's a easy to learn.' (From index 8 to end)\n",
    "print(\"33333333333333333333333333333\\n\")\n",
    "\n",
    "# String concatenation\n",
    "print(s + \" is fun!\")  # 'Python is fun!'\n",
    "\n",
    "# String repetition\n",
    "print(s * 3)  # 'PythonPythonPython'\n",
    "\n",
    "# Checking substring\n",
    "print(\"th\" in s)  # True\n",
    "print(\"xy\" in s)  # False\n",
    "print(\"44444444444444444444444444444\\n\")\n",
    "\n",
    "# String methods\n",
    "print(s.lower())  # 'python'\n",
    "print(s.upper())  # 'PYTHON'\n",
    "print(s.replace(\"Py\", \"My\"))  # 'Mython'\n",
    "print(\"5555555555555555555555555555555\\n\")\n",
    "\n",
    "msg = \"today, is a good day, to learn something new.\"\n",
    "print(msg.split(\",\")) # ['today', ' is a good day', ' to learn something new.']\n"
   ]
  },
  {
   "cell_type": "markdown",
   "id": "d025eac2-9754-4ffa-872a-17ce06992ae3",
   "metadata": {},
   "source": [
    "### 2️. List (list) Operations\n",
    "A list is an ordered, mutable collection of elements."
   ]
  },
  {
   "cell_type": "code",
   "execution_count": 25,
   "id": "039f8240-de2c-4c64-8a5c-679e2948f8cb",
   "metadata": {},
   "outputs": [
    {
     "name": "stdout",
     "output_type": "stream",
     "text": [
      "<class 'list'>\n",
      "10\n",
      "50\n",
      "1111111111111111111111111111\n",
      "\n",
      "[20, 30]\n",
      "[10, 20]\n",
      "[30, 40, 50]\n",
      "222222222222222222222222222222\n",
      "\n",
      "[10, 20, 30, 40, 50, 60]\n",
      "[10, 20, 25, 30, 40, 50, 60]\n",
      "[10, 20, 25, 40, 50, 60]\n",
      "33333333333333333333333333333333\n",
      "\n"
     ]
    }
   ],
   "source": [
    "# List declaration\n",
    "numbers = [10, 20, 30, 40, 50]\n",
    "print(type(numbers))\n",
    "\n",
    "# Accessing elements\n",
    "print(numbers[0])   # 10\n",
    "print(numbers[-1])  # 50\n",
    "print(\"1111111111111111111111111111\\n\")\n",
    "\n",
    "# Slicing\n",
    "print(numbers[1:3])  # [20, 30]\n",
    "print(numbers[:2])   # [10, 20]\n",
    "print(numbers[2:])   # [30, 40, 50]\n",
    "print(\"222222222222222222222222222222\\n\")\n",
    "\n",
    "# List modification\n",
    "numbers.append(60)  # Adds 60 at the end\n",
    "print(numbers)  # [10, 20, 30, 40, 50, 60]\n",
    "\n",
    "numbers.insert(2, 25)  # Insert 25 at index 2\n",
    "print(numbers)  # [10, 20, 25, 30, 40, 50, 60]\n",
    "\n",
    "numbers.remove(30)  # Remove value 30\n",
    "print(numbers)  # [10, 20, 25, 40, 50, 60]\n",
    "\n",
    "print(\"33333333333333333333333333333333\\n\")"
   ]
  },
  {
   "cell_type": "code",
   "execution_count": 24,
   "id": "dfe2d6a0-7f13-4a72-b2eb-7bbc3b4df582",
   "metadata": {},
   "outputs": [
    {
     "name": "stdout",
     "output_type": "stream",
     "text": [
      "[10, 20, 25, 40, 50, 60]\n",
      "[60, 50, 40, 25, 20, 10]\n",
      "[60, 50, 40, 25, 20, 10, 70, 80]\n",
      "[60, 50, 40, 25, 20, 10, 60, 50, 40, 25, 20, 10]\n"
     ]
    }
   ],
   "source": [
    "# Sorting\n",
    "numbers.sort()\n",
    "print(numbers)  # [10, 20, 25, 40, 50, 60]\n",
    "\n",
    "# Reversing\n",
    "numbers.reverse()\n",
    "print(numbers)  # [60, 50, 40, 25, 20, 10]\n",
    "\n",
    "# List concatenation\n",
    "more_numbers = [70, 80]\n",
    "print(numbers + more_numbers)  # [60, 50, 40, 25, 20, 10, 70, 80]\n",
    "\n",
    "# List repetition\n",
    "new_numbers = numbers * 2\n",
    "print(new_numbers)  # [60, 50, 40, 25, 20, 10, 60, 50, 40, 25, 20, 10]\n"
   ]
  },
  {
   "cell_type": "markdown",
   "id": "a925e0a6-3d83-44a1-88ab-a744dc5eed1d",
   "metadata": {},
   "source": [
    "### 3️. Tuple (tuple) Operations\n",
    "A tuple is an ordered, immutable collection of elements."
   ]
  },
  {
   "cell_type": "code",
   "execution_count": 13,
   "id": "a3b1029a-0c38-44fe-ad33-351c706df058",
   "metadata": {},
   "outputs": [
    {
     "name": "stdout",
     "output_type": "stream",
     "text": [
      "apple\n",
      "cherry\n",
      "('banana', 'cherry')\n",
      "('apple', 'banana', 'cherry', 'orange', 'grape')\n",
      "('apple', 'banana', 'cherry', 'apple', 'banana', 'cherry')\n",
      "True\n",
      "2\n",
      "3\n"
     ]
    }
   ],
   "source": [
    "# Tuple declaration\n",
    "fruits = (\"apple\", \"banana\", \"cherry\")\n",
    "\n",
    "# Accessing elements\n",
    "print(fruits[0])  # 'apple'\n",
    "print(fruits[-1])  # 'cherry'\n",
    "\n",
    "# Slicing\n",
    "print(fruits[1:])  # ('banana', 'cherry')\n",
    "\n",
    "# Tuple concatenation\n",
    "new_fruits = fruits + (\"orange\", \"grape\")\n",
    "print(new_fruits)  # ('apple', 'banana', 'cherry', 'orange', 'grape')\n",
    "\n",
    "# Tuple repetition\n",
    "print(fruits * 2)  # ('apple', 'banana', 'cherry', 'apple', 'banana', 'cherry')\n",
    "\n",
    "# Checking existence\n",
    "print(\"banana\" in fruits)  # True\n",
    "\n",
    "# Finding index\n",
    "print(fruits.index(\"cherry\"))  # 2\n",
    "\n",
    "# Tuple length\n",
    "print(len(fruits))  # 3\n"
   ]
  },
  {
   "cell_type": "code",
   "execution_count": 11,
   "id": "922d874e-470a-4b0e-b06b-2df0eb2987db",
   "metadata": {},
   "outputs": [
    {
     "name": "stdout",
     "output_type": "stream",
     "text": [
      "<class 'str'>\n",
      "<class 'int'>\n"
     ]
    }
   ],
   "source": [
    "## changing str to int\n",
    "x = \"4\"\n",
    "print(type(x))\n",
    "\n",
    "x = int(x)\n",
    "print(type(x))\n"
   ]
  }
 ],
 "metadata": {
  "kernelspec": {
   "display_name": "Python 3 (ipykernel)",
   "language": "python",
   "name": "python3"
  },
  "language_info": {
   "codemirror_mode": {
    "name": "ipython",
    "version": 3
   },
   "file_extension": ".py",
   "mimetype": "text/x-python",
   "name": "python",
   "nbconvert_exporter": "python",
   "pygments_lexer": "ipython3",
   "version": "3.11.2"
  }
 },
 "nbformat": 4,
 "nbformat_minor": 5
}
