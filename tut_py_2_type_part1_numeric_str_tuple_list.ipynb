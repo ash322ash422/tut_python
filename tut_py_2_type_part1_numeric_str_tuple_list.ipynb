{
 "cells": [
  {
   "cell_type": "markdown",
   "id": "664d2660-f76d-4e4b-80f6-e24b12def069",
   "metadata": {},
   "source": [
    "## Numeric Types\n",
    "int → Whole numbers: x = 10\n",
    "\n",
    "float → Decimal numbers: y = 10.5\n",
    "\n",
    "complex → Complex numbers: z = 3 + 4j"
   ]
  },
  {
   "cell_type": "code",
   "execution_count": 2,
   "id": "f6bdaf07-053b-480f-be7a-599d5a7a0a53",
   "metadata": {},
   "outputs": [
    {
     "name": "stdout",
     "output_type": "stream",
     "text": [
      "type of a is <class 'int'>\n",
      "type of b is <class 'int'>\n",
      "type of c is <class 'float'>\n",
      "type of d is <class 'complex'>\n"
     ]
    }
   ],
   "source": [
    "a = 10\n",
    "b = 3\n",
    "c = 1.2\n",
    "d = 1+2j\n",
    "\n",
    "print(f\"type of a is {type(a)}\")\n",
    "print(f\"type of b is {type(b)}\")\n",
    "print(f\"type of c is {type(c)}\")\n",
    "print(f\"type of d is {type(d)}\")\n"
   ]
  },
  {
   "cell_type": "markdown",
   "id": "887b2a68-8614-4a09-a908-e870d0afcb46",
   "metadata": {},
   "source": [
    "## 1. Integer (int) Operations"
   ]
  },
  {
   "cell_type": "code",
   "execution_count": 6,
   "id": "e4f14afc-4aa4-463b-9b8d-d7b5d5b6dbda",
   "metadata": {},
   "outputs": [
    {
     "name": "stdout",
     "output_type": "stream",
     "text": [
      "addition:13\n",
      "subtraction: 7\n",
      "muptiplication:30\n",
      "3.3333333333333335\n",
      "3\n",
      "1\n",
      "1000\n"
     ]
    }
   ],
   "source": [
    "a = 10\n",
    "b = 3\n",
    "\n",
    "res_add = a + b\n",
    "print(f\"addition:{res_add}\")   # Addition → 13\n",
    "\n",
    "res_sub = a - b\n",
    "print(f\"subtraction: {res_sub}\")   # Subtraction → 7\n",
    "\n",
    "res_mult = a * b\n",
    "print(f\"muptiplication:{res_mult}\")   # Multiplication → 30\n",
    "\n",
    "# I can perform calculation directly inside print method\n",
    "print(a / b)   # Division → 3.3333\n",
    "print(a // b)  # Floor Division → 3\n",
    "print(a % b)   # Modulus (Remainder) → 1\n",
    "print(a ** b)  # Exponentiation → 1000 (10^3)"
   ]
  },
  {
   "cell_type": "markdown",
   "id": "236d4908-a5ee-444b-848d-1c7e90405037",
   "metadata": {},
   "source": [
    "### 2. Float (float) Operations"
   ]
  },
  {
   "cell_type": "code",
   "execution_count": 4,
   "id": "843ccf58-029d-40b8-a656-279d3532305a",
   "metadata": {},
   "outputs": [
    {
     "name": "stdout",
     "output_type": "stream",
     "text": [
      "13.0\n",
      "8.0\n",
      "26.25\n",
      "4.2\n",
      "4.0\n",
      "0.5\n",
      "357.2508309997333\n"
     ]
    }
   ],
   "source": [
    "x = 10.5\n",
    "y = 2.5\n",
    "\n",
    "print(x + y)   # Addition → 13.0\n",
    "print(x - y)   # Subtraction → 8.0\n",
    "print(x * y)   # Multiplication → 26.25\n",
    "print(x / y)   # Division → 4.2\n",
    "print(x // y)  # Floor Division → 4.0\n",
    "print(x % y)   # Modulus → 0.5\n",
    "print(x ** y)  # Exponentiation → 237.3046875\n"
   ]
  },
  {
   "cell_type": "markdown",
   "id": "4dd4bdfb-8590-4d42-9e59-eff52a8e3973",
   "metadata": {},
   "source": [
    "### 3. Complex Number (complex) Operations"
   ]
  },
  {
   "cell_type": "code",
   "execution_count": 5,
   "id": "eb2dd042-5837-4036-82f0-499f5bf43341",
   "metadata": {},
   "outputs": [
    {
     "name": "stdout",
     "output_type": "stream",
     "text": [
      "(4+6j)\n",
      "(2+2j)\n",
      "(-5+10j)\n",
      "(2.2-0.4j)\n",
      "5.0\n"
     ]
    }
   ],
   "source": [
    "c1 = 3 + 4j\n",
    "c2 = 1 + 2j\n",
    "\n",
    "print(c1 + c2)   # Addition → (4+6j)\n",
    "print(c1 - c2)   # Subtraction → (2+2j)\n",
    "print(c1 * c2)   # Multiplication → (-5+10j)\n",
    "print(c1 / c2)   # Division → (2.2-0.4j)\n",
    "print(abs(c1))   # Magnitude (modulus) → 5.0\n"
   ]
  },
  {
   "cell_type": "markdown",
   "id": "c5406197-c653-4f6d-939b-5720e9641b4b",
   "metadata": {},
   "source": [
    "### 4. Mixed Operations (int + float + complex)"
   ]
  },
  {
   "cell_type": "code",
   "execution_count": 8,
   "id": "2f8d30e0-fad1-45cc-a84b-636c2d6a153f",
   "metadata": {},
   "outputs": [
    {
     "name": "stdout",
     "output_type": "stream",
     "text": [
      "7.5\n",
      "(5+15j)\n",
      "(3.5+3j)\n"
     ]
    }
   ],
   "source": [
    "num1 = 5      # int\n",
    "num2 = 2.5    # float\n",
    "num3 = 1 + 3j # complex\n",
    "\n",
    "print(num1 + num2)   # 7.5 (int + float → float)\n",
    "print(num1 * num3)   # (5+15j) (int * complex → complex)\n",
    "print(num2 + num3)   # (3.5+3j) (float + complex → complex)"
   ]
  },
  {
   "cell_type": "markdown",
   "id": "848850d6-28a3-4ee5-84f5-726fac2d2da5",
   "metadata": {},
   "source": [
    "## Sequence Types\n",
    "str → String: s = \"Hello\"\n",
    "\n",
    "list → Ordered, mutable: l = [1, 2, 3]\n",
    "\n",
    "tuple → Ordered, immutable: t = (1, 2, 3)\n",
    "\n",
    "### 1. String (str) Operations\n",
    "A string is an immutable sequence of characters."
   ]
  },
  {
   "cell_type": "code",
   "execution_count": 7,
   "id": "ef232980-ec92-45bf-b9c6-fc3af4c1b45e",
   "metadata": {},
   "outputs": [
    {
     "name": "stdout",
     "output_type": "stream",
     "text": [
      "P\n",
      "t\n",
      "n\n",
      "1111111111111111111111111111\n",
      "\n",
      "yth\n",
      "Pyt\n",
      "thon\n",
      "22222222222222222222222222222\n",
      "\n",
      "ython i\n",
      "Python is a\n",
      "s a easy to learn.\n",
      "33333333333333333333333333333\n",
      "\n",
      "Python is fun!\n",
      "PythonPythonPython\n",
      "True\n",
      "False\n",
      "44444444444444444444444444444\n",
      "\n",
      "python\n",
      "PYTHON\n",
      "Mython\n",
      "5555555555555555555555555555555\n",
      "\n",
      "['today', ' is a good day', ' to learn something new.']\n"
     ]
    }
   ],
   "source": [
    "# String declaration\n",
    "s = \"Python\"\n",
    "\n",
    "# Accessing elements\n",
    "print(s[0])    # 'P' (First character)\n",
    "print(s[2])    # 't'\n",
    "print(s[-1])   # 'n' (Last character)\n",
    "print(\"1111111111111111111111111111\\n\")\n",
    "\n",
    "# Slicing\n",
    "print(s[1:4])  # 'yth' (From index 1 to 3)\n",
    "print(s[:3])   # 'Pyt' (First 3 characters)\n",
    "print(s[2:])   # 'thon' (From index 2 to end)\n",
    "print(\"22222222222222222222222222222\\n\")\n",
    "\n",
    "# Slicing\n",
    "msg = \"Python is a easy to learn.\"\n",
    "print(msg[1:8])  # 'ython i' (From index 1 to 8)\n",
    "print(msg[:11])   # 'Python is a' (First 11 characters)\n",
    "print(msg[8:])   # 's a easy to learn.' (From index 8 to end)\n",
    "print(\"33333333333333333333333333333\\n\")\n",
    "\n",
    "# String concatenation\n",
    "new_str = s + \" is fun!\"\n",
    "print(new_str)  # 'Python is fun!'\n",
    "\n",
    "# String repetition\n",
    "print(s * 3)  # 'PythonPythonPython'\n",
    "\n",
    "# Checking substring\n",
    "bool_th = \"th\" in s \n",
    "print(bool_th)  # True\n",
    "\n",
    "print(\"xy\" in s)  # False\n",
    "print(\"44444444444444444444444444444\\n\")\n",
    "\n",
    "# String methods\n",
    "print(s.lower())  # 'python'\n",
    "print(s.upper())  # 'PYTHON'\n",
    "print(s.replace(\"Py\", \"My\"))  # 'Mython'\n",
    "print(\"5555555555555555555555555555555\\n\")\n",
    "\n",
    "msg = \"today, is a good day, to learn something new.\"\n",
    "lst = msg.split(\",\")\n",
    "print(lst) # ['today', ' is a good day', ' to learn something new.']\n"
   ]
  },
  {
   "cell_type": "markdown",
   "id": "d025eac2-9754-4ffa-872a-17ce06992ae3",
   "metadata": {},
   "source": [
    "### 2️. List (list) Operations\n",
    "A list is an ordered, mutable collection of elements."
   ]
  },
  {
   "cell_type": "code",
   "execution_count": 1,
   "id": "039f8240-de2c-4c64-8a5c-679e2948f8cb",
   "metadata": {},
   "outputs": [
    {
     "name": "stdout",
     "output_type": "stream",
     "text": [
      "[10, 20, 30, 40, 50]\n",
      "<class 'list'>\n"
     ]
    }
   ],
   "source": [
    "# List declaration\n",
    "numbers = [10, 20, 30, 40, 50]\n",
    "\n",
    "print(numbers)\n",
    "print(type(numbers))"
   ]
  },
  {
   "cell_type": "code",
   "execution_count": 2,
   "id": "bb2e3919-52b0-4dfe-bc9f-d0fa8a9110f1",
   "metadata": {},
   "outputs": [
    {
     "name": "stdout",
     "output_type": "stream",
     "text": [
      "10\n",
      "20\n",
      "40\n",
      "50\n",
      "1111111111111111111111111111\n",
      "\n",
      "[20, 30]\n",
      "[10, 20]\n",
      "[30, 40, 50]\n",
      "222222222222222222222222222222\n",
      "\n"
     ]
    }
   ],
   "source": [
    "# Accessing elements\n",
    "print(numbers[0])   # prints 1st number in the list 10\n",
    "print(numbers[1])   # prints 2nd number in the list 20\n",
    "print(numbers[3])   # prints 4th number in the list 40\n",
    "\n",
    "print(numbers[-1])  # access last number 50\n",
    "print(\"1111111111111111111111111111\\n\")\n",
    "\n",
    "# Slicing\n",
    "print(numbers[1:3])  # slice 2nd number to 3rd number: [20, 30]\n",
    "print(numbers[:3])   # slice [10, 20, 30]\n",
    "print(numbers[2:])   # slice from index 2 to last [30, 40, 50]\n",
    "print(\"222222222222222222222222222222\\n\")"
   ]
  },
  {
   "cell_type": "code",
   "execution_count": 5,
   "id": "562fac51-7dc0-4f68-a053-bf8cd24f3e57",
   "metadata": {},
   "outputs": [
    {
     "name": "stdout",
     "output_type": "stream",
     "text": [
      "numbers after append: [10, 20, 30, 40, 50, 17]\n",
      "numbers after insert: [10, 20, 30, 25, 40, 50, 17]\n",
      "numbers after remove: [10, 20, 30, 25, 40, 17]\n",
      "numbers after insert in the begn: [-6, 10, 20, 30, 25, 40, 17]\n"
     ]
    }
   ],
   "source": [
    "numbers = [10, 20, 30, 40, 50]\n",
    "\n",
    "# List modification\n",
    "numbers.append(17)  # Adds 17 at the end\n",
    "print(f\"numbers after append: {numbers}\")  \n",
    "\n",
    "numbers.insert(3, 25)  # Insert 25 at index 3\n",
    "print(f\"numbers after insert: {numbers}\")  \n",
    "\n",
    "numbers.remove(50)  # Remove value 50\n",
    "print(f\"numbers after remove: {numbers}\")  \n",
    "\n",
    "#########Assignemnt############\n",
    "# How to put -6 in the begining of list ?\n",
    "numbers.insert(0,-6)\n",
    "print(f\"numbers after insert in the begn: {numbers}\")"
   ]
  },
  {
   "cell_type": "code",
   "execution_count": 6,
   "id": "dfe2d6a0-7f13-4a72-b2eb-7bbc3b4df582",
   "metadata": {},
   "outputs": [
    {
     "name": "stdout",
     "output_type": "stream",
     "text": [
      "After sort: [-6, 10, 17, 20, 25, 30, 40]\n",
      "After reverse: [40, 30, 25, 20, 17, 10, -6]\n"
     ]
    }
   ],
   "source": [
    "numbers = [-6, 10, 20, 30, 25, 40, 17]\n",
    "# Sorting\n",
    "numbers.sort()\n",
    "print(f\"After sort: {numbers}\")  \n",
    "\n",
    "# Reversing\n",
    "numbers.reverse()\n",
    "print(f\"After reverse: {numbers}\")  "
   ]
  },
  {
   "cell_type": "code",
   "execution_count": 13,
   "id": "9ea18133-605d-414d-8462-458905056ccd",
   "metadata": {},
   "outputs": [
    {
     "name": "stdout",
     "output_type": "stream",
     "text": [
      "After list concatenation: [10, 20, 30, 40, 50, 77, 88, 11]\n",
      "After list repetition: [10, 20, 30, 40, 50, 10, 20, 30, 40, 50]\n"
     ]
    }
   ],
   "source": [
    "numbers = [10, 20, 30, 40, 50]\n",
    "\n",
    "# List concatenation\n",
    "more_numbers = [77, 88, 11]\n",
    "new_numbers = numbers + more_numbers\n",
    "print(f\"After list concatenation: {new_numbers}\")  \n",
    "\n",
    "# List repetition\n",
    "repeat_numbers = numbers * 2\n",
    "print(f\"After list repetition: {repeat_numbers}\")  "
   ]
  },
  {
   "cell_type": "code",
   "execution_count": 9,
   "id": "1dc9b447-4bed-4b90-bc37-ec216fb78d69",
   "metadata": {},
   "outputs": [
    {
     "name": "stdout",
     "output_type": "stream",
     "text": [
      "range: [1, 2, 3, 4, 5, 6, 7, 8, 9, 10]\n",
      "range: [1, 4, 7, 10]\n"
     ]
    }
   ],
   "source": [
    "# lets create a list of 10 consecutive int\n",
    "l = list(range(1,11))\n",
    "print(f\"range: {l}\")\n",
    "\n",
    "#lets create a list numbers starting with 1, skipping 3 values , and print upto 10\n",
    "l_skip = list(range(1,11,3))\n",
    "print(f\"range: {l_skip}\")"
   ]
  },
  {
   "cell_type": "markdown",
   "id": "e1614fd3-6219-430c-8b38-1babf3dfe884",
   "metadata": {},
   "source": [
    "## Nested List"
   ]
  },
  {
   "cell_type": "code",
   "execution_count": 2,
   "id": "507546fb-1abe-4bc6-8a1d-4d76665a623b",
   "metadata": {},
   "outputs": [
    {
     "name": "stdout",
     "output_type": "stream",
     "text": [
      "[[1, 2, 3, 4], [5, 6, 7, 8], [7, 8, 9, 1]]\n"
     ]
    }
   ],
   "source": [
    "# 1. Basic Nested List\n",
    "\n",
    "matrix = [\n",
    "    [1, 2, 3, 4],\n",
    "    [5, 6, 7, 8],\n",
    "    [7, 8, 9, 1]\n",
    "]\n",
    "\n",
    "print(matrix) # This is a 2D list (matrix) with 3 rows and 4 columns\n"
   ]
  },
  {
   "cell_type": "code",
   "execution_count": 3,
   "id": "486735d4-8b63-4797-8311-9b38d1603eeb",
   "metadata": {},
   "outputs": [
    {
     "name": "stdout",
     "output_type": "stream",
     "text": [
      "[1, 2, 3]\n",
      "6\n"
     ]
    }
   ],
   "source": [
    "# 2. Accessing Elements in a Nested List\n",
    "matrix = [\n",
    "    [1, 2, 3],\n",
    "    [4, 5, 6],\n",
    "    [7, 8, 9]\n",
    "]\n",
    "\n",
    "print(matrix[0])      # First row -> [1, 2, 3]\n",
    "print(matrix[1][2])   # Second row, third element -> 6\n"
   ]
  },
  {
   "cell_type": "code",
   "execution_count": 4,
   "id": "8b90ec57-b597-4228-9c49-1c7515ee994d",
   "metadata": {},
   "outputs": [
    {
     "name": "stdout",
     "output_type": "stream",
     "text": [
      "1 2 3 \n",
      "4 5 6 \n",
      "7 8 9 \n"
     ]
    }
   ],
   "source": [
    "# 3. Looping Through a Nested List\n",
    "matrix = [\n",
    "    [1, 2, 3],\n",
    "    [4, 5, 6],\n",
    "    [7, 8, 9]\n",
    "]\n",
    "\n",
    "for row in matrix:\n",
    "    for element in row:\n",
    "        print(element, end=\" \")\n",
    "    print()  # New line after each row\n"
   ]
  },
  {
   "cell_type": "code",
   "execution_count": 5,
   "id": "3a0a5f9e-46a6-4242-84cc-8bfa4ff0fdb8",
   "metadata": {},
   "outputs": [
    {
     "name": "stdout",
     "output_type": "stream",
     "text": [
      "[[1, 99, 3], [4, 5, 6], [7, 8, 9]]\n"
     ]
    }
   ],
   "source": [
    "# 4. Modifying a Nested List\n",
    "matrix = [\n",
    "    [1, 2, 3],\n",
    "    [4, 5, 6],\n",
    "    [7, 8, 9]\n",
    "]\n",
    "\n",
    "matrix[0][1] = 99  # Change second element of the first row\n",
    "\n",
    "print(matrix)"
   ]
  },
  {
   "cell_type": "markdown",
   "id": "82c36502-883f-4c2c-b596-0f4a71523ec5",
   "metadata": {},
   "source": [
    "## List comprehension"
   ]
  },
  {
   "cell_type": "code",
   "execution_count": 11,
   "id": "b6b31aac-86d6-41cd-8071-cd1c7bc401d6",
   "metadata": {},
   "outputs": [
    {
     "name": "stdout",
     "output_type": "stream",
     "text": [
      "numbers: [1, 2, 3, 4, 5, 6, 7, 8, 9, 10]\n",
      "times3: [3, 6, 9, 12, 15, 18, 21, 24, 27, 30]\n",
      "squares: [1, 4, 9, 16, 25, 36, 49, 64, 81, 100]\n"
     ]
    }
   ],
   "source": [
    "# 1. Basic List Comprehension\n",
    "\n",
    "#create a list of 10 numbers\n",
    "numbers = [x for x in range(1, 11)]\n",
    "print(f\"numbers: {numbers}\")\n",
    "\n",
    "# Create a list of squares from 1 to 10.\n",
    "times3 = [x*3 for x in range(1, 11)]\n",
    "print(f\"times3: {times3}\")\n",
    "\n",
    "# Create a list of squares from 1 to 10.\n",
    "squares = [x**2 for x in range(1, 11)]\n",
    "print(f\"squares: {squares}\")\n",
    "\n"
   ]
  },
  {
   "cell_type": "code",
   "execution_count": 10,
   "id": "dc1215bb-f185-4334-a6bc-1b7a9a1f0566",
   "metadata": {},
   "outputs": [
    {
     "name": "stdout",
     "output_type": "stream",
     "text": [
      "numbers: [1, 2, 3, 4, 5, 6, 7, 8, 9, 10]\n",
      "evens:   [2, 4, 6, 8, 10]\n"
     ]
    }
   ],
   "source": [
    "# 2. List Comprehension with Condition\n",
    "# Get even numbers from 1 to 10.\n",
    "\n",
    "numbers = [x for x in range(1, 11)]\n",
    "print(f\"numbers: {numbers}\")\n",
    "\n",
    "evens = [x for x in range(1, 11) if x % 2 == 0]\n",
    "print(f\"evens:   {evens}\")\n"
   ]
  },
  {
   "cell_type": "code",
   "execution_count": 11,
   "id": "d974aa4b-6280-413b-ad84-f7f3a9a6b861",
   "metadata": {},
   "outputs": [
    {
     "name": "stdout",
     "output_type": "stream",
     "text": [
      "numbers: [1, 2, 3, 4, 5, 6, 7, 8, 9, 10]\n",
      "['Odd', 'Even', 'Odd', 'Even', 'Odd', 'Even', 'Odd', 'Even', 'Odd', 'Even']\n"
     ]
    }
   ],
   "source": [
    "# 3. List Comprehension with if-else\n",
    "numbers = [x for x in range(1, 11)]\n",
    "print(f\"numbers: {numbers}\")\n",
    "\n",
    "labels = [\"Even\" if x % 2 == 0 else \"Odd\" for x in range(1, 11)]\n",
    "print(labels)\n"
   ]
  },
  {
   "cell_type": "code",
   "execution_count": 12,
   "id": "addf2c50-8ffe-4f9f-becd-669af7309528",
   "metadata": {},
   "outputs": [
    {
     "name": "stdout",
     "output_type": "stream",
     "text": [
      "['o', 'i', 'a', 'e', 'o', 'e']\n"
     ]
    }
   ],
   "source": [
    "# 5. Real-World Example: Extract Vowels from a String\n",
    "sentence = \"Python is awesome\"\n",
    "vowels = [char for char in sentence if char.lower() in 'aeiou']\n",
    "print(vowels)\n"
   ]
  },
  {
   "cell_type": "markdown",
   "id": "a925e0a6-3d83-44a1-88ab-a744dc5eed1d",
   "metadata": {},
   "source": [
    "### 3️. Tuple (tuple) Operations\n",
    "A tuple is an ordered, immutable collection of elements."
   ]
  },
  {
   "cell_type": "code",
   "execution_count": 13,
   "id": "a3b1029a-0c38-44fe-ad33-351c706df058",
   "metadata": {},
   "outputs": [
    {
     "name": "stdout",
     "output_type": "stream",
     "text": [
      "apple\n",
      "cherry\n",
      "('banana', 'cherry')\n",
      "('apple', 'banana', 'cherry', 'orange', 'grape')\n",
      "('apple', 'banana', 'cherry', 'apple', 'banana', 'cherry')\n",
      "True\n",
      "2\n",
      "3\n"
     ]
    }
   ],
   "source": [
    "# Tuple declaration\n",
    "fruits = (\"apple\", \"banana\", \"cherry\")\n",
    "\n",
    "# Accessing elements\n",
    "print(fruits[0])  # 'apple'\n",
    "print(fruits[-1])  # 'cherry'\n",
    "\n",
    "# Slicing\n",
    "print(fruits[1:])  # ('banana', 'cherry')\n",
    "\n",
    "# Tuple concatenation\n",
    "new_fruits = fruits + (\"orange\", \"grape\")\n",
    "print(new_fruits)  # ('apple', 'banana', 'cherry', 'orange', 'grape')\n",
    "\n",
    "# Tuple repetition\n",
    "print(fruits * 2)  # ('apple', 'banana', 'cherry', 'apple', 'banana', 'cherry')\n",
    "\n",
    "# Checking existence\n",
    "print(\"banana\" in fruits)  # True\n",
    "\n",
    "# Finding index\n",
    "print(fruits.index(\"cherry\"))  # 2\n",
    "\n",
    "# Tuple length\n",
    "print(len(fruits))  # 3\n"
   ]
  }
 ],
 "metadata": {
  "kernelspec": {
   "display_name": "Python 3 (ipykernel)",
   "language": "python",
   "name": "python3"
  },
  "language_info": {
   "codemirror_mode": {
    "name": "ipython",
    "version": 3
   },
   "file_extension": ".py",
   "mimetype": "text/x-python",
   "name": "python",
   "nbconvert_exporter": "python",
   "pygments_lexer": "ipython3",
   "version": "3.11.2"
  }
 },
 "nbformat": 4,
 "nbformat_minor": 5
}
