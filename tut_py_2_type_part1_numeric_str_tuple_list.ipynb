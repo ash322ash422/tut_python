{
 "cells": [
  {
   "cell_type": "markdown",
   "id": "664d2660-f76d-4e4b-80f6-e24b12def069",
   "metadata": {},
   "source": [
    "## Numeric Types\n",
    "int → Whole numbers: x = 10\n",
    "\n",
    "float → Decimal numbers: y = 10.5\n",
    "\n",
    "complex → Complex numbers: z = 3 + 4j"
   ]
  },
  {
   "cell_type": "code",
   "execution_count": 4,
   "id": "f6bdaf07-053b-480f-be7a-599d5a7a0a53",
   "metadata": {},
   "outputs": [
    {
     "name": "stdout",
     "output_type": "stream",
     "text": [
      "type of a is <class 'int'>\n",
      "type of b is <class 'int'>\n",
      "type of c is <class 'float'>\n",
      "type of d is <class 'complex'>\n",
      "######################\n",
      "size of a is 28\n",
      "size of b is 28\n",
      "size of c is 24\n",
      "size of d is 32\n"
     ]
    }
   ],
   "source": [
    "a = 10\n",
    "b = 3\n",
    "c = 1.2\n",
    "d = 1+2j\n",
    "\n",
    "print(f\"type of a is {type(a)}\")\n",
    "print(f\"type of b is {type(b)}\")\n",
    "print(f\"type of c is {type(c)}\")\n",
    "print(f\"type of d is {type(d)}\")"
   ]
  },
  {
   "cell_type": "markdown",
   "id": "887b2a68-8614-4a09-a908-e870d0afcb46",
   "metadata": {},
   "source": [
    "## 1. Integer (int) Operations"
   ]
  },
  {
   "cell_type": "code",
   "execution_count": 6,
   "id": "e4f14afc-4aa4-463b-9b8d-d7b5d5b6dbda",
   "metadata": {},
   "outputs": [
    {
     "name": "stdout",
     "output_type": "stream",
     "text": [
      "addition:13\n",
      "subtraction: 7\n",
      "muptiplication:30\n",
      "3.3333333333333335\n",
      "3\n",
      "1\n",
      "1000\n"
     ]
    }
   ],
   "source": [
    "a = 10 # apple\n",
    "b = 3 \n",
    "\n",
    "res_add = a + b\n",
    "print(f\"addition:{res_add}\")   # Addition → 13\n",
    "\n",
    "res_sub = a - b\n",
    "print(f\"subtraction: {res_sub}\")   # Subtraction → 7\n",
    "\n",
    "res_mult = a * b # apple * price_of_apple\n",
    "print(f\"muptiplication:{res_mult}\")   # Multiplication → 30\n",
    "\n",
    "# I can perform calculation directly inside print method\n",
    "print(a / b)   # Division → 3.3333\n",
    "print(a // b)  # Floor Division → 3\n",
    "print(a % b)   # Modulus (Remainder) → 1\n",
    "print(a ** b)  # Exponentiation → 1000 (10^3)"
   ]
  },
  {
   "cell_type": "markdown",
   "id": "236d4908-a5ee-444b-848d-1c7e90405037",
   "metadata": {},
   "source": [
    "### 2. Float (float) Operations"
   ]
  },
  {
   "cell_type": "code",
   "execution_count": 4,
   "id": "843ccf58-029d-40b8-a656-279d3532305a",
   "metadata": {},
   "outputs": [
    {
     "name": "stdout",
     "output_type": "stream",
     "text": [
      "13.0\n",
      "8.0\n",
      "26.25\n",
      "4.2\n",
      "4.0\n",
      "0.5\n",
      "357.2508309997333\n"
     ]
    }
   ],
   "source": [
    "x = 10.5\n",
    "y = 2.5\n",
    "\n",
    "print(x + y)   # Addition → 13.0\n",
    "print(x - y)   # Subtraction → 8.0\n",
    "print(x * y)   # Multiplication → 26.25\n",
    "print(x / y)   # Division → 4.2\n",
    "print(x // y)  # Floor Division → 4.0\n",
    "print(x % y)   # Modulus → 0.5\n",
    "print(x ** y)  # Exponentiation → 237.3046875\n"
   ]
  },
  {
   "cell_type": "markdown",
   "id": "4dd4bdfb-8590-4d42-9e59-eff52a8e3973",
   "metadata": {},
   "source": [
    "### 3. Complex Number (complex) Operations"
   ]
  },
  {
   "cell_type": "code",
   "execution_count": 5,
   "id": "eb2dd042-5837-4036-82f0-499f5bf43341",
   "metadata": {},
   "outputs": [
    {
     "name": "stdout",
     "output_type": "stream",
     "text": [
      "(4+6j)\n",
      "(2+2j)\n",
      "(-5+10j)\n",
      "(2.2-0.4j)\n",
      "5.0\n"
     ]
    }
   ],
   "source": [
    "c1 = 3 + 4j\n",
    "c2 = 1 + 2j\n",
    "\n",
    "print(c1 + c2)   # Addition → (4+6j)\n",
    "print(c1 - c2)   # Subtraction → (2+2j)\n",
    "print(c1 * c2)   # Multiplication → (-5+10j)\n",
    "print(c1 / c2)   # Division → (2.2-0.4j)\n",
    "print(abs(c1))   # Magnitude (modulus) → 5.0\n"
   ]
  },
  {
   "cell_type": "markdown",
   "id": "c5406197-c653-4f6d-939b-5720e9641b4b",
   "metadata": {},
   "source": [
    "### 4. Mixed Operations (int + float + complex)"
   ]
  },
  {
   "cell_type": "code",
   "execution_count": 8,
   "id": "2f8d30e0-fad1-45cc-a84b-636c2d6a153f",
   "metadata": {},
   "outputs": [
    {
     "name": "stdout",
     "output_type": "stream",
     "text": [
      "7.5\n",
      "(5+15j)\n",
      "(3.5+3j)\n"
     ]
    }
   ],
   "source": [
    "num1 = 5      # int\n",
    "num2 = 2.5    # float\n",
    "num3 = 1 + 3j # complex\n",
    "\n",
    "print(num1 + num2)   # 7.5 (int + float → float)\n",
    "print(num1 * num3)   # (5+15j) (int * complex → complex)\n",
    "print(num2 + num3)   # (3.5+3j) (float + complex → complex)"
   ]
  },
  {
   "cell_type": "markdown",
   "id": "848850d6-28a3-4ee5-84f5-726fac2d2da5",
   "metadata": {},
   "source": [
    "## Sequence Types\n",
    "str → String: s = \"Hello\"\n",
    "\n",
    "list → Ordered, mutable: l = [1, 2, 3]\n",
    "\n",
    "tuple → Ordered, immutable: t = (1, 2, 3)\n",
    "\n",
    "### 1. String (str) Operations\n",
    "A string is an immutable sequence of characters."
   ]
  },
  {
   "cell_type": "code",
   "execution_count": 3,
   "id": "ef232980-ec92-45bf-b9c6-fc3af4c1b45e",
   "metadata": {},
   "outputs": [
    {
     "name": "stdout",
     "output_type": "stream",
     "text": [
      "P\n",
      "t\n",
      "n\n",
      "e\n",
      "1111111111111111111111111111\n",
      "\n",
      "yth\n",
      "yth\n",
      "yoie\n",
      "Pyt\n",
      "thon is easy to learn\n",
      "nrael ot ysae si nohtyP\n",
      "l ot ysae si noh\n",
      "asy to \n",
      "22222222222222222222222222222\n",
      "\n",
      "ython i\n",
      "Python is a\n",
      "s a easy to learn.\n",
      "33333333333333333333333333333\n",
      "\n",
      "Python is easy to learn is fun!\n",
      "Python is easy to learnPython is easy to learnPython is easy to learn\n",
      "True\n",
      "False\n",
      "44444444444444444444444444444\n",
      "\n",
      "26\n",
      "  python is cool language \n",
      "  PYTHON IS COOL LANGUAGE \n",
      "  mython is cool language \n",
      "3\n",
      "  python is cool language \n",
      "  Python Is Cool Language \n",
      "python is cool language \n",
      "  python is cool language\n",
      "python is cool language\n",
      "5555555555555555555555555555555\n",
      "\n",
      "['today', ' is a good day', ' to learn something new.']\n",
      "today, is a good day, to learn something new.\n"
     ]
    }
   ],
   "source": [
    "# String declaration\n",
    "s = \"Python is easy to learn\" # or 'Python', str('Python'), str(90)\n",
    "\n",
    "# Accessing elements\n",
    "print(s[0])    # 'P' (First character)\n",
    "print(s[2])    # 't'\n",
    "print(s[-1]) # 'n' (Last character)\n",
    "print(s[-4]) # 'e' (4th car from  end)\n",
    "print(\"1111111111111111111111111111\\n\")\n",
    "\n",
    "# Slicing : [start_position: end_position: step_size]. \n",
    "# start_position by default is 0, end_position by defualt last idx, step_size by default is 1\n",
    "print(s[1:4:1]) # 'yth' (From index 1 to 3 with  step size 1) \n",
    "print(s[1:4])  # 'yth' (From index 1 to 3)\n",
    "print(s[1:13:3]) # 'yoie' (From index 1 to 4 to 7 to 11.with  step size 1) \n",
    "\n",
    "print(s[:3])   # 'Pyt' (First 3 characters)\n",
    "print(s[2:])   # 'thon is easy to learn' (From index 2 to end)\n",
    "\n",
    "print(s[::-1]) # 'nrael ot ysae si nohtyP' (start from last idx and go backward)\n",
    "print(s[-5:2:-1]) # 'l ot ysae si noh' (start from idx -5, 5th from last, go upto idx 2, with step size -1, backward)\n",
    "print(s[-12:-5]) # 'asy to' (start from  idx -12 to idx -5, 12th from last to 5th last cahr)\n",
    "print(\"22222222222222222222222222222\\n\")\n",
    "\n",
    "# Slicing\n",
    "msg = \"Python is a easy to learn.\"\n",
    "print(msg[1:8])  # 'ython i' (From index 1 to 8)\n",
    "print(msg[:11])   # 'Python is a' (First 11 characters)\n",
    "print(msg[8:])   # 's a easy to learn.' (From index 8 to end)\n",
    "print(\"33333333333333333333333333333\\n\")\n",
    "\n",
    "# String concatenation\n",
    "new_str = s + \" is fun!\"\n",
    "print(new_str)  # 'Python is fun!'\n",
    "\n",
    "# String repetition\n",
    "print(s * 3)  # 'PythonPythonPython'\n",
    "\n",
    "# Checking substring\n",
    "bool_th = \"th\" in s \n",
    "print(bool_th)  # True\n",
    "\n",
    "print(\"xy\" in s)  # False\n",
    "print(\"44444444444444444444444444444\\n\")\n",
    "\n",
    "# String methods\n",
    "s = \"  python is cool language \" \n",
    "print(len(s))\n",
    "print(s.lower())  \n",
    "print(s.upper())  \n",
    "print(s.replace(\"py\", \"my\"))  \n",
    "print(s.count('o'))\n",
    "print(s.capitalize())\n",
    "print(s.title())\n",
    "\n",
    "print(s.lstrip()) # Removes empty spaces from left\n",
    "print(s.rstrip())\n",
    "print(s.strip()) #Removes all empty spaces from left and right\n",
    "print(\"5555555555555555555555555555555\\n\")\n",
    "\n",
    "msg = \"today, is a good day, to learn something new.\"\n",
    "lst = msg.split(\",\")\n",
    "print(lst) # ['today', ' is a good day', ' to learn something new.']"
   ]
  },
  {
   "cell_type": "code",
   "execution_count": 2,
   "id": "8663b4ac-fb8b-4332-918e-209c193a246a",
   "metadata": {},
   "outputs": [
    {
     "ename": "TypeError",
     "evalue": "can only concatenate str (not \"int\") to str",
     "output_type": "error",
     "traceback": [
      "\u001b[1;31m---------------------------------------------------------------------------\u001b[0m",
      "\u001b[1;31mTypeError\u001b[0m                                 Traceback (most recent call last)",
      "Cell \u001b[1;32mIn[2], line 4\u001b[0m\n\u001b[0;32m      2\u001b[0m a \u001b[38;5;241m=\u001b[39m \u001b[38;5;124m\"\u001b[39m\u001b[38;5;124m7\u001b[39m\u001b[38;5;124m\"\u001b[39m\n\u001b[0;32m      3\u001b[0m b \u001b[38;5;241m=\u001b[39m \u001b[38;5;241m5\u001b[39m\n\u001b[1;32m----> 4\u001b[0m res \u001b[38;5;241m=\u001b[39m \u001b[43ma\u001b[49m\u001b[38;5;241;43m+\u001b[39;49m\u001b[43mb\u001b[49m\n\u001b[0;32m      5\u001b[0m \u001b[38;5;28mprint\u001b[39m(res)\n",
      "\u001b[1;31mTypeError\u001b[0m: can only concatenate str (not \"int\") to str"
     ]
    }
   ],
   "source": [
    "# You cannot add numeric types to string\n",
    "a = \"7\"\n",
    "b = 5\n",
    "res = a+b\n",
    "print(res)"
   ]
  },
  {
   "cell_type": "code",
   "execution_count": 3,
   "id": "c0f9e48f-9a6b-49a2-905b-f2e0f1bb3f82",
   "metadata": {},
   "outputs": [
    {
     "name": "stdout",
     "output_type": "stream",
     "text": [
      "77777\n"
     ]
    }
   ],
   "source": [
    "# what about multiply ???\n",
    "# You cannot add numeric types to string\n",
    "a = \"7\"\n",
    "b = 5\n",
    "res = a*b\n",
    "print(res)"
   ]
  },
  {
   "cell_type": "code",
   "execution_count": null,
   "id": "671174c5-5396-4fd5-86d9-f7df2b3a645c",
   "metadata": {},
   "outputs": [],
   "source": [
    "# python  is immutable\n",
    "s='Republic'\n",
    "s[0]='Z'\n",
    "s # We get a error"
   ]
  },
  {
   "cell_type": "markdown",
   "id": "d025eac2-9754-4ffa-872a-17ce06992ae3",
   "metadata": {},
   "source": [
    "### 2️. List (list) Operations\n",
    "A list is an ordered, mutable collection of elements."
   ]
  },
  {
   "cell_type": "code",
   "execution_count": 3,
   "id": "039f8240-de2c-4c64-8a5c-679e2948f8cb",
   "metadata": {},
   "outputs": [
    {
     "name": "stdout",
     "output_type": "stream",
     "text": [
      "[10, 20, 30, 40, 50]\n",
      "<class 'list'>\n"
     ]
    }
   ],
   "source": [
    "# List declaration\n",
    "age = [10, 20, 30, 40, 50] \n",
    "\n",
    "print(age)\n",
    "print(type(age))\n",
    "\n",
    "\n",
    "\n",
    "# OPTIONAL\n",
    "# my_numbers = list((1, 2, 3))  # Note: double parentheses!\n",
    "# print(my_numbers)\n",
    "# chars = list(\"hello\")  # ['h', 'e', 'l', 'l', 'o']\n",
    "# print(chars)"
   ]
  },
  {
   "cell_type": "code",
   "execution_count": 2,
   "id": "c6356123-cfb5-41e6-a7c0-8c99735a8c81",
   "metadata": {},
   "outputs": [
    {
     "name": "stdout",
     "output_type": "stream",
     "text": [
      "[]\n",
      "['apple', 'banana', 'cucumber']\n",
      "[True, True, False]\n",
      "[20, 'apple']\n",
      "[[20, 'apple'], [1, 3, 4]]\n",
      "[1, 3, '6', (3+7j), True, ['h', 'e', 'l', 'l', 'o'], [1, 2, 6]]\n"
     ]
    }
   ],
   "source": [
    "# what types of elements in list ?\n",
    "l = [] # empty list\n",
    "print(l)\n",
    "\n",
    "l = [\"apple\", \"banana\",\"cucumber\"] \n",
    "print(l)\n",
    "\n",
    "l = [True, True, False]\n",
    "print(l)\n",
    "\n",
    "l = [20, \"apple\"] # list of integers, strings\n",
    "print(l)\n",
    "\n",
    "l = [ [20, \"apple\"], [1, 3, 4] ] # list of list\n",
    "print(l)\n",
    "\n",
    "fancy_l = [1, 3, '6', 3+7j, True, chars, [1,2,6], ]\n",
    "print(fancy_l)"
   ]
  },
  {
   "cell_type": "code",
   "execution_count": 7,
   "id": "bb2e3919-52b0-4dfe-bc9f-d0fa8a9110f1",
   "metadata": {},
   "outputs": [
    {
     "name": "stdout",
     "output_type": "stream",
     "text": [
      "10\n",
      "20\n",
      "40\n",
      "50\n",
      "1111111111111111111111111111\n",
      "\n",
      "[20, 30]\n",
      "[10, 20, 30]\n",
      "[30, 40, 50]\n",
      "[10, 30, 50]\n",
      "[50, 40, 30, 20, 10]\n",
      "222222222222222222222222222222\n",
      "\n"
     ]
    }
   ],
   "source": [
    "numbers = [10, 20, 30, 40, 50] # age, income, houses, size of plot,etc\n",
    "\n",
    "# Accessing elements\n",
    "print(numbers[0])   # prints 1st number in the list 10\n",
    "print(numbers[1])   # prints 2nd number in the list 20\n",
    "print(numbers[3])   # prints 4th number in the list 40\n",
    "\n",
    "print(numbers[-1])  # access last number 50\n",
    "print(\"1111111111111111111111111111\\n\")\n",
    "\n",
    "# Slicing\n",
    "print(numbers[1:3])  # slice 2nd number to 3rd number: [20, 30]\n",
    "print(numbers[:3])   # slice [10, 20, 30]\n",
    "print(numbers[2:])   # slice from index 2 to last [30, 40, 50]\n",
    "print(numbers[::2]) # from begin to end with step size =2\n",
    "print(numbers[::-1]) # reverse\n",
    "print(\"222222222222222222222222222222\\n\")"
   ]
  },
  {
   "cell_type": "code",
   "execution_count": 19,
   "id": "562fac51-7dc0-4f68-a053-bf8cd24f3e57",
   "metadata": {},
   "outputs": [
    {
     "name": "stdout",
     "output_type": "stream",
     "text": [
      "numbers after append: [10, 20, 30, 40, 50, 17]\n",
      "numbers after insert: [10, 20, 30, 25, 40, 50]\n",
      "numbers after remove: [10, 20, 30, 40]\n",
      "numbers after pop: [10, 20, 40, 50]\n",
      "numbers after insert in the begn: [-6, 10, 20, 30, 40, 50]\n",
      "mutablility: numbers: [10, 20, 25, 40, 50]\n"
     ]
    }
   ],
   "source": [
    "# List modification\n",
    "numbers = [10, 20, 30, 40, 50]\n",
    "numbers.append(17)  # Adds 17 at the end. NOTE: Try appending string, list, empty string, etc\n",
    "print(f\"numbers after append: {numbers}\")  \n",
    "\n",
    "numbers = [10, 20, 30, 40, 50]\n",
    "numbers.insert(3, 25)  # Insert 25 at index 3\n",
    "print(f\"numbers after insert: {numbers}\")  \n",
    "\n",
    "numbers = [10, 20, 30, 40, 50]\n",
    "numbers.remove(50) # works on actual number\n",
    "print(f\"numbers after remove: {numbers}\")\n",
    "\n",
    "numbers = [10, 20, 30, 40, 50]\n",
    "numbers.pop(2) # works on actual index\n",
    "print(f\"numbers after pop: {numbers}\")\n",
    "\n",
    "\n",
    "#########Assignemnt############\n",
    "# How to put -6 in the begining of list ?\n",
    "numbers = [10, 20, 30, 40, 50]\n",
    "numbers.insert(0,-6)\n",
    "print(f\"numbers after insert in the begn: {numbers}\")\n",
    "\n",
    "## list is mutable\n",
    "numbers = [10, 20, 30, 40, 50]\n",
    "numbers[2] = 25\n",
    "print(f\"mutablility: numbers: {numbers}\")"
   ]
  },
  {
   "cell_type": "code",
   "execution_count": 18,
   "id": "359cf52c-fe63-4f75-a454-495634df9a91",
   "metadata": {},
   "outputs": [
    {
     "name": "stdout",
     "output_type": "stream",
     "text": [
      "['apple', 'banana', ['cherry', 'date']]\n",
      "['apple', 'banana', 'cherry', 'date']\n"
     ]
    }
   ],
   "source": [
    "# difference between  append and extend\n",
    "fruits = ['apple', 'banana']\n",
    "fruits.append(['cherry', 'date'])\n",
    "print(fruits)\n",
    "\n",
    "fruits = ['apple', 'banana']\n",
    "fruits.extend(['cherry', 'date']) # extend unpackss the list\n",
    "print(fruits)"
   ]
  },
  {
   "cell_type": "code",
   "execution_count": 6,
   "id": "dfe2d6a0-7f13-4a72-b2eb-7bbc3b4df582",
   "metadata": {},
   "outputs": [
    {
     "name": "stdout",
     "output_type": "stream",
     "text": [
      "After sort: [-6, 10, 17, 20, 25, 30, 40]\n",
      "After reverse: [40, 30, 25, 20, 17, 10, -6]\n"
     ]
    }
   ],
   "source": [
    "numbers = [-6, 10, 20, 30, 25, 40, 17]\n",
    "# Sorting\n",
    "numbers.sort()\n",
    "print(f\"After sort: {numbers}\")  \n",
    "\n",
    "# Reversing\n",
    "numbers.reverse()\n",
    "print(f\"After reverse: {numbers}\")  "
   ]
  },
  {
   "cell_type": "code",
   "execution_count": 13,
   "id": "9ea18133-605d-414d-8462-458905056ccd",
   "metadata": {},
   "outputs": [
    {
     "name": "stdout",
     "output_type": "stream",
     "text": [
      "After list concatenation: [10, 20, 30, 40, 50, 77, 88, 11]\n",
      "After list repetition: [10, 20, 30, 40, 50, 10, 20, 30, 40, 50]\n"
     ]
    }
   ],
   "source": [
    "numbers = [10, 20, 30, 40, 50]\n",
    "\n",
    "# List concatenation\n",
    "more_numbers = [77, 88, 11]\n",
    "new_numbers = numbers + more_numbers\n",
    "print(f\"After list concatenation: {new_numbers}\")  \n",
    "\n",
    "# List repetition\n",
    "repeat_numbers = numbers * 2\n",
    "print(f\"After list repetition: {repeat_numbers}\")  "
   ]
  },
  {
   "cell_type": "code",
   "execution_count": 9,
   "id": "1dc9b447-4bed-4b90-bc37-ec216fb78d69",
   "metadata": {},
   "outputs": [
    {
     "name": "stdout",
     "output_type": "stream",
     "text": [
      "range: [1, 2, 3, 4, 5, 6, 7, 8, 9, 10]\n",
      "range: [1, 4, 7, 10]\n"
     ]
    }
   ],
   "source": [
    "# lets create a list of 10 consecutive int\n",
    "l = list(range(1,11))\n",
    "print(f\"range: {l}\")\n",
    "\n",
    "#lets create a list numbers starting with 1, skipping 3 values , and print upto 10\n",
    "l_skip = list(range(1,11,3))\n",
    "print(f\"range: {l_skip}\")"
   ]
  },
  {
   "cell_type": "markdown",
   "id": "373b69dd-1357-4a97-870b-82519266ec5d",
   "metadata": {},
   "source": [
    "### built-in operations and functions on  list"
   ]
  },
  {
   "cell_type": "code",
   "execution_count": 4,
   "id": "0d6b360a-36f8-4dc2-914c-3bc04993f3bf",
   "metadata": {},
   "outputs": [
    {
     "name": "stdout",
     "output_type": "stream",
     "text": [
      "10\n",
      "70\n",
      "220\n",
      "6\n",
      "[10, 20, 30, 40, 50, 70]\n",
      "36.666666666666664\n"
     ]
    }
   ],
   "source": [
    "numbers = [70, 20, 10, 50, 30, 40]\n",
    "\n",
    "print(min(numbers))\n",
    "print(max(numbers))\n",
    "print(sum(numbers))\n",
    "print(len(numbers))\n",
    "print(sorted(numbers)) # NOTE: it would not work if list contains int, str, bool mixed type\n",
    "\n",
    "average = sum(numbers)/len(numbers)\n",
    "print(average)"
   ]
  },
  {
   "cell_type": "markdown",
   "id": "e1614fd3-6219-430c-8b38-1babf3dfe884",
   "metadata": {},
   "source": [
    "## Nested List"
   ]
  },
  {
   "cell_type": "code",
   "execution_count": 2,
   "id": "507546fb-1abe-4bc6-8a1d-4d76665a623b",
   "metadata": {},
   "outputs": [
    {
     "name": "stdout",
     "output_type": "stream",
     "text": [
      "[[1, 2, 3, 4], [5, 6, 7, 8], [7, 8, 9, 1]]\n"
     ]
    }
   ],
   "source": [
    "# 1. Basic Nested List\n",
    "\n",
    "matrix = [\n",
    "    [1, 2, 3, 4],\n",
    "    [5, 6, 7, 8],\n",
    "    [7, 8, 9, 1]\n",
    "]\n",
    "\n",
    "print(matrix) # This is a 2D list (matrix) with 3 rows and 4 columns\n"
   ]
  },
  {
   "cell_type": "code",
   "execution_count": 3,
   "id": "486735d4-8b63-4797-8311-9b38d1603eeb",
   "metadata": {},
   "outputs": [
    {
     "name": "stdout",
     "output_type": "stream",
     "text": [
      "[1, 2, 3]\n",
      "6\n"
     ]
    }
   ],
   "source": [
    "# 2. Accessing Elements in a Nested List\n",
    "matrix = [\n",
    "    [1, 2, 3],\n",
    "    [4, 5, 6],\n",
    "    [7, 8, 9]\n",
    "]\n",
    "\n",
    "print(matrix[0])      # First row -> [1, 2, 3]\n",
    "print(matrix[1][2])   # Second row, third element -> 6\n"
   ]
  },
  {
   "cell_type": "code",
   "execution_count": 4,
   "id": "8b90ec57-b597-4228-9c49-1c7515ee994d",
   "metadata": {},
   "outputs": [
    {
     "name": "stdout",
     "output_type": "stream",
     "text": [
      "1 2 3 \n",
      "4 5 6 \n",
      "7 8 9 \n"
     ]
    }
   ],
   "source": [
    "# 3. Looping Through a Nested List\n",
    "matrix = [\n",
    "    [1, 2, 3],\n",
    "    [4, 5, 6],\n",
    "    [7, 8, 9]\n",
    "]\n",
    "\n",
    "for row in matrix:\n",
    "    for element in row:\n",
    "        print(element, end=\" \")\n",
    "    print()  # New line after each row\n"
   ]
  },
  {
   "cell_type": "code",
   "execution_count": 5,
   "id": "3a0a5f9e-46a6-4242-84cc-8bfa4ff0fdb8",
   "metadata": {},
   "outputs": [
    {
     "name": "stdout",
     "output_type": "stream",
     "text": [
      "[[1, 99, 3], [4, 5, 6], [7, 8, 9]]\n"
     ]
    }
   ],
   "source": [
    "# 4. Modifying a Nested List\n",
    "matrix = [\n",
    "    [1, 2, 3],\n",
    "    [4, 5, 6],\n",
    "    [7, 8, 9]\n",
    "]\n",
    "\n",
    "matrix[0][1] = 99  # Change second element of the first row\n",
    "\n",
    "print(matrix)"
   ]
  },
  {
   "cell_type": "code",
   "execution_count": 4,
   "id": "9b258979-f780-477e-856f-51283a595ffe",
   "metadata": {},
   "outputs": [
    {
     "name": "stdout",
     "output_type": "stream",
     "text": [
      "hello Bob Julia\n"
     ]
    }
   ],
   "source": [
    "st = \" \" # or use comma\n",
    "new_str = st.join([\"hello\", \"Bob\", \"Julia\"])\n",
    "print(new_str)"
   ]
  },
  {
   "cell_type": "markdown",
   "id": "a925e0a6-3d83-44a1-88ab-a744dc5eed1d",
   "metadata": {},
   "source": [
    "### 3️. Tuple (tuple) Operations\n",
    "- A tuple is an ordered, immutable collection of elements.\n",
    "- can contain duplicates\n",
    "- are heterogenous (can contain elements of different kind)"
   ]
  },
  {
   "cell_type": "code",
   "execution_count": 5,
   "id": "b94893c4-0f8f-4090-acb2-a2cbb6aab3a0",
   "metadata": {},
   "outputs": [
    {
     "name": "stdout",
     "output_type": "stream",
     "text": [
      "('apple', 'banana', 'cherry')\n",
      "<class 'tuple'>\n",
      "('apple', 'banana', 'cherry')\n",
      "<class 'tuple'>\n",
      "('apple', 'banana', 'cherry')\n",
      "<class 'tuple'>\n",
      "('apple',)\n",
      "<class 'tuple'>\n",
      "apple\n",
      "<class 'str'>\n"
     ]
    }
   ],
   "source": [
    "# Tuple declaration\n",
    "tpl = (\"apple\", \"banana\", \"cherry\")\n",
    "print(tpl)\n",
    "print(type(tpl))\n",
    "\n",
    "\n",
    "tpl = \"apple\", \"banana\", \"cherry\"\n",
    "print(tpl)\n",
    "print(type(tpl))\n",
    "\n",
    "tpl = tuple([\"apple\", \"banana\", \"cherry\"])  # from list\n",
    "print(tpl)\n",
    "print(type(tpl))\n",
    "\n",
    "one_item_tpl = (\"apple\",) # mind the comma for it creates tuples\n",
    "print(one_item_tpl)\n",
    "print(type(one_item_tpl))\n",
    "\n",
    "# NOTE: # This is a string and not a tuple!\n",
    "tpl = (\"apple\")  \n",
    "print(tpl)\n",
    "print(type(tpl))\n"
   ]
  },
  {
   "cell_type": "code",
   "execution_count": null,
   "id": "4815537e-f85a-4c2a-b8b5-346a5d8e3fac",
   "metadata": {},
   "outputs": [],
   "source": [
    "# number tuple\n",
    "t = (10, 20, 25.75)\n",
    "print(t)\n",
    "\n",
    "# string tuple\n",
    "t = ('Jessa', 'Emma', 'Kelly')\n",
    "print(t)\n",
    "\n",
    "# mixed type tuple\n",
    "t = ('Jessa', 30, 45.75, [25, 78])\n",
    "print(t)\n",
    "\n",
    "# create a tuple using tuple() constructor\n",
    "t = tuple(('Jessa', 30, 45.75, [23, 78]))\n",
    "print(t)\n"
   ]
  },
  {
   "cell_type": "code",
   "execution_count": 11,
   "id": "a3b1029a-0c38-44fe-ad33-351c706df058",
   "metadata": {},
   "outputs": [
    {
     "name": "stdout",
     "output_type": "stream",
     "text": [
      "apple\n",
      "cherry\n",
      "banana\n",
      "('banana', 'cherry')\n",
      "('apple', 'banana', 'cherry', 'orange', 'grape', 'apple')\n",
      "('apple', 'banana', 'cherry', 'apple', 'banana', 'cherry')\n",
      "True\n",
      "2\n",
      "3\n"
     ]
    }
   ],
   "source": [
    "# Tuple declaration\n",
    "fruits = (\"apple\", \"banana\", \"cherry\")\n",
    "\n",
    "# Accessing elements\n",
    "print(fruits[0])  # 'apple'\n",
    "print(fruits[-1])  # 'cherry'\n",
    "print(fruits[-2])  # 'cherry'\n",
    "\n",
    "# Slicing\n",
    "print(fruits[1:])  # ('banana', 'cherry')\n",
    "\n",
    "# Tuple concatenation\n",
    "new_fruits = fruits + (\"orange\", \"grape\", \"apple\")\n",
    "print(new_fruits)  # ('apple', 'banana', 'cherry', 'orange', 'grape')\n",
    "\n",
    "# Tuple repetition\n",
    "print(fruits * 2)  # ('apple', 'banana', 'cherry', 'apple', 'banana', 'cherry')\n",
    "\n",
    "# Checking existence\n",
    "print(\"banana\" in fruits)  # True\n",
    "\n",
    "# Finding index\n",
    "print(fruits.index(\"cherry\"))  # 2\n",
    "\n",
    "# Tuple length\n",
    "print(len(fruits))  # 3\n"
   ]
  },
  {
   "cell_type": "code",
   "execution_count": 6,
   "id": "0d3984eb-0f7a-4606-9443-f5d4ea3aee29",
   "metadata": {},
   "outputs": [
    {
     "name": "stdout",
     "output_type": "stream",
     "text": [
      "2\n"
     ]
    }
   ],
   "source": [
    "t = (10, 20, 30, 40, 50)\n",
    "\n",
    "# get index of item 30\n",
    "position = t.index(30)\n",
    "print(position)"
   ]
  },
  {
   "cell_type": "code",
   "execution_count": 6,
   "id": "9e3cf28d-036d-469d-8a79-40d243dbcd87",
   "metadata": {},
   "outputs": [
    {
     "name": "stdout",
     "output_type": "stream",
     "text": [
      "['venus', 'jupyter', 'earth']\n"
     ]
    },
    {
     "ename": "TypeError",
     "evalue": "'tuple' object does not support item assignment",
     "output_type": "error",
     "traceback": [
      "\u001b[1;31m---------------------------------------------------------------------------\u001b[0m",
      "\u001b[1;31mTypeError\u001b[0m                                 Traceback (most recent call last)",
      "Cell \u001b[1;32mIn[6], line 6\u001b[0m\n\u001b[0;32m      3\u001b[0m \u001b[38;5;28mprint\u001b[39m(planets)\n\u001b[0;32m      5\u001b[0m planets \u001b[38;5;241m=\u001b[39m (\u001b[38;5;124m\"\u001b[39m\u001b[38;5;124mvenus\u001b[39m\u001b[38;5;124m\"\u001b[39m, \u001b[38;5;124m\"\u001b[39m\u001b[38;5;124muranus\u001b[39m\u001b[38;5;124m\"\u001b[39m, \u001b[38;5;124m\"\u001b[39m\u001b[38;5;124mearth\u001b[39m\u001b[38;5;124m\"\u001b[39m)\n\u001b[1;32m----> 6\u001b[0m \u001b[43mplanets\u001b[49m\u001b[43m[\u001b[49m\u001b[38;5;241;43m1\u001b[39;49m\u001b[43m]\u001b[49m \u001b[38;5;241m=\u001b[39m \u001b[38;5;124m\"\u001b[39m\u001b[38;5;124mjupyter\u001b[39m\u001b[38;5;124m\"\u001b[39m \u001b[38;5;66;03m# tuple are immutable\u001b[39;00m\n",
      "\u001b[1;31mTypeError\u001b[0m: 'tuple' object does not support item assignment"
     ]
    }
   ],
   "source": [
    "# tuple are immutable\n",
    "planets = [\"venus\", \"uranus\", \"earth\"]\n",
    "planets[1] = \"jupyter\" # list are mutable\n",
    "print(planets)\n",
    "\n",
    "planets = (\"venus\", \"uranus\", \"earth\")\n",
    "planets[1] = \"jupyter\" # tuple are immutable"
   ]
  },
  {
   "cell_type": "code",
   "execution_count": 9,
   "id": "f3ca0a6f-3727-45cd-ba71-a26481841271",
   "metadata": {},
   "outputs": [
    {
     "name": "stdout",
     "output_type": "stream",
     "text": [
      "(10, 20, [25, 75, 85])\n",
      "(10, 20, [250, 75, 85])\n"
     ]
    }
   ],
   "source": [
    "# If one of the items is itself a mutable data type as a list, then we \n",
    "# can change its values in the case of a nested tuple.\n",
    "tuple1 = (10, 20, [25, 75, 85])\n",
    "# before update\n",
    "print(tuple1)\n",
    "\n",
    "# modify last item's first value\n",
    "tuple1[2][0] = 250\n",
    "# after update\n",
    "print(tuple1)"
   ]
  },
  {
   "cell_type": "code",
   "execution_count": 10,
   "id": "b60bc49b-b32a-4162-988b-18fc7511f3e7",
   "metadata": {},
   "outputs": [
    {
     "name": "stdout",
     "output_type": "stream",
     "text": [
      "3\n",
      "0\n"
     ]
    }
   ],
   "source": [
    "tuple1 = (10, 20, 60, 30, 60, 40, 60)\n",
    "count = tuple1.count(60) # Count all occurrences of item 60\n",
    "print(count)\n",
    "\n",
    "count = tuple1.count(600)\n",
    "print(count)"
   ]
  },
  {
   "cell_type": "code",
   "execution_count": 5,
   "id": "dada237b-ba77-4c4f-88a0-a3e6c9a9f089",
   "metadata": {},
   "outputs": [
    {
     "name": "stdout",
     "output_type": "stream",
     "text": [
      "10\n",
      "60\n",
      "280\n",
      "7\n"
     ]
    }
   ],
   "source": [
    "tuple1 = (10, 20, 60, 30, 60, 40, 60)\n",
    "print(min(tuple1))\n",
    "print(max(tuple1))\n",
    "print(sum(tuple1))\n",
    "print(len(tuple1))\n"
   ]
  },
  {
   "cell_type": "code",
   "execution_count": null,
   "id": "4fab3dbd-c19e-4321-877d-c362be637f50",
   "metadata": {},
   "outputs": [],
   "source": []
  }
 ],
 "metadata": {
  "kernelspec": {
   "display_name": "Python 3 (ipykernel)",
   "language": "python",
   "name": "python3"
  },
  "language_info": {
   "codemirror_mode": {
    "name": "ipython",
    "version": 3
   },
   "file_extension": ".py",
   "mimetype": "text/x-python",
   "name": "python",
   "nbconvert_exporter": "python",
   "pygments_lexer": "ipython3",
   "version": "3.11.2"
  }
 },
 "nbformat": 4,
 "nbformat_minor": 5
}
