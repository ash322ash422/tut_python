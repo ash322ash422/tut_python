{
 "cells": [
  {
   "cell_type": "markdown",
   "id": "684097b4-852a-45b3-abe6-a06966c8152c",
   "metadata": {},
   "source": [
    "### list Comprehension"
   ]
  },
  {
   "cell_type": "code",
   "execution_count": 16,
   "id": "f051e5c0-9603-4b61-b59d-e31045d7764e",
   "metadata": {},
   "outputs": [
    {
     "name": "stdout",
     "output_type": "stream",
     "text": [
      "numbers: [1, 2, 3, 4, 5, 6, 7, 8, 9, 10]\n",
      "####\n",
      "numbers: [1, 2, 3, 4, 5, 6, 7, 8, 9, 10]\n",
      "#######################################\n",
      "[8, 2, 10, 16, 14]\n",
      "####\n",
      "[8, 2, 10, 16, 14]\n",
      "#######################################\n",
      "times3: [3, 6, 9, 12, 15, 18, 21, 24, 27, 30]\n",
      "squares: [16, 25, 36, 49, 64, 81, 100]\n"
     ]
    }
   ],
   "source": [
    "# 1. Basic List Comprehension\n",
    "\n",
    "#step1: create a list of 10 numbers using range: NOTE print(range(1,11)) is not going to work\n",
    "result = []\n",
    "for n in range(1,11):\n",
    "    result.append(n)\n",
    "\n",
    "print(f\"numbers: {result}\")\n",
    "print(\"####\")\n",
    "\n",
    "#step2: Lets redo above using list Comprehension\n",
    "result = [n for n in range(1, 11)]\n",
    "print(f\"numbers: {result}\")\n",
    "print(\"#######################################\")\n",
    "\n",
    "\n",
    "#step1: Lets print a scaled numbers by factor 2 w/o list compr.\n",
    "numbers = [4, 1, 5, 8, 7]\n",
    "\n",
    "result = []\n",
    "for n in numbers:\n",
    "    result.append(n*2)\n",
    "\n",
    "print(result)\n",
    "print(\"####\")\n",
    "\n",
    "#step2: Lets redo above using list Comprehension\n",
    "numbers = [4, 1, 5, 8, 7]\n",
    "result = [n*2 for n in numbers]  # Multiply each element by 2\n",
    "print(result)  \n",
    "print(\"#######################################\")\n",
    "\n",
    "\n",
    "# Create a list of \"times 3\" from 1 to 10 using list comprehension\n",
    "times3 = [n*3 for n in range(1, 11)]\n",
    "print(f\"times3: {times3}\")\n",
    "\n",
    "# Create a list of squares from 4 to 10.\n",
    "squares = [n**2 for n in range(4, 11)]\n",
    "print(f\"squares: {squares}\")"
   ]
  },
  {
   "cell_type": "code",
   "execution_count": null,
   "id": "cd1f4b60-8ce9-4b03-a64f-478e6361c07a",
   "metadata": {},
   "outputs": [
    {
     "name": "stdout",
     "output_type": "stream",
     "text": [
      "numbers: [1, 2, 3, 4, 5, 6, 7, 8, 9, 10]\n",
      "evens:   [2, 4, 6, 8, 10]\n",
      "n_times_3:   [3, 6, 9]\n",
      "[15, 30, 45, 60, 75, 90]\n",
      "[3, 5, 6, 9, 10, 12, 15, 18, 20, 21, 24, 25, 27, 30, 33, 35, 36, 39, 40, 42, 45, 48, 50, 51, 54, 55, 57, 60, 63, 65, 66, 69, 70, 72, 75, 78, 80, 81, 84, 85, 87, 90, 93, 95, 96, 99, 100]\n"
     ]
    }
   ],
   "source": [
    "# SKIP: ADVANCED\n",
    "# 2. List Comprehension with Condition...here we print all even numbers\n",
    "\n",
    "# EXAMPLE1: Get even numbers from 1 to 10.\n",
    "\n",
    "# STEP1: create list of all numbers\n",
    "numbers   = [n for n in range(1, 11)]\n",
    "print(f\"numbers: {numbers}\")\n",
    "\n",
    "# STEP2: filter out numbers based on if condition\n",
    "evens     = [n for n in range(1, 11) if n % 2 == 0]\n",
    "print(f\"evens:   {evens}\")\n",
    "\n",
    "#########################################\n",
    "\n",
    "# EXAMPLE2: get me a list of numbers multiple of 3\n",
    "n_times_3 = [n for n in range(1, 11) if n % 3 == 0]\n",
    "print(f\"n_times_3:   {n_times_3}\")\n",
    "\n",
    "\n",
    "# list of multiple of 3 and 5 : 15, 30, 45, etc all the way upto 100\n",
    "list_3_and_5 = [n for n in range(1,101) if n%3 == 0 and n%5 == 0]\n",
    "print(list_3_and_5)\n",
    "\n",
    "\n",
    "# list of multiple of 3 or 5 : 3,5,6,9,10,12,... all the way upto 100\n",
    "list_3_or_5 = [n for n in range(1,101) if n%3 == 0 or n%5 == 0]\n",
    "print(list_3_or_5)\n"
   ]
  },
  {
   "cell_type": "code",
   "execution_count": 18,
   "id": "aa414ba4-130a-4950-9d88-3dc28d306e3b",
   "metadata": {},
   "outputs": [
    {
     "name": "stdout",
     "output_type": "stream",
     "text": [
      "numbers: [3, 2, 8, 9, 11, 5, 2, 8, 10]\n",
      "['Odd', 'Even', 'Even', 'Odd', 'Odd', 'Odd', 'Even', 'Even', 'Even']\n"
     ]
    }
   ],
   "source": [
    "# 3. List Comprehension with if-else...here we print even or odd\n",
    "numbers = [3, 2, 8, 9, 11, 5, 2, 8, 10]\n",
    "print(f\"numbers: {numbers}\")\n",
    "\n",
    "labels = [\"Even\" if n%2 == 0 else \"Odd\" for n in numbers]\n",
    "# labels = [\"Even\" for n in numbers if n % 2 == 0 else \"Odd\"] # does not work\n",
    "\n",
    "print(labels)\n"
   ]
  },
  {
   "cell_type": "markdown",
   "id": "eb7f518e-ea22-48dc-8e1d-c6303ef0de85",
   "metadata": {},
   "source": [
    "##  application "
   ]
  },
  {
   "cell_type": "code",
   "execution_count": 1,
   "id": "47d6c9f9-b253-47c7-b0ae-65df7836868d",
   "metadata": {},
   "outputs": [
    {
     "name": "stdout",
     "output_type": "stream",
     "text": [
      "['I', 'i', 'o', 'i', 'i', 'o', 'u', 'a', 'i', 'i', 'i', 'a', 'e', 'o', 'e']\n"
     ]
    }
   ],
   "source": [
    "# APPLICATION: Real-World Example: Extract Vowels from a String in order they appear.\n",
    "sentence = \"It is snowing in  mountains. This is awesome\"\n",
    "vowels = [c for c in sentence if c.lower() in 'aeiou']\n",
    "print(vowels)\n",
    "\n"
   ]
  }
 ],
 "metadata": {
  "kernelspec": {
   "display_name": "Python 3",
   "language": "python",
   "name": "python3"
  },
  "language_info": {
   "codemirror_mode": {
    "name": "ipython",
    "version": 3
   },
   "file_extension": ".py",
   "mimetype": "text/x-python",
   "name": "python",
   "nbconvert_exporter": "python",
   "pygments_lexer": "ipython3",
   "version": "3.11.2"
  }
 },
 "nbformat": 4,
 "nbformat_minor": 5
}
