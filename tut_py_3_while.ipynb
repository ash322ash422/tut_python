{
 "cells": [
  {
   "cell_type": "markdown",
   "id": "a7bbf204-5c54-4c81-bc6a-ae28d20dfbe5",
   "metadata": {},
   "source": [
    "## while\n",
    "```\n",
    "while [boolean_expression]:\n",
    "    stmt1\n",
    "    stmt2\n",
    "    .\n",
    "    .\n",
    "    stmtn\n",
    "```"
   ]
  },
  {
   "cell_type": "code",
   "execution_count": 1,
   "id": "5c3d2f52-a962-4d73-bb47-dd72315696cf",
   "metadata": {},
   "outputs": [
    {
     "name": "stdout",
     "output_type": "stream",
     "text": [
      "1\n",
      "2\n",
      "3\n",
      "4\n",
      "5\n"
     ]
    }
   ],
   "source": [
    "# 1. Basic while Loop\n",
    "\n",
    "i = 1\n",
    "while i <= 5:\n",
    "    print(i)\n",
    "    i += 1  # Increment i\n"
   ]
  },
  {
   "cell_type": "code",
   "execution_count": 1,
   "id": "4a50d4e8-b29f-4db8-a304-ee1d69b71345",
   "metadata": {},
   "outputs": [
    {
     "name": "stdout",
     "output_type": "stream",
     "text": [
      "1 2 3 4 5 "
     ]
    }
   ],
   "source": [
    "i = 1\n",
    "while i <= 5:\n",
    "    print(i, end=\" \")\n",
    "    i += 1  # Increment i\n"
   ]
  },
  {
   "cell_type": "code",
   "execution_count": 3,
   "id": "04c6c8f9-4c54-43ec-9e8f-a901616b4b5d",
   "metadata": {},
   "outputs": [
    {
     "name": "stdout",
     "output_type": "stream",
     "text": [
      "1 2 3 4 5 "
     ]
    }
   ],
   "source": [
    "i = 1\n",
    "while True:\n",
    "    print(i, end=\" \")\n",
    "    i += 1  # Increment i\n",
    "    if i == 6:\n",
    "        break"
   ]
  },
  {
   "cell_type": "code",
   "execution_count": 6,
   "id": "a6e54dd0-21af-4456-96f9-b11b4f1c153a",
   "metadata": {},
   "outputs": [
    {
     "name": "stdout",
     "output_type": "stream",
     "text": [
      "1 2 3 4 5 "
     ]
    }
   ],
   "source": [
    "i = 1\n",
    "while True:\n",
    "    print(i, end=\" \")\n",
    "    if i == 5:\n",
    "        break\n",
    "    i += 1  # Increment i\n",
    "    "
   ]
  },
  {
   "cell_type": "code",
   "execution_count": 7,
   "id": "ea4aebf7-fb20-4326-8428-fd011c2b33bb",
   "metadata": {},
   "outputs": [
    {
     "name": "stdout",
     "output_type": "stream",
     "text": [
      "2\n",
      "4\n",
      "6\n",
      "8\n",
      "10\n"
     ]
    }
   ],
   "source": [
    "# Print even numbers between 1 and 10 using while loop and continue\n",
    "num = 0\n",
    "while num < 10:\n",
    "    num += 1\n",
    "    if num % 2 != 0:\n",
    "        continue  # Skip odd numbers\n",
    "    print(num)\n"
   ]
  },
  {
   "cell_type": "code",
   "execution_count": 2,
   "id": "c01669e3-611a-4a97-a69c-afc2465ed73e",
   "metadata": {},
   "outputs": [
    {
     "name": "stdin",
     "output_type": "stream",
     "text": [
      "Enter a number (0 to stop):  3\n"
     ]
    },
    {
     "name": "stdout",
     "output_type": "stream",
     "text": [
      "You entered: 3\n"
     ]
    },
    {
     "name": "stdin",
     "output_type": "stream",
     "text": [
      "Enter a number (0 to stop):  3\n"
     ]
    },
    {
     "name": "stdout",
     "output_type": "stream",
     "text": [
      "You entered: 3\n"
     ]
    },
    {
     "name": "stdin",
     "output_type": "stream",
     "text": [
      "Enter a number (0 to stop):  0\n"
     ]
    },
    {
     "name": "stdout",
     "output_type": "stream",
     "text": [
      "Loop ended.\n"
     ]
    }
   ],
   "source": [
    "# 2. while Loop with User Input\n",
    "num = int(input(\"Enter a number (0 to stop): \"))\n",
    "while num != 0:\n",
    "    print(f\"You entered: {num}\")\n",
    "    num = int(input(\"Enter a number (0 to stop): \"))\n",
    "\n",
    "print(\"Loop ended.\")"
   ]
  },
  {
   "cell_type": "code",
   "execution_count": 4,
   "id": "ac854510-b4bd-48ee-b843-04530bd9f5b6",
   "metadata": {},
   "outputs": [
    {
     "name": "stdout",
     "output_type": "stream",
     "text": [
      "1\n",
      "2\n",
      "3\n",
      "Stopping at 4\n"
     ]
    }
   ],
   "source": [
    "# 3. Using break in a while Loop\n",
    "i = 1\n",
    "while i <= 6:\n",
    "    if i == 4:\n",
    "        print(\"Stopping at 4\")\n",
    "        break  # Exit the loop\n",
    "    print(i)\n",
    "    i += 1\n"
   ]
  },
  {
   "cell_type": "code",
   "execution_count": 6,
   "id": "7c08139a-3bc2-48d5-901c-67514284960e",
   "metadata": {},
   "outputs": [
    {
     "name": "stdout",
     "output_type": "stream",
     "text": [
      "1\n",
      "2\n",
      "4\n",
      "5\n"
     ]
    }
   ],
   "source": [
    "# 4. Using continue in a while Loop\n",
    "i = 0\n",
    "while i < 5:\n",
    "    i += 1\n",
    "    if i == 3:\n",
    "        continue  # Skip iteration when i == 3\n",
    "    print(i)\n"
   ]
  },
  {
   "cell_type": "code",
   "execution_count": null,
   "id": "8cd921b6-0055-460c-8962-fe367d77c8a1",
   "metadata": {},
   "outputs": [],
   "source": [
    "# 5. Infinite Loop (Press Ctrl+C to Stop) DANGEROUS\n",
    "while True:\n",
    "    print(\"This is an infinite loop. Press Ctrl+C to stop.\")\n"
   ]
  },
  {
   "cell_type": "markdown",
   "id": "1bd89489-7d80-4ab6-8edf-393b8e03962e",
   "metadata": {},
   "source": [
    "## Real world example\n",
    "ATM Withdrawal Simulation\n",
    "\n",
    "This example simulates an ATM where a user can withdraw money until their balance runs out or they exit."
   ]
  },
  {
   "cell_type": "code",
   "execution_count": null,
   "id": "9488bb3c-d97d-4f3c-854c-d0af33ce717b",
   "metadata": {},
   "outputs": [
    {
     "name": "stdout",
     "output_type": "stream",
     "text": [
      "\n",
      "ATM Machine\n",
      "1. Check Balance\n",
      "2. Withdraw Money\n",
      "3. Exit\n"
     ]
    },
    {
     "name": "stdin",
     "output_type": "stream",
     "text": [
      "Enter your choice (1-3):  1\n"
     ]
    },
    {
     "name": "stdout",
     "output_type": "stream",
     "text": [
      "Your current balance is: $1000\n",
      "\n",
      "ATM Machine\n",
      "1. Check Balance\n",
      "2. Withdraw Money\n",
      "3. Exit\n"
     ]
    },
    {
     "name": "stdin",
     "output_type": "stream",
     "text": [
      "Enter your choice (1-3):  2\n",
      "Enter amount to withdraw:  200\n"
     ]
    },
    {
     "name": "stdout",
     "output_type": "stream",
     "text": [
      "Withdrawal successful! New balance: $800.0\n",
      "\n",
      "ATM Machine\n",
      "1. Check Balance\n",
      "2. Withdraw Money\n",
      "3. Exit\n"
     ]
    },
    {
     "name": "stdin",
     "output_type": "stream",
     "text": [
      "Enter your choice (1-3):  800\n"
     ]
    },
    {
     "name": "stdout",
     "output_type": "stream",
     "text": [
      "Invalid choice! Please enter 1, 2, or 3.\n",
      "\n",
      "ATM Machine\n",
      "1. Check Balance\n",
      "2. Withdraw Money\n",
      "3. Exit\n"
     ]
    },
    {
     "name": "stdin",
     "output_type": "stream",
     "text": [
      "Enter your choice (1-3):  500\n"
     ]
    },
    {
     "name": "stdout",
     "output_type": "stream",
     "text": [
      "Invalid choice! Please enter 1, 2, or 3.\n",
      "\n",
      "ATM Machine\n",
      "1. Check Balance\n",
      "2. Withdraw Money\n",
      "3. Exit\n"
     ]
    }
   ],
   "source": [
    "balance = 1000  # Initial account balance\n",
    "\n",
    "while True:\n",
    "    print(\"\\nATM Machine\")\n",
    "    print(\"1. Check Balance\")\n",
    "    print(\"2. Withdraw Money\")\n",
    "    print(\"3. Exit\")\n",
    "    \n",
    "    choice = input(\"Enter your choice (1-3): \")\n",
    "    \n",
    "    if choice == \"1\":\n",
    "        print(f\"Your current balance is: ${balance}\")\n",
    "    \n",
    "    elif choice == \"2\":\n",
    "        amount = float(input(\"Enter amount to withdraw: \"))\n",
    "        \n",
    "        if amount > balance:\n",
    "            print(\"Insufficient funds! Try a smaller amount.\")\n",
    "        else:\n",
    "            balance = balance - amount\n",
    "            print(f\"Withdrawal successful! New balance: ${balance}\")\n",
    "    \n",
    "    elif choice == \"3\":\n",
    "        print(\"Thank you for using the ATM. Goodbye!\")\n",
    "        break  # Exit the loop\n",
    "    \n",
    "    else:\n",
    "        print(\"Invalid choice! Please enter 1, 2, or 3.\")\n"
   ]
  },
  {
   "cell_type": "code",
   "execution_count": null,
   "id": "91d4f3b2-8ab2-4266-98b0-5835680adb9c",
   "metadata": {},
   "outputs": [],
   "source": []
  }
 ],
 "metadata": {
  "kernelspec": {
   "display_name": "Python 3 (ipykernel)",
   "language": "python",
   "name": "python3"
  },
  "language_info": {
   "codemirror_mode": {
    "name": "ipython",
    "version": 3
   },
   "file_extension": ".py",
   "mimetype": "text/x-python",
   "name": "python",
   "nbconvert_exporter": "python",
   "pygments_lexer": "ipython3",
   "version": "3.11.2"
  }
 },
 "nbformat": 4,
 "nbformat_minor": 5
}
