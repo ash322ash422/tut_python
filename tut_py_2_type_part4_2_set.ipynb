{
 "cells": [
  {
   "cell_type": "markdown",
   "id": "503df67f-a6b8-405a-b978-59e8bdefd3e9",
   "metadata": {},
   "source": [
    "# Sets: container for data\n",
    "- not ordered\n",
    "- contains unique elements. No duplicates"
   ]
  },
  {
   "cell_type": "markdown",
   "id": "09f645d4-1309-4919-a5e6-4e8d830a360c",
   "metadata": {},
   "source": [
    "### 1️. Creating set using { }"
   ]
  },
  {
   "cell_type": "code",
   "execution_count": 23,
   "id": "4edd019e-2e43-46d2-8923-ae09d755c861",
   "metadata": {},
   "outputs": [
    {
     "name": "stdout",
     "output_type": "stream",
     "text": [
      "{8, 10, 2, 4}\n",
      "<class 'set'>\n",
      "############\n",
      "{8, 10, 2, 4}\n",
      "<class 'set'>\n"
     ]
    }
   ],
   "source": [
    "even = { 8, 4, 10, 2 }\n",
    "print(even) # elements are not printed in the same order in which they were entered\n",
    "print(type(even))\n",
    "print(\"############\")"
   ]
  },
  {
   "cell_type": "code",
   "execution_count": 25,
   "id": "7e3f6de9-3447-4aa3-89a9-2f95fbb94a31",
   "metadata": {},
   "outputs": [
    {
     "name": "stdout",
     "output_type": "stream",
     "text": [
      "{'mars', 'jupyter', 'saturn'}\n",
      "{'mars', 'jupyter', 'saturn'}\n"
     ]
    }
   ],
   "source": [
    "# create set from elements of a list or tuple\n",
    "\n",
    "l = [\"mars\", \"jupyter\", \"saturn\"] # a list\n",
    "\n",
    "planets = set(l) # on list\n",
    "print(planets)  \n",
    "\n",
    "#####################\n",
    "t = (\"mars\", \"jupyter\", \"saturn\") # a tuple\n",
    "\n",
    "planets = set(t) # on tuple\n",
    "print(planets)  "
   ]
  },
  {
   "cell_type": "code",
   "execution_count": 3,
   "id": "130222ed-2434-4a9b-a41a-577ebf8572f8",
   "metadata": {},
   "outputs": [
    {
     "name": "stdout",
     "output_type": "stream",
     "text": [
      "{8, 10, 2, 4}\n",
      "{'user2@example.com', 'user1@example.com'}\n"
     ]
    }
   ],
   "source": [
    "# Sets remove duplicates: lets add duplicates and set() will remove them\n",
    "even = {8, 4, 10, 2, 4, 4} \n",
    "print(even)\n",
    "\n",
    "###################\n",
    "# A simple but useful application of set:  You have list of items that contain some duplicate entries. Remove them using set.\n",
    "\n",
    "emails = [\"user1@example.com\", \"user2@example.com\", \"user1@example.com\", \"user1@example.com\"]\n",
    "unique_emails = set(emails)\n",
    "\n",
    "print(unique_emails)\n"
   ]
  },
  {
   "cell_type": "code",
   "execution_count": 26,
   "id": "b18f55e3-d3a2-4981-891a-bffdf3093594",
   "metadata": {},
   "outputs": [
    {
     "ename": "TypeError",
     "evalue": "'set' object is not subscriptable",
     "output_type": "error",
     "traceback": [
      "\u001b[1;31m---------------------------------------------------------------------------\u001b[0m",
      "\u001b[1;31mTypeError\u001b[0m                                 Traceback (most recent call last)",
      "Cell \u001b[1;32mIn[26], line 3\u001b[0m\n\u001b[0;32m      1\u001b[0m \u001b[38;5;66;03m# cannot access elements of set using index: 'set' object is not subscriptable\u001b[39;00m\n\u001b[0;32m      2\u001b[0m planets \u001b[38;5;241m=\u001b[39m {\u001b[38;5;124m\"\u001b[39m\u001b[38;5;124mmars\u001b[39m\u001b[38;5;124m\"\u001b[39m, \u001b[38;5;124m\"\u001b[39m\u001b[38;5;124mjupyter\u001b[39m\u001b[38;5;124m\"\u001b[39m, \u001b[38;5;124m\"\u001b[39m\u001b[38;5;124msaturn\u001b[39m\u001b[38;5;124m\"\u001b[39m } \n\u001b[1;32m----> 3\u001b[0m \u001b[38;5;28mprint\u001b[39m(planets[\u001b[38;5;241m2\u001b[39m])\n",
      "\u001b[1;31mTypeError\u001b[0m: 'set' object is not subscriptable"
     ]
    }
   ],
   "source": [
    "# cannot access elements of set using index: 'set' object is not subscriptable\n",
    "planets = {\"mars\", \"jupyter\", \"saturn\" } \n",
    "print(planets[2])  "
   ]
  },
  {
   "cell_type": "markdown",
   "id": "0df004c8-f07e-48c3-8bb1-e70c2699893d",
   "metadata": {},
   "source": [
    "### 2️. Adding and Removing Elements from a set\n",
    "Scenario: Managing a guest list for an event."
   ]
  },
  {
   "cell_type": "code",
   "execution_count": 28,
   "id": "04febcc7-a9e0-477f-92c5-e7319dedad9a",
   "metadata": {},
   "outputs": [
    {
     "name": "stdout",
     "output_type": "stream",
     "text": [
      "{'David', 'Charlie', 'Wurtzberger', 'Sarah'}\n",
      "{'David', 'Wurtzberger', 'Sarah'}\n"
     ]
    }
   ],
   "source": [
    "# add and remove elements\n",
    "\n",
    "guests = {\"Sarah\", \"Wurtzberger\", \"Charlie\"}\n",
    "\n",
    "guests.add(\"David\")  # Add a guest\n",
    "print(guests)\n",
    "\n",
    "##############\n",
    "guests.remove(\"Charlie\")  # Remove a guest\n",
    "print(guests)\n"
   ]
  },
  {
   "cell_type": "markdown",
   "id": "84e521c1-5d8d-4e34-8e59-ffc8c939cd60",
   "metadata": {},
   "source": [
    "### 3️. Set Operations (Union, Intersection, Difference)\n",
    "Scenario: Finding common and unique students in two classes."
   ]
  },
  {
   "cell_type": "code",
   "execution_count": 6,
   "id": "13961d73-f817-4013-a681-dc7489c01c74",
   "metadata": {},
   "outputs": [
    {
     "name": "stdout",
     "output_type": "stream",
     "text": [
      "union       : {'Alice', 'Geeta', 'David', 'Bob', 'Charlie', 'Zena'}\n",
      "intersection: {'Bob', 'Zena'}\n",
      "difference1 : {'Alice', 'Charlie'}\n",
      "difference2 : {'Geeta', 'David'}\n"
     ]
    }
   ],
   "source": [
    "# Union, Intersection, Difference\n",
    "\n",
    "class_art = {\"Alice\", \"Bob\", \"Charlie\", \"Zena\"}\n",
    "class_gym = {\"Bob\", \"David\", \"Zena\", \"Geeta\"}\n",
    "\n",
    "# Union (All students)\n",
    "print(\"union       :\", class_art | class_gym)  \n",
    "\n",
    "# Intersection (Students in both classes)\n",
    "print(\"intersection:\", class_art & class_gym)  \n",
    "\n",
    "# Difference (Students only in class art and not in gym class)\n",
    "print(\"difference1 :\", class_art - class_gym)\n",
    "\n",
    "# Difference (Students only in class gym and not in art class)\n",
    "print(\"difference2 :\", class_gym - class_art)  "
   ]
  },
  {
   "cell_type": "markdown",
   "id": "ae874d33-9de6-4164-9d2c-4f07731d31c4",
   "metadata": {},
   "source": [
    "### 4️. Checking Membership in a set\n",
    "Scenario: Checking if an element exists in a set."
   ]
  },
  {
   "cell_type": "code",
   "execution_count": 34,
   "id": "d39456d2-c8d8-4a8b-a7dd-b579276f301e",
   "metadata": {},
   "outputs": [
    {
     "name": "stdout",
     "output_type": "stream",
     "text": [
      "python5555 is NOT in the set.\n"
     ]
    }
   ],
   "source": [
    "# Checking if an element exists in a set.\n",
    "word_set = {\"python\", \"java\", \"c++\", \"javascript\"}\n",
    "\n",
    "srch = 'python'\n",
    "if srch in word_set:\n",
    "    print(f\"{srch} is in the set.\")\n",
    "else:\n",
    "    print(f\"{srch} is NOT in the set.\")"
   ]
  }
 ],
 "metadata": {
  "kernelspec": {
   "display_name": "Python 3 (ipykernel)",
   "language": "python",
   "name": "python3"
  },
  "language_info": {
   "codemirror_mode": {
    "name": "ipython",
    "version": 3
   },
   "file_extension": ".py",
   "mimetype": "text/x-python",
   "name": "python",
   "nbconvert_exporter": "python",
   "pygments_lexer": "ipython3",
   "version": "3.9.9"
  }
 },
 "nbformat": 4,
 "nbformat_minor": 5
}
