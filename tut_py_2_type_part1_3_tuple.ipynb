{
 "cells": [
  {
   "cell_type": "markdown",
   "id": "a925e0a6-3d83-44a1-88ab-a744dc5eed1d",
   "metadata": {},
   "source": [
    "### 3️. Tuple (tuple) Operations\n",
    "- A tuple is an **ordered, immutable** collection of elements.\n",
    "- slightly faster than list and ideal when **data remains fixed**. That is you do not have to perform many insert or update operation.\n",
    "- can contain **duplicates**\n",
    "- are heterogenous (can contain elements of different kind)\n"
   ]
  },
  {
   "cell_type": "code",
   "execution_count": 2,
   "id": "b94893c4-0f8f-4090-acb2-a2cbb6aab3a0",
   "metadata": {},
   "outputs": [
    {
     "name": "stdout",
     "output_type": "stream",
     "text": [
      "('apple', 'banana', 'cherry')\n",
      "<class 'tuple'>\n"
     ]
    }
   ],
   "source": [
    "# Tuple declaration\n",
    "# tpl = (\"apple\", \"banana\", \"cherry\")\n",
    "# print(tpl)\n",
    "# print(type(tpl))\n",
    "\n",
    "# #another way to create tuple without ()\n",
    "# tpl = \"apple\", \"banana\", \"cherry\"\n",
    "# print(tpl)\n",
    "# print(type(tpl))\n",
    "\n",
    "# create a tuple from a list\n",
    "fruits = [\"apple\", \"banana\", \"cherry\"]\n",
    "tpl = tuple(fruits)  # from list\n",
    "print(tpl)\n",
    "print(type(tpl))\n",
    "\n"
   ]
  },
  {
   "cell_type": "code",
   "execution_count": 1,
   "id": "9b75ca47-be87-4a5b-8d4a-77e8f13eb4c4",
   "metadata": {},
   "outputs": [
    {
     "name": "stdout",
     "output_type": "stream",
     "text": [
      "('apple',)\n",
      "<class 'tuple'>\n",
      "apple\n",
      "<class 'str'>\n"
     ]
    }
   ],
   "source": [
    "#SIDE NOTE:\n",
    "one_item_tpl = (\"apple\",) # mind the comma for it creates tuples\n",
    "print(one_item_tpl)\n",
    "print(type(one_item_tpl))\n",
    "\n",
    "# # NOTE: # This is a string and not a tuple!\n",
    "tpl = (\"apple\")  \n",
    "print(tpl)\n",
    "print(type(tpl))\n"
   ]
  },
  {
   "cell_type": "code",
   "execution_count": 6,
   "id": "4815537e-f85a-4c2a-b8b5-346a5d8e3fac",
   "metadata": {},
   "outputs": [
    {
     "name": "stdout",
     "output_type": "stream",
     "text": [
      "(10, 20, 25.75)\n",
      "('Jessa', 'Emma', 'Kelly')\n",
      "('Jessa', 30, 45.75, [25, 78])\n",
      "((1, 2, 7.3), 'ash', 1234, 54, 12000)\n"
     ]
    }
   ],
   "source": [
    "# tuple can contain various types of elements:\n",
    "\n",
    "# number tuple: int, float\n",
    "t = (10, 20, 25.75)\n",
    "print(t)\n",
    "\n",
    "# string tuple\n",
    "t = ('Jessa', 'Emma', 'Kelly')\n",
    "print(t)\n",
    "\n",
    "# mixed type tuple: string,int,float,list\n",
    "t = ('Jessa', 30, 45.75, [25, 78])\n",
    "print(t)\n",
    "\n",
    "t = ((1,2,7.3), \"ash\", 1234, 54, 12000)\n",
    "print(t)"
   ]
  },
  {
   "cell_type": "code",
   "execution_count": 11,
   "id": "a3b1029a-0c38-44fe-ad33-351c706df058",
   "metadata": {},
   "outputs": [
    {
     "name": "stdout",
     "output_type": "stream",
     "text": [
      "apple\n",
      "cherry\n",
      "banana\n",
      "('banana', 'cherry')\n",
      "('apple', 'banana', 'cherry', 'orange', 'grape', 'apple')\n",
      "('apple', 'banana', 'cherry', 'apple', 'banana', 'cherry')\n",
      "True\n",
      "2\n",
      "3\n"
     ]
    }
   ],
   "source": [
    "fruits = (\"apple\", \"banana\", \"cherry\")\n",
    "\n",
    "# Accessing elements\n",
    "print(fruits[0])  # 'apple'\n",
    "print(fruits[-1])  # 'cherry'\n",
    "print(fruits[-2])  # 'banana'\n",
    "\n",
    "# Slicing\n",
    "print(fruits[1:])  # ('banana', 'cherry')\n",
    "\n",
    "# Tuple concatenation\n",
    "new_fruits = fruits + (\"orange\", \"grape\", \"apple\")\n",
    "print(new_fruits)  # ('apple', 'banana', 'cherry', 'orange', 'grape')\n",
    "\n",
    "# Tuple repetition\n",
    "print(fruits * 2)  # ('apple', 'banana', 'cherry', 'apple', 'banana', 'cherry')\n",
    "\n",
    "# Checking existence\n",
    "print(\"banana\" in fruits)  # True\n",
    "\n",
    "# Finding index\n",
    "print(fruits.index(\"cherry\"))  # 2\n",
    "\n",
    "# Tuple length\n",
    "print(len(fruits))  # 3\n"
   ]
  },
  {
   "cell_type": "code",
   "execution_count": 44,
   "id": "9e3cf28d-036d-469d-8a79-40d243dbcd87",
   "metadata": {},
   "outputs": [
    {
     "name": "stdout",
     "output_type": "stream",
     "text": [
      "['venus', 'jupyter', 'earth']\n"
     ]
    },
    {
     "ename": "TypeError",
     "evalue": "'tuple' object does not support item assignment",
     "output_type": "error",
     "traceback": [
      "\u001b[1;31m---------------------------------------------------------------------------\u001b[0m",
      "\u001b[1;31mTypeError\u001b[0m                                 Traceback (most recent call last)",
      "Cell \u001b[1;32mIn[44], line 7\u001b[0m\n\u001b[0;32m      4\u001b[0m \u001b[38;5;28mprint\u001b[39m(planets)\n\u001b[0;32m      6\u001b[0m planets \u001b[38;5;241m=\u001b[39m (\u001b[38;5;124m\"\u001b[39m\u001b[38;5;124mvenus\u001b[39m\u001b[38;5;124m\"\u001b[39m, \u001b[38;5;124m\"\u001b[39m\u001b[38;5;124muranus\u001b[39m\u001b[38;5;124m\"\u001b[39m, \u001b[38;5;124m\"\u001b[39m\u001b[38;5;124mearth\u001b[39m\u001b[38;5;124m\"\u001b[39m)\n\u001b[1;32m----> 7\u001b[0m planets[\u001b[38;5;241m1\u001b[39m] \u001b[38;5;241m=\u001b[39m \u001b[38;5;124m\"\u001b[39m\u001b[38;5;124mjupyter\u001b[39m\u001b[38;5;124m\"\u001b[39m\n",
      "\u001b[1;31mTypeError\u001b[0m: 'tuple' object does not support item assignment"
     ]
    }
   ],
   "source": [
    "# tuple are immutable\n",
    "planets = [\"venus\", \"uranus\", \"earth\"]\n",
    "planets[1] = \"jupyter\" # list are mutable\n",
    "print(planets)\n",
    "\n",
    "planets = (\"venus\", \"uranus\", \"earth\")\n",
    "planets[1] = \"jupyter\" # tuple are immutable\n",
    "print(planets)"
   ]
  },
  {
   "cell_type": "code",
   "execution_count": 7,
   "id": "b60bc49b-b32a-4162-988b-18fc7511f3e7",
   "metadata": {},
   "outputs": [
    {
     "name": "stdout",
     "output_type": "stream",
     "text": [
      "3\n",
      "0\n"
     ]
    }
   ],
   "source": [
    "t = (10, 20, 60, 30, 60, 40, 60)\n",
    "count = t.count(60) # Count all occurrences of item 60\n",
    "print(count)\n",
    "\n",
    "count = t.count(600)\n",
    "print(count)"
   ]
  },
  {
   "cell_type": "code",
   "execution_count": 8,
   "id": "dada237b-ba77-4c4f-88a0-a3e6c9a9f089",
   "metadata": {},
   "outputs": [
    {
     "name": "stdout",
     "output_type": "stream",
     "text": [
      "10\n",
      "60\n",
      "280\n",
      "7\n"
     ]
    }
   ],
   "source": [
    "t = (10, 20, 60, 30, 60, 40, 60)\n",
    "print(min(t))\n",
    "print(max(t))\n",
    "print(sum(t))\n",
    "print(len(t))"
   ]
  },
  {
   "cell_type": "markdown",
   "id": "9565d1c3-aa27-49c2-a471-cc840b04df85",
   "metadata": {},
   "source": [
    "# STOP"
   ]
  },
  {
   "cell_type": "code",
   "execution_count": null,
   "id": "5c88f24c-fc3c-4c36-b842-5b2c383112fd",
   "metadata": {},
   "outputs": [],
   "source": []
  },
  {
   "cell_type": "code",
   "execution_count": null,
   "id": "0ce1282c-9602-4660-9fdf-40a22e46e9b3",
   "metadata": {},
   "outputs": [],
   "source": []
  },
  {
   "cell_type": "code",
   "execution_count": null,
   "id": "316bcbbb-fbc8-40a2-a0be-4519d6cea915",
   "metadata": {},
   "outputs": [],
   "source": []
  },
  {
   "cell_type": "code",
   "execution_count": 9,
   "id": "f3ca0a6f-3727-45cd-ba71-a26481841271",
   "metadata": {},
   "outputs": [
    {
     "name": "stdout",
     "output_type": "stream",
     "text": [
      "(10, 20, [25, 75, 85])\n",
      "(10, 20, [250, 75, 85])\n"
     ]
    }
   ],
   "source": [
    "# OPTIONAL: SKIP\n",
    "# If one of the items is itself a mutable data type as a list, then we \n",
    "# can change its values in the case of a nested tuple.\n",
    "tuple1 = (10, 20, [25, 75, 85])\n",
    "# before update\n",
    "print(tuple1)\n",
    "\n",
    "# modify last item's first value\n",
    "tuple1[2][0] = 250\n",
    "# after update\n",
    "print(tuple1)"
   ]
  },
  {
   "cell_type": "code",
   "execution_count": null,
   "id": "4fab3dbd-c19e-4321-877d-c362be637f50",
   "metadata": {},
   "outputs": [],
   "source": []
  }
 ],
 "metadata": {
  "kernelspec": {
   "display_name": "Python 3 (ipykernel)",
   "language": "python",
   "name": "python3"
  },
  "language_info": {
   "codemirror_mode": {
    "name": "ipython",
    "version": 3
   },
   "file_extension": ".py",
   "mimetype": "text/x-python",
   "name": "python",
   "nbconvert_exporter": "python",
   "pygments_lexer": "ipython3",
   "version": "3.9.9"
  }
 },
 "nbformat": 4,
 "nbformat_minor": 5
}
