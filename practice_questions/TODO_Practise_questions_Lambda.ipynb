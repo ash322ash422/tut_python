{
  "cells": [
    {
      "cell_type": "markdown",
      "id": "0accccb6",
      "metadata": {
        "id": "0accccb6"
      },
      "source": [
        "# Questions on Lambda Functions"
      ]
    },
    {
      "cell_type": "markdown",
      "id": "582e1a7a",
      "metadata": {
        "id": "582e1a7a"
      },
      "source": [
        "### 1. Write a Python program to create a lambda function that adds 15 to a given number passed in as an argument, also create a lambda function that multiplies argument x with argument y and print the result."
      ]
    },
    {
      "cell_type": "code",
      "execution_count": null,
      "id": "fb3d4f06",
      "metadata": {
        "id": "fb3d4f06",
        "outputId": "0f859795-ae3a-46de-e9da-e71cab8c3cc3"
      },
      "outputs": [
        {
          "data": {
            "text/plain": [
              "25"
            ]
          },
          "execution_count": 71,
          "metadata": {},
          "output_type": "execute_result"
        }
      ],
      "source": [
        "a = lambda x : x + 15\n",
        "a(10)"
      ]
    },
    {
      "cell_type": "code",
      "execution_count": null,
      "id": "d29868cd",
      "metadata": {
        "id": "d29868cd",
        "outputId": "168a0e00-9c49-41cc-95ff-6afadeff29f6"
      },
      "outputs": [
        {
          "data": {
            "text/plain": [
              "20"
            ]
          },
          "execution_count": 72,
          "metadata": {},
          "output_type": "execute_result"
        }
      ],
      "source": [
        "b = lambda x, y : x * y\n",
        "b(4,5)"
      ]
    },
    {
      "cell_type": "markdown",
      "id": "019114fd",
      "metadata": {
        "id": "019114fd"
      },
      "source": [
        "### 2.Write a Python program to create a function that takes one argument, and that argument will be multiplied with an unknown given number."
      ]
    },
    {
      "cell_type": "code",
      "execution_count": null,
      "id": "f6fc8590",
      "metadata": {
        "id": "f6fc8590"
      },
      "outputs": [],
      "source": [
        "def multiplier(n) :\n",
        "    return lambda x : x * n"
      ]
    },
    {
      "cell_type": "code",
      "execution_count": null,
      "id": "f9de9d25",
      "metadata": {
        "id": "f9de9d25",
        "outputId": "2f805a6c-6fdb-4493-db3b-10ae49a7413b"
      },
      "outputs": [
        {
          "name": "stdout",
          "output_type": "stream",
          "text": [
            "Quintuple of 3 is:  15\n"
          ]
        }
      ],
      "source": [
        "output = multiplier(5)\n",
        "\n",
        "print(\"Quintuple of 3 is: \" ,output(3))"
      ]
    },
    {
      "cell_type": "markdown",
      "id": "cdb39eca",
      "metadata": {
        "id": "cdb39eca"
      },
      "source": [
        "### 3. Write a Python program to sort a list of tuples using Lambda."
      ]
    },
    {
      "cell_type": "code",
      "execution_count": null,
      "id": "98d13475",
      "metadata": {
        "id": "98d13475",
        "outputId": "cb464a9d-4856-4a55-80db-a8818de880e5"
      },
      "outputs": [
        {
          "data": {
            "text/plain": [
              "[('Social sciences', 82), ('English', 88), ('Science', 90), ('Maths', 97)]"
            ]
          },
          "execution_count": 75,
          "metadata": {},
          "output_type": "execute_result"
        }
      ],
      "source": [
        "l = [('English', 88), ('Science', 90), ('Maths', 97), ('Social sciences', 82)]\n",
        "\n",
        "sorted(l, key = lambda x : x[1])"
      ]
    },
    {
      "cell_type": "code",
      "execution_count": null,
      "id": "9d8469af",
      "metadata": {
        "id": "9d8469af"
      },
      "outputs": [],
      "source": []
    },
    {
      "cell_type": "code",
      "execution_count": null,
      "id": "355855db",
      "metadata": {
        "id": "355855db",
        "outputId": "15a43c44-5fa3-4e7b-fa0b-a6042c1b4357"
      },
      "outputs": [
        {
          "data": {
            "text/plain": [
              "[('English', 88), ('Science', 90), ('Maths', 97), ('Social sciences', 82)]"
            ]
          },
          "execution_count": 21,
          "metadata": {},
          "output_type": "execute_result"
        }
      ],
      "source": [
        "l = [('English', 88), ('Science', 90), ('Maths', 97), ('Social sciences', 82)]\n",
        "l"
      ]
    },
    {
      "cell_type": "code",
      "execution_count": null,
      "id": "34815573",
      "metadata": {
        "id": "34815573",
        "outputId": "26d7e3ba-9e19-40a7-b4d9-2afa3455206e"
      },
      "outputs": [
        {
          "data": {
            "text/plain": [
              "[('English', 88), ('Maths', 97), ('Science', 90), ('Social sciences', 82)]"
            ]
          },
          "execution_count": 26,
          "metadata": {},
          "output_type": "execute_result"
        }
      ],
      "source": [
        "sorted(l,key = lambda x: x[0],reverse=False)"
      ]
    },
    {
      "cell_type": "code",
      "execution_count": null,
      "id": "2d86722f",
      "metadata": {
        "id": "2d86722f"
      },
      "outputs": [],
      "source": []
    },
    {
      "cell_type": "markdown",
      "id": "dfcaa001",
      "metadata": {
        "id": "dfcaa001"
      },
      "source": [
        "### 4. Write a Python program to sort a list of dictionaries using Lambda."
      ]
    },
    {
      "cell_type": "code",
      "execution_count": null,
      "id": "7cfae8f3",
      "metadata": {
        "id": "7cfae8f3",
        "outputId": "1a4e9c0c-cc0c-4c47-890a-7c72723d6fff"
      },
      "outputs": [
        {
          "data": {
            "text/plain": [
              "[{'make': 'Mi Max', 'model': 2, 'color': 'Gold'},\n",
              " {'make': 'Samsung', 'model': 7, 'color': 'Blue'},\n",
              " {'make': 'Nokia', 'model': 216, 'color': 'Black'}]"
            ]
          },
          "execution_count": 2,
          "metadata": {},
          "output_type": "execute_result"
        }
      ],
      "source": [
        "d = [{'make': 'Nokia', 'model': 216, 'color': 'Black'}, {'make': 'Mi Max', 'model': 2, 'color': 'Gold'}, {'make': 'Samsung', 'model': 7, 'color': 'Blue'}]\n",
        "\n",
        "sorted(d, key = lambda x : x['model'])"
      ]
    },
    {
      "cell_type": "markdown",
      "id": "9eedcf23",
      "metadata": {
        "id": "9eedcf23"
      },
      "source": [
        "### 5. Write a Python program to filter a list of even integers using Lambda."
      ]
    },
    {
      "cell_type": "code",
      "execution_count": null,
      "id": "aca3ca22",
      "metadata": {
        "id": "aca3ca22",
        "outputId": "442c08b8-0e08-479b-b061-8b3b624f7caa"
      },
      "outputs": [
        {
          "data": {
            "text/plain": [
              "[2, 4, 6, 8, 10]"
            ]
          },
          "execution_count": 1,
          "metadata": {},
          "output_type": "execute_result"
        }
      ],
      "source": [
        "lint = [1, 2, 3, 4, 5, 6, 7, 8, 9, 10]\n",
        "\n",
        "even = list(filter(lambda x : x % 2 == 0 , lint))\n",
        "even"
      ]
    },
    {
      "cell_type": "code",
      "execution_count": null,
      "id": "c5de70aa",
      "metadata": {
        "id": "c5de70aa"
      },
      "outputs": [],
      "source": []
    },
    {
      "cell_type": "code",
      "execution_count": null,
      "id": "3d24bd58",
      "metadata": {
        "id": "3d24bd58",
        "outputId": "74474acf-1641-45bc-fb24-3481f36e8b13"
      },
      "outputs": [
        {
          "data": {
            "text/plain": [
              "[1, 3, 5, 7, 9]"
            ]
          },
          "execution_count": 78,
          "metadata": {},
          "output_type": "execute_result"
        }
      ],
      "source": [
        "odd = list(filter(lambda x : x % 2 != 0 , lint))\n",
        "odd"
      ]
    },
    {
      "cell_type": "markdown",
      "id": "08c9e254",
      "metadata": {
        "id": "08c9e254"
      },
      "source": [
        "### 6. Write a Python program to square and cube every number in a given list of integers using Lambda."
      ]
    },
    {
      "cell_type": "code",
      "execution_count": null,
      "id": "485e5e9c",
      "metadata": {
        "id": "485e5e9c",
        "outputId": "f890c52f-a9bc-4f21-e928-e6645abb554f"
      },
      "outputs": [
        {
          "data": {
            "text/plain": [
              "[1, 4, 9, 16, 25, 36, 49, 64, 81, 100]"
            ]
          },
          "execution_count": 79,
          "metadata": {},
          "output_type": "execute_result"
        }
      ],
      "source": [
        "lint = [1, 2, 3, 4, 5, 6, 7, 8, 9, 10]\n",
        "\n",
        "square = list(map(lambda x : x ** 2, lint))\n",
        "square"
      ]
    },
    {
      "cell_type": "code",
      "execution_count": null,
      "id": "b19817b0",
      "metadata": {
        "id": "b19817b0",
        "outputId": "2284258c-d502-4d88-bbd0-6198713cf741"
      },
      "outputs": [
        {
          "data": {
            "text/plain": [
              "[1, 8, 27, 64, 125, 216, 343, 512, 729, 1000]"
            ]
          },
          "execution_count": 80,
          "metadata": {},
          "output_type": "execute_result"
        }
      ],
      "source": [
        "cube = list(map(lambda x : x ** 3, lint))\n",
        "cube"
      ]
    },
    {
      "cell_type": "markdown",
      "id": "dcc7dcbc",
      "metadata": {
        "id": "dcc7dcbc"
      },
      "source": [
        "### 7. Write a Python program to find if a given string starts with a given character using Lambda."
      ]
    },
    {
      "cell_type": "code",
      "execution_count": null,
      "id": "ec65cecb",
      "metadata": {
        "id": "ec65cecb",
        "outputId": "4d5c3617-17a7-4d76-e221-8adbc8275721"
      },
      "outputs": [
        {
          "data": {
            "text/plain": [
              "True"
            ]
          },
          "execution_count": 1,
          "metadata": {},
          "output_type": "execute_result"
        }
      ],
      "source": [
        "start_with = lambda x : True if x.startswith('S') else False\n",
        "\n",
        "start_with(\"Shubham\")"
      ]
    },
    {
      "cell_type": "markdown",
      "id": "f9560dac",
      "metadata": {
        "id": "f9560dac"
      },
      "source": [
        "### 8. Write a Python program to extract year, month, date and time using Lambda."
      ]
    },
    {
      "cell_type": "code",
      "execution_count": null,
      "id": "ed77cb87",
      "metadata": {
        "id": "ed77cb87"
      },
      "outputs": [],
      "source": [
        "import datetime as dt\n",
        "\n",
        "now = dt.datetime.now()"
      ]
    },
    {
      "cell_type": "code",
      "execution_count": null,
      "id": "08acb029",
      "metadata": {
        "id": "08acb029"
      },
      "outputs": [],
      "source": [
        "year = now.year\n",
        "month = now.month\n",
        "day = now.day\n",
        "time = now.time()\n"
      ]
    },
    {
      "cell_type": "code",
      "execution_count": null,
      "id": "fd5e4dd5",
      "metadata": {
        "id": "fd5e4dd5",
        "outputId": "a0cde7dc-3bf7-4b90-d031-1674497ccc91"
      },
      "outputs": [
        {
          "data": {
            "text/plain": [
              "2022"
            ]
          },
          "execution_count": 84,
          "metadata": {},
          "output_type": "execute_result"
        }
      ],
      "source": [
        "year"
      ]
    },
    {
      "cell_type": "code",
      "execution_count": null,
      "id": "d1b45c98",
      "metadata": {
        "id": "d1b45c98",
        "outputId": "badd724d-409c-40db-93ab-3b82d2394b1e"
      },
      "outputs": [
        {
          "data": {
            "text/plain": [
              "9"
            ]
          },
          "execution_count": 85,
          "metadata": {},
          "output_type": "execute_result"
        }
      ],
      "source": [
        "month"
      ]
    },
    {
      "cell_type": "code",
      "execution_count": null,
      "id": "f4227311",
      "metadata": {
        "id": "f4227311",
        "outputId": "b1af871a-5880-4fc9-c610-1d8b74a75656"
      },
      "outputs": [
        {
          "data": {
            "text/plain": [
              "5"
            ]
          },
          "execution_count": 86,
          "metadata": {},
          "output_type": "execute_result"
        }
      ],
      "source": [
        "day"
      ]
    },
    {
      "cell_type": "code",
      "execution_count": null,
      "id": "96166824",
      "metadata": {
        "id": "96166824",
        "outputId": "8f50271c-0225-4314-8d33-162dbb1b93c5"
      },
      "outputs": [
        {
          "name": "stdout",
          "output_type": "stream",
          "text": [
            "16:51:59.237346\n"
          ]
        }
      ],
      "source": [
        "print(time)"
      ]
    },
    {
      "cell_type": "markdown",
      "id": "c6847e6a",
      "metadata": {
        "id": "c6847e6a"
      },
      "source": [
        "### 9. Write a Python program to check whether a given string is number or not using Lambda."
      ]
    },
    {
      "cell_type": "code",
      "execution_count": null,
      "id": "dc7d65c4",
      "metadata": {
        "id": "dc7d65c4"
      },
      "outputs": [],
      "source": [
        "num_check  = lambda x : x.replace('.','').replace('-','').isdigit()"
      ]
    },
    {
      "cell_type": "code",
      "execution_count": null,
      "id": "6e6a171a",
      "metadata": {
        "id": "6e6a171a",
        "outputId": "bd137c54-66f4-44e2-c129-3c41936f55cc"
      },
      "outputs": [
        {
          "data": {
            "text/plain": [
              "True"
            ]
          },
          "execution_count": 4,
          "metadata": {},
          "output_type": "execute_result"
        }
      ],
      "source": [
        "num_check('-6.6789')"
      ]
    },
    {
      "cell_type": "markdown",
      "id": "db713bf2",
      "metadata": {
        "id": "db713bf2"
      },
      "source": [
        "### 11. Write a Python program to find intersection of two given arrays using Lambda."
      ]
    },
    {
      "cell_type": "code",
      "execution_count": null,
      "id": "c8c194d5",
      "metadata": {
        "id": "c8c194d5"
      },
      "outputs": [],
      "source": [
        "l1 = [1,2,3,4,5,6,7,8,9,10]\n",
        "l2 = [2,4,6,8,11,12]\n",
        "\n",
        "intersection = list(filter(lambda x : x in l1 , l2))"
      ]
    },
    {
      "cell_type": "code",
      "execution_count": null,
      "id": "4765331a",
      "metadata": {
        "id": "4765331a",
        "outputId": "4b465603-b3ce-49e2-c9c2-173e79ecd360"
      },
      "outputs": [
        {
          "data": {
            "text/plain": [
              "[2, 4, 6, 8]"
            ]
          },
          "execution_count": 7,
          "metadata": {},
          "output_type": "execute_result"
        }
      ],
      "source": [
        "intersection"
      ]
    },
    {
      "cell_type": "markdown",
      "id": "abaee75b",
      "metadata": {
        "id": "abaee75b"
      },
      "source": [
        "### 12. Write a Python program to rearrange positive and negative numbers in a given array using Lambda"
      ]
    },
    {
      "cell_type": "code",
      "execution_count": null,
      "id": "d6f7ca3e",
      "metadata": {
        "id": "d6f7ca3e",
        "outputId": "22d2abed-eb41-4a51-b9ec-cfdda9ee792b"
      },
      "outputs": [
        {
          "data": {
            "text/plain": [
              "[2, 5, 7, 8, 9, -1, -3, -10]"
            ]
          },
          "execution_count": 93,
          "metadata": {},
          "output_type": "execute_result"
        }
      ],
      "source": [
        "l = [-1, 2, -3, 5, 7, 8, 9, -10]\n",
        "\n",
        "sorted( l, key = lambda x: x > 0, reverse= True)"
      ]
    },
    {
      "cell_type": "markdown",
      "id": "e61a9fbe",
      "metadata": {
        "id": "e61a9fbe"
      },
      "source": [
        "### 13. Write a Python program to count the even, odd numbers in a given array of integers using Lambda."
      ]
    },
    {
      "cell_type": "code",
      "execution_count": null,
      "id": "ebffb97c",
      "metadata": {
        "id": "ebffb97c"
      },
      "outputs": [],
      "source": [
        "def count_Even_odd(l) :\n",
        "    even = len(list(filter(lambda x: x % 2 == 0, l)))\n",
        "\n",
        "    print(\"Count of Even number in given list is: \", even)\n",
        "    print(\"Count of odd number in given list is: \", len(l) - even)"
      ]
    },
    {
      "cell_type": "code",
      "execution_count": null,
      "id": "9095bf54",
      "metadata": {
        "id": "9095bf54",
        "outputId": "abcf5c3f-07c8-444d-884d-4d9f38897387"
      },
      "outputs": [
        {
          "name": "stdout",
          "output_type": "stream",
          "text": [
            "Count of Even number in given list is:  5\n",
            "Count of odd number in given list is:  7\n"
          ]
        }
      ],
      "source": [
        "count_Even_odd([1,2,3,4,10,5,6,7,8,9,11,13])"
      ]
    },
    {
      "cell_type": "markdown",
      "id": "77bba2c7",
      "metadata": {
        "id": "77bba2c7"
      },
      "source": [
        "### 14. Write a Python program to find the values of length six in a given list using Lambda."
      ]
    },
    {
      "cell_type": "code",
      "execution_count": null,
      "id": "4085f0b6",
      "metadata": {
        "id": "4085f0b6",
        "outputId": "da1dfecc-18c3-43b5-bec0-d14ed065a77c"
      },
      "outputs": [
        {
          "data": {
            "text/plain": [
              "['Monday', 'Friday', 'Sunday']"
            ]
          },
          "execution_count": 96,
          "metadata": {},
          "output_type": "execute_result"
        }
      ],
      "source": [
        "weekdays = ['Monday', 'Tuesday', 'Wednesday', 'Thursday', 'Friday', 'Saturday', 'Sunday']\n",
        "\n",
        "list(filter(lambda x : len(x) == 6 , weekdays))"
      ]
    },
    {
      "cell_type": "markdown",
      "id": "00d99817",
      "metadata": {
        "id": "00d99817"
      },
      "source": [
        "### 15. Write a Python program to add two given lists using map and lambda."
      ]
    },
    {
      "cell_type": "code",
      "execution_count": null,
      "id": "c1b91120",
      "metadata": {
        "id": "c1b91120",
        "outputId": "1625ef04-17cf-4f11-a6f6-49c205b193ae"
      },
      "outputs": [
        {
          "data": {
            "text/plain": [
              "[4, 8, 12]"
            ]
          },
          "execution_count": 97,
          "metadata": {},
          "output_type": "execute_result"
        }
      ],
      "source": [
        "l1 = [3,5,7]\n",
        "l2 = [1,3,5]\n",
        "\n",
        "list(map(lambda x,y : x + y, l1, l2))"
      ]
    },
    {
      "cell_type": "markdown",
      "id": "81b98565",
      "metadata": {
        "id": "81b98565"
      },
      "source": [
        "### 16. Write a Python program to find the second highest grade of any student(s) from the given names and grades of each student using lists and lambda."
      ]
    },
    {
      "cell_type": "code",
      "execution_count": null,
      "id": "d815500e",
      "metadata": {
        "id": "d815500e",
        "outputId": "ae32d19a-6a93-49ca-f5f1-8f319b66f985"
      },
      "outputs": [
        {
          "data": {
            "text/plain": [
              "['N KAR', 8.0]"
            ]
          },
          "execution_count": 10,
          "metadata": {},
          "output_type": "execute_result"
        }
      ],
      "source": [
        "l = [['S ROY', 1.0], ['B BOSE', 9.0], ['N KAR', 8.0], ['C DUTTA', 4.0], ['G GHOSH', 6.0]]\n",
        "\n",
        "list(sorted(l, key = lambda x : x[1], reverse= True))[1]"
      ]
    },
    {
      "cell_type": "markdown",
      "id": "eca38fcc",
      "metadata": {
        "id": "eca38fcc"
      },
      "source": [
        "### 17. Write a Python program to find numbers divisible by nineteen or thirteen from a list of numbers using Lambda."
      ]
    },
    {
      "cell_type": "code",
      "execution_count": null,
      "id": "501e6146",
      "metadata": {
        "id": "501e6146",
        "outputId": "c3175e97-5bb6-49d1-f5b0-91c108d7c156"
      },
      "outputs": [
        {
          "data": {
            "text/plain": [
              "[19, 65, 57, 39, 152, 190]"
            ]
          },
          "execution_count": 99,
          "metadata": {},
          "output_type": "execute_result"
        }
      ],
      "source": [
        "l = [19, 65, 57, 39, 152, 639, 121, 44, 90, 190]\n",
        "\n",
        "list(filter(lambda x : x % 13 == 0 or x % 19 == 0 , l))"
      ]
    },
    {
      "cell_type": "markdown",
      "id": "9f209058",
      "metadata": {
        "id": "9f209058"
      },
      "source": [
        "### 18. Write a Python program to find palindromes in a given list of strings using Lambda."
      ]
    },
    {
      "cell_type": "code",
      "execution_count": null,
      "id": "b4219b73",
      "metadata": {
        "id": "b4219b73",
        "outputId": "9de84de1-07ea-4789-f2f9-a1b51c4e0b06"
      },
      "outputs": [
        {
          "data": {
            "text/plain": [
              "['php', 'aaa']"
            ]
          },
          "execution_count": 100,
          "metadata": {},
          "output_type": "execute_result"
        }
      ],
      "source": [
        "l = ['php', 'w3r', 'Python', 'abcd', 'Java', 'aaa']\n",
        "\n",
        "list(filter(lambda x : x if x == x[::-1] else '', l))"
      ]
    },
    {
      "cell_type": "markdown",
      "id": "1730bd66",
      "metadata": {
        "id": "1730bd66"
      },
      "source": [
        "### 19. Write a Python program to find all anagrams of a string in a given list of strings using lambda."
      ]
    },
    {
      "cell_type": "code",
      "execution_count": null,
      "id": "ec42895b",
      "metadata": {
        "id": "ec42895b",
        "outputId": "353db2e6-0e50-4442-a17d-ad1704568d18"
      },
      "outputs": [
        {
          "data": {
            "text/plain": [
              "['bcda', 'cbda', 'adcb']"
            ]
          },
          "execution_count": 101,
          "metadata": {},
          "output_type": "execute_result"
        }
      ],
      "source": [
        "l = ['bcda', 'abce', 'cbda', 'cbea', 'adcb']\n",
        "\n",
        "from collections import Counter\n",
        "\n",
        "list(filter(lambda x: x if Counter(\"abcd\") == Counter(x) else '', l))\n"
      ]
    },
    {
      "cell_type": "markdown",
      "id": "20861c11",
      "metadata": {
        "id": "20861c11"
      },
      "source": [
        "### 20. Write a Python program to find the numbers of a given string and store them in a list, display the numbers which are bigger than the length of the list in sorted form. Use lambda function to solve the problem."
      ]
    },
    {
      "cell_type": "code",
      "execution_count": null,
      "id": "148e8aec",
      "metadata": {
        "id": "148e8aec",
        "outputId": "cefb81c0-7189-465b-ae35-9403ab60215f"
      },
      "outputs": [
        {
          "data": {
            "text/plain": [
              "[20, 23, 56]"
            ]
          },
          "execution_count": 102,
          "metadata": {},
          "output_type": "execute_result"
        }
      ],
      "source": [
        "string = \"sdf 23 safs8 5 sdfsd8 sdfs 56 21sfs 20 5\"\n",
        "list1 = [i for i in string.split(' ')]\n",
        "numbers = sorted([int(x) for x in list1 if x.isdigit() ])\n",
        "\n",
        "list(filter(lambda x : x if x > len(numbers) else '', numbers))"
      ]
    },
    {
      "cell_type": "markdown",
      "id": "55ddce21",
      "metadata": {
        "id": "55ddce21"
      },
      "source": [
        "### 21. Write a Python program that multiply each number of given list with a given number using lambda function. Print the result."
      ]
    },
    {
      "cell_type": "code",
      "execution_count": null,
      "id": "fa04a262",
      "metadata": {
        "id": "fa04a262",
        "outputId": "c21a5306-2cbd-44e2-a45a-c94127321ed8"
      },
      "outputs": [
        {
          "data": {
            "text/plain": [
              "[4, 8, 12, 18, 22]"
            ]
          },
          "execution_count": 103,
          "metadata": {},
          "output_type": "execute_result"
        }
      ],
      "source": [
        "l = [2, 4, 6, 9, 11]\n",
        "\n",
        "list(map(lambda x : x * 2, l))"
      ]
    },
    {
      "cell_type": "markdown",
      "id": "e0423d11",
      "metadata": {
        "id": "e0423d11"
      },
      "source": [
        "### 22. Write a Python program that sum the length of the names of a given list of names after removing the names that starts with an lowercase letter. Use lambda function."
      ]
    },
    {
      "cell_type": "code",
      "execution_count": null,
      "id": "a1a04753",
      "metadata": {
        "id": "a1a04753",
        "outputId": "4f8bac9f-75b1-404d-c0a3-fd0414d958a3"
      },
      "outputs": [
        {
          "data": {
            "text/plain": [
              "16"
            ]
          },
          "execution_count": 104,
          "metadata": {},
          "output_type": "execute_result"
        }
      ],
      "source": [
        "sample_names = ['sally', 'Dylan', 'rebecca', 'Diana', 'Joanne', 'keith']\n",
        "\n",
        "filtered = list(filter(lambda x: x[0] == x[0].upper() and x[1:] == x[1:].lower(), sample_names))\n",
        "\n",
        "len(\"\".join(filtered))"
      ]
    },
    {
      "cell_type": "markdown",
      "id": "0c6af11b",
      "metadata": {
        "id": "0c6af11b"
      },
      "source": [
        "### 23. Write a Python program to calculate the sum of the positive and negative numbers of a given list of numbers using lambda function."
      ]
    },
    {
      "cell_type": "code",
      "execution_count": null,
      "id": "acff2490",
      "metadata": {
        "id": "acff2490",
        "outputId": "bd9f58de-33f3-4ef3-e790-11e1df99c595"
      },
      "outputs": [
        {
          "data": {
            "text/plain": [
              "'Sum of Positive is 48 and sum of negative is -32'"
            ]
          },
          "execution_count": 105,
          "metadata": {},
          "output_type": "execute_result"
        }
      ],
      "source": [
        "lint = [2, 4, -6, -9, 11, -12, 14, -5, 17]\n",
        "def sum_P_N(l) :\n",
        "    sump = 0\n",
        "    sumn = 0\n",
        "    for positive in list(filter(lambda x : x if x >= 0 else \"\", l)):\n",
        "        sump += positive\n",
        "    for negative in list(filter(lambda x : x if x < 0 else \"\", l)):\n",
        "        sumn += negative\n",
        "\n",
        "    return \"Sum of Positive is {} and sum of negative is {}\".format(sump, sumn)\n",
        "\n",
        "sum_P_N(lint)"
      ]
    },
    {
      "cell_type": "markdown",
      "id": "19710c84",
      "metadata": {
        "id": "19710c84"
      },
      "source": [
        "### 26. Write a Python program to find the list with maximum and minimum length using lambda."
      ]
    },
    {
      "cell_type": "code",
      "execution_count": null,
      "id": "2df7bae4",
      "metadata": {
        "id": "2df7bae4",
        "outputId": "34de68ab-e172-486a-b9ef-20af13858ef5"
      },
      "outputs": [
        {
          "data": {
            "text/plain": [
              "(3, [13, 15, 17])"
            ]
          },
          "execution_count": 106,
          "metadata": {},
          "output_type": "execute_result"
        }
      ],
      "source": [
        "l = [[0], [1, 3], [5, 7], [9, 11], [13, 15, 17]]\n",
        "\n",
        "def max_length_list(l):\n",
        "    max_length = max(len(x) for x in l )\n",
        "    max_list = max(l, key = lambda i: len(i))\n",
        "    return(max_length, max_list)\n",
        "\n",
        "max_length_list(l)"
      ]
    },
    {
      "cell_type": "code",
      "execution_count": null,
      "id": "7ecbd5d0",
      "metadata": {
        "id": "7ecbd5d0",
        "outputId": "6d263820-e1d3-4079-faf0-9a970de561fe"
      },
      "outputs": [
        {
          "data": {
            "text/plain": [
              "(1, [0])"
            ]
          },
          "execution_count": 107,
          "metadata": {},
          "output_type": "execute_result"
        }
      ],
      "source": [
        "def min_length_list(l):\n",
        "    min_length = min(len(x) for x in l )\n",
        "    min_list = min(l, key = lambda i: len(i))\n",
        "    return(min_length, min_list)\n",
        "\n",
        "min_length_list(l)"
      ]
    },
    {
      "cell_type": "markdown",
      "id": "07ac11e4",
      "metadata": {
        "id": "07ac11e4"
      },
      "source": [
        "### 27. Write a Python program to sort each sublist of strings in a given list of lists using lambda"
      ]
    },
    {
      "cell_type": "code",
      "execution_count": null,
      "id": "d3514909",
      "metadata": {
        "id": "d3514909",
        "outputId": "7ff7df6c-f75a-472c-f29b-43ad933457fb"
      },
      "outputs": [
        {
          "data": {
            "text/plain": [
              "[['green', 'orange'], ['black', 'white'], ['black', 'orange', 'white']]"
            ]
          },
          "execution_count": 108,
          "metadata": {},
          "output_type": "execute_result"
        }
      ],
      "source": [
        "l = [['green', 'orange'], ['black', 'white'], ['white', 'black', 'orange']]\n",
        "\n",
        "def sort_nestedList(l) :\n",
        "    l1 = []\n",
        "    for i in l:\n",
        "        a = sorted(i, key = lambda x : x[0])\n",
        "        l1.append(a)\n",
        "    return l1\n",
        "sort_nestedList(l)"
      ]
    },
    {
      "cell_type": "markdown",
      "id": "ef56f8ad",
      "metadata": {
        "id": "ef56f8ad"
      },
      "source": [
        "### 28. Write a Python program to sort a given list of lists by length and value using lambda."
      ]
    },
    {
      "cell_type": "code",
      "execution_count": null,
      "id": "0b960f04",
      "metadata": {
        "id": "0b960f04",
        "outputId": "ae844634-1906-41cb-b0e6-7df62e20d9c4"
      },
      "outputs": [
        {
          "data": {
            "text/plain": [
              "[[0], [2], [0, 7], [1, 3], [9, 11], [13, 15, 17]]"
            ]
          },
          "execution_count": 109,
          "metadata": {},
          "output_type": "execute_result"
        }
      ],
      "source": [
        "l = [[2], [0], [1, 3], [0, 7], [9, 11], [13, 15, 17]]\n",
        "\n",
        "sorted(l, key = lambda x: (len(x),x))\n"
      ]
    },
    {
      "cell_type": "markdown",
      "id": "050bce7b",
      "metadata": {
        "id": "050bce7b"
      },
      "source": [
        "### 29. Write a Python program to find the maximum value in a given heterogeneous list using lambda."
      ]
    },
    {
      "cell_type": "code",
      "execution_count": null,
      "id": "36a2d9c2",
      "metadata": {
        "id": "36a2d9c2",
        "outputId": "9ffc182b-d088-4a8c-b1ff-6c357be2f4fd"
      },
      "outputs": [
        {
          "data": {
            "text/plain": [
              "5"
            ]
          },
          "execution_count": 110,
          "metadata": {},
          "output_type": "execute_result"
        }
      ],
      "source": [
        "l = ['Python', 3, 2, 4, 5, 'version']\n",
        "\n",
        "max(list(filter(lambda x : isinstance(x, int), l)))"
      ]
    },
    {
      "cell_type": "markdown",
      "id": "5b566657",
      "metadata": {
        "id": "5b566657"
      },
      "source": [
        "### 30. Write a Python program to sort a given matrix in ascending order according to the sum of its rows using lambda."
      ]
    },
    {
      "cell_type": "code",
      "execution_count": null,
      "id": "13ade5db",
      "metadata": {
        "id": "13ade5db",
        "outputId": "7f6b6b74-cab0-47e8-87e0-2c14b2bf0174"
      },
      "outputs": [
        {
          "data": {
            "text/plain": [
              "[[1, 1, 1], [1, 2, 3], [2, 4, 5]]"
            ]
          },
          "execution_count": 111,
          "metadata": {},
          "output_type": "execute_result"
        }
      ],
      "source": [
        "l = [[1, 2, 3], [2, 4, 5], [1, 1, 1]]\n",
        "\n",
        "sorted(l, key = lambda x : sum(x))"
      ]
    },
    {
      "cell_type": "markdown",
      "id": "7ace7fe3",
      "metadata": {
        "id": "7ace7fe3"
      },
      "source": [
        "### 31. Write a Python program to extract specified size of strings from a give list of string values using lambda."
      ]
    },
    {
      "cell_type": "code",
      "execution_count": null,
      "id": "d86fac16",
      "metadata": {
        "id": "d86fac16",
        "outputId": "877adf64-00b3-4dff-cb66-f076cacbf9b3"
      },
      "outputs": [
        {
          "data": {
            "text/plain": [
              "['practice', 'solution']"
            ]
          },
          "execution_count": 112,
          "metadata": {},
          "output_type": "execute_result"
        }
      ],
      "source": [
        "l = ['Python', 'list', 'exercises', 'practice', 'solution']\n",
        "\n",
        "def ret_str_specifiedLen(list_input, length):\n",
        "\n",
        "    return list(filter(lambda x :x if len(x) == length else '', list_input))\n",
        "\n",
        "ret_str_specifiedLen(l, 8)"
      ]
    },
    {
      "cell_type": "markdown",
      "id": "fb8c9ebb",
      "metadata": {
        "id": "fb8c9ebb"
      },
      "source": [
        "### 32. Write a Python program to count float number in a given mixed list using lambda."
      ]
    },
    {
      "cell_type": "code",
      "execution_count": null,
      "id": "63639c09",
      "metadata": {
        "id": "63639c09",
        "outputId": "53f86234-1793-4a2b-8aac-2c0cda9ab7b5"
      },
      "outputs": [
        {
          "data": {
            "text/plain": [
              "[3.12, 1.2, -12.22]"
            ]
          },
          "execution_count": 113,
          "metadata": {},
          "output_type": "execute_result"
        }
      ],
      "source": [
        "l = [1, 'abcd', 3.12, 1.2, 4, 'xyz', 5, 'pqr', 7, -5, -12.22]\n",
        "\n",
        "list(filter(lambda x: type(x) == float, l))"
      ]
    },
    {
      "cell_type": "markdown",
      "id": "eb4666d1",
      "metadata": {
        "id": "eb4666d1"
      },
      "source": [
        "### 33. Write a Python program to check whether a given string contains a capital letter, a lower case letter, a number and a minimum length using lambda."
      ]
    },
    {
      "cell_type": "code",
      "execution_count": null,
      "id": "941cc360",
      "metadata": {
        "id": "941cc360",
        "outputId": "d391f750-61d7-40e0-c439-15e3aa7597a0"
      },
      "outputs": [
        {
          "data": {
            "text/plain": [
              "True"
            ]
          },
          "execution_count": 114,
          "metadata": {},
          "output_type": "execute_result"
        }
      ],
      "source": [
        "valid = lambda x : any(x.isupper() for x in x) and any(x.islower() for x in x) and any(x.isdigit() for x in x) and len(x) >= 7\n",
        "\n",
        "valid(\"Shubham12\")"
      ]
    },
    {
      "cell_type": "markdown",
      "id": "15ebc05d",
      "metadata": {
        "id": "15ebc05d"
      },
      "source": [
        "### 34. Write a Python program to filter the height and width of students, which are stored in a dictionary using lambda."
      ]
    },
    {
      "cell_type": "code",
      "execution_count": null,
      "id": "eb9518cf",
      "metadata": {
        "id": "eb9518cf",
        "outputId": "b0e2904a-739a-4e07-ccb2-708d59f3aed7"
      },
      "outputs": [
        {
          "data": {
            "text/plain": [
              "{'Cierra Vega': (6.2, 70)}"
            ]
          },
          "execution_count": 115,
          "metadata": {},
          "output_type": "execute_result"
        }
      ],
      "source": [
        "d = {'Cierra Vega': (6.2, 70), 'Alden Cantrell': (5.9, 65), 'Kierra Gentry': (6.0, 68), 'Pierre Cox': (5.8, 66)}\n",
        "\n",
        "dict(filter(lambda x : (x[1][0], x[1][1]) > (6, 70) , d.items()))"
      ]
    },
    {
      "cell_type": "markdown",
      "id": "4b17f7a6",
      "metadata": {
        "id": "4b17f7a6"
      },
      "source": [
        "### 35. Write a Python program to check whether a specified list is sorted or not using lambda."
      ]
    },
    {
      "cell_type": "code",
      "execution_count": null,
      "id": "f81bec17",
      "metadata": {
        "id": "f81bec17",
        "outputId": "ced56e7a-5918-4439-9e07-95a1f0a1bf32"
      },
      "outputs": [
        {
          "data": {
            "text/plain": [
              "True"
            ]
          },
          "execution_count": 116,
          "metadata": {},
          "output_type": "execute_result"
        }
      ],
      "source": [
        "l = [1, 2, 4, 6, 8, 10, 12, 14, 16, 17]\n",
        "\n",
        "def sorted_list_check(l) :\n",
        "    l_sorted = list(sorted(l, key = lambda x : x))\n",
        "    if l_sorted == l:\n",
        "        return True\n",
        "    else:\n",
        "        return False\n",
        "\n",
        "sorted_list_check(l)"
      ]
    },
    {
      "cell_type": "markdown",
      "id": "7b7436c7",
      "metadata": {
        "id": "7b7436c7"
      },
      "source": [
        "### 36. Write a Python program to extract the nth element from a given list of tuples using lambda."
      ]
    },
    {
      "cell_type": "code",
      "execution_count": null,
      "id": "270969aa",
      "metadata": {
        "id": "270969aa",
        "outputId": "834456c2-5869-41ad-a89c-4d1b66f355ff"
      },
      "outputs": [
        {
          "data": {
            "text/plain": [
              "['Greyson Fulton', 'Brady Kent', 'Wyatt Knott', 'Beau Turnbull']"
            ]
          },
          "execution_count": 117,
          "metadata": {},
          "output_type": "execute_result"
        }
      ],
      "source": [
        "l = [('Greyson Fulton', 98, 99), ('Brady Kent', 97, 96), ('Wyatt Knott', 91, 94), ('Beau Turnbull', 94, 98)]\n",
        "\n",
        "def filter_specific(l, n):\n",
        "    return list(map(lambda x: (x[n]), l))\n",
        "\n",
        "filter_specific(l, 0)"
      ]
    },
    {
      "cell_type": "code",
      "execution_count": null,
      "id": "6c4b914b",
      "metadata": {
        "id": "6c4b914b",
        "outputId": "69c29180-408f-42fe-a16b-d72a726e9e10"
      },
      "outputs": [
        {
          "name": "stdout",
          "output_type": "stream",
          "text": [
            "[1, 2, 3]\n"
          ]
        }
      ],
      "source": [
        "# Example list of tuples\n",
        "tuples_list = [(1, 'a', 100), (2, 'b', 200), (3, 'c', 300)]\n",
        "\n",
        "# Specify the index n (0-based index) for the element you want to extract\n",
        "n = 0\n",
        "\n",
        "# Extract the nth element from each tuple using a lambda function\n",
        "nth_elements = list(map(lambda x: x[n], tuples_list))\n",
        "\n",
        "# Output the result\n",
        "print(nth_elements)\n"
      ]
    },
    {
      "cell_type": "code",
      "execution_count": null,
      "id": "93b24534",
      "metadata": {
        "id": "93b24534"
      },
      "outputs": [],
      "source": []
    },
    {
      "cell_type": "code",
      "execution_count": null,
      "id": "8a314fa7",
      "metadata": {
        "id": "8a314fa7",
        "outputId": "a3262e22-e304-453b-b1bd-9bd07ab9a113"
      },
      "outputs": [
        {
          "data": {
            "text/plain": [
              "[98, 97, 91, 94]"
            ]
          },
          "execution_count": 118,
          "metadata": {},
          "output_type": "execute_result"
        }
      ],
      "source": [
        "filter_specific(l, 1)"
      ]
    },
    {
      "cell_type": "markdown",
      "id": "c65df1bf",
      "metadata": {
        "id": "c65df1bf"
      },
      "source": [
        "### 38. Write a Python program to remove all elements from a given list present in another list using lambda."
      ]
    },
    {
      "cell_type": "code",
      "execution_count": null,
      "id": "efda8135",
      "metadata": {
        "id": "efda8135",
        "outputId": "b75ba8dd-a96e-400d-b335-d4b7c467d916"
      },
      "outputs": [
        {
          "data": {
            "text/plain": [
              "[1, 3, 5, 7, 9, 10]"
            ]
          },
          "execution_count": 119,
          "metadata": {},
          "output_type": "execute_result"
        }
      ],
      "source": [
        "l1 = [1, 2, 3, 4, 5, 6, 7, 8, 9, 10]\n",
        "l2 = [2, 4, 6, 8]\n",
        "\n",
        "list(filter(lambda x : x not in l2  ,l1))"
      ]
    },
    {
      "cell_type": "markdown",
      "id": "91bb61fb",
      "metadata": {
        "id": "91bb61fb"
      },
      "source": [
        "**OR**"
      ]
    },
    {
      "cell_type": "code",
      "execution_count": null,
      "id": "5da9e808",
      "metadata": {
        "id": "5da9e808",
        "outputId": "9150803e-2805-45cf-a3cf-ef49d2abed83"
      },
      "outputs": [
        {
          "data": {
            "text/plain": [
              "[1, 3, 5, 7, 9, 10]"
            ]
          },
          "execution_count": 120,
          "metadata": {},
          "output_type": "execute_result"
        }
      ],
      "source": [
        "l1 = [1, 2, 3, 4, 5, 6, 7, 8, 9, 10]\n",
        "l2 = [2, 4, 6, 8]\n",
        "\n",
        "list(filter(lambda x : x if x not in l2 else '' ,l1))"
      ]
    },
    {
      "cell_type": "markdown",
      "id": "b9080843",
      "metadata": {
        "id": "b9080843"
      },
      "source": [
        "### 39. Write a Python program to find the elements of a given list of strings that contain specific substring using lambda."
      ]
    },
    {
      "cell_type": "code",
      "execution_count": null,
      "id": "12faa03e",
      "metadata": {
        "id": "12faa03e",
        "outputId": "829939b4-a647-4cf2-9424-a83124ca5bfe"
      },
      "outputs": [
        {
          "data": {
            "text/plain": [
              "['black']"
            ]
          },
          "execution_count": 121,
          "metadata": {},
          "output_type": "execute_result"
        }
      ],
      "source": [
        "l = ['red', 'black', 'white', 'green', 'orange']\n",
        "\n",
        "def sub_str_search(l, sub_str) :\n",
        "\n",
        "    return list(filter(lambda x :sub_str in x , l))\n",
        "\n",
        "sub_str_search(l, 'ack')"
      ]
    },
    {
      "cell_type": "code",
      "execution_count": null,
      "id": "4290af4c",
      "metadata": {
        "id": "4290af4c",
        "outputId": "38260052-cb13-4af1-997a-a6478be9e384"
      },
      "outputs": [
        {
          "data": {
            "text/plain": [
              "[]"
            ]
          },
          "execution_count": 122,
          "metadata": {},
          "output_type": "execute_result"
        }
      ],
      "source": [
        "sub_str_search(l, 'bmw')"
      ]
    },
    {
      "cell_type": "markdown",
      "id": "2ec01785",
      "metadata": {
        "id": "2ec01785"
      },
      "source": [
        "### 40. Write a Python program to find the nested lists elements, which are present in another list using lambda."
      ]
    },
    {
      "cell_type": "code",
      "execution_count": null,
      "id": "1988879f",
      "metadata": {
        "id": "1988879f",
        "outputId": "fbec3516-e6e2-48c7-8c02-8a635e76980c"
      },
      "outputs": [
        {
          "data": {
            "text/plain": [
              "[[12], [7, 11], [1, 5, 8]]"
            ]
          },
          "execution_count": 123,
          "metadata": {},
          "output_type": "execute_result"
        }
      ],
      "source": [
        "l1 =  [1, 2, 3, 4, 5, 6, 7, 8, 9, 10, 11, 12, 13, 14]\n",
        "l2 = [[12, 18, 23, 25, 45], [7, 11, 19, 24, 28], [1, 5, 8, 18, 15, 16]]\n",
        "\n",
        "[list(filter(lambda x: x in l1, sublist)) for sublist in l2]"
      ]
    },
    {
      "cell_type": "markdown",
      "id": "fc4bfcaa",
      "metadata": {
        "id": "fc4bfcaa"
      },
      "source": [
        "### 41. Write a pyhton program to reverse each element in a list"
      ]
    },
    {
      "cell_type": "code",
      "execution_count": null,
      "id": "73f7f53f",
      "metadata": {
        "id": "73f7f53f",
        "outputId": "c6fffdba-7a2e-488a-9b3d-16ee12d4c346"
      },
      "outputs": [
        {
          "data": {
            "text/plain": [
              "['deR', 'neerG', 'eulB', 'etihW', 'kcalB']"
            ]
          },
          "execution_count": 125,
          "metadata": {},
          "output_type": "execute_result"
        }
      ],
      "source": [
        "l = ['Red', 'Green', 'Blue', 'White', 'Black']\n",
        "\n",
        "list(map(lambda x : x[::-1] , l))"
      ]
    },
    {
      "cell_type": "markdown",
      "id": "2beabe96",
      "metadata": {
        "id": "2beabe96"
      },
      "source": [
        "### 42. Write a Python program to calculate the product of a given list of numbers using lambda."
      ]
    },
    {
      "cell_type": "code",
      "execution_count": null,
      "id": "af919c77",
      "metadata": {
        "id": "af919c77",
        "outputId": "1789a834-f373-4c57-b764-1ee6b5658db2"
      },
      "outputs": [
        {
          "data": {
            "text/plain": [
              "3628800"
            ]
          },
          "execution_count": 126,
          "metadata": {},
          "output_type": "execute_result"
        }
      ],
      "source": [
        "from functools import reduce\n",
        "l = [1, 2, 3, 4, 5, 6, 7, 8, 9, 10]\n",
        "\n",
        "reduce(lambda x,y : x*y, l)"
      ]
    },
    {
      "cell_type": "markdown",
      "id": "2f94003e",
      "metadata": {
        "id": "2f94003e"
      },
      "source": [
        "### 43. Write a Python program to multiply all the numbers in a given list using lambda."
      ]
    },
    {
      "cell_type": "code",
      "execution_count": null,
      "id": "e38b045a",
      "metadata": {
        "id": "e38b045a",
        "outputId": "fd58f628-1143-48f8-f89d-e6ce851114c9"
      },
      "outputs": [
        {
          "data": {
            "text/plain": [
              "-864"
            ]
          },
          "execution_count": 127,
          "metadata": {},
          "output_type": "execute_result"
        }
      ],
      "source": [
        "l = [4, 3, 2, 2, -1, 18]\n",
        "\n",
        "reduce(lambda x,y : x*y, l)"
      ]
    },
    {
      "cell_type": "code",
      "execution_count": null,
      "id": "9aa2feb1",
      "metadata": {
        "id": "9aa2feb1",
        "outputId": "4e7df58f-ed59-4bcf-c6d2-7e2476ebfd87"
      },
      "outputs": [
        {
          "data": {
            "text/plain": [
              "4021.86"
            ]
          },
          "execution_count": 128,
          "metadata": {},
          "output_type": "execute_result"
        }
      ],
      "source": [
        "l1 = [2.2, 4.12, 6.6, 8.1, 8.3]\n",
        "round(reduce(lambda x,y : x*y, l1), 2)"
      ]
    },
    {
      "cell_type": "markdown",
      "id": "818ad18d",
      "metadata": {
        "id": "818ad18d"
      },
      "source": [
        "### 44. Write a Python program to calculate the average value of the numbers in a given tuple of tuples using lambda."
      ]
    },
    {
      "cell_type": "code",
      "execution_count": null,
      "id": "8586a117",
      "metadata": {
        "id": "8586a117",
        "outputId": "1c206b22-61ba-4d4c-9ab0-27a6b01080e5"
      },
      "outputs": [
        {
          "name": "stdout",
          "output_type": "stream",
          "text": [
            "The average value of the numbers is: 50.0\n"
          ]
        }
      ],
      "source": [
        "# Given tuple of tuples\n",
        "tuple_of_tuples = ((10, 20, 30), (40, 50, 60), (70, 80, 90))\n",
        "\n",
        "# Use lambda function to flatten the tuple of tuples and find the sum and count\n",
        "flattened_values = list(map(lambda x: x, [num for tup in tuple_of_tuples for num in tup]))\n",
        "\n",
        "# Calculate the average\n",
        "average = sum(flattened_values) / len(flattened_values)\n",
        "\n",
        "# Output the result\n",
        "print(f\"The average value of the numbers is: {average}\")\n"
      ]
    },
    {
      "cell_type": "markdown",
      "id": "8e274c89",
      "metadata": {
        "id": "8e274c89"
      },
      "source": [
        "### 45. Write a Python program to remove string elements inside a given tuple using lambda."
      ]
    },
    {
      "cell_type": "code",
      "execution_count": null,
      "id": "88ecfc9b",
      "metadata": {
        "id": "88ecfc9b",
        "outputId": "6758c9c9-8e1d-423e-b3f3-e2bb5c7cccc3"
      },
      "outputs": [
        {
          "name": "stdout",
          "output_type": "stream",
          "text": [
            "Tuple after removing string elements: (10, 20, 30, 40)\n"
          ]
        }
      ],
      "source": [
        "mixed_tuple = (10, 'hello', 20, 'world', 30, 'python', 40)\n",
        "\n",
        "filtered_tuple = tuple(filter(lambda x: not isinstance(x, str), mixed_tuple))\n",
        "\n",
        "print(f\"Tuple after removing string elements: {filtered_tuple}\")\n"
      ]
    },
    {
      "cell_type": "markdown",
      "id": "9a80ff9e",
      "metadata": {
        "id": "9a80ff9e"
      },
      "source": [
        "### 46. Write a Python program to find index position and value of the maximum and minimum values in a given list of numbers using lambda."
      ]
    },
    {
      "cell_type": "code",
      "execution_count": null,
      "id": "aaee2a33",
      "metadata": {
        "id": "aaee2a33",
        "outputId": "d41f9a25-c23f-4fb7-c406-d7935e214170"
      },
      "outputs": [
        {
          "data": {
            "text/plain": [
              "(5, 89)"
            ]
          },
          "execution_count": 14,
          "metadata": {},
          "output_type": "execute_result"
        }
      ],
      "source": [
        "l = [12, 33, 23, 10.11, 67, 89, 45, 66.7, 23, 12, 11, 10.25, 54]\n",
        "\n",
        "max(enumerate(l), key = lambda x : x[1])"
      ]
    },
    {
      "cell_type": "code",
      "execution_count": null,
      "id": "30c643ad",
      "metadata": {
        "id": "30c643ad",
        "outputId": "b7db96b1-d6b4-4806-8b8f-c0978d54c020"
      },
      "outputs": [
        {
          "data": {
            "text/plain": [
              "(3, 10.11)"
            ]
          },
          "execution_count": 15,
          "metadata": {},
          "output_type": "execute_result"
        }
      ],
      "source": [
        "min(enumerate(l), key = lambda x : x[1])"
      ]
    },
    {
      "cell_type": "markdown",
      "id": "e82d4909",
      "metadata": {
        "id": "e82d4909"
      },
      "source": [
        "### 47. Write a Python program to sort a given mixed list of integers and strings using lambda. Numbers must be sorted before strings."
      ]
    },
    {
      "cell_type": "code",
      "execution_count": null,
      "id": "5aaee122",
      "metadata": {
        "id": "5aaee122",
        "outputId": "b2879f9e-b29e-4279-d49a-82cb587f0be7"
      },
      "outputs": [
        {
          "data": {
            "text/plain": [
              "[1, 10, 12, 19, 'blue', 'green', 'green', 'red', 'white']"
            ]
          },
          "execution_count": 133,
          "metadata": {},
          "output_type": "execute_result"
        }
      ],
      "source": [
        "l = [19, 'red', 12, 'green', 'blue', 10, 'white', 'green', 1]\n",
        "\n",
        "list(sorted(l, key = lambda x : str(x)))"
      ]
    },
    {
      "cell_type": "markdown",
      "id": "08c722ba",
      "metadata": {
        "id": "08c722ba"
      },
      "source": [
        "### 48. Write a Python program to sort a given list of strings(numbers) numerically using lambda."
      ]
    },
    {
      "cell_type": "code",
      "execution_count": null,
      "id": "31e5078c",
      "metadata": {
        "id": "31e5078c",
        "outputId": "438f8fe2-c8c6-4b83-d534-897289b36269"
      },
      "outputs": [
        {
          "data": {
            "text/plain": [
              "['-500', '-12', '0', '4', '7', '12', '45', '100', '200']"
            ]
          },
          "execution_count": 134,
          "metadata": {},
          "output_type": "execute_result"
        }
      ],
      "source": [
        "l = ['4', '12', '45', '7', '0', '100', '200', '-12', '-500']\n",
        "\n",
        "list(sorted(l , key = lambda x : int(x)))"
      ]
    },
    {
      "cell_type": "markdown",
      "id": "c989dcd8",
      "metadata": {
        "id": "c989dcd8"
      },
      "source": [
        "### 49. Write a Python program to count the occurrences of the items in a given list using lambda.  "
      ]
    },
    {
      "cell_type": "code",
      "execution_count": null,
      "id": "521d62c2",
      "metadata": {
        "id": "521d62c2",
        "outputId": "459ea959-41e9-4b20-ad93-2ae6934f826e"
      },
      "outputs": [
        {
          "name": "stdout",
          "output_type": "stream",
          "text": [
            "(3, 2)\n",
            "(4, 1)\n",
            "(5, 2)\n",
            "(8, 4)\n",
            "(0, 2)\n",
            "(3, 3)\n",
            "(8, 0)\n"
          ]
        }
      ],
      "source": [
        "l = [3, 4, 5, 8, 0, 3, 8, 5, 0, 3, 1, 5, 2, 3, 4, 2]\n",
        "\n",
        "for i,j in enumerate(set(l)):\n",
        "    print((l[i], l.count(i)))\n"
      ]
    },
    {
      "cell_type": "markdown",
      "id": "60c293e8",
      "metadata": {
        "id": "60c293e8"
      },
      "source": [
        "### 50. Write a Python program to remove specific words from a given list using lambda."
      ]
    },
    {
      "cell_type": "code",
      "execution_count": null,
      "id": "87a769b3",
      "metadata": {
        "id": "87a769b3",
        "outputId": "bdfe1633-f3d9-4eb4-8169-255b5224df6e"
      },
      "outputs": [
        {
          "data": {
            "text/plain": [
              "['red', 'green', 'blue', 'white']"
            ]
          },
          "execution_count": 136,
          "metadata": {},
          "output_type": "execute_result"
        }
      ],
      "source": [
        "l1 = ['orange', 'red', 'green', 'blue', 'white', 'black']\n",
        "l2 = ['orange', 'black']\n",
        "\n",
        "list(filter(lambda x: x not in l2 , l1))"
      ]
    },
    {
      "cell_type": "markdown",
      "id": "817ca213",
      "metadata": {
        "id": "817ca213"
      },
      "source": [
        "### 51. Write a Python program to find the maximum and minimum values in a given list of tuples using lambda function."
      ]
    },
    {
      "cell_type": "code",
      "execution_count": null,
      "id": "ba919632",
      "metadata": {
        "id": "ba919632",
        "outputId": "ef0266bb-ec92-4100-d7fe-45c0f3fd3e66"
      },
      "outputs": [
        {
          "data": {
            "text/plain": [
              "(74, 62)"
            ]
          },
          "execution_count": 137,
          "metadata": {},
          "output_type": "execute_result"
        }
      ],
      "source": [
        "l = [('V', 62), ('VI', 68), ('VII', 72), ('VIII', 70), ('IX', 74), ('X', 65)]\n",
        "\n",
        "(max(l, key = lambda x : x[1])[1], min(l, key = lambda x : x[1])[1])\n"
      ]
    },
    {
      "cell_type": "markdown",
      "id": "c7797eef",
      "metadata": {
        "id": "c7797eef"
      },
      "source": [
        "### 52. Write a Python program to remove None value from a given list using lambda function."
      ]
    },
    {
      "cell_type": "code",
      "execution_count": null,
      "id": "ee3abc5d",
      "metadata": {
        "id": "ee3abc5d",
        "outputId": "0f09ddf2-9797-49cd-b199-9934ef70a46a"
      },
      "outputs": [
        {
          "data": {
            "text/plain": [
              "[12, 0, 23, -55, 234, 89, 0, 6, -12]"
            ]
          },
          "execution_count": 138,
          "metadata": {},
          "output_type": "execute_result"
        }
      ],
      "source": [
        "l = [12, 0, None, 23, None, -55, 234, 89, None, 0, 6, -12]\n",
        "\n",
        "list(filter(lambda x : x != None, l))"
      ]
    },
    {
      "cell_type": "code",
      "execution_count": null,
      "id": "baf9d6ff",
      "metadata": {
        "id": "baf9d6ff"
      },
      "outputs": [],
      "source": []
    }
  ],
  "metadata": {
    "kernelspec": {
      "display_name": "Python 3 (ipykernel)",
      "language": "python",
      "name": "python3"
    },
    "language_info": {
      "codemirror_mode": {
        "name": "ipython",
        "version": 3
      },
      "file_extension": ".py",
      "mimetype": "text/x-python",
      "name": "python",
      "nbconvert_exporter": "python",
      "pygments_lexer": "ipython3",
      "version": "3.11.5"
    },
    "colab": {
      "provenance": []
    }
  },
  "nbformat": 4,
  "nbformat_minor": 5
}