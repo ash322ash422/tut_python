{
 "cells": [
  {
   "cell_type": "markdown",
   "id": "270f7905",
   "metadata": {
    "id": "270f7905"
   },
   "source": [
    "### 1)Write a Prog. to reverse the words of a string\n",
    "what a day and night -> night and day a what"
   ]
  },
  {
   "cell_type": "code",
   "execution_count": 2,
   "id": "e4106845",
   "metadata": {
    "id": "e4106845",
    "outputId": "9ab04e42-a663-4473-b7b2-deb49acc068b"
   },
   "outputs": [
    {
     "name": "stdout",
     "output_type": "stream",
     "text": [
      "split_res:   ['what', 'a', 'day', 'and', 'night']\n",
      "reverse_res: ['night', 'and', 'day', 'a', 'what']\n",
      "-- night \n",
      "-- night and \n",
      "-- night and day \n",
      "-- night and day a \n",
      "-- night and day a what \n",
      "final: night and day a what \n"
     ]
    }
   ],
   "source": [
    "s = \"what a day and night\"\n",
    "\n",
    "# code that produces output: night and day a what\n",
    "split_res = s.split(\" \")\n",
    "print(f\"split_res:   {split_res}\")\n",
    "\n",
    "reverse_res = split_res[::-1]\n",
    "print(f\"reverse_res: {reverse_res}\")\n",
    "\n",
    "final = \"\"\n",
    "for i in reverse_res:\n",
    "    final = final + i + \" \"\n",
    "    print(f\"-- {final}\")\n",
    "\n",
    "print(f\"final: {final}\")"
   ]
  },
  {
   "cell_type": "markdown",
   "id": "2af93eb8",
   "metadata": {
    "id": "2af93eb8"
   },
   "source": [
    "### 2) Find if the string \"everyone\" is inside \"Within everyone there is a story. Just listen\". Then tell me its index. Print it using slicing"
   ]
  },
  {
   "cell_type": "code",
   "execution_count": 4,
   "id": "b76aa635",
   "metadata": {
    "id": "b76aa635",
    "outputId": "af4eae11-32c7-4ab2-adbc-d214ae776e28"
   },
   "outputs": [
    {
     "name": "stdout",
     "output_type": "stream",
     "text": [
      "found\n",
      "7\n",
      "7\n",
      "everyone\n"
     ]
    }
   ],
   "source": [
    "sentence = \"Within everyone there is a story. Just listen\"\n",
    "srch = \"everyone\"\n",
    "\n",
    "# 1: First find if the srch string is in sentence.\n",
    "if srch in sentence:\n",
    "    print(\"found\")\n",
    "else:\n",
    "    print(\"Not found\")\n",
    "\n",
    "# 2\n",
    "print(sentence.find(\"everyone\"))\n",
    "print(sentence.index(srch))\n",
    "\n",
    "# 3\n",
    "print(sentence[7:15])"
   ]
  },
  {
   "cell_type": "markdown",
   "id": "7f8cc9fc",
   "metadata": {
    "id": "7f8cc9fc"
   },
   "source": [
    "### 3) Write a program to convert into UPPERCASE or lowercase an entire string."
   ]
  },
  {
   "cell_type": "code",
   "execution_count": 6,
   "id": "f346fe2b",
   "metadata": {
    "id": "f346fe2b",
    "outputId": "da76ae8f-9cf8-473a-d295-e5b9a0656b1a"
   },
   "outputs": [
    {
     "name": "stdout",
     "output_type": "stream",
     "text": [
      "MAKE IT IN UPPERCASE\n",
      "make it in uppercase\n"
     ]
    }
   ],
   "source": [
    "s = \"mAKe it in uppercase\"\n",
    "u = s.upper()\n",
    "l = s.lower()\n",
    "print(u)\n",
    "print(l)"
   ]
  },
  {
   "cell_type": "markdown",
   "id": "680f4a54",
   "metadata": {
    "id": "680f4a54"
   },
   "source": [
    "# 4) Write a program to eliminate all the vowels from the given sentence."
   ]
  },
  {
   "cell_type": "code",
   "execution_count": 13,
   "id": "8aabcd4e",
   "metadata": {
    "id": "8aabcd4e",
    "outputId": "7a32c683-c0f2-4c60-a954-d408f78ff52d"
   },
   "outputs": [
    {
     "name": "stdout",
     "output_type": "stream",
     "text": [
      "Th nly plc y fnd sccss bfr wrk s n th dctnry."
     ]
    }
   ],
   "source": [
    "test=\"The only place you find success before work is in the dictionary.\"\n",
    "B='aeiouAEIOU'\n",
    "vowels=list(B)\n",
    "for i in test:\n",
    "    if i not in vowels:\n",
    "        print(i,end='')"
   ]
  },
  {
   "cell_type": "markdown",
   "id": "b94e8621",
   "metadata": {
    "id": "b94e8621"
   },
   "source": [
    "### 5.1) Write a prog. to generate Acronym (using all words)\n",
    "sentence = \"State Bank Of India\"\n",
    "\n",
    "acronym = SBOI"
   ]
  },
  {
   "cell_type": "code",
   "execution_count": 7,
   "id": "fe1f8b43",
   "metadata": {
    "id": "fe1f8b43",
    "outputId": "19508ff7-2a8a-412a-aed7-fb061fefa939"
   },
   "outputs": [
    {
     "name": "stdout",
     "output_type": "stream",
     "text": [
      "['State', 'Bank', 'Of', 'India']\n",
      "SBOI"
     ]
    }
   ],
   "source": [
    "sentence = \"State Bank Of India\"\n",
    "\n",
    "split_sent = sentence.split(\" \")\n",
    "print(split_sent)\n",
    "\n",
    "for i in split_sent:\n",
    "    print(i[0], end=\"\")"
   ]
  },
  {
   "cell_type": "markdown",
   "id": "5679f921-ba9a-444a-a3d9-6e6eef2ce800",
   "metadata": {},
   "source": [
    "## 5.2) Write a prog. to generate Acronym (using only keywords)\n",
    "sentence = \"State Bank Of India\"\n",
    "\n",
    "acronym = SBI\n",
    "\n",
    "words that should not be part = Of, the, in,"
   ]
  },
  {
   "cell_type": "code",
   "execution_count": null,
   "id": "198111d5-6bc4-455d-8837-743ea8fb9741",
   "metadata": {},
   "outputs": [],
   "source": [
    "sentence = \"State Bank Of India\"\n",
    "exclude = ['Of','the','in']\n",
    "\n",
    "split_sent = sentence.split(\" \")\n",
    "print(split_sent)\n",
    "\n",
    "for i in split_sent:\n",
    "    if i not in exclude:\n",
    "        print(i[0], end=\"\")"
   ]
  },
  {
   "cell_type": "markdown",
   "id": "2cc49c9a-6fc3-4e4e-b8db-2cf364543943",
   "metadata": {},
   "source": [
    "## 5.3)Write a prog. to generate Acronym (using only keywords and this the exclude list can be upper or lower case)\n",
    "sentence = \"State Bank Of India\"\n",
    "\n",
    "acronym = SBI\n",
    "\n",
    "words that should not be part = of, the, in,"
   ]
  },
  {
   "cell_type": "code",
   "execution_count": 8,
   "id": "4259d00b-950a-49c5-b402-44ecad15ac1a",
   "metadata": {},
   "outputs": [
    {
     "name": "stdout",
     "output_type": "stream",
     "text": [
      "['state', 'bank', 'of', 'india']\n",
      "SBI"
     ]
    }
   ],
   "source": [
    "sentence = \"State Bank Of India\"\n",
    "exclude = ['of','the','in', 'Of'] # NOTE: Its all lowercase\n",
    "\n",
    "sentence = sentence.lower()\n",
    "split_sent = sentence.split(\" \")\n",
    "print(split_sent)\n",
    "\n",
    "for i in split_sent:\n",
    "    if i not in exclude:\n",
    "        print(i[0].upper(), end=\"\")"
   ]
  },
  {
   "cell_type": "markdown",
   "id": "1e904167-b2fb-4494-914b-4ef45f1d0703",
   "metadata": {},
   "source": [
    "## 5.4) Write a prog. to generate Acronym (using only keywords and this the exclude list can be upper or lower case) and it prompts the user for input\n",
    "user input: sentence = \"State Bank Of India\"\n",
    "\n",
    "acronym = SBI\n",
    "\n",
    "words that should not be part = of, the, in,"
   ]
  },
  {
   "cell_type": "code",
   "execution_count": 9,
   "id": "e26012b8-5a4c-44de-800a-22c3c72ba97b",
   "metadata": {},
   "outputs": [
    {
     "name": "stdin",
     "output_type": "stream",
     "text": [
      "Enter your sentence: fder erg\n"
     ]
    },
    {
     "name": "stdout",
     "output_type": "stream",
     "text": [
      "['fder', 'erg']\n",
      "FE"
     ]
    }
   ],
   "source": [
    "sentence = input(\"Enter your sentence:\")\n",
    "exclude = ['of','the','in', 'Of'] # NOTE: Its all lowercase\n",
    "\n",
    "sentence = sentence.lower()\n",
    "split_sent = sentence.split(\" \")\n",
    "print(split_sent)\n",
    "\n",
    "for i in split_sent:\n",
    "    if i not in exclude:\n",
    "        print(i[0].upper(), end=\"\")"
   ]
  },
  {
   "cell_type": "code",
   "execution_count": null,
   "id": "6ad89059-9d4f-4869-89e0-917cea663307",
   "metadata": {},
   "outputs": [],
   "source": []
  },
  {
   "cell_type": "code",
   "execution_count": null,
   "id": "bd16490d-fc20-4642-b07b-e404a7355226",
   "metadata": {},
   "outputs": [],
   "source": []
  },
  {
   "cell_type": "code",
   "execution_count": null,
   "id": "de0e611b-0338-43e4-a354-06fceae20ca0",
   "metadata": {},
   "outputs": [],
   "source": []
  },
  {
   "cell_type": "code",
   "execution_count": null,
   "id": "b696384e-4412-41b8-8210-02e9b90d9222",
   "metadata": {},
   "outputs": [],
   "source": []
  },
  {
   "cell_type": "markdown",
   "id": "6ce77e51",
   "metadata": {
    "id": "6ce77e51"
   },
   "source": [
    "# 6)Write a program to find the length of the string \"peregrine and nomadic\" without using len function"
   ]
  },
  {
   "cell_type": "code",
   "execution_count": 14,
   "id": "a92d05a1",
   "metadata": {
    "id": "a92d05a1",
    "outputId": "3ce5a0dd-122a-43e1-f94e-749413141784"
   },
   "outputs": [
    {
     "name": "stdout",
     "output_type": "stream",
     "text": [
      "21\n"
     ]
    }
   ],
   "source": [
    "a=\"peregrine and nomadic\"\n",
    "\n",
    "count=0\n",
    "for i in a:\n",
    "    count=count+1\n",
    "print (count)"
   ]
  },
  {
   "cell_type": "code",
   "execution_count": null,
   "id": "1e163687-e99f-46b5-a0ed-017fd357686e",
   "metadata": {},
   "outputs": [],
   "source": []
  },
  {
   "cell_type": "markdown",
   "id": "76c64383-779f-467e-a137-47010c41530c",
   "metadata": {},
   "source": [
    "## 6.2 ) Write a program to find the the count of 'r', 'g' present in the string \"peregrine and nomadic\". Use only for loop and if condition"
   ]
  },
  {
   "cell_type": "code",
   "execution_count": 10,
   "id": "95702089-dd48-4b63-aa27-e0b6183508d9",
   "metadata": {},
   "outputs": [
    {
     "name": "stdout",
     "output_type": "stream",
     "text": [
      "3\n"
     ]
    }
   ],
   "source": [
    "sentence = \"peregrine and nomadic\"\n",
    "\n",
    "# sub_str = \"rg\" # This works too\n",
    "sub_str = ['r','g']\n",
    "\n",
    "count = 0\n",
    "for i in sentence:\n",
    "    if i in sub_str:\n",
    "        count = count + 1\n",
    "\n",
    "print(count)\n"
   ]
  },
  {
   "cell_type": "markdown",
   "id": "26db4fd4-eb3a-42e3-953b-76fd50c05b94",
   "metadata": {},
   "source": [
    "## 6.3) Write a program to replace 'r' with 'R' present in the string \"peregrine\". Use only for loop and if condition¶"
   ]
  },
  {
   "cell_type": "code",
   "execution_count": 11,
   "id": "0c415d08-564b-4236-94d4-0dd9275dcef4",
   "metadata": {},
   "outputs": [
    {
     "name": "stdout",
     "output_type": "stream",
     "text": [
      "-- i= p s= \n",
      "-- i= e s= p\n",
      "-- i= r s= pe\n",
      "-- i= e s= peR\n",
      "-- i= g s= peRe\n",
      "-- i= r s= peReg\n",
      "-- i= i s= peRegR\n",
      "-- i= n s= peRegRi\n",
      "-- i= e s= peRegRin\n",
      "peRegRine\n"
     ]
    }
   ],
   "source": [
    "sentence = \"peregrine\"\n",
    "\n",
    "# sub_str = \"rg\" # This works too\n",
    "sub_str = ['r']\n",
    "\n",
    "s = \"\"\n",
    "for i in sentence:\n",
    "    print(\"-- i=\",i,\"s=\",s)\n",
    "    if i in sub_str:\n",
    "        i = i.upper()\n",
    "    s = s + i\n",
    "    \n",
    "    \n",
    "print(s)"
   ]
  },
  {
   "cell_type": "code",
   "execution_count": null,
   "id": "fa3aca32-5e59-47d4-896f-aa0dd9516061",
   "metadata": {},
   "outputs": [],
   "source": []
  },
  {
   "cell_type": "markdown",
   "id": "0e1a2dce",
   "metadata": {
    "id": "0e1a2dce"
   },
   "source": [
    "# 7)Write a program to print characters present at even and odd index separately for a given string"
   ]
  },
  {
   "cell_type": "code",
   "execution_count": null,
   "id": "1a6ba3aa",
   "metadata": {
    "id": "1a6ba3aa",
    "outputId": "138059b3-8b41-4f7a-d3c8-60d2fefefd5c"
   },
   "outputs": [
    {
     "name": "stdout",
     "output_type": "stream",
     "text": [
      "characters present at even index:\n",
      "B,n,a,i,i, ,n, ,f,t,e,s,e,t,s, ,a,g,a,e,"
     ]
    }
   ],
   "source": [
    "sample='Bengali is one of the sweetest language'\n",
    "i=0\n",
    "print(\"characters present at even index:\")\n",
    "while i < len(sample):\n",
    "    print(sample[i], end=\",\")\n",
    "    i=i+2"
   ]
  },
  {
   "cell_type": "code",
   "execution_count": null,
   "id": "0ad2f699",
   "metadata": {
    "id": "0ad2f699",
    "outputId": "70806808-ac98-4ae9-f0e1-1859f112b8f6"
   },
   "outputs": [
    {
     "name": "stdout",
     "output_type": "stream",
     "text": [
      "\n",
      "characters at odd index:\n",
      "e, g, l,  , s, o, e, o,  , h,  , w, e, e, t, l, n, u, g, "
     ]
    }
   ],
   "source": [
    "print(\"\\ncharacters at odd index:\")\n",
    "i=1\n",
    "while i<len(sample):\n",
    "    print(sample[i],end=', ')\n",
    "    i=i+2"
   ]
  },
  {
   "cell_type": "markdown",
   "id": "d96a8c30",
   "metadata": {
    "id": "d96a8c30"
   },
   "source": [
    "# OR"
   ]
  },
  {
   "cell_type": "code",
   "execution_count": null,
   "id": "ae925929",
   "metadata": {
    "id": "ae925929",
    "outputId": "b02b04c0-ae8e-49a9-b0c1-561897b91542"
   },
   "outputs": [
    {
     "name": "stdout",
     "output_type": "stream",
     "text": [
      "characters at even index: Bnaii n ftesets agae\n"
     ]
    }
   ],
   "source": [
    "print('characters at even index:',sample[ : :2])"
   ]
  },
  {
   "cell_type": "code",
   "execution_count": null,
   "id": "2ae80849",
   "metadata": {
    "id": "2ae80849",
    "outputId": "aa928c97-3bb8-4c3e-a11a-9dee0b5fe380"
   },
   "outputs": [
    {
     "name": "stdout",
     "output_type": "stream",
     "text": [
      "characters at odd index: egl soeo h weetlnug\n"
     ]
    }
   ],
   "source": [
    "print('characters at odd index:',sample[ 1: :2])"
   ]
  },
  {
   "cell_type": "markdown",
   "id": "c3c8079a",
   "metadata": {
    "id": "c3c8079a"
   },
   "source": [
    "# 8) Write a program to sort characters of a given string(alphabets followed by numbers)"
   ]
  },
  {
   "cell_type": "code",
   "execution_count": null,
   "id": "81cc2248",
   "metadata": {
    "id": "81cc2248",
    "outputId": "25b06d3a-ce4e-4287-8932-0d2e08f3cf25"
   },
   "outputs": [
    {
     "name": "stdout",
     "output_type": "stream",
     "text": [
      "Sdeepu0124899\n"
     ]
    }
   ],
   "source": [
    "s=\"S2u0d4e1e9p98\"\n",
    "alphabets=[]\n",
    "numbers=[]\n",
    "for i in s:\n",
    "    if i.isalpha():\n",
    "        alphabets.append(i)\n",
    "    else:\n",
    "        numbers.append(i)\n",
    "print(''.join(sorted(alphabets)+sorted(numbers)))"
   ]
  },
  {
   "cell_type": "markdown",
   "id": "c6b24216",
   "metadata": {
    "id": "c6b24216"
   },
   "source": [
    "# 9) Write a prog to remove duplicate characters. Also give the count of each characters in the string'"
   ]
  },
  {
   "cell_type": "code",
   "execution_count": null,
   "id": "ed8f2efd",
   "metadata": {
    "id": "ed8f2efd",
    "outputId": "674c322b-1d1f-4ad9-b7f5-32e29f136cf5"
   },
   "outputs": [
    {
     "name": "stdout",
     "output_type": "stream",
     "text": [
      "['A', 'B', 'C', 'D', 'a', 'b', 'c', 'd']\n",
      "A occurs 2 times\n",
      "B occurs 6 times\n",
      "C occurs 3 times\n",
      "D occurs 4 times\n",
      "a occurs 3 times\n",
      "b occurs 2 times\n",
      "c occurs 2 times\n",
      "d occurs 2 times\n"
     ]
    }
   ],
   "source": [
    "str='AABBBBBBCCCDDDDaaabbccdd'\n",
    "str1=set(str)\n",
    "print(sorted(str1))\n",
    "for i in sorted(str1):\n",
    "    print('{} occurs {} times'.format(i,str.count(i)))\n"
   ]
  },
  {
   "cell_type": "markdown",
   "id": "65b76c2c",
   "metadata": {
    "id": "65b76c2c"
   },
   "source": [
    "## 10) Insert a string s2 in middle of s1\n",
    "- s1 = \"****\"\n",
    "- s2 = \"Happy\"\n",
    "```\n",
    "output: **Happy**\n",
    "```\n"
   ]
  },
  {
   "cell_type": "code",
   "execution_count": 15,
   "id": "ea9cff41",
   "metadata": {
    "id": "ea9cff41",
    "outputId": "36272f5a-43cc-4264-9c1e-25bbf9a7aa65"
   },
   "outputs": [
    {
     "name": "stdout",
     "output_type": "stream",
     "text": [
      "2\n",
      "**Happy**\n",
      "#################################\n",
      "**Happy**\n"
     ]
    }
   ],
   "source": [
    "s1 = \"****\" # \"*****\"\n",
    "s2 = \"Happy\"\n",
    "\n",
    "l = int(len(s1)/2)\n",
    "print(l)\n",
    "\n",
    "# STEP1: lets deal with case with even number of *\n",
    "s = s1[0:l] + s2 + s1[l:]\n",
    "print(s)\n",
    "print(\"#################################\")\n",
    "\n",
    "s1 = \"*****\" \n",
    "s2 = \"Happy\"\n",
    "\n",
    "# STEP2: Now we deal with both even and odd number of *\n",
    "if len(s1) % 2 != 0:\n",
    "    s = s1[0:l] + s2 + s1[l+1:]\n",
    "else:\n",
    "    s = s1[0:l] + s2 + s1[l:]\n",
    "\n",
    "print(s)"
   ]
  },
  {
   "cell_type": "markdown",
   "id": "3a99c4b2",
   "metadata": {
    "id": "3a99c4b2"
   },
   "source": [
    "# 11)Write a Python program to check whether a string starts & ends with specified characters"
   ]
  },
  {
   "cell_type": "code",
   "execution_count": null,
   "id": "384b4e91",
   "metadata": {
    "id": "384b4e91",
    "outputId": "0f200b73-4c31-4b4b-cdbd-7c3965915ba4"
   },
   "outputs": [
    {
     "name": "stdout",
     "output_type": "stream",
     "text": [
      "False\n",
      "True\n",
      "True\n"
     ]
    }
   ],
   "source": [
    "test = \"Battery about to die\"\n",
    "print(test.startswith(\"Is\"))\n",
    "print(test.startswith(\"Ba\"))\n",
    "print(test.endswith(\"ie\"))"
   ]
  },
  {
   "cell_type": "markdown",
   "id": "b690adb9",
   "metadata": {
    "id": "b690adb9"
   },
   "source": [
    "# 12)Write a Python program to wrap a given string into a paragraph of given width"
   ]
  },
  {
   "cell_type": "code",
   "execution_count": null,
   "id": "d42b6331",
   "metadata": {
    "id": "d42b6331",
    "outputId": "db0b3711-21c8-4152-da02-e304f0dae23b"
   },
   "outputs": [
    {
     "name": "stdout",
     "output_type": "stream",
     "text": [
      "Enter a String: this is a new function which i saw lets see how it works out\n",
      "Enter the Width of the Paragraph: 4\n",
      "\n",
      "-------------Result---------------\n",
      "\n",
      "this\n",
      "is a\n",
      "new \n",
      "func\n",
      "tion\n",
      "whic\n",
      "h i\n",
      "saw\n",
      "lets\n",
      "see\n",
      "how\n",
      "it w\n",
      "orks\n",
      "out\n"
     ]
    }
   ],
   "source": [
    "import textwrap\n",
    "s = input(\"Enter a String: \")\n",
    "w = int(input(\"Enter the Width of the Paragraph: \").strip())\n",
    "print(\"\\n-------------Result---------------\\n\")\n",
    "print(textwrap.fill(s,w))"
   ]
  },
  {
   "cell_type": "markdown",
   "id": "b55088b2",
   "metadata": {
    "id": "b55088b2"
   },
   "source": [
    "# 13)write a prog to  match a string\n"
   ]
  },
  {
   "cell_type": "code",
   "execution_count": null,
   "id": "c3098f5d",
   "metadata": {
    "id": "c3098f5d",
    "outputId": "7d37c1a0-2310-4c63-cedb-968f36fa9cbe"
   },
   "outputs": [
    {
     "name": "stdout",
     "output_type": "stream",
     "text": [
      "False\n"
     ]
    }
   ],
   "source": [
    "s1=\"amazon.in\"\n",
    "s2=\"AMAZON.IN\"\n",
    "print(s1==s2)"
   ]
  },
  {
   "cell_type": "markdown",
   "id": "259ca0b9",
   "metadata": {
    "id": "259ca0b9"
   },
   "source": [
    "## 14)Write a prog for following  requirement\n",
    "input:a3b2c3d4\n",
    "\n",
    "ouput:aaabbcccdddd"
   ]
  },
  {
   "cell_type": "code",
   "execution_count": null,
   "id": "b0d52723",
   "metadata": {
    "id": "b0d52723",
    "outputId": "c8ee78bd-90ae-4003-9f84-fb0b93969dd8"
   },
   "outputs": [
    {
     "name": "stdout",
     "output_type": "stream",
     "text": [
      "aaabbcccdddd"
     ]
    }
   ],
   "source": [
    "s='a3b2c3d4'\n",
    "for i in s:\n",
    "    if i.isalpha():\n",
    "            x=i\n",
    "    else:\n",
    "        times=int(i)\n",
    "        print(x*times,end='')\n"
   ]
  },
  {
   "cell_type": "markdown",
   "id": "6ac7ac9c",
   "metadata": {
    "id": "6ac7ac9c"
   },
   "source": [
    "# 15) check presence of substring in a string."
   ]
  },
  {
   "cell_type": "code",
   "execution_count": null,
   "id": "e48fd0d2",
   "metadata": {
    "id": "e48fd0d2",
    "outputId": "e94336fa-7a34-4269-f2aa-a0c3bb4f0b33"
   },
   "outputs": [
    {
     "name": "stdout",
     "output_type": "stream",
     "text": [
      "True\n"
     ]
    }
   ],
   "source": [
    "s='earn to learn'\n",
    "print(\"learn\" in s)"
   ]
  },
  {
   "cell_type": "markdown",
   "id": "b04d6f0e",
   "metadata": {
    "id": "b04d6f0e"
   },
   "source": [
    "# 16) Write a Program to fetch a list of common word out of two given strings"
   ]
  },
  {
   "cell_type": "code",
   "execution_count": null,
   "id": "c50a4b54",
   "metadata": {
    "id": "c50a4b54",
    "outputId": "e9f00d06-c7e0-49d7-9d29-9b79c2eec6d2"
   },
   "outputs": [
    {
     "name": "stdout",
     "output_type": "stream",
     "text": [
      "enter 1st string:This world is crazy\n",
      "enter 2st string:Peeps calling this world as crazy are the real crazy\n",
      "['world', 'crazy']\n"
     ]
    }
   ],
   "source": [
    "s1=input(\"enter 1st string:\")\n",
    "s2=input(\"enter 2st string:\")\n",
    "a=s1.split()\n",
    "b=s2.split()\n",
    "c=[]\n",
    "for i in a:\n",
    "    if i in b:\n",
    "        c.append(i)\n",
    "print(c)"
   ]
  },
  {
   "cell_type": "markdown",
   "id": "ac7f5443",
   "metadata": {
    "id": "ac7f5443"
   },
   "source": [
    "# 17) Fetch the largest word from string"
   ]
  },
  {
   "cell_type": "code",
   "execution_count": null,
   "id": "8daa2107",
   "metadata": {
    "id": "8daa2107",
    "outputId": "d626932b-8884-422c-d55c-376fe85f92d9"
   },
   "outputs": [
    {
     "name": "stdout",
     "output_type": "stream",
     "text": [
      "Enter a String: My name is Sudeep\n",
      "Longest word:  Sudeep\n",
      "Position of Longest word:  11\n"
     ]
    }
   ],
   "source": [
    "\n",
    "str = input(\"Enter a String: \")\n",
    "word_list = str.split()\n",
    "longest_word = max(word_list, key = len)\n",
    "pos = str.index(longest_word)\n",
    "\n",
    "print(\"Longest word: \",longest_word)\n",
    "print(\"Position of Longest word: \", pos)"
   ]
  },
  {
   "cell_type": "markdown",
   "id": "2a074be6",
   "metadata": {
    "id": "2a074be6"
   },
   "source": [
    "# 18) Check if String is a Palindrome"
   ]
  },
  {
   "cell_type": "code",
   "execution_count": null,
   "id": "4fcca79d",
   "metadata": {
    "id": "4fcca79d",
    "outputId": "5aec05b6-18c1-4e51-85b8-51de50a043f4"
   },
   "outputs": [
    {
     "name": "stdout",
     "output_type": "stream",
     "text": [
      "enter the word to check:Madam\n",
      "The string is not a palindrome.\n"
     ]
    }
   ],
   "source": [
    "S=input(\"enter the word to check:\")\n",
    "if (S== S[::-1]):\n",
    "    print(\"The string is a palindrome.\" )\n",
    "else:\n",
    "    print(\"The string is not a palindrome.\" )"
   ]
  },
  {
   "cell_type": "markdown",
   "id": "b7b33552",
   "metadata": {
    "id": "b7b33552"
   },
   "source": [
    "# 19)Program To Print All The Non-Empty Substring Of Given String"
   ]
  },
  {
   "cell_type": "code",
   "execution_count": null,
   "id": "aca858c7",
   "metadata": {
    "id": "aca858c7",
    "outputId": "4f5282e9-b5fb-475c-dac5-2481ea9c7f5b"
   },
   "outputs": [
    {
     "name": "stdout",
     "output_type": "stream",
     "text": [
      "enter the string: abcd\n",
      "a\n",
      "ab\n",
      "abc\n",
      "abcd\n",
      "b\n",
      "bc\n",
      "bcd\n",
      "c\n",
      "cd\n",
      "d\n"
     ]
    }
   ],
   "source": [
    "str1=input(\"enter the string: \")\n",
    "for i in range(len(str1)):\n",
    "    for j in range(i+1,len(str1)+1):\n",
    "        print(str1[i:j])"
   ]
  },
  {
   "cell_type": "markdown",
   "id": "72ed91e0",
   "metadata": {
    "id": "72ed91e0"
   },
   "source": [
    "# 20) Find the first and the immediate next occurence of word emma from the given string\n"
   ]
  },
  {
   "cell_type": "code",
   "execution_count": null,
   "id": "63ffa86d",
   "metadata": {
    "id": "63ffa86d",
    "outputId": "4596a1dd-481a-425f-ad57-13fc294189dd"
   },
   "outputs": [
    {
     "name": "stdout",
     "output_type": "stream",
     "text": [
      "0\n",
      "48\n",
      "number of occurences:  2\n"
     ]
    }
   ],
   "source": [
    "Str='emma is the project manager of Sephora. However emma also looks over the integration of dior'\n",
    "first=Str.find('emma')\n",
    "next_occurence=Str.find('emma',first+1)\n",
    "print(first)\n",
    "print(next_occurence)\n",
    "print(\"number of occurences: \",Str.count(\"emma\"))"
   ]
  },
  {
   "cell_type": "code",
   "execution_count": null,
   "id": "a7a3b540",
   "metadata": {
    "id": "a7a3b540"
   },
   "outputs": [],
   "source": []
  }
 ],
 "metadata": {
  "colab": {
   "provenance": []
  },
  "kernelspec": {
   "display_name": "Python 3 (ipykernel)",
   "language": "python",
   "name": "python3"
  },
  "language_info": {
   "codemirror_mode": {
    "name": "ipython",
    "version": 3
   },
   "file_extension": ".py",
   "mimetype": "text/x-python",
   "name": "python",
   "nbconvert_exporter": "python",
   "pygments_lexer": "ipython3",
   "version": "3.9.9"
  }
 },
 "nbformat": 4,
 "nbformat_minor": 5
}
