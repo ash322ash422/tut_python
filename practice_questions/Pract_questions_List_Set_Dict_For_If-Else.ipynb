{
 "cells": [
  {
   "cell_type": "markdown",
   "id": "a57f955c",
   "metadata": {
    "id": "a57f955c"
   },
   "source": [
    "# Questions on List, Set, Dictionary, Function, For, If-Else"
   ]
  },
  {
   "cell_type": "markdown",
   "id": "0110a5d6",
   "metadata": {
    "id": "0110a5d6"
   },
   "source": [
    "### 3. Write a Python program to get the largest number from a list."
   ]
  },
  {
   "cell_type": "code",
   "execution_count": null,
   "id": "76750f56",
   "metadata": {
    "id": "76750f56"
   },
   "outputs": [],
   "source": [
    "l = [8,7213,12414,987,123456,343]\n",
    "def largest_number(input_list):\n",
    "    return sorted(input_list)[len(input_list)-1]"
   ]
  },
  {
   "cell_type": "code",
   "execution_count": null,
   "id": "d9bf4feb",
   "metadata": {
    "id": "d9bf4feb",
    "outputId": "00cd2d69-1ac0-444d-c35b-c1454191e339"
   },
   "outputs": [
    {
     "data": {
      "text/plain": [
       "123456"
      ]
     },
     "execution_count": 16,
     "metadata": {},
     "output_type": "execute_result"
    }
   ],
   "source": [
    "largest_number(l)"
   ]
  },
  {
   "cell_type": "markdown",
   "id": "96eb2f80",
   "metadata": {
    "id": "96eb2f80"
   },
   "source": [
    "### 4. Write a Python program to get the smallest number from a list."
   ]
  },
  {
   "cell_type": "code",
   "execution_count": null,
   "id": "218f1375",
   "metadata": {
    "id": "218f1375",
    "outputId": "bd6186f6-8a03-482e-d424-a9f3f89bb4ee"
   },
   "outputs": [
    {
     "data": {
      "text/plain": [
       "8"
      ]
     },
     "execution_count": 9,
     "metadata": {},
     "output_type": "execute_result"
    }
   ],
   "source": [
    "l = [8,7213,12414,987,123456,343]\n",
    "def smallest_number(input_list):\n",
    "    return sorted(input_list)[0]\n",
    "smallest_number(l)"
   ]
  },
  {
   "cell_type": "markdown",
   "id": "31ec4ae5",
   "metadata": {
    "id": "31ec4ae5"
   },
   "source": [
    "### 5. Write a Python program to count the number of strings where the string length is 2 or more and the first and last character are same from a given list of strings."
   ]
  },
  {
   "cell_type": "code",
   "execution_count": null,
   "id": "b95c62ff",
   "metadata": {
    "id": "b95c62ff",
    "outputId": "fbadea51-68d1-4dab-9c3d-3b942b02d215"
   },
   "outputs": [
    {
     "data": {
      "text/plain": [
       "2"
      ]
     },
     "execution_count": 10,
     "metadata": {},
     "output_type": "execute_result"
    }
   ],
   "source": [
    "l_string = ['abc', 'xyz', 'aba', '1221']\n",
    "def custom_string_count(input_list):\n",
    "    count = 0\n",
    "    for string in input_list:\n",
    "        if len(string)>=2 and string[0] == string[-1]:\n",
    "            count += 1\n",
    "    return count\n",
    "custom_string_count(l_string)"
   ]
  },
  {
   "cell_type": "markdown",
   "id": "73731e25",
   "metadata": {
    "id": "73731e25"
   },
   "source": [
    "### 6. Write a Python program to get a list, sorted in increasing order by the last element in each tuple from a given list of non-empty tuples."
   ]
  },
  {
   "cell_type": "code",
   "execution_count": null,
   "id": "d0c74c4f",
   "metadata": {
    "id": "d0c74c4f",
    "outputId": "f7fb921b-5ca4-48da-ac7d-55382cee7dcd"
   },
   "outputs": [
    {
     "data": {
      "text/plain": [
       "[(2, 1), (1, 2), (2, 3), (4, 4), (2, 5)]"
      ]
     },
     "execution_count": 12,
     "metadata": {},
     "output_type": "execute_result"
    }
   ],
   "source": [
    "l_sample = [(2, 5), (1, 2), (4, 4), (2, 3), (2, 1)]\n",
    "def sort_custom(input_list):\n",
    "    return sorted(input_list, key=lambda x : x[1])\n",
    "\n",
    "sort_custom(l_sample)"
   ]
  },
  {
   "cell_type": "markdown",
   "id": "69821b28",
   "metadata": {
    "id": "69821b28"
   },
   "source": [
    "### 7. Write a Python program to remove duplicates from a list."
   ]
  },
  {
   "cell_type": "code",
   "execution_count": null,
   "id": "a5d7b04a",
   "metadata": {
    "id": "a5d7b04a",
    "outputId": "bc00353c-1a9d-4594-d34b-caf96ef50b2d"
   },
   "outputs": [
    {
     "data": {
      "text/plain": [
       "[0, 1, 2, 3, 4, 99, 6, 7, 8, 9, 87, 55]"
      ]
     },
     "execution_count": 13,
     "metadata": {},
     "output_type": "execute_result"
    }
   ],
   "source": [
    "l_sample=[1,1,2,2,3,4,4,55,6,6,7,87,8,9,99,0]\n",
    "def duplicate_remover(input_list):\n",
    "    return list(set(input_list))\n",
    "\n",
    "duplicate_remover(l_sample)"
   ]
  },
  {
   "cell_type": "markdown",
   "id": "f2da861b",
   "metadata": {
    "id": "f2da861b"
   },
   "source": [
    "### 8. Write a Python program to check a list is empty or not."
   ]
  },
  {
   "cell_type": "code",
   "execution_count": null,
   "id": "9ae84aa1",
   "metadata": {
    "id": "9ae84aa1",
    "outputId": "c1d000c0-71fb-48d6-b10b-19002c29221f"
   },
   "outputs": [
    {
     "data": {
      "text/plain": [
       "'Input list is not empty'"
      ]
     },
     "execution_count": 14,
     "metadata": {},
     "output_type": "execute_result"
    }
   ],
   "source": [
    "l_empty = []\n",
    "l_sample = [1,\"shubham\"]\n",
    "def list_checker_len(input_list):\n",
    "    if len(input_list) == 0:\n",
    "        return \"Input list is empty\"\n",
    "    else:\n",
    "        return \"Input list is not empty\"\n",
    "\n",
    "list_checker_len(l_sample)"
   ]
  },
  {
   "cell_type": "code",
   "execution_count": null,
   "id": "1495e844",
   "metadata": {
    "id": "1495e844",
    "outputId": "8a091a5d-aedf-4914-c4df-9321b24ce154"
   },
   "outputs": [
    {
     "data": {
      "text/plain": [
       "'Input list is empty'"
      ]
     },
     "execution_count": 15,
     "metadata": {},
     "output_type": "execute_result"
    }
   ],
   "source": [
    "list_checker_len(l_empty)"
   ]
  },
  {
   "cell_type": "markdown",
   "id": "a324ef95",
   "metadata": {
    "id": "a324ef95"
   },
   "source": [
    "### 9. Write a Python program to find the list of words that are longer than n from a given list of words."
   ]
  },
  {
   "cell_type": "code",
   "execution_count": null,
   "id": "7016b616",
   "metadata": {
    "id": "7016b616",
    "outputId": "1b965b5d-4ee1-4496-b8ef-db7dbe44c0c3"
   },
   "outputs": [
    {
     "data": {
      "text/plain": [
       "['data', 'science', 'enthusiast']"
      ]
     },
     "execution_count": 16,
     "metadata": {},
     "output_type": "execute_result"
    }
   ],
   "source": [
    "def custom_word_length(input_list, length_of_word):\n",
    "    l = []\n",
    "    for word in input_list:\n",
    "        if len(word) > length_of_word:\n",
    "            l.append(word)\n",
    "    return l\n",
    "\n",
    "list_sample = ['i', 'am', 'a', 'data', 'science', 'enthusiast']\n",
    "custom_word_length(list_sample,2)"
   ]
  },
  {
   "cell_type": "markdown",
   "id": "e1bcdac6",
   "metadata": {
    "id": "e1bcdac6"
   },
   "source": [
    "### 10. Write a Python function that takes two lists and returns True if they have at least one common member."
   ]
  },
  {
   "cell_type": "code",
   "execution_count": null,
   "id": "211abd58",
   "metadata": {
    "id": "211abd58",
    "outputId": "45e824ab-36f3-479a-b92c-ded654305df8"
   },
   "outputs": [
    {
     "data": {
      "text/plain": [
       "'True'"
      ]
     },
     "execution_count": 19,
     "metadata": {},
     "output_type": "execute_result"
    }
   ],
   "source": [
    "l1 = [1,2,3,4,55]\n",
    "l2 = [2,3,5,6,7,8]\n",
    "l3 = [\"shub\",\"simran\"]\n",
    "\n",
    "def common_checker_lists(list1, list2):\n",
    "    count=0\n",
    "    for member in list1:\n",
    "        if member in list2:\n",
    "            count+=1\n",
    "    if count>0:\n",
    "        return \"True\"\n",
    "    else:\n",
    "        return \"False\"\n",
    "\n",
    "common_checker_lists(l1,l2)"
   ]
  },
  {
   "cell_type": "code",
   "execution_count": null,
   "id": "a736db23",
   "metadata": {
    "id": "a736db23",
    "outputId": "bcd45ca4-f376-493c-8686-635b63ad3d55"
   },
   "outputs": [
    {
     "data": {
      "text/plain": [
       "'False'"
      ]
     },
     "execution_count": 20,
     "metadata": {},
     "output_type": "execute_result"
    }
   ],
   "source": [
    "common_checker_lists(l2,l3)"
   ]
  },
  {
   "cell_type": "markdown",
   "id": "f1bae569",
   "metadata": {
    "id": "f1bae569"
   },
   "source": [
    "### 11. Write a Python program to print a specified list after removing the 0th, 4th and 5th elements."
   ]
  },
  {
   "cell_type": "code",
   "execution_count": null,
   "id": "d0b5e0f0",
   "metadata": {
    "id": "d0b5e0f0",
    "outputId": "15b94336-67e4-42ba-f307-ec5f0204e913"
   },
   "outputs": [
    {
     "data": {
      "text/plain": [
       "['Green', 'White', 'Black']"
      ]
     },
     "execution_count": 31,
     "metadata": {},
     "output_type": "execute_result"
    }
   ],
   "source": [
    "list_colours = ['Red', 'Green', 'White', 'Black', 'Pink', 'Yellow']\n",
    "\n",
    "def element_remover_list(input_list, *index):\n",
    "    l=[]\n",
    "    for i in range(len(input_list)):\n",
    "        if i not in index:\n",
    "            l.append(input_list[i])\n",
    "    return l\n",
    "\n",
    "element_remover_list(list_colours, 0,4,5)"
   ]
  },
  {
   "cell_type": "markdown",
   "id": "63b8445a",
   "metadata": {
    "id": "63b8445a"
   },
   "source": [
    "### 12. Write a Python program to print the numbers of a specified list after removing even numbers from it."
   ]
  },
  {
   "cell_type": "code",
   "execution_count": null,
   "id": "7f01e744",
   "metadata": {
    "id": "7f01e744",
    "outputId": "5989cdff-a132-474b-9dfd-4335b1c8a310"
   },
   "outputs": [
    {
     "data": {
      "text/plain": [
       "[1, 3, 5, 7, 9, 11, 13]"
      ]
     },
     "execution_count": 4,
     "metadata": {},
     "output_type": "execute_result"
    }
   ],
   "source": [
    "list_int= [i for i in range(15)]\n",
    "\n",
    "def even_remover(input_list):\n",
    "    l=[]\n",
    "    for i in input_list:\n",
    "        if i%2 !=0 and i != 0:\n",
    "            l.append(i)\n",
    "    return l\n",
    "\n",
    "even_remover(list_int)"
   ]
  },
  {
   "cell_type": "markdown",
   "id": "06ca3485",
   "metadata": {
    "id": "06ca3485"
   },
   "source": [
    "### 13. Write a Python program to shuffle and print a specified list."
   ]
  },
  {
   "cell_type": "code",
   "execution_count": null,
   "id": "34ee5dd5",
   "metadata": {
    "id": "34ee5dd5",
    "outputId": "e7b91d79-539e-438a-ca43-198559384c00"
   },
   "outputs": [
    {
     "data": {
      "text/plain": [
       "[2, 3, 5, 7, 0, 9, 1, 8, 4, 6]"
      ]
     },
     "execution_count": 30,
     "metadata": {},
     "output_type": "execute_result"
    }
   ],
   "source": [
    "from random import shuffle\n",
    "l_int = [i for i in range(10)]\n",
    "\n",
    "def list_shuffle(input_list):\n",
    "    shuffle(input_list)\n",
    "    return input_list\n",
    "\n",
    "list_shuffle(l_int)"
   ]
  },
  {
   "cell_type": "markdown",
   "id": "65154714",
   "metadata": {
    "id": "65154714"
   },
   "source": [
    "### 14. Write a Python program to generate and print a list of first and last 5 elements square in range of numbers between 1 and 30 (both included)."
   ]
  },
  {
   "cell_type": "code",
   "execution_count": null,
   "id": "00a47893",
   "metadata": {
    "id": "00a47893",
    "outputId": "37727ff9-928c-4d2d-adb1-0c4fa1165838"
   },
   "outputs": [
    {
     "data": {
      "text/plain": [
       "[1, 4, 9, 16, 25, 676, 729, 784, 841, 900]"
      ]
     },
     "execution_count": 32,
     "metadata": {},
     "output_type": "execute_result"
    }
   ],
   "source": [
    "lint = [i for i in range(1,31)]\n",
    "\n",
    "def custom_square(input_list):\n",
    "    l=[]\n",
    "    for i in input_list[:5]+input_list[-5:]:\n",
    "        l.append(i**2)\n",
    "    return l\n",
    "\n",
    "custom_square(lint)"
   ]
  },
  {
   "cell_type": "markdown",
   "id": "f8a1c776",
   "metadata": {
    "id": "f8a1c776"
   },
   "source": [
    "### 15. Write a Python program to generate all permutations of a list in Python."
   ]
  },
  {
   "cell_type": "code",
   "execution_count": null,
   "id": "4e5897a9",
   "metadata": {
    "id": "4e5897a9",
    "outputId": "aaa858ea-4d3a-4d3d-806e-6926f1203291"
   },
   "outputs": [
    {
     "data": {
      "text/plain": [
       "[('Red', 'Yellow', 'Brown'),\n",
       " ('Red', 'Brown', 'Yellow'),\n",
       " ('Yellow', 'Red', 'Brown'),\n",
       " ('Yellow', 'Brown', 'Red'),\n",
       " ('Brown', 'Red', 'Yellow'),\n",
       " ('Brown', 'Yellow', 'Red')]"
      ]
     },
     "execution_count": 34,
     "metadata": {},
     "output_type": "execute_result"
    }
   ],
   "source": [
    "import itertools\n",
    "\n",
    "l=['Red', 'Yellow','Brown']\n",
    "\n",
    "def list_permutations(input_list):\n",
    "    return list(itertools.permutations(input_list))\n",
    "\n",
    "list_permutations(l)"
   ]
  },
  {
   "cell_type": "markdown",
   "id": "2be90e81",
   "metadata": {
    "id": "2be90e81"
   },
   "source": [
    "### 16.Write a Python program to get the difference between the two lists."
   ]
  },
  {
   "cell_type": "code",
   "execution_count": null,
   "id": "4c2219ec",
   "metadata": {
    "id": "4c2219ec",
    "outputId": "fa65925a-66cc-4533-d69b-053a1c870b35"
   },
   "outputs": [
    {
     "data": {
      "text/plain": [
       "[1, 4, 55, 5, 5, 6, 7, 8]"
      ]
     },
     "execution_count": 8,
     "metadata": {},
     "output_type": "execute_result"
    }
   ],
   "source": [
    "l1 = [1,2,3,4,55]\n",
    "l2 = [2,3,5,5,6,7,8]\n",
    "l3 = [\"shub\",\"simran\"]\n",
    "l4 = ['simran',\"Shashank\",'shobit']\n",
    "\n",
    "def difference_bw_lists(list1, list2):\n",
    "    l=[]\n",
    "    for member in list1:\n",
    "        if member in list2:\n",
    "            pass\n",
    "        else:\n",
    "            l.append(member)\n",
    "    for member in list2:\n",
    "        if member in list1:\n",
    "            pass\n",
    "        else:\n",
    "            l.append(member)\n",
    "    return list(l)\n",
    "\n",
    "difference_bw_lists(l1,l2)"
   ]
  },
  {
   "cell_type": "code",
   "execution_count": null,
   "id": "f42c8df0",
   "metadata": {
    "id": "f42c8df0",
    "outputId": "f552fb2e-7dc7-45c7-b8bb-d396269416cf"
   },
   "outputs": [
    {
     "data": {
      "text/plain": [
       "['shub', 'Shashank', 'shobit']"
      ]
     },
     "execution_count": 7,
     "metadata": {},
     "output_type": "execute_result"
    }
   ],
   "source": [
    "difference_bw_lists(l3,l4)"
   ]
  },
  {
   "cell_type": "markdown",
   "id": "7b87e92b",
   "metadata": {
    "id": "7b87e92b"
   },
   "source": [
    "### 17.Write a Python program to get the difference between the two lists(without duplicates)."
   ]
  },
  {
   "cell_type": "code",
   "execution_count": null,
   "id": "d4e42ca4",
   "metadata": {
    "id": "d4e42ca4",
    "outputId": "76d34227-4e09-4ab8-be65-58d1873a1898"
   },
   "outputs": [
    {
     "data": {
      "text/plain": [
       "[1, 4, 5, 6, 7, 8, 55]"
      ]
     },
     "execution_count": 10,
     "metadata": {},
     "output_type": "execute_result"
    }
   ],
   "source": [
    "l1 = [1,2,3,4,55]\n",
    "l2 = [2,3,5,5,6,7,8]\n",
    "\n",
    "\n",
    "def difference_bw_lists1(list1, list2):\n",
    "    l=[]\n",
    "    for member in list1:\n",
    "        if member in list2:\n",
    "            pass\n",
    "        else:\n",
    "            l.append(member)\n",
    "    for member in list2:\n",
    "        if member in list1:\n",
    "            pass\n",
    "        else:\n",
    "            l.append(member)\n",
    "    return list(set(l))\n",
    "\n",
    "difference_bw_lists1(l1,l2)"
   ]
  },
  {
   "cell_type": "markdown",
   "id": "847e74f1",
   "metadata": {
    "id": "847e74f1"
   },
   "source": [
    "### 18. Write a Python program access the index of a list."
   ]
  },
  {
   "cell_type": "code",
   "execution_count": null,
   "id": "c08b4cba",
   "metadata": {
    "id": "c08b4cba",
    "outputId": "14e8f3d8-ce02-421b-90e2-2397bba8dc14"
   },
   "outputs": [
    {
     "data": {
      "text/plain": [
       "[0, 1, 2, 3, 4, 5]"
      ]
     },
     "execution_count": 13,
     "metadata": {},
     "output_type": "execute_result"
    }
   ],
   "source": [
    "l = ['Red', 'Green', 'White', 'Black', 'Pink', 'Yellow']\n",
    "\n",
    "def index_extractor(input_list):\n",
    "    return [i for i in range(len(input_list))]\n",
    "\n",
    "index_extractor(l)"
   ]
  },
  {
   "cell_type": "markdown",
   "id": "5bf46289",
   "metadata": {
    "id": "5bf46289"
   },
   "source": [
    "### 19. Write a Python program to convert a list of characters into a string."
   ]
  },
  {
   "cell_type": "code",
   "execution_count": null,
   "id": "3faff825",
   "metadata": {
    "id": "3faff825",
    "outputId": "34a0503d-9800-48cb-8f1d-ab4d7692171b"
   },
   "outputs": [
    {
     "data": {
      "text/plain": [
       "'PYTHON'"
      ]
     },
     "execution_count": 17,
     "metadata": {},
     "output_type": "execute_result"
    }
   ],
   "source": [
    "l = [\"P\", \"Y\", \"T\", \"H\",\"O\",\"N\"]\n",
    "\n",
    "def list_char_to_string(input_list):\n",
    "    return \"\".join(input_list)\n",
    "\n",
    "list_char_to_string(l)"
   ]
  },
  {
   "cell_type": "markdown",
   "id": "a35428ca",
   "metadata": {
    "id": "a35428ca"
   },
   "source": [
    "### 20. Write a Python program to find the index of an item in a specified list."
   ]
  },
  {
   "cell_type": "code",
   "execution_count": null,
   "id": "4c2d6d2f",
   "metadata": {
    "id": "4c2d6d2f",
    "outputId": "035e2a22-ff29-4e9a-c098-e8635a7d1af2"
   },
   "outputs": [
    {
     "data": {
      "text/plain": [
       "'index of Yellow is 5'"
      ]
     },
     "execution_count": 28,
     "metadata": {},
     "output_type": "execute_result"
    }
   ],
   "source": [
    "l = ['Red', 'Green', 'White', 'Black', 'Pink', 'Yellow']\n",
    "\n",
    "def specific_index_list(input_list, input_item):\n",
    "    count=-1\n",
    "    for i in input_list:\n",
    "        count+=1\n",
    "        if i == input_item:\n",
    "            break\n",
    "    return \"index of {} is {}\".format(input_item,count)\n",
    "\n",
    "specific_index_list(l,'Yellow')"
   ]
  },
  {
   "cell_type": "code",
   "execution_count": null,
   "id": "d6627b9a",
   "metadata": {
    "id": "d6627b9a",
    "outputId": "3218e077-acd1-42e4-bfa3-80a27974d075"
   },
   "outputs": [
    {
     "data": {
      "text/plain": [
       "'index of Red is 0'"
      ]
     },
     "execution_count": 29,
     "metadata": {},
     "output_type": "execute_result"
    }
   ],
   "source": [
    "specific_index_list(l,'Red')"
   ]
  },
  {
   "cell_type": "markdown",
   "id": "ead79b32",
   "metadata": {
    "id": "ead79b32"
   },
   "source": [
    "### 21. Write a Python program to flatten a shallow list."
   ]
  },
  {
   "cell_type": "code",
   "execution_count": null,
   "id": "3bfebfda",
   "metadata": {
    "id": "3bfebfda",
    "outputId": "277a7878-c565-4225-c5f2-063417ea7d63"
   },
   "outputs": [
    {
     "data": {
      "text/plain": [
       "[1, 2, 3, 4, 5, 6, 7, 8, 9]"
      ]
     },
     "execution_count": 30,
     "metadata": {},
     "output_type": "execute_result"
    }
   ],
   "source": [
    "list_shallow = [[1,2,3],[4,5,6],[7,8,9]]\n",
    "\n",
    "def list_flattner(input_list):\n",
    "    l=[]\n",
    "    for i in input_list:\n",
    "        l += i\n",
    "    return l\n",
    "\n",
    "list_flattner(list_shallow)"
   ]
  },
  {
   "cell_type": "markdown",
   "id": "4520d65b",
   "metadata": {
    "id": "4520d65b"
   },
   "source": [
    "### 22. Write a Python program to append a list to the second list."
   ]
  },
  {
   "cell_type": "code",
   "execution_count": null,
   "id": "8a84a03e",
   "metadata": {
    "id": "8a84a03e",
    "outputId": "9523778a-5c85-4836-fc06-245e4c7b2e1b"
   },
   "outputs": [
    {
     "data": {
      "text/plain": [
       "[1, 2, 3, 45, 4, 44, 55, 66, 77, 88]"
      ]
     },
     "execution_count": 31,
     "metadata": {},
     "output_type": "execute_result"
    }
   ],
   "source": [
    "l1 = [1,2,3,45,4]\n",
    "l2 = [44,55,66,77,88]\n",
    "\n",
    "def list_appender(in_list1, in_list2):\n",
    "    return in_list1+in_list2\n",
    "\n",
    "list_appender(l1,l2)"
   ]
  },
  {
   "cell_type": "markdown",
   "id": "222fde7c",
   "metadata": {
    "id": "222fde7c"
   },
   "source": [
    "### 23. Write a Python program to select an item randomly from a list."
   ]
  },
  {
   "cell_type": "code",
   "execution_count": null,
   "id": "f624cfa1",
   "metadata": {
    "id": "f624cfa1",
    "outputId": "1fd96746-7244-4475-bbdc-c69ebbe87981"
   },
   "outputs": [
    {
     "data": {
      "text/plain": [
       "'Mayank'"
      ]
     },
     "execution_count": 22,
     "metadata": {},
     "output_type": "execute_result"
    }
   ],
   "source": [
    "import random\n",
    "\n",
    "list1 = [1,2,3,4,5,\"Debal\", \"Mayank\"]\n",
    "\n",
    "def item_random_list(input_list):\n",
    "    return random.choice(input_list)\n",
    "\n",
    "item_random_list(list1)"
   ]
  },
  {
   "cell_type": "markdown",
   "id": "2dc76be9",
   "metadata": {
    "id": "2dc76be9"
   },
   "source": [
    "### 24.Write a Python program to find the second smallest number in a list."
   ]
  },
  {
   "cell_type": "code",
   "execution_count": null,
   "id": "01dd268b",
   "metadata": {
    "id": "01dd268b",
    "outputId": "9df042cb-832f-4f89-cf3c-9ab4e4ecedcb"
   },
   "outputs": [
    {
     "data": {
      "text/plain": [
       "2"
      ]
     },
     "execution_count": 40,
     "metadata": {},
     "output_type": "execute_result"
    }
   ],
   "source": [
    "l = [33,45,67,89,1,2,3,4,55,66,789]\n",
    "\n",
    "def second_smallest(input_list):\n",
    "    return sorted(input_list)[1]\n",
    "\n",
    "second_smallest(l)"
   ]
  },
  {
   "cell_type": "markdown",
   "id": "6dc6d6ce",
   "metadata": {
    "id": "6dc6d6ce"
   },
   "source": [
    "### 25. Write a Python program to find the second largest number in a list."
   ]
  },
  {
   "cell_type": "code",
   "execution_count": null,
   "id": "d5a11a59",
   "metadata": {
    "id": "d5a11a59",
    "outputId": "32f991dd-b29d-4b34-82a6-b03b07fe7a1f"
   },
   "outputs": [
    {
     "data": {
      "text/plain": [
       "686"
      ]
     },
     "execution_count": 42,
     "metadata": {},
     "output_type": "execute_result"
    }
   ],
   "source": [
    "l = [33,45,67,89,1,2,3,4,55,686,789]\n",
    "\n",
    "def second_largest(input_list):\n",
    "    return sorted(input_list, reverse=True)[1]\n",
    "\n",
    "second_largest(l)"
   ]
  },
  {
   "cell_type": "markdown",
   "id": "a922a081",
   "metadata": {
    "id": "a922a081"
   },
   "source": [
    "### 26. Write a Python program to get unique values from a list."
   ]
  },
  {
   "cell_type": "code",
   "execution_count": null,
   "id": "162370a8",
   "metadata": {
    "id": "162370a8",
    "outputId": "e7f48146-7b1e-483c-a217-4055868b7ea7"
   },
   "outputs": [
    {
     "data": {
      "text/plain": [
       "[1, 2, 3, 4, 5, 6, 88]"
      ]
     },
     "execution_count": 43,
     "metadata": {},
     "output_type": "execute_result"
    }
   ],
   "source": [
    "l = [1,1,2,2,3,3,4,4,5,5,5,6,6,6,88]\n",
    "\n",
    "def list_unique(input_list):\n",
    "    return list(set(input_list))\n",
    "\n",
    "list_unique(l)"
   ]
  },
  {
   "cell_type": "markdown",
   "id": "d99b1a18",
   "metadata": {
    "id": "d99b1a18"
   },
   "source": [
    "### 27. Write a Python program to get the frequency of the elements in a list."
   ]
  },
  {
   "cell_type": "code",
   "execution_count": null,
   "id": "836529e1",
   "metadata": {
    "id": "836529e1",
    "outputId": "d3bf8c0c-642f-42eb-c598-005e1dc3bd01"
   },
   "outputs": [
    {
     "data": {
      "text/plain": [
       "[(1, 2), (2, 2), (3, 2), (4, 2), (5, 3), (6, 3), (88, 1)]"
      ]
     },
     "execution_count": 46,
     "metadata": {},
     "output_type": "execute_result"
    }
   ],
   "source": [
    "list1 = [1,1,2,2,3,3,4,4,5,5,5,6,6,6,88]\n",
    "\n",
    "def element_counter(input_list):\n",
    "    l = []\n",
    "    for i in set(input_list):\n",
    "        l.append((i, input_list.count(i)))\n",
    "    return l\n",
    "\n",
    "element_counter(list1)"
   ]
  },
  {
   "cell_type": "markdown",
   "id": "6ce32da0",
   "metadata": {
    "id": "6ce32da0"
   },
   "source": [
    "### (SKIP) 28. Write a Python program to count the number of elements in a list within a specified range."
   ]
  },
  {
   "cell_type": "code",
   "execution_count": null,
   "id": "7f1882eb",
   "metadata": {
    "id": "7f1882eb",
    "outputId": "588e9976-9ed0-4155-a614-88c73ea02c8c"
   },
   "outputs": [
    {
     "data": {
      "text/plain": [
       "8"
      ]
     },
     "execution_count": 49,
     "metadata": {},
     "output_type": "execute_result"
    }
   ],
   "source": [
    "l = [1,2,3,4,5,6,7,8,9,10]\n",
    "\n",
    "def element_counter_range(input_list, start, end):\n",
    "    count = 0\n",
    "    for element in input_list:\n",
    "        if element > start and element < end:\n",
    "            count +=1\n",
    "    return count\n",
    "\n",
    "element_counter_range(l,1,10)"
   ]
  },
  {
   "cell_type": "markdown",
   "id": "c5cce0d2",
   "metadata": {
    "id": "c5cce0d2"
   },
   "source": [
    "### 29. Write a Python program to check whether a list contains a sublist."
   ]
  },
  {
   "cell_type": "code",
   "execution_count": null,
   "id": "0f666ab2",
   "metadata": {
    "id": "0f666ab2",
    "outputId": "b5a4bf20-444a-4fbc-ea7f-f77453291d86"
   },
   "outputs": [
    {
     "data": {
      "text/plain": [
       "'Sublist present inside the given list'"
      ]
     },
     "execution_count": 51,
     "metadata": {},
     "output_type": "execute_result"
    }
   ],
   "source": [
    "l= [[1,2,3],4,6,'shubham']\n",
    "l2 = [1,2,3,4,5,6]\n",
    "\n",
    "def sublist_checker(input_list):\n",
    "    for i in input_list:\n",
    "        if type(i) == list:\n",
    "            return \"Sublist present inside the given list\"\n",
    "        else:\n",
    "            return \"Sublist is not present inside the given list\"\n",
    "\n",
    "sublist_checker(l)"
   ]
  },
  {
   "cell_type": "code",
   "execution_count": null,
   "id": "5b1fdde0",
   "metadata": {
    "id": "5b1fdde0",
    "outputId": "537f0a18-e210-446b-bb80-5e48ddf31fa4"
   },
   "outputs": [
    {
     "data": {
      "text/plain": [
       "'Sublist is not present inside the given list'"
      ]
     },
     "execution_count": 52,
     "metadata": {},
     "output_type": "execute_result"
    }
   ],
   "source": [
    "sublist_checker(l2)"
   ]
  },
  {
   "cell_type": "markdown",
   "id": "905ad2d4",
   "metadata": {
    "id": "905ad2d4"
   },
   "source": [
    "### (SKIP) 30. Write a Python program to generate all sublists of a list."
   ]
  },
  {
   "cell_type": "code",
   "execution_count": null,
   "id": "3bbf3d0b",
   "metadata": {
    "id": "3bbf3d0b",
    "outputId": "f110d9cd-a39b-43fb-fa85-585efbae5a22"
   },
   "outputs": [
    {
     "data": {
      "text/plain": [
       "[[],\n",
       " ['Mansi'],\n",
       " ['Shahida'],\n",
       " [1],\n",
       " [2],\n",
       " ['Mansi', 'Shahida'],\n",
       " ['Mansi', 1],\n",
       " ['Mansi', 2],\n",
       " ['Shahida', 1],\n",
       " ['Shahida', 2],\n",
       " [1, 2],\n",
       " ['Mansi', 'Shahida', 1],\n",
       " ['Mansi', 'Shahida', 2],\n",
       " ['Mansi', 1, 2],\n",
       " ['Shahida', 1, 2],\n",
       " ['Mansi', 'Shahida', 1, 2]]"
      ]
     },
     "execution_count": 23,
     "metadata": {},
     "output_type": "execute_result"
    }
   ],
   "source": [
    "list1 = [\"Mansi\", \"Shahida\",1,2]\n",
    "\n",
    "from itertools import combinations\n",
    "def sublist_finder(input_list):\n",
    "    l = []\n",
    "    for i in range(0, len(input_list)+1):\n",
    "        temp = [list(x) for x in combinations(input_list,i)]\n",
    "        if len(temp)>0:\n",
    "            l.extend(temp)\n",
    "    return l\n",
    "\n",
    "sublist_finder(list1)"
   ]
  },
  {
   "cell_type": "markdown",
   "id": "fb1b9cf7",
   "metadata": {
    "id": "fb1b9cf7"
   },
   "source": [
    "### 31. Write a Python program to convert 2 lists of same length to dictionary."
   ]
  },
  {
   "cell_type": "code",
   "execution_count": null,
   "id": "386f8eae",
   "metadata": {
    "id": "386f8eae"
   },
   "outputs": [],
   "source": [
    "def list_to_dict(in_l1, in_l2):\n",
    "    if len(in_l1) != len(in_l2):\n",
    "        return \"Error: Lists must be of the same length\"\n",
    "\n",
    "    d = {}\n",
    "    for key, value in zip(in_l1, in_l2):\n",
    "        d[key] = value\n",
    "    return d\n",
    "\n",
    "name    = [\"Arun\", \"Mayank\", \"Atishay\"]\n",
    "surname = [\"Verma\",\"Vajpayee\",\"Jain\"]\n",
    "\n",
    "result = list_to_dict(name, surname)\n",
    "print(result)\n"
   ]
  },
  {
   "cell_type": "markdown",
   "id": "1440e75a",
   "metadata": {
    "id": "1440e75a"
   },
   "source": [
    "### (SKIP) 32. Write a Python program to create a list by concatenating a given list which range goes from 1 to n."
   ]
  },
  {
   "cell_type": "code",
   "execution_count": null,
   "id": "f6f634b5",
   "metadata": {
    "id": "f6f634b5",
    "outputId": "32849247-05ba-44f2-8239-5634d1d60411"
   },
   "outputs": [
    {
     "data": {
      "text/plain": [
       "['india 1', 'india 2', 'india 3', 'russia 1', 'russia 2', 'russia 3']"
      ]
     },
     "execution_count": 60,
     "metadata": {},
     "output_type": "execute_result"
    }
   ],
   "source": [
    "list1 = ['india','russia']\n",
    "\n",
    "def list_custom(input_list,n):\n",
    "    return [\"{} {}\".format(a,b) for a in input_list for b in range(1,n+1) ]\n",
    "\n",
    "list_custom(list1,3)"
   ]
  },
  {
   "cell_type": "markdown",
   "id": "30e27720",
   "metadata": {
    "id": "30e27720"
   },
   "source": [
    "### (SKIP) 33. Write a Python program to sort a list of nested dictionaries."
   ]
  },
  {
   "cell_type": "code",
   "execution_count": null,
   "id": "44dcc870",
   "metadata": {
    "id": "44dcc870",
    "outputId": "7eb91589-211d-4d1e-dadc-79958706c09c"
   },
   "outputs": [
    {
     "data": {
      "text/plain": [
       "[{'Name': {'Surname': 2}}, {'Name': {'Surname': 3}}, {'Name': {'Surname': 99}}]"
      ]
     },
     "execution_count": 82,
     "metadata": {},
     "output_type": "execute_result"
    }
   ],
   "source": [
    "d = [{'Name':{'Surname': 3}}, {'Name':{'Surname': 2}}, {'Name':{'Surname': 99}}]\n",
    "\n",
    "def list_nested_dict_sort(in_dict):\n",
    "    in_dict.sort(key=lambda x: x['Name']['Surname'])\n",
    "    return in_dict\n",
    "\n",
    "list_nested_dict_sort(d)"
   ]
  },
  {
   "cell_type": "markdown",
   "id": "6e1270dc",
   "metadata": {
    "id": "6e1270dc"
   },
   "source": [
    "### 34. Write a Python program to find common items from two lists."
   ]
  },
  {
   "cell_type": "code",
   "execution_count": null,
   "id": "3f6e4b99",
   "metadata": {
    "id": "3f6e4b99",
    "outputId": "debc0a5a-d470-488c-9250-7d44d813cf06"
   },
   "outputs": [
    {
     "data": {
      "text/plain": [
       "['shubham', 'sameer']"
      ]
     },
     "execution_count": 83,
     "metadata": {},
     "output_type": "execute_result"
    }
   ],
   "source": [
    "name = [\"shubham\", \"sameer\", \"pratiksha\"]\n",
    "name1 = [\"shubham\",\"prathiba\",\"sameer\"]\n",
    "\n",
    "def common_list_item(in_l1, in_l2):\n",
    "    l = []\n",
    "    for i in in_l1:\n",
    "        if i in in_l2:\n",
    "            l.append(i)\n",
    "    return l\n",
    "\n",
    "common_list_item(name, name1)"
   ]
  },
  {
   "cell_type": "markdown",
   "id": "14b246ce",
   "metadata": {
    "id": "14b246ce"
   },
   "source": [
    "### (SKIP) 35. Write a Python program to split a list in N parts."
   ]
  },
  {
   "cell_type": "code",
   "execution_count": null,
   "id": "80e03c9b",
   "metadata": {
    "id": "80e03c9b",
    "outputId": "7dcda0c2-720b-42e5-8a5e-94f35f1593c4"
   },
   "outputs": [
    {
     "data": {
      "text/plain": [
       "[[1, 3, 5, 7, 9], [2, 4, 6, 8, 10]]"
      ]
     },
     "execution_count": 90,
     "metadata": {},
     "output_type": "execute_result"
    }
   ],
   "source": [
    "l = [1,2,3,4,5,6,7,8,9, 10]\n",
    "\n",
    "def custom_split_element(in_list, element_split):\n",
    "    return [in_list[i::element_split] for i in range(element_split)]\n",
    "\n",
    "custom_split_element(l,2)"
   ]
  },
  {
   "cell_type": "markdown",
   "id": "6d523ffc",
   "metadata": {
    "id": "6d523ffc"
   },
   "source": [
    "### 36. Write a Python program to convert a list of multiple integers into a single integer."
   ]
  },
  {
   "cell_type": "code",
   "execution_count": null,
   "id": "a7bd6ba1",
   "metadata": {
    "id": "a7bd6ba1",
    "outputId": "fdfa1929-59a9-4a15-de6d-ac21abf88212"
   },
   "outputs": [
    {
     "data": {
      "text/plain": [
       "'11223344'"
      ]
     },
     "execution_count": 93,
     "metadata": {},
     "output_type": "execute_result"
    }
   ],
   "source": [
    "l = [11,22,33,44]\n",
    "\n",
    "def list_int_to_int(input_list):\n",
    "    string = \"\"\n",
    "    for i in input_list:\n",
    "        string+= str(i)\n",
    "    return string\n",
    "\n",
    "list_int_to_int(l)"
   ]
  },
  {
   "cell_type": "markdown",
   "id": "4afa4b06",
   "metadata": {
    "id": "4afa4b06"
   },
   "source": [
    "### 37. Write a Python program to split a list based on first character of word and return character and word."
   ]
  },
  {
   "cell_type": "code",
   "execution_count": null,
   "id": "da93dda1",
   "metadata": {
    "id": "da93dda1",
    "outputId": "364388f2-8eac-49bf-c1ce-0e0bee83a5c7"
   },
   "outputs": [
    {
     "name": "stdout",
     "output_type": "stream",
     "text": [
      "S Shubham\n",
      "S Sameer\n",
      "S Sushant\n"
     ]
    }
   ],
   "source": [
    "l = [\"Shubham\", \"Sameer\", \"Sushant\"]\n",
    "\n",
    "def custom_split_1(in_list):\n",
    "    for i in in_list:\n",
    "        print(i[0], i)\n",
    "\n",
    "custom_split_1(l)"
   ]
  },
  {
   "cell_type": "markdown",
   "id": "acc12cb1",
   "metadata": {
    "id": "acc12cb1"
   },
   "source": [
    "### (SKIP) 38. Write a Python program to create dictionary multiple empty lists."
   ]
  },
  {
   "cell_type": "code",
   "execution_count": null,
   "id": "19ea91b9",
   "metadata": {
    "id": "19ea91b9",
    "outputId": "62c731e6-8d79-4f79-ff11-016d2289d344"
   },
   "outputs": [
    {
     "data": {
      "text/plain": [
       "{1: [], 2: [], 3: [], 4: []}"
      ]
     },
     "execution_count": 98,
     "metadata": {},
     "output_type": "execute_result"
    }
   ],
   "source": [
    "def empty_list_gen(n):\n",
    "    d={}\n",
    "    for i in range(1,n+1):\n",
    "        d[i]= []\n",
    "    return d\n",
    "\n",
    "empty_list_gen(4)"
   ]
  },
  {
   "cell_type": "markdown",
   "id": "691be37b",
   "metadata": {
    "id": "691be37b"
   },
   "source": [
    "### (SKIP) 39. Write a Python program to find missing and additional values in two lists."
   ]
  },
  {
   "cell_type": "code",
   "execution_count": null,
   "id": "294b2d49",
   "metadata": {
    "id": "294b2d49"
   },
   "outputs": [],
   "source": [
    "def find_missing_and_additional(list1, list2):\n",
    "    set1 = set(list1)\n",
    "    set2 = set(list2)\n",
    "\n",
    "    missing_in_list2 = set1 - set2\n",
    "    additional_in_list2 = set2 - set1\n",
    "\n",
    "    return list(missing_in_list2), list(additional_in_list2)\n"
   ]
  },
  {
   "cell_type": "code",
   "execution_count": null,
   "id": "f1d085f3",
   "metadata": {
    "id": "f1d085f3",
    "outputId": "c4c42e68-7884-4ae5-c464-5170f28aa443"
   },
   "outputs": [
    {
     "name": "stdout",
     "output_type": "stream",
     "text": [
      "Missing values in list2: [1, 5]\n",
      "Additional values in list2: [6, 7]\n"
     ]
    }
   ],
   "source": [
    "list1 = [1, 2, 3, 4, 5]\n",
    "list2 = [2, 3, 4, 6, 7]\n",
    "\n",
    "missing, additional = find_missing_and_additional(list1, list2)\n",
    "print(\"Missing values in list2:\", missing)\n",
    "print(\"Additional values in list2:\", additional)"
   ]
  },
  {
   "cell_type": "markdown",
   "id": "fa6db9ce",
   "metadata": {
    "id": "fa6db9ce"
   },
   "source": [
    "### (SKIP) 40. Write a Python program to check if all items of a given list of strings is equal to a given string."
   ]
  },
  {
   "cell_type": "code",
   "execution_count": null,
   "id": "d498fdba",
   "metadata": {
    "id": "d498fdba",
    "outputId": "f4a52fb5-1225-4279-e1df-a70761494f38"
   },
   "outputs": [
    {
     "data": {
      "text/plain": [
       "False"
      ]
     },
     "execution_count": 105,
     "metadata": {},
     "output_type": "execute_result"
    }
   ],
   "source": [
    "l1 = [1,2,3,4,5]\n",
    "l2 = [1,1,1,1,1]\n",
    "\n",
    "def list_string_checker(input_list, element):\n",
    "    return all(x == element for x in input_list)\n",
    "\n",
    "list_string_checker(l1,1)"
   ]
  },
  {
   "cell_type": "code",
   "execution_count": null,
   "id": "355b5d09",
   "metadata": {
    "id": "355b5d09",
    "outputId": "53b50f87-9283-4698-88ec-42e40f590b71"
   },
   "outputs": [
    {
     "data": {
      "text/plain": [
       "True"
      ]
     },
     "execution_count": 106,
     "metadata": {},
     "output_type": "execute_result"
    }
   ],
   "source": [
    "list_string_checker(l2,1)"
   ]
  },
  {
   "cell_type": "markdown",
   "id": "d5a1f266",
   "metadata": {
    "id": "d5a1f266"
   },
   "source": [
    "### (SKIP) 41. Write a Python program to generate groups of five consecutive numbers in a list."
   ]
  },
  {
   "cell_type": "code",
   "execution_count": null,
   "id": "34ed8c1c",
   "metadata": {
    "id": "34ed8c1c",
    "outputId": "8ea4086c-8f91-436c-8fcf-d66fbebe90c3"
   },
   "outputs": [
    {
     "data": {
      "text/plain": [
       "[[5, 6, 7, 8, 9],\n",
       " [10, 11, 12, 13, 14],\n",
       " [15, 16, 17, 18, 19],\n",
       " [20, 21, 22, 23, 24],\n",
       " [25, 26, 27, 28, 29]]"
      ]
     },
     "execution_count": 110,
     "metadata": {},
     "output_type": "execute_result"
    }
   ],
   "source": [
    "def consecutive_list_gen(start_number):\n",
    "    return [[5*i + j for j in range(start_number,start_number +5)] for i in range(5)]\n",
    "\n",
    "consecutive_list_gen(5)"
   ]
  },
  {
   "cell_type": "markdown",
   "id": "56d62656",
   "metadata": {
    "id": "56d62656"
   },
   "source": [
    "### (SKIP) 42. Write a Python program to convert a pair of values into a sorted unique array."
   ]
  },
  {
   "cell_type": "code",
   "execution_count": null,
   "id": "d27e4e64",
   "metadata": {
    "id": "d27e4e64",
    "outputId": "a0b0781e-46e5-4e52-ade0-53908325976b"
   },
   "outputs": [
    {
     "data": {
      "text/plain": [
       "[-3, 1, 2, 3, 4, 5, 10]"
      ]
     },
     "execution_count": 32,
     "metadata": {},
     "output_type": "execute_result"
    }
   ],
   "source": [
    "l_int= [(1,2),(2,10),(3,-3),(4,5)]\n",
    "\n",
    "def custom_list_sorted_unique(input_list):\n",
    "    return sorted(set().union(*input_list))\n",
    "\n",
    "custom_list_sorted_unique(l_int)"
   ]
  },
  {
   "cell_type": "markdown",
   "id": "c96fb752",
   "metadata": {
    "id": "c96fb752"
   },
   "source": [
    "### 43. Write a Python program to select the odd items of a list."
   ]
  },
  {
   "cell_type": "code",
   "execution_count": null,
   "id": "55c940a3",
   "metadata": {
    "id": "55c940a3",
    "outputId": "0beb9d5b-c20a-48f0-8a4a-43c1ff525755"
   },
   "outputs": [
    {
     "data": {
      "text/plain": [
       "['Red', 'Green', 'Brown']"
      ]
     },
     "execution_count": 113,
     "metadata": {},
     "output_type": "execute_result"
    }
   ],
   "source": [
    "l = ['Red', 'Blue', 'Green', 'Pink', 'Brown']\n",
    "\n",
    "def odd_element_picker_list(input_list):\n",
    "    return input_list[::2]\n",
    "\n",
    "odd_element_picker_list(l)"
   ]
  },
  {
   "cell_type": "markdown",
   "id": "d8a3d5a0",
   "metadata": {
    "id": "d8a3d5a0"
   },
   "source": [
    "### (SKIP) 44. Write a Python program to insert an element before each element of a list."
   ]
  },
  {
   "cell_type": "code",
   "execution_count": null,
   "id": "0384b72e",
   "metadata": {
    "id": "0384b72e",
    "outputId": "5e8c1667-634e-4e72-98b2-c3f8bc6b186f"
   },
   "outputs": [
    {
     "data": {
      "text/plain": [
       "['sameer', 1, 'sameer', 2, 'sameer', 3, 'sameer', 4, 'sameer', 5]"
      ]
     },
     "execution_count": 115,
     "metadata": {},
     "output_type": "execute_result"
    }
   ],
   "source": [
    "list1 =[1,2,3,4,5]\n",
    "\n",
    "def element_insert(in_list, element):\n",
    "    return [comb for i in in_list for comb in (element, i)]\n",
    "\n",
    "element_insert(list1, \"sameer\")"
   ]
  },
  {
   "cell_type": "markdown",
   "id": "3767f251",
   "metadata": {
    "id": "3767f251"
   },
   "source": [
    "### 45. Write a Python program to print a nested lists (each list on a new line) using the print() function."
   ]
  },
  {
   "cell_type": "code",
   "execution_count": null,
   "id": "220735ce",
   "metadata": {
    "id": "220735ce",
    "outputId": "9320dd22-085e-4fdd-f2d8-355f584a472d"
   },
   "outputs": [
    {
     "name": "stdout",
     "output_type": "stream",
     "text": [
      "['Shubham']\n",
      "['Sameer']\n",
      "['Brijesh']\n",
      "['Sandesh']\n"
     ]
    }
   ],
   "source": [
    "names = [['Shubham'], ['Sameer'], ['Brijesh'], ['Sandesh']]\n",
    "\n",
    "def custom_print_list(in_list):\n",
    "    print('\\n'.join([str(i) for i in in_list]))\n",
    "\n",
    "custom_print_list(names)"
   ]
  },
  {
   "cell_type": "markdown",
   "id": "12d40f75",
   "metadata": {
    "id": "12d40f75"
   },
   "source": [
    "### (SKIP) 46. Write a Python program to convert list to list of dictionaries."
   ]
  },
  {
   "cell_type": "code",
   "execution_count": null,
   "id": "1c243c36",
   "metadata": {
    "id": "1c243c36",
    "outputId": "6bcaf7cf-9db6-4b1e-f4de-3cfdf36a06f1"
   },
   "outputs": [
    {
     "data": {
      "text/plain": [
       "[{'key': 'Mayank', 'value': 'Khera'},\n",
       " {'key': 'Virat', 'value': 'Kohli'},\n",
       " {'key': 'Sachin', 'value': 'Tendulkar'}]"
      ]
     },
     "execution_count": 33,
     "metadata": {},
     "output_type": "execute_result"
    }
   ],
   "source": [
    "name = [\"Mayank\", \"Virat\", \"Sachin\"]\n",
    "surname = [\"Khera\",\"Kohli\",\"Tendulkar\"]\n",
    "\n",
    "def list_to_listdict(in_l1, in_l2):\n",
    "    return [{'key': key, 'value': value} for key,value in zip(in_l1, in_l2)]\n",
    "\n",
    "list_to_listdict(name, surname)"
   ]
  },
  {
   "cell_type": "markdown",
   "id": "f8fc7cfc",
   "metadata": {
    "id": "f8fc7cfc"
   },
   "source": [
    "### 47. Write a Python program to compute the difference between two lists."
   ]
  },
  {
   "cell_type": "code",
   "execution_count": null,
   "id": "3c174991",
   "metadata": {
    "id": "3c174991",
    "outputId": "7e472024-03b8-4a78-bf63-a2d11bdb170a"
   },
   "outputs": [
    {
     "data": {
      "text/plain": [
       "[1, 6]"
      ]
     },
     "execution_count": 120,
     "metadata": {},
     "output_type": "execute_result"
    }
   ],
   "source": [
    "l1 = [1,2,3,4,5]\n",
    "l2 = [2,3,4,5,6]\n",
    "\n",
    "def difference_list(in_l1, in_l2):\n",
    "    l=[]\n",
    "    for i in in_l1:\n",
    "        if i not in in_l2:\n",
    "            l.append(i)\n",
    "    for i in in_l2:\n",
    "        if i not in in_l1:\n",
    "            l.append(i)\n",
    "    return l\n",
    "\n",
    "difference_list(l1,l2)"
   ]
  },
  {
   "cell_type": "markdown",
   "id": "3f0c9d43",
   "metadata": {
    "id": "3f0c9d43"
   },
   "source": [
    "### 48. Write a Python program to concatenate elements of a list."
   ]
  },
  {
   "cell_type": "code",
   "execution_count": null,
   "id": "0f65b9f1",
   "metadata": {
    "id": "0f65b9f1",
    "outputId": "4b27bfb3-d294-45ff-8e4f-463094b78854"
   },
   "outputs": [
    {
     "data": {
      "text/plain": [
       "'HelloWorld'"
      ]
     },
     "execution_count": 35,
     "metadata": {},
     "output_type": "execute_result"
    }
   ],
   "source": [
    "l_str = [\"Hello\", \"World\"]\n",
    "\n",
    "def concatenate_list_element(in_list):\n",
    "    string = \"\"\n",
    "    for i in in_list:\n",
    "        if type(i) == int:\n",
    "            string += str(i)\n",
    "        else:\n",
    "            string += str(i)\n",
    "\n",
    "    return string\n",
    "\n",
    "concatenate_list_element(l_str)"
   ]
  },
  {
   "cell_type": "code",
   "execution_count": null,
   "id": "d43b12c1",
   "metadata": {
    "id": "d43b12c1",
    "outputId": "081d1406-8e4e-4d61-9653-1de2f6ba7a3d"
   },
   "outputs": [
    {
     "data": {
      "text/plain": [
       "'12345'"
      ]
     },
     "execution_count": 36,
     "metadata": {},
     "output_type": "execute_result"
    }
   ],
   "source": [
    "l = [1,2,3,4,5]\n",
    "concatenate_list_element(l)"
   ]
  },
  {
   "cell_type": "markdown",
   "id": "41279ebb",
   "metadata": {
    "id": "41279ebb"
   },
   "source": [
    "### 49. Write a Python program to check if all items of a given list of strings is equal to a given string."
   ]
  },
  {
   "cell_type": "code",
   "execution_count": null,
   "id": "f6b14aa7",
   "metadata": {
    "id": "f6b14aa7",
    "outputId": "abfa31e3-7d6a-45d4-a644-794ca969df8e"
   },
   "outputs": [
    {
     "data": {
      "text/plain": [
       "True"
      ]
     },
     "execution_count": 128,
     "metadata": {},
     "output_type": "execute_result"
    }
   ],
   "source": [
    "l = [\"Cat\",\"Hat\", \"Bat\", \"Mat\"]\n",
    "l1 = [\"Cat\",\"Hat\", \"Bats\", \"Mats\"]\n",
    "\n",
    "def string_length_checker(in_list, element):\n",
    "    return all(len(x) == len(element) for x in in_list)\n",
    "\n",
    "string_length_checker(l, \"car\")"
   ]
  },
  {
   "cell_type": "code",
   "execution_count": null,
   "id": "7b6c029d",
   "metadata": {
    "id": "7b6c029d",
    "outputId": "390157a1-7f40-432b-874b-ef196cef81d8"
   },
   "outputs": [
    {
     "data": {
      "text/plain": [
       "False"
      ]
     },
     "execution_count": 127,
     "metadata": {},
     "output_type": "execute_result"
    }
   ],
   "source": [
    "string_length_checker(l1,\"car\")"
   ]
  },
  {
   "cell_type": "markdown",
   "id": "90028120",
   "metadata": {
    "id": "90028120"
   },
   "source": [
    "### 50. Write a Python program to replace the last element in a list with another list."
   ]
  },
  {
   "cell_type": "code",
   "execution_count": null,
   "id": "aa70197c",
   "metadata": {
    "id": "aa70197c",
    "outputId": "b2fae453-f10b-4072-9d64-3534a58d85e9"
   },
   "outputs": [
    {
     "data": {
      "text/plain": [
       "[1, 2, 3, 4, 5, 6, 7, 8, 9, 'Red', 'Blue', 'Green']"
      ]
     },
     "execution_count": 130,
     "metadata": {},
     "output_type": "execute_result"
    }
   ],
   "source": [
    "l = [1,2,3,4,5,6,7,8,9,10]\n",
    "l_to_replace = [\"Red\", \"Blue\", \"Green\"]\n",
    "\n",
    "def custom_replace(in_list, rep_list):\n",
    "    in_list[-1:] = rep_list\n",
    "    return in_list\n",
    "\n",
    "custom_replace(l, l_to_replace)"
   ]
  }
 ],
 "metadata": {
  "colab": {
   "provenance": []
  },
  "kernelspec": {
   "display_name": "Python 3 (ipykernel)",
   "language": "python",
   "name": "python3"
  },
  "language_info": {
   "codemirror_mode": {
    "name": "ipython",
    "version": 3
   },
   "file_extension": ".py",
   "mimetype": "text/x-python",
   "name": "python",
   "nbconvert_exporter": "python",
   "pygments_lexer": "ipython3",
   "version": "3.9.9"
  }
 },
 "nbformat": 4,
 "nbformat_minor": 5
}
