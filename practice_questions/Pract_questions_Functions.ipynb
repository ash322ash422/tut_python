{
 "cells": [
  {
   "cell_type": "markdown",
   "id": "11f7d01f",
   "metadata": {
    "id": "11f7d01f"
   },
   "source": [
    "# Python Function"
   ]
  },
  {
   "cell_type": "markdown",
   "id": "088c401f",
   "metadata": {
    "id": "088c401f"
   },
   "source": [
    "Python Functions is a block of statements that return the specific task."
   ]
  },
  {
   "cell_type": "markdown",
   "id": "f3c67158",
   "metadata": {
    "id": "f3c67158"
   },
   "source": [
    "The idea is to put some commonly or repeatedly done tasks together and make a function so that instead of writing the same code again and again for different inputs, we can do the function calls to reuse code contained in it over and over again."
   ]
  },
  {
   "cell_type": "markdown",
   "id": "804de00b-c428-4aed-875c-a799095775c8",
   "metadata": {},
   "source": [
    "##  1) Write a function to sum all the items in a list\n",
    "l = [5,6,7,2]"
   ]
  },
  {
   "cell_type": "code",
   "execution_count": 1,
   "id": "40d9eec3-6539-4441-948c-38bd3e17dbb2",
   "metadata": {},
   "outputs": [
    {
     "name": "stdout",
     "output_type": "stream",
     "text": [
      "--- 5\n",
      "--- 11\n",
      "--- 18\n",
      "--- 20\n",
      "20\n"
     ]
    }
   ],
   "source": [
    "numbers = [5, 6, 7, 2]\n",
    "\n",
    "#STEP1: Check if logic works without using function TODO\n",
    "sum = 0\n",
    "for i in numbers:\n",
    "    sum = sum + i\n",
    "    print(\"---\",sum)\n",
    "\n",
    "print(sum)"
   ]
  },
  {
   "cell_type": "code",
   "execution_count": null,
   "id": "afc69cd8-0bcd-4073-b1c5-95ce63979d30",
   "metadata": {},
   "outputs": [],
   "source": [
    "# STEP2: If logic worked, then put the logic inside the function\n",
    "\n",
    "def sum(numbers): \n",
    "    sum = 0\n",
    "    for i in numbers:\n",
    "        sum = sum + i\n",
    "    return sum\n",
    "\n",
    "res = sum(numbers)\n",
    "print(res)"
   ]
  },
  {
   "cell_type": "markdown",
   "id": "ed488d20-58dd-4d91-9640-37f0422db90c",
   "metadata": {},
   "source": [
    "## 1.1) Write a function to multiply all the items in a list.\n",
    "numbers = [4,7,3,5]"
   ]
  },
  {
   "cell_type": "code",
   "execution_count": 2,
   "id": "df400a67-70c4-413a-b3e7-8fb9a59a903c",
   "metadata": {},
   "outputs": [
    {
     "name": "stdout",
     "output_type": "stream",
     "text": [
      "-84\n"
     ]
    }
   ],
   "source": [
    "numbers = [4,7,3,-1]\n",
    "\n",
    "def sum(numbers): \n",
    "    sum = 1\n",
    "    for i in numbers:\n",
    "        sum = sum * i # sum *=i\n",
    "    return sum\n",
    "\n",
    "res = sum(numbers)\n",
    "print(res)"
   ]
  },
  {
   "cell_type": "code",
   "execution_count": null,
   "id": "3711e354-d06e-47bd-a5fe-2d22eb4f3f6b",
   "metadata": {},
   "outputs": [],
   "source": []
  },
  {
   "cell_type": "markdown",
   "id": "bd548bab",
   "metadata": {
    "id": "bd548bab"
   },
   "source": [
    "### Question 2. Write a function to add two number and return the sum ."
   ]
  },
  {
   "cell_type": "code",
   "execution_count": null,
   "id": "2bcea34c",
   "metadata": {
    "id": "2bcea34c",
    "outputId": "8c7d9960-49c5-4d5a-e989-f403ad640571"
   },
   "outputs": [
    {
     "data": {
      "text/plain": [
       "9"
      ]
     },
     "execution_count": 2,
     "metadata": {},
     "output_type": "execute_result"
    }
   ],
   "source": [
    "def addTwo(a,b):\n",
    "    c = a + b\n",
    "    return c\n",
    "\n",
    "addTwo(4,5)"
   ]
  },
  {
   "cell_type": "code",
   "execution_count": null,
   "id": "90fd85c1",
   "metadata": {
    "id": "90fd85c1",
    "outputId": "3f7f14d0-57b7-4667-833a-91aa454f1607"
   },
   "outputs": [
    {
     "data": {
      "text/plain": [
       "0"
      ]
     },
     "execution_count": 3,
     "metadata": {},
     "output_type": "execute_result"
    }
   ],
   "source": [
    "addTwo(10,-10)"
   ]
  },
  {
   "cell_type": "code",
   "execution_count": null,
   "id": "9b9a0fd5",
   "metadata": {
    "id": "9b9a0fd5",
    "outputId": "e0dab99d-c2e1-4519-dc90-729a6e4d7336"
   },
   "outputs": [
    {
     "data": {
      "text/plain": [
       "14.5"
      ]
     },
     "execution_count": 4,
     "metadata": {},
     "output_type": "execute_result"
    }
   ],
   "source": [
    "addTwo(10,4.5)"
   ]
  },
  {
   "cell_type": "markdown",
   "id": "47421ab7-1dcf-49ce-b6fc-4440095d0b7b",
   "metadata": {},
   "source": [
    "## 3. Write a Python function program to get the largest number from a list\n",
    " numbers = [7, 2, 9, 11]"
   ]
  },
  {
   "cell_type": "code",
   "execution_count": 3,
   "id": "a329059e-c159-443e-9f3a-bcb47d977d10",
   "metadata": {},
   "outputs": [
    {
     "name": "stdout",
     "output_type": "stream",
     "text": [
      "11\n"
     ]
    }
   ],
   "source": [
    "# method1: use any in built function \n",
    "numbers = [7, 2, 9, 11]\n",
    "print(max(numbers))"
   ]
  },
  {
   "cell_type": "code",
   "execution_count": 4,
   "id": "8239d406-beec-4c42-948a-3148c8c4663b",
   "metadata": {},
   "outputs": [
    {
     "name": "stdout",
     "output_type": "stream",
     "text": [
      "11\n"
     ]
    }
   ],
   "source": [
    "# method2: Do NOT use any in built function. Use for loop\n",
    "numbers = [7, 2, 9, 11]\n",
    "\n",
    "max = numbers[0]\n",
    "for i in numbers:\n",
    "    if i > max:\n",
    "        max = i\n",
    "\n",
    "print(max)"
   ]
  },
  {
   "cell_type": "code",
   "execution_count": 5,
   "id": "82ea1b7e-02e8-4988-88e8-a9bb67487ac7",
   "metadata": {},
   "outputs": [
    {
     "name": "stdout",
     "output_type": "stream",
     "text": [
      "11\n"
     ]
    }
   ],
   "source": [
    "# Now we convert above into a function:\n",
    "def max(numbers):\n",
    "    max = numbers[0]\n",
    "    for i in numbers:\n",
    "        if i > max:\n",
    "            max = i\n",
    "    \n",
    "    return max\n",
    "\n",
    "n = [7, 2, 9, 11]\n",
    "res = max(n)\n",
    "print(res)"
   ]
  },
  {
   "cell_type": "markdown",
   "id": "94061599-9104-41c9-b212-abd4a17507b6",
   "metadata": {},
   "source": [
    "## 3.1) Write a Python fucntion program to count the number of strings where the string length is 2 or more \n",
    "l_string = ['abc', 'xyz', 'a', '1221']"
   ]
  },
  {
   "cell_type": "code",
   "execution_count": 7,
   "id": "c4443110-7563-472f-af6c-eda85d1afb75",
   "metadata": {},
   "outputs": [
    {
     "name": "stdout",
     "output_type": "stream",
     "text": [
      "3\n"
     ]
    }
   ],
   "source": [
    "l_string = ['abc', 'xyz', 'a', '1221']\n",
    "\n",
    "#STEP1: Write the code without using function\n",
    "count = 0\n",
    "for i in l_string:\n",
    "    if len(i) >=2:\n",
    "        count += 1\n",
    "\n",
    "print(count)"
   ]
  },
  {
   "cell_type": "code",
   "execution_count": 6,
   "id": "68d5abdc-d561-4255-99bb-99577fb7c324",
   "metadata": {},
   "outputs": [
    {
     "name": "stdout",
     "output_type": "stream",
     "text": [
      "3\n"
     ]
    }
   ],
   "source": [
    "#STEP2: Rewrite above code using function\n",
    "\n",
    "def count_str(l_string):\n",
    "    count = 0\n",
    "    for i in l_string:\n",
    "        if len(i) >=2:\n",
    "            count += 1\n",
    "    return count\n",
    "\n",
    "l_string = ['abc', 'xyz', 'a', '1221']\n",
    "res = count_str(l_string)\n",
    "print(res)"
   ]
  },
  {
   "cell_type": "markdown",
   "id": "28cb64dd",
   "metadata": {
    "id": "28cb64dd"
   },
   "source": [
    "### Question 3. Write a fuction that prints odd or even based on number provided."
   ]
  },
  {
   "cell_type": "code",
   "execution_count": null,
   "id": "00f44353",
   "metadata": {
    "id": "00f44353",
    "outputId": "e57ab6ea-45dc-433c-bf46-799537fb1ff8"
   },
   "outputs": [
    {
     "name": "stdout",
     "output_type": "stream",
     "text": [
      "7  is ODD.\n"
     ]
    }
   ],
   "source": [
    "def oddEven(n):\n",
    "    if n % 2 == 0:\n",
    "        print(n,\" is EVEN.\")\n",
    "\n",
    "    else:\n",
    "        print(n, \" is ODD.\")\n",
    "oddEven(7)"
   ]
  },
  {
   "cell_type": "code",
   "execution_count": null,
   "id": "309df16e",
   "metadata": {
    "id": "309df16e",
    "outputId": "c8a9bf74-7b64-485d-cf52-0cb3c005afb1"
   },
   "outputs": [
    {
     "name": "stdout",
     "output_type": "stream",
     "text": [
      "10  is EVEN.\n"
     ]
    }
   ],
   "source": [
    "oddEven(10)"
   ]
  },
  {
   "cell_type": "code",
   "execution_count": null,
   "id": "66f873c7",
   "metadata": {
    "id": "66f873c7",
    "outputId": "6f61f1cf-436f-4969-c1d1-abd18cbe4cab"
   },
   "outputs": [
    {
     "name": "stdout",
     "output_type": "stream",
     "text": [
      "10.5  is ODD.\n"
     ]
    }
   ],
   "source": [
    "oddEven(10.5)"
   ]
  },
  {
   "cell_type": "markdown",
   "id": "da7250e7-2bc4-400a-9dcb-6af78ac0d06a",
   "metadata": {},
   "source": [
    "### Question 3. Write a fuction that returns odd or even based on number provided."
   ]
  },
  {
   "cell_type": "code",
   "execution_count": 1,
   "id": "803c7b34-768e-44b7-bf9a-342d2b4534cd",
   "metadata": {},
   "outputs": [
    {
     "name": "stdout",
     "output_type": "stream",
     "text": [
      "odd\n"
     ]
    }
   ],
   "source": [
    "def oddEven(n):\n",
    "    if n % 2 == 0:\n",
    "        return 'even'\n",
    "    else:\n",
    "        return 'odd'\n",
    "res = oddEven(7)\n",
    "print(res)"
   ]
  },
  {
   "cell_type": "markdown",
   "id": "de4a2868",
   "metadata": {
    "id": "de4a2868"
   },
   "source": [
    "### Question 4. Writea fuction to find the maximum of three numbers."
   ]
  },
  {
   "cell_type": "code",
   "execution_count": null,
   "id": "e4d9b2fa",
   "metadata": {
    "id": "e4d9b2fa",
    "outputId": "21c8b8ef-2752-41fa-8d4c-ba035811ef11"
   },
   "outputs": [
    {
     "name": "stdout",
     "output_type": "stream",
     "text": [
      "400  is greatest number.\n"
     ]
    }
   ],
   "source": [
    "#Solution number 1\n",
    "def maxiMum(a,b,c):\n",
    "    if a > b:\n",
    "        if a > c:\n",
    "            print(a,\" is greatest number.\")\n",
    "        else:\n",
    "            print(c,\" is greatest number.\")\n",
    "    else:\n",
    "        if b > c:\n",
    "            print(b,\" is greatest number.\")\n",
    "        else:\n",
    "             print(c,\" is greatest number.\")\n",
    "\n",
    "maxiMum(12,30,400)\n"
   ]
  },
  {
   "cell_type": "code",
   "execution_count": null,
   "id": "22d7a5e9",
   "metadata": {
    "id": "22d7a5e9",
    "outputId": "6cd689f4-cb88-4fb9-bf68-5323c7db44fe"
   },
   "outputs": [
    {
     "name": "stdout",
     "output_type": "stream",
     "text": [
      "12000  is greatest number.\n"
     ]
    }
   ],
   "source": [
    "#Solution number 2\n",
    "def maxiMum(a,b,c):\n",
    "    if a > b and a > c:\n",
    "        return print(a,\" is greatest number.\")\n",
    "    elif a > b and a < c:\n",
    "        return print(c,\" is greatest number.\")\n",
    "    elif a < b and b > c:\n",
    "        print(b,\" is greatest number.\")\n",
    "    else:\n",
    "        print(c,\" is greates number.\")\n",
    "maxiMum(12000,3000,400)\n"
   ]
  },
  {
   "cell_type": "markdown",
   "id": "07d7ee53",
   "metadata": {
    "id": "07d7ee53"
   },
   "source": [
    "### Question 5. Write a function that accept a list and prints the sum of all the element of the list."
   ]
  },
  {
   "cell_type": "code",
   "execution_count": 5,
   "id": "ded71a8f",
   "metadata": {
    "id": "ded71a8f"
   },
   "outputs": [
    {
     "name": "stdout",
     "output_type": "stream",
     "text": [
      "The sum of mylist:  19\n"
     ]
    }
   ],
   "source": [
    "def sumList(mylist):\n",
    "    sum_list = 0\n",
    "    for i in mylist:\n",
    "        sum_list += i\n",
    "    print(\"The sum of mylist: \", sum_list)\n",
    "\n",
    "l = [9,1,5,4]\n",
    "sumList(l)"
   ]
  },
  {
   "cell_type": "markdown",
   "id": "bb4007b7-1a79-4922-a3a5-4a60c5ff15d4",
   "metadata": {},
   "source": [
    "### Question 5. Write a function that accept a list and returns the sum of all the element of the list."
   ]
  },
  {
   "cell_type": "code",
   "execution_count": 6,
   "id": "af73669c-54cf-46ec-8455-42a1459c99c4",
   "metadata": {},
   "outputs": [
    {
     "name": "stdout",
     "output_type": "stream",
     "text": [
      "19\n"
     ]
    }
   ],
   "source": [
    "def sumList(mylist):\n",
    "    sum_list = 0\n",
    "    for i in mylist:\n",
    "        sum_list += i\n",
    "    return sum_list\n",
    "\n",
    "l = [9,1,5,4]\n",
    "res = sumList(l)\n",
    "print(res)"
   ]
  },
  {
   "cell_type": "markdown",
   "id": "9b2785e1",
   "metadata": {
    "id": "9b2785e1"
   },
   "source": [
    "### Question 6. Write a function that accept a number and prints the table of the same"
   ]
  },
  {
   "cell_type": "code",
   "execution_count": null,
   "id": "3fe5aeef",
   "metadata": {
    "id": "3fe5aeef",
    "outputId": "c07678ba-c91f-4253-ce81-ec96d7681533"
   },
   "outputs": [
    {
     "name": "stdout",
     "output_type": "stream",
     "text": [
      "Enter a number: 5\n"
     ]
    }
   ],
   "source": [
    "# Take a number from the user\n",
    "number = int(input(\"Enter a number: \"))"
   ]
  },
  {
   "cell_type": "code",
   "execution_count": null,
   "id": "9bc8c30d",
   "metadata": {
    "id": "9bc8c30d",
    "outputId": "93582fac-263e-4a8a-9c30-21ecbeab8d90"
   },
   "outputs": [
    {
     "name": "stdout",
     "output_type": "stream",
     "text": [
      "5  *  1 = 5\n",
      "5  *  2 = 10\n",
      "5  *  3 = 15\n",
      "5  *  4 = 20\n",
      "5  *  5 = 25\n",
      "5  *  6 = 30\n",
      "5  *  7 = 35\n",
      "5  *  8 = 40\n",
      "5  *  9 = 45\n",
      "5  *  10 = 50\n"
     ]
    }
   ],
   "source": [
    "# Print the multiplication table up to 10\n",
    "for i in range(1, 11):\n",
    "    print(number, \" * \" ,i ,\"=\",number * i)"
   ]
  },
  {
   "cell_type": "code",
   "execution_count": null,
   "id": "8f837c32",
   "metadata": {
    "id": "8f837c32",
    "scrolled": true
   },
   "outputs": [],
   "source": [
    "def table_of_n(n):\n",
    "    for i in range(1,11):\n",
    "        print(n,\" * \",i,\" = \",i*n)"
   ]
  },
  {
   "cell_type": "code",
   "execution_count": null,
   "id": "e0f3145e",
   "metadata": {
    "id": "e0f3145e",
    "outputId": "67695b1e-8c42-446c-c910-26d7ea4080dc"
   },
   "outputs": [
    {
     "name": "stdout",
     "output_type": "stream",
     "text": [
      "5  *  1  =  5\n",
      "5  *  2  =  10\n",
      "5  *  3  =  15\n",
      "5  *  4  =  20\n",
      "5  *  5  =  25\n",
      "5  *  6  =  30\n",
      "5  *  7  =  35\n",
      "5  *  8  =  40\n",
      "5  *  9  =  45\n",
      "5  *  10  =  50\n"
     ]
    }
   ],
   "source": [
    "table_of_n(5)"
   ]
  },
  {
   "cell_type": "code",
   "execution_count": null,
   "id": "c94e6fc6",
   "metadata": {
    "id": "c94e6fc6",
    "outputId": "057d6198-8791-4154-f0a1-2d9e923d0aec"
   },
   "outputs": [
    {
     "name": "stdout",
     "output_type": "stream",
     "text": [
      "6  *  1  =  6\n",
      "6  *  2  =  12\n",
      "6  *  3  =  18\n",
      "6  *  4  =  24\n",
      "6  *  5  =  30\n",
      "6  *  6  =  36\n",
      "6  *  7  =  42\n",
      "6  *  8  =  48\n",
      "6  *  9  =  54\n",
      "6  *  10  =  60\n"
     ]
    }
   ],
   "source": [
    "table_of_n(6)"
   ]
  },
  {
   "cell_type": "markdown",
   "id": "d82b5619",
   "metadata": {
    "id": "d82b5619"
   },
   "source": [
    "### Question 7. Write a function that counts number of vowel and consunants in a string/word.\n"
   ]
  },
  {
   "cell_type": "code",
   "execution_count": 7,
   "id": "0a88c2f9",
   "metadata": {
    "id": "0a88c2f9"
   },
   "outputs": [
    {
     "name": "stdout",
     "output_type": "stream",
     "text": [
      "(3, 6)\n",
      "vowels: 3\n",
      "consonants: 6\n"
     ]
    }
   ],
   "source": [
    "def vovcon(st):\n",
    "    vov = 0\n",
    "    con = 0\n",
    "    for i in st:\n",
    "        if i in (\"AIEOUaieou\"):\n",
    "            vov += 1\n",
    "        else:\n",
    "            con += 1\n",
    "    return vov,con\n",
    "\n",
    "res = vovcon(\"RAM Anant\")\n",
    "print(res)\n",
    "vowels     = res[0]\n",
    "consonants = res[1]\n",
    "print(\"vowels:\",vowels)\n",
    "print(\"consonants:\",consonants)"
   ]
  },
  {
   "cell_type": "markdown",
   "id": "7888997f",
   "metadata": {
    "id": "7888997f"
   },
   "source": [
    "### Question 8. Write a function that accepts a string and return reverse of the same string."
   ]
  },
  {
   "cell_type": "code",
   "execution_count": null,
   "id": "afb071ab",
   "metadata": {
    "id": "afb071ab"
   },
   "outputs": [],
   "source": [
    "def rstr(st1):\n",
    "    return st1[::-1]"
   ]
  },
  {
   "cell_type": "code",
   "execution_count": null,
   "id": "e8230ca1",
   "metadata": {
    "id": "e8230ca1",
    "outputId": "839f3c9e-5ed4-41f4-ee9b-5df240e0f38b"
   },
   "outputs": [
    {
     "data": {
      "text/plain": [
       "'rotanivleK'"
      ]
     },
     "execution_count": 6,
     "metadata": {},
     "output_type": "execute_result"
    }
   ],
   "source": [
    "rstr(\"Kelvinator\")"
   ]
  },
  {
   "cell_type": "code",
   "execution_count": null,
   "id": "9c2ef4d7",
   "metadata": {
    "id": "9c2ef4d7"
   },
   "outputs": [],
   "source": [
    "def revstr(st2):\n",
    "    index = len(st2)\n",
    "    reverse_string = \"\"\n",
    "    while index > 0:\n",
    "        reverse_string += st2[index-1]\n",
    "        index = index -1\n",
    "    return print(reverse_string)\n"
   ]
  },
  {
   "cell_type": "code",
   "execution_count": null,
   "id": "fc119d7d",
   "metadata": {
    "id": "fc119d7d",
    "outputId": "df075e32-a4ce-42d8-da0d-6e76d65f41fd"
   },
   "outputs": [
    {
     "name": "stdout",
     "output_type": "stream",
     "text": [
      "ybbolnohtyp\n"
     ]
    }
   ],
   "source": [
    "revstr(\"pythonlobby\")"
   ]
  },
  {
   "cell_type": "markdown",
   "id": "81862095",
   "metadata": {
    "id": "81862095"
   },
   "source": [
    "### Question 9. Write a function that accepts a number and prints the factorial of the same."
   ]
  },
  {
   "cell_type": "code",
   "execution_count": null,
   "id": "0bfe5039",
   "metadata": {
    "id": "0bfe5039",
    "outputId": "0ba53e22-9cf8-43b9-918e-e424b475e014"
   },
   "outputs": [
    {
     "name": "stdout",
     "output_type": "stream",
     "text": [
      "The factorinal of 5 is 120.\n"
     ]
    }
   ],
   "source": [
    "def factorial(n):\n",
    "    factorial = 1\n",
    "    if n < 0:\n",
    "        return print(\"Factorial of negative number is not defined.\")\n",
    "    elif n == 0:\n",
    "        return print(\"Factorial of 0 is 1\")\n",
    "    else:\n",
    "        for i in range(1, n+1):\n",
    "            factorial = factorial*i\n",
    "        return print(\"The factorinal of {} is {}.\".format(n,factorial))\n",
    "factorial(5)"
   ]
  },
  {
   "cell_type": "code",
   "execution_count": null,
   "id": "6d753751",
   "metadata": {
    "id": "6d753751",
    "outputId": "ef84c0f9-e959-4b7e-ecd0-7575ff5942e1"
   },
   "outputs": [
    {
     "name": "stdout",
     "output_type": "stream",
     "text": [
      "Factorial of negative number is not defined.\n"
     ]
    }
   ],
   "source": [
    "factorial(-5)"
   ]
  },
  {
   "cell_type": "code",
   "execution_count": null,
   "id": "ea736a1f",
   "metadata": {
    "id": "ea736a1f",
    "outputId": "3dbe99d7-ffc5-437e-db83-980d7c277976"
   },
   "outputs": [
    {
     "name": "stdout",
     "output_type": "stream",
     "text": [
      "Factorial of 0 is 1\n"
     ]
    }
   ],
   "source": [
    "factorial(0)"
   ]
  },
  {
   "cell_type": "markdown",
   "id": "d1b54fd2",
   "metadata": {
    "id": "d1b54fd2"
   },
   "source": [
    "### Question 10. Write a Python function that takes a list and returns a new list with unique elements of the first list.  "
   ]
  },
  {
   "cell_type": "code",
   "execution_count": null,
   "id": "32cbc7e4",
   "metadata": {
    "id": "32cbc7e4"
   },
   "outputs": [],
   "source": [
    "#using list and set contructor\n",
    "def fnlistunique(mylist):\n",
    "    returnlist = list(set(mylist))\n",
    "\n",
    "    return returnlist\n",
    "\n",
    "fnlistunique([1,1,1,2,2,3,3,4,4,4,4,5,5,5])"
   ]
  },
  {
   "cell_type": "code",
   "execution_count": 8,
   "id": "ce6bcb00",
   "metadata": {
    "id": "ce6bcb00"
   },
   "outputs": [
    {
     "name": "stdout",
     "output_type": "stream",
     "text": [
      "[1, 2, 3, 4, 5]\n",
      "[1, 2, 3, 4, 5, 6, 7, 8, 9, 10]\n"
     ]
    }
   ],
   "source": [
    "#using basic concept and conditional statement\n",
    "\n",
    "def unique_list(mylist=[1,1,1,2,2,3,3,4,4,4,4,5,5,5]):\n",
    "\n",
    "    l = []\n",
    "\n",
    "    for ele in mylist:\n",
    "        if ele not in l:\n",
    "            l.append(ele)\n",
    "        else:\n",
    "            continue\n",
    "    return l\n",
    "\n",
    "print(unique_list())\n",
    "\n",
    "mylist = [1,2,2,3,3,3,4,4,4,4,5,5,5,5,5,6,6,6,6,6,7,7,7,7,7,7,7,8,8,8,8,8,8,8,8,9,9,9,9,9,9,9,9,9,10,10,10,10,10,10,10,10,10]\n",
    "print(unique_list(mylist))"
   ]
  },
  {
   "cell_type": "markdown",
   "id": "5fc5a030",
   "metadata": {
    "id": "5fc5a030"
   },
   "source": [
    "### (SKIP) Question 11. Write a program to print twin primes less than 1000. If two consecutive odd numbers are both prime then they are known as twin primes"
   ]
  },
  {
   "cell_type": "code",
   "execution_count": null,
   "id": "b38be85d",
   "metadata": {
    "id": "b38be85d"
   },
   "outputs": [],
   "source": [
    "def checkPrime(max_num):\n",
    "    for num in range (2, max_num):\n",
    "        if max_num % num == 0:\n",
    "            return False\n",
    "    return print(\"{} is a prime number\".format(max_num))"
   ]
  },
  {
   "cell_type": "code",
   "execution_count": null,
   "id": "87af7f34",
   "metadata": {
    "id": "87af7f34",
    "outputId": "a902d206-5a0c-4da6-e78f-bfab97b4a4b2"
   },
   "outputs": [
    {
     "data": {
      "text/plain": [
       "False"
      ]
     },
     "execution_count": 61,
     "metadata": {},
     "output_type": "execute_result"
    }
   ],
   "source": [
    "checkPrime(200)"
   ]
  },
  {
   "cell_type": "code",
   "execution_count": null,
   "id": "b4b2f890",
   "metadata": {
    "id": "b4b2f890",
    "outputId": "daa3f153-668f-4730-a6e1-57234838a643",
    "scrolled": true
   },
   "outputs": [
    {
     "name": "stdout",
     "output_type": "stream",
     "text": [
      "Twin Prime: \n",
      " 3 and 5\n",
      " 5 and 7\n",
      " 11 and 13\n",
      " 17 and 19\n",
      " 29 and 31\n",
      " 41 and 43\n",
      " 59 and 61\n",
      " 71 and 73\n",
      " 101 and 103\n",
      " 107 and 109\n",
      " 137 and 139\n",
      " 149 and 151\n",
      " 179 and 181\n",
      " 191 and 193\n",
      " 197 and 199\n",
      " 227 and 229\n",
      " 239 and 241\n",
      " 269 and 271\n",
      " 281 and 283\n",
      " 311 and 313\n",
      " 347 and 349\n",
      " 419 and 421\n",
      " 431 and 433\n",
      " 461 and 463\n",
      " 521 and 523\n",
      " 569 and 571\n",
      " 599 and 601\n",
      " 617 and 619\n",
      " 641 and 643\n",
      " 659 and 661\n",
      " 809 and 811\n",
      " 821 and 823\n",
      " 827 and 829\n",
      " 857 and 859\n",
      " 881 and 883\n"
     ]
    }
   ],
   "source": [
    "def checkPrime(max_num):\n",
    "    for num in range (2, max_num):\n",
    "        if max_num % num == 0:\n",
    "            return False\n",
    "    return True\n",
    "def twinPrime(max_num):\n",
    "    for first_num in range(2, max_num):\n",
    "        second_num = first_num + 2\n",
    "        if (checkPrime(first_num) and checkPrime(second_num)):\n",
    "            print(\" {0} and {1}\".format(first_num, second_num))\n",
    "        else:\n",
    "            continue\n",
    "\n",
    "print(\"Twin Prime: \")\n",
    "twinPrime(1000)"
   ]
  },
  {
   "cell_type": "markdown",
   "id": "0c809337",
   "metadata": {
    "id": "0c809337"
   },
   "source": [
    "### Question 11. Write a Python program to return the even numbers from a given list"
   ]
  },
  {
   "cell_type": "code",
   "execution_count": null,
   "id": "50e74036",
   "metadata": {
    "id": "50e74036",
    "scrolled": true
   },
   "outputs": [],
   "source": [
    "\n",
    "def evenList(sampleList):\n",
    "    list_even = []\n",
    "    for i in sampleList:\n",
    "        if i % 2 == 0:\n",
    "            list_even.append(i)\n",
    "        else:\n",
    "            continue\n",
    "    return list_even"
   ]
  },
  {
   "cell_type": "code",
   "execution_count": null,
   "id": "8da23e11",
   "metadata": {
    "id": "8da23e11",
    "outputId": "c932d9c6-772f-4115-df4a-bbcda6b851d3"
   },
   "outputs": [
    {
     "data": {
      "text/plain": [
       "[2, 4, 6, 8]"
      ]
     },
     "execution_count": 12,
     "metadata": {},
     "output_type": "execute_result"
    }
   ],
   "source": [
    "evenList([1, 2, 3, 4, 5, 6, 7, 8, 9])"
   ]
  },
  {
   "cell_type": "markdown",
   "id": "e238cc7f",
   "metadata": {
    "id": "e238cc7f"
   },
   "source": [
    "### Question 12. Write a Python program to return the odd numbers from a given list"
   ]
  },
  {
   "cell_type": "code",
   "execution_count": null,
   "id": "18940028",
   "metadata": {
    "id": "18940028"
   },
   "outputs": [],
   "source": [
    "\n",
    "def oddList(sampleList):\n",
    "    list_odd = []\n",
    "    for i in sampleList:\n",
    "        if i % 2 != 0:\n",
    "            list_odd.append(i)\n",
    "        else:\n",
    "            continue\n",
    "    return list_odd"
   ]
  },
  {
   "cell_type": "code",
   "execution_count": null,
   "id": "645feedd",
   "metadata": {
    "id": "645feedd",
    "outputId": "487a3bc4-45f3-4cf4-e599-55119a09260f"
   },
   "outputs": [
    {
     "data": {
      "text/plain": [
       "[1, 3, 5, 7, 9]"
      ]
     },
     "execution_count": 14,
     "metadata": {},
     "output_type": "execute_result"
    }
   ],
   "source": [
    "oddList([1, 2, 3, 4, 5, 6, 7, 8, 9])"
   ]
  },
  {
   "cell_type": "markdown",
   "id": "634b6fe6",
   "metadata": {
    "id": "634b6fe6"
   },
   "source": [
    "### Qoestion 13. Write a Python function that checks whether a passed string is palindrome or not."
   ]
  },
  {
   "cell_type": "markdown",
   "id": "8b4306db",
   "metadata": {
    "id": "8b4306db"
   },
   "source": [
    " A palindrome is a word, phrase, or sequence that reads the same backward as forward, e.g., tommot, madam"
   ]
  },
  {
   "cell_type": "code",
   "execution_count": null,
   "id": "92286006",
   "metadata": {
    "id": "92286006",
    "outputId": "5e296d14-3c6f-477f-a1cb-5cb9151002b8"
   },
   "outputs": [
    {
     "data": {
      "text/plain": [
       "True"
      ]
     },
     "execution_count": 15,
     "metadata": {},
     "output_type": "execute_result"
    }
   ],
   "source": [
    "def ispalindrome(st):\n",
    "    left_pos = 0\n",
    "    right_pos = len(st)-1\n",
    "    while right_pos>=left_pos:\n",
    "        if st[right_pos] != st[left_pos]:\n",
    "            return False\n",
    "        left_pos += 1\n",
    "        right_pos -= 1\n",
    "    return True\n",
    "ispalindrome(st=\"ana\")\n"
   ]
  },
  {
   "cell_type": "code",
   "execution_count": null,
   "id": "2c955a95",
   "metadata": {
    "id": "2c955a95",
    "outputId": "cad3e96e-d6a0-4357-fd4c-c43e1cb3315a"
   },
   "outputs": [
    {
     "name": "stdout",
     "output_type": "stream",
     "text": [
      "asdffdsa is a palindrome\n"
     ]
    }
   ],
   "source": [
    "def palindromecheck(st):\n",
    "    if st == st[::-1]:\n",
    "        return print(\"{} is a palindrome\".format(st))\n",
    "\n",
    "palindromecheck(st = \"asdffdsa\")"
   ]
  },
  {
   "cell_type": "markdown",
   "id": "3b019f5b",
   "metadata": {
    "id": "3b019f5b"
   },
   "source": [
    "### Question 14. Write a function to calculate the sum of numbers."
   ]
  },
  {
   "cell_type": "code",
   "execution_count": null,
   "id": "a16267a7",
   "metadata": {
    "id": "a16267a7",
    "outputId": "c6a77222-0f6e-4c01-fa3d-e86dec496df0"
   },
   "outputs": [
    {
     "data": {
      "text/plain": [
       "5050"
      ]
     },
     "execution_count": 63,
     "metadata": {},
     "output_type": "execute_result"
    }
   ],
   "source": [
    "def sumRecursive(num = 10):\n",
    "    summ = 0\n",
    "    while num > 0:\n",
    "        summ += num\n",
    "        num = num-1\n",
    "    return summ\n",
    "sumRecursive(num=100)\n"
   ]
  },
  {
   "cell_type": "markdown",
   "id": "ebb60db7",
   "metadata": {
    "id": "ebb60db7"
   },
   "source": [
    "### Question 15. Write a Python function that accepts a string and calculate the number of upper case letters and lower case letters"
   ]
  },
  {
   "cell_type": "code",
   "execution_count": null,
   "id": "f1dd5d30",
   "metadata": {
    "id": "f1dd5d30"
   },
   "outputs": [],
   "source": [
    "def desiredString(st):\n",
    "    upper_count = 0\n",
    "    lower_count = 0\n",
    "    for i in st:\n",
    "        if i.isupper():\n",
    "            upper_count +=1\n",
    "        else:\n",
    "            lower_count +=1\n",
    "    return print(\"Upper Case: {} and Lower Case : {}\".format(upper_count,lower_count))"
   ]
  },
  {
   "cell_type": "code",
   "execution_count": null,
   "id": "f51db4b4",
   "metadata": {
    "id": "f51db4b4",
    "outputId": "5f8fcb2f-ab1e-430f-ad6a-65095bf935b3"
   },
   "outputs": [
    {
     "name": "stdout",
     "output_type": "stream",
     "text": [
      "Upper Case: 2 and Lower Case : 3\n"
     ]
    }
   ],
   "source": [
    "desiredString(\"HEllo\")"
   ]
  },
  {
   "cell_type": "code",
   "execution_count": null,
   "id": "3393c0ec",
   "metadata": {
    "id": "3393c0ec"
   },
   "outputs": [],
   "source": []
  }
 ],
 "metadata": {
  "colab": {
   "provenance": []
  },
  "kernelspec": {
   "display_name": "Python 3 (ipykernel)",
   "language": "python",
   "name": "python3"
  },
  "language_info": {
   "codemirror_mode": {
    "name": "ipython",
    "version": 3
   },
   "file_extension": ".py",
   "mimetype": "text/x-python",
   "name": "python",
   "nbconvert_exporter": "python",
   "pygments_lexer": "ipython3",
   "version": "3.9.9"
  }
 },
 "nbformat": 4,
 "nbformat_minor": 5
}
