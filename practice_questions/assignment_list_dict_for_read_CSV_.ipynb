{
 "cells": [
  {
   "cell_type": "markdown",
   "id": "59266008-c710-4aa8-bce5-120731eaac76",
   "metadata": {},
   "source": [
    "# assignment: \n",
    "Read a csv file and store the data as key: value pair. \n",
    "The keys should be name. \n",
    "The values should be stored in list and it contains age,income. \n",
    "All entries in values should be int. "
   ]
  },
  {
   "cell_type": "code",
   "execution_count": null,
   "id": "d4b054e6-8751-4feb-a12c-573d8e1e2a59",
   "metadata": {},
   "outputs": [
    {
     "name": "stdout",
     "output_type": "stream",
     "text": [
      "read data: [['name', 'age', 'income'], ['ash', '23', '10000'], ['zena', '76', '30000'], ['khan', '43', '90000'], ['harry', '56', '76000'], ['kumar', '45', '23000']]\n",
      "#################################\n",
      "processing ['ash', '23', '10000']\n",
      "processing ['zena', '76', '30000']\n",
      "processing ['khan', '43', '90000']\n",
      "processing ['harry', '56', '76000']\n",
      "processing ['kumar', '45', '23000']\n",
      "{'ash': ['23', '10000'], 'zena': ['76', '30000'], 'khan': ['43', '90000'], 'harry': ['56', '76000'], 'kumar': ['45', '23000']}\n",
      "*************************************\n",
      "---key=ash and its value is ['23', '10000']\n",
      "---key=zena and its value is ['76', '30000']\n",
      "---key=khan and its value is ['43', '90000']\n",
      "---key=harry and its value is ['56', '76000']\n",
      "---key=kumar and its value is ['45', '23000']\n",
      "After cleanup: {'ash': [23, 10000], 'zena': [76, 30000], 'khan': [43, 90000], 'harry': [56, 76000], 'kumar': [45, 23000]}\n"
     ]
    }
   ],
   "source": [
    "# STEP1: Read the CSV file\n",
    "import csv\n",
    "\n",
    "# Path to your CSV file\n",
    "file_path = \"assignment_list_dict_for.csv\"\n",
    "\n",
    "# Read CSV into a list\n",
    "data = []\n",
    "with open(file_path, mode=\"r\", newline=\"\", encoding=\"utf-8\") as file:\n",
    "    reader = csv.reader(file)\n",
    "    for row in reader:\n",
    "        data.append(row)\n",
    "\n",
    "# Print the result\n",
    "print(f\"read data: {data}\")\n",
    "\n",
    "print(\"#################################\")\n",
    "# STEP2: Build dictionary\n",
    "result = {}\n",
    "for row in data[1:]: # skip the 1st row\n",
    "    print(f\"processing {row}\")\n",
    "    result[row[0]] = row[1:]\n",
    "\n",
    "# result = {row[0]: row[1:] for row in data[1:]}\n",
    "print(result)\n",
    "\n",
    "print(\"*************************************\")\n",
    "# STEP3: convert the values into int\n",
    "\n",
    "for k, v in result.items():\n",
    "    print(f\"---key={k} and its value is {v}\")\n",
    "    \n",
    "    temp = []\n",
    "    for x in v:\n",
    "        temp.append(int(x))\n",
    "    result[k] = temp\n",
    "    # result[k] = [int(x) for x in v]\n",
    "\n",
    "print(f\"After cleanup: {result}\")\n"
   ]
  },
  {
   "cell_type": "code",
   "execution_count": null,
   "id": "6d6ba8c1",
   "metadata": {},
   "outputs": [],
   "source": [
    "# q: How many employees are there ?\n",
    "# q: What is ash age and his income\n",
    "# q: Does ash make more money than zena ?\n",
    "# q: Is there an employee named ash, barry ?\n",
    "\n",
    "# q: Give me the count of employees who are older than 40\n",
    "# q: Give me the name of employees who are older than 40\n",
    "# q: Who makes more than 32000 ?\n",
    "# q: what is the total salary of all employees ?\n",
    "# q: what is the average salary ?\n",
    "\n"
   ]
  },
  {
   "cell_type": "code",
   "execution_count": null,
   "id": "6de9cf13-785d-4cac-b07f-6fd4a3031090",
   "metadata": {},
   "outputs": [],
   "source": []
  }
 ],
 "metadata": {
  "kernelspec": {
   "display_name": "base",
   "language": "python",
   "name": "python3"
  },
  "language_info": {
   "codemirror_mode": {
    "name": "ipython",
    "version": 3
   },
   "file_extension": ".py",
   "mimetype": "text/x-python",
   "name": "python",
   "nbconvert_exporter": "python",
   "pygments_lexer": "ipython3",
   "version": "3.12.7"
  }
 },
 "nbformat": 4,
 "nbformat_minor": 5
}
