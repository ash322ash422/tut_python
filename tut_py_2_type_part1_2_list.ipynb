{
 "cells": [
  {
   "cell_type": "markdown",
   "id": "d025eac2-9754-4ffa-872a-17ce06992ae3",
   "metadata": {},
   "source": [
    "### 2️. List (list) Operations\n",
    "- A list is an **ordered, mutable** collection of elements. (**Ordered** means that the elements of list are printed in the order in which they were entered. This is not True for dict and set)\n",
    "- can contain **duplicates**\n",
    "- are heterogenous (can contain elements of different kind like int, str, boolean, etc.)"
   ]
  },
  {
   "cell_type": "code",
   "execution_count": 4,
   "id": "039f8240-de2c-4c64-8a5c-679e2948f8cb",
   "metadata": {},
   "outputs": [
    {
     "name": "stdout",
     "output_type": "stream",
     "text": [
      "[10, 20, 30, 40, 50, 20, 30]\n",
      "<class 'list'>\n"
     ]
    }
   ],
   "source": [
    "# List declaration\n",
    "age = [10, 20, 30, 40, 50, 20, 30]\n",
    "\n",
    "print(age)\n",
    "print(type(age))"
   ]
  },
  {
   "cell_type": "code",
   "execution_count": 2,
   "id": "c6356123-cfb5-41e6-a7c0-8c99735a8c81",
   "metadata": {},
   "outputs": [
    {
     "name": "stdout",
     "output_type": "stream",
     "text": [
      "[]\n",
      "['apple', 'banana', 'cucumber']\n",
      "[True, True, False]\n",
      "[20, 'apple']\n",
      "[[20, 'apple'], [1, 3, 4]]\n",
      "[1, 3, '6', (3+7j), True, ['h', 'e', 'l', 'l', 'o'], [1, 2, 6]]\n"
     ]
    }
   ],
   "source": [
    "# what types of elements in list ?\n",
    "l = [] # empty list\n",
    "print(l)\n",
    "\n",
    "l = [\"apple\", \"banana\", \"cucumber\"] # list contains elements that are all strings\n",
    "print(l)\n",
    "\n",
    "l = [True, True, False] # all elements are Boolean \n",
    "print(l)\n",
    "\n",
    "l = [20, 42, 43.2, \"apple\"] # list of integers, float, strings\n",
    "print(l)\n",
    "\n",
    "l = [ 1, 3.2, [20, 34, \"apple\"], [1, 3, 4] ] # list of int, float, list\n",
    "print(l)\n",
    "\n",
    "fancy_l = [1, 3, '6', 3+7j, True, [1,2,6], [1, [3, True]] ]\n",
    "print(fancy_l)"
   ]
  },
  {
   "cell_type": "code",
   "execution_count": 7,
   "id": "bb2e3919-52b0-4dfe-bc9f-d0fa8a9110f1",
   "metadata": {},
   "outputs": [
    {
     "name": "stdout",
     "output_type": "stream",
     "text": [
      "10\n",
      "20\n",
      "40\n",
      "50\n",
      "1111111111111111111111111111\n",
      "\n",
      "[20, 30]\n",
      "[10, 20, 30]\n",
      "[30, 40, 50]\n",
      "[10, 30, 50]\n",
      "[50, 40, 30, 20, 10]\n",
      "222222222222222222222222222222\n",
      "\n"
     ]
    }
   ],
   "source": [
    "numbers = [10, 30, 60, 70, 50] # age, income, houses, size of plot,etc\n",
    "\n",
    "# Accessing elements: index starts with 0\n",
    "print(numbers[0])   # prints element at index 0 : 10\n",
    "print(numbers[1])   # prints element at index 1 : 30\n",
    "print(numbers[3])   # prints element at index 3 : 70\n",
    "\n",
    "print(numbers[-1])  # access last number 50\n",
    "print(\"1111111111111111111111111111\\n\")\n",
    "\n",
    "# Slicing\n",
    "print(numbers[1:3])  # slice from idx=1 to idx=3: [30, 60]\n",
    "print(numbers[:3])   # slice [10, 30, 60]\n",
    "print(numbers[2:])   # slice from index 2 to last [60, 70, 50]\n",
    "print(numbers[::2]) # from begin to end with step size =2\n",
    "print(numbers[::-1]) # reverse\n",
    "print(\"222222222222222222222222222222\\n\")"
   ]
  },
  {
   "cell_type": "code",
   "execution_count": 19,
   "id": "562fac51-7dc0-4f68-a053-bf8cd24f3e57",
   "metadata": {},
   "outputs": [
    {
     "name": "stdout",
     "output_type": "stream",
     "text": [
      "numbers after append: [10, 20, 30, 40, 50, 17]\n",
      "numbers after insert: [10, 20, 30, 25, 40, 50]\n",
      "numbers after remove: [10, 20, 30, 40]\n",
      "numbers after pop: [10, 20, 40, 50]\n",
      "numbers after insert in the begn: [-6, 10, 20, 30, 40, 50]\n",
      "mutablility: numbers: [10, 20, 25, 40, 50]\n"
     ]
    }
   ],
   "source": [
    "# List modification:\n",
    "\n",
    "# appended at the end\n",
    "numbers = [10, 20, 30, 40, 50]\n",
    "numbers.append(17)  # Adds 17 at the end. NOTE: Try appending string, list, empty string, etc\n",
    "print(f\"numbers after append: {numbers}\")  \n",
    "\n",
    "# insert based on index\n",
    "numbers = [10, 20, 30, 40, 50]\n",
    "numbers.insert(3, 25)  # Insert 25 at index 3\n",
    "print(f\"numbers after insert: {numbers}\")  \n",
    "\n",
    "# remove an element based on its value\n",
    "numbers = [10, 20, 30, 40, 50]\n",
    "numbers.remove(50) # works on actual element\n",
    "print(f\"numbers after remove: {numbers}\")\n",
    "\n",
    "# remove an element based on its idx\n",
    "numbers = [10, 20, 30, 40, 50]\n",
    "numbers.pop(2) # works on actual index\n",
    "print(f\"numbers after pop: {numbers}\")\n",
    "\n",
    "## list is mutable\n",
    "numbers = [10, 20, 30, 40, 50]\n",
    "numbers[2] = 25\n",
    "print(f\"mutablility: numbers: {numbers}\")"
   ]
  },
  {
   "cell_type": "code",
   "execution_count": 3,
   "id": "359cf52c-fe63-4f75-a454-495634df9a91",
   "metadata": {},
   "outputs": [
    {
     "name": "stdout",
     "output_type": "stream",
     "text": [
      "['apple', 'banana', ['cherry', 'date']]\n",
      "3\n",
      "##################\n",
      "['apple', 'banana', 'cherry', 'date']\n",
      "4\n"
     ]
    }
   ],
   "source": [
    "# difference between append and extend\n",
    "fruits     = ['apple', 'banana']\n",
    "fruits_new = ['cherry', 'date']\n",
    "fruits.append(fruits_new)\n",
    "print(fruits)\n",
    "print(len(fruits))\n",
    "print(\"##################\")\n",
    "\n",
    "fruits     = ['apple', 'banana']\n",
    "fruits_new = ['cherry', 'date']\n",
    "fruits.extend(fruits_new) # extend unpacks the list\n",
    "print(fruits)\n",
    "print(len(fruits))"
   ]
  },
  {
   "cell_type": "code",
   "execution_count": 13,
   "id": "dfe2d6a0-7f13-4a72-b2eb-7bbc3b4df582",
   "metadata": {},
   "outputs": [
    {
     "name": "stdout",
     "output_type": "stream",
     "text": [
      "After sort: [-6, 10, 17, 20, 25, 30, 40]\n",
      "After reverse: [17, 40, 25, 30, 20, 10, -6]\n"
     ]
    }
   ],
   "source": [
    "numbers = [-6, 10, 20, 30, 25, 40, 17]\n",
    "# Sorting\n",
    "numbers.sort()\n",
    "print(f\"After sort: {numbers}\")  \n",
    "print(\"########################\")\n",
    "\n",
    "numbers = [-6, 10, 20, 30, 25, 40, 17]\n",
    "# Reversing\n",
    "numbers.reverse()\n",
    "print(f\"After reverse: {numbers}\")  "
   ]
  },
  {
   "cell_type": "code",
   "execution_count": 5,
   "id": "9ea18133-605d-414d-8462-458905056ccd",
   "metadata": {},
   "outputs": [
    {
     "name": "stdout",
     "output_type": "stream",
     "text": [
      "After list concatenation: [10, 20, 30, 40, 50, 77, 88, 11]\n",
      "After list repetition: [10, 20, 30, 40, 50, 10, 20, 30, 40, 50]\n"
     ]
    }
   ],
   "source": [
    "numbers = [10, 20, 30, 40, 50]\n",
    "\n",
    "# List concatenation\n",
    "more_numbers = [77, 88, 11]\n",
    "new_numbers = numbers + more_numbers\n",
    "print(f\"After list concatenation: {new_numbers}\")  \n",
    "\n",
    "# List repetition\n",
    "repeat_numbers = numbers * 2\n",
    "print(f\"After list repetition: {repeat_numbers}\")  "
   ]
  },
  {
   "cell_type": "code",
   "execution_count": 40,
   "id": "59e1bbe7-21d8-4b5e-8506-6983ee53b97e",
   "metadata": {},
   "outputs": [
    {
     "name": "stdout",
     "output_type": "stream",
     "text": [
      "False\n"
     ]
    }
   ],
   "source": [
    "# check if element is in a list\n",
    "numbers = [10, 20, 30, 40, 50]\n",
    "\n",
    "b = 401 in numbers\n",
    "print(b)"
   ]
  },
  {
   "cell_type": "code",
   "execution_count": 46,
   "id": "e4cc175b-c624-47c0-9d5c-a8c251c4c73a",
   "metadata": {},
   "outputs": [
    {
     "name": "stdout",
     "output_type": "stream",
     "text": [
      "2\n",
      "3\n"
     ]
    }
   ],
   "source": [
    "# find idx of an element\n",
    "numbers = [10, 20, 30, 40, 50]\n",
    "print(numbers.index(30))\n",
    "\n",
    "# count how many 60 are there\n",
    "numbers = [10, 20, 60, 30, 60, 40, 60]\n",
    "count = numbers.count(60) # Count all occurrences of item 60\n",
    "print(count)"
   ]
  },
  {
   "cell_type": "code",
   "execution_count": 1,
   "id": "b2311ee1-88f3-4083-996a-fc56ec75a03b",
   "metadata": {},
   "outputs": [
    {
     "name": "stdout",
     "output_type": "stream",
     "text": [
      "[10, 20, 60, 30, 60, 40, 60]\n",
      "[10, 20, 60, 30, 60, 40, 60]\n"
     ]
    }
   ],
   "source": [
    "# create copy of a list\n",
    "\n",
    "numbers = [10, 20, 60, 30, 60, 40, 60]\n",
    "#style1\n",
    "n = numbers.copy()\n",
    "print(n)\n",
    "\n",
    "#style2\n",
    "n = numbers[:]\n",
    "print(n)"
   ]
  },
  {
   "cell_type": "code",
   "execution_count": 16,
   "id": "1dc9b447-4bed-4b90-bc37-ec216fb78d69",
   "metadata": {},
   "outputs": [
    {
     "name": "stdout",
     "output_type": "stream",
     "text": [
      "range: [1, 2, 3, 4, 5, 6, 7, 8, 9, 10, 11, 12]\n",
      "range: [2, 5, 8, 11]\n"
     ]
    }
   ],
   "source": [
    "# MISCELLANEOUS: lets create a list of 12 consecutive int starting with 1\n",
    "l = list(range(1,13))\n",
    "print(f\"range: {l}\")\n",
    "\n",
    "# #lets create a list numbers starting with idx=2, skipping 3 values , and print upto 12\n",
    "l_skip = list(range(2,13,3))\n",
    "print(f\"range: {l_skip}\")"
   ]
  },
  {
   "cell_type": "markdown",
   "id": "373b69dd-1357-4a97-870b-82519266ec5d",
   "metadata": {},
   "source": [
    "### built-in functions on list"
   ]
  },
  {
   "cell_type": "code",
   "execution_count": 18,
   "id": "0d6b360a-36f8-4dc2-914c-3bc04993f3bf",
   "metadata": {},
   "outputs": [
    {
     "name": "stdout",
     "output_type": "stream",
     "text": [
      "10\n",
      "70\n",
      "220\n",
      "6\n",
      "[10, 20, 30, 40, 50, 70]\n",
      "36.666666666666664\n"
     ]
    }
   ],
   "source": [
    "numbers = [70, 20, 10, 50, 30, 40]\n",
    "\n",
    "print(min(numbers))\n",
    "print(max(numbers))\n",
    "print(sum(numbers))\n",
    "print(len(numbers))\n",
    "print(sorted(numbers)) # NOTE: it would not work if list contains int, str, bool mixed type\n",
    "\n",
    "# a simple application:\n",
    "average = sum(numbers) / len(numbers)\n",
    "print(average)"
   ]
  },
  {
   "cell_type": "markdown",
   "id": "e1614fd3-6219-430c-8b38-1babf3dfe884",
   "metadata": {},
   "source": [
    "## Nested List"
   ]
  },
  {
   "cell_type": "code",
   "execution_count": 2,
   "id": "507546fb-1abe-4bc6-8a1d-4d76665a623b",
   "metadata": {},
   "outputs": [
    {
     "name": "stdout",
     "output_type": "stream",
     "text": [
      "[[1, 2, 3, 4], [5, 6, 7, 8], [7, 8, 9, 1]]\n"
     ]
    }
   ],
   "source": [
    "# 1. Basic Nested List: simulates matrix\n",
    "\n",
    "matrix = [\n",
    "    [1, 2, 3, 4],\n",
    "    [5, 6, 7, 8],\n",
    "    [7, 8, 9, 1]\n",
    "]\n",
    "\n",
    "print(matrix) # This is a 2D list (matrix) with 3 rows and 4 columns\n"
   ]
  },
  {
   "cell_type": "code",
   "execution_count": 5,
   "id": "486735d4-8b63-4797-8311-9b38d1603eeb",
   "metadata": {},
   "outputs": [
    {
     "name": "stdout",
     "output_type": "stream",
     "text": [
      "[[1, 2, 3], [4, 5, 6], [7, 8, 9]]\n",
      "[1, 2, 3]\n",
      "[4, 5, 6]\n",
      "[7, 8, 9]\n",
      "6\n",
      "8\n"
     ]
    }
   ],
   "source": [
    "# 2. Accessing Elements in a Nested List\n",
    "matrix = [\n",
    "    [1, 2, 3],\n",
    "    [4, 5, 6],\n",
    "    [7, 8, 9]\n",
    "]\n",
    "\n",
    "print(matrix)\n",
    "print(matrix[0])      # element at idx=0: First row -> [1, 2, 3]\n",
    "print(matrix[1])      # element at idx=1: First row -> [4, 5, 6]\n",
    "print(matrix[2])      # element at idx=2: Third row -> [7, 8, 9]\n",
    "\n",
    "print(matrix[1][2])   # element at row idx=1, column idx=2 -> 6\n",
    "print(matrix[2][1])   # element at row idx=2, column idx=1 -> 8\n"
   ]
  },
  {
   "cell_type": "code",
   "execution_count": 30,
   "id": "3a0a5f9e-46a6-4242-84cc-8bfa4ff0fdb8",
   "metadata": {},
   "outputs": [
    {
     "name": "stdout",
     "output_type": "stream",
     "text": [
      "[[1, 99, 3], [4, 5, 6], [7, 8, 9]]\n"
     ]
    }
   ],
   "source": [
    "# 3. Modifying a Nested List\n",
    "matrix = [\n",
    "    [1, 2, 3],\n",
    "    [4, 5, 6],\n",
    "    [7, 8, 9]\n",
    "]\n",
    "\n",
    "# print(matrix[0][1])\n",
    "matrix[0][1] = 99  # Change element at row idx=0, column idx=1\n",
    "\n",
    "print(matrix)"
   ]
  },
  {
   "cell_type": "markdown",
   "id": "9a11cbdc-b73c-4343-9762-fcde844a1beb",
   "metadata": {},
   "source": [
    "# STOP"
   ]
  },
  {
   "cell_type": "code",
   "execution_count": null,
   "id": "65075987-9078-4791-a1f4-83212f10e2d7",
   "metadata": {},
   "outputs": [],
   "source": []
  },
  {
   "cell_type": "code",
   "execution_count": null,
   "id": "86d748e6-520f-4b4f-8112-420ff66605f3",
   "metadata": {},
   "outputs": [],
   "source": []
  },
  {
   "cell_type": "code",
   "execution_count": null,
   "id": "84c22edd-9cc7-4f87-8b84-bea7cadd25a2",
   "metadata": {},
   "outputs": [],
   "source": []
  },
  {
   "cell_type": "code",
   "execution_count": null,
   "id": "3d54cc53-035a-4976-8ee2-e5c1050b6009",
   "metadata": {},
   "outputs": [],
   "source": []
  },
  {
   "cell_type": "code",
   "execution_count": null,
   "id": "dabed624-2fb1-46c8-93e0-8ac7fa98fee6",
   "metadata": {},
   "outputs": [],
   "source": []
  },
  {
   "cell_type": "code",
   "execution_count": null,
   "id": "52cf186e-8751-43e5-8a70-643b72c8477f",
   "metadata": {},
   "outputs": [],
   "source": []
  },
  {
   "cell_type": "code",
   "execution_count": null,
   "id": "76c43ef0-2e29-4b48-8c25-580e7d34bae5",
   "metadata": {},
   "outputs": [],
   "source": []
  },
  {
   "cell_type": "code",
   "execution_count": 3,
   "id": "7d4857bd-0018-4fd8-a1aa-6fd34b82f303",
   "metadata": {},
   "outputs": [
    {
     "name": "stdout",
     "output_type": "stream",
     "text": [
      "numbers after insert in the begin: [-6, 10, 20, 30, 40, 50]\n"
     ]
    }
   ],
   "source": [
    "#########Assignment############\n",
    "# How to put -6 in the begining of list ?\n",
    "numbers = [10, 20, 30, 40, 50]\n",
    "numbers.insert(0,-6)\n",
    "print(f\"numbers after insert in the begin: {numbers}\")"
   ]
  },
  {
   "cell_type": "code",
   "execution_count": 2,
   "id": "fc451197-c0ee-4359-a7e1-609e88fc9c85",
   "metadata": {},
   "outputs": [
    {
     "name": "stdout",
     "output_type": "stream",
     "text": [
      "[10, 20, 30, 40, 50]\n",
      "['h', 'e', 'l', 'l', 'o']\n"
     ]
    }
   ],
   "source": [
    "\n",
    "\n",
    "# OPTIONAL\n",
    "age = list((10, 20, 30, 40, 50))  # Note: double parentheses!\n",
    "print(age)\n",
    "chars = list(\"hello\")  # ['h', 'e', 'l', 'l', 'o']\n",
    "print(chars)"
   ]
  },
  {
   "cell_type": "code",
   "execution_count": null,
   "id": "8b90ec57-b597-4228-9c49-1c7515ee994d",
   "metadata": {},
   "outputs": [
    {
     "name": "stdout",
     "output_type": "stream",
     "text": [
      "1 2 3 \n",
      "4 5 6 \n",
      "7 8 9 \n"
     ]
    }
   ],
   "source": [
    "# 4. OPTIONAL: For Looping Through a Nested List\n",
    "matrix = [\n",
    "    [1, 2, 3],\n",
    "    [4, 5, 6],\n",
    "    [7, 8, 9]\n",
    "]\n",
    "\n",
    "for row in matrix:\n",
    "    for element in row:\n",
    "        print(element, end=\" \")\n",
    "    print()  # New line after each row\n"
   ]
  },
  {
   "cell_type": "code",
   "execution_count": 34,
   "id": "9b258979-f780-477e-856f-51283a595ffe",
   "metadata": {},
   "outputs": [
    {
     "name": "stdout",
     "output_type": "stream",
     "text": [
      "Hello,,,,Bob,,,,Julia,,,,Kumar\n"
     ]
    }
   ],
   "source": [
    "# OPTIONAL\n",
    "st = \" \" # or use comma\n",
    "l = [\"Hello\", \"Bob\", \"Julia\", \"Kumar\"]\n",
    "new_str = st.join(l)\n",
    "print(new_str)\n",
    "\n",
    "# application: create CSV file"
   ]
  },
  {
   "cell_type": "code",
   "execution_count": null,
   "id": "27058fc4-26b5-4bc2-9d30-86b50c449a1a",
   "metadata": {},
   "outputs": [],
   "source": []
  },
  {
   "cell_type": "code",
   "execution_count": null,
   "id": "02a3cfa6-b7ca-40d8-80f5-ae39080a5e54",
   "metadata": {},
   "outputs": [],
   "source": []
  },
  {
   "cell_type": "code",
   "execution_count": null,
   "id": "40d296cb-48a0-4c1e-86e8-e706a55b6734",
   "metadata": {},
   "outputs": [],
   "source": []
  },
  {
   "cell_type": "code",
   "execution_count": null,
   "id": "cde4c293-001b-4185-96f1-75a6247a2ccb",
   "metadata": {},
   "outputs": [],
   "source": []
  },
  {
   "cell_type": "code",
   "execution_count": null,
   "id": "e64dcbc2-93d0-46fa-a9a9-c1abd8264bcd",
   "metadata": {},
   "outputs": [],
   "source": []
  },
  {
   "cell_type": "code",
   "execution_count": null,
   "id": "bd643515-efe0-416e-bd88-f3ba88657fbe",
   "metadata": {},
   "outputs": [],
   "source": []
  },
  {
   "cell_type": "code",
   "execution_count": null,
   "id": "4fab3dbd-c19e-4321-877d-c362be637f50",
   "metadata": {},
   "outputs": [],
   "source": []
  }
 ],
 "metadata": {
  "kernelspec": {
   "display_name": "Python 3 (ipykernel)",
   "language": "python",
   "name": "python3"
  },
  "language_info": {
   "codemirror_mode": {
    "name": "ipython",
    "version": 3
   },
   "file_extension": ".py",
   "mimetype": "text/x-python",
   "name": "python",
   "nbconvert_exporter": "python",
   "pygments_lexer": "ipython3",
   "version": "3.9.9"
  }
 },
 "nbformat": 4,
 "nbformat_minor": 5
}
