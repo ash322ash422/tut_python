{
 "cells": [
  {
   "cell_type": "markdown",
   "metadata": {},
   "source": [
    "# Python Operators\n",
    "### TYPES:  Arithmetic,  Comparison, Assignment, Logical, Membership, Identity"
   ]
  },
  {
   "cell_type": "markdown",
   "metadata": {},
   "source": [
    "### Arithmetic Operator +, - , *, /, //, %, **"
   ]
  },
  {
   "cell_type": "code",
   "execution_count": 1,
   "metadata": {},
   "outputs": [
    {
     "name": "stdout",
     "output_type": "stream",
     "text": [
      "11\n"
     ]
    }
   ],
   "source": [
    "#Addition\n",
    "x = 6\n",
    "y = 5\n",
    "res = x + y\n",
    "\n",
    "print(res) "
   ]
  },
  {
   "cell_type": "code",
   "execution_count": 2,
   "metadata": {},
   "outputs": [
    {
     "name": "stdout",
     "output_type": "stream",
     "text": [
      "11\n"
     ]
    }
   ],
   "source": [
    "#or I can print addition without using variable res\n",
    "x = 6\n",
    "y = 5\n",
    "\n",
    "print(x+y)"
   ]
  },
  {
   "cell_type": "code",
   "execution_count": 6,
   "metadata": {},
   "outputs": [
    {
     "name": "stdout",
     "output_type": "stream",
     "text": [
      "1\n"
     ]
    }
   ],
   "source": [
    "#Subtraction\n",
    "x = 6\n",
    "y = 5\n",
    "res = x - y\n",
    "\n",
    "print(res)"
   ]
  },
  {
   "cell_type": "code",
   "execution_count": 7,
   "metadata": {},
   "outputs": [
    {
     "name": "stdout",
     "output_type": "stream",
     "text": [
      "30\n"
     ]
    }
   ],
   "source": [
    "#Multiplication\n",
    "x = 6\n",
    "y = 5\n",
    "res = x * y\n",
    "print(res)"
   ]
  },
  {
   "cell_type": "code",
   "execution_count": 3,
   "metadata": {},
   "outputs": [
    {
     "name": "stdout",
     "output_type": "stream",
     "text": [
      "2.0\n"
     ]
    }
   ],
   "source": [
    "#Normal Division (/) --> (Float div) \n",
    "x = 10\n",
    "y = 5\n",
    "res = x / y\n",
    "\n",
    "print(res)"
   ]
  },
  {
   "cell_type": "code",
   "execution_count": 4,
   "metadata": {},
   "outputs": [
    {
     "name": "stdout",
     "output_type": "stream",
     "text": [
      "3\n"
     ]
    }
   ],
   "source": [
    "# Modulo Division (//) --> Floor Division --> without decimal values\n",
    "x = 17\n",
    "y = 5\n",
    "res = x // y\n",
    "\n",
    "print(res)"
   ]
  },
  {
   "cell_type": "code",
   "execution_count": 8,
   "metadata": {},
   "outputs": [
    {
     "name": "stdout",
     "output_type": "stream",
     "text": [
      "2\n"
     ]
    }
   ],
   "source": [
    "# Remainder Division (%)\n",
    "x = 17\n",
    "y = 5\n",
    "res = x % y\n",
    "\n",
    "print(res)"
   ]
  },
  {
   "cell_type": "code",
   "execution_count": 9,
   "metadata": {},
   "outputs": [
    {
     "name": "stdout",
     "output_type": "stream",
     "text": [
      "81\n"
     ]
    }
   ],
   "source": [
    "#Exponentiation (**)\n",
    "x = 3\n",
    "y = 4\n",
    "res = x ** y\n",
    "\n",
    "print(res)"
   ]
  },
  {
   "cell_type": "markdown",
   "metadata": {},
   "source": [
    "### Comparison Operators <,<=,>,>=,==,!=\n",
    "- comparing data values. Data can be int, string, float, etc\n",
    "- always returns **boolean variable**: True or False"
   ]
  },
  {
   "cell_type": "code",
   "execution_count": 1,
   "metadata": {},
   "outputs": [
    {
     "name": "stdout",
     "output_type": "stream",
     "text": [
      "True\n",
      "False\n"
     ]
    }
   ],
   "source": [
    "print(True) # True / False is a boolean variable\n",
    "print(False)"
   ]
  },
  {
   "cell_type": "code",
   "execution_count": 6,
   "metadata": {},
   "outputs": [
    {
     "name": "stdout",
     "output_type": "stream",
     "text": [
      "False\n"
     ]
    }
   ],
   "source": [
    "x = 16\n",
    "y = 15\n",
    "res = x > y # this is a boolean type\n",
    "\n",
    "print(res) \n",
    "# print(type(res))"
   ]
  },
  {
   "cell_type": "code",
   "execution_count": 7,
   "metadata": {},
   "outputs": [
    {
     "name": "stdout",
     "output_type": "stream",
     "text": [
      "True\n"
     ]
    }
   ],
   "source": [
    "# or I can print the value directly\n",
    "x = 16\n",
    "y = 15\n",
    "\n",
    "print(x > y) "
   ]
  },
  {
   "cell_type": "code",
   "execution_count": null,
   "metadata": {},
   "outputs": [
    {
     "name": "stdout",
     "output_type": "stream",
     "text": [
      "False\n"
     ]
    }
   ],
   "source": [
    "x = 16\n",
    "y = 15\n",
    "\n",
    "print(x < y) "
   ]
  },
  {
   "cell_type": "code",
   "execution_count": null,
   "metadata": {},
   "outputs": [
    {
     "name": "stdout",
     "output_type": "stream",
     "text": [
      "True\n"
     ]
    }
   ],
   "source": [
    "x = 13\n",
    "y = 15\n",
    "\n",
    "print(x < y) "
   ]
  },
  {
   "cell_type": "code",
   "execution_count": null,
   "metadata": {},
   "outputs": [
    {
     "name": "stdout",
     "output_type": "stream",
     "text": [
      "True\n"
     ]
    }
   ],
   "source": [
    "x = 15\n",
    "y = 15\n",
    "print(x >= y) "
   ]
  },
  {
   "cell_type": "code",
   "execution_count": null,
   "metadata": {},
   "outputs": [
    {
     "name": "stdout",
     "output_type": "stream",
     "text": [
      "False\n"
     ]
    }
   ],
   "source": [
    "x = 13\n",
    "y = 15\n",
    "\n",
    "print(x >= y) "
   ]
  },
  {
   "cell_type": "code",
   "execution_count": null,
   "metadata": {},
   "outputs": [
    {
     "name": "stdout",
     "output_type": "stream",
     "text": [
      "True\n"
     ]
    }
   ],
   "source": [
    "x = 20\n",
    "y = 15\n",
    "\n",
    "print(x >= y) # is x greater than or equal to y"
   ]
  },
  {
   "cell_type": "code",
   "execution_count": null,
   "metadata": {},
   "outputs": [
    {
     "name": "stdout",
     "output_type": "stream",
     "text": [
      "True\n"
     ]
    }
   ],
   "source": [
    "x = 13\n",
    "y = 15\n",
    "\n",
    "print(x <= y) "
   ]
  },
  {
   "cell_type": "code",
   "execution_count": 18,
   "metadata": {},
   "outputs": [
    {
     "name": "stdout",
     "output_type": "stream",
     "text": [
      "True\n"
     ]
    }
   ],
   "source": [
    "# is equal to ==\n",
    "x = 15\n",
    "y = 15\n",
    "\n",
    "# x == y is False \n",
    "print(x == y) "
   ]
  },
  {
   "cell_type": "code",
   "execution_count": 11,
   "metadata": {},
   "outputs": [
    {
     "name": "stdout",
     "output_type": "stream",
     "text": [
      "False\n"
     ]
    }
   ],
   "source": [
    "# not equal to !=\n",
    "x = 16\n",
    "y = 16\n",
    "\n",
    "print(x != y) "
   ]
  },
  {
   "cell_type": "code",
   "execution_count": 13,
   "metadata": {},
   "outputs": [
    {
     "name": "stdout",
     "output_type": "stream",
     "text": [
      "True\n"
     ]
    }
   ],
   "source": [
    "# We can also compare strings\n",
    "x = \"a\"\n",
    "y = \"d\"\n",
    "\n",
    "print(x > y) # for strings it performs lexicograph a < b < c < d...."
   ]
  },
  {
   "cell_type": "code",
   "execution_count": 2,
   "metadata": {},
   "outputs": [
    {
     "name": "stdout",
     "output_type": "stream",
     "text": [
      "False\n",
      "True\n"
     ]
    }
   ],
   "source": [
    "\n",
    "x = \"abc\"\n",
    "y = \"abd\"\n",
    "\n",
    "print(x > y) # lexicograph\n",
    "\n",
    "##############################\n",
    "x = \"abe\"\n",
    "y = \"abd\"\n",
    "\n",
    "print(x > y) # lexicograph"
   ]
  },
  {
   "cell_type": "code",
   "execution_count": 17,
   "metadata": {},
   "outputs": [
    {
     "name": "stdout",
     "output_type": "stream",
     "text": [
      "False\n"
     ]
    }
   ],
   "source": [
    "a = \"bobit\"\n",
    "b = \"boss\"\n",
    "print(a > b) # lexicograph"
   ]
  },
  {
   "cell_type": "code",
   "execution_count": 14,
   "metadata": {},
   "outputs": [
    {
     "name": "stdout",
     "output_type": "stream",
     "text": [
      "False\n"
     ]
    }
   ],
   "source": [
    "# SKIP: OPTIONAL: compares list\n",
    "a = [1,2,3]\n",
    "b = [1,2,3,4]\n",
    "print(b<a)"
   ]
  },
  {
   "cell_type": "code",
   "execution_count": 15,
   "metadata": {},
   "outputs": [
    {
     "name": "stdout",
     "output_type": "stream",
     "text": [
      "True\n"
     ]
    }
   ],
   "source": [
    "# SKIP\n",
    "x = chr(12)\n",
    "y = chr(13)\n",
    "\n",
    "b = x < y\n",
    "\n",
    "print(b)"
   ]
  },
  {
   "cell_type": "code",
   "execution_count": null,
   "metadata": {},
   "outputs": [],
   "source": []
  },
  {
   "cell_type": "markdown",
   "metadata": {},
   "source": [
    "### Assignment Operator =, +=, -=, *=, %="
   ]
  },
  {
   "cell_type": "code",
   "execution_count": 16,
   "metadata": {},
   "outputs": [
    {
     "name": "stdout",
     "output_type": "stream",
     "text": [
      "5\n"
     ]
    }
   ],
   "source": [
    "# assign to variable a the value of 5\n",
    "a = 5\n",
    "\n",
    "print(a)"
   ]
  },
  {
   "cell_type": "code",
   "execution_count": 19,
   "metadata": {},
   "outputs": [
    {
     "name": "stdout",
     "output_type": "stream",
     "text": [
      "15\n"
     ]
    }
   ],
   "source": [
    "# c could be salary, hike a\n",
    "c = 12\n",
    "a = 3\n",
    "\n",
    "c = c + a # overwrites the previous value of c\n",
    "print(c)\n",
    "\n",
    "c += a  #--> c = c + a\n",
    "# print (c)"
   ]
  },
  {
   "cell_type": "code",
   "execution_count": null,
   "metadata": {},
   "outputs": [
    {
     "name": "stdout",
     "output_type": "stream",
     "text": [
      "12\n"
     ]
    }
   ],
   "source": [
    "c = 12\n",
    "a = 3\n",
    "\n",
    "c -= a  #--> c = c - a\n",
    "print (c)"
   ]
  },
  {
   "cell_type": "code",
   "execution_count": null,
   "metadata": {},
   "outputs": [
    {
     "name": "stdout",
     "output_type": "stream",
     "text": [
      "1092\n"
     ]
    }
   ],
   "source": [
    "c = 12\n",
    "a = 3\n",
    "\n",
    "c *= a # c = c * a\n",
    "print(c)"
   ]
  },
  {
   "cell_type": "code",
   "execution_count": 12,
   "metadata": {},
   "outputs": [
    {
     "name": "stdout",
     "output_type": "stream",
     "text": [
      "3\n"
     ]
    }
   ],
   "source": [
    "# Remainder\n",
    "c = 10\n",
    "a = 7\n",
    "\n",
    "c %= a #--> c = c % a \n",
    "print(c)"
   ]
  },
  {
   "cell_type": "code",
   "execution_count": 14,
   "metadata": {},
   "outputs": [
    {
     "name": "stdout",
     "output_type": "stream",
     "text": [
      "2.5\n"
     ]
    }
   ],
   "source": [
    "c=10\n",
    "a=4\n",
    "\n",
    "c /= a # c = c / a\n",
    "print(c)"
   ]
  },
  {
   "cell_type": "markdown",
   "metadata": {},
   "source": [
    "### Logical Operator: and, or, not\n",
    "- returns boolean variable: True or False"
   ]
  },
  {
   "cell_type": "code",
   "execution_count": null,
   "metadata": {},
   "outputs": [
    {
     "name": "stdout",
     "output_type": "stream",
     "text": [
      "True\n",
      "False\n",
      "False\n",
      "False\n",
      "#######################\n",
      "True\n",
      "False\n"
     ]
    }
   ],
   "source": [
    "# and operator: if every single condition is True then it will return True, else it will return False \n",
    "print(True  and True)\n",
    "print(True  and False)\n",
    "print(False and True)\n",
    "print(False and False)\n",
    "\n",
    "\n",
    "print(\"#######################\")\n",
    "print(True  and True and True  and True)\n",
    "print(True  and True and False and True)\n",
    "\n",
    "\n"
   ]
  },
  {
   "cell_type": "code",
   "execution_count": 20,
   "metadata": {},
   "outputs": [
    {
     "name": "stdout",
     "output_type": "stream",
     "text": [
      "False\n"
     ]
    }
   ],
   "source": [
    "# example: age is between 20 and 30\n",
    "age = 60\n",
    "\n",
    "res = age > 20 and age < 30 # True and False\n",
    "\n",
    "print(res)"
   ]
  },
  {
   "cell_type": "code",
   "execution_count": 24,
   "metadata": {},
   "outputs": [
    {
     "name": "stdout",
     "output_type": "stream",
     "text": [
      "False\n"
     ]
    }
   ],
   "source": [
    "age = 25 \n",
    "income = 20000\n",
    "\n",
    "# res = age > 20 and income > 15000 # True and True\n",
    "res = age > 30 and income < 15000 # False and False\n",
    "\n",
    "print(res)"
   ]
  },
  {
   "cell_type": "code",
   "execution_count": null,
   "metadata": {},
   "outputs": [
    {
     "name": "stdout",
     "output_type": "stream",
     "text": [
      "True\n",
      "True\n",
      "True\n",
      "False\n",
      "#######################\n",
      "True\n",
      "True\n",
      "False\n"
     ]
    }
   ],
   "source": [
    "# or condition: if a single condition is True then  it will return True else it will return False\n",
    "print(True  or True)\n",
    "print(True  or False)\n",
    "print(False or True)\n",
    "print(False or False)\n",
    "\n",
    "print(\"#######################\")\n",
    "print(True  or True  or True  or True)\n",
    "print(True  or True  or False or True)\n",
    "print(False or False or False or False)\n",
    "\n"
   ]
  },
  {
   "cell_type": "code",
   "execution_count": 8,
   "metadata": {},
   "outputs": [
    {
     "name": "stdout",
     "output_type": "stream",
     "text": [
      "True\n"
     ]
    }
   ],
   "source": [
    "age = 5\n",
    "\n",
    "# determine if age is out range [30 to 60]\n",
    "res = age < 30 or age > 60 # True or False\n",
    "\n",
    "print(res)"
   ]
  },
  {
   "cell_type": "code",
   "execution_count": 11,
   "metadata": {},
   "outputs": [
    {
     "name": "stdout",
     "output_type": "stream",
     "text": [
      "False\n"
     ]
    }
   ],
   "source": [
    "age = 5\n",
    "name = 'jerry'\n",
    "\n",
    "# res = age < 30 or name == 'tinku' # True or False\n",
    "# res = age < 30 or name == 'jerry' # True or True\n",
    "res = age > 30 or name == 'TINKU' # False or False\n",
    "\n",
    "\n",
    "print(res)"
   ]
  },
  {
   "cell_type": "code",
   "execution_count": 15,
   "metadata": {},
   "outputs": [
    {
     "name": "stdout",
     "output_type": "stream",
     "text": [
      "False\n"
     ]
    }
   ],
   "source": [
    "user = \"ash\"\n",
    "\n",
    "res = user == 'admin' or user == 'jerry' # False or False\n",
    "# res = (user == 'admin' or user == 'jerry') # I put () for readability.  \n",
    "# res = (user == 'admin' or user == 'ash') # False or True\n",
    "\n",
    "print(res)"
   ]
  },
  {
   "cell_type": "code",
   "execution_count": null,
   "metadata": {},
   "outputs": [],
   "source": []
  },
  {
   "cell_type": "code",
   "execution_count": 16,
   "metadata": {},
   "outputs": [
    {
     "name": "stdout",
     "output_type": "stream",
     "text": [
      "True\n"
     ]
    }
   ],
   "source": [
    "# combine or and\n",
    "\n",
    "# example1: Extra charge if high consumption(more than 500 W) and either urban area or AC is used.\n",
    "units_used = 520 # power consume\n",
    "area = 'urban'\n",
    "has_air_conditioner = True\n",
    "\n",
    "res = units_used > 500 and (area == 'urban' or has_air_conditioner) # True and (True or True)\n",
    "\n",
    "print(res)  "
   ]
  },
  {
   "cell_type": "code",
   "execution_count": 18,
   "metadata": {},
   "outputs": [
    {
     "name": "stdout",
     "output_type": "stream",
     "text": [
      "False\n",
      "#####################\n",
      "True\n"
     ]
    }
   ],
   "source": [
    "# example2: checks either if both subjects(science+math) score are > 40 or total score exceed 95.\n",
    "math_score = 21\n",
    "science_score = 65\n",
    "\n",
    "res = (math_score > 40 and science_score > 40) or (math_score + science_score > 95) # (False and True) or (False)\n",
    "\n",
    "print(res)\n",
    "\n",
    "print(\"#####################\")\n",
    "math_score = 33\n",
    "science_score = 65\n",
    "\n",
    "res = (math_score > 40 and science_score > 40) or (math_score + science_score > 95) # (False and True) or (True)\n",
    "\n",
    "print(res)"
   ]
  },
  {
   "cell_type": "code",
   "execution_count": 8,
   "metadata": {},
   "outputs": [
    {
     "name": "stdout",
     "output_type": "stream",
     "text": [
      "True\n"
     ]
    }
   ],
   "source": [
    "# The salary must be good(>25000) and either credit score is high or a guarantor is available.\n",
    "\n",
    "salary = 30000\n",
    "credit_score = 650\n",
    "has_guarantor = True\n",
    "\n",
    "b = salary > 25000 and (credit_score > 700 or has_guarantor)\n",
    "\n",
    "print(b)"
   ]
  },
  {
   "cell_type": "code",
   "execution_count": 20,
   "metadata": {},
   "outputs": [
    {
     "name": "stdout",
     "output_type": "stream",
     "text": [
      "True\n",
      "False\n",
      "True\n",
      "False\n"
     ]
    }
   ],
   "source": [
    "# Print not a is False \n",
    "print(True)\n",
    "print(not True)\n",
    "print(not False)\n",
    "\n",
    "a = True\n",
    "print(not a)\n"
   ]
  },
  {
   "cell_type": "markdown",
   "metadata": {},
   "source": [
    "# Membership Operator- in, not in"
   ]
  },
  {
   "cell_type": "code",
   "execution_count": 23,
   "metadata": {},
   "outputs": [
    {
     "name": "stdout",
     "output_type": "stream",
     "text": [
      "True\n"
     ]
    }
   ],
   "source": [
    "sentence = 'University of Miami'\n",
    "\n",
    "res = 'Mia' in sentence\n",
    "\n",
    "print(res)"
   ]
  },
  {
   "cell_type": "code",
   "execution_count": 29,
   "metadata": {},
   "outputs": [
    {
     "name": "stdout",
     "output_type": "stream",
     "text": [
      "False\n"
     ]
    }
   ],
   "source": [
    "sentence = 'University of Miami'  \n",
    "print('miami' in sentence)"
   ]
  },
  {
   "cell_type": "code",
   "execution_count": 24,
   "metadata": {},
   "outputs": [
    {
     "name": "stdout",
     "output_type": "stream",
     "text": [
      "False\n"
     ]
    }
   ],
   "source": [
    "print('I' in sentence)"
   ]
  },
  {
   "cell_type": "code",
   "execution_count": 27,
   "metadata": {},
   "outputs": [
    {
     "name": "stdout",
     "output_type": "stream",
     "text": [
      "True\n",
      "False\n"
     ]
    }
   ],
   "source": [
    "print('University' in sentence)\n",
    "print('University' not in sentence) "
   ]
  },
  {
   "cell_type": "code",
   "execution_count": 13,
   "metadata": {},
   "outputs": [
    {
     "name": "stdout",
     "output_type": "stream",
     "text": [
      "True\n",
      "False\n",
      "False\n",
      "True\n"
     ]
    }
   ],
   "source": [
    "# SKIP: OPTIONAL\n",
    "lst = [1, 3, \"Universe talks through stars\"]\n",
    "print(1 in lst)\n",
    "print(2 in lst)\n",
    "print(\"Universe\"  in lst)\n",
    "print(\"Universe\"  in lst[2])\n"
   ]
  },
  {
   "cell_type": "code",
   "execution_count": null,
   "metadata": {},
   "outputs": [],
   "source": []
  },
  {
   "cell_type": "markdown",
   "metadata": {},
   "source": [
    "# Identity Operator is , is not\n",
    "Used to check if 2 variables refer to the same memory location, not just if they have the same value.\n",
    "\n",
    "- **==** Checks whether two values are equal. It compares contents/values, not whether they’re the same object.\n",
    "\n",
    "- **is** Checks whether two variables point to the same object in memory."
   ]
  },
  {
   "cell_type": "code",
   "execution_count": 29,
   "metadata": {},
   "outputs": [
    {
     "name": "stdout",
     "output_type": "stream",
     "text": [
      "False\n",
      "True\n"
     ]
    }
   ],
   "source": [
    "a = 3\n",
    "b = 6\n",
    "\n",
    "print(a is b) # checks if a and b are living in same memory address\n",
    "print(a is not b) "
   ]
  },
  {
   "cell_type": "code",
   "execution_count": 33,
   "metadata": {},
   "outputs": [
    {
     "name": "stdout",
     "output_type": "stream",
     "text": [
      "140731182164472\n",
      "140731182164568\n"
     ]
    }
   ],
   "source": [
    "# where is it stored ?\n",
    "a = 3\n",
    "b = 6\n",
    "\n",
    "print(id(a))\n",
    "print(id(b))"
   ]
  },
  {
   "cell_type": "code",
   "execution_count": 34,
   "metadata": {},
   "outputs": [
    {
     "name": "stdout",
     "output_type": "stream",
     "text": [
      "True\n",
      "140731182164472\n",
      "140731182164472\n"
     ]
    }
   ],
   "source": [
    "a = 3\n",
    "b = 3\n",
    "print(a is b)\n",
    "\n",
    "print(id(a))\n",
    "print(id(b))"
   ]
  },
  {
   "cell_type": "code",
   "execution_count": 35,
   "metadata": {},
   "outputs": [
    {
     "name": "stdout",
     "output_type": "stream",
     "text": [
      "True\n",
      "140731182164472\n",
      "140731182164472\n"
     ]
    }
   ],
   "source": [
    "a = 3\n",
    "b = a\n",
    "print(a is b) \n",
    "\n",
    "print(id(a))\n",
    "print(id(b))"
   ]
  },
  {
   "cell_type": "markdown",
   "metadata": {},
   "source": [
    "# STOP"
   ]
  },
  {
   "cell_type": "markdown",
   "metadata": {},
   "source": [
    "### (OPTIONAL): Order of Operators\n",
    "\n",
    "#### Python Operator Precedence (Highest to Lowest)\n",
    "Here’s the order in which Python evaluates operators:\n",
    "\n",
    "- ** (Exponentiation)\n",
    "\n",
    "- *, / (Multiplication and Division)\n",
    "\n",
    "- +, - (Addition and Subtraction)\n",
    "\n",
    "- Operators with the same precedence are evaluated left to right (except **, which is right to left)."
   ]
  },
  {
   "cell_type": "code",
   "execution_count": 38,
   "metadata": {},
   "outputs": [
    {
     "name": "stdout",
     "output_type": "stream",
     "text": [
      "14\n",
      "####################\n",
      "20\n",
      "####################\n",
      "32\n",
      "####################\n",
      "18.0\n",
      "####################\n",
      "160.0\n"
     ]
    }
   ],
   "source": [
    "a = 2\n",
    "b = 3\n",
    "c = 4\n",
    "\n",
    "result = a + b * c\n",
    "print(result)  # Output: 14\n",
    "\n",
    "print(\"####################\")\n",
    "# Now I want addition to happen before multiplication\n",
    "result = (a + b) * c\n",
    "print(result)  # Output: 20\n",
    "\n",
    "print(\"####################\")\n",
    "result = 2 ** 3 * 4  # = (2**3) * 4 = 8*4 = 32\n",
    "print(result)  # Output: 32\n",
    "\n",
    "print(\"####################\")\n",
    "result = 10 + 6 / 2 * 3 - 1\n",
    "print(result)  # Output: 18.0\n",
    "\n",
    "\n",
    "print(\"####################\")\n",
    "a = 30\n",
    "b = 10\n",
    "c = 20\n",
    "d = 5\n",
    "res = (a+b)*c/d\n",
    "print(res)"
   ]
  },
  {
   "cell_type": "code",
   "execution_count": null,
   "metadata": {},
   "outputs": [],
   "source": []
  },
  {
   "cell_type": "code",
   "execution_count": null,
   "metadata": {},
   "outputs": [],
   "source": []
  },
  {
   "cell_type": "markdown",
   "metadata": {},
   "source": [
    "# STOP"
   ]
  },
  {
   "cell_type": "code",
   "execution_count": 10,
   "metadata": {},
   "outputs": [
    {
     "name": "stdout",
     "output_type": "stream",
     "text": [
      "True\n",
      "False\n"
     ]
    }
   ],
   "source": [
    "# SKIP\n",
    "a = [1, 2, 3]\n",
    "b = a\n",
    "print(a is b)  # True (same object in memory)\n",
    "\n",
    "c = [1, 2, 3]\n",
    "print(a is c)  # False (same value, but different object)"
   ]
  },
  {
   "cell_type": "code",
   "execution_count": 11,
   "metadata": {},
   "outputs": [
    {
     "name": "stdout",
     "output_type": "stream",
     "text": [
      "False\n",
      "True\n"
     ]
    }
   ],
   "source": [
    "a = [1, 2, 3]\n",
    "b = [1, 2, 3]\n",
    "print(a is b)   # False — different objects in memory\n",
    "\n",
    "c = a\n",
    "print(a is c)   # True — both point to the same list object"
   ]
  },
  {
   "cell_type": "code",
   "execution_count": null,
   "metadata": {},
   "outputs": [],
   "source": [
    "m = [1, 2, 3] # 0A1203CF\n",
    "n = m\n",
    "\n",
    "print(id(m)) # memory address (identity) of the object m.\n",
    "print(id(n)) # memory address (identity) of the object n."
   ]
  },
  {
   "cell_type": "code",
   "execution_count": null,
   "metadata": {},
   "outputs": [],
   "source": [
    "m = [1, 2, 3] \n",
    "n = [1, 2, 3]\n",
    "\n",
    "print(id(m)) # memory address (identity) of the object m.\n",
    "print(id(n)) # memory address (identity) of the object n."
   ]
  },
  {
   "cell_type": "code",
   "execution_count": 3,
   "metadata": {},
   "outputs": [
    {
     "name": "stdout",
     "output_type": "stream",
     "text": [
      "Weather data not available yet\n"
     ]
    }
   ],
   "source": [
    "# Simulate checking weather data\n",
    "temperature = None  # No data yet\n",
    "# temperature = 30  # temperature received from the weather API\n",
    "\n",
    "if temperature is None:\n",
    "    print(\"Weather data not available yet\")\n",
    "\n",
    "if temperature is not None:\n",
    "    print(f\"The current temperature is {temperature}°C\")\n"
   ]
  }
 ],
 "metadata": {
  "kernelspec": {
   "display_name": "Python 3 (ipykernel)",
   "language": "python",
   "name": "python3"
  },
  "language_info": {
   "codemirror_mode": {
    "name": "ipython",
    "version": 3
   },
   "file_extension": ".py",
   "mimetype": "text/x-python",
   "name": "python",
   "nbconvert_exporter": "python",
   "pygments_lexer": "ipython3",
   "version": "3.12.7"
  }
 },
 "nbformat": 4,
 "nbformat_minor": 4
}
