{
 "cells": [
  {
   "cell_type": "markdown",
   "id": "05ba9f55-4226-41f1-a7b8-8c82fe190439",
   "metadata": {},
   "source": [
    "## Conditional if-else statement:\n",
    "Following is the general expression:\n",
    "\n",
    "```\n",
    "if  [boolean_expression1]:\n",
    "    statements1\n",
    "elif [boolean_expression2]:\n",
    "    statements2\n",
    "elif [boolean_expression3]:\n",
    "    statements3\n",
    "else\n",
    "    statements4\n",
    "```     \n",
    "\n"
   ]
  },
  {
   "cell_type": "code",
   "execution_count": 1,
   "id": "5221b0b0-aea6-4cfc-9e5e-05f6f11cedc8",
   "metadata": {},
   "outputs": [
    {
     "name": "stdout",
     "output_type": "stream",
     "text": [
      "The student's score is above average.\n",
      "That's a good result!\n",
      "Lets celebrate\n",
      "Moving on to the next evaluation...\n"
     ]
    }
   ],
   "source": [
    "# Example: Checking a student's score using only if\n",
    "score = 6  # change\n",
    "\n",
    "if score > 5:\n",
    "    print(\"The student's score is above average.\")\n",
    "    print(\"That's a good result!\")\n",
    "    print(\"Lets celebrate\")\n",
    "\n",
    "print(\"Moving on to the next evaluation...\")"
   ]
  },
  {
   "cell_type": "code",
   "execution_count": 2,
   "id": "9cff667a-8710-48b3-9cd4-2fd3abbcea05",
   "metadata": {},
   "outputs": [
    {
     "name": "stdout",
     "output_type": "stream",
     "text": [
      "The student's score is below average.\n",
      "There might be room for improvement.\n",
      "Moving on to the next evaluation...\n"
     ]
    }
   ],
   "source": [
    "# Example: Checking a student's score using if - else\n",
    "score = 4  # previously 10\n",
    "\n",
    "if score > 5:\n",
    "    print(\"The student's score is above average.\")\n",
    "    print(\"That's a good result!\")\n",
    "    print(\"Lets celebrate\")\n",
    "else:\n",
    "    print(\"The student's score is below average.\")\n",
    "    print(\"There might be room for improvement.\")\n",
    "\n",
    "print(\"Moving on to the next evaluation...\")"
   ]
  },
  {
   "cell_type": "code",
   "execution_count": 3,
   "id": "e33fbaf4-2e4a-41eb-b1d7-0cf9f0585352",
   "metadata": {},
   "outputs": [
    {
     "name": "stdin",
     "output_type": "stream",
     "text": [
      "Enter number: 2\n"
     ]
    },
    {
     "name": "stdout",
     "output_type": "stream",
     "text": [
      "Even number\n"
     ]
    }
   ],
   "source": [
    "# Example: User enters a number and program display message if number is even or odd\n",
    "\n",
    "num = input(\"Enter number:\")\n",
    "num = int(num)\n",
    "\n",
    "#OR USE\n",
    "# num = int(input(\"Enter number:\"))\n",
    "\n",
    "if num % 2 == 0:\n",
    "    print(\"Even number\")\n",
    "else:\n",
    "    print(\"Odd number\")\n"
   ]
  },
  {
   "cell_type": "code",
   "execution_count": 4,
   "id": "70dae8a0-9f62-4cbc-a699-254b73cc844a",
   "metadata": {},
   "outputs": [
    {
     "name": "stdin",
     "output_type": "stream",
     "text": [
      "Enter your name:  ash\n",
      "Enter your age:  34\n"
     ]
    },
    {
     "name": "stdout",
     "output_type": "stream",
     "text": [
      "Hello ash! You are younger than 100 year old man.\n"
     ]
    }
   ],
   "source": [
    "#STEP1: Program to display a msg depending on his age: uses if-elif-else condition\n",
    "\n",
    "name = input(\"Enter your name: \")\n",
    "age  = input(\"Enter your age: \")\n",
    "age = int(age)\n",
    "\n",
    "if age < 100:\n",
    "    print(f\"Hello {name}! You are younger than 100 year old man.\")\n",
    "elif age == 100:\n",
    "    print(f\"Wow {name}, you're already 100 years old this year!\")\n",
    "else:\n",
    "    print(f\"Hey {name}, you are older than 100 years old man.\")\n",
    "\n"
   ]
  },
  {
   "cell_type": "code",
   "execution_count": 5,
   "id": "e1564d31-7736-486e-a83a-41feefcbc336",
   "metadata": {},
   "outputs": [
    {
     "name": "stdin",
     "output_type": "stream",
     "text": [
      "Enter your name:  ash\n",
      "Enter your age:  33\n"
     ]
    },
    {
     "name": "stdout",
     "output_type": "stream",
     "text": [
      "Hello ash! You will turn 100 years old in the year 2092.\n"
     ]
    }
   ],
   "source": [
    "#STEP2: Lets do some computation: if-elif-else\n",
    "# Program to calculate the year user turns 100\n",
    "\n",
    "name = input(\"Enter your name: \")\n",
    "age  = input(\"Enter your age: \")\n",
    "age  = int(age)\n",
    "\n",
    "current_year = 2025\n",
    "\n",
    "if age < 100:\n",
    "    year_when_100 = current_year + (100 - age)\n",
    "    print(f\"Hello {name}! You will turn 100 years old in the year {year_when_100}.\")\n",
    "elif age == 100:\n",
    "    print(f\"Wow {name}, you're already 100 years old this year!\")\n",
    "else:\n",
    "    print(f\"Hey {name}, you turned 100 years old {age - 100} years ago.\")\n"
   ]
  },
  {
   "cell_type": "code",
   "execution_count": 18,
   "id": "98492e67-7dd9-4a18-b929-a68f2d6f13f0",
   "metadata": {},
   "outputs": [
    {
     "name": "stdout",
     "output_type": "stream",
     "text": [
      "Grade: F\n",
      "Buddy wake up. Start studying.\n"
     ]
    }
   ],
   "source": [
    "# Students are given grades based on their marks\n",
    "# [100-90]: A\n",
    "# [80-90] : B\n",
    "# [70-80] : C\n",
    "# [<70]   : F\n",
    "\n",
    "marks = 55\n",
    "\n",
    "if marks >= 90:\n",
    "    print(\"Grade: A\")\n",
    "    print(\"Congratulations. Your parents would be proud\")\n",
    "    \n",
    "elif marks >= 80:\n",
    "    print(\"Grade: B\")\n",
    "    print(\"Good work\")\n",
    "    \n",
    "elif marks >= 70:\n",
    "    print(\"Grade: C\")\n",
    "    print(\"Good work, but you can  do better\")\n",
    "    \n",
    "else:\n",
    "    print(\"Grade: F\")\n",
    "    print(\"Buddy wake up. Start studying.\")\n"
   ]
  },
  {
   "cell_type": "markdown",
   "id": "f365f1f3-f9d1-4a18-a3e5-8a26dd661abc",
   "metadata": {},
   "source": [
    "# if + or"
   ]
  },
  {
   "cell_type": "code",
   "execution_count": 7,
   "id": "4311c784-1845-4d6e-bd42-90160de4a6e5",
   "metadata": {},
   "outputs": [
    {
     "name": "stdout",
     "output_type": "stream",
     "text": [
      "You are eligible for an adult ticket.\n",
      "######################\n"
     ]
    },
    {
     "name": "stdin",
     "output_type": "stream",
     "text": [
      "Do you want to continue? (yes/no):  yes\n"
     ]
    },
    {
     "name": "stdout",
     "output_type": "stream",
     "text": [
      "Thank you for your response.\n",
      "######################\n",
      "Weather normal\n"
     ]
    }
   ],
   "source": [
    "# if with 'or'\n",
    "\n",
    "#e.g.1: Check if the age is less than 13 or greater than 65\n",
    "age = 16\n",
    "\n",
    "if age < 13 or age > 65:  \n",
    "    print(\"You are eligible for a child or senior ticket.\")\n",
    "else:\n",
    "    print(\"You are eligible for an adult ticket.\")\n",
    "print(\"######################\")\n",
    "\n",
    "#e.g.2: Ask user whether he wants to continue and check that he enter only yes and no.\n",
    "user_input = input(\"Do you want to continue? (yes/no): \").strip().lower()\n",
    "# print(user_input)\n",
    "\n",
    "if user_input == \"yes\" or user_input == \"no\":  # Check if the input is valid\n",
    "    print(\"Thank you for your response.\")\n",
    "else:\n",
    "    print(\"Invalid input. Please enter 'yes' or 'no'.\")\n",
    "print(\"######################\")"
   ]
  },
  {
   "cell_type": "code",
   "execution_count": 13,
   "id": "4abc7959-cb68-42de-858b-7378397fff82",
   "metadata": {},
   "outputs": [
    {
     "name": "stdout",
     "output_type": "stream",
     "text": [
      "Weather normal\n"
     ]
    }
   ],
   "source": [
    "# SKIP\n",
    "#e.g.3: design a logic that print weather alert when temp < 32 or > 90\n",
    "temp = 50\n",
    "\n",
    "if temp < 32 or temp > 90: \n",
    "    print(\"Weather alert\")\n",
    "else:\n",
    "    print(\"Weather normal\")\n"
   ]
  },
  {
   "cell_type": "markdown",
   "id": "8b244d45-1fab-4cf2-a9fd-51ceb9b7e7c4",
   "metadata": {},
   "source": [
    "# if + and"
   ]
  },
  {
   "cell_type": "code",
   "execution_count": 8,
   "id": "2eb4dd39-d4c6-4b1e-88a9-b660490d6641",
   "metadata": {},
   "outputs": [
    {
     "name": "stdin",
     "output_type": "stream",
     "text": [
      "Username: ash\n",
      "Enter password: gdfd\n"
     ]
    },
    {
     "name": "stdout",
     "output_type": "stream",
     "text": [
      "Invalid login\n",
      "##################\n",
      "You are eligible for a 20% discount!\n",
      "Congratulations! You have passed the course.\n"
     ]
    }
   ],
   "source": [
    "# if with 'and'\n",
    "\n",
    "#e.g.1\n",
    "#  Checking User Login Credentials\n",
    "# if with 'and'\n",
    "username = input(\"Username:\")\n",
    "password = input(\"Enter password:\")\n",
    "\n",
    "if username == \"admin\" and password == \"12345\":\n",
    "    print(\"Successful login\")\n",
    "else:\n",
    "    print(\"Invalid login\")\n",
    "\n",
    "print(\"##################\")\n",
    "\n",
    "#e.g.2: Give 20% discount if member is gold and purchase amount > 100\n",
    "membership_status = \"gold\"\n",
    "purchase_amount = 150 \n",
    "\n",
    "if membership_status == \"gold\" and purchase_amount > 100:  # Check if both conditions are met\n",
    "    print(\"You are eligible for a 20% discount!\")\n",
    "else:\n",
    "    print(\"You are not eligible for a discount.\")\n"
   ]
  },
  {
   "cell_type": "code",
   "execution_count": 12,
   "id": "c9118a41-f84e-4af9-8a0e-5976c3a2a40b",
   "metadata": {},
   "outputs": [
    {
     "name": "stdout",
     "output_type": "stream",
     "text": [
      "Congratulations! You have passed the course.\n"
     ]
    }
   ],
   "source": [
    "# SKIP\n",
    "#e.g.3: design logic for -> student passes if score > 70 and attendance > 75%\n",
    "exam_score = 78\n",
    "attendance_percentage = 85  # Attendance in percentage\n",
    "\n",
    "if exam_score >= 70 and attendance_percentage >= 75:  # Check if both conditions are met\n",
    "    print(\"Congratulations! You have passed the course.\")\n",
    "else:\n",
    "    print(\"You need to improve your score or attendance to pass.\")\n"
   ]
  },
  {
   "cell_type": "markdown",
   "id": "9af005c9-194e-46bc-bc77-6402f3aed1ac",
   "metadata": {},
   "source": [
    "# if + and + or"
   ]
  },
  {
   "cell_type": "code",
   "execution_count": 9,
   "id": "2951acf7-88cf-4ffd-be4c-df5e3af16256",
   "metadata": {},
   "outputs": [
    {
     "name": "stdout",
     "output_type": "stream",
     "text": [
      "U r not eligible for the scolarship\n",
      "####################\n",
      "Access granted to the restricted area.\n"
     ]
    }
   ],
   "source": [
    "# if with 'and' and 'or'\n",
    "\n",
    "#e.g.1: check if (score > 50 and num of extra-curricular activities > 2) or (score > 80)\n",
    "score = 30 \n",
    "extracurr = 2\n",
    "\n",
    "if (score > 50 and extracurr >= 2) or (score >= 80):\n",
    "    print(\"U r eligible for the scolarship\")\n",
    "else:\n",
    "    print(\"U r not eligible for the scolarship\")\n",
    "\n",
    "print(\"####################\")\n"
   ]
  },
  {
   "cell_type": "code",
   "execution_count": null,
   "id": "44011d5d-4372-4c32-a064-34dc70f7fd80",
   "metadata": {},
   "outputs": [],
   "source": [
    "# SKIP\n",
    "#e.g.2\n",
    "user_role = \"editor\"\n",
    "is_active = True\n",
    "\n",
    "if (user_role == \"admin\" or user_role == \"editor\") and is_active:  # Check if the user is an admin or editor and is active\n",
    "    print(\"Access granted to the restricted area.\")\n",
    "else:\n",
    "    print(\"Access denied.\")"
   ]
  },
  {
   "cell_type": "markdown",
   "id": "ecd5f73f-c276-466d-acaa-3603235cc8f1",
   "metadata": {},
   "source": [
    "## Using if with 'in' (Checking List Membership)"
   ]
  },
  {
   "cell_type": "code",
   "execution_count": 10,
   "id": "3f149afa-c1a2-4a11-ab69-5677e946bf97",
   "metadata": {},
   "outputs": [
    {
     "name": "stdout",
     "output_type": "stream",
     "text": [
      "milk is on the list.\n"
     ]
    }
   ],
   "source": [
    "# Check if item is in shopping list\n",
    "shopping_list = [\"milk\", \"bread\", \"eggs\"]\n",
    "item = \"milk\" # put butter\n",
    "\n",
    "if item in shopping_list:\n",
    "    print(f\"{item} is on the list.\")\n",
    "else:\n",
    "    print(f\"{item} is not on the list.\")"
   ]
  },
  {
   "cell_type": "markdown",
   "id": "5aa962ef-3cfc-4f4b-b6a6-ae5730123015",
   "metadata": {},
   "source": [
    "# Nested if statement"
   ]
  },
  {
   "cell_type": "code",
   "execution_count": 11,
   "id": "1c643cc6-4b00-4a32-917c-e319625db19d",
   "metadata": {},
   "outputs": [
    {
     "name": "stdout",
     "output_type": "stream",
     "text": [
      "You are too young to drive.\n"
     ]
    }
   ],
   "source": [
    "# Nested if Statement: Implement following logic:\n",
    "\n",
    "# If age > 18 and has license, then eligible to drive\n",
    "# if age > 18 and no license, then cannot drive\n",
    "# if age < 18, then not eligible to drive\n",
    "\n",
    "age = 12\n",
    "has_license = False\n",
    "\n",
    "if age >= 18:\n",
    "    if has_license:\n",
    "        print(\"You are eligible to drive.\")\n",
    "    else:\n",
    "        print(\"You are eligible to drive, but you need a driving license.\")\n",
    "else:\n",
    "    print(\"You are too young to drive.\")\n"
   ]
  },
  {
   "cell_type": "markdown",
   "id": "3dcd4477-25d1-4513-9ebd-e046d54bfdc3",
   "metadata": {},
   "source": [
    "# STOP"
   ]
  },
  {
   "cell_type": "code",
   "execution_count": null,
   "id": "a44c1490-804d-4413-aac6-c410eb2064ec",
   "metadata": {},
   "outputs": [],
   "source": []
  },
  {
   "cell_type": "code",
   "execution_count": null,
   "id": "1c822ba0-deef-4d10-9606-5f73400b07c5",
   "metadata": {},
   "outputs": [],
   "source": []
  },
  {
   "cell_type": "code",
   "execution_count": null,
   "id": "3d10ee3a-314d-4958-a6e0-dce828a43528",
   "metadata": {},
   "outputs": [],
   "source": [
    "# EXTRA"
   ]
  },
  {
   "cell_type": "code",
   "execution_count": null,
   "id": "1bb21e68-d96e-4901-a016-28b7c681566d",
   "metadata": {},
   "outputs": [],
   "source": [
    "# EXTRA assignement: user enter his DOB and proogram calculates his year when he turn 100\n",
    "name = input(\"Enter your name: \")\n",
    "age  = input(\"Enter your DOB (yyyy-mm-dd): \") # 2000-01-23\n",
    "yyyy = age[:4]\n",
    "\n",
    "current_year = 2025\n",
    "year_of_birth = int(yyyy)\n",
    "age = current_year - year_of_birth\n",
    "\n",
    "if age < 100:\n",
    "    year_when_100 = current_year + (100 - age)\n",
    "    print(f\"Hello {name}! You will turn 100 years old in the year {year_when_100}.\")\n",
    "elif age == 100:\n",
    "    print(f\"Wow {name}, you're already 100 years old this year!\")\n",
    "else:\n",
    "    print(f\"Hey {name}, you turned 100 years old {age - 100} years ago.\")"
   ]
  },
  {
   "cell_type": "code",
   "execution_count": null,
   "id": "41d6c1bc-6493-40c1-9653-82dd7088c51d",
   "metadata": {},
   "outputs": [],
   "source": []
  },
  {
   "cell_type": "code",
   "execution_count": null,
   "id": "e74b1228-c4f5-458e-8fb4-ed17c78d7cb9",
   "metadata": {},
   "outputs": [],
   "source": []
  }
 ],
 "metadata": {
  "kernelspec": {
   "display_name": "Python 3 (ipykernel)",
   "language": "python",
   "name": "python3"
  },
  "language_info": {
   "codemirror_mode": {
    "name": "ipython",
    "version": 3
   },
   "file_extension": ".py",
   "mimetype": "text/x-python",
   "name": "python",
   "nbconvert_exporter": "python",
   "pygments_lexer": "ipython3",
   "version": "3.12.7"
  }
 },
 "nbformat": 4,
 "nbformat_minor": 5
}
