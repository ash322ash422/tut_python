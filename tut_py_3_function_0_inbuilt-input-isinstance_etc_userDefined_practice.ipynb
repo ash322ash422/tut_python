{
 "cells": [
  {
   "cell_type": "markdown",
   "metadata": {},
   "source": [
    "# FUNCTION: inbuilt and user-defined\n",
    "\n",
    "**why do we need function?** make your code cleaner, reusable, and easier to manage\n",
    "\n",
    "## in built function:\n",
    "- examples of in built fn: print, input, int, float, len, range, type, isinstance, enumerate, list, tuple, dict, map, filter, any, etc\n",
    "- sorted"
   ]
  },
  {
   "cell_type": "markdown",
   "metadata": {},
   "source": [
    "### input , int, float"
   ]
  },
  {
   "cell_type": "code",
   "execution_count": 1,
   "metadata": {},
   "outputs": [
    {
     "name": "stdout",
     "output_type": "stream",
     "text": [
      "the sum is 12\n"
     ]
    }
   ],
   "source": [
    "a = 5\n",
    "b = 7\n",
    "ans = a+b\n",
    "\n",
    "print(f\"the sum is {ans}\")"
   ]
  },
  {
   "cell_type": "code",
   "execution_count": 8,
   "metadata": {},
   "outputs": [
    {
     "name": "stdin",
     "output_type": "stream",
     "text": [
      "enter your first number 3\n",
      "enter your second number 5\n"
     ]
    },
    {
     "name": "stdout",
     "output_type": "stream",
     "text": [
      "you entered 3 and 5\n",
      "The type of a is <class 'str'>. The ttype of b is <class 'str'>\n"
     ]
    }
   ],
   "source": [
    "# Wre want user to input data. Now user supplies input, but output is wrong\n",
    "\n",
    "a = input(\"enter your first number\") # here a is str\n",
    "b = input(\"enter your second number\") # here b is str\n",
    "\n",
    "print(f\"you entered {a} and {b}\")\n",
    "# print(f\"The type of a is {type(a)}. The type of b is {type(b)}\")"
   ]
  },
  {
   "cell_type": "code",
   "execution_count": 6,
   "metadata": {},
   "outputs": [
    {
     "name": "stdout",
     "output_type": "stream",
     "text": [
      "Your sum is 35\n"
     ]
    }
   ],
   "source": [
    "ans = a + b # concatenates the string\n",
    "print(f\"Your sum is {ans}\") # ANSWER IS WRONG"
   ]
  },
  {
   "cell_type": "code",
   "execution_count": 7,
   "metadata": {},
   "outputs": [
    {
     "name": "stdout",
     "output_type": "stream",
     "text": [
      "Your sum is 8\n"
     ]
    }
   ],
   "source": [
    "#convert a, b into data-type int using type casting\n",
    "a = int(a)\n",
    "b = int(b)\n",
    "ans = a + b\n",
    "\n",
    "print(f\"Your sum is {ans}\") # ANSWER IS RIGHT"
   ]
  },
  {
   "cell_type": "code",
   "execution_count": 9,
   "metadata": {},
   "outputs": [
    {
     "name": "stdin",
     "output_type": "stream",
     "text": [
      "enter your first number 3\n",
      "enter your second number 5\n"
     ]
    },
    {
     "ename": "TypeError",
     "evalue": "can't multiply sequence by non-int of type 'str'",
     "output_type": "error",
     "traceback": [
      "\u001b[1;31m---------------------------------------------------------------------------\u001b[0m",
      "\u001b[1;31mTypeError\u001b[0m                                 Traceback (most recent call last)",
      "Cell \u001b[1;32mIn[9], line 5\u001b[0m\n\u001b[0;32m      3\u001b[0m a \u001b[38;5;241m=\u001b[39m \u001b[38;5;28minput\u001b[39m(\u001b[38;5;124m\"\u001b[39m\u001b[38;5;124menter your first number\u001b[39m\u001b[38;5;124m\"\u001b[39m)\n\u001b[0;32m      4\u001b[0m b \u001b[38;5;241m=\u001b[39m \u001b[38;5;28minput\u001b[39m(\u001b[38;5;124m\"\u001b[39m\u001b[38;5;124menter your second number\u001b[39m\u001b[38;5;124m\"\u001b[39m)\n\u001b[1;32m----> 5\u001b[0m ans \u001b[38;5;241m=\u001b[39m \u001b[43ma\u001b[49m\u001b[43m \u001b[49m\u001b[38;5;241;43m*\u001b[39;49m\u001b[43m \u001b[49m\u001b[43mb\u001b[49m\n\u001b[0;32m      7\u001b[0m \u001b[38;5;28mprint\u001b[39m(\u001b[38;5;124mf\u001b[39m\u001b[38;5;124m\"\u001b[39m\u001b[38;5;124myou entered \u001b[39m\u001b[38;5;132;01m{\u001b[39;00ma\u001b[38;5;132;01m}\u001b[39;00m\u001b[38;5;124m and \u001b[39m\u001b[38;5;132;01m{\u001b[39;00mb\u001b[38;5;132;01m}\u001b[39;00m\u001b[38;5;124m\"\u001b[39m)\n\u001b[0;32m      9\u001b[0m \u001b[38;5;28mprint\u001b[39m(\u001b[38;5;124mf\u001b[39m\u001b[38;5;124m\"\u001b[39m\u001b[38;5;124mYour product is \u001b[39m\u001b[38;5;132;01m{\u001b[39;00mans\u001b[38;5;132;01m}\u001b[39;00m\u001b[38;5;124m\"\u001b[39m)\n",
      "\u001b[1;31mTypeError\u001b[0m: can't multiply sequence by non-int of type 'str'"
     ]
    }
   ],
   "source": [
    "# Now user supplies input, \n",
    "\n",
    "a = input(\"enter your first number\")\n",
    "b = input(\"enter your second number\")\n",
    "ans = a * b\n",
    "\n",
    "print(f\"you entered {a} and {b}\")\n",
    "\n",
    "print(f\"Your product is {ans}\")"
   ]
  },
  {
   "cell_type": "code",
   "execution_count": 10,
   "metadata": {},
   "outputs": [
    {
     "name": "stdin",
     "output_type": "stream",
     "text": [
      "enter your first number 3\n",
      "enter your second number 5\n"
     ]
    },
    {
     "name": "stdout",
     "output_type": "stream",
     "text": [
      "you entered 3 and 5\n",
      "Your product is 15\n"
     ]
    }
   ],
   "source": [
    "# Now user supplies input:\n",
    "a = input(\"enter your first number\")\n",
    "b = input(\"enter your second number\")\n",
    "\n",
    "a = int(a) # type casting\n",
    "b = int(b)\n",
    "\n",
    "ans = a * b\n",
    "\n",
    "print(f\"you entered {a} and {b}\")\n",
    "print(f\"Your product is {ans}\")"
   ]
  },
  {
   "cell_type": "code",
   "execution_count": 11,
   "metadata": {},
   "outputs": [
    {
     "name": "stdin",
     "output_type": "stream",
     "text": [
      "enter your first number 3\n",
      "enter your second number 5\n"
     ]
    },
    {
     "name": "stdout",
     "output_type": "stream",
     "text": [
      "you entered 3 and 5\n",
      "Your product is 15\n"
     ]
    }
   ],
   "source": [
    "# Let's combine/wrap int on input: \n",
    "a = int(input(\"enter your first number\"))\n",
    "b = int(input(\"enter your second number\"))\n",
    "\n",
    "ans = a*b\n",
    "\n",
    "print(f\"you entered {a} and {b}\")\n",
    "print(f\"Your product is {ans}\")"
   ]
  },
  {
   "cell_type": "code",
   "execution_count": 12,
   "metadata": {},
   "outputs": [
    {
     "name": "stdin",
     "output_type": "stream",
     "text": [
      "enter your first number 3\n",
      "enter your second number 5\n"
     ]
    },
    {
     "name": "stdout",
     "output_type": "stream",
     "text": [
      "you entered 3.0 and 5.0\n",
      "Your product is 15.0\n"
     ]
    }
   ],
   "source": [
    "# Now user supplies input with float values\n",
    "a = float(input(\"enter your first number\"))\n",
    "b = float(input(\"enter your second number\"))\n",
    "\n",
    "ans = a * b\n",
    "\n",
    "print(f\"you entered {a} and {b}\")\n",
    "print(f\"Your product is {ans}\")"
   ]
  },
  {
   "cell_type": "code",
   "execution_count": 13,
   "metadata": {},
   "outputs": [
    {
     "data": {
      "text/plain": [
       "float"
      ]
     },
     "execution_count": 13,
     "metadata": {},
     "output_type": "execute_result"
    }
   ],
   "source": [
    "type(ans)"
   ]
  },
  {
   "cell_type": "code",
   "execution_count": 26,
   "metadata": {},
   "outputs": [
    {
     "ename": "ValueError",
     "evalue": "invalid literal for int() with base 10: 'krishabhhh'",
     "output_type": "error",
     "traceback": [
      "\u001b[1;31m---------------------------------------------------------------------------\u001b[0m",
      "\u001b[1;31mValueError\u001b[0m                                Traceback (most recent call last)",
      "Cell \u001b[1;32mIn[26], line 3\u001b[0m\n\u001b[0;32m      1\u001b[0m \u001b[38;5;66;03m# We can convert only numbers to int...not text charaters\u001b[39;00m\n\u001b[0;32m      2\u001b[0m a \u001b[38;5;241m=\u001b[39m \u001b[38;5;124m\"\u001b[39m\u001b[38;5;124mkrishabhhh\u001b[39m\u001b[38;5;124m\"\u001b[39m\n\u001b[1;32m----> 3\u001b[0m x \u001b[38;5;241m=\u001b[39m \u001b[38;5;28;43mint\u001b[39;49m\u001b[43m(\u001b[49m\u001b[43ma\u001b[49m\u001b[43m)\u001b[49m\n\u001b[0;32m      4\u001b[0m \u001b[38;5;28mprint\u001b[39m(x)\n",
      "\u001b[1;31mValueError\u001b[0m: invalid literal for int() with base 10: 'krishabhhh'"
     ]
    }
   ],
   "source": [
    "# We can convert only numbers to int...not text charaters\n",
    "a = \"krishabhhh\"\n",
    "x = int(a)\n",
    "print(x)"
   ]
  },
  {
   "cell_type": "code",
   "execution_count": 17,
   "metadata": {},
   "outputs": [
    {
     "name": "stdin",
     "output_type": "stream",
     "text": [
      "enter your first name:  harsh\n",
      "enter your last name:  smith\n"
     ]
    },
    {
     "name": "stdout",
     "output_type": "stream",
     "text": [
      "The full name is: harsh smith ☀\n"
     ]
    }
   ],
   "source": [
    "# Another example of input(OPTIONAL):\n",
    "# first_name = 'ash'\n",
    "# last_name = 'kumar'\n",
    "\n",
    "# full_name = first_name + \"----   ++ \" + last_name   + \"\\u2600\"\n",
    "\n",
    "# print(\"The full name is:\", full_name)\n",
    "# print(\"######################\")\n",
    "\n",
    "first_name = input(\"enter your first name: \")\n",
    "last_name  = input(\"enter your last name: \")\n",
    "\n",
    "full_name = first_name + \" \" + last_name + \" \\u2600\"\n",
    "\n",
    "print(\"The full name is:\", full_name)"
   ]
  },
  {
   "cell_type": "code",
   "execution_count": 21,
   "metadata": {},
   "outputs": [
    {
     "name": "stdin",
     "output_type": "stream",
     "text": [
      "enter your first number 2\n",
      "enter your second number 4\n"
     ]
    },
    {
     "name": "stdout",
     "output_type": "stream",
     "text": [
      "-48.0\n",
      "-48.0\n"
     ]
    }
   ],
   "source": [
    "# (OPTIONAL) BREAKING a BIG EQUATION  INTO SMALLER MANAGEABLE EQUATIONS\n",
    "\n",
    "n = input (\"enter your first number\")\n",
    "m = input (\"enter your second number\")\n",
    "\n",
    "a = int (n)\n",
    "b = int (m)\n",
    "\n",
    "# ans = (a+b)(a-b)(a*b)(a/b) # WRONG\n",
    "ans = (a+b)*(a-b)*(a*b)*(a/b) # RIGHT\n",
    "print(ans)\n",
    "\n",
    "a1 = a+b\n",
    "a2 = a-b\n",
    "a3 = a*b\n",
    "a4 = a/b\n",
    "ans = a1 * a2 * a3 * a4\n",
    "print(ans)\n"
   ]
  },
  {
   "cell_type": "code",
   "execution_count": 22,
   "metadata": {},
   "outputs": [
    {
     "name": "stdout",
     "output_type": "stream",
     "text": [
      "<class 'float'>\n"
     ]
    }
   ],
   "source": [
    "# mixed type int and float: RESULT IS float\n",
    "x = 20 # int \n",
    "y = 30.5 # float\n",
    "\n",
    "z = x + y\n",
    "\n",
    "print(type(z))"
   ]
  },
  {
   "cell_type": "markdown",
   "metadata": {},
   "source": [
    "### len, range\n",
    "length of list, string, tuple, set, dictionary,etc"
   ]
  },
  {
   "cell_type": "code",
   "execution_count": 33,
   "metadata": {},
   "outputs": [
    {
     "name": "stdout",
     "output_type": "stream",
     "text": [
      "4\n",
      "4\n",
      "3\n",
      "3\n"
     ]
    }
   ],
   "source": [
    "fruits = [\"Guava\", \"Kiwi\", \"Mango\", \"Kiwi\" ] # list\n",
    "print(len(fruits))\n",
    "\n",
    "fruits = (\"Guava\", \"Kiwi\", \"Mango\", \"Kiwi\") # tuple\n",
    "print(len(fruits))\n",
    "\n",
    "fruits = {\"Guava\", \"Kiwi\", \"Mango\"} # set\n",
    "print(len(fruits))\n",
    "\n",
    "fruits = {\"Guava\", \"Kiwi\", \"Mango\", \"Kiwi\"} # set\n",
    "print(len(fruits))\n",
    "\n",
    "\n",
    "# numbers = list(range(2, 15, 3))\n",
    "# print(numbers)"
   ]
  },
  {
   "cell_type": "markdown",
   "metadata": {},
   "source": [
    "## isinstance\n",
    "It checks whether the data is str, int, float, list, set, dict, etc...then it return boolean variable, True/False"
   ]
  },
  {
   "cell_type": "code",
   "execution_count": 43,
   "metadata": {},
   "outputs": [
    {
     "name": "stdout",
     "output_type": "stream",
     "text": [
      "Is 10 an integer? True\n",
      "Is 'Hello' a string? True\n",
      "Is [1, 2, 3] a list? True\n",
      "Is 3.14 an integer or a float? True\n",
      "Is {'name': 'Alice', 'age': 30} a dictionary? True\n",
      "Is {1, 2, 3} a set? True\n",
      "Is [1, 2, 3] a mutable sequence? True\n"
     ]
    }
   ],
   "source": [
    "# Example 1: Checking if a variable is an integer\n",
    "data = 10\n",
    "check = isinstance(data, int)\n",
    "print(f\"Is {data} an integer? {check}\")  # Output: Is 10 an integer? True\n",
    "\n",
    "# Example 2: Checking if a variable is a string\n",
    "data = \"Hello\"\n",
    "check = isinstance(data, str)\n",
    "print(f\"Is '{data}' a string? {check}\")  # Output: Is 'Hello' a string? True\n",
    "\n",
    "# Example 3: Checking if a variable is a list\n",
    "data = [1, 2, 3]\n",
    "check = isinstance(data, list)\n",
    "print(f\"Is {data} a list? {check}\")  # Output: Is [1, 2, 3] a list? True\n",
    "\n",
    "# Example 4: Checking if a variable is either an integer or a float\n",
    "data = 3.14\n",
    "check = isinstance(data, (int, float))\n",
    "print(f\"Is {data} an integer or a float? {check}\")  # Output: Is 3.14 an integer or a float? True\n",
    "\n",
    "# Example 1: Checking if a variable is a dictionary\n",
    "data = {\"name\": \"Alice\", \"age\": 30}\n",
    "check = isinstance(data, dict)\n",
    "print(f\"Is {data} a dictionary? {check}\")  # Output: Is {'name': 'Alice', 'age': 30} a dictionary? True\n",
    "\n",
    "# Example 2: Checking if a variable is a set\n",
    "data = {1, 2, 3}\n",
    "check = isinstance(data, set)\n",
    "print(f\"Is {data} a set? {check}\")  # Output: Is {1, 2, 3} a set? True\n",
    "\n",
    "# # Example 4: Checking if a variable is a mutable sequence (list or bytearray)\n",
    "# data = [1, 2, 3]\n",
    "# check = isinstance(data, (list, bytearray))\n",
    "# print(f\"Is {data} a mutable sequence? {check}\") # Output: Is [1, 2, 3] a mutable sequence? True\n",
    "\n",
    "# mutable_bytearray = bytearray(b'hello')\n",
    "# is_mutable_sequence_bytearray = isinstance(mutable_bytearray, (list, bytearray))\n",
    "# print(f\"Is {mutable_bytearray} a mutable sequence? {is_mutable_sequence_bytearray}\") # Output: Is bytearray(b'hello') a mutable sequence? True"
   ]
  },
  {
   "cell_type": "markdown",
   "metadata": {},
   "source": [
    "# enumerate"
   ]
  },
  {
   "cell_type": "code",
   "execution_count": 47,
   "metadata": {},
   "outputs": [
    {
     "name": "stdout",
     "output_type": "stream",
     "text": [
      "Item: cherry\n",
      "Item: kiwi\n",
      "Item: banana\n",
      "Index: 1 | Item: cherry\n",
      "Index: 2 | Item: kiwi\n",
      "Index: 3 | Item: banana\n"
     ]
    }
   ],
   "source": [
    "sequence = ['cherry', 'kiwi', 'banana']\n",
    "\n",
    "# without enumerate:\n",
    "for f in sequence:\n",
    "    print(f\"Item: {f}\")\n",
    "\n",
    "# with enumerate:\n",
    "for i,f in enumerate(sequence, start=1):\n",
    "    print(f\"Index: {i} | Item: {f}\")"
   ]
  },
  {
   "cell_type": "code",
   "execution_count": 50,
   "metadata": {},
   "outputs": [
    {
     "name": "stdout",
     "output_type": "stream",
     "text": [
      "Index: 1 | Item: H\n",
      "Index: 2 | Item: e\n",
      "Index: 3 | Item: l\n",
      "Index: 4 | Item: l\n",
      "Index: 5 | Item: o\n",
      "Index: 6 | Item:  \n",
      "Index: 7 | Item: y\n",
      "Index: 8 | Item: o\n",
      "Index: 9 | Item: u\n"
     ]
    }
   ],
   "source": [
    "# The sequence could be list, tuple, set, dict\n",
    "\n",
    "# sequence = ['cherry', 'kiwi', 'banana']\n",
    "# sequence = ('cherry', 'kiwi', 'banana')\n",
    "# sequence = {'cherry', 'kiwi', 'banana', 'banana'}\n",
    "sequence = \"Hello you\"\n",
    "\n",
    "# student_scores = {\"Ram\": 85, \n",
    "#                   \"Carlos\": 92, \n",
    "#                   \"Roman\": 78\n",
    "# }\n",
    "# sequence = student_scores.items()\n",
    "\n",
    "for i,f in enumerate(sequence, start=1):\n",
    "    print(f\"Index: {i} | Item: {f}\")\n",
    "    \n",
    "    \n"
   ]
  },
  {
   "cell_type": "code",
   "execution_count": 53,
   "metadata": {},
   "outputs": [
    {
     "name": "stdout",
     "output_type": "stream",
     "text": [
      "At even index 0: 10\n",
      "At even index 2: 5\n",
      "At even index 4: 15\n",
      "'Tommy' found at index: 3\n"
     ]
    }
   ],
   "source": [
    "############APPLICATION1\n",
    "# Filtering Elements Based on Index\n",
    "data = [10, 25, 5, 30, 15, 40]\n",
    "\n",
    "for i,value in enumerate(data):\n",
    "    if i % 2 == 0:  # Process only elements at even indices\n",
    "        print(f\"At even index {i}: {value}\")\n",
    "\n",
    "\n",
    "############APPLICATION2\n",
    "# Finding the Index of a specific element in a list\n",
    "names = [\"Harsh\", \"Khan\", \"Charlie\", \"Tommy\", \"Patel\", \"Gupta\", \"Tommy\"]\n",
    "search_name =  \"Tommy\" # \"Charlie\"\n",
    "\n",
    "\n",
    "found_index = -1  # Initialize to a value indicating not found\n",
    "for i,name in enumerate(names):\n",
    "    if name == search_name:\n",
    "        found_index = i\n",
    "        break  # Exit the loop once found\n",
    "\n",
    "\n",
    "if found_index != -1:\n",
    "    print(f\"'{search_name}' found at index: {found_index}\")\n",
    "else:\n",
    "    print(f\"'{search_name}' not found in the list.\""
   ]
  },
  {
   "cell_type": "code",
   "execution_count": null,
   "metadata": {},
   "outputs": [],
   "source": [
    "# sorted\n",
    "l = [5, 0, 3, 9, 1]\n",
    "sorted_l = sorted(l)\n",
    "print(l)"
   ]
  },
  {
   "cell_type": "markdown",
   "metadata": {},
   "source": [
    "## User defined Function\n",
    "- Makes code modular and easier to read.\n",
    "- Use the same logic in multiple places without rewriting.\n",
    "- Break big problems into smaller, manageable steps."
   ]
  },
  {
   "cell_type": "code",
   "execution_count": 54,
   "metadata": {},
   "outputs": [
    {
     "name": "stdout",
     "output_type": "stream",
     "text": [
      "Hello, welcome to the Python class!\n",
      "You are going to enjoy this\n",
      "################\n",
      "Hello, welcome to the Python class!\n",
      "You are going to enjoy this\n",
      "******************\n",
      "Hello, welcome to the Python class!\n",
      "You are going to enjoy this\n",
      "Hello, welcome to the Python class!\n",
      "You are going to enjoy this\n"
     ]
    }
   ],
   "source": [
    "## 1. Basic Function (No Parameters, No Return)\n",
    "def greet(): # This function prints a greeting message. (NOT RECOMMENDED)\n",
    "    \"\"\"This function prints a greeting message.\"\"\"\n",
    "    print(\"Hello, welcome to the Python class!\")\n",
    "    print(\"You are going to enjoy this\") \n",
    "\n",
    "\n",
    "# Call the function\n",
    "greet()\n",
    "print(\"################\")\n",
    "greet()\n",
    "print(\"******************\")\n",
    "greet()\n",
    "greet()\n"
   ]
  },
  {
   "cell_type": "code",
   "execution_count": 57,
   "metadata": {},
   "outputs": [
    {
     "name": "stdout",
     "output_type": "stream",
     "text": [
      "Hello, Rahim! Welcome to the Python class.\n",
      "Today Rahim, you will learn python\n",
      "..........Next greet\n",
      "Hello, Alice! Welcome to the Python class.\n",
      "Today Alice, you will learn python\n"
     ]
    }
   ],
   "source": [
    "# 2. Function with Parameters, no return values\n",
    "def greet_person(name):\n",
    "    \"\"\"This function greets a person by name.\"\"\"\n",
    "    print(f\"Hello, {name}! Welcome to the Python class.\")\n",
    "    print(f\"Today {name}, you will learn python\")\n",
    "    \n",
    "\n",
    "# Call the function with an argument\n",
    "greet_person(\"Rahim\")\n",
    "print(\"..........Next greet\")\n",
    "greet_person(\"Alice\") "
   ]
  },
  {
   "cell_type": "code",
   "execution_count": 58,
   "metadata": {},
   "outputs": [
    {
     "name": "stdout",
     "output_type": "stream",
     "text": [
      "Hello, Alice! Welcome to the Python class.\n",
      "Today you will learn python\n",
      "Hello, Bharti! Welcome to the Python class.\n",
      "Today you will learn python\n",
      "Hello, Rishabh! Welcome to the Python class.\n",
      "Today you will learn python\n"
     ]
    }
   ],
   "source": [
    "def greet_person(name):\n",
    "    \"\"\"This function greets a person by name.\"\"\"\n",
    "    print(f\"Hello, {name}! Welcome to the Python class.\")\n",
    "    print(\"Today you will learn python\")\n",
    "    \n",
    "\n",
    "# Call the function with an argument\n",
    "greet_person(\"Alice\")\n",
    "greet_person(\"Bharti\")\n",
    "greet_person(\"Rishabh\")\n"
   ]
  },
  {
   "cell_type": "code",
   "execution_count": 60,
   "metadata": {},
   "outputs": [
    {
     "name": "stdout",
     "output_type": "stream",
     "text": [
      "The sum is: 8\n"
     ]
    }
   ],
   "source": [
    "# 3. Function with paramters and return Value\n",
    "def add(a, b):\n",
    "    \"\"\"This function returns the sum of two numbers.\"\"\"\n",
    "    ans = a + b\n",
    "    return ans\n",
    "\n",
    "# Store and print the result\n",
    "# result = add(                5,        3)\n",
    "result = add(5, 3)\n",
    "print(\"The sum is:\", result)\n"
   ]
  },
  {
   "cell_type": "code",
   "execution_count": 61,
   "metadata": {},
   "outputs": [
    {
     "name": "stdin",
     "output_type": "stream",
     "text": [
      "Enter your first number: 2\n",
      "Enter your second number: 5\n"
     ]
    },
    {
     "name": "stdout",
     "output_type": "stream",
     "text": [
      "The sum is: 7\n"
     ]
    }
   ],
   "source": [
    "# Here user is supplying numbers\n",
    "def add_numbers(a, b):\n",
    "    \"\"\"This function returns the sum of two numbers.\"\"\"\n",
    "    ans = a + b\n",
    "    return ans\n",
    "\n",
    "# Store and print the result\n",
    "n1 = int(input(\"Enter your first number:\"))\n",
    "n2 = int(input(\"Enter your second number:\"))\n",
    "\n",
    "result = add_numbers(n1, n2)\n",
    "print(\"The sum is:\", result)\n"
   ]
  },
  {
   "cell_type": "code",
   "execution_count": 62,
   "metadata": {},
   "outputs": [
    {
     "name": "stdout",
     "output_type": "stream",
     "text": [
      "The simple interest on $1000.00 at a rate of 5.00% for 2 years is: $100.00\n"
     ]
    }
   ],
   "source": [
    "# APPLICATION (OPTIONAL)\n",
    "# step1: Unprofessinal way\n",
    "def calculate_simple_interest(principal, rate, time):\n",
    "    simple_interest = principal * rate * time\n",
    "    return simple_interest\n",
    "\n",
    "# Example usage of calculate_simple_interest\n",
    "principal1 = 1000\n",
    "rate1 = 0.05\n",
    "time1 = 2\n",
    "interest1 = calculate_simple_interest(principal1, rate1, time1)\n",
    "print(f\"The simple interest on ${principal1:.2f} at a rate of {rate1*100:.2f}% for {time1} years is: ${interest1:.2f}\")"
   ]
  },
  {
   "cell_type": "code",
   "execution_count": 66,
   "metadata": {},
   "outputs": [
    {
     "name": "stdout",
     "output_type": "stream",
     "text": [
      "OOPS: Error: Time cannot be negative.\n"
     ]
    }
   ],
   "source": [
    "# step2) a more professional way\n",
    "def calculate_simple_interest(principal, rate, time):\n",
    "    \"\"\"Calculates the simple interest earned on a principal amount.\n",
    "\n",
    "    Simple interest is calculated only on the principal amount.\n",
    "\n",
    "    Args:\n",
    "        principal (float): The initial principal balance.\n",
    "        rate (float): The annual interest rate (as a decimal).\n",
    "        time (float): The time period in years.\n",
    "\n",
    "    Returns:\n",
    "        float: The calculated simple interest.\n",
    "        str: An error message if the input is invalid.\n",
    "    \"\"\"\n",
    "    if not isinstance(principal, (int, float)):\n",
    "        return \"Error: Principal must be a number.\"\n",
    "    if not isinstance(rate, (int, float)):\n",
    "        return \"Error: Rate must be a number.\"\n",
    "    if not isinstance(time, (int, float)):\n",
    "        return \"Error: Time must be a number.\"\n",
    "    if principal < 0:\n",
    "        return \"Error: Principal cannot be negative.\"\n",
    "    if rate < 0:\n",
    "        return \"Error: Rate cannot be negative.\"\n",
    "    if time < 0:\n",
    "        return \"Error: Time cannot be negative.\"\n",
    "\n",
    "    simple_interest = principal * rate * time\n",
    "    return simple_interest\n",
    "\n",
    "# Example usage of calculate_simple_interest\n",
    "principal1 = 1000 # try -2000\n",
    "rate1 = 0.05 # try -.02\n",
    "time1 = 2 # try -1\n",
    "interest1 = calculate_simple_interest(principal1, rate1, time1)\n",
    "if isinstance(interest1, str):\n",
    "    print(f\"OOPS: {interest1}\")\n",
    "else:\n",
    "    print(f\"The simple interest on {principal1} at a rate of {rate1} for {time1} years is: {interest1}\")\n",
    "\n",
    "# principal2 = 5000\n",
    "# rate2 = 0.075\n",
    "# time2 = 5\n",
    "# interest2 = calculate_simple_interest(principal2, rate2, time2)\n",
    "# if isinstance(interest2, str):\n",
    "#     print(interest2)\n",
    "# else:\n",
    "#     print(f\"The simple interest on {principal2} at a rate of {rate2} for {time2} years is: {interest2}\")"
   ]
  },
  {
   "cell_type": "code",
   "execution_count": 69,
   "metadata": {},
   "outputs": [
    {
     "name": "stdout",
     "output_type": "stream",
     "text": [
      "0\n"
     ]
    }
   ],
   "source": [
    "# 4. Function with Default Parameters\n",
    "\n",
    "#e.g.1\n",
    "def add(a=0, b=0): # a=0, b=0 are default values \n",
    "    ans = a + b \n",
    "    return ans\n",
    "\n",
    "result = add()\n",
    "# result = add(3) # here default b is 0\n",
    "# result = add(3,4)\n",
    "\n",
    "\n",
    "print(result)\n"
   ]
  },
  {
   "cell_type": "code",
   "execution_count": null,
   "metadata": {},
   "outputs": [
    {
     "name": "stdout",
     "output_type": "stream",
     "text": [
      "The 3 to the power of 2 is 9\n",
      "81\n",
      "125\n",
      "12994262207056124023163005725852382959736928510469609377823028844746120693193213306533926036765615545495882706215684586734602605273311368718237216551302040465606228478646758742439213161821408291025678475165597240583079921734388495480061465059407055377960205078125\n",
      "Error: Exponent cannot be negative.\n",
      "Error: Base must be a number.\n",
      "Error: Exponent must be an integer.\n"
     ]
    }
   ],
   "source": [
    "# APPLICATION (OPTIONAL)\n",
    "#e.g.2 Unprofessinal way\n",
    "def power(base, exponent=2):\n",
    "    return base ** exponent\n",
    "\n",
    "# Calling the function\n",
    "print(f\"The 3 to the power of 2 is {power(3)}\")      # Uses default exponent 2\n",
    "print(power(3, 4))   # Uses provided exponent 4\n",
    "print(power(5, 3))   \n",
    "print(power(125,125))\n",
    "\n",
    "##########################################\n",
    "# e.g.2: professional way of doing above\n",
    "def power(base, exponent=2):\n",
    "    \"\"\"Calculates the power of a number.\n",
    "\n",
    "    Args:\n",
    "        base (float): The base number.\n",
    "        exponent (int, optional): The exponent to which the base is raised. Defaults to 2.\n",
    "\n",
    "    Returns:\n",
    "        float: The result of raising the base to the power of the exponent,\n",
    "               or an error message string if invalid input is provided.\n",
    "    \"\"\"\n",
    "    if not isinstance(base, (int, float)):\n",
    "        return \"Error: Base must be a number.\"\n",
    "    if not isinstance(exponent, int):\n",
    "        return \"Error: Exponent must be an integer.\"\n",
    "    if exponent < 0:\n",
    "        return \"Error: Exponent cannot be negative.\"\n",
    "    return base ** exponent\n",
    "\n",
    "# Calling the function\n",
    "res = power(3) # Uses default exponent 2\n",
    "print(f\"The 3 to the power of 2 is {res}\")\n",
    "\n",
    "res = power(3, 4) # Uses provided exponent 4\n",
    "print(res) \n",
    "\n",
    "print(power(5, 3))\n",
    "print(power(125,125))\n",
    "\n",
    "# Example of error handling (printing the returned error message)\n",
    "res = power(2, -3)\n",
    "print(res)\n",
    "\n",
    "res = power(\"hello\", 2)\n",
    "print(res)\n",
    "\n",
    "res = power(5, 2.5)\n",
    "print(res)"
   ]
  },
  {
   "cell_type": "code",
   "execution_count": 46,
   "metadata": {},
   "outputs": [],
   "source": [
    "# import sys\n",
    "# sys.set_int_max_str_digits(10000000)\n",
    "# print(f\"high number to the power of high number {power(67123,2456)}\")"
   ]
  },
  {
   "cell_type": "code",
   "execution_count": 70,
   "metadata": {},
   "outputs": [
    {
     "name": "stdout",
     "output_type": "stream",
     "text": [
      "(50, 30, 100000)\n",
      "Area: 50, Perimeter: 30, Price: 100000\n"
     ]
    }
   ],
   "source": [
    "# 5. Function with Multiple Return Values\n",
    "def rectangle_properties(length, width):\n",
    "    \"\"\"This function returns the area, perimeter and price of a rectangle.\n",
    "        Multiple return values, tuple unpacking.\n",
    "    \"\"\"\n",
    "    area = length * width\n",
    "    perimeter = 2 * (length + width)\n",
    "    price = 2000*area\n",
    "    return area, perimeter, price\n",
    "\n",
    "# Call the function and unpack results\n",
    "result = rectangle_properties(5, 10)\n",
    "print(result)\n",
    "\n",
    "ar   = result[0]\n",
    "peri = result[1]\n",
    "pri  = result[2] \n",
    "print(f\"Area: {ar}, Perimeter: {peri}, Price: {pri}\")"
   ]
  },
  {
   "cell_type": "code",
   "execution_count": 2,
   "metadata": {},
   "outputs": [
    {
     "name": "stdout",
     "output_type": "stream",
     "text": [
      "With valid inputs - Area: 50, Perimeter: 30, Message: success\n",
      "With invalid inputs - Area: None, Perimeter: None, Message: Error: Length and width cannot be negative.\n",
      "With invalid inputs - Area: None, Perimeter: None, Message: Error: Length and width cannot be negative.\n"
     ]
    }
   ],
   "source": [
    "# APPLICATION (OPTIONAL)\n",
    "# doing the same as above but in a professional manner\n",
    "def rectangle_properties(length, width):\n",
    "    \"\"\"Calculates the area, perimeter and price of a rectangle.\n",
    "\n",
    "    Args:\n",
    "        length (float): The length of the rectangle. Must be non-negative.\n",
    "        width (float): The width of the rectangle. Must be non-negative.\n",
    "\n",
    "    Returns:\n",
    "        tuple: A tuple containing the area, perimeter, and a status message.\n",
    "               - The first element is the area of the rectangle (float).\n",
    "               - The second element is the perimeter of the rectangle (float).\n",
    "               - The third element is a status message (str), which will be \"success\"\n",
    "                 if the inputs are valid, and an error message otherwise.\n",
    "    \"\"\"\n",
    "    if length < 0 or width < 0:\n",
    "        error_msg = \"Error: Length and width cannot be negative.\"\n",
    "        return None, None, error_msg\n",
    "    else:\n",
    "        area = length * width\n",
    "        perimeter = 2 * (length + width)\n",
    "        success_msg = \"success\"\n",
    "        return area, perimeter, success_msg\n",
    "\n",
    "# Call the function with valid inputs and unpack results\n",
    "area_valid, perimeter_valid, msg_valid = rectangle_properties(5, 10)\n",
    "print(f\"With valid inputs - Area: {area_valid}, Perimeter: {perimeter_valid}, Message: {msg_valid}\")\n",
    "\n",
    "# Call the function with invalid inputs and unpack results\n",
    "area_invalid, perimeter_invalid, msg_invalid = rectangle_properties(-5, 10)\n",
    "print(f\"With invalid inputs - Area: {area_invalid}, Perimeter: {perimeter_invalid}, Message: {msg_invalid}\")\n",
    "\n",
    "area_invalid_2, perimeter_invalid_2, msg_invalid_2 = rectangle_properties(5, -10)\n",
    "print(f\"With invalid inputs - Area: {area_invalid_2}, Perimeter: {perimeter_invalid_2}, Message: {msg_invalid_2}\")"
   ]
  },
  {
   "cell_type": "code",
   "execution_count": 71,
   "metadata": {},
   "outputs": [
    {
     "name": "stdout",
     "output_type": "stream",
     "text": [
      "name: Harsh\n",
      "age: 25\n",
      "city: New York\n",
      "name: Cherry\n",
      "age: 21\n",
      "city: Hong Kong\n"
     ]
    }
   ],
   "source": [
    "# 6. Function Using kwargs (Keyword Arguments) (ADVANCED)\n",
    "def print_info(**info):\n",
    "    \"\"\"This function takes keyword arguments and prints them.\"\"\"\n",
    "    for key, value in info.items():\n",
    "        print(f\"{key}: {value}\")\n",
    "\n",
    "# Calling with keyword arguments\n",
    "print_info(name=\"Harsh\",  age=25, city=\"New York\")\n",
    "print_info(name=\"Cherry\", age=21, city=\"Hong Kong\")\n",
    "\n"
   ]
  },
  {
   "cell_type": "code",
   "execution_count": 27,
   "metadata": {},
   "outputs": [
    {
     "name": "stdout",
     "output_type": "stream",
     "text": [
      "120\n"
     ]
    }
   ],
   "source": [
    "# 7. Recursive Function (ADVANCED)\n",
    "def factorial(n):\n",
    "    \"\"\"This function calculates the factorial of a number using recursion.\"\"\"\n",
    "    if n == 0 or n == 1:\n",
    "        return 1\n",
    "    return n * factorial(n - 1)\n",
    "\n",
    "# Call the function\n",
    "print(factorial(5))  # Output: 120"
   ]
  },
  {
   "cell_type": "markdown",
   "metadata": {},
   "source": [
    "# STOP.....\n",
    "## OPTIONAL: PRACTICE examples of user defined fn"
   ]
  },
  {
   "cell_type": "code",
   "execution_count": 15,
   "metadata": {},
   "outputs": [
    {
     "name": "stdout",
     "output_type": "stream",
     "text": [
      "The minimum of 15 and 7 is: 7\n",
      "The minimum of -5 and 2 is: -5\n",
      "The minimum of 10.5 and 10.5 is: 10.5\n"
     ]
    }
   ],
   "source": [
    "def find_minimum(num1, num2):\n",
    "  \"\"\"Returns the minimum of two numbers.\n",
    "\n",
    "  Args:\n",
    "    num1 (float): The first number.\n",
    "    num2 (float): The second number.\n",
    "\n",
    "  Returns:\n",
    "    float: The smaller of the two input numbers.\n",
    "  \"\"\"\n",
    "  if num1 < num2:\n",
    "    return num1\n",
    "  else:\n",
    "    return num2\n",
    "\n",
    "# Example usage:\n",
    "number1 = 15\n",
    "number2 = 7\n",
    "minimum = find_minimum(number1, number2)\n",
    "print(f\"The minimum of {number1} and {number2} is: {minimum}\")\n",
    "\n",
    "number3 = -5\n",
    "number4 = 2\n",
    "minimum2 = find_minimum(number3, number4)\n",
    "print(f\"The minimum of {number3} and {number4} is: {minimum2}\")\n",
    "\n",
    "number5 = 10.5\n",
    "number6 = 10.5\n",
    "minimum3 = find_minimum(number5, number6)\n",
    "print(f\"The minimum of {number5} and {number6} is: {minimum3}\")"
   ]
  },
  {
   "cell_type": "code",
   "execution_count": 16,
   "metadata": {},
   "outputs": [
    {
     "name": "stdout",
     "output_type": "stream",
     "text": [
      "The maximum of 15 and 7 is: 15\n",
      "The maximum of -5 and 2 is: 2\n",
      "The maximum of 10.5 and 10.5 is: 10.5\n"
     ]
    }
   ],
   "source": [
    "def find_maximum(num1, num2):\n",
    "  \"\"\"Returns the maximum of two numbers.\n",
    "\n",
    "  Args:\n",
    "    num1 (float): The first number.\n",
    "    num2 (float): The second number.\n",
    "\n",
    "  Returns:\n",
    "    float: The larger of the two input numbers.\n",
    "  \"\"\"\n",
    "  if num1 > num2:\n",
    "    return num1\n",
    "  else:\n",
    "    return num2\n",
    "\n",
    "# Example usage:\n",
    "number1 = 15\n",
    "number2 = 7\n",
    "maximum = find_maximum(number1, number2)\n",
    "print(f\"The maximum of {number1} and {number2} is: {maximum}\")\n",
    "\n",
    "number3 = -5\n",
    "number4 = 2\n",
    "maximum2 = find_maximum(number3, number4)\n",
    "print(f\"The maximum of {number3} and {number4} is: {maximum2}\")\n",
    "\n",
    "number5 = 10.5\n",
    "number6 = 10.5\n",
    "maximum3 = find_maximum(number5, number6)\n",
    "print(f\"The maximum of {number5} and {number6} is: {maximum3}\")"
   ]
  },
  {
   "cell_type": "code",
   "execution_count": null,
   "metadata": {},
   "outputs": [],
   "source": [
    "# find maximum from a list/tuple/set\n",
    "def maximum_item(my_list=[]):\n",
    "    max_value = = my_list[0]\n",
    "    for i in my_list:\n",
    "        if i > max_value:\n",
    "            max_value = i\n",
    "\n",
    "    return max_value\n",
    "\n",
    "l = [3,1,5,2]\n",
    "res = maximum_item(l)\n",
    "print(res)\n",
    "\n",
    "#########################\n",
    "# find minimum from a list/tuple/set\n",
    "def minimum_item(my_list=[]):\n",
    "    min_value = my_list[0]\n",
    "    for i in my_list:\n",
    "        if i < min_value:\n",
    "            min_value = i\n",
    "\n",
    "    return min_value\n",
    "\n",
    "l = [3,1,5,2]\n",
    "res = minimum_item(l)\n",
    "print(res)"
   ]
  },
  {
   "cell_type": "code",
   "execution_count": 1,
   "metadata": {},
   "outputs": [
    {
     "name": "stdout",
     "output_type": "stream",
     "text": [
      "Mirrored Left-Angled Triangle with 5 rows:\n",
      "*\n",
      "**\n",
      "***\n",
      "****\n",
      "*****\n"
     ]
    }
   ],
   "source": [
    "def print_mirrored_left_triangle(rows):\n",
    "  \"\"\"Prints a mirrored left-angled triangle.\n",
    "  \"\"\"\n",
    "\n",
    "  for i in range(1, rows + 1):\n",
    "    # Print asterisks (no leading spaces needed for a left-aligned triangle)\n",
    "    print(\"*\" * i)\n",
    "\n",
    "# Example usage:\n",
    "print(\"Mirrored Left-Angled Triangle with 5 rows:\")\n",
    "print_mirrored_left_triangle(5)\n"
   ]
  },
  {
   "cell_type": "code",
   "execution_count": 17,
   "metadata": {},
   "outputs": [
    {
     "name": "stdout",
     "output_type": "stream",
     "text": [
      "Multiplication Table of 5 up to 10:\n",
      "5 x 1 = 5\n",
      "5 x 2 = 10\n",
      "5 x 3 = 15\n",
      "5 x 4 = 20\n",
      "5 x 5 = 25\n",
      "5 x 6 = 30\n",
      "5 x 7 = 35\n",
      "5 x 8 = 40\n",
      "5 x 9 = 45\n",
      "5 x 10 = 50\n",
      "\n",
      "\n",
      "Multiplication Table of 5 up to 10:\n",
      "5 x 1 = 5\n",
      "5 x 2 = 10\n",
      "5 x 3 = 15\n",
      "5 x 4 = 20\n",
      "5 x 5 = 25\n",
      "5 x 6 = 30\n",
      "5 x 7 = 35\n",
      "5 x 8 = 40\n",
      "5 x 9 = 45\n",
      "5 x 10 = 50\n",
      "\n",
      "\n",
      "Multiplication Table of 7 up to 5:\n",
      "7 x 1 = 7\n",
      "7 x 2 = 14\n",
      "7 x 3 = 21\n",
      "7 x 4 = 28\n",
      "7 x 5 = 35\n",
      "\n",
      "\n",
      "Multiplication Table of 3 up to 15:\n",
      "3 x 1 = 3\n",
      "3 x 2 = 6\n",
      "3 x 3 = 9\n",
      "3 x 4 = 12\n",
      "3 x 5 = 15\n",
      "3 x 6 = 18\n",
      "3 x 7 = 21\n",
      "3 x 8 = 24\n",
      "3 x 9 = 27\n",
      "3 x 10 = 30\n",
      "3 x 11 = 33\n",
      "3 x 12 = 36\n",
      "3 x 13 = 39\n",
      "3 x 14 = 42\n",
      "3 x 15 = 45\n",
      "\n",
      "\n",
      "Error: The first argument 'a' must be an integer.\n",
      "\n",
      "\n",
      "Error: The second argument 'n' must be a positive integer.\n",
      "\n",
      "\n",
      "Error: The second argument 'n' must be an integer.\n"
     ]
    }
   ],
   "source": [
    "def multiplication_table(a, n=10):\n",
    "  \"\"\"Prints the multiplication table of a given number up to a specified limit.\n",
    "\n",
    "  Args:\n",
    "    a (int): The number for which the multiplication table is to be printed.\n",
    "    n (int): The upper limit of the multiplication table (e.g., if n=10,\n",
    "             it will print up to a * 10).\n",
    "  \"\"\"\n",
    "  if not isinstance(a, int):\n",
    "    print(\"Error: The first argument 'a' must be an integer.\")\n",
    "    return\n",
    "  if not isinstance(n, int):\n",
    "    print(\"Error: The second argument 'n' must be an integer.\")\n",
    "    return\n",
    "  if n <= 0:\n",
    "    print(\"Error: The second argument 'n' must be a positive integer.\")\n",
    "    return\n",
    "\n",
    "  print(f\"Multiplication Table of {a} up to {n}:\")\n",
    "  for i in range(1, n + 1):\n",
    "    result = a * i\n",
    "    print(f\"{a} x {i} = {result}\")\n",
    "\n",
    "# Example usage:\n",
    "multiplication_table(5)\n",
    "print(\"\\n\")\n",
    "multiplication_table(5, 10)\n",
    "print(\"\\n\")\n",
    "\n",
    "multiplication_table(7, 5)\n",
    "print(\"\\n\")\n",
    "multiplication_table(3, 15)\n",
    "print(\"\\n\")\n",
    "multiplication_table(2.5, 5)  # Example with non-integer 'a'\n",
    "print(\"\\n\")\n",
    "multiplication_table(4, 0)    # Example with non-positive 'n'\n",
    "print(\"\\n\")\n",
    "multiplication_table(6, 7.2)  # Example with non-integer 'n'"
   ]
  },
  {
   "cell_type": "code",
   "execution_count": 1,
   "metadata": {},
   "outputs": [
    {
     "name": "stdout",
     "output_type": "stream",
     "text": [
      "Which operation would you like to perform? (+, -, *):  +\n",
      "Enter the first number:  4\n",
      "Enter the second number:  6\n"
     ]
    },
    {
     "name": "stdout",
     "output_type": "stream",
     "text": [
      "Result: 10.0\n"
     ]
    }
   ],
   "source": [
    "## a simple example of used defined fn:\n",
    "def add(a, b):\n",
    "    return a + b\n",
    "\n",
    "def subtract(a, b):\n",
    "    return a - b\n",
    "\n",
    "def multiply(a, b):\n",
    "    return a * b\n",
    "\n",
    "def calculator():\n",
    "    # Ask the user to choose an operation\n",
    "    operation = input(\"Which operation would you like to perform? (+, -, *): \")\n",
    "\n",
    "    # Ask the user to enter two numbers\n",
    "    try:\n",
    "        num1 = float(input(\"Enter the first number: \"))\n",
    "        num2 = float(input(\"Enter the second number: \"))\n",
    "    except ValueError:\n",
    "        print(\"Invalid number entered.\")\n",
    "        return\n",
    "\n",
    "    # Perform the selected operation\n",
    "    if operation == '+':\n",
    "        result = add(num1, num2)\n",
    "        print(\"Result:\", result)\n",
    "    elif operation == '-':\n",
    "        result = subtract(num1, num2)\n",
    "        print(\"Result:\", result)\n",
    "    elif operation == '*':\n",
    "        result = multiply(num1, num2)\n",
    "        print(\"Result:\", result)\n",
    "    else:\n",
    "        print(\"Invalid operation selected.\")\n",
    "\n",
    "# Call the calculator\n",
    "calculator()\n"
   ]
  },
  {
   "cell_type": "markdown",
   "metadata": {},
   "source": [
    "## Practice"
   ]
  },
  {
   "cell_type": "code",
   "execution_count": 14,
   "metadata": {},
   "outputs": [
    {
     "name": "stdout",
     "output_type": "stream",
     "text": [
      "Principal Amount: 10000\n",
      "Annual Interest Rate: 5.0%\n",
      "Investment Time: 3 years\n",
      "Compounding Frequency: 12 times per year\n",
      "Compound Interest: 1614.72\n",
      "Total Amount: 11614.72\n"
     ]
    }
   ],
   "source": [
    "def calculate_compound_interest(principal, rate, time, compounding_frequency):\n",
    "  \"\"\"Calculates the compound interest and the total amount.\n",
    "\n",
    "  Args:\n",
    "      principal (float): The initial principal balance.\n",
    "      rate (float): The annual interest rate (as a decimal).\n",
    "      time (float): The number of years the money is invested or borrowed for.\n",
    "      compounding_frequency (int): The number of times that interest is compounded per year.\n",
    "\n",
    "  Returns:\n",
    "      tuple: A tuple containing the calculated compound interest and the total amount.\n",
    "             The first element is the compound interest, and the second element is the total amount.\n",
    "  \"\"\"\n",
    "  if principal < 0 or rate < 0 or time < 0 or compounding_frequency <= 0:\n",
    "    raise ValueError(\"Input values cannot be negative or zero (compounding frequency).\") # to  be explained later\n",
    "\n",
    "  amount = principal * (1 + (rate / compounding_frequency))**(compounding_frequency * time)\n",
    "  compound_interest = amount - principal\n",
    "  return compound_interest, amount\n",
    "\n",
    "\n",
    "\n",
    "# Example usage:\n",
    "principal_amount = 10000 # try -10000\n",
    "annual_rate = 0.05 # try -0.05\n",
    "investment_time = 3 # try -3\n",
    "compounds_per_year = 12\n",
    "\n",
    "interest, total_amount = calculate_compound_interest(principal_amount, annual_rate, investment_time, compounds_per_year)\n",
    "\n",
    "print(f\"Principal Amount: {principal_amount}\")\n",
    "print(f\"Annual Interest Rate: {annual_rate*100}%\")\n",
    "print(f\"Investment Time: {investment_time} years\")\n",
    "print(f\"Compounding Frequency: {compounds_per_year} times per year\")\n",
    "print(f\"Compound Interest: {interest:.2f}\")\n",
    "print(f\"Total Amount: {total_amount:.2f}\")"
   ]
  },
  {
   "cell_type": "code",
   "execution_count": 18,
   "metadata": {},
   "outputs": [
    {
     "name": "stdout",
     "output_type": "stream",
     "text": [
      "Are there common elements in list_a and list_b? True\n",
      "Are there common elements in list_c and list_d? False\n",
      "Are there common elements in list_e and list_f? True\n",
      "Are there common elements in 'not_a_list' and list_g? Error: The first argument must be a list.\n",
      "Are there common elements in list_h and 'not_a_list_2'? Error: The second argument must be a list.\n"
     ]
    }
   ],
   "source": [
    "def check_common_element(list1, list2):\n",
    "  \"\"\"Checks if there is at least one common element between two lists.\n",
    "\n",
    "  Args:\n",
    "    list1 (list): The first list.\n",
    "    list2 (list): The second list.\n",
    "\n",
    "  Returns:\n",
    "    bool: True if there is at least one common element, False otherwise.\n",
    "          Returns an error message string if the inputs are not lists.\n",
    "  \"\"\"\n",
    "  if not isinstance(list1, list):\n",
    "    return \"Error: The first argument must be a list.\"\n",
    "  if not isinstance(list2, list):\n",
    "    return \"Error: The second argument must be a list.\"\n",
    "\n",
    "  for element in list1:\n",
    "    if element in list2:\n",
    "      return True\n",
    "  return False\n",
    "\n",
    "# Example usage:\n",
    "list_a = [1, 2, 3, 4, 5]\n",
    "list_b = [5, 6, 7, 8, 9]\n",
    "result1 = check_common_element(list_a, list_b)\n",
    "print(f\"Are there common elements in list_a and list_b? {result1}\")  # Output: True\n",
    "\n",
    "list_c = [10, 11, 12]\n",
    "list_d = [1, 2, 3]\n",
    "result2 = check_common_element(list_c, list_d)\n",
    "print(f\"Are there common elements in list_c and list_d? {result2}\")  # Output: False\n",
    "\n",
    "list_e = [1, 'a', 3.14]\n",
    "list_f = ['b', 2, 1]\n",
    "result3 = check_common_element(list_e, list_f)\n",
    "print(f\"Are there common elements in list_e and list_f? {result3}\")  # Output: True\n",
    "\n",
    "not_a_list = \"hello\"\n",
    "list_g = [1, 2, 3]\n",
    "result4 = check_common_element(not_a_list, list_g)\n",
    "print(f\"Are there common elements in 'not_a_list' and list_g? {result4}\") # Output: Error: The first argument must be a list.\n",
    "\n",
    "list_h = [4, 5, 6]\n",
    "not_a_list_2 = 10\n",
    "result5 = check_common_element(list_h, not_a_list_2)\n",
    "print(f\"Are there common elements in list_h and 'not_a_list_2'? {result5}\") # Output: Error: The second argument must be a list."
   ]
  },
  {
   "cell_type": "code",
   "execution_count": 19,
   "metadata": {},
   "outputs": [
    {
     "name": "stdout",
     "output_type": "stream",
     "text": [
      "Original list: [1, 2, 3, 4, 5]\n",
      "Swapped list: [5, 2, 3, 4, 1]\n",
      "Original list: ['a', 'b', 'c', 'd']\n",
      "Swapped list: ['d', 'b', 'c', 'a']\n",
      "Original list: [10]\n",
      "Swapped list: Error: List must have at least two elements to swap.\n",
      "Original list: []\n",
      "Swapped list: Error: List must have at least two elements to swap.\n",
      "Input: hello\n",
      "Result: Error: Input must be a list.\n"
     ]
    }
   ],
   "source": [
    "def swap_first_last(data_list):\n",
    "  \"\"\"Swaps the first and last elements of a list.\n",
    "\n",
    "  Args:\n",
    "    data_list (list): The list whose first and last elements will be swapped.\n",
    "\n",
    "  Returns:\n",
    "    list: A new list with the first and last elements swapped.\n",
    "          Returns an error message string if the input is not a list\n",
    "          or if the list has fewer than 2 elements.\n",
    "  \"\"\"\n",
    "  if not isinstance(data_list, list):\n",
    "    return \"Error: Input must be a list.\"\n",
    "  if len(data_list) < 2:\n",
    "    return \"Error: List must have at least two elements to swap.\"\n",
    "\n",
    "  # Create a copy of the list to avoid modifying the original directly\n",
    "  swapped_list = data_list[:]\n",
    "\n",
    "  # Swap the elements\n",
    "  swapped_list[0], swapped_list[-1] = swapped_list[-1], swapped_list[0]\n",
    "\n",
    "  return swapped_list\n",
    "\n",
    "# Example usage:\n",
    "my_list = [1, 2, 3, 4, 5]\n",
    "swapped = swap_first_last(my_list)\n",
    "print(f\"Original list: {my_list}\")\n",
    "print(f\"Swapped list: {swapped}\")\n",
    "\n",
    "another_list = ['a', 'b', 'c', 'd']\n",
    "swapped_another = swap_first_last(another_list)\n",
    "print(f\"Original list: {another_list}\")\n",
    "print(f\"Swapped list: {swapped_another}\")\n",
    "\n",
    "short_list = [10]\n",
    "swapped_short = swap_first_last(short_list)\n",
    "print(f\"Original list: {short_list}\")\n",
    "print(f\"Swapped list: {swapped_short}\")\n",
    "\n",
    "empty_list = []\n",
    "swapped_empty = swap_first_last(empty_list)\n",
    "print(f\"Original list: {empty_list}\")\n",
    "print(f\"Swapped list: {swapped_empty}\")\n",
    "\n",
    "not_a_list = \"hello\"\n",
    "swapped_not_list = swap_first_last(not_a_list)\n",
    "print(f\"Input: {not_a_list}\")\n",
    "print(f\"Result: {swapped_not_list}\")"
   ]
  },
  {
   "cell_type": "code",
   "execution_count": null,
   "metadata": {},
   "outputs": [],
   "source": []
  }
 ],
 "metadata": {
  "kernelspec": {
   "display_name": "Python 3 (ipykernel)",
   "language": "python",
   "name": "python3"
  },
  "language_info": {
   "codemirror_mode": {
    "name": "ipython",
    "version": 3
   },
   "file_extension": ".py",
   "mimetype": "text/x-python",
   "name": "python",
   "nbconvert_exporter": "python",
   "pygments_lexer": "ipython3",
   "version": "3.9.9"
  }
 },
 "nbformat": 4,
 "nbformat_minor": 4
}
