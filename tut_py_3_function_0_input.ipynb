{
 "cells": [
  {
   "cell_type": "markdown",
   "metadata": {},
   "source": [
    "# in built function:\n",
    "print, input, int, float, len, range, type, map, filter, any, etc"
   ]
  },
  {
   "cell_type": "code",
   "execution_count": 1,
   "metadata": {},
   "outputs": [
    {
     "name": "stdout",
     "output_type": "stream",
     "text": [
      "the sum is 12\n"
     ]
    }
   ],
   "source": [
    "a = 5\n",
    "b = 7\n",
    "ans = a+b\n",
    "\n",
    "print(f\"the sum is {ans}\")"
   ]
  },
  {
   "cell_type": "code",
   "execution_count": 5,
   "metadata": {},
   "outputs": [
    {
     "name": "stdin",
     "output_type": "stream",
     "text": [
      "enter your first number 2\n",
      "enter your second number 4\n"
     ]
    },
    {
     "name": "stdout",
     "output_type": "stream",
     "text": [
      "you entered 2 and 4\n"
     ]
    }
   ],
   "source": [
    "# Now user supplies input, but output is wrong\n",
    "\n",
    "a = input(\"enter your first number\") # here a is str\n",
    "b = input(\"enter your second number\") # here b is str\n",
    "\n",
    "print(f\"you entered {a} and {b}\")"
   ]
  },
  {
   "cell_type": "code",
   "execution_count": 6,
   "metadata": {},
   "outputs": [
    {
     "name": "stdout",
     "output_type": "stream",
     "text": [
      "Your sum is 24\n"
     ]
    }
   ],
   "source": [
    "ans = a+b # concatenates the string\n",
    "print(f\"Your sum is {ans}\") # ANSWER IS WRONG"
   ]
  },
  {
   "cell_type": "code",
   "execution_count": 12,
   "metadata": {},
   "outputs": [
    {
     "name": "stdout",
     "output_type": "stream",
     "text": [
      "Your sum is 8\n"
     ]
    }
   ],
   "source": [
    "#convert into int using type casting\n",
    "a = int(a)\n",
    "b = int(b)\n",
    "ans = a+b\n",
    "\n",
    "print(f\"Your sum is {ans}\") # ANSWER IS RIGHT"
   ]
  },
  {
   "cell_type": "code",
   "execution_count": 7,
   "metadata": {},
   "outputs": [
    {
     "name": "stdin",
     "output_type": "stream",
     "text": [
      "enter your first number 3\n",
      "enter your second number 4\n"
     ]
    },
    {
     "ename": "TypeError",
     "evalue": "can't multiply sequence by non-int of type 'str'",
     "output_type": "error",
     "traceback": [
      "\u001b[1;31m---------------------------------------------------------------------------\u001b[0m",
      "\u001b[1;31mTypeError\u001b[0m                                 Traceback (most recent call last)",
      "Cell \u001b[1;32mIn[7], line 5\u001b[0m\n\u001b[0;32m      3\u001b[0m a \u001b[38;5;241m=\u001b[39m \u001b[38;5;28minput\u001b[39m(\u001b[38;5;124m\"\u001b[39m\u001b[38;5;124menter your first number\u001b[39m\u001b[38;5;124m\"\u001b[39m)\n\u001b[0;32m      4\u001b[0m b \u001b[38;5;241m=\u001b[39m \u001b[38;5;28minput\u001b[39m(\u001b[38;5;124m\"\u001b[39m\u001b[38;5;124menter your second number\u001b[39m\u001b[38;5;124m\"\u001b[39m)\n\u001b[1;32m----> 5\u001b[0m ans \u001b[38;5;241m=\u001b[39m \u001b[43ma\u001b[49m\u001b[38;5;241;43m*\u001b[39;49m\u001b[43mb\u001b[49m\n\u001b[0;32m      7\u001b[0m \u001b[38;5;28mprint\u001b[39m(\u001b[38;5;124mf\u001b[39m\u001b[38;5;124m\"\u001b[39m\u001b[38;5;124myou entered \u001b[39m\u001b[38;5;132;01m{\u001b[39;00ma\u001b[38;5;132;01m}\u001b[39;00m\u001b[38;5;124m and \u001b[39m\u001b[38;5;132;01m{\u001b[39;00mb\u001b[38;5;132;01m}\u001b[39;00m\u001b[38;5;124m\"\u001b[39m)\n\u001b[0;32m      9\u001b[0m \u001b[38;5;28mprint\u001b[39m(\u001b[38;5;124mf\u001b[39m\u001b[38;5;124m\"\u001b[39m\u001b[38;5;124mYour product is \u001b[39m\u001b[38;5;132;01m{\u001b[39;00mans\u001b[38;5;132;01m}\u001b[39;00m\u001b[38;5;124m\"\u001b[39m)\n",
      "\u001b[1;31mTypeError\u001b[0m: can't multiply sequence by non-int of type 'str'"
     ]
    }
   ],
   "source": [
    "# Now user supplies input, \n",
    "\n",
    "a = input(\"enter your first number\")\n",
    "b = input(\"enter your second number\")\n",
    "ans = a*b\n",
    "\n",
    "print(f\"you entered {a} and {b}\")\n",
    "\n",
    "print(f\"Your product is {ans}\")"
   ]
  },
  {
   "cell_type": "code",
   "execution_count": 8,
   "metadata": {},
   "outputs": [
    {
     "name": "stdin",
     "output_type": "stream",
     "text": [
      "enter your first number 5\n",
      "enter your second number 6\n"
     ]
    },
    {
     "name": "stdout",
     "output_type": "stream",
     "text": [
      "you entered 5 and 6\n",
      "Your product is 30\n"
     ]
    }
   ],
   "source": [
    "# Now user supplies input:\n",
    "a = input(\"enter your first number\")\n",
    "b = input(\"enter your second number\")\n",
    "\n",
    "a = int(a) # type casting\n",
    "b = int(b)\n",
    "\n",
    "ans = a*b\n",
    "\n",
    "print(f\"you entered {a} and {b}\")\n",
    "print(f\"Your product is {ans}\")"
   ]
  },
  {
   "cell_type": "code",
   "execution_count": 11,
   "metadata": {},
   "outputs": [
    {
     "name": "stdin",
     "output_type": "stream",
     "text": [
      "enter your first number 2\n",
      "enter your second number 5\n"
     ]
    },
    {
     "name": "stdout",
     "output_type": "stream",
     "text": [
      "you entered 2 and 5\n",
      "Your product is 10\n"
     ]
    }
   ],
   "source": [
    "# Now user supplies input:\n",
    "a = int(input(\"enter your first number\"))\n",
    "b = int(input(\"enter your second number\"))\n",
    "\n",
    "ans = a*b\n",
    "\n",
    "print(f\"you entered {a} and {b}\")\n",
    "print(f\"Your product is {ans}\")"
   ]
  },
  {
   "cell_type": "code",
   "execution_count": 14,
   "metadata": {},
   "outputs": [
    {
     "name": "stdin",
     "output_type": "stream",
     "text": [
      "enter your first number 2\n",
      "enter your second number 4\n"
     ]
    },
    {
     "name": "stdout",
     "output_type": "stream",
     "text": [
      "you entered 2.0 and 4.0\n",
      "Your product is 8.0\n"
     ]
    }
   ],
   "source": [
    "# Now user supplies input with float values\n",
    "a = float(input(\"enter your first number\"))\n",
    "b = float(input(\"enter your second number\"))\n",
    "\n",
    "ans = a*b\n",
    "\n",
    "print(f\"you entered {a} and {b}\")\n",
    "print(f\"Your product is {ans}\")"
   ]
  },
  {
   "cell_type": "code",
   "execution_count": 15,
   "metadata": {},
   "outputs": [
    {
     "data": {
      "text/plain": [
       "float"
      ]
     },
     "execution_count": 15,
     "metadata": {},
     "output_type": "execute_result"
    }
   ],
   "source": [
    "type(ans)"
   ]
  },
  {
   "cell_type": "code",
   "execution_count": 17,
   "metadata": {},
   "outputs": [
    {
     "name": "stdout",
     "output_type": "stream",
     "text": [
      "The full name is: ash----   ++ kumar\n"
     ]
    }
   ],
   "source": [
    "# string contat.\n",
    "first_name = 'ash'\n",
    "last_name = 'kumar'\n",
    "\n",
    "full_name = first_name + \"----   ++ \" + last_name  # + \"\\u2600\"\n",
    "\n",
    "print(\"The full name is:\", full_name)\n"
   ]
  },
  {
   "cell_type": "code",
   "execution_count": 20,
   "metadata": {},
   "outputs": [
    {
     "name": "stdin",
     "output_type": "stream",
     "text": [
      "enter your first name:  ash\n",
      "enter your last name:  kumar\n"
     ]
    },
    {
     "name": "stdout",
     "output_type": "stream",
     "text": [
      "The full name is: ashkumar\n"
     ]
    }
   ],
   "source": [
    "first_name = input(\"enter your first name: \")\n",
    "last_name = input(\"enter your last name: \")\n",
    "\n",
    "full_name = first_name + \" \" + last_name\n",
    "\n",
    "print(\"The full name is:\", full_name)"
   ]
  },
  {
   "cell_type": "code",
   "execution_count": 21,
   "metadata": {},
   "outputs": [
    {
     "name": "stdout",
     "output_type": "stream",
     "text": [
      "The full number is 25 26\n",
      "The full number is 25 26\n"
     ]
    }
   ],
   "source": [
    "first_number = \"25\"\n",
    "last_number = \"26\"\n",
    "full_number = first_number + \" \" + last_number\n",
    "print(\"The full number is\" , full_number)\n",
    "print(f\"The full number is {full_number}\")\n",
    "    \n",
    "\n"
   ]
  },
  {
   "cell_type": "code",
   "execution_count": 25,
   "metadata": {},
   "outputs": [
    {
     "name": "stdin",
     "output_type": "stream",
     "text": [
      "enter your first number 3\n",
      "enter your second number 5\n"
     ]
    },
    {
     "name": "stdout",
     "output_type": "stream",
     "text": [
      "8\n",
      "-144.0\n"
     ]
    }
   ],
   "source": [
    "n = input (\"enter your first number\")\n",
    "m = input (\"enter your second number\")\n",
    "a = int (n)\n",
    "b = int (m)\n",
    "\n",
    "# ans = (a+b)(a-b)(a*b)(a/b) # WRONG\n",
    "ans = (a+b)*(a-b)*(a*b)*(a/b) # RIGHT\n",
    "print(ans)\n",
    "\n",
    "# a1 = a+b\n",
    "# a2 = a-b\n",
    "# a3 = a*b\n",
    "# a4 = a/b\n",
    "# ans = a1 * a2 * a3 * a4\n",
    "# print(a1)\n"
   ]
  },
  {
   "cell_type": "code",
   "execution_count": 3,
   "metadata": {},
   "outputs": [
    {
     "name": "stdout",
     "output_type": "stream",
     "text": [
      "<class 'float'>\n"
     ]
    }
   ],
   "source": [
    "# mixed type int and float\n",
    "x = 20 # int \n",
    "y = 30.5 # float\n",
    "z = x+y\n",
    "\n",
    "print(type(z))"
   ]
  },
  {
   "cell_type": "code",
   "execution_count": 26,
   "metadata": {},
   "outputs": [
    {
     "ename": "ValueError",
     "evalue": "invalid literal for int() with base 10: 'rishabh'",
     "output_type": "error",
     "traceback": [
      "\u001b[1;31m---------------------------------------------------------------------------\u001b[0m",
      "\u001b[1;31mValueError\u001b[0m                                Traceback (most recent call last)",
      "Cell \u001b[1;32mIn[26], line 2\u001b[0m\n\u001b[0;32m      1\u001b[0m a \u001b[38;5;241m=\u001b[39m \u001b[38;5;124m\"\u001b[39m\u001b[38;5;124mrishabh\u001b[39m\u001b[38;5;124m\"\u001b[39m\n\u001b[1;32m----> 2\u001b[0m x \u001b[38;5;241m=\u001b[39m \u001b[38;5;28;43mint\u001b[39;49m\u001b[43m(\u001b[49m\u001b[43ma\u001b[49m\u001b[43m)\u001b[49m\n\u001b[0;32m      3\u001b[0m \u001b[38;5;28mprint\u001b[39m(x)\n",
      "\u001b[1;31mValueError\u001b[0m: invalid literal for int() with base 10: 'rishabh'"
     ]
    }
   ],
   "source": [
    "a = \"rishabh\"\n",
    "x = int(a)\n",
    "print(x)"
   ]
  },
  {
   "cell_type": "markdown",
   "metadata": {},
   "source": [
    "## User defined Function"
   ]
  },
  {
   "cell_type": "code",
   "execution_count": 21,
   "metadata": {},
   "outputs": [
    {
     "name": "stdout",
     "output_type": "stream",
     "text": [
      "Hello, welcome to the Python class!\n"
     ]
    }
   ],
   "source": [
    "## 1. Basic Function (No Parameters, No Return)\n",
    "def greet():\n",
    "    \"\"\"This function prints a greeting message.\"\"\"\n",
    "    print(\"Hello, welcome to the Python class!\")\n",
    "\n",
    "# Call the function\n",
    "greet()\n"
   ]
  },
  {
   "cell_type": "code",
   "execution_count": 28,
   "metadata": {},
   "outputs": [
    {
     "name": "stdout",
     "output_type": "stream",
     "text": [
      "Hello, welcome to the Python class!\n",
      "Today you will learn python\n",
      "Today you will learn type casting\n",
      "Hello, welcome to the Python class!\n",
      "Today you will learn python\n",
      "Today you will learn type casting\n",
      "Hello, welcome to the Python class!\n",
      "Today you will learn python\n",
      "Today you will learn type casting\n"
     ]
    }
   ],
   "source": [
    "def greet():\n",
    "    \"\"\"This function prints a greeting message.\"\"\"\n",
    "    print(\"Hello, welcome to the Python class!\")\n",
    "    print(\"Today you will learn python\")\n",
    "    print(\"Today you will learn type casting\")\n",
    "\n",
    "\n",
    "# Call the function\n",
    "greet()\n",
    "greet()\n",
    "greet()"
   ]
  },
  {
   "cell_type": "code",
   "execution_count": 31,
   "metadata": {},
   "outputs": [
    {
     "name": "stdout",
     "output_type": "stream",
     "text": [
      "Hello, Alice! Welcome to the Python class.\n",
      "Today you will learn python\n"
     ]
    }
   ],
   "source": [
    "# 2. Function with Parameters\n",
    "def greet_person(name):\n",
    "    \"\"\"This function greets a person by name.\"\"\"\n",
    "    print(f\"Hello, {name}! Welcome to the Python class.\")\n",
    "    print(\"Today you will learn python\")\n",
    "    \n",
    "\n",
    "# Call the function with an argument\n",
    "greet_person(\"Alice\")\n"
   ]
  },
  {
   "cell_type": "code",
   "execution_count": 32,
   "metadata": {},
   "outputs": [
    {
     "name": "stdout",
     "output_type": "stream",
     "text": [
      "Hello, Alice! Welcome to the Python class.\n",
      "Today you will learn python\n",
      "Hello, Bharti! Welcome to the Python class.\n",
      "Today you will learn python\n",
      "Hello, Rishabh! Welcome to the Python class.\n",
      "Today you will learn python\n"
     ]
    }
   ],
   "source": [
    "def greet_person(name):\n",
    "    \"\"\"This function greets a person by name.\"\"\"\n",
    "    print(f\"Hello, {name}! Welcome to the Python class.\")\n",
    "    print(\"Today you will learn python\")\n",
    "    \n",
    "\n",
    "# Call the function with an argument\n",
    "greet_person(\"Alice\")\n",
    "greet_person(\"Bharti\")\n",
    "greet_person(\"Rishabh\")\n"
   ]
  },
  {
   "cell_type": "code",
   "execution_count": 33,
   "metadata": {},
   "outputs": [
    {
     "name": "stdout",
     "output_type": "stream",
     "text": [
      "The sum is: 8\n"
     ]
    }
   ],
   "source": [
    "# 3. Function with Return Value\n",
    "def add_numbers(a, b):\n",
    "    \"\"\"This function returns the sum of two numbers.\"\"\"\n",
    "    ans = a + b\n",
    "    return ans\n",
    "\n",
    "# Store and print the result\n",
    "result = add_numbers(5, 3)\n",
    "print(\"The sum is:\", result)\n"
   ]
  },
  {
   "cell_type": "code",
   "execution_count": 34,
   "metadata": {},
   "outputs": [
    {
     "name": "stdin",
     "output_type": "stream",
     "text": [
      "Enter your first number: 3\n",
      "Enter your second number: 5\n"
     ]
    },
    {
     "name": "stdout",
     "output_type": "stream",
     "text": [
      "The sum is: 8\n"
     ]
    }
   ],
   "source": [
    "# Here user is supplying numbers\n",
    "def add_numbers(a, b):\n",
    "    \"\"\"This function returns the sum of two numbers.\"\"\"\n",
    "    ans = a + b\n",
    "    return ans\n",
    "\n",
    "# Store and print the result\n",
    "a = int(input(\"Enter your first number:\"))\n",
    "b = int(input(\"Enter your second number:\"))\n",
    "\n",
    "result = add_numbers(a, b)\n",
    "print(\"The sum is:\", result)\n"
   ]
  },
  {
   "cell_type": "code",
   "execution_count": 42,
   "metadata": {},
   "outputs": [
    {
     "name": "stdout",
     "output_type": "stream",
     "text": [
      "The 3 to the power of 2 is 9\n",
      "81\n",
      "125\n",
      "12994262207056124023163005725852382959736928510469609377823028844746120693193213306533926036765615545495882706215684586734602605273311368718237216551302040465606228478646758742439213161821408291025678475165597240583079921734388495480061465059407055377960205078125\n"
     ]
    }
   ],
   "source": [
    "# 4. Function with Default Parameters\n",
    "def power(base, exponent=2):\n",
    "    \"\"\"This function raises a number to a power. Default exponent is 2.\"\"\"\n",
    "    return base ** exponent\n",
    "\n",
    "# Calling the function\n",
    "print(f\"The 3 to the power of 2 is {power(3)}\")      # Uses default exponent 2\n",
    "print(power(3, 4))   # Uses provided exponent 3\n",
    "print(power(5, 3))   \n",
    "print(power(125,125))\n"
   ]
  },
  {
   "cell_type": "code",
   "execution_count": 46,
   "metadata": {},
   "outputs": [],
   "source": [
    "# import sys\n",
    "# sys.set_int_max_str_digits(10000000)\n",
    "# print(f\"high number to the power of high number {power(67123,2456)}\")"
   ]
  },
  {
   "cell_type": "code",
   "execution_count": 48,
   "metadata": {},
   "outputs": [
    {
     "name": "stdout",
     "output_type": "stream",
     "text": [
      "Area: 50, Perimeter: 30, Message: success\n"
     ]
    }
   ],
   "source": [
    "# 5. Function with Multiple Return Values\n",
    "def rectangle_properties(length, width):\n",
    "    \"\"\"This function returns the area and perimeter of a rectangle.\n",
    "        Multiple return values, tuple unpacking.\n",
    "    \"\"\"\n",
    "    area = length * width\n",
    "    perimeter = 2 * (length + width)\n",
    "    msg = \"success\"\n",
    "    return area, perimeter, msg\n",
    "\n",
    "# Call the function and unpack results\n",
    "ar, per, msg = rectangle_properties(5, 10)\n",
    "print(f\"Area: {ar}, Perimeter: {per}, Message: {msg}\")\n"
   ]
  },
  {
   "cell_type": "code",
   "execution_count": 26,
   "metadata": {},
   "outputs": [
    {
     "name": "stdout",
     "output_type": "stream",
     "text": [
      "name: Alice\n",
      "age: 25\n",
      "city: New York\n"
     ]
    }
   ],
   "source": [
    "# 6. Function Using kwargs (Keyword Arguments) (ADVANCED)\n",
    "def print_info(**info):\n",
    "    \"\"\"This function takes keyword arguments and prints them.\"\"\"\n",
    "    for key, value in info.items():\n",
    "        print(f\"{key}: {value}\")\n",
    "\n",
    "# Calling with keyword arguments\n",
    "print_info(name=\"Alice\", age=25, city=\"New York\")\n"
   ]
  },
  {
   "cell_type": "code",
   "execution_count": 27,
   "metadata": {},
   "outputs": [
    {
     "name": "stdout",
     "output_type": "stream",
     "text": [
      "120\n"
     ]
    }
   ],
   "source": [
    "# 7. Recursive Function (ADVANCED)\n",
    "def factorial(n):\n",
    "    \"\"\"This function calculates the factorial of a number using recursion.\"\"\"\n",
    "    if n == 0 or n == 1:\n",
    "        return 1\n",
    "    return n * factorial(n - 1)\n",
    "\n",
    "# Call the function\n",
    "print(factorial(5))  # Output: 120\n"
   ]
  },
  {
   "cell_type": "markdown",
   "metadata": {},
   "source": [
    "# Miscellaneous\n",
    "## examples of some more in built functions "
   ]
  },
  {
   "cell_type": "code",
   "execution_count": 7,
   "metadata": {},
   "outputs": [],
   "source": [
    "# 1. map() – Apply a Function to Each Item in a List\n",
    "# The map() function applies a function to every item in an iterable (like a list).\n",
    "\n",
    "# Example: Convert a List of Temperatures from Celsius to Fahrenheit\n",
    "temps_celsius = [0, 10, 20, 30, 40]\n",
    "\n",
    "# Convert to Fahrenheit using map()\n",
    "temps_fahrenheit = list(map(lambda c: (c * 9/5) + 32, temps_celsius))\n",
    "\n",
    "print(temps_fahrenheit)\n"
   ]
  },
  {
   "cell_type": "code",
   "execution_count": 1,
   "metadata": {},
   "outputs": [
    {
     "name": "stdout",
     "output_type": "stream",
     "text": [
      "[2, 4, 6, 8, 10]\n"
     ]
    }
   ],
   "source": [
    "# 2. filter() – Select Items Based on a Condition\n",
    "# The filter() function filters elements based on a condition (returns True).\n",
    "\n",
    "# Example: Filter Out Odd Numbers from a List\n",
    "numbers = [1, 2, 3, 4, 5, 6, 7, 8, 9, 10]\n",
    "\n",
    "# Keep only even numbers\n",
    "even_numbers = list(filter(lambda x: x % 2 == 0, numbers))\n",
    "\n",
    "print(even_numbers)\n"
   ]
  },
  {
   "cell_type": "code",
   "execution_count": 2,
   "metadata": {},
   "outputs": [
    {
     "name": "stdout",
     "output_type": "stream",
     "text": [
      "120\n"
     ]
    }
   ],
   "source": [
    "# 3. reduce() – Perform a Cumulative Computation\n",
    "# The reduce() function (from functools) reduces a sequence to a single value.\n",
    "\n",
    "# Example: Find the Product of All Numbers in a List\n",
    "from functools import reduce\n",
    "\n",
    "numbers = [1, 2, 3, 4, 5]\n",
    "\n",
    "# Multiply all numbers together\n",
    "product = reduce(lambda x, y: x * y, numbers)\n",
    "\n",
    "print(product)\n"
   ]
  },
  {
   "cell_type": "code",
   "execution_count": null,
   "metadata": {},
   "outputs": [],
   "source": [
    "# 4. any() – Check If At Least One Element is True\n",
    "# The any() function checks if at least one element in an iterable is True.\n",
    "\n",
    "# Example: Check if a List Contains Any Positive Numbers\n",
    "numbers = [-3, -2, -1, 0, 5]\n",
    "\n",
    "# Check if at least one number is positive\n",
    "has_positive = any(x > 0 for x in numbers)\n",
    "\n",
    "print(has_positive)\n"
   ]
  }
 ],
 "metadata": {
  "kernelspec": {
   "display_name": "Python 3 (ipykernel)",
   "language": "python",
   "name": "python3"
  },
  "language_info": {
   "codemirror_mode": {
    "name": "ipython",
    "version": 3
   },
   "file_extension": ".py",
   "mimetype": "text/x-python",
   "name": "python",
   "nbconvert_exporter": "python",
   "pygments_lexer": "ipython3",
   "version": "3.11.2"
  }
 },
 "nbformat": 4,
 "nbformat_minor": 4
}
