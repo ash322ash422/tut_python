{
 "cells": [
  {
   "cell_type": "markdown",
   "id": "a664e953-82bd-4f6d-af0d-95c2972f355d",
   "metadata": {},
   "source": [
    "# Binary Types\n",
    "Here are real-world examples of Binary Types in Python, including bytes, bytearray, and memoryview. These types are used for handling binary data, such as files, network communication, and encryption.\n",
    "\n",
    "### 1️. bytes (Immutable Binary Data)\n",
    "Scenario: Storing a binary representation of a string."
   ]
  },
  {
   "cell_type": "code",
   "execution_count": 6,
   "id": "46101d84-a3f4-456f-b42a-f5e3857f9c39",
   "metadata": {},
   "outputs": [
    {
     "name": "stdout",
     "output_type": "stream",
     "text": [
      "b'Hollow'\n",
      "111111111111111\n",
      "\n",
      "72\n",
      "111\n",
      "108\n",
      "108\n",
      "111\n",
      "2222222222222222\n",
      "\n",
      "Hollow\n"
     ]
    }
   ],
   "source": [
    "# Creating a bytes object from a string\n",
    "text = \"Hollow\"\n",
    "binary_data = bytes(text, \"utf-8\")\n",
    "\n",
    "print(binary_data)  \n",
    "print(\"111111111111111\\n\")\n",
    "\n",
    "# Accessing individual bytes\n",
    "print(binary_data[0]) # for H\n",
    "print(binary_data[1]) # for o\n",
    "print(binary_data[2]) # for l\n",
    "print(binary_data[3]) # for l\n",
    "print(binary_data[4]) # for o\n",
    "print(\"2222222222222222\\n\")\n",
    "\n",
    "# Converting bytes back to string\n",
    "print(binary_data.decode(\"utf-8\"))  \n"
   ]
  },
  {
   "cell_type": "code",
   "execution_count": null,
   "id": "1d792ecb-5d1d-4b33-95f7-1bc1eb7d09d8",
   "metadata": {},
   "outputs": [],
   "source": [
    "### 2️. bytearray (Mutable Binary Data)\n",
    "Scenario: Modifying binary data (e.g., changing an image header)."
   ]
  },
  {
   "cell_type": "code",
   "execution_count": 7,
   "id": "16e1b0c5-c14c-465b-ae68-a957136984a8",
   "metadata": {},
   "outputs": [
    {
     "name": "stdout",
     "output_type": "stream",
     "text": [
      "bytearray(b'hello')\n",
      "hello\n"
     ]
    }
   ],
   "source": [
    "# Creating a mutable bytearray\n",
    "data = bytearray(b\"Hello\")\n",
    "\n",
    "# Modifying the first byte (ASCII value of 'H' → 'h')\n",
    "data[0] = ord('h')  \n",
    "\n",
    "print(data)   # Output: bytearray(b'hello')\n",
    "\n",
    "# Converting bytearray back to string\n",
    "print(data.decode(\"utf-8\"))  # Output: \"hello\"\n"
   ]
  },
  {
   "cell_type": "code",
   "execution_count": null,
   "id": "67ac5ea0-6fc2-487e-b6b6-ae96b6d8601c",
   "metadata": {},
   "outputs": [],
   "source": [
    "### 3️. memoryview (Efficient Memory Handling)\n",
    "Scenario: Viewing and slicing a binary buffer without copying data.\n",
    "\n",
    "Use memoryview for efficient operations on large binary files without unnecessary copying."
   ]
  },
  {
   "cell_type": "code",
   "execution_count": 8,
   "id": "a9e6193a-75d9-4fde-9c38-38335679dc08",
   "metadata": {},
   "outputs": [
    {
     "name": "stdout",
     "output_type": "stream",
     "text": [
      "b'Pyt'\n",
      "bytearray(b'Jython')\n"
     ]
    }
   ],
   "source": [
    "# Creating a memoryview of a bytearray\n",
    "data = bytearray(b\"Python\")\n",
    "view = memoryview(data)\n",
    "\n",
    "# Slicing the memoryview (first 3 bytes)\n",
    "print(view[:3].tobytes())  # Output: b'Pyt'\n",
    "\n",
    "# Modifying the underlying bytearray via memoryview\n",
    "view[0] = ord('J')  \n",
    "\n",
    "print(data)  # Output: bytearray(b'Jython')  (Original bytearray is modified)\n"
   ]
  },
  {
   "cell_type": "markdown",
   "id": "1323aa74-2173-4c09-bc49-0ce04f53d1d6",
   "metadata": {},
   "source": [
    "### 4️. Reading a Binary File Using bytes\n",
    "Scenario: Reading the first 10 bytes of an image file."
   ]
  },
  {
   "cell_type": "code",
   "execution_count": 11,
   "id": "6c9428c8-69c8-4aec-a98e-5c1c9168be14",
   "metadata": {},
   "outputs": [
    {
     "name": "stdout",
     "output_type": "stream",
     "text": [
      "b'\\xff\\xd8\\xff\\xe0\\x00\\x10JFIF'\n"
     ]
    }
   ],
   "source": [
    "with open(\"image.jpg\", \"rb\") as file:\n",
    "    binary_data = file.read(10)  # Read first 10 bytes\n",
    "\n",
    "print(binary_data)  \n",
    "# Output: b'\\xff\\xd8\\xff\\xe0\\x00\\x10JFIF'  (Example JPEG header)\n"
   ]
  },
  {
   "cell_type": "code",
   "execution_count": null,
   "id": "a00a4846-d0df-4d96-a3d9-0fa44898ef70",
   "metadata": {},
   "outputs": [],
   "source": [
    "### 5️. Writing and Modifying a Binary File Using bytearray\n",
    "Scenario: Modifying a binary file (e.g., changing metadata)."
   ]
  },
  {
   "cell_type": "code",
   "execution_count": 13,
   "id": "90fe8973-8c51-45be-ba2d-3ae52a8e5aa6",
   "metadata": {},
   "outputs": [],
   "source": [
    "# Writing binary data to a file\n",
    "with open(\"sample.bin\", \"wb\") as file:\n",
    "    file.write(b'\\x01\\x02\\x03\\x04\\x05\\x06\\x07\\x08\\x09\\x0A')  # 10 bytes of data\n",
    "\n",
    "with open(\"sample.bin\", \"rb\") as file:\n",
    "    data = bytearray(file.read())  # Read file as mutable bytearray\n",
    "\n",
    "data[0] = 0xFF  # Modify the first byte\n",
    "\n",
    "with open(\"sample_modified.bin\", \"wb\") as file:\n",
    "    file.write(data)  # Save the modified binary file\n"
   ]
  },
  {
   "cell_type": "code",
   "execution_count": 14,
   "id": "fa6071d1-dfa4-4e07-b3ad-6954442058e9",
   "metadata": {},
   "outputs": [
    {
     "name": "stdout",
     "output_type": "stream",
     "text": [
      "sample.bin: 01 02 03 04 05 06 07 08 09 0A\n",
      "sample_modified.bin: FF 02 03 04 05 06 07 08 09 0A\n"
     ]
    }
   ],
   "source": [
    "# Function to read and print binary file as hex\n",
    "def print_binary_file(filename):\n",
    "    with open(filename, \"rb\") as file:\n",
    "        data = file.read()\n",
    "        print(f\"{filename}: {' '.join(f'{byte:02X}' for byte in data)}\")\n",
    "\n",
    "print_binary_file(\"sample.bin\")\n",
    "print_binary_file(\"sample_modified.bin\")"
   ]
  },
  {
   "cell_type": "code",
   "execution_count": null,
   "id": "d66db3e1-5e7e-4b58-a7c7-4766d2f92845",
   "metadata": {},
   "outputs": [],
   "source": []
  }
 ],
 "metadata": {
  "kernelspec": {
   "display_name": "Python 3 (ipykernel)",
   "language": "python",
   "name": "python3"
  },
  "language_info": {
   "codemirror_mode": {
    "name": "ipython",
    "version": 3
   },
   "file_extension": ".py",
   "mimetype": "text/x-python",
   "name": "python",
   "nbconvert_exporter": "python",
   "pygments_lexer": "ipython3",
   "version": "3.11.2"
  }
 },
 "nbformat": 4,
 "nbformat_minor": 5
}
