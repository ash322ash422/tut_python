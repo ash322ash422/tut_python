{
 "cells": [
  {
   "cell_type": "markdown",
   "id": "d42fed27-2540-47d1-b144-8ddc6650e58f",
   "metadata": {},
   "source": [
    "# For Loop \n",
    "Allow you to perform repetitive tasks\n",
    "\n",
    "```\n",
    "for variable in iterable:\n",
    "    # block of code\n",
    "```\n",
    "\n",
    " - range, list comprehension, nested for\n",
    " - practice question"
   ]
  },
  {
   "cell_type": "code",
   "execution_count": 1,
   "id": "de9d4088-3424-4b40-b27f-b8521a329737",
   "metadata": {},
   "outputs": [
    {
     "name": "stdout",
     "output_type": "stream",
     "text": [
      "hello\n",
      "hello\n",
      "hello\n",
      "hello\n",
      "hello\n",
      "hello\n",
      "hello\n",
      "hello\n"
     ]
    }
   ],
   "source": [
    "# step1: suppose we want to print hello 4 times:\n",
    "print(\"hello\")\n",
    "print(\"hello\")\n",
    "print(\"hello\")\n",
    "print(\"hello\")\n",
    "\n",
    "#######################\n",
    "\n",
    "# step2: Or I can print using for loop\n",
    "for i in [0,1,2,3]: \n",
    "    print(\"hello\")"
   ]
  },
  {
   "cell_type": "code",
   "execution_count": null,
   "id": "1518cbca-0181-4c16-938f-b6360303155e",
   "metadata": {},
   "outputs": [
    {
     "name": "stdout",
     "output_type": "stream",
     "text": [
      "hello\n",
      "I am trapped in for loop\n",
      "Whats going on?\n",
      "hello\n",
      "I am trapped in for loop\n",
      "Whats going on?\n",
      "hello\n",
      "I am trapped in for loop\n",
      "Whats going on?\n",
      "hello\n",
      "I am trapped in for loop\n",
      "Whats going on?\n",
      "###############\n",
      "hello\n",
      "I am trapped in for loop\n",
      "hello\n",
      "I am trapped in for loop\n",
      "hello\n",
      "I am trapped in for loop\n",
      "hello\n",
      "I am trapped in for loop\n",
      "Whats going on?\n"
     ]
    }
   ],
   "source": [
    "# where does the for loop ends: thats decided by indentation\n",
    "# STEP1: \n",
    "for i in [0,1,2,3]:\n",
    "    print(\"hello\")\n",
    "    print(\"I am trapped in for loop\") \n",
    "    print(\"Finished\")\n",
    "\n",
    "print(\"###############\")\n",
    "\n",
    "# STEP2: Move last stmt out of for loop\n",
    "for i in [0,1,2,3]:\n",
    "    print(\"hello\")\n",
    "    print(\"I am trapped in for loop\") \n",
    "print(\"Finished\")\n",
    "\n"
   ]
  },
  {
   "cell_type": "code",
   "execution_count": 1,
   "id": "20d82859",
   "metadata": {},
   "outputs": [
    {
     "name": "stdout",
     "output_type": "stream",
     "text": [
      "0\n",
      "1\n",
      "2\n",
      "3\n",
      "###############\n",
      "0:hello\n",
      "I am trapped in for loop\n",
      "1:hello\n",
      "I am trapped in for loop\n",
      "2:hello\n",
      "I am trapped in for loop\n",
      "3:hello\n",
      "I am trapped in for loop\n",
      "Finished\n",
      "0 * 2 = 0 \n",
      "I am trapped in for loop\n",
      "1 * 2 = 2 \n",
      "I am trapped in for loop\n",
      "2 * 2 = 4 \n",
      "I am trapped in for loop\n",
      "3 * 2 = 6 \n",
      "I am trapped in for loop\n",
      "Finished\n"
     ]
    }
   ],
   "source": [
    "\n",
    "# What is this variable iterator i? Lets print this\n",
    "# STEP1: \n",
    "for i in [0,1,2,3]: \n",
    "    print(i) # here I am accessing iterator i\n",
    "\n",
    "print(\"###############\")\n",
    "\n",
    "# STEP2: Lets print a number in front of each line\n",
    "for i in [0,1,2,3]:\n",
    "    print(f\"{i}:hello\")\n",
    "    print(\"I am trapped in for loop\") \n",
    "print(\"Finished\")\n",
    "\n",
    "\n",
    "# STEP3: lets perform some math on elements: multiply all elements by 2\n",
    "for i in [0,1,2,3]:\n",
    "    res = i * 2\n",
    "    print(f\"{i} * 2 = {res} \")\n",
    "    print(\"I am trapped in for loop\") \n",
    "print(\"Finished\")\n",
    "\n"
   ]
  },
  {
   "cell_type": "code",
   "execution_count": null,
   "id": "6bf3db47",
   "metadata": {},
   "outputs": [
    {
     "name": "stdout",
     "output_type": "stream",
     "text": [
      "mango\n",
      "kiwi\n",
      "cherry\n",
      "jackfruit\n",
      "#########################\n",
      "I love mango\n",
      "I love kiwi\n",
      "I love cherry\n",
      "I love jackfruit\n"
     ]
    }
   ],
   "source": [
    "#1) prints all elements of a list with each element on a newline\n",
    "fruits = [\"mango\", \"kiwi\", \"cherry\", \"jackfruit\"]\n",
    "for i in fruits:\n",
    "    print(i)\n",
    "    \n",
    "\n",
    "print(\"#########################\")\n",
    "\n",
    "#2) prints all elements of a list with meaningful message with each fruit\n",
    "fruits = [\"mango\", \"kiwi\", \"cherry\", \"jackfruit\"]\n",
    "for e in fruits:\n",
    "    print(f\"I love {e}\")"
   ]
  },
  {
   "cell_type": "code",
   "execution_count": null,
   "id": "164613b8",
   "metadata": {},
   "outputs": [
    {
     "name": "stdout",
     "output_type": "stream",
     "text": [
      "<class 'int'>\n",
      "<class 'float'>\n",
      "<class 'bool'>\n",
      "<class 'str'>\n",
      "###########################\n",
      "<class 'int'>\n",
      "<class 'float'>\n",
      "<class 'bool'>\n",
      "<class 'str'>\n",
      "######I am out of for loop############\n",
      "###########################\n",
      "The iterator i is 4 and its type is <class 'int'>\n",
      "The iterator i is 5.98 and its type is <class 'float'>\n",
      "The iterator i is True and its type is <class 'bool'>\n",
      "The iterator i is ad astra and its type is <class 'str'>\n"
     ]
    }
   ],
   "source": [
    "# APPLICATIONS:\n",
    "# step1: I want to see the data type of all elements in a list\n",
    "l = [4, 5.98, True, \"ad astra\", ] # list with assorted element\n",
    "\n",
    "#method1\n",
    "print(type(l[0]))\n",
    "print(type(l[1]))\n",
    "print(type(l[2]))\n",
    "print(type(l[3]))\n",
    "print(\"###########################\")\n",
    "\n",
    "# step2: I can redo above using for loop\n",
    "for i in l:\n",
    "    print(type(i))\n",
    "    \n",
    "print(\"FINISHED\")\n",
    "\n",
    "print(\"###########################\")\n",
    "# step3: I want to redo above with a meaningful output\n",
    "for i in l:\n",
    "    print(f\"The iterator i is {i} and its type is {type(i)}\") # here I am printing element and its data type\n"
   ]
  },
  {
   "cell_type": "markdown",
   "id": "466aa290",
   "metadata": {},
   "source": [
    "# Range\n",
    "### generally used with for loop"
   ]
  },
  {
   "cell_type": "code",
   "execution_count": null,
   "id": "1f337507-ff95-4970-84db-c36ad69a48c3",
   "metadata": {},
   "outputs": [
    {
     "name": "stdout",
     "output_type": "stream",
     "text": [
      "hello\n",
      "I am trapped in for loop\n",
      "hello\n",
      "I am trapped in for loop\n",
      "hello\n",
      "I am trapped in for loop\n",
      "hello\n",
      "I am trapped in for loop\n",
      "Whats going on?\n"
     ]
    }
   ],
   "source": [
    "# Now comes range: It helps to iterate many many times..say 100\n",
    "# range(start, stop, step): Generates a sequence from start up to (but not including) stop, incrementing by step.\n",
    "# default step=1\n",
    "\n",
    "for i in range(0,4): # here start=0, stop=4\n",
    "    print(f\"{i} hello\") # here I am accessing iterator i\n",
    "    print(\"I am trapped in for loop\") \n",
    "    \n",
    "print(\"finished\")\n",
    "\n",
    "#################################\n",
    "# Lets perform some math on elements: multiply all elements by 2\n",
    "for i in [0,1,2,3]:\n",
    "    res = i * 2\n",
    "    print(f\"{i} * 2 = {res} \")\n",
    "    print(\"I am trapped in for loop\") \n",
    "print(\"Finished\")\n",
    "\n",
    "##################################\n",
    "# lets add the step in range: 0,4,8,12\n",
    "for i in range(0,16,4): # start=0, stop=16, step=4\n",
    "    print(f\"The i value is {i}\")"
   ]
  },
  {
   "cell_type": "code",
   "execution_count": null,
   "id": "83658d8b-bff1-448c-8ef0-962cc48dc97c",
   "metadata": {},
   "outputs": [
    {
     "name": "stdout",
     "output_type": "stream",
     "text": [
      "100,103,106,109,112,115,118,121,124,127,130,133,136,139,142,145,148,"
     ]
    }
   ],
   "source": [
    "\n"
   ]
  },
  {
   "cell_type": "code",
   "execution_count": null,
   "id": "3c4faaed-a501-4c23-a9a8-6e995bebb977",
   "metadata": {},
   "outputs": [
    {
     "name": "stdout",
     "output_type": "stream",
     "text": [
      "[0, 1, 2, 3, 4, 5, 6]\n",
      "[0, 1, 2, 3, 4, 5, 6]\n",
      "################\n"
     ]
    }
   ],
   "source": [
    "# APPLICATION of range:\n",
    "\n",
    "# APPLICATION: I want number: 100,103,106,109,112,115,118,121,124,127,130,133,136,139,142,145,148,\n",
    "for i in range(100,150,3): # start=100, stop=150, step=3\n",
    "    # print(f\"The i value is {i}\")\n",
    "    print(i, end=\",\")\n",
    "\n",
    "# l = [100,103,106,109,112,115,118,121,124,127,130,133,136,139,142,145,148,]\n",
    "# print(l)\n",
    "print(\"###################################\")\n",
    "\n",
    "\n",
    "#I want to create a list of numbers from 0 to 6\n",
    "l2 = list(range(0,7)) \n",
    "print(l2)\n",
    "print(\"################\")\n",
    "\n",
    "# Aside: I want to create a list of numbers like 5, 10, 15, 20, 25, 30, 35, 40, 45\n",
    "# l = list(range(5,46,5))\n",
    "# print(l)\n",
    "# print(\"################\")\n",
    "\n",
    "\n",
    "# l = list(range(0,4))\n",
    "# for i in l:\n",
    "#     print(\"Hello.\", end=\" \")\n",
    "#     print(\"How are you ?\", end= \" \")\n",
    "#     print(\"...sita\")\n",
    "    \n",
    "# print(\"I have exited the loop\")"
   ]
  },
  {
   "cell_type": "code",
   "execution_count": 2,
   "id": "062158cb-a0f3-412f-9566-478694ffd0ff",
   "metadata": {},
   "outputs": [
    {
     "name": "stdout",
     "output_type": "stream",
     "text": [
      "Square of 3 is: 9\n",
      "Square of 5 is: 25\n",
      "Square of 4 is: 16\n",
      "Square of 10 is: 100\n",
      "Square of 7 is: 49\n",
      "##################\n",
      "Square of 3 is: 9\n",
      "Square of 5 is: 25\n",
      "Square of 4 is: 16\n",
      "Square of 10 is: 100\n",
      "Square of 7 is: 49\n"
     ]
    }
   ],
   "source": [
    "# APPLICATION:\n",
    "# lets print the square of following numbers\n",
    "numbers = [3, 5, 4, 10, 7]\n",
    "\n",
    "# method1\n",
    "for i in numbers: \n",
    "    result = i ** 2 # ** exponent operator\n",
    "    print(f\"Square of {i} is: {result}\")\n",
    "print(\"##################\")\n",
    "\n",
    "# method2: remove the temporary variable\n",
    "for i in numbers: \n",
    "    print(f\"Square of {i} is: {i**2}\") \n"
   ]
  },
  {
   "cell_type": "markdown",
   "id": "b47e65cd-5bc9-490f-9a27-d276256a19ea",
   "metadata": {},
   "source": [
    "### for loop application"
   ]
  },
  {
   "cell_type": "code",
   "execution_count": 3,
   "id": "b02351bb-9c73-4423-a455-d3bde8d3894e",
   "metadata": {},
   "outputs": [
    {
     "name": "stdout",
     "output_type": "stream",
     "text": [
      "The initial result: []\n",
      "8\n",
      "18\n",
      "6\n",
      "-14\n",
      "10\n",
      "The final result: 10\n",
      "The initial result: []\n",
      "[8]\n",
      "[8, 18]\n",
      "[8, 18, 6]\n",
      "[8, 18, 6, -14]\n",
      "[8, 18, 6, -14, 10]\n",
      "The final result: [8, 18, 6, -14, 10]\n"
     ]
    }
   ],
   "source": [
    "#  Create a list of numbers that are scaled by factor 2\n",
    "numbers = [4, 9, 3, -7, 5]\n",
    "\n",
    "#STEP1: First lets just print the multiples of 2\n",
    "# for n in numbers:\n",
    "#     res = n*2\n",
    "#     print(res)\n",
    "\n",
    "#STEP2: Now capture above values and store in an empty list\n",
    "result = []\n",
    "print(f\"The initial result: {result}\")\n",
    "for n in numbers:\n",
    "    res = n*2\n",
    "    result.append(res)\n",
    "    print(res)\n",
    "\n",
    "print(f\"The final result: {res}\")\n",
    "\n",
    "#STEP3: optimize...do not use extra variable scaled_n\n",
    "result = []\n",
    "print(f\"The initial result: {result}\")\n",
    "for n in numbers:\n",
    "    result.append(n*2)\n",
    "    print(result)\n",
    "\n",
    "print(f\"The final result: {result}\")\n",
    "\n",
    "##############################################################\n",
    "\n"
   ]
  },
  {
   "cell_type": "code",
   "execution_count": 11,
   "id": "24aa3403-4a3c-427a-9c20-8e7fa35429d3",
   "metadata": {},
   "outputs": [
    {
     "name": "stdout",
     "output_type": "stream",
     "text": [
      "Original salary:[10000, 30000, 60000, 70000, 23000, 42000]\n",
      "[12000.0, 36000.0, 72000.0, 84000.0, 27600.0, 50400.0]\n",
      "#########################\n",
      "[12000.0, 36000.0, 60000, 70000, 27600.0, 42000]\n",
      "#########################\n",
      "[12000.0, 36000.0, 66000.0, 77000.0, 27600.0, 46200.0]\n",
      "#########################\n"
     ]
    }
   ],
   "source": [
    "#APPLICATION: \n",
    "# problem1: lets give employees 20% hike all salaries\n",
    "salary  = [10000, 30000, 60000, 70000, 23000, 42000]\n",
    "print(f\"Original salary:{salary}\")\n",
    "\n",
    "new_salary = []\n",
    "for s in salary:\n",
    "    hiked_s = s * .2 + s\n",
    "    new_salary.append(hiked_s)\n",
    "\n",
    "print(new_salary)\n",
    "print(\"#########################\")\n",
    "\n",
    "# problem2: lets give employees 20% hike for salary <= 30000\n",
    "salary  = [10000, 30000, 60000, 70000, 23000, 42000]\n",
    "\n",
    "new_salary = []\n",
    "for s in salary:\n",
    "    if s <= 30000:\n",
    "        hiked_s = s * .2 + s\n",
    "        new_salary.append(hiked_s)\n",
    "    else:\n",
    "        new_salary.append(s)\n",
    "\n",
    "print(new_salary)\n",
    "print(\"#########################\")\n",
    "\n",
    "# problem3: lets give employees 20% hike for salary <= 30000 and 10% hike for all others\n",
    "salary  = [10000, 30000, 60000, 70000, 23000, 42000]\n",
    "\n",
    "new_salary = []\n",
    "for s in salary:\n",
    "    if s <= 30000:\n",
    "        hiked_s = s * .2 + s\n",
    "        new_salary.append(hiked_s)\n",
    "    else:\n",
    "        hiked_s = s * .1 + s\n",
    "        new_salary.append(hiked_s)\n",
    "\n",
    "print(new_salary)\n",
    "print(\"#########################\")\n"
   ]
  },
  {
   "cell_type": "code",
   "execution_count": null,
   "id": "9233b52c-9c21-4e61-b33f-305c4f49f69f",
   "metadata": {},
   "outputs": [
    {
     "name": "stdout",
     "output_type": "stream",
     "text": [
      "The sum is 10\n",
      "The sum is 125250\n",
      "##############\n",
      "0\n",
      "..4\n",
      "4\n",
      "..10\n",
      "10\n",
      "..18\n",
      "18\n",
      "..28\n",
      "The sum is 28\n",
      "The sum is 1000998\n",
      "##############\n",
      "The sum is 16\n",
      "The sum is 2601\n",
      "##############\n"
     ]
    }
   ],
   "source": [
    "# APPLICATION\n",
    "\n",
    "# Lets add numbers from 1 to 500\n",
    "# STEP1: start with small range:  Lets add numbers from 1 to 4 \n",
    "sum = 0\n",
    "for i in range(1, 5): # start with 1\n",
    "    # print(f\"before: {sum}\")\n",
    "    sum = sum + i\n",
    "    # print(f\"after: {sum}\")\n",
    "    \n",
    "print(f\"The sum is {sum}\")\n",
    "\n",
    "# STEP2: scale it up Lets add numbers from 1 to 500\n",
    "sum = 0\n",
    "for i in range(1, 501): # start with 1\n",
    "    sum = sum + i\n",
    "    \n",
    "print(f\"The sum is {sum}\")\n",
    "\n",
    "print(\"##############\")\n",
    "\n",
    "# lets add even numbers: 4 + 6 + 8 + 10 + ..2000\n",
    "\n",
    "# STEP1: start with small range: lets add even numbers: 4 + 6 + 8 + 10\n",
    "sum = 0\n",
    "for i in range(4, 11, 2): # start=4, stop=11, step size = 2\n",
    "    print(f\"{sum}\")\n",
    "    sum = sum + i\n",
    "    print(f\"..{sum}\")\n",
    "print(f\"The sum is {sum}\")\n",
    "\n",
    "# STEP2: scale it up.lets add even numbers: 4 + 6 + 8 + 10 + ..2000\n",
    "sum = 0\n",
    "for i in range(4, 2001, 2): # start=4, stop=11, step size = 2\n",
    "    sum = sum + i\n",
    "    \n",
    "print(f\"The sum is {sum}\")\n",
    "\n",
    "\n",
    "print(\"##############\")\n",
    "\n",
    "# lets add odd numbers: 1 + 3 + 5 + 7 + 101\n",
    "# STEP1: start small: 1 + 3 + 5 + 7\n",
    "sum = 0\n",
    "for i in range(1, 8, 2): # start with 1, step size = 2\n",
    "    sum = sum + i\n",
    "print(f\"The sum is {sum}\")\n",
    "\n",
    "# STEP2: scale it up 1 + 3 + 5 + 7 + .. + 101\n",
    "sum = 0\n",
    "for i in range(1, 102, 2): # start with 1, step size = 2\n",
    "    sum = sum + i\n",
    "print(f\"The sum is {sum}\")\n",
    "print(\"##############\")"
   ]
  },
  {
   "cell_type": "markdown",
   "id": "1d330e7e-58eb-4bb4-853f-c330f744acfb",
   "metadata": {},
   "source": [
    "# for + break \n",
    "- **break**: immediately exits the loop even if some iterations are left\n"
   ]
  },
  {
   "cell_type": "code",
   "execution_count": null,
   "id": "d050f00f-fd4c-4e47-b8b6-879fecffaeb4",
   "metadata": {},
   "outputs": [
    {
     "name": "stdout",
     "output_type": "stream",
     "text": [
      "checking 5\n",
      "checking 23\n",
      "checking 8\n",
      "checking 43\n",
      "checking 7\n",
      "Found target! Exiting the for loop\n",
      "Loop finished\n",
      "#####################\n",
      "checking 5...\n",
      "checking 23...\n",
      "checking 8...\n",
      "checking 43...\n",
      "checking 7...\n",
      "checking 3...\n",
      "checking 65...\n",
      "checking 16...\n",
      "checking 3...\n",
      "checking 14...\n",
      "Not found 70\n"
     ]
    }
   ],
   "source": [
    "# for + break:\n",
    "\n",
    "# 1) exit the loop after finding 7 in a list of numbers\n",
    "numbers = [5, 23, 8, 43, 7, 3, 65, 16, 3, 14]\n",
    "\n",
    "for i in numbers:\n",
    "    print(f\"checking {i}\")\n",
    "    if i == 7:\n",
    "        print(f\"Found target! Exiting the for loop\")\n",
    "        break # NOTE: comment it out to see what happens without it\n",
    "print(\"Loop finished\")\n",
    "print(\"#####################\")      "
   ]
  },
  {
   "cell_type": "code",
   "execution_count": null,
   "id": "1fdcab33",
   "metadata": {},
   "outputs": [],
   "source": [
    "# APPLICATION: for+break: search for a number in a list:\n",
    "numbers = [5, 23, 8, 43, 7, 3, 65, 16, 3, 14]\n",
    "\n",
    "target = 70\n",
    "is_found = False\n",
    "\n",
    "for i in numbers:\n",
    "    print(f\"checking {i}...\")\n",
    "    if i == target:\n",
    "        is_found = True\n",
    "        print(f\"Found {target}! Exiting the for loop\")\n",
    "        break # NOTE: comment it out to see what happens without it\n",
    "\n",
    "if not is_found:\n",
    "    print(f\"Not found {target}\")\n"
   ]
  },
  {
   "cell_type": "markdown",
   "id": "77bc3fbb-403b-489d-8cb4-02afbfd0ed0d",
   "metadata": {},
   "source": [
    "# for + continue\n",
    "- **continue**: skip the rest of the current loop iteration and move to the next iteration"
   ]
  },
  {
   "cell_type": "code",
   "execution_count": null,
   "id": "4bbfc1aa-2618-4421-83f0-edcee0ec903f",
   "metadata": {},
   "outputs": [
    {
     "name": "stdout",
     "output_type": "stream",
     "text": [
      "number: 5\n",
      "number: 23\n",
      "number: 8\n",
      "number: 43\n",
      "number: 7\n",
      "number: 3\n",
      "skipping number 65\n",
      "number: 16\n",
      "number: 3\n",
      "number: 14\n",
      "Loop finished\n",
      "#####################\n",
      "number: 10\n",
      "number: 28\n",
      "number: 13\n",
      "number: 48\n",
      "number: 12\n",
      "number: 8\n",
      "skipping number 65\n",
      "number: 21\n",
      "number: 8\n",
      "number: 19\n",
      "Loop finished\n"
     ]
    }
   ],
   "source": [
    "# 1) exit the loop after finding 7 in a list of numbers\n",
    "numbers = [5, 23, 8, 43, 7, 3, 65, 16, 3, 14]\n",
    "\n",
    "for i in numbers:\n",
    "    if i == 65:\n",
    "        print(f\"skipping number {i}\")\n",
    "        continue # NOTE: comment it out to see what happens without it\n",
    "    print(f\"number: {i}\")\n",
    "        \n",
    "print(\"Loop finished\")\n",
    "print(\"#####################\")      "
   ]
  },
  {
   "cell_type": "code",
   "execution_count": null,
   "id": "8096e8b7",
   "metadata": {},
   "outputs": [],
   "source": [
    "# APPLICATYION: for + contiue Add 5 to all numbers except when number=65\n",
    "numbers = [5, 23, 8, 43, 7, 3, 65, 16, 3, 14]\n",
    "\n",
    "for i in numbers:\n",
    "    if i == 65:\n",
    "        print(f\"skipping number {i}\")\n",
    "        continue # NOTE: comment it out to see what happens without it\n",
    "    print(f\"number: {i+5}\")\n",
    "        \n",
    "print(\"Loop finished\")\n"
   ]
  },
  {
   "cell_type": "markdown",
   "id": "af503c06-2e2b-46fa-9f69-5110b2fb8f42",
   "metadata": {},
   "source": [
    "# for + continue + break"
   ]
  },
  {
   "cell_type": "code",
   "execution_count": 15,
   "id": "f46b8e35-2e5f-4c80-a326-8d5695e95b41",
   "metadata": {},
   "outputs": [
    {
     "name": "stdout",
     "output_type": "stream",
     "text": [
      "The first even number greater than 10 is 16\n",
      "search finished\n"
     ]
    }
   ],
   "source": [
    "# find first even numbers that is greater than 10\n",
    "numbers = [5, 23, 8, 43, 7, 3, 65, 16, 3, 14]\n",
    "\n",
    "for i in numbers:\n",
    "    if i < 10:\n",
    "        #skip numbers < 10\n",
    "        continue\n",
    "\n",
    "    if i%2 == 0:\n",
    "        print(f\"The first even number greater than 10 is {i}\")\n",
    "        break\n",
    "        \n",
    "        \n",
    "print(\"search finished\")\n"
   ]
  },
  {
   "cell_type": "markdown",
   "id": "684097b4-852a-45b3-abe6-a06966c8152c",
   "metadata": {},
   "source": [
    "### list Comprehension"
   ]
  },
  {
   "cell_type": "code",
   "execution_count": 16,
   "id": "f051e5c0-9603-4b61-b59d-e31045d7764e",
   "metadata": {},
   "outputs": [
    {
     "name": "stdout",
     "output_type": "stream",
     "text": [
      "numbers: [1, 2, 3, 4, 5, 6, 7, 8, 9, 10]\n",
      "####\n",
      "numbers: [1, 2, 3, 4, 5, 6, 7, 8, 9, 10]\n",
      "#######################################\n",
      "[8, 2, 10, 16, 14]\n",
      "####\n",
      "[8, 2, 10, 16, 14]\n",
      "#######################################\n",
      "times3: [3, 6, 9, 12, 15, 18, 21, 24, 27, 30]\n",
      "squares: [16, 25, 36, 49, 64, 81, 100]\n"
     ]
    }
   ],
   "source": [
    "# 1. Basic List Comprehension\n",
    "\n",
    "#step1: create a list of 10 numbers using range: NOTE print(range(1,11)) is not going to work\n",
    "result = []\n",
    "for n in range(1,11):\n",
    "    result.append(n)\n",
    "\n",
    "print(f\"numbers: {result}\")\n",
    "print(\"####\")\n",
    "\n",
    "#step2: Lets redo above using list Comprehension\n",
    "result = [n for n in range(1, 11)]\n",
    "print(f\"numbers: {result}\")\n",
    "print(\"#######################################\")\n",
    "\n",
    "\n",
    "#step1: Lets print a scaled numbers by factor 2 w/o list compr.\n",
    "numbers = [4, 1, 5, 8, 7]\n",
    "\n",
    "result = []\n",
    "for n in numbers:\n",
    "    result.append(n*2)\n",
    "\n",
    "print(result)\n",
    "print(\"####\")\n",
    "\n",
    "#step2: Lets redo above using list Comprehension\n",
    "numbers = [4, 1, 5, 8, 7]\n",
    "result = [n*2 for n in numbers]  # Multiply each element by 2\n",
    "print(result)  \n",
    "print(\"#######################################\")\n",
    "\n",
    "\n",
    "# Create a list of \"times 3\" from 1 to 10 using list comprehension\n",
    "times3 = [n*3 for n in range(1, 11)]\n",
    "print(f\"times3: {times3}\")\n",
    "\n",
    "# Create a list of squares from 4 to 10.\n",
    "squares = [n**2 for n in range(4, 11)]\n",
    "print(f\"squares: {squares}\")"
   ]
  },
  {
   "cell_type": "code",
   "execution_count": null,
   "id": "cd1f4b60-8ce9-4b03-a64f-478e6361c07a",
   "metadata": {},
   "outputs": [
    {
     "name": "stdout",
     "output_type": "stream",
     "text": [
      "numbers: [1, 2, 3, 4, 5, 6, 7, 8, 9, 10]\n",
      "evens:   [2, 4, 6, 8, 10]\n",
      "n_times_3:   [3, 6, 9]\n",
      "[15, 30, 45, 60, 75, 90]\n",
      "[3, 5, 6, 9, 10, 12, 15, 18, 20, 21, 24, 25, 27, 30, 33, 35, 36, 39, 40, 42, 45, 48, 50, 51, 54, 55, 57, 60, 63, 65, 66, 69, 70, 72, 75, 78, 80, 81, 84, 85, 87, 90, 93, 95, 96, 99, 100]\n"
     ]
    }
   ],
   "source": [
    "# SKIP: ADVANCED\n",
    "# 2. List Comprehension with Condition...here we print all even numbers\n",
    "\n",
    "# EXAMPLE1: Get even numbers from 1 to 10.\n",
    "\n",
    "# STEP1: create list of all numbers\n",
    "numbers   = [n for n in range(1, 11)]\n",
    "print(f\"numbers: {numbers}\")\n",
    "\n",
    "# STEP2: filter out numbers based on if condition\n",
    "evens     = [n for n in range(1, 11) if n % 2 == 0]\n",
    "print(f\"evens:   {evens}\")\n",
    "\n",
    "#########################################\n",
    "\n",
    "# EXAMPLE2: get me a list of numbers multiple of 3\n",
    "n_times_3 = [n for n in range(1, 11) if n % 3 == 0]\n",
    "print(f\"n_times_3:   {n_times_3}\")\n",
    "\n",
    "\n",
    "# list of multiple of 3 and 5 : 15, 30, 45, etc all the way upto 100\n",
    "list_3_and_5 = [n for n in range(1,101) if n%3 == 0 and n%5 == 0]\n",
    "print(list_3_and_5)\n",
    "\n",
    "\n",
    "# list of multiple of 3 or 5 : 3,5,6,9,10,12,... all the way upto 100\n",
    "list_3_or_5 = [n for n in range(1,101) if n%3 == 0 or n%5 == 0]\n",
    "print(list_3_or_5)\n"
   ]
  },
  {
   "cell_type": "code",
   "execution_count": 18,
   "id": "aa414ba4-130a-4950-9d88-3dc28d306e3b",
   "metadata": {},
   "outputs": [
    {
     "name": "stdout",
     "output_type": "stream",
     "text": [
      "numbers: [3, 2, 8, 9, 11, 5, 2, 8, 10]\n",
      "['Odd', 'Even', 'Even', 'Odd', 'Odd', 'Odd', 'Even', 'Even', 'Even']\n"
     ]
    }
   ],
   "source": [
    "# 3. List Comprehension with if-else...here we print even or odd\n",
    "numbers = [3, 2, 8, 9, 11, 5, 2, 8, 10]\n",
    "print(f\"numbers: {numbers}\")\n",
    "\n",
    "labels = [\"Even\" if n%2 == 0 else \"Odd\" for n in numbers]\n",
    "# labels = [\"Even\" for n in numbers if n % 2 == 0 else \"Odd\"] # does not work\n",
    "\n",
    "print(labels)\n"
   ]
  },
  {
   "cell_type": "markdown",
   "id": "eb7f518e-ea22-48dc-8e1d-c6303ef0de85",
   "metadata": {},
   "source": [
    "## for application "
   ]
  },
  {
   "cell_type": "code",
   "execution_count": null,
   "id": "47d6c9f9-b253-47c7-b0ae-65df7836868d",
   "metadata": {},
   "outputs": [
    {
     "name": "stdout",
     "output_type": "stream",
     "text": [
      "Pyramid with 8 rows:\n",
      "       *\n",
      "      ***\n",
      "     *****\n",
      "    *******\n",
      "   *********\n",
      "  ***********\n",
      " *************\n",
      "***************\n"
     ]
    }
   ],
   "source": [
    "# APPLICATION: Real-World Example: Extract Vowels from a String in order they appear.\n",
    "sentence = \"It is snowing in  mountains. This is awesome\"\n",
    "vowels = [c for c in sentence if c.lower() in 'aeiou']\n",
    "print(vowels)\n",
    "\n",
    "\n",
    "############################################################\n",
    "# Prints a pyramid shape with a specified number of rows.\n",
    "\n",
    "rows = 8 # 4 , 5, 6\n",
    "print(f\"Pyramid with {rows} rows:\")\n",
    "for i in range(rows):\n",
    "    # Calculate the number of spaces before the asterisks\n",
    "    spaces = rows - 1 - i\n",
    "\n",
    "    # Calculate the number of asterisks in the current row\n",
    "    num_asterisks = 2 * i + 1\n",
    "\n",
    "    # Print the spaces and then the asterisks\n",
    "    print(\" \" * spaces + \"*\" * num_asterisks)\n"
   ]
  },
  {
   "cell_type": "code",
   "execution_count": null,
   "id": "c332d5c7-8580-4d44-b817-3820692d6e7d",
   "metadata": {},
   "outputs": [
    {
     "name": "stdout",
     "output_type": "stream",
     "text": [
      "\n",
      "Inverted Pyramid with 3 rows:\n",
      "*****\n",
      " ***\n",
      "  *\n"
     ]
    }
   ],
   "source": [
    "# APPLICATION\n",
    "# Prints an inverted pyramid shape with a specified number of rows.\n",
    "\n",
    "rows = 3\n",
    "print(f\"\\nInverted Pyramid with {rows} rows:\") \n",
    "for i in range(rows):\n",
    "    # Calculate the number of spaces before the asterisks\n",
    "    spaces = i\n",
    "    \n",
    "    # Calculate the number of asterisks in the current row\n",
    "    asterisks = 2 * (rows - 1 - i) + 1\n",
    "    \n",
    "    # Print the spaces and then the asterisks\n",
    "    print(\" \" * spaces + \"*\" * asterisks)\n"
   ]
  },
  {
   "cell_type": "code",
   "execution_count": null,
   "id": "0de265a2-29fc-4597-9132-d5b07737687c",
   "metadata": {},
   "outputs": [
    {
     "name": "stdout",
     "output_type": "stream",
     "text": [
      "Diamond with 4 top rows:\n",
      "   *\n",
      "  ***\n",
      " *****\n",
      "*******\n",
      " *****\n",
      "  ***\n",
      "   *\n"
     ]
    }
   ],
   "source": [
    "# APPLICATION\n",
    "# Prints a diamond shape with out nested for loop\n",
    "\n",
    "# rows (int): The number of rows in the top half of the diamond.\n",
    "#                 The total height will be 2 * rows - 1.\n",
    "rows = 4\n",
    "print(f\"Diamond with {rows} top rows:\")\n",
    "# Top half of the diamond\n",
    "for i in range(rows):\n",
    "    spaces = rows - 1 - i\n",
    "    asterisks = 2 * i + 1\n",
    "    print(\" \" * spaces + \"*\" * asterisks)\n",
    "\n",
    "# Bottom half of the diamond\n",
    "for i in range(rows - 2, -1, -1):\n",
    "    spaces = rows - 1 - i\n",
    "    asterisks = 2 * i + 1\n",
    "    print(\" \" * spaces + \"*\" * asterisks)"
   ]
  },
  {
   "cell_type": "markdown",
   "id": "e65d566e-da55-4c6b-839e-b0c8b3dededd",
   "metadata": {},
   "source": [
    "## Nested \"for inside for\""
   ]
  },
  {
   "cell_type": "code",
   "execution_count": 4,
   "id": "7863f0d2-47c2-44f3-8caf-519ca6e0a83f",
   "metadata": {},
   "outputs": [
    {
     "name": "stdout",
     "output_type": "stream",
     "text": [
      "start outer\n",
      "outer is 0\n",
      "end outer\n",
      "\n",
      "start outer\n",
      "outer is 1\n",
      "end outer\n",
      "\n",
      "start outer\n",
      "outer is 2\n",
      "end outer\n",
      "\n",
      "start outer\n",
      "outer is 3\n",
      "end outer\n",
      "\n",
      "##########\n",
      "start outer\n",
      "outer is 0\n",
      "...inner is 0\n",
      "...inner is 1\n",
      "...inner is 2\n",
      "end outer\n",
      "\n",
      "start outer\n",
      "outer is 1\n",
      "...inner is 0\n",
      "...inner is 1\n",
      "...inner is 2\n",
      "end outer\n",
      "\n",
      "start outer\n",
      "outer is 2\n",
      "...inner is 0\n",
      "...inner is 1\n",
      "...inner is 2\n",
      "end outer\n",
      "\n",
      "start outer\n",
      "outer is 3\n",
      "...inner is 0\n",
      "...inner is 1\n",
      "...inner is 2\n",
      "end outer\n",
      "\n"
     ]
    }
   ],
   "source": [
    "# work backward...start with outer for loop and start adding inside for statement to see whats happening.\n",
    "#step1\n",
    "for outer in range(4): # Outer loop: iterates three times (0, 1, 2, 3)\n",
    "    print(\"start outer\")\n",
    "    print(f\"outer is {outer}\")\n",
    "    print(\"end outer\\n\")\n",
    "print(\"##########\")\n",
    "\n",
    "# step2\n",
    "for outer in range(4): # Outer loop: iterates three times (0, 1, 2, 3)\n",
    "    print(\"start outer\")\n",
    "    print(f\"outer is {outer}\")\n",
    "    for inner in range(3): # Inner loop: iterates two times (0, 1, 2) inside\n",
    "        print(f\"...inner is {inner}\")\n",
    "    print(\"end outer\\n\")"
   ]
  },
  {
   "cell_type": "code",
   "execution_count": 24,
   "id": "38a8b15d-b860-48fb-ac51-0256cc51356b",
   "metadata": {},
   "outputs": [
    {
     "name": "stdout",
     "output_type": "stream",
     "text": [
      "outer: 0, inner: 0\n",
      "outer: 0, inner: 1\n",
      "outer: 0, inner: 2\n",
      "next\n",
      "\n",
      "outer: 1, inner: 0\n",
      "outer: 1, inner: 1\n",
      "outer: 1, inner: 2\n",
      "next\n",
      "\n",
      "outer: 2, inner: 0\n",
      "outer: 2, inner: 1\n",
      "outer: 2, inner: 2\n",
      "next\n",
      "\n",
      "outer: 3, inner: 0\n",
      "outer: 3, inner: 1\n",
      "outer: 3, inner: 2\n",
      "next\n",
      "\n",
      "DONE\n"
     ]
    }
   ],
   "source": [
    "# I wanted to see what following loop is going to print.. and analyse this.\n",
    "for outer in range(4): # Outer loop: iterates three times (0, 1, 2, 3)\n",
    "    for inner in range(3): # Inner loop: iterates two times (0, 1, 2) for each i\n",
    "        print(f\"outer: {outer}, inner: {inner}\")\n",
    "    print(\"next\\n\")\n",
    "\n",
    "print(\"DONE\")"
   ]
  },
  {
   "cell_type": "code",
   "execution_count": 25,
   "id": "e7dd69b8-d2db-405b-89ed-505a3d9a3e39",
   "metadata": {},
   "outputs": [
    {
     "name": "stdout",
     "output_type": "stream",
     "text": [
      "0 x 0 = 0\n",
      "0 x 1 = 0\n",
      "0 x 2 = 0\n",
      "next\n",
      "\n",
      "1 x 0 = 0\n",
      "1 x 1 = 1\n",
      "1 x 2 = 2\n",
      "next\n",
      "\n",
      "2 x 0 = 0\n",
      "2 x 1 = 2\n",
      "2 x 2 = 4\n",
      "next\n",
      "\n",
      "3 x 0 = 0\n",
      "3 x 1 = 3\n",
      "3 x 2 = 6\n",
      "next\n",
      "\n",
      "####################\n",
      "1 x 0 = 0\n",
      "1 x 1 = 1\n",
      "1 x 2 = 2\n",
      "\n",
      "2 x 0 = 0\n",
      "2 x 1 = 2\n",
      "2 x 2 = 4\n",
      "\n",
      "3 x 0 = 0\n",
      "3 x 1 = 3\n",
      "3 x 2 = 6\n",
      "\n",
      "4 x 0 = 0\n",
      "4 x 1 = 4\n",
      "4 x 2 = 8\n",
      "\n",
      "####################\n",
      "1 x 1 = 1\n",
      "1 x 2 = 2\n",
      "1 x 3 = 3\n",
      "\n",
      "2 x 1 = 2\n",
      "2 x 2 = 4\n",
      "2 x 3 = 6\n",
      "\n",
      "3 x 1 = 3\n",
      "3 x 2 = 6\n",
      "3 x 3 = 9\n",
      "\n",
      "4 x 1 = 4\n",
      "4 x 2 = 8\n",
      "4 x 3 = 12\n",
      "\n",
      "####################\n",
      "1 x 1 = 1\n",
      "1 x 2 = 2\n",
      "1 x 3 = 3\n",
      "\n",
      "2 x 1 = 2\n",
      "2 x 2 = 4\n",
      "2 x 3 = 6\n",
      "\n",
      "3 x 1 = 3\n",
      "3 x 2 = 6\n",
      "3 x 3 = 9\n",
      "\n",
      "4 x 1 = 4\n",
      "4 x 2 = 8\n",
      "4 x 3 = 12\n",
      "\n",
      "####################\n"
     ]
    }
   ],
   "source": [
    "# What can I do with this ? Answer: Print multiplication table...start small\n",
    "\n",
    "# STEP1: trial and error1: This is does not work\n",
    "for i in range(4): # Outer loop: iterates three times (0, 1, 2, 3)\n",
    "    for j in range(3): # Inner loop: iterates two times (0, 1, 2) for each i\n",
    "        result = i * j\n",
    "        print(f\"{i} x {j} = {result}\")\n",
    "    print(\"next\\n\")\n",
    "print(\"####################\")\n",
    "\n",
    "\n",
    "# STEP2: trial and error2: This is does not work\n",
    "for i in range(1, 5): # CHANGED  \n",
    "    for j in range(3):\n",
    "        result = i * j\n",
    "        print(f\"{i} x {j} = {result}\")  \n",
    "    print()  # Print a blank line after each table\n",
    "print(\"####################\")\n",
    "\n",
    "# STEP3: trial and error3: SUCCESS\n",
    "for i in range(1, 5):  \n",
    "    for j in range(1, 4):# CHANGED  \n",
    "        result = i * j\n",
    "        print(f\"{i} x {j} = {result}\")  \n",
    "    print()  # Print a blank line after each table\n",
    "print(\"####################\")\n",
    "\n",
    "\n",
    "# STEP4: trial and error3: OPTIMIZE\n",
    "for i in range(1, 5):  \n",
    "    for j in range(1, 4): \n",
    "        print(f\"{i} x {j} = {i*j}\")  # REMOVED variable result\n",
    "    print()  # Print a blank line after each table\n",
    "print(\"####################\")\n",
    "\n"
   ]
  },
  {
   "cell_type": "code",
   "execution_count": 26,
   "id": "f668f608-64a0-4305-809e-7d9181fc20fc",
   "metadata": {},
   "outputs": [
    {
     "name": "stdout",
     "output_type": "stream",
     "text": [
      "1 + 1 = 2\n",
      "1 + 2 = 3\n",
      "1 + 3 = 4\n",
      "\n",
      "2 + 1 = 3\n",
      "2 + 2 = 4\n",
      "2 + 3 = 5\n",
      "\n",
      "3 + 1 = 4\n",
      "3 + 2 = 5\n",
      "3 + 3 = 6\n",
      "\n",
      "4 + 1 = 5\n",
      "4 + 2 = 6\n",
      "4 + 3 = 7\n",
      "\n"
     ]
    }
   ],
   "source": [
    "# OPTIONAL: lets do some addition with nested for loop\n",
    "for i in range(1, 5):  \n",
    "    for j in range(1, 4):\n",
    "        result = i + j\n",
    "        print(f\"{i} + {j} = {result}\")  \n",
    "    print()  # Print a blank line after each table"
   ]
  },
  {
   "cell_type": "code",
   "execution_count": null,
   "id": "d9888897-aa17-4059-a336-218b6e023883",
   "metadata": {},
   "outputs": [
    {
     "name": "stdout",
     "output_type": "stream",
     "text": [
      "* \n",
      "* * \n",
      "* * * \n",
      "* * * * \n",
      "##########\n",
      "\n",
      "Mirrored Left-Angled Triangle with 4 rows:\n",
      "* \n",
      "* * \n",
      "* * * \n",
      "* * * * \n"
     ]
    }
   ],
   "source": [
    "#APPLICATION for inside for: Prints a mirrored left-angled triangle.\n",
    "\n",
    "print(\"*\", end=\" \")\n",
    "print()\n",
    "\n",
    "print(\"*\", end=\" \")\n",
    "print(\"*\", end=\" \")\n",
    "print()\n",
    "\n",
    "print(\"*\", end=\" \")\n",
    "print(\"*\", end=\" \")\n",
    "print(\"*\", end=\" \")\n",
    "print()\n",
    "\n",
    "print(\"*\", end=\" \")\n",
    "print(\"*\", end=\" \")\n",
    "print(\"*\", end=\" \")\n",
    "print(\"*\", end=\" \")\n",
    "print()\n",
    "print(\"##########\")\n",
    "\n",
    "# redo above using \"for inside for\" loop\n",
    "rows = 4\n",
    "print(f\"\\nMirrored Left-Angled Triangle with {rows} rows:\")\n",
    "# outer loop\n",
    "for i in range(1, rows + 1):\n",
    "    for j in range(1, i + 1): # inner loop\n",
    "        print(\"*\", end=\" \")\n",
    "    print('')\n"
   ]
  },
  {
   "cell_type": "markdown",
   "id": "b80b7a2b-219b-4218-affa-a182f1cb2f30",
   "metadata": {},
   "source": [
    "## (OPTIONAL): practice \"for with if\""
   ]
  },
  {
   "cell_type": "code",
   "execution_count": 28,
   "id": "4ba3ac57-7448-49d8-bf8a-71272103d5f6",
   "metadata": {},
   "outputs": [
    {
     "name": "stdout",
     "output_type": "stream",
     "text": [
      "Total number of a is: 3\n",
      "################\n",
      "Total number of vowels: 15\n",
      "################\n",
      "Found keywords: ['human', 'dwelt']\n"
     ]
    }
   ],
   "source": [
    "# count number of char a in sentence\n",
    "name = \"saturn to mars to earth\"\n",
    "\n",
    "count = 0\n",
    "for char in name:\n",
    "    if char == 'a':  # Check if the character is 'a'\n",
    "        count += 1   # Increment the count if it is 'a'\n",
    "\n",
    "print('Total number of a is:', count)\n",
    "\n",
    "print(\"################\")\n",
    "# count the number of vowels in a given sentence.\n",
    "# Lets change the sentence = \"The quick brown fox jumps over the lazy dog\"\n",
    "sentence = \"The slow white fox could not jump over the little dog\"\n",
    "count = 0\n",
    "vowels = \"aeiouAEIOU\"\n",
    "\n",
    "for char in sentence:\n",
    "    if char in vowels:  # Check if the character is a vowel\n",
    "        count += 1\n",
    "\n",
    "print(\"Total number of vowels:\",count)\n",
    "\n",
    "print(\"################\")\n",
    "# check if certain words are present in a given text.\n",
    "# copy and paste poem from  https://en.wikipedia.org/wiki/Lucy_Gray\n",
    "text = \"\"\"\n",
    "LUCY GRAY\n",
    "\n",
    "Oft I had heard of Lucy Gray,\n",
    "And, when I crossed the Wild,\n",
    "I chanced to see at break of day\n",
    "The solitary Child.\n",
    "\n",
    "No mate, no comrade Lucy knew;\n",
    "She dwelt on a wide Moor,\n",
    "-The sweetest Thing that ever grew\n",
    "Beside a human door!\n",
    "\n",
    "\"\"\"\n",
    "keywords = [\"human\", \"dwelt\", \"bank\", \"Jupyter\"]\n",
    "found_keywords = []\n",
    "\n",
    "for k in keywords:\n",
    "    if k in text:  # Check if the word  k is in the text\n",
    "        found_keywords.append(k)\n",
    "\n",
    "print(\"Found keywords:\", found_keywords)"
   ]
  },
  {
   "cell_type": "markdown",
   "id": "1d674661-b2b9-47c6-97d7-b5ed5ad48430",
   "metadata": {},
   "source": [
    "## while\n",
    "\n",
    "```\n",
    "while [boolean_expression]:\n",
    "    stmt1\n",
    "    stmt2\n",
    "    .\n",
    "    .\n",
    "    stmtn\n",
    "```\n",
    "\n",
    "**NOTE: In for loop we are encoding the iterator value**"
   ]
  },
  {
   "cell_type": "code",
   "execution_count": 1,
   "id": "f34e87b3-f2ca-48b4-8a72-b290f736e4fa",
   "metadata": {},
   "outputs": [
    {
     "name": "stdout",
     "output_type": "stream",
     "text": [
      "1\n",
      "2\n",
      "3\n",
      "4\n",
      "5\n",
      "#################\n"
     ]
    }
   ],
   "source": [
    "# 1. Basic while Loop\n",
    "\n",
    "# print 1 2 3 4 5 on each newline\n",
    "i = 1\n",
    "while i <= 5:\n",
    "    print(i)\n",
    "    i += 1  # Increment i\n",
    "print(\"#################\")\n"
   ]
  },
  {
   "cell_type": "code",
   "execution_count": 30,
   "id": "3b215707-d0eb-43de-a690-5684cf0eb88d",
   "metadata": {},
   "outputs": [
    {
     "name": "stdout",
     "output_type": "stream",
     "text": [
      "2\n",
      "4\n",
      "6\n",
      "8\n",
      "10\n",
      "Done\n",
      "##############\n",
      "2\n",
      "4\n",
      "6\n",
      "8\n",
      "10\n",
      "Done\n",
      "##############\n",
      "2\n",
      "4\n",
      "6\n",
      "8\n",
      "10\n",
      "Done\n",
      "##############\n"
     ]
    }
   ],
   "source": [
    "# Print only even numbers: 2 4 6 8 10\n",
    "\n",
    "#style1\n",
    "num = 2\n",
    "while num <= 10:\n",
    "    print(num)\n",
    "    num += 2\n",
    "print(\"Done\")\n",
    "print(\"##############\")\n",
    "\n",
    "#style2\n",
    "num = 0\n",
    "while num < 10:\n",
    "    num += 1\n",
    "    if num % 2 == 0:  # Check if the number is even\n",
    "        print(num)    \n",
    "print(\"Done\")\n",
    "print(\"##############\")\n",
    "\n",
    "#style3\n",
    "num = 0\n",
    "while num < 10:\n",
    "    num += 1\n",
    "    if num % 2 != 0:\n",
    "        continue  # Skip odd numbers\n",
    "    print(num)\n",
    "print(\"Done\")\n",
    "print(\"##############\")\n"
   ]
  },
  {
   "cell_type": "code",
   "execution_count": null,
   "id": "449d7b07-ca50-4fd0-a3a2-b2fcb7b19191",
   "metadata": {},
   "outputs": [
    {
     "name": "stdout",
     "output_type": "stream",
     "text": [
      "You entered: 1\n"
     ]
    }
   ],
   "source": [
    "# 2. while Loop with User Input\n",
    "num = int(input(\"Enter a number (0 to stop): \"))\n",
    "while num != 0:\n",
    "    print(f\"You entered: {num}\")\n",
    "    num = int(input(\"Enter a number (0 to stop): \"))\n",
    "\n",
    "print(\"Loop ended.\")"
   ]
  },
  {
   "cell_type": "code",
   "execution_count": 2,
   "id": "ade7ccac-c251-4cf4-80bb-d4751a6cb359",
   "metadata": {},
   "outputs": [
    {
     "name": "stdout",
     "output_type": "stream",
     "text": [
      "1\n",
      "2\n",
      "3\n",
      "Stopping at 4\n",
      "##############\n"
     ]
    }
   ],
   "source": [
    "# 3. Using break in a while Loop to exit the loop\n",
    "\n",
    "# print 1 2 3 on each newline\n",
    "i = 1\n",
    "while i <= 6:\n",
    "    if i == 4:\n",
    "        print(\"Stopping at 4\")\n",
    "        break  # Exit the loop\n",
    "    print(i)\n",
    "    i += 1\n",
    "print(\"##############\")"
   ]
  },
  {
   "cell_type": "code",
   "execution_count": null,
   "id": "67140b6a-0aa9-4ece-986f-2f1cf13b1285",
   "metadata": {},
   "outputs": [
    {
     "name": "stdout",
     "output_type": "stream",
     "text": [
      "1\n",
      "2\n",
      "4\n",
      "5\n",
      "DONE#############\n",
      "1\n",
      "2\n",
      "5\n"
     ]
    }
   ],
   "source": [
    "# APPLICATIONS: Using continue in a while Loop to skip certain iteration\n",
    "\n",
    "# print 1 2 4 5 on each newline...skips 3\n",
    "i = 0\n",
    "while i < 5:\n",
    "    i += 1\n",
    "    if i == 3:\n",
    "        continue  # Skip iteration when i == 3\n",
    "    print(i)\n",
    "print(\"DONE#############\")\n",
    "\n",
    "# print 1 2 5 on each newline...skips 3,4\n",
    "i = 0\n",
    "while i < 5:\n",
    "    i += 1\n",
    "    if i == 3 or i == 4:\n",
    "        continue  # Skip iteration when i == 3\n",
    "    print(i)\n"
   ]
  },
  {
   "cell_type": "code",
   "execution_count": null,
   "id": "ac4aa14e-04b9-4f3b-9efa-499560324909",
   "metadata": {},
   "outputs": [],
   "source": [
    "# 5. Infinite Loop (Press Ctrl+C to Stop) DANGEROUS\n",
    "\n",
    "#infinite loop\n",
    "# i = 1\n",
    "# while i>0:\n",
    "#     print(\"hello\")\n",
    "#     i += 2\n",
    "    \n",
    "\n",
    "\n",
    "# while True:\n",
    "#     print(\"This is an infinite loop. Press Ctrl+C to stop.\")\n"
   ]
  },
  {
   "cell_type": "markdown",
   "id": "947b03ea-984c-4581-a578-57153b7ab6a6",
   "metadata": {},
   "source": [
    "## Real world application\n",
    "ATM Withdrawal Simulation\n",
    "\n",
    "This example simulates an ATM where a user can withdraw money until their balance runs out or they exit."
   ]
  },
  {
   "cell_type": "code",
   "execution_count": null,
   "id": "d13b8d85-2ceb-4edd-9b2b-3e5143c2507a",
   "metadata": {},
   "outputs": [
    {
     "name": "stdout",
     "output_type": "stream",
     "text": [
      "\n",
      "ATM Machine\n",
      "1. Check Balance\n",
      "2. Withdraw Money\n",
      "3. Exit\n"
     ]
    },
    {
     "name": "stdout",
     "output_type": "stream",
     "text": [
      "Enter your choice (1-3):  1\n"
     ]
    },
    {
     "name": "stdout",
     "output_type": "stream",
     "text": [
      "Your current balance is: $1000\n",
      "\n",
      "ATM Machine\n",
      "1. Check Balance\n",
      "2. Withdraw Money\n",
      "3. Exit\n"
     ]
    },
    {
     "name": "stdout",
     "output_type": "stream",
     "text": [
      "Enter your choice (1-3):  2\n",
      "Enter amount to withdraw:  200\n"
     ]
    },
    {
     "name": "stdout",
     "output_type": "stream",
     "text": [
      "Withdrawal successful! New balance: $800.0\n",
      "\n",
      "ATM Machine\n",
      "1. Check Balance\n",
      "2. Withdraw Money\n",
      "3. Exit\n"
     ]
    },
    {
     "name": "stdout",
     "output_type": "stream",
     "text": [
      "Enter your choice (1-3):  3\n"
     ]
    },
    {
     "name": "stdout",
     "output_type": "stream",
     "text": [
      "Thank you for using the ATM. Goodbye!\n"
     ]
    }
   ],
   "source": [
    "balance = 1000  # Initial account balance\n",
    "\n",
    "while True:\n",
    "    print(\"\\nATM Machine\")\n",
    "    print(\"1. Check Balance\")\n",
    "    print(\"2. Withdraw Money\")\n",
    "    print(\"3. Exit\")\n",
    "    \n",
    "    choice = input(\"Enter your choice (1-3): \")\n",
    "    \n",
    "    if choice == \"1\":\n",
    "        print(f\"Your current balance is: ${balance}\")\n",
    "    \n",
    "    elif choice == \"2\":\n",
    "        amount = float(input(\"Enter amount to withdraw: \"))\n",
    "        \n",
    "        if amount > balance:\n",
    "            print(\"Insufficient funds! Try a smaller amount.\")\n",
    "        else:\n",
    "            # balance = balance - amount\n",
    "            balance -= amount\n",
    "            print(f\"Withdrawal successful! New balance: ${balance}\")\n",
    "    \n",
    "    elif choice == \"3\":\n",
    "        print(\"Thank you for using the ATM. Goodbye!\")\n",
    "        break  # Exit the loop\n",
    "    \n",
    "    else:\n",
    "        print(\"Invalid choice! Please enter 1, 2, or 3.\")\n"
   ]
  },
  {
   "cell_type": "markdown",
   "id": "31f8bccc-003f-4067-bf7d-afb6690e73bc",
   "metadata": {},
   "source": [
    "## more applications of \"for, if, break, continue\" "
   ]
  },
  {
   "cell_type": "code",
   "execution_count": null,
   "id": "4a01fd51-852e-4ff0-bc5f-fa76a3982b9a",
   "metadata": {},
   "outputs": [
    {
     "name": "stdout",
     "output_type": "stream",
     "text": [
      "210 231 252 273 294 315 336 357 378 399 \n",
      "I am out of 'for' life\n",
      "###############\n",
      "210 315 "
     ]
    }
   ],
   "source": [
    "# find all numbers between 200 and 400 that are divisible by 3 \"and\" 7\n",
    "for num in range(200, 401):\n",
    "    if num % 3 == 0 and num % 7 == 0:\n",
    "        print(num, end = \" \")\n",
    "print(\"\\nI am out of 'for' life\")\n",
    "\n",
    "print(\"###############\")\n",
    "# find all numbers between 200 and 400 that are divisible by 3 \"and\" 5 \"and\" 7 \n",
    "for num in range(200, 401):\n",
    "    if num % 3 == 0 and num % 5 == 0 and num % 7 == 0:\n",
    "        print(num, end = \" \")"
   ]
  },
  {
   "cell_type": "code",
   "execution_count": null,
   "id": "c3a8e370-0013-4960-896f-f508cfefa78d",
   "metadata": {},
   "outputs": [
    {
     "name": "stdout",
     "output_type": "stream",
     "text": [
      "201 203 204 207 210 213 216 217 219 222 224 225 228 231 234 237 238 240 243 245 246 249 252 255 258 259 261 264 266 267 270 273 276 279 280 282 285 287 288 291 294 297 300 301 303 306 308 309 312 315 318 321 322 324 327 329 330 333 336 339 342 343 345 348 350 351 354 357 360 363 364 366 369 371 372 375 378 381 384 385 387 390 392 393 396 399 "
     ]
    }
   ],
   "source": [
    "# find all numbers between 200 and 400 that are divisible by 3 \"or\" 7\n",
    "for num in range(200, 401):\n",
    "    if num % 3 == 0 or num % 7 == 0:\n",
    "        print(num, end = \" \")"
   ]
  },
  {
   "cell_type": "code",
   "execution_count": null,
   "id": "787d20ce-527e-4a04-85c8-9e7dabad3d6f",
   "metadata": {},
   "outputs": [
    {
     "name": "stdout",
     "output_type": "stream",
     "text": [
      "[210, 231, 252, 273, 294, 315, 336, 357, 378, 399]\n",
      "##############\n",
      "[210, 231, 252, 273, 294, 315, 336, 357, 378, 399]\n"
     ]
    }
   ],
   "source": [
    "# find all numbers between 200 and 400 that are divisible by 3 and 7, and save them in  a list\n",
    "\n",
    "#style1\n",
    "result = []\n",
    "for num in range(200, 401):\n",
    "    if num % 3 == 0 and num % 7 == 0:\n",
    "        result.append(num)\n",
    "print(result)\n",
    "print(\"##############\")\n",
    "\n",
    "#style2\n",
    "result = [num for num in range(200, 401) if num % 3 == 0 and num % 7 == 0]\n",
    "print(result)\n"
   ]
  },
  {
   "cell_type": "code",
   "execution_count": null,
   "id": "0e1cedd5-88ea-4634-aad8-de9bbca7e7f1",
   "metadata": {},
   "outputs": [
    {
     "name": "stdout",
     "output_type": "stream",
     "text": [
      "OMG: Somebody help me. Mr Else has trapped me in the loop 1\n",
      "OMG: Somebody help me. Mr Else has trapped me in the loop 4\n",
      "OMG: Somebody help me. Mr Else has trapped me in the loop 7\n",
      "OMG: Somebody help me. Mr Else has trapped me in the loop 8\n",
      "OMG: Somebody help me. Mr Else has trapped me in the loop 15\n",
      "Good bye. I am breaking out of the loop. Thanks Mr If\n"
     ]
    }
   ],
   "source": [
    "numbers = [1, 4, 7, 8, 15, 20, 35, 45, 55]\n",
    "for i in numbers:\n",
    "    if i > 15:\n",
    "        # break the loop\n",
    "        print(\"Good bye. I am breaking out of the loop. Thanks Mr If\")\n",
    "        break\n",
    "    else:\n",
    "        print(f\"OMG: Somebody help me. Mr Else has trapped me in the loop {i}\")"
   ]
  },
  {
   "cell_type": "code",
   "execution_count": null,
   "id": "464c11c9-b3ac-4808-b4b2-0fdb974f8eab",
   "metadata": {},
   "outputs": [
    {
     "name": "stdout",
     "output_type": "stream",
     "text": [
      "Total number of a is: 2\n",
      "####################\n",
      "Total number of s is: 10\n"
     ]
    }
   ],
   "source": [
    "# count number of chars in sentence\n",
    "name = \"saturn to mars\"\n",
    "count = 0\n",
    "for char in name:\n",
    "    if char != 'a':\n",
    "        continue\n",
    "    else:\n",
    "        count = count + 1\n",
    "\n",
    "print('Total number of a is:', count)\n",
    "print(\"####################\")\n",
    "\n",
    "\n",
    "name = \"The universe is a vast, poetic canvas of stars and silence, where every atom whispers the story of creation. \"\n",
    "count = 0\n",
    "for char in name:\n",
    "    if char != 's':\n",
    "        continue\n",
    "    else:\n",
    "        count = count + 1\n",
    "\n",
    "print(f'Total number of s is: {count}')"
   ]
  },
  {
   "cell_type": "code",
   "execution_count": null,
   "id": "b32e3ebf-af33-4134-afd2-e9c958ace23e",
   "metadata": {},
   "outputs": [],
   "source": []
  }
 ],
 "metadata": {
  "kernelspec": {
   "display_name": "Python 3",
   "language": "python",
   "name": "python3"
  },
  "language_info": {
   "codemirror_mode": {
    "name": "ipython",
    "version": 3
   },
   "file_extension": ".py",
   "mimetype": "text/x-python",
   "name": "python",
   "nbconvert_exporter": "python",
   "pygments_lexer": "ipython3",
   "version": "3.11.2"
  }
 },
 "nbformat": 4,
 "nbformat_minor": 5
}
