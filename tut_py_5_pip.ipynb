{
 "cells": [
  {
   "cell_type": "markdown",
   "id": "81fdba8a-8a24-4868-8191-4aae7eb0a623",
   "metadata": {},
   "source": [
    "## What is pip in Python?\n",
    "pip (Package Installer for Python) is a command-line utility that allows you to install, upgrade, and manage Python packages and libraries from the Python Package Index (PyPI).\n",
    "\n",
    "### Why Do We Need pip?\n",
    "- Easily install third-party libraries (e.g., numpy, pandas, requests).\n",
    "- Manages dependencies – automatically installs required packages.\n",
    "- Keeps packages up-to-date with simple commands.\n",
    "- Works in virtual environments to avoid conflicts between projects.\n",
    "\n",
    "### Common pip Commands on command line\n",
    "**pip install package_name**\t: Installs a package from PyPI\n",
    "\n",
    "**pip install package_name==1.2.3**\t:Installs a specific version of a package\n",
    "\n",
    "**pip list**\t:Shows all installed packages\n",
    "\n",
    "**pip show package_name**\t:Displays details about a package\n",
    "\n",
    "**pip uninstall package_name**\t:Removes a package\n",
    "\n",
    "**pip freeze > requirements.txt**\t:Saves installed packages to a file\n",
    "\n",
    "**pip install -r requirements.txt**\t:Installs packages from a file\n",
    "\n",
    "**pip install --upgrade package_name**\t:Upgrades a package to the latest version"
   ]
  },
  {
   "cell_type": "code",
   "execution_count": 1,
   "id": "aad40cdb-9094-4afe-938a-81b02a31280a",
   "metadata": {},
   "outputs": [
    {
     "name": "stdout",
     "output_type": "stream",
     "text": [
      "200\n"
     ]
    }
   ],
   "source": [
    "# First run : pip install requests\n",
    "import requests\n",
    "\n",
    "response = requests.get(\"https://api.github.com\")\n",
    "print(response.status_code)  # Output: 200"
   ]
  },
  {
   "cell_type": "markdown",
   "id": "95f8d7eb-e272-4265-980f-732a5f0d9b9e",
   "metadata": {},
   "source": [
    "## Using pip in a Virtual Environment\n",
    "To avoid package conflicts, use virtual environments.\n",
    "\n",
    "### 1. Create a virtual environment\n",
    "**python -m venv myenv**\n",
    "\n",
    "### 2. Activate it:\n",
    "- Windows: **myenv\\Scripts\\activate**\n",
    "- Mac/Linux: **source myenv/bin/activate"
   ]
  },
  {
   "cell_type": "markdown",
   "id": "d877495a-421b-45d8-bedc-e3284f0c06dd",
   "metadata": {},
   "source": [
    "\n"
   ]
  }
 ],
 "metadata": {
  "kernelspec": {
   "display_name": "Python 3 (ipykernel)",
   "language": "python",
   "name": "python3"
  },
  "language_info": {
   "codemirror_mode": {
    "name": "ipython",
    "version": 3
   },
   "file_extension": ".py",
   "mimetype": "text/x-python",
   "name": "python",
   "nbconvert_exporter": "python",
   "pygments_lexer": "ipython3",
   "version": "3.11.2"
  }
 },
 "nbformat": 4,
 "nbformat_minor": 5
}
