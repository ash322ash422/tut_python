{
 "cells": [
  {
   "cell_type": "markdown",
   "id": "848850d6-28a3-4ee5-84f5-726fac2d2da5",
   "metadata": {},
   "source": [
    "## Sequence: 3 main types\n",
    "**str** → String: e.g.: s = \"Hello\"\n",
    "\n",
    "**list** → Ordered, mutable: e.g.:  l = [1, 2, 3]\n",
    "\n",
    "**tuple** → Ordered, immutable: e.g.: t = (1, 2, 3)\n",
    "\n",
    "### 1. String (str) Operations\n",
    "A string is an **immutable** sequence of characters."
   ]
  },
  {
   "cell_type": "code",
   "execution_count": 3,
   "id": "ef232980-ec92-45bf-b9c6-fc3af4c1b45e",
   "metadata": {},
   "outputs": [
    {
     "name": "stdout",
     "output_type": "stream",
     "text": [
      "ython \n",
      "Python is e\n",
      "Python is easy to learn and is fun!\n",
      "Python is easy to learnPython is easy to learnPython is easy to learn\n",
      "True\n",
      "False\n",
      "44444444444444444444444444444\n",
      "\n",
      "26\n",
      "  python is cool language \n",
      "  PYTHON IS COOL LANGUAGE \n",
      "  mython is CoOL language \n",
      "2\n",
      "3\n",
      "python is CoOL language \n",
      "  python is CoOL language\n",
      "python is CoOL language\n",
      "Python is cool language. hope you have fun.\n",
      "Python Is Cool Language. Hope You Have Fun.\n",
      "5555555555555555555555555555555\n",
      "\n",
      "['today', ' is a good day', ' to learn something new.']\n",
      "['2025-08-23', 'ash', '34,000', '34.78']\n"
     ]
    }
   ],
   "source": [
    "# String declaration\n",
    "s = \"Python is easy to learn\" # or 'Python', str('Python'), str(90)\n",
    "\n",
    "# # Accessing elements: Indexing starts with 0 in python\n",
    "# print(s[0])   # 'P' (character at idx=0)\n",
    "# print(s[2])   # 't' (character at idx=2)\n",
    "# print(s[-1])  # 'n' (character at idx=-1, i.e. Last character)\n",
    "# print(s[-4])  # 'e' (character at idx=-4, i.e. 4th char from  end)\n",
    "# print(\"1111111111111111111111111111\\n\")\n",
    "\n",
    "# # Slicing : [start_position: end_position: step_size]. \n",
    "# # start_position by default is 0, end_position by default is last idx, step_size by default is 1\n",
    "print(s[1:7:1]) # 'ython '\n",
    "# print(s[1:7:2]) # 'yhn' (From index 1 to 6 with  step size 2) \n",
    "# print(s[1:4])  # 'yth' (From index 1 to 3)\n",
    "# print(s[1:13:3]) # 'yoie' (From index 1 to 4 to 7 to 11 with  step size 1) \n",
    "\n",
    "# print(s[:11])   # 'Python is e' (First 11 characters)\n",
    "# print(s[8:])   # 's easy to learn' (From index 8 to end)\n",
    "\n",
    "###OPTIONAL########\n",
    "# print(s[::-1]) # 'nrael ot ysae si nohtyP' (start from last idx and go backward)\n",
    "# print(s[-5:2:-1]) # 'l ot ysae si noh' (start from idx -5, 5th from last, go upto idx 2, with step size -1, backward)\n",
    "# print(s[-12:-5]) # 'asy to' (start from  idx -12 to idx -5,i.e. 12th from last to 5th last cahr)\n",
    "# print(\"22222222222222222222222222222\\n\")\n",
    "###################\n",
    "\n"
   ]
  },
  {
   "cell_type": "code",
   "execution_count": 1,
   "id": "f28b89b5-344e-4e68-a147-fea88a97bc60",
   "metadata": {},
   "outputs": [
    {
     "name": "stdout",
     "output_type": "stream",
     "text": [
      "Python is easy to learn and is fun!\n",
      "Python is easy to learnPython is easy to learnPython is easy to learn\n",
      "True\n",
      "False\n"
     ]
    }
   ],
   "source": [
    "# String concatenation\n",
    "s = \"Python is easy to learn\"\n",
    "new_s = s + \" and is fun!\"\n",
    "print(new_s)  \n",
    "\n",
    "\n",
    "# String repetition\n",
    "print(s * 3)  # repeat str s 3 times...concatenate s 3 times\n",
    "\n",
    "######################\n",
    "# Checking substring\n",
    "s = \"Python is easy to learn\"\n",
    "b = \"th\" in s \n",
    "print(b)  # True\n",
    "\n",
    "b = \"rain\" in s\n",
    "print(b)"
   ]
  },
  {
   "cell_type": "code",
   "execution_count": 4,
   "id": "bd7156b7-5bc0-4353-935f-6668d6b8bf23",
   "metadata": {},
   "outputs": [
    {
     "name": "stdout",
     "output_type": "stream",
     "text": [
      "26\n",
      "  python is cool language \n",
      "  PYTHON IS COOL LANGUAGE \n",
      "  mython is CoOL language \n",
      "2\n",
      "3\n",
      "python is CoOL language \n",
      "  python is CoOL language\n",
      "python is CoOL language\n",
      "Python is cool language. hope you have fun.\n",
      "Python Is Cool Language. Hope You Have Fun.\n",
      "5555555555555555555555555555555\n",
      "\n"
     ]
    }
   ],
   "source": [
    "# Lets explore some String methods\n",
    "s = \"  python is CoOL language \" \n",
    "print(len(s))\n",
    "print(s.lower())  \n",
    "print(s.upper())  \n",
    "print(s.replace(\"py\", \"my\"))  \n",
    "print(s.count('o'))\n",
    "print(s.lower().count('o')) # this is called chaining method. It counts all o regardless of upper/lower case.\n",
    "\n",
    "\n",
    "print(s.lstrip()) # Removes empty spaces from left\n",
    "print(s.rstrip()) # Removes empty spaces from right\n",
    "print(s.strip()) #Removes all empty spaces from left and right\n",
    "\n",
    "s = \"python is CoOL language. hope you have fun.\"\n",
    "print(s.capitalize())\n",
    "print(s.title())\n",
    "\n",
    "print(\"5555555555555555555555555555555\\n\")\n"
   ]
  },
  {
   "cell_type": "code",
   "execution_count": 5,
   "id": "577536a8-8ded-4592-b94b-1340dd78866c",
   "metadata": {},
   "outputs": [
    {
     "name": "stdout",
     "output_type": "stream",
     "text": [
      "['2025-08-23', 'ash', '34', '000', '34.78']\n",
      "['2025-08-23', 'ash', '34,000', '34.78']\n"
     ]
    }
   ],
   "source": [
    "# sometimes you have to split a data by delimiter/seperator\n",
    "\n",
    "# STEP1: split based on ,\n",
    "msg = \"2025-08-23,ash,34,000,34.78\"\n",
    "lst = msg.split(\",\")\n",
    "print(lst) # ['today', ' is a good day', ' to learn something new.']\n",
    "\n",
    "###################\n",
    "#STEP2: split based on ;\n",
    "msg = \"2025-08-23;ash;34,000;34.78\"\n",
    "lst = msg.split(\";\")\n",
    "print(lst) "
   ]
  },
  {
   "cell_type": "code",
   "execution_count": 2,
   "id": "8663b4ac-fb8b-4332-918e-209c193a246a",
   "metadata": {},
   "outputs": [
    {
     "ename": "TypeError",
     "evalue": "can only concatenate str (not \"int\") to str",
     "output_type": "error",
     "traceback": [
      "\u001b[1;31m---------------------------------------------------------------------------\u001b[0m",
      "\u001b[1;31mTypeError\u001b[0m                                 Traceback (most recent call last)",
      "Cell \u001b[1;32mIn[2], line 4\u001b[0m\n\u001b[0;32m      2\u001b[0m a \u001b[38;5;241m=\u001b[39m \u001b[38;5;124m\"\u001b[39m\u001b[38;5;124m7\u001b[39m\u001b[38;5;124m\"\u001b[39m\n\u001b[0;32m      3\u001b[0m b \u001b[38;5;241m=\u001b[39m \u001b[38;5;241m5\u001b[39m\n\u001b[1;32m----> 4\u001b[0m res \u001b[38;5;241m=\u001b[39m \u001b[43ma\u001b[49m\u001b[38;5;241;43m+\u001b[39;49m\u001b[43mb\u001b[49m\n\u001b[0;32m      5\u001b[0m \u001b[38;5;28mprint\u001b[39m(res)\n",
      "\u001b[1;31mTypeError\u001b[0m: can only concatenate str (not \"int\") to str"
     ]
    }
   ],
   "source": [
    "# You cannot add numeric types to string\n",
    "a = \"7\"\n",
    "b = 5\n",
    "res = a + b # ERROR\n",
    "print(res)"
   ]
  },
  {
   "cell_type": "code",
   "execution_count": 3,
   "id": "c0f9e48f-9a6b-49a2-905b-f2e0f1bb3f82",
   "metadata": {},
   "outputs": [
    {
     "name": "stdout",
     "output_type": "stream",
     "text": [
      "77777\n"
     ]
    }
   ],
   "source": [
    "# what about multiply ???\n",
    "# You can multiply numeric types to string: it gives string repetition\n",
    "a = \"7\"\n",
    "b = 5\n",
    "res = a * b\n",
    "print(res)"
   ]
  },
  {
   "cell_type": "code",
   "execution_count": 12,
   "id": "671174c5-5396-4fd5-86d9-f7df2b3a645c",
   "metadata": {},
   "outputs": [
    {
     "ename": "TypeError",
     "evalue": "'str' object does not support item assignment",
     "output_type": "error",
     "traceback": [
      "\u001b[1;31m---------------------------------------------------------------------------\u001b[0m",
      "\u001b[1;31mTypeError\u001b[0m                                 Traceback (most recent call last)",
      "Cell \u001b[1;32mIn[12], line 3\u001b[0m\n\u001b[0;32m      1\u001b[0m \u001b[38;5;66;03m# python  is immutable\u001b[39;00m\n\u001b[0;32m      2\u001b[0m s\u001b[38;5;241m=\u001b[39m\u001b[38;5;124m'\u001b[39m\u001b[38;5;124mRepublic\u001b[39m\u001b[38;5;124m'\u001b[39m\n\u001b[1;32m----> 3\u001b[0m s[\u001b[38;5;241m0\u001b[39m]\u001b[38;5;241m=\u001b[39m\u001b[38;5;124m'\u001b[39m\u001b[38;5;124mZ\u001b[39m\u001b[38;5;124m'\u001b[39m\n\u001b[0;32m      4\u001b[0m s\n",
      "\u001b[1;31mTypeError\u001b[0m: 'str' object does not support item assignment"
     ]
    }
   ],
   "source": [
    "# string  is immutable\n",
    "s = 'Republic'\n",
    "s[0] = 'Z'\n",
    "s # We get a error"
   ]
  },
  {
   "cell_type": "code",
   "execution_count": null,
   "id": "9df7bfb1-7f31-4fb9-8539-23f85bc51098",
   "metadata": {},
   "outputs": [],
   "source": []
  },
  {
   "cell_type": "code",
   "execution_count": null,
   "id": "62174e3f-32ff-4eaa-8654-80af0dd42e51",
   "metadata": {},
   "outputs": [],
   "source": []
  },
  {
   "cell_type": "code",
   "execution_count": null,
   "id": "f3a2c9bc-f31e-40fb-9427-03016cbc5fbd",
   "metadata": {},
   "outputs": [],
   "source": []
  },
  {
   "cell_type": "code",
   "execution_count": null,
   "id": "8a183160-7a12-4dd7-9425-d886698bef7c",
   "metadata": {},
   "outputs": [],
   "source": []
  },
  {
   "cell_type": "code",
   "execution_count": null,
   "id": "4fab3dbd-c19e-4321-877d-c362be637f50",
   "metadata": {},
   "outputs": [],
   "source": []
  }
 ],
 "metadata": {
  "kernelspec": {
   "display_name": "Python 3 (ipykernel)",
   "language": "python",
   "name": "python3"
  },
  "language_info": {
   "codemirror_mode": {
    "name": "ipython",
    "version": 3
   },
   "file_extension": ".py",
   "mimetype": "text/x-python",
   "name": "python",
   "nbconvert_exporter": "python",
   "pygments_lexer": "ipython3",
   "version": "3.9.9"
  }
 },
 "nbformat": 4,
 "nbformat_minor": 5
}
