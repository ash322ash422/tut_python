{
 "cells": [
  {
   "cell_type": "markdown",
   "id": "91880bc8-0ce5-46c6-82f9-b101aca68f11",
   "metadata": {},
   "source": [
    "## Python Regular Expressions (Regex) - A Teaching Guide\n",
    "Regular Expressions (Regex) in Python are patterns used to match, search, and manipulate text. Python provides the re module to work with regex."
   ]
  },
  {
   "cell_type": "code",
   "execution_count": 2,
   "id": "89a40995-bcd8-40c1-b6e5-17d0f4a68cca",
   "metadata": {},
   "outputs": [],
   "source": [
    "# 1️. Importing the re Module\n",
    "import re"
   ]
  },
  {
   "cell_type": "markdown",
   "id": "3849288a-6b65-41a7-8603-00a606a654a0",
   "metadata": {},
   "source": [
    "<img src=\"tut_py_8_regex.jpg\" width=\"600\" height=\"300\">"
   ]
  },
  {
   "cell_type": "code",
   "execution_count": 6,
   "id": "3de01363-90b4-43c8-9185-644241906a56",
   "metadata": {},
   "outputs": [
    {
     "name": "stdout",
     "output_type": "stream",
     "text": [
      "['2', '5']\n",
      "['R', 'o', 'o', 'm', ' ', '!']\n",
      "['H', 'e', 'l', 'l', 'o', '_', 'W', 'o', 'r', 'l', 'd', '1', '2', '3']\n",
      "['!', ' ']\n",
      "[' ', '\\t', ' ', '\\n']\n",
      "['H', 'e', 'l', 'l', 'o', 'W', 'o', 'r', 'l', 'd']\n",
      "<re.Match object; span=(0, 5), match='Hello'>\n",
      "<re.Match object; span=(6, 11), match='World'>\n",
      "['abc', 'adc', 'aac', 'axc']\n",
      "['b', 'ba', 'baa', 'baaa']\n",
      "['ba', 'baa', 'baaa']\n",
      "['color', 'colour']\n",
      "['123', '678', '101']\n",
      "['12', '123', '1234']\n",
      "['12', '123', '1234', '1234']\n",
      "['e', 'o', 'o']\n",
      "['h', 'l', 'l', ' ', 'w', 'r', 'l', 'd']\n"
     ]
    }
   ],
   "source": [
    "\n",
    "# 1. \\d - Any digit (0-9)\n",
    "print(re.findall(r\"\\d\", \"My age is 25\"))  # Output: ['2', '5']\n",
    "\n",
    "# 2. \\D - Non-digit characters\n",
    "print(re.findall(r\"\\D\", \"Room 101!\"))  # Output: ['R', 'o', 'o', 'm', ' ', '!']\n",
    "\n",
    "# 3. \\w - Word characters (letters, digits, underscore)\n",
    "print(re.findall(r\"\\w\", \"Hello_World! 123\"))  # Output: ['H', 'e', 'l', 'l', 'o', '_', 'W', 'o', 'r', 'l', 'd', '1', '2', '3']\n",
    "\n",
    "# 4. \\W - Non-word characters (symbols, spaces)\n",
    "print(re.findall(r\"\\W\", \"Hello_World! 123\"))  # Output: [' ', '!']\n",
    "\n",
    "# 5. \\s - Whitespace characters (space, tab, newline)\n",
    "print(re.findall(r\"\\s\", \"Hello World\\tNew Line\\n\"))  # Output: [' ', '\\t', '\\n']\n",
    "\n",
    "# 6. \\S - Non-whitespace characters\n",
    "print(re.findall(r\"\\S\", \"Hello World\"))  # Output: ['H', 'e', 'l', 'l', 'o', 'W', 'o', 'r', 'l', 'd']\n",
    "\n",
    "# 7. ^ - Matches the start of a string\n",
    "print(re.search(r\"^Hello\", \"Hello World\"))  # Output: Match object if found\n",
    "\n",
    "# 8. $ - Matches the end of a string\n",
    "print(re.search(r\"World$\", \"Hello World\"))  # Output: Match object if found\n",
    "\n",
    "# 9. . - Matches any character except newline\n",
    "print(re.findall(r\"a.c\", \"abc adc aac axc\"))  # Output: ['abc', 'adc', 'aac', 'axc']\n",
    "\n",
    "# 10. * - 0 or more occurrences\n",
    "print(re.findall(r\"ba*\", \"b ba baa baaa\"))  # Output: ['b', 'ba', 'baa', 'baaa']\n",
    "\n",
    "# 11. + - 1 or more occurrences\n",
    "print(re.findall(r\"ba+\", \"b ba baa baaa\"))  # Output: ['ba', 'baa', 'baaa']\n",
    "\n",
    "# 12. ? - 0 or 1 occurrence\n",
    "print(re.findall(r\"colou?r\", \"color colour colouur\"))  # Output: ['color', 'colour']\n",
    "\n",
    "# 13. {n} - Exactly n occurrences\n",
    "print(re.findall(r\"\\d{3}\", \"123 45 6789 101\"))  # Output: ['123', '678', '101']\n",
    "\n",
    "# 14. {n,} - At least n occurrences\n",
    "print(re.findall(r\"\\d{2,}\", \"1 12 123 1234\"))  # Output: ['12', '123', '1234']\n",
    "\n",
    "# 15. {n,m} - Between n and m occurrences\n",
    "print(re.findall(r\"\\d{2,4}\", \"1 12 123 1234 12345\"))  # Output: ['12', '123', '1234']\n",
    "\n",
    "# 16. [] - Character set (matches any character inside the brackets)\n",
    "print(re.findall(r\"[aeiou]\", \"hello world\"))  # Output: ['e', 'o', 'o']\n",
    "\n",
    "# 17. [^] - Negated set (matches any character NOT inside the brackets)\n",
    "print(re.findall(r\"[^aeiou]\", \"hello world\"))  # Output: ['h', 'l', 'l', ' ', 'w', 'r', 'l', 'd']\n",
    "\n"
   ]
  },
  {
   "cell_type": "markdown",
   "id": "ed907b02-9d0e-4f63-9110-88d2fdc1c4c3",
   "metadata": {},
   "source": [
    "###  Basic Regex Functions in Python\n",
    "Function:\tDescription\n",
    "\n",
    "re.search():\tFinds the first match of the pattern.\n",
    "    \n",
    "re.match():\tChecks if the pattern matches from the start.\n",
    "\n",
    "re.findall():\tReturns all matches as a list.\n",
    "\n",
    "re.finditer():\tReturns an iterator of match objects.\n",
    "\n",
    "re.sub():\tReplaces a match with another string.\n",
    "\n",
    "re.split():\tSplits a string based on a pattern.\n"
   ]
  },
  {
   "cell_type": "code",
   "execution_count": 3,
   "id": "a232d6b7-f7dc-4f41-82d1-833bac525471",
   "metadata": {},
   "outputs": [
    {
     "name": "stdout",
     "output_type": "stream",
     "text": [
      "['support@example.com', 'sales@company.org']\n"
     ]
    }
   ],
   "source": [
    "# 3. Example - Finding Email Addresses\n",
    "\n",
    "text = \"Contact us at support@example.com or sales@company.org\"\n",
    "\n",
    "pattern = r\"\\b[A-Za-z0-9._%+-]+@[A-Za-z0-9.-]+\\.[A-Z|a-z]{2,}\\b\"\n",
    "\n",
    "emails = re.findall(pattern, text)\n",
    "\n",
    "print(emails)  \n",
    "# Output: ['support@example.com', 'sales@company.org']\n"
   ]
  },
  {
   "cell_type": "markdown",
   "id": "e9b2a87c-d289-4d0c-8cac-0c6f930b83aa",
   "metadata": {},
   "source": [
    "## Explanation of above code\n",
    "\n",
    "\\b → Word boundary (ensures we match full emails)\n",
    "\n",
    "[A-Za-z0-9._%+-]+ → Matches email username (letters, numbers, dots, etc.)\n",
    "\n",
    "@ → Matches the @ symbol\n",
    "\n",
    "[A-Za-z0-9.-]+ → Matches the domain name\n",
    "\n",
    "\\. → Matches the dot . before the domain extension\n",
    "\n",
    "[A-Z|a-z]{2,} → Matches top-level domain (.com, .org, etc.)"
   ]
  },
  {
   "cell_type": "code",
   "execution_count": 4,
   "id": "b5f21022-5024-4141-96b7-2e17e9ea5886",
   "metadata": {},
   "outputs": [
    {
     "name": "stdout",
     "output_type": "stream",
     "text": [
      "['(123) 456-7890', '987-654-3210']\n"
     ]
    }
   ],
   "source": [
    "# 4️ Example - Extracting Phone Numbers\n",
    "text = \"Call me at (123) 456-7890 or 987-654-3210\"\n",
    "\n",
    "pattern = r\"\\(?\\d{3}\\)?[-.\\s]?\\d{3}[-.\\s]?\\d{4}\"\n",
    "\n",
    "matches = re.findall(pattern, text)\n",
    "\n",
    "print(matches)\n",
    "# Output: ['(123) 456-7890', '987-654-3210']\n"
   ]
  },
  {
   "cell_type": "markdown",
   "id": "a3e096aa-a61f-4b63-a0bf-283171878983",
   "metadata": {},
   "source": [
    "## Explanation of above code\n",
    "\n",
    "\\(?\\d{3}\\)? → Matches an optional area code (123)\n",
    "\n",
    "[-.\\s]? → Matches an optional separator (-, ., or space)\n",
    "\n",
    "\\d{3}[-.\\s]?\\d{4} → Matches the phone number"
   ]
  },
  {
   "cell_type": "code",
   "execution_count": null,
   "id": "f4680824-3c02-427c-a4c3-f7e78401159b",
   "metadata": {},
   "outputs": [],
   "source": [
    "# 5. Example - Checking If a String Is a Valid Date\n",
    "import re\n",
    "\n",
    "pattern = r\"\\b\\d{2}/\\d{2}/\\d{4}\\b\"\n",
    "\n",
    "text1 = \"Today's date is 25/02/2025\"\n",
    "text2 = \"Invalid date: 5/2/2025\"\n",
    "\n",
    "print(bool(re.search(pattern, text1)))  # True (Valid date)\n",
    "print(bool(re.search(pattern, text2)))  # False (Invalid format)\n"
   ]
  },
  {
   "cell_type": "markdown",
   "id": "901d1500-1b4d-4938-bbb6-7361a05e5e57",
   "metadata": {},
   "source": [
    "## Explanation of above code\n",
    "\n",
    "\\b → Ensures full-word match\n",
    "\n",
    "\\d{2}/\\d{2}/\\d{4} → Matches dates in DD/MM/YYYY format"
   ]
  },
  {
   "cell_type": "code",
   "execution_count": null,
   "id": "5f25ad58-f1e9-45bf-a846-c99b232bd627",
   "metadata": {},
   "outputs": [],
   "source": [
    "# 6️. Example - Validating Password Strength\n",
    "password = \"Strong@123\"\n",
    "\n",
    "pattern = r\"^(?=.*[A-Z])(?=.*[a-z])(?=.*\\d)(?=.*[@$!%*?&])[A-Za-z\\d@$!%*?&]{8,}$\"\n",
    "\n",
    "if re.match(pattern, password):\n",
    "    print(\"Valid Password\")\n",
    "else:\n",
    "    print(\"Weak Password\")\n"
   ]
  },
  {
   "cell_type": "markdown",
   "id": "fc4fb27f-c632-446e-8412-49d9aa621ca4",
   "metadata": {},
   "source": [
    "## Explanation of above code\n",
    "\n",
    "(?=.*[A-Z]) → At least one uppercase letter\n",
    "\n",
    "(?=.*[a-z]) → At least one lowercase letter\n",
    "\n",
    "(?=.*\\d) → At least one digit\n",
    "\n",
    "(?=.*[@$!%*?&]) → At least one special character\n",
    "\n",
    "[A-Za-z\\d@$!%*?&]{8,} → Minimum 8 characters long"
   ]
  },
  {
   "cell_type": "code",
   "execution_count": 5,
   "id": "5663b835-774c-4eb4-a9f8-174883e4e77d",
   "metadata": {},
   "outputs": [
    {
     "name": "stdout",
     "output_type": "stream",
     "text": [
      "I love Java and JavaScript\n"
     ]
    }
   ],
   "source": [
    "# 7️. Example - Replacing Text (re.sub)\n",
    "text = \"I love Python and JavaScript\"\n",
    "\n",
    "#  re.sub(pattern, replacement, text) replaces all occurrences of a pattern.\n",
    "# Replace 'Python' with 'Java'\n",
    "new_text = re.sub(r\"Python\", \"Java\", text) \n",
    "\n",
    "print(new_text)\n",
    "# Output: \"I love Java and JavaScript\"\n"
   ]
  },
  {
   "cell_type": "code",
   "execution_count": null,
   "id": "378ae246-2515-409a-ae9e-f0f2eced4968",
   "metadata": {},
   "outputs": [],
   "source": [
    "# 8️. Example - Splitting a String (re.split)\n",
    "text = \"apple, banana; cherry|grape\"\n",
    "\n",
    "# Split using multiple delimiters (, ; |)\n",
    "words = re.split(r\"[,;|]\", text) # The regex [,;|] splits text using ,, ;, or |.\n",
    "\n",
    "print(words)\n",
    "# Output: ['apple', ' banana', ' cherry', 'grape']\n"
   ]
  }
 ],
 "metadata": {
  "kernelspec": {
   "display_name": "Python 3 (ipykernel)",
   "language": "python",
   "name": "python3"
  },
  "language_info": {
   "codemirror_mode": {
    "name": "ipython",
    "version": 3
   },
   "file_extension": ".py",
   "mimetype": "text/x-python",
   "name": "python",
   "nbconvert_exporter": "python",
   "pygments_lexer": "ipython3",
   "version": "3.11.2"
  }
 },
 "nbformat": 4,
 "nbformat_minor": 5
}
