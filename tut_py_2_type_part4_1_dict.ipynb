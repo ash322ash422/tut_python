{
 "cells": [
  {
   "cell_type": "markdown",
   "id": "accbac1e-d592-4a95-a295-88ed9e7d093c",
   "metadata": {},
   "source": [
    "## Dictionary: Mapping Type container\n",
    "dict contains elements of type **key : value** pairs.\n",
    "- General expression for dictionary:\n",
    "```\n",
    "d = {\n",
    "     key1: value1,\n",
    "     key2: value2,\n",
    "     key3: value3,\n",
    "}\n",
    "```\n",
    "\n",
    "- dict are **mutable**\n",
    "- **keys** can be string, int, float.\n",
    "- **values** can be any data type: int, str, bool, dict, list, tuples, etc "
   ]
  },
  {
   "cell_type": "markdown",
   "id": "dd4a60d5-4100-4f71-a1cc-4696a1f68dbd",
   "metadata": {},
   "source": [
    "### 1️. Creating and Accessing a Dictionary\n",
    "Scenario: Storing student scores in a dictionary."
   ]
  },
  {
   "cell_type": "code",
   "execution_count": 1,
   "id": "1dffc368-8dca-42c1-9920-125c751d2529",
   "metadata": {},
   "outputs": [
    {
     "name": "stdout",
     "output_type": "stream",
     "text": [
      "{'Ram': 85, 'Carlos': 92, 'Roman': 78}\n",
      "<class 'dict'>\n"
     ]
    }
   ],
   "source": [
    "# creating dict: style1\n",
    "student_scores = {\n",
    "    \"Ram\": 85, \n",
    "    \"Carlos\": 92, \n",
    "    \"Roman\": 78\n",
    "}\n",
    "\n",
    "print(student_scores)\n",
    "print(type(student_scores))\n",
    "\n",
    "####################\n",
    "# Side note: I can rewrite above like this too:\n",
    "student_scores = { \"Ram\": 85, \"Carlos\": 92, \"Roman\": 78 }\n",
    "print(student_scores)\n",
    "print(type(student_scores))\n",
    "\n",
    "# BUT it is less clear."
   ]
  },
  {
   "cell_type": "code",
   "execution_count": 2,
   "id": "2ea4fc56-44d2-4ae6-9b68-cec71728c280",
   "metadata": {},
   "outputs": [
    {
     "name": "stdout",
     "output_type": "stream",
     "text": [
      "{'Ram': 85, 'Carlos': 92, 'Roman': 78}\n",
      "<class 'dict'>\n"
     ]
    }
   ],
   "source": [
    "# creating dict from a list: style2\n",
    "l = [\n",
    "    ('Ram',85),\n",
    "    ('Carlos',92),\n",
    "    ('Roman', 78)\n",
    "]\n",
    "\n",
    "student_scores = dict(l) # converts list into a dictionary\n",
    "print(student_scores)\n",
    "print(type(student_scores))"
   ]
  },
  {
   "cell_type": "code",
   "execution_count": null,
   "id": "3d485ea5-36ef-4ecd-be6f-c639004c769e",
   "metadata": {},
   "outputs": [
    {
     "name": "stdout",
     "output_type": "stream",
     "text": [
      "{'Ram': 85, 'Carlos': 92, 'Roman': 78}\n"
     ]
    }
   ],
   "source": [
    "# creating dict: style3 (Using dict with zip()) \n",
    "names  = [\"Ram\", \"Carlos\", \"Roman\"] # keys\n",
    "scores = [85,     92,       78]     # values\n",
    "\n",
    "student_scores = dict(zip(names, scores))\n",
    "\n",
    "print(student_scores)"
   ]
  },
  {
   "cell_type": "code",
   "execution_count": 4,
   "id": "ba1da969-6a07-4dc9-9cd7-f241a70d1377",
   "metadata": {},
   "outputs": [
    {
     "name": "stdout",
     "output_type": "stream",
     "text": [
      "85\n",
      "92\n"
     ]
    }
   ],
   "source": [
    "# Accessing values using keys\n",
    "\n",
    "student_scores = {\n",
    "   \"Surendar\": 85, \n",
    "   \"Bob\": 92,\n",
    "   \"Tanner\": 78\n",
    "}\n",
    "\n",
    "print(student_scores[\"Surendar\"])  # Output: 85\n",
    "# print(student_scores[\"Tom\"])       # ERROR: KeyError \n",
    "\n",
    "print(student_scores.get(\"Bob\"))  # Output: 92\n",
    "print(student_scores.get(\"Tom\"))  # None"
   ]
  },
  {
   "cell_type": "code",
   "execution_count": null,
   "id": "d153e57d-89be-48f9-8dd3-65f7942c8df8",
   "metadata": {},
   "outputs": [
    {
     "name": "stdout",
     "output_type": "stream",
     "text": [
      "dict_keys(['Surendar', 'Bob', 'Tanner'])\n",
      "dict_values([85, 92, 78])\n"
     ]
    }
   ],
   "source": [
    "# show me all keys\n",
    "student_scores = {\n",
    "   \"Surendar\": 85, \n",
    "   \"Bob\": 92,\n",
    "   \"Tanner\": 78\n",
    "}\n",
    "\n",
    "keys = student_scores.keys()\n",
    "print(keys)\n",
    "\n",
    "#########################\n",
    "# show me all values\n",
    "values= student_scores.values()\n",
    "print(values)\n",
    "\n",
    "########################\n",
    "# show me both key,values:\n",
    "items = student_scores.items()\n",
    "print(items)"
   ]
  },
  {
   "cell_type": "code",
   "execution_count": null,
   "id": "b9ce7070-cb13-406e-835d-3bf98753d0e3",
   "metadata": {},
   "outputs": [
    {
     "name": "stdout",
     "output_type": "stream",
     "text": [
      "dict_items([('Surendar', 85), ('Bob', 92), ('Tanner', 78)])\n",
      "3\n"
     ]
    }
   ],
   "source": [
    "# show me how many elements there are in dict\n",
    "print(len(student_scores))"
   ]
  },
  {
   "cell_type": "code",
   "execution_count": 2,
   "id": "ef34a9ab-94f3-4f66-8b9a-a757ef15b5d8",
   "metadata": {},
   "outputs": [
    {
     "name": "stdout",
     "output_type": "stream",
     "text": [
      "{56: 85, 12: 92, 34: 78}\n",
      "92\n"
     ]
    }
   ],
   "source": [
    "# Side not: Keys can be string, int, float\n",
    "employee = { # keys=employee_id, value=age\n",
    "    56: 85, \n",
    "    12: 92, \n",
    "    34: 78\n",
    "}\n",
    "\n",
    "print(employee)\n",
    "print(employee[12])"
   ]
  },
  {
   "cell_type": "markdown",
   "id": "477ce400-b749-4a71-8a9b-3cf8fb86d83e",
   "metadata": {},
   "source": [
    "###  Adding and Modifying Dictionary Entries\n",
    "Scenario: Adding a new student's score and updating an existing one"
   ]
  },
  {
   "cell_type": "code",
   "execution_count": null,
   "id": "4b035212-e669-4f6c-bed7-bc4f4072f7cd",
   "metadata": {},
   "outputs": [
    {
     "name": "stdout",
     "output_type": "stream",
     "text": [
      "before adding:{'Surendar': 85, 'Bob': 92, 'Tanner': 78}\n",
      "after adding:{'Surendar': 85, 'Bob': 92, 'Tanner': 78, 'David': 88}\n",
      "after update:{'Surendar': 90, 'Bob': 92, 'Tanner': 78, 'David': 88}\n"
     ]
    }
   ],
   "source": [
    "# Add / update entries in dict\n",
    "\n",
    "student_scores = {\n",
    "   \"Surendar\": 85, \n",
    "   \"Bob\": 92,\n",
    "   \"Tanner\": 78\n",
    "}\n",
    "\n",
    "print(f\"before adding:{student_scores}\")\n",
    "student_scores[\"David\"] = 88  # Adding new key-value pair\n",
    "print(f\"after adding: {student_scores}\")\n",
    "\n",
    "#######################\n",
    "# Now I want to update some value based on key\n",
    "student_scores[\"Surendar\"] = 90  # Updating value\n",
    "print(f\"after update: {student_scores}\")"
   ]
  },
  {
   "cell_type": "markdown",
   "id": "d1deae01-3e12-4366-91eb-c5e11bb902b2",
   "metadata": {},
   "source": [
    "###  Iterating Over a Dictionary using for loop\n",
    "Scenario: Printing each student's name and score."
   ]
  },
  {
   "cell_type": "code",
   "execution_count": null,
   "id": "0bd422bb-8be7-4a10-8d97-d074b9117eaf",
   "metadata": {},
   "outputs": [
    {
     "name": "stdout",
     "output_type": "stream",
     "text": [
      "The dictionary key:values are Surendar: 85\n",
      "The dictionary key:values are Bob: 92\n",
      "The dictionary key:values are Tanner: 78\n",
      "Done\n",
      "2\n"
     ]
    }
   ],
   "source": [
    "# iterate over dictionary\n",
    "\n",
    "student_scores = {\n",
    "   \"Surendar\": 85, \n",
    "   \"Bob\": 92,\n",
    "   \"Tanner\": 78\n",
    "}\n",
    "\n",
    "for name,score in student_scores.items():\n",
    "    print(f\"The dictionary key:values are {name} : {score}\")\n",
    "\n",
    "print(\"Done\")\n",
    "\n",
    "######################\n",
    "#APPLICATION: count how many students scored > 80\n",
    "count = 0\n",
    "for name,score in student_scores.items():\n",
    "   if score > 80:\n",
    "       count +=1\n",
    "print(count)"
   ]
  },
  {
   "cell_type": "markdown",
   "id": "83a1da65-3ba9-4504-b56a-8ea7c4847321",
   "metadata": {},
   "source": [
    "### Checking for a Key in the Dictionary\n",
    "Scenario: Checking if a student's score is stored."
   ]
  },
  {
   "cell_type": "code",
   "execution_count": 12,
   "id": "788af760-a3dd-4547-8941-d3c22e8b414b",
   "metadata": {},
   "outputs": [
    {
     "name": "stdout",
     "output_type": "stream",
     "text": [
      " Eve score is not found.\n"
     ]
    }
   ],
   "source": [
    "# check for a key\n",
    "\n",
    "student_scores = {\n",
    "   \"Surendar\": 85, \n",
    "   \"Bob\": 92,\n",
    "   \"Tanner\": 78\n",
    "}\n",
    "\n",
    "search = 'Eve' # Tanner\n",
    "if search in student_scores:\n",
    "    print(f\" {search} score is available.\")\n",
    "else:\n",
    "    print(f\" {search} score is not found.\")"
   ]
  },
  {
   "cell_type": "markdown",
   "id": "e93c24d9-f77d-4151-95d8-f731fc567d3a",
   "metadata": {},
   "source": [
    "### Removing an Entry(or clearing) from a Dictionary\n",
    "Scenario: Removing a student's score."
   ]
  },
  {
   "cell_type": "code",
   "execution_count": 13,
   "id": "e347c87a-ae6c-4ce4-bc01-52d2fb202144",
   "metadata": {},
   "outputs": [
    {
     "name": "stdout",
     "output_type": "stream",
     "text": [
      "{'Surendar': 85, 'Tanner': 78}\n"
     ]
    }
   ],
   "source": [
    "# remove an entry based on key:\n",
    "student_scores = {\n",
    "   \"Surendar\": 85, \n",
    "   \"Bob\": 92,\n",
    "   \"Tanner\": 78\n",
    "}\n",
    "\n",
    "student_scores.pop(\"Bob\")  \n",
    "print(student_scores)"
   ]
  },
  {
   "cell_type": "code",
   "execution_count": 19,
   "id": "5c5d1e1e-ad21-4947-853c-a76b718bf0e5",
   "metadata": {},
   "outputs": [
    {
     "name": "stdout",
     "output_type": "stream",
     "text": [
      "{'Surendar': 85, 'Tanner': 78}\n"
     ]
    }
   ],
   "source": [
    "# (SKIP) remove style2\n",
    "student_scores = {\n",
    "   \"Surendar\": 85, \n",
    "   \"Bob\": 92,\n",
    "   \"Tanner\": 78\n",
    "}\n",
    "\n",
    "del student_scores['Bob']\n",
    "print(student_scores)"
   ]
  },
  {
   "cell_type": "code",
   "execution_count": 14,
   "id": "b8a2c3e6-1b0d-4490-a48c-b5f86fd17407",
   "metadata": {},
   "outputs": [
    {
     "name": "stdout",
     "output_type": "stream",
     "text": [
      "{}\n"
     ]
    }
   ],
   "source": [
    "# remove all entries\n",
    "student_scores = {\n",
    "   \"Surendar\": 85, \n",
    "   \"Bob\": 92,\n",
    "   \"Tanner\": 78\n",
    "}\n",
    "\n",
    "student_scores.clear()\n",
    "print(student_scores)"
   ]
  },
  {
   "cell_type": "markdown",
   "id": "3cc5089a-2ef0-4562-af00-8768c4dc0e02",
   "metadata": {},
   "source": [
    "### Nested Dictionary (List or Dictionary Inside a Dictionary)\n",
    "Scenario: Storing student information including multiple details."
   ]
  },
  {
   "cell_type": "code",
   "execution_count": null,
   "id": "50a62c0f-d2f9-4be9-af85-0a8cd64d4d0c",
   "metadata": {},
   "outputs": [
    {
     "name": "stdout",
     "output_type": "stream",
     "text": [
      "{'Swamy': [50, 1.7, 'Kerala'], 'Tinku': [43, 1.3, 'Delhi'], 'Happy': [32, 1.8, 'noida']}\n",
      "[32, 1.8, 'noida']\n",
      "1.8\n"
     ]
    }
   ],
   "source": [
    "# List in dictionary: Values are list\n",
    "students = { # key=name, value=[age,height,location]\n",
    "    \"Swamy\" : [50, 1.7, \"Kerala\"],\n",
    "    \"Tinku\" : [43, 1.3, \"Delhi\"],\n",
    "    \"Happy\" : [32, 1.8, \"Noida\"]\n",
    "}\n",
    "\n",
    "print(students)\n",
    "print(students['Happy'])\n",
    "print(students['Happy'][1]) # height of Happy"
   ]
  },
  {
   "cell_type": "code",
   "execution_count": null,
   "id": "5a90230f-fdf8-41c3-a1e0-305d69f1f2e4",
   "metadata": {},
   "outputs": [
    {
     "name": "stdout",
     "output_type": "stream",
     "text": [
      "{'Swamy': {'age': 50, 'ht': 1.7, 'location': 'Kerala'}, 'Tinku': {'age': 43, 'ht': 1.3, 'location': 'Delhi'}, 'Happy': {'age': 32, 'ht': 1.8, 'location': 'Noida'}}\n",
      "{'age': 32, 'ht': 1.8, 'location': 'Noida'}\n",
      "1.8\n"
     ]
    }
   ],
   "source": [
    "# dictionary in dictionary:  values are dictionary\n",
    "\n",
    "students = {\n",
    "    \"Swamy\" : {'age': 50, 'ht': 1.7, 'location': \"Kerala\"},\n",
    "    \"Tinku\" : {'age': 43, 'ht': 1.3, 'location': \"Delhi\"},\n",
    "    \"Happy\" : {'age': 32, 'ht': 1.8, 'location': \"Noida\"}   \n",
    "}\n",
    "\n",
    "print(students)                 # show all elements of dictionary\n",
    "print(students[\"Happy\"])        # show all values for Happy\n",
    "print(students[\"Happy\"][\"ht\"])  # show me Happy height"
   ]
  },
  {
   "cell_type": "markdown",
   "id": "9fe1ab6c-5706-4777-9299-fe5c5e992e8a",
   "metadata": {},
   "source": [
    "# Advanced operations in dictionary"
   ]
  },
  {
   "cell_type": "markdown",
   "id": "9f5fed48-79a4-4d9d-b5a9-45fba31bb68e",
   "metadata": {},
   "source": [
    "### 1. Merging Two Dictionaries (update() & | Operator)\n",
    "Scenario: Merging student scores from two classes."
   ]
  },
  {
   "cell_type": "code",
   "execution_count": 3,
   "id": "428c8aeb-5b3e-4b1a-8287-9e122f876795",
   "metadata": {},
   "outputs": [
    {
     "name": "stdout",
     "output_type": "stream",
     "text": [
      "{'Archie': 85, 'Bono': 92, 'Charlie': 78, 'David': 88, 'Zena': 54}\n",
      "{'Archie': 85, 'Bono': 92, 'Charlie': 78, 'David': 88, 'Zena': 54}\n"
     ]
    }
   ],
   "source": [
    "# merge 2 dict\n",
    "\n",
    "class_a = {\"Archie\": 85,\n",
    "           \"Bono\": 92\n",
    "}\n",
    "\n",
    "class_b = {\"Charlie\": 78, \n",
    "           \"David\": 88,\n",
    "           \"Zena\": 54\n",
    "}\n",
    "\n",
    "# Method 1: Using update()\n",
    "merged_scores = class_a.copy()\n",
    "merged_scores.update(class_b)\n",
    "print(merged_scores)\n",
    "#################################\n",
    "\n",
    "# Method 2: Using `|` operator (Python 3.9+)\n",
    "merged_scores = class_a | class_b\n",
    "print(merged_scores)"
   ]
  },
  {
   "cell_type": "markdown",
   "id": "e439b14a",
   "metadata": {},
   "source": [
    "# STOP"
   ]
  },
  {
   "cell_type": "code",
   "execution_count": null,
   "id": "dc4d8400-e3a3-4828-8ee4-a560e8f6702d",
   "metadata": {},
   "outputs": [],
   "source": []
  },
  {
   "cell_type": "code",
   "execution_count": null,
   "id": "b885fdfb-fac1-4e1e-90e0-f3f2cc12c294",
   "metadata": {},
   "outputs": [],
   "source": []
  },
  {
   "cell_type": "code",
   "execution_count": null,
   "id": "09022e4e-27d1-49bb-b43d-94e566b7f98b",
   "metadata": {},
   "outputs": [],
   "source": []
  },
  {
   "cell_type": "code",
   "execution_count": null,
   "id": "ff3f8943-6ddc-44bf-894a-7d5f441f34ab",
   "metadata": {},
   "outputs": [],
   "source": []
  },
  {
   "cell_type": "markdown",
   "id": "d7a10aef",
   "metadata": {},
   "source": []
  },
  {
   "cell_type": "markdown",
   "id": "1ca235fc-9dea-4c44-aef5-5c4eaa136c2f",
   "metadata": {},
   "source": [
    "\n",
    "### 2. (SKIP) Sorting a Dictionary by Keys and Values\n",
    "Scenario: Sorting student scores in ascending and descending order."
   ]
  },
  {
   "cell_type": "code",
   "execution_count": 71,
   "id": "6762d86b-9340-41ac-9d23-ccdfdd676b47",
   "metadata": {},
   "outputs": [
    {
     "name": "stdout",
     "output_type": "stream",
     "text": [
      "{'Alice': 85, 'Bob': 92, 'Charlie': 78, 'David': 88}\n",
      "{'Charlie': 78, 'Alice': 85, 'David': 88, 'Bob': 92}\n",
      "{'Bob': 92, 'David': 88, 'Alice': 85, 'Charlie': 78}\n"
     ]
    }
   ],
   "source": [
    "student_scores = {\"Alice\": 85, \"Bob\": 92, \"Charlie\": 78, \"David\": 88}\n",
    "\n",
    "# Sort by keys (alphabetically)\n",
    "sorted_by_keys = dict(sorted(student_scores.items()))\n",
    "print(sorted_by_keys)  \n",
    "\n",
    "# Sort by values (ascending)\n",
    "sorted_by_values = dict(sorted(student_scores.items(), key=lambda item: item[1]))\n",
    "print(sorted_by_values)  \n",
    "\n",
    "# Sort by values (descending)\n",
    "sorted_by_values_desc = dict(sorted(student_scores.items(), key=lambda item: item[1], reverse=True))\n",
    "print(sorted_by_values_desc)  "
   ]
  },
  {
   "cell_type": "markdown",
   "id": "3e45a8ae-be3a-4f1e-a207-8755ffe2fd11",
   "metadata": {},
   "source": [
    "### (SKIP) 3. Dictionary Filtering (Keeping Items That Meet a Condition)\n",
    "Scenario: Keeping only students who scored above 80."
   ]
  },
  {
   "cell_type": "code",
   "execution_count": 73,
   "id": "31bae92a-4d94-4e7b-8663-255bd5b94b6e",
   "metadata": {},
   "outputs": [
    {
     "name": "stdout",
     "output_type": "stream",
     "text": [
      "{'Alice': 85, 'Bob': 92, 'David': 88}\n"
     ]
    }
   ],
   "source": [
    "student_scores = {\"Alice\": 85,\n",
    "                  \"Bob\": 92,\n",
    "                  \"Charlie\": 78,\n",
    "                  \"David\": 88\n",
    "}\n",
    "\n",
    "filtered_scores = {k: v for k, v in student_scores.items() if v > 80}\n",
    "print(filtered_scores)"
   ]
  }
 ],
 "metadata": {
  "kernelspec": {
   "display_name": "Python 3 (ipykernel)",
   "language": "python",
   "name": "python3"
  },
  "language_info": {
   "codemirror_mode": {
    "name": "ipython",
    "version": 3
   },
   "file_extension": ".py",
   "mimetype": "text/x-python",
   "name": "python",
   "nbconvert_exporter": "python",
   "pygments_lexer": "ipython3",
   "version": "3.9.9"
  }
 },
 "nbformat": 4,
 "nbformat_minor": 5
}
