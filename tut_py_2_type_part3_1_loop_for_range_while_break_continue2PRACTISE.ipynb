{
 "cells": [
  {
   "cell_type": "code",
   "execution_count": null,
   "id": "164613b8",
   "metadata": {},
   "outputs": [
    {
     "name": "stdout",
     "output_type": "stream",
     "text": [
      "<class 'int'>\n",
      "<class 'float'>\n",
      "<class 'bool'>\n",
      "<class 'str'>\n",
      "###########################\n",
      "<class 'int'>\n",
      "<class 'float'>\n",
      "<class 'bool'>\n",
      "<class 'str'>\n",
      "######I am out of for loop############\n",
      "###########################\n",
      "The iterator i is 4 and its type is <class 'int'>\n",
      "The iterator i is 5.98 and its type is <class 'float'>\n",
      "The iterator i is True and its type is <class 'bool'>\n",
      "The iterator i is ad astra and its type is <class 'str'>\n"
     ]
    }
   ],
   "source": [
    "# APPLICATIONS:\n",
    "# step1: I want to see the data type of all elements in a list\n",
    "l = [4, 5.98, True, \"ad astra\", ] # list with assorted element\n",
    "\n",
    "#method1\n",
    "print(type(l[0]))\n",
    "print(type(l[1]))\n",
    "print(type(l[2]))\n",
    "print(type(l[3]))\n",
    "print(\"###########################\")\n",
    "\n",
    "# step2: I can redo above using for loop\n",
    "for i in l:\n",
    "    print(type(i))\n",
    "    \n",
    "print(\"FINISHED\")\n",
    "\n",
    "print(\"###########################\")\n",
    "# step3: I want to redo above with a meaningful output\n",
    "for i in l:\n",
    "    print(f\"The iterator i is {i} and its type is {type(i)}\") # here I am printing element and its data type\n"
   ]
  },
  {
   "cell_type": "code",
   "execution_count": null,
   "id": "3c4faaed-a501-4c23-a9a8-6e995bebb977",
   "metadata": {},
   "outputs": [
    {
     "name": "stdout",
     "output_type": "stream",
     "text": [
      "[0, 1, 2, 3, 4, 5, 6]\n",
      "[0, 1, 2, 3, 4, 5, 6]\n",
      "################\n"
     ]
    }
   ],
   "source": [
    "# APPLICATION of range:\n",
    "\n",
    "# APPLICATION: I want number: 100,103,106,109,112,115,118,121,124,127,130,133,136,139,142,145,148,\n",
    "for i in range(100,150,3): # start=100, stop=150, step=3\n",
    "    # print(f\"The i value is {i}\")\n",
    "    print(i, end=\",\")\n",
    "\n",
    "# l = [100,103,106,109,112,115,118,121,124,127,130,133,136,139,142,145,148,]\n",
    "# print(l)\n",
    "print(\"###################################\")\n",
    "\n",
    "\n",
    "#I want to create a list of numbers from 0 to 6\n",
    "l2 = list(range(0,7)) \n",
    "print(l2)\n",
    "print(\"################\")\n",
    "\n",
    "# Aside: I want to create a list of numbers like 5, 10, 15, 20, 25, 30, 35, 40, 45\n",
    "# l = list(range(5,46,5))\n",
    "# print(l)\n",
    "# print(\"################\")\n",
    "\n",
    "\n",
    "# l = list(range(0,4))\n",
    "# for i in l:\n",
    "#     print(\"Hello.\", end=\" \")\n",
    "#     print(\"How are you ?\", end= \" \")\n",
    "#     print(\"...sita\")\n",
    "    \n",
    "# print(\"I have exited the loop\")"
   ]
  },
  {
   "cell_type": "code",
   "execution_count": null,
   "id": "062158cb-a0f3-412f-9566-478694ffd0ff",
   "metadata": {},
   "outputs": [
    {
     "name": "stdout",
     "output_type": "stream",
     "text": [
      "Square of 3 is: 9\n",
      "Square of 5 is: 25\n",
      "Square of 4 is: 16\n",
      "Square of 10 is: 100\n",
      "Square of 7 is: 49\n",
      "##################\n",
      "Square of 3 is: 9\n",
      "Square of 5 is: 25\n",
      "Square of 4 is: 16\n",
      "Square of 10 is: 100\n",
      "Square of 7 is: 49\n"
     ]
    }
   ],
   "source": [
    "# APPLICATION of for loop:\n",
    "# lets print the square of following numbers\n",
    "numbers = [3, 5, 4, 10, 7]\n",
    "\n",
    "# method1\n",
    "for i in numbers: \n",
    "    result = i ** 2 # ** exponent operator\n",
    "    print(f\"Square of {i} is: {result}\")\n",
    "print(\"##################\")\n",
    "\n",
    "# method2: remove the temporary variable\n",
    "for i in numbers: \n",
    "    print(f\"Square of {i} is: {i**2}\") \n"
   ]
  },
  {
   "cell_type": "code",
   "execution_count": null,
   "id": "b02351bb-9c73-4423-a455-d3bde8d3894e",
   "metadata": {},
   "outputs": [
    {
     "name": "stdout",
     "output_type": "stream",
     "text": [
      "The initial result: []\n",
      "8\n",
      "18\n",
      "6\n",
      "-14\n",
      "10\n",
      "The final result: 10\n",
      "The initial result: []\n",
      "[8]\n",
      "[8, 18]\n",
      "[8, 18, 6]\n",
      "[8, 18, 6, -14]\n",
      "[8, 18, 6, -14, 10]\n",
      "The final result: [8, 18, 6, -14, 10]\n"
     ]
    }
   ],
   "source": [
    "# for loop application\n",
    "\n",
    "#  Create a list of numbers that are scaled by factor 2\n",
    "numbers = [4, 9, 3, -7, 5]\n",
    "\n",
    "#STEP1: First lets just print the multiples of 2\n",
    "# for n in numbers:\n",
    "#     res = n*2\n",
    "#     print(res)\n",
    "\n",
    "#STEP2: Now capture above values and store in an empty list\n",
    "result = []\n",
    "print(f\"The initial result: {result}\")\n",
    "for n in numbers:\n",
    "    res = n*2\n",
    "    result.append(res)\n",
    "    print(res)\n",
    "\n",
    "print(f\"The final result: {res}\")\n",
    "\n",
    "#STEP3: optimize...do not use extra variable scaled_n\n",
    "result = []\n",
    "print(f\"The initial result: {result}\")\n",
    "for n in numbers:\n",
    "    result.append(n*2)\n",
    "    print(result)\n",
    "\n",
    "print(f\"The final result: {result}\")\n",
    "\n",
    "##############################################################\n",
    "\n"
   ]
  },
  {
   "cell_type": "code",
   "execution_count": 11,
   "id": "24aa3403-4a3c-427a-9c20-8e7fa35429d3",
   "metadata": {},
   "outputs": [
    {
     "name": "stdout",
     "output_type": "stream",
     "text": [
      "Original salary:[10000, 30000, 60000, 70000, 23000, 42000]\n",
      "[12000.0, 36000.0, 72000.0, 84000.0, 27600.0, 50400.0]\n",
      "#########################\n",
      "[12000.0, 36000.0, 60000, 70000, 27600.0, 42000]\n",
      "#########################\n",
      "[12000.0, 36000.0, 66000.0, 77000.0, 27600.0, 46200.0]\n",
      "#########################\n"
     ]
    }
   ],
   "source": [
    "#APPLICATION: \n",
    "# problem1: lets give employees 20% hike all salaries\n",
    "salary  = [10000, 30000, 60000, 70000, 23000, 42000]\n",
    "print(f\"Original salary:{salary}\")\n",
    "\n",
    "new_salary = []\n",
    "for s in salary:\n",
    "    hiked_s = s * .2 + s\n",
    "    new_salary.append(hiked_s)\n",
    "\n",
    "print(new_salary)\n",
    "print(\"#########################\")\n",
    "\n",
    "# problem2: lets give employees 20% hike for salary <= 30000\n",
    "salary  = [10000, 30000, 60000, 70000, 23000, 42000]\n",
    "\n",
    "new_salary = []\n",
    "for s in salary:\n",
    "    if s <= 30000:\n",
    "        hiked_s = s * .2 + s\n",
    "        new_salary.append(hiked_s)\n",
    "    else:\n",
    "        new_salary.append(s)\n",
    "\n",
    "print(new_salary)\n",
    "print(\"#########################\")\n",
    "\n",
    "# problem3: lets give employees 20% hike for salary <= 30000 and 10% hike for all others\n",
    "salary  = [10000, 30000, 60000, 70000, 23000, 42000]\n",
    "\n",
    "new_salary = []\n",
    "for s in salary:\n",
    "    if s <= 30000:\n",
    "        hiked_s = s * .2 + s\n",
    "        new_salary.append(hiked_s)\n",
    "    else:\n",
    "        hiked_s = s * .1 + s\n",
    "        new_salary.append(hiked_s)\n",
    "\n",
    "print(new_salary)\n",
    "print(\"#########################\")\n"
   ]
  },
  {
   "cell_type": "code",
   "execution_count": null,
   "id": "9233b52c-9c21-4e61-b33f-305c4f49f69f",
   "metadata": {},
   "outputs": [
    {
     "name": "stdout",
     "output_type": "stream",
     "text": [
      "The sum is 10\n",
      "The sum is 125250\n",
      "##############\n",
      "0\n",
      "..4\n",
      "4\n",
      "..10\n",
      "10\n",
      "..18\n",
      "18\n",
      "..28\n",
      "The sum is 28\n",
      "The sum is 1000998\n",
      "##############\n",
      "The sum is 16\n",
      "The sum is 2601\n",
      "##############\n"
     ]
    }
   ],
   "source": [
    "# APPLICATION\n",
    "\n",
    "# Lets add numbers from 1 to 500\n",
    "# STEP1: start with small range:  Lets add numbers from 1 to 4 \n",
    "sum = 0\n",
    "for i in range(1, 5): # start with 1\n",
    "    # print(f\"before: {sum}\")\n",
    "    sum = sum + i\n",
    "    # print(f\"after: {sum}\")\n",
    "    \n",
    "print(f\"The sum is {sum}\")\n",
    "\n",
    "# STEP2: scale it up Lets add numbers from 1 to 500\n",
    "sum = 0\n",
    "for i in range(1, 501): # start with 1\n",
    "    sum = sum + i\n",
    "    \n",
    "print(f\"The sum is {sum}\")\n",
    "\n",
    "print(\"##############\")\n",
    "\n",
    "# lets add even numbers: 4 + 6 + 8 + 10 + ..2000\n",
    "\n",
    "# STEP1: start with small range: lets add even numbers: 4 + 6 + 8 + 10\n",
    "sum = 0\n",
    "for i in range(4, 11, 2): # start=4, stop=11, step size = 2\n",
    "    print(f\"{sum}\")\n",
    "    sum = sum + i\n",
    "    print(f\"..{sum}\")\n",
    "print(f\"The sum is {sum}\")\n",
    "\n",
    "# STEP2: scale it up.lets add even numbers: 4 + 6 + 8 + 10 + ..2000\n",
    "sum = 0\n",
    "for i in range(4, 2001, 2): # start=4, stop=11, step size = 2\n",
    "    sum = sum + i\n",
    "    \n",
    "print(f\"The sum is {sum}\")\n",
    "\n",
    "\n",
    "print(\"##############\")\n",
    "\n",
    "# lets add odd numbers: 1 + 3 + 5 + 7 + 101\n",
    "# STEP1: start small: 1 + 3 + 5 + 7\n",
    "sum = 0\n",
    "for i in range(1, 8, 2): # start with 1, step size = 2\n",
    "    sum = sum + i\n",
    "print(f\"The sum is {sum}\")\n",
    "\n",
    "# STEP2: scale it up 1 + 3 + 5 + 7 + .. + 101\n",
    "sum = 0\n",
    "for i in range(1, 102, 2): # start with 1, step size = 2\n",
    "    sum = sum + i\n",
    "print(f\"The sum is {sum}\")\n",
    "print(\"##############\")"
   ]
  },
  {
   "cell_type": "code",
   "execution_count": null,
   "id": "1fdcab33",
   "metadata": {},
   "outputs": [],
   "source": [
    "# APPLICATION: for+break: search for a number in a list:\n",
    "numbers = [5, 23, 8, 43, 7, 3, 65, 16, 3, 14]\n",
    "\n",
    "target = 70\n",
    "is_found = False\n",
    "\n",
    "for i in numbers:\n",
    "    print(f\"checking {i}...\")\n",
    "    if i == target:\n",
    "        is_found = True\n",
    "        print(f\"Found {target}! Exiting the for loop\")\n",
    "        break # NOTE: comment it out to see what happens without it\n",
    "\n",
    "if not is_found:\n",
    "    print(f\"Not found {target}\")\n"
   ]
  },
  {
   "cell_type": "code",
   "execution_count": null,
   "id": "8096e8b7",
   "metadata": {},
   "outputs": [],
   "source": [
    "# APPLICATION: for + continue Add 5 to all numbers except when number=65\n",
    "numbers = [5, 23, 8, 43, 7, 3, 65, 16, 3, 14]\n",
    "\n",
    "for i in numbers:\n",
    "    if i == 65:\n",
    "        print(f\"skipping number {i}\")\n",
    "        continue # NOTE: comment it out to see what happens without it\n",
    "    print(f\"number: {i+5}\")\n",
    "        \n",
    "print(\"Loop finished\")\n"
   ]
  },
  {
   "cell_type": "markdown",
   "id": "af503c06-2e2b-46fa-9f69-5110b2fb8f42",
   "metadata": {},
   "source": [
    "# APPLICATION: for + continue + break"
   ]
  },
  {
   "cell_type": "code",
   "execution_count": null,
   "id": "f46b8e35-2e5f-4c80-a326-8d5695e95b41",
   "metadata": {},
   "outputs": [
    {
     "name": "stdout",
     "output_type": "stream",
     "text": [
      "The first even number greater than 10 is 16\n",
      "search finished\n"
     ]
    }
   ],
   "source": [
    "\n",
    "# find first even numbers that is greater than 10\n",
    "numbers = [5, 23, 8, 43, 7, 3, 65, 16, 3, 14]\n",
    "\n",
    "for i in numbers:\n",
    "    if i < 10:\n",
    "        #skip numbers < 10\n",
    "        continue\n",
    "\n",
    "    if i%2 == 0:\n",
    "        print(f\"The first even number greater than 10 is {i}\")\n",
    "        break\n",
    "        \n",
    "        \n",
    "print(\"search finished\")\n"
   ]
  },
  {
   "cell_type": "markdown",
   "id": "eb7f518e-ea22-48dc-8e1d-c6303ef0de85",
   "metadata": {},
   "source": [
    "## for application "
   ]
  },
  {
   "cell_type": "code",
   "execution_count": null,
   "id": "47d6c9f9-b253-47c7-b0ae-65df7836868d",
   "metadata": {},
   "outputs": [
    {
     "name": "stdout",
     "output_type": "stream",
     "text": [
      "Pyramid with 8 rows:\n",
      "       *\n",
      "      ***\n",
      "     *****\n",
      "    *******\n",
      "   *********\n",
      "  ***********\n",
      " *************\n",
      "***************\n"
     ]
    }
   ],
   "source": [
    "\n",
    "\n",
    "############################################################\n",
    "# Prints a pyramid shape with a specified number of rows.\n",
    "\n",
    "rows = 8 # 4 , 5, 6\n",
    "print(f\"Pyramid with {rows} rows:\")\n",
    "for i in range(rows):\n",
    "    # Calculate the number of spaces before the asterisks\n",
    "    spaces = rows - 1 - i\n",
    "\n",
    "    # Calculate the number of asterisks in the current row\n",
    "    num_asterisks = 2 * i + 1\n",
    "\n",
    "    # Print the spaces and then the asterisks\n",
    "    print(\" \" * spaces + \"*\" * num_asterisks)\n"
   ]
  },
  {
   "cell_type": "code",
   "execution_count": null,
   "id": "c332d5c7-8580-4d44-b817-3820692d6e7d",
   "metadata": {},
   "outputs": [
    {
     "name": "stdout",
     "output_type": "stream",
     "text": [
      "\n",
      "Inverted Pyramid with 3 rows:\n",
      "*****\n",
      " ***\n",
      "  *\n"
     ]
    }
   ],
   "source": [
    "# APPLICATION\n",
    "# Prints an inverted pyramid shape with a specified number of rows.\n",
    "\n",
    "rows = 3\n",
    "print(f\"\\nInverted Pyramid with {rows} rows:\") \n",
    "for i in range(rows):\n",
    "    # Calculate the number of spaces before the asterisks\n",
    "    spaces = i\n",
    "    \n",
    "    # Calculate the number of asterisks in the current row\n",
    "    asterisks = 2 * (rows - 1 - i) + 1\n",
    "    \n",
    "    # Print the spaces and then the asterisks\n",
    "    print(\" \" * spaces + \"*\" * asterisks)\n"
   ]
  },
  {
   "cell_type": "code",
   "execution_count": null,
   "id": "0de265a2-29fc-4597-9132-d5b07737687c",
   "metadata": {},
   "outputs": [
    {
     "name": "stdout",
     "output_type": "stream",
     "text": [
      "Diamond with 4 top rows:\n",
      "   *\n",
      "  ***\n",
      " *****\n",
      "*******\n",
      " *****\n",
      "  ***\n",
      "   *\n"
     ]
    }
   ],
   "source": [
    "# APPLICATION\n",
    "# Prints a diamond shape with out nested for loop\n",
    "\n",
    "# rows (int): The number of rows in the top half of the diamond.\n",
    "#                 The total height will be 2 * rows - 1.\n",
    "rows = 4\n",
    "print(f\"Diamond with {rows} top rows:\")\n",
    "# Top half of the diamond\n",
    "for i in range(rows):\n",
    "    spaces = rows - 1 - i\n",
    "    asterisks = 2 * i + 1\n",
    "    print(\" \" * spaces + \"*\" * asterisks)\n",
    "\n",
    "# Bottom half of the diamond\n",
    "for i in range(rows - 2, -1, -1):\n",
    "    spaces = rows - 1 - i\n",
    "    asterisks = 2 * i + 1\n",
    "    print(\" \" * spaces + \"*\" * asterisks)"
   ]
  },
  {
   "cell_type": "code",
   "execution_count": null,
   "id": "d9888897-aa17-4059-a336-218b6e023883",
   "metadata": {},
   "outputs": [
    {
     "name": "stdout",
     "output_type": "stream",
     "text": [
      "* \n",
      "* * \n",
      "* * * \n",
      "* * * * \n",
      "##########\n",
      "\n",
      "Mirrored Left-Angled Triangle with 4 rows:\n",
      "* \n",
      "* * \n",
      "* * * \n",
      "* * * * \n"
     ]
    }
   ],
   "source": [
    "#APPLICATION for inside for: Prints a mirrored left-angled triangle.\n",
    "\n",
    "print(\"*\", end=\" \")\n",
    "print()\n",
    "\n",
    "print(\"*\", end=\" \")\n",
    "print(\"*\", end=\" \")\n",
    "print()\n",
    "\n",
    "print(\"*\", end=\" \")\n",
    "print(\"*\", end=\" \")\n",
    "print(\"*\", end=\" \")\n",
    "print()\n",
    "\n",
    "print(\"*\", end=\" \")\n",
    "print(\"*\", end=\" \")\n",
    "print(\"*\", end=\" \")\n",
    "print(\"*\", end=\" \")\n",
    "print()\n",
    "print(\"##########\")\n",
    "\n",
    "# redo above using \"for inside for\" loop\n",
    "rows = 4\n",
    "print(f\"\\nMirrored Left-Angled Triangle with {rows} rows:\")\n",
    "# outer loop\n",
    "for i in range(1, rows + 1):\n",
    "    for j in range(1, i + 1): # inner loop\n",
    "        print(\"*\", end=\" \")\n",
    "    print('')\n"
   ]
  },
  {
   "cell_type": "markdown",
   "id": "b80b7a2b-219b-4218-affa-a182f1cb2f30",
   "metadata": {},
   "source": [
    "## (OPTIONAL): Application \"for with if\""
   ]
  },
  {
   "cell_type": "code",
   "execution_count": 28,
   "id": "4ba3ac57-7448-49d8-bf8a-71272103d5f6",
   "metadata": {},
   "outputs": [
    {
     "name": "stdout",
     "output_type": "stream",
     "text": [
      "Total number of a is: 3\n",
      "################\n",
      "Total number of vowels: 15\n",
      "################\n",
      "Found keywords: ['human', 'dwelt']\n"
     ]
    }
   ],
   "source": [
    "# count number of char a in sentence\n",
    "name = \"saturn to mars to earth\"\n",
    "\n",
    "count = 0\n",
    "for char in name:\n",
    "    if char == 'a':  # Check if the character is 'a'\n",
    "        count += 1   # Increment the count if it is 'a'\n",
    "\n",
    "print('Total number of a is:', count)\n",
    "\n",
    "print(\"################\")\n",
    "# count the number of vowels in a given sentence.\n",
    "# Lets change the sentence = \"The quick brown fox jumps over the lazy dog\"\n",
    "sentence = \"The slow white fox could not jump over the little dog\"\n",
    "count = 0\n",
    "vowels = \"aeiouAEIOU\"\n",
    "\n",
    "for char in sentence:\n",
    "    if char in vowels:  # Check if the character is a vowel\n",
    "        count += 1\n",
    "\n",
    "print(\"Total number of vowels:\",count)\n",
    "\n",
    "print(\"################\")\n",
    "# check if certain words are present in a given text.\n",
    "# copy and paste poem from  https://en.wikipedia.org/wiki/Lucy_Gray\n",
    "text = \"\"\"\n",
    "LUCY GRAY\n",
    "\n",
    "Oft I had heard of Lucy Gray,\n",
    "And, when I crossed the Wild,\n",
    "I chanced to see at break of day\n",
    "The solitary Child.\n",
    "\n",
    "No mate, no comrade Lucy knew;\n",
    "She dwelt on a wide Moor,\n",
    "-The sweetest Thing that ever grew\n",
    "Beside a human door!\n",
    "\n",
    "\"\"\"\n",
    "keywords = [\"human\", \"dwelt\", \"bank\", \"Jupyter\"]\n",
    "found_keywords = []\n",
    "\n",
    "for k in keywords:\n",
    "    if k in text:  # Check if the word  k is in the text\n",
    "        found_keywords.append(k)\n",
    "\n",
    "print(\"Found keywords:\", found_keywords)"
   ]
  },
  {
   "cell_type": "code",
   "execution_count": null,
   "id": "67140b6a-0aa9-4ece-986f-2f1cf13b1285",
   "metadata": {},
   "outputs": [
    {
     "name": "stdout",
     "output_type": "stream",
     "text": [
      "1\n",
      "2\n",
      "4\n",
      "5\n",
      "DONE#############\n",
      "1\n",
      "2\n",
      "5\n"
     ]
    }
   ],
   "source": [
    "# APPLICATIONS: Using continue in a while Loop to skip certain iteration\n",
    "\n",
    "# print 1 2 4 5 on each newline...skips 3\n",
    "i = 0\n",
    "while i < 5:\n",
    "    i += 1\n",
    "    if i == 3:\n",
    "        continue  # Skip iteration when i == 3\n",
    "    print(i)\n",
    "print(\"DONE#############\")\n",
    "\n",
    "# print 1 2 5 on each newline...skips 3,4\n",
    "i = 0\n",
    "while i < 5:\n",
    "    i += 1\n",
    "    if i == 3 or i == 4:\n",
    "        continue  # Skip iteration when i == 3\n",
    "    print(i)\n"
   ]
  },
  {
   "cell_type": "markdown",
   "id": "947b03ea-984c-4581-a578-57153b7ab6a6",
   "metadata": {},
   "source": [
    "## Real world application\n",
    "ATM Withdrawal Simulation\n",
    "\n",
    "This example simulates an ATM where a user can withdraw money until their balance runs out or they exit."
   ]
  },
  {
   "cell_type": "code",
   "execution_count": null,
   "id": "d13b8d85-2ceb-4edd-9b2b-3e5143c2507a",
   "metadata": {},
   "outputs": [
    {
     "name": "stdout",
     "output_type": "stream",
     "text": [
      "\n",
      "ATM Machine\n",
      "1. Check Balance\n",
      "2. Withdraw Money\n",
      "3. Exit\n"
     ]
    },
    {
     "name": "stdout",
     "output_type": "stream",
     "text": [
      "Enter your choice (1-3):  1\n"
     ]
    },
    {
     "name": "stdout",
     "output_type": "stream",
     "text": [
      "Your current balance is: $1000\n",
      "\n",
      "ATM Machine\n",
      "1. Check Balance\n",
      "2. Withdraw Money\n",
      "3. Exit\n"
     ]
    },
    {
     "name": "stdout",
     "output_type": "stream",
     "text": [
      "Enter your choice (1-3):  2\n",
      "Enter amount to withdraw:  200\n"
     ]
    },
    {
     "name": "stdout",
     "output_type": "stream",
     "text": [
      "Withdrawal successful! New balance: $800.0\n",
      "\n",
      "ATM Machine\n",
      "1. Check Balance\n",
      "2. Withdraw Money\n",
      "3. Exit\n"
     ]
    },
    {
     "name": "stdout",
     "output_type": "stream",
     "text": [
      "Enter your choice (1-3):  3\n"
     ]
    },
    {
     "name": "stdout",
     "output_type": "stream",
     "text": [
      "Thank you for using the ATM. Goodbye!\n"
     ]
    }
   ],
   "source": [
    "balance = 1000  # Initial account balance\n",
    "\n",
    "while True:\n",
    "    print(\"\\nATM Machine\")\n",
    "    print(\"1. Check Balance\")\n",
    "    print(\"2. Withdraw Money\")\n",
    "    print(\"3. Exit\")\n",
    "    \n",
    "    choice = input(\"Enter your choice (1-3): \")\n",
    "    \n",
    "    if choice == \"1\":\n",
    "        print(f\"Your current balance is: ${balance}\")\n",
    "    \n",
    "    elif choice == \"2\":\n",
    "        amount = float(input(\"Enter amount to withdraw: \"))\n",
    "        \n",
    "        if amount > balance:\n",
    "            print(\"Insufficient funds! Try a smaller amount.\")\n",
    "        else:\n",
    "            # balance = balance - amount\n",
    "            balance -= amount\n",
    "            print(f\"Withdrawal successful! New balance: ${balance}\")\n",
    "    \n",
    "    elif choice == \"3\":\n",
    "        print(\"Thank you for using the ATM. Goodbye!\")\n",
    "        break  # Exit the loop\n",
    "    \n",
    "    else:\n",
    "        print(\"Invalid choice! Please enter 1, 2, or 3.\")\n"
   ]
  },
  {
   "cell_type": "markdown",
   "id": "31f8bccc-003f-4067-bf7d-afb6690e73bc",
   "metadata": {},
   "source": [
    "## more applications of \"for, if, break, continue\" "
   ]
  },
  {
   "cell_type": "code",
   "execution_count": null,
   "id": "4a01fd51-852e-4ff0-bc5f-fa76a3982b9a",
   "metadata": {},
   "outputs": [
    {
     "name": "stdout",
     "output_type": "stream",
     "text": [
      "210 231 252 273 294 315 336 357 378 399 \n",
      "I am out of 'for' life\n",
      "###############\n",
      "210 315 "
     ]
    }
   ],
   "source": [
    "# find all numbers between 200 and 400 that are divisible by 3 \"and\" 7\n",
    "for num in range(200, 401):\n",
    "    if num % 3 == 0 and num % 7 == 0:\n",
    "        print(num, end = \" \")\n",
    "print(\"\\nI am out of 'for' life\")\n",
    "\n",
    "print(\"###############\")\n",
    "# find all numbers between 200 and 400 that are divisible by 3 \"and\" 5 \"and\" 7 \n",
    "for num in range(200, 401):\n",
    "    if num % 3 == 0 and num % 5 == 0 and num % 7 == 0:\n",
    "        print(num, end = \" \")"
   ]
  },
  {
   "cell_type": "code",
   "execution_count": null,
   "id": "c3a8e370-0013-4960-896f-f508cfefa78d",
   "metadata": {},
   "outputs": [
    {
     "name": "stdout",
     "output_type": "stream",
     "text": [
      "201 203 204 207 210 213 216 217 219 222 224 225 228 231 234 237 238 240 243 245 246 249 252 255 258 259 261 264 266 267 270 273 276 279 280 282 285 287 288 291 294 297 300 301 303 306 308 309 312 315 318 321 322 324 327 329 330 333 336 339 342 343 345 348 350 351 354 357 360 363 364 366 369 371 372 375 378 381 384 385 387 390 392 393 396 399 "
     ]
    }
   ],
   "source": [
    "# find all numbers between 200 and 400 that are divisible by 3 \"or\" 7\n",
    "for num in range(200, 401):\n",
    "    if num % 3 == 0 or num % 7 == 0:\n",
    "        print(num, end = \" \")"
   ]
  },
  {
   "cell_type": "code",
   "execution_count": null,
   "id": "787d20ce-527e-4a04-85c8-9e7dabad3d6f",
   "metadata": {},
   "outputs": [
    {
     "name": "stdout",
     "output_type": "stream",
     "text": [
      "[210, 231, 252, 273, 294, 315, 336, 357, 378, 399]\n",
      "##############\n",
      "[210, 231, 252, 273, 294, 315, 336, 357, 378, 399]\n"
     ]
    }
   ],
   "source": [
    "# find all numbers between 200 and 400 that are divisible by 3 and 7, and save them in  a list\n",
    "\n",
    "#style1\n",
    "result = []\n",
    "for num in range(200, 401):\n",
    "    if num % 3 == 0 and num % 7 == 0:\n",
    "        result.append(num)\n",
    "print(result)\n",
    "print(\"##############\")\n",
    "\n",
    "#style2\n",
    "result = [num for num in range(200, 401) if num % 3 == 0 and num % 7 == 0]\n",
    "print(result)\n"
   ]
  },
  {
   "cell_type": "code",
   "execution_count": null,
   "id": "0e1cedd5-88ea-4634-aad8-de9bbca7e7f1",
   "metadata": {},
   "outputs": [
    {
     "name": "stdout",
     "output_type": "stream",
     "text": [
      "OMG: Somebody help me. Mr Else has trapped me in the loop 1\n",
      "OMG: Somebody help me. Mr Else has trapped me in the loop 4\n",
      "OMG: Somebody help me. Mr Else has trapped me in the loop 7\n",
      "OMG: Somebody help me. Mr Else has trapped me in the loop 8\n",
      "OMG: Somebody help me. Mr Else has trapped me in the loop 15\n",
      "Good bye. I am breaking out of the loop. Thanks Mr If\n"
     ]
    }
   ],
   "source": [
    "numbers = [1, 4, 7, 8, 15, 20, 35, 45, 55]\n",
    "for i in numbers:\n",
    "    if i > 15:\n",
    "        # break the loop\n",
    "        print(\"Good bye. I am breaking out of the loop. Thanks Mr If\")\n",
    "        break\n",
    "    else:\n",
    "        print(f\"OMG: Somebody help me. Mr Else has trapped me in the loop {i}\")"
   ]
  },
  {
   "cell_type": "code",
   "execution_count": null,
   "id": "464c11c9-b3ac-4808-b4b2-0fdb974f8eab",
   "metadata": {},
   "outputs": [
    {
     "name": "stdout",
     "output_type": "stream",
     "text": [
      "Total number of a is: 2\n",
      "####################\n",
      "Total number of s is: 10\n"
     ]
    }
   ],
   "source": [
    "# count number of chars in sentence\n",
    "name = \"saturn to mars\"\n",
    "count = 0\n",
    "for char in name:\n",
    "    if char != 'a':\n",
    "        continue\n",
    "    else:\n",
    "        count = count + 1\n",
    "\n",
    "print('Total number of a is:', count)\n",
    "print(\"####################\")\n",
    "\n",
    "\n",
    "name = \"The universe is a vast, poetic canvas of stars and silence, where every atom whispers the story of creation. \"\n",
    "count = 0\n",
    "for char in name:\n",
    "    if char != 's':\n",
    "        continue\n",
    "    else:\n",
    "        count = count + 1\n",
    "\n",
    "print(f'Total number of s is: {count}')"
   ]
  },
  {
   "cell_type": "code",
   "execution_count": null,
   "id": "b32e3ebf-af33-4134-afd2-e9c958ace23e",
   "metadata": {},
   "outputs": [],
   "source": []
  }
 ],
 "metadata": {
  "kernelspec": {
   "display_name": "Python 3",
   "language": "python",
   "name": "python3"
  },
  "language_info": {
   "codemirror_mode": {
    "name": "ipython",
    "version": 3
   },
   "file_extension": ".py",
   "mimetype": "text/x-python",
   "name": "python",
   "nbconvert_exporter": "python",
   "pygments_lexer": "ipython3",
   "version": "3.11.2"
  }
 },
 "nbformat": 4,
 "nbformat_minor": 5
}
