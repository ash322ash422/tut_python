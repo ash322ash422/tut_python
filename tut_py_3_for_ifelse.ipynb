{
 "cells": [
  {
   "cell_type": "markdown",
   "id": "d42fed27-2540-47d1-b144-8ddc6650e58f",
   "metadata": {},
   "source": [
    "### For Loop"
   ]
  },
  {
   "cell_type": "code",
   "execution_count": 15,
   "id": "de9d4088-3424-4b40-b27f-b8521a329737",
   "metadata": {},
   "outputs": [
    {
     "name": "stdout",
     "output_type": "stream",
     "text": [
      "hello\n",
      "hello\n",
      "hello\n",
      "hello\n"
     ]
    }
   ],
   "source": [
    "print(\"hello\")\n",
    "print(\"hello\")\n",
    "print(\"hello\")\n",
    "print(\"hello\")"
   ]
  },
  {
   "cell_type": "code",
   "execution_count": 18,
   "id": "80f57696-6852-4cae-a0c4-28e84b85da9a",
   "metadata": {},
   "outputs": [
    {
     "name": "stdout",
     "output_type": "stream",
     "text": [
      "hello\n",
      "hello\n",
      "hello\n",
      "hello\n"
     ]
    }
   ],
   "source": [
    "for i in [0,1,2,3]:\n",
    "    print(\"hello\")"
   ]
  },
  {
   "cell_type": "code",
   "execution_count": 3,
   "id": "1518cbca-0181-4c16-938f-b6360303155e",
   "metadata": {},
   "outputs": [
    {
     "name": "stdout",
     "output_type": "stream",
     "text": [
      "hello\n",
      "...sita\n",
      "hello\n",
      "...sita\n",
      "hello\n",
      "...sita\n",
      "hello\n",
      "...sita\n"
     ]
    }
   ],
   "source": [
    "for i in [0,1,2,3]:\n",
    "    print(\"hello\")\n",
    "    print(\"...sita\")"
   ]
  },
  {
   "cell_type": "code",
   "execution_count": 4,
   "id": "aba16346-771a-4a2a-8dc5-6e87edf04862",
   "metadata": {},
   "outputs": [
    {
     "name": "stdout",
     "output_type": "stream",
     "text": [
      "[0, 1, 2, 3]\n"
     ]
    }
   ],
   "source": [
    "list_range = list(range(0,4))\n",
    "print(list_range)"
   ]
  },
  {
   "cell_type": "code",
   "execution_count": 1,
   "id": "ff0e2f01-0410-42c7-931b-777c8a588c4c",
   "metadata": {},
   "outputs": [
    {
     "name": "stdout",
     "output_type": "stream",
     "text": [
      "hello\n",
      "...sita\n",
      "hello\n",
      "...sita\n",
      "hello\n",
      "...sita\n",
      "hello\n",
      "...sita\n"
     ]
    }
   ],
   "source": [
    "list_range = list(range(0,4))\n",
    "for i in list_range:\n",
    "    print(\"hello\")\n",
    "    print(\"...sita\")"
   ]
  },
  {
   "cell_type": "code",
   "execution_count": 2,
   "id": "825ec704-f4ec-41df-b0cd-c76bf9f8e5c8",
   "metadata": {},
   "outputs": [
    {
     "name": "stdout",
     "output_type": "stream",
     "text": [
      "hello\n",
      "...monica\n",
      "hello\n",
      "...monica\n",
      "hello\n",
      "...monica\n",
      "hello\n",
      "...monica\n",
      "hello\n",
      "...monica\n",
      "hello\n",
      "...monica\n",
      "hello\n",
      "...monica\n",
      "hello\n",
      "...monica\n"
     ]
    }
   ],
   "source": [
    "list_range = list(range(0,8))\n",
    "for i in list_range:\n",
    "    print(\"hello\")\n",
    "    print(\"...monica\")"
   ]
  },
  {
   "cell_type": "code",
   "execution_count": 8,
   "id": "e616c1ab-a509-4e35-b8f9-fc7831fb36cf",
   "metadata": {},
   "outputs": [
    {
     "name": "stdout",
     "output_type": "stream",
     "text": [
      "The i value is 0\n",
      "The i value is 1\n",
      "The i value is 2\n",
      "The i value is 3\n",
      "The i value is 4\n",
      "The i value is 5\n",
      "The i value is 6\n",
      "The i value is 7\n"
     ]
    }
   ],
   "source": [
    "for i in range(0,8):\n",
    "    print(f\"The i value is {i}\")"
   ]
  },
  {
   "cell_type": "code",
   "execution_count": 9,
   "id": "17fc7ed4-f1e1-448b-8003-694f3b41f2c8",
   "metadata": {},
   "outputs": [
    {
     "name": "stdout",
     "output_type": "stream",
     "text": [
      "The i value is 0\n",
      "The i value is 3\n",
      "The i value is 6\n"
     ]
    }
   ],
   "source": [
    "for i in range(0,8,3):\n",
    "    print(f\"The i value is {i}\")"
   ]
  },
  {
   "cell_type": "code",
   "execution_count": 10,
   "id": "83658d8b-bff1-448c-8ef0-962cc48dc97c",
   "metadata": {},
   "outputs": [
    {
     "name": "stdout",
     "output_type": "stream",
     "text": [
      "100 103 106 109 112 115 118 121 124 127 130 133 136 139 142 145 148 "
     ]
    }
   ],
   "source": [
    "for i in range(100,150,3):\n",
    "    print(i,end=\" \")"
   ]
  },
  {
   "cell_type": "code",
   "execution_count": 28,
   "id": "1e3f5df0-5ad5-4a88-bbb3-28a8a9bf1f8c",
   "metadata": {},
   "outputs": [
    {
     "name": "stdout",
     "output_type": "stream",
     "text": [
      "apple\n",
      "banana\n",
      "cherry\n"
     ]
    }
   ],
   "source": [
    "fruits = [\"apple\", \"banana\", \"cherry\"]\n",
    "for fruit in fruits:\n",
    "    print(fruit)"
   ]
  },
  {
   "cell_type": "code",
   "execution_count": 6,
   "id": "ded904d5-8a83-417b-94cf-8dfc78a6a107",
   "metadata": {},
   "outputs": [
    {
     "name": "stdout",
     "output_type": "stream",
     "text": [
      "I love apple\n",
      "I love banana\n",
      "I love cherry\n"
     ]
    }
   ],
   "source": [
    "fruits = [\"apple\", \"banana\", \"cherry\"]\n",
    "for fruit in fruits:\n",
    "    print(f\"I love {fruit}\")"
   ]
  },
  {
   "cell_type": "code",
   "execution_count": 32,
   "id": "cd1f4b60-8ce9-4b03-a64f-478e6361c07a",
   "metadata": {},
   "outputs": [
    {
     "name": "stdout",
     "output_type": "stream",
     "text": [
      "[2, 4, 6, 8, 10]\n"
     ]
    }
   ],
   "source": [
    "numbers = [1, 2, 3, 4, 5]\n",
    "scaled_numbers = []\n",
    "for n in numbers:\n",
    "    scaled_n = n*2\n",
    "    scaled_numbers.append(scaled_n)\n",
    "\n",
    "print(scaled_numbers)"
   ]
  },
  {
   "cell_type": "code",
   "execution_count": 31,
   "id": "aa00c896-c597-4311-82ab-80bef34473f8",
   "metadata": {},
   "outputs": [
    {
     "name": "stdout",
     "output_type": "stream",
     "text": [
      "[2, 4, 6, 8, 10]\n"
     ]
    }
   ],
   "source": [
    "# Using for in List Comprehension\n",
    "numbers = [1, 2, 3, 4, 5]\n",
    "scaled_numbers = [x * 2 for x in numbers]  # Multiply each element by 2\n",
    "print(scaled_numbers)  # Output: [2, 4, 6, 8, 10]"
   ]
  },
  {
   "cell_type": "code",
   "execution_count": 30,
   "id": "731ebcc0-3e39-438f-89d7-003767adbf48",
   "metadata": {},
   "outputs": [
    {
     "name": "stdout",
     "output_type": "stream",
     "text": [
      "1 x 1 = 1\n",
      "1 x 2 = 2\n",
      "1 x 3 = 3\n",
      "1 x 4 = 4\n",
      "\n",
      "2 x 1 = 2\n",
      "2 x 2 = 4\n",
      "2 x 3 = 6\n",
      "2 x 4 = 8\n",
      "\n",
      "3 x 1 = 3\n",
      "3 x 2 = 6\n",
      "3 x 3 = 9\n",
      "3 x 4 = 12\n",
      "\n",
      "4 x 1 = 4\n",
      "4 x 2 = 8\n",
      "4 x 3 = 12\n",
      "4 x 4 = 16\n",
      "\n"
     ]
    }
   ],
   "source": [
    "# for inside for loop\n",
    "for i in range(1, 5):  \n",
    "    for j in range(1, 5):  \n",
    "        print(f\"{i} x {j} = {i * j}\")  \n",
    "    print()  # Print a blank line after each table"
   ]
  },
  {
   "cell_type": "markdown",
   "id": "05ba9f55-4226-41f1-a7b8-8c82fe190439",
   "metadata": {},
   "source": [
    "## if - else\n",
    "```\n",
    "if  [boolean_expression1]:\n",
    "    statements1\n",
    "elif [boolean_expression2]:\n",
    "    statements2\n",
    "elif [boolean_expression3]:\n",
    "    statements3\n",
    "else\n",
    "    statements4\n",
    "```     \n",
    "\n"
   ]
  },
  {
   "cell_type": "code",
   "execution_count": 2,
   "id": "5221b0b0-aea6-4cfc-9e5e-05f6f11cedc8",
   "metadata": {},
   "outputs": [
    {
     "name": "stdout",
     "output_type": "stream",
     "text": [
      "x is greatenr than 5\n",
      "I am happy for x\n",
      "are you happy for x?\n"
     ]
    }
   ],
   "source": [
    "x = 10\n",
    "if x > 5:\n",
    "    print(\"x is greatenr than 5\")\n",
    "    print(\"I am happy for x\")\n",
    "    print(\"are you happy for x?\")\n",
    "    "
   ]
  },
  {
   "cell_type": "code",
   "execution_count": 3,
   "id": "fa01516e-5ea3-48f4-8e83-1244905d2912",
   "metadata": {},
   "outputs": [
    {
     "name": "stdout",
     "output_type": "stream",
     "text": [
      "x is greatenr than 5\n",
      "I am happy for x\n",
      "are you happy for x?\n"
     ]
    }
   ],
   "source": [
    "x = 10 # change x to 4\n",
    "if x > 5:\n",
    "    print(\"x is greater than 5\")\n",
    "    print(\"I am happy for x\")\n",
    "print(\"are you happy for x?\")    \n",
    "    "
   ]
  },
  {
   "cell_type": "code",
   "execution_count": 8,
   "id": "9cff667a-8710-48b3-9cd4-2fd3abbcea05",
   "metadata": {},
   "outputs": [
    {
     "name": "stdout",
     "output_type": "stream",
     "text": [
      "x is less than 5\n"
     ]
    }
   ],
   "source": [
    "x = 2\n",
    "\n",
    "# if x is less than 5, print less that 5 , else print greater than\n",
    "if x < 5:\n",
    "    print(\"x is less than 5\")\n",
    "else:\n",
    "    print(\"x is not less than 5\")"
   ]
  },
  {
   "cell_type": "code",
   "execution_count": 5,
   "id": "70dae8a0-9f62-4cbc-a699-254b73cc844a",
   "metadata": {},
   "outputs": [
    {
     "name": "stdin",
     "output_type": "stream",
     "text": [
      "Enter your name:  ash\n",
      "Enter your age:  45\n"
     ]
    },
    {
     "name": "stdout",
     "output_type": "stream",
     "text": [
      "Hello ash! You are younger than 100 year old man.\n"
     ]
    }
   ],
   "source": [
    "# Program to calculate the year user turns 100, with an if condition\n",
    "name = input(\"Enter your name: \")\n",
    "age = int(input(\"Enter your age: \"))\n",
    "\n",
    "if age < 100:\n",
    "    print(f\"Hello {name}! You are younger than 100 year old man.\")\n",
    "elif age == 100:\n",
    "    print(f\"Wow {name}, you're already 100 years old this year!\")\n",
    "else:\n",
    "    print(f\"Hey {name}, you are older than 100 years old man.\")\n"
   ]
  },
  {
   "cell_type": "code",
   "execution_count": null,
   "id": "e1564d31-7736-486e-a83a-41feefcbc336",
   "metadata": {},
   "outputs": [],
   "source": [
    "# Program to calculate the year user turns 100, with an if condition\n",
    "\n",
    "name = input(\"Enter your name: \")\n",
    "age = int(input(\"Enter your age: \"))\n",
    "\n",
    "current_year = 2025\n",
    "\n",
    "if age < 100:\n",
    "    year_when_100 = current_year + (100 - age)\n",
    "    print(f\"Hello {name}! You will turn 100 years old in the year {year_when_100}.\")\n",
    "elif age == 100:\n",
    "    print(f\"Wow {name}, you're already 100 years old this year!\")\n",
    "else:\n",
    "    print(f\"Hey {name}, you turned 100 years old {age - 100} years ago.\")\n"
   ]
  },
  {
   "cell_type": "code",
   "execution_count": 10,
   "id": "98492e67-7dd9-4a18-b929-a68f2d6f13f0",
   "metadata": {},
   "outputs": [
    {
     "name": "stdout",
     "output_type": "stream",
     "text": [
      "Grade: B\n",
      "Good work\n"
     ]
    }
   ],
   "source": [
    "marks = 85\n",
    "\n",
    "if marks >= 90:\n",
    "    print(\"Grade: A\")\n",
    "    print(\"Congratulations. Your parents would be proud\")\n",
    "    \n",
    "elif marks >= 80:\n",
    "    print(\"Grade: B\")\n",
    "    print(\"Good work\")\n",
    "    \n",
    "elif marks >= 70:\n",
    "    print(\"Grade: C\")\n",
    "    print(\"Good work, but you can  do better\")\n",
    "    \n",
    "elif marks >= 60:\n",
    "    print(\"Grade: D\")\n",
    "    print(\"Buddy whats going on ? I have confidence that u can do better\")\n",
    "    \n",
    "else:\n",
    "    print(\"Grade: F\")\n",
    "    print(\"Buddy wake up. Start studying.\")\n"
   ]
  },
  {
   "cell_type": "code",
   "execution_count": null,
   "id": "9e4bd387-5b56-4c76-b0fa-63e43ae599ba",
   "metadata": {},
   "outputs": [],
   "source": [
    "### FIX ME\n",
    "# marks = 85\n",
    "\n",
    "# if 100 <= marks <= 90:\n",
    "#     print(\"Grade: A\")\n",
    "#     print(\"Congratulations. Your parents would be proud\")\n",
    "    \n",
    "# elif 90 < marks <= 80:\n",
    "#     print(\"Grade: B\")\n",
    "#     print(\"Good work\")\n",
    "    \n",
    "# elif 80 < marks <= 70:\n",
    "#     print(\"Grade: C\")\n",
    "#     print(\"Good work, but you can  do better\")\n",
    "    \n",
    "# elif 70 < marks <= 60:\n",
    "#     print(\"Grade: D\")\n",
    "#     print(\"Buddy whats going on ? I have confidence that u can do better\")\n",
    "    \n",
    "# else:\n",
    "#     print(\"Grade: F\")\n",
    "#     print(\"Buddy wake up. Start studying.\")\n"
   ]
  },
  {
   "cell_type": "code",
   "execution_count": null,
   "id": "99fafc0c-a11b-44ae-9f39-f3a22f387968",
   "metadata": {},
   "outputs": [],
   "source": [
    "num = 7\n",
    "\n",
    "if num % 2 == 0:\n",
    "    print(\"Even number\")\n",
    "else:\n",
    "    print(\"Odd number\")\n"
   ]
  },
  {
   "cell_type": "code",
   "execution_count": null,
   "id": "2eb4dd39-d4c6-4b1e-88a9-b660490d6641",
   "metadata": {},
   "outputs": [],
   "source": [
    "#  Checking User Login Credentials\n",
    "username = \"admin\"\n",
    "password = \"1234\"\n",
    "\n",
    "if username == \"admin\" and password == \"1234\":\n",
    "    print(\"Login successful!\")\n",
    "else:\n",
    "    print(\"Invalid username or password.\")\n"
   ]
  },
  {
   "cell_type": "markdown",
   "id": "ecd5f73f-c276-466d-acaa-3603235cc8f1",
   "metadata": {},
   "source": [
    "## Using if with in (Checking List Membership)"
   ]
  },
  {
   "cell_type": "code",
   "execution_count": 36,
   "id": "11d71c83-44e8-4caa-8963-02020bbca355",
   "metadata": {},
   "outputs": [
    {
     "name": "stdout",
     "output_type": "stream",
     "text": [
      "Milk is on the list.\n"
     ]
    }
   ],
   "source": [
    "shopping_list = [\"milk\", \"bread\", \"eggs\"]\n",
    "\n",
    "if \"milk\" in shopping_list:\n",
    "    print(\"Milk is on the list.\")\n",
    "else:\n",
    "    print(\"Milk is not on the list.\")\n"
   ]
  },
  {
   "cell_type": "code",
   "execution_count": 40,
   "id": "3f149afa-c1a2-4a11-ab69-5677e946bf97",
   "metadata": {},
   "outputs": [
    {
     "name": "stdout",
     "output_type": "stream",
     "text": [
      "milk is on the list.\n"
     ]
    }
   ],
   "source": [
    "shopping_list = [\"milk\", \"bread\", \"eggs\"]\n",
    "item = \"milk\"\n",
    "\n",
    "if item in shopping_list:\n",
    "    print(f\"{item} is on the list.\")\n",
    "else:\n",
    "    print(f\"{item} is not on the list.\")\n"
   ]
  },
  {
   "cell_type": "code",
   "execution_count": 41,
   "id": "2701eb86-e40f-49b5-b846-e80518449641",
   "metadata": {},
   "outputs": [
    {
     "name": "stdout",
     "output_type": "stream",
     "text": [
      "butter is not on the list.\n"
     ]
    }
   ],
   "source": [
    "shopping_list = [\"milk\", \"bread\", \"eggs\"]\n",
    "item = \"butter\"\n",
    "\n",
    "if item in shopping_list:\n",
    "    print(f\"{item} is on the list.\")\n",
    "else:\n",
    "    print(f\"{item} is not on the list.\")\n"
   ]
  },
  {
   "cell_type": "code",
   "execution_count": 42,
   "id": "1c643cc6-4b00-4a32-917c-e319625db19d",
   "metadata": {},
   "outputs": [
    {
     "name": "stdout",
     "output_type": "stream",
     "text": [
      "You are eligible to drive.\n"
     ]
    }
   ],
   "source": [
    "# Nested if Statement\n",
    "age = 20\n",
    "has_license = True\n",
    "\n",
    "if age >= 18:\n",
    "    if has_license:\n",
    "        print(\"You are eligible to drive.\")\n",
    "    else:\n",
    "        print(\"You are eligible to drive, but you need a driving license.\")\n",
    "else:\n",
    "    print(\"You are too young to drive.\")\n"
   ]
  },
  {
   "cell_type": "markdown",
   "id": "81b31fc3-73c6-4bd3-93d1-2cbdfa8e443c",
   "metadata": {},
   "source": [
    "## for and if"
   ]
  },
  {
   "cell_type": "code",
   "execution_count": 11,
   "id": "a08f4fdd-15d6-4a75-80b6-115aaec80dc8",
   "metadata": {},
   "outputs": [
    {
     "name": "stdout",
     "output_type": "stream",
     "text": [
      "210 231 252 273 294 315 336 357 378 399 "
     ]
    }
   ],
   "source": [
    "# find all numbers between 200 and 400 that are divisible by 3 and 7\n",
    "for num in range(200, 401):\n",
    "    if num % 3 == 0 and num % 7 == 0:\n",
    "        print(num, end = \" \")"
   ]
  },
  {
   "cell_type": "code",
   "execution_count": 12,
   "id": "63bf5f6e-e804-4e59-86cf-ca09661ccb1f",
   "metadata": {},
   "outputs": [
    {
     "name": "stdout",
     "output_type": "stream",
     "text": [
      "201 203 204 207 210 213 216 217 219 222 224 225 228 231 234 237 238 240 243 245 246 249 252 255 258 259 261 264 266 267 270 273 276 279 280 282 285 287 288 291 294 297 300 301 303 306 308 309 312 315 318 321 322 324 327 329 330 333 336 339 342 343 345 348 350 351 354 357 360 363 364 366 369 371 372 375 378 381 384 385 387 390 392 393 396 399 "
     ]
    }
   ],
   "source": [
    "# find all numbers between 200 and 400 that are divisible by 3 or 7\n",
    "for num in range(200, 401):\n",
    "    if num % 3 == 0 or num % 7 == 0:\n",
    "        print(num, end = \" \")"
   ]
  },
  {
   "cell_type": "code",
   "execution_count": 13,
   "id": "abfa2cd3-81e6-4947-ad6b-24dc7967619f",
   "metadata": {},
   "outputs": [
    {
     "name": "stdout",
     "output_type": "stream",
     "text": [
      "[201, 203, 204, 207, 210, 213, 216, 217, 219, 222, 224, 225, 228, 231, 234, 237, 238, 240, 243, 245, 246, 249, 252, 255, 258, 259, 261, 264, 266, 267, 270, 273, 276, 279, 280, 282, 285, 287, 288, 291, 294, 297, 300, 301, 303, 306, 308, 309, 312, 315, 318, 321, 322, 324, 327, 329, 330, 333, 336, 339, 342, 343, 345, 348, 350, 351, 354, 357, 360, 363, 364, 366, 369, 371, 372, 375, 378, 381, 384, 385, 387, 390, 392, 393, 396, 399]\n"
     ]
    }
   ],
   "source": [
    "# find all numbers between 200 and 400 that are divisible by 3 or 7, and save them in  a list\n",
    "result = [num for num in range(200, 401) if num % 3 == 0 or num % 7 == 0]\n",
    "print(result)\n"
   ]
  },
  {
   "cell_type": "code",
   "execution_count": null,
   "id": "df11b52f-d309-4b24-b2dc-7499d8b4b564",
   "metadata": {},
   "outputs": [],
   "source": []
  }
 ],
 "metadata": {
  "kernelspec": {
   "display_name": "Python 3 (ipykernel)",
   "language": "python",
   "name": "python3"
  },
  "language_info": {
   "codemirror_mode": {
    "name": "ipython",
    "version": 3
   },
   "file_extension": ".py",
   "mimetype": "text/x-python",
   "name": "python",
   "nbconvert_exporter": "python",
   "pygments_lexer": "ipython3",
   "version": "3.11.2"
  }
 },
 "nbformat": 4,
 "nbformat_minor": 5
}
