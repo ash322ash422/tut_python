{
 "cells": [
  {
   "cell_type": "markdown",
   "id": "accbac1e-d592-4a95-a295-88ed9e7d093c",
   "metadata": {},
   "source": [
    "## Mapping Type\n",
    "dict contains elements of type Key : value pairs.\n",
    "```\n",
    "d = {\"a\": 1,\n",
    "     \"b\": 2,\n",
    "     \"c\": 4\n",
    "}\n",
    "```"
   ]
  },
  {
   "cell_type": "markdown",
   "id": "dd4a60d5-4100-4f71-a1cc-4696a1f68dbd",
   "metadata": {},
   "source": [
    "### 1️. Creating and Accessing a Dictionary\n",
    "Scenario: Storing student scores in a dictionary."
   ]
  },
  {
   "cell_type": "code",
   "execution_count": 1,
   "id": "1dffc368-8dca-42c1-9920-125c751d2529",
   "metadata": {},
   "outputs": [
    {
     "name": "stdout",
     "output_type": "stream",
     "text": [
      "{'Ram': 85, 'Carlos': 92, 'Roman': 78}\n",
      "<class 'dict'>\n"
     ]
    }
   ],
   "source": [
    "# creating dict: style1\n",
    "student_scores = {\"Ram\": 85, \n",
    "                  \"Carlos\": 92, \n",
    "                  \"Roman\": 78\n",
    "}\n",
    "\n",
    "print(student_scores)\n",
    "print(type(student_scores))"
   ]
  },
  {
   "cell_type": "code",
   "execution_count": 1,
   "id": "78e344a7-c5f8-4225-90a9-d56dfb8e5bda",
   "metadata": {},
   "outputs": [
    {
     "name": "stdout",
     "output_type": "stream",
     "text": [
      "{'Ram': 85, 'Carlos': 92, 'Roman': 78}\n",
      "<class 'dict'>\n"
     ]
    }
   ],
   "source": [
    "# creating dict: style2\n",
    "student_scores = {}\n",
    "student_scores['Ram'] = 85\n",
    "student_scores['Carlos'] = 92\n",
    "student_scores['Roman'] = 78\n",
    "\n",
    "print(student_scores)\n",
    "print(type(student_scores))"
   ]
  },
  {
   "cell_type": "code",
   "execution_count": 2,
   "id": "2ea4fc56-44d2-4ae6-9b68-cec71728c280",
   "metadata": {},
   "outputs": [
    {
     "name": "stdout",
     "output_type": "stream",
     "text": [
      "{'Ram': 85, 'Carlos': 92, 'Roman': 78}\n",
      "<class 'dict'>\n"
     ]
    }
   ],
   "source": [
    "# optional\n",
    "# creating dict: style3\n",
    "l = [\n",
    "    ('Ram',85),\n",
    "    ('Carlos',92),\n",
    "    ('Roman', 78)\n",
    "]\n",
    "\n",
    "student_scores = dict(l)\n",
    "print(student_scores)\n",
    "print(type(student_scores))"
   ]
  },
  {
   "cell_type": "code",
   "execution_count": 3,
   "id": "3d485ea5-36ef-4ecd-be6f-c639004c769e",
   "metadata": {},
   "outputs": [
    {
     "name": "stdout",
     "output_type": "stream",
     "text": [
      "{'Ram': 85, 'Carlos': 92, 'Roman': 78}\n"
     ]
    }
   ],
   "source": [
    "# Optional\n",
    "# creating dict: style4 (Using dict with zip()) \n",
    "names = [\"Ram\", \"Carlos\", \"Roman\"]\n",
    "scores = [85, 92, 78]\n",
    "\n",
    "student_scores = dict(zip(names, scores))\n",
    "\n",
    "print(student_scores)\n"
   ]
  },
  {
   "cell_type": "code",
   "execution_count": 4,
   "id": "ba1da969-6a07-4dc9-9cd7-f241a70d1377",
   "metadata": {},
   "outputs": [
    {
     "name": "stdout",
     "output_type": "stream",
     "text": [
      "85\n",
      "92\n"
     ]
    }
   ],
   "source": [
    "# Accessing values using keys\n",
    "\n",
    "student_scores = {\"Surendar\": 85, \n",
    "                  \"Bob\": 92,\n",
    "                  \"Tanner\": 78\n",
    "}\n",
    "\n",
    "print(student_scores[\"Surendar\"])  # Output: 85\n",
    "print(student_scores.get(\"Bob\"))  # Output: 92"
   ]
  },
  {
   "cell_type": "code",
   "execution_count": 5,
   "id": "d153e57d-89be-48f9-8dd3-65f7942c8df8",
   "metadata": {},
   "outputs": [
    {
     "name": "stdout",
     "output_type": "stream",
     "text": [
      "dict_keys(['Surendar', 'Bob', 'Tanner'])\n"
     ]
    }
   ],
   "source": [
    "# show me all keys\n",
    "keys = student_scores.keys()\n",
    "print(keys)"
   ]
  },
  {
   "cell_type": "code",
   "execution_count": 6,
   "id": "f238d10c-9440-4c00-b624-4c68d692e4fe",
   "metadata": {},
   "outputs": [
    {
     "name": "stdout",
     "output_type": "stream",
     "text": [
      "dict_values([85, 92, 78])\n"
     ]
    }
   ],
   "source": [
    "# show me all values\n",
    "keys = student_scores.values()\n",
    "print(keys)"
   ]
  },
  {
   "cell_type": "code",
   "execution_count": 7,
   "id": "b9ce7070-cb13-406e-835d-3bf98753d0e3",
   "metadata": {},
   "outputs": [
    {
     "name": "stdout",
     "output_type": "stream",
     "text": [
      "dict_items([('Surendar', 85), ('Bob', 92), ('Tanner', 78)])\n"
     ]
    }
   ],
   "source": [
    "items = student_scores.items()\n",
    "print(items)"
   ]
  },
  {
   "cell_type": "code",
   "execution_count": 10,
   "id": "c1f0928f-f7b2-4515-aad6-c90477fd048c",
   "metadata": {},
   "outputs": [
    {
     "name": "stdout",
     "output_type": "stream",
     "text": [
      "3\n"
     ]
    }
   ],
   "source": [
    "print(len(student_scores))"
   ]
  },
  {
   "cell_type": "markdown",
   "id": "477ce400-b749-4a71-8a9b-3cf8fb86d83e",
   "metadata": {},
   "source": [
    "### 2️. Adding and Modifying Dictionary Entries\n",
    "Scenario: Adding a new student's score and updating an existing one"
   ]
  },
  {
   "cell_type": "code",
   "execution_count": 11,
   "id": "4b035212-e669-4f6c-bed7-bc4f4072f7cd",
   "metadata": {},
   "outputs": [
    {
     "name": "stdout",
     "output_type": "stream",
     "text": [
      "before adding:{'Surendar': 85, 'Bob': 92, 'Tanner': 78}\n",
      "after adding:{'Surendar': 85, 'Bob': 92, 'Tanner': 78, 'David': 88}\n",
      "after update:{'Surendar': 90, 'Bob': 92, 'Tanner': 78, 'David': 88}\n"
     ]
    }
   ],
   "source": [
    "print(f\"before adding:{student_scores}\")\n",
    "student_scores[\"David\"] = 88  # Adding new key-value pair\n",
    "print(f\"after adding:{student_scores}\")\n",
    "\n",
    "student_scores[\"Surendar\"] = 90  # Updating value\n",
    "print(f\"after update:{student_scores}\")"
   ]
  },
  {
   "cell_type": "markdown",
   "id": "d1deae01-3e12-4366-91eb-c5e11bb902b2",
   "metadata": {},
   "source": [
    "### 3️. (OPTIONAL) Iterating Over a Dictionary using for loop\n",
    "Scenario: Printing each student's name and score."
   ]
  },
  {
   "cell_type": "code",
   "execution_count": 12,
   "id": "0bd422bb-8be7-4a10-8d97-d074b9117eaf",
   "metadata": {},
   "outputs": [
    {
     "name": "stdout",
     "output_type": "stream",
     "text": [
      "Surendar: 90\n",
      "Bob: 92\n",
      "Tanner: 78\n",
      "David: 88\n",
      "Done\n"
     ]
    }
   ],
   "source": [
    "for name, score in student_scores.items():\n",
    "    print(f\"{name}: {score}\")\n",
    "\n",
    "print(\"Done\")"
   ]
  },
  {
   "cell_type": "markdown",
   "id": "83a1da65-3ba9-4504-b56a-8ea7c4847321",
   "metadata": {},
   "source": [
    "### 4️. Checking for a Key in the Dictionary\n",
    "Scenario: Checking if a student's score is stored."
   ]
  },
  {
   "cell_type": "code",
   "execution_count": 18,
   "id": "788af760-a3dd-4547-8941-d3c22e8b414b",
   "metadata": {},
   "outputs": [
    {
     "name": "stdout",
     "output_type": "stream",
     "text": [
      "Eve's score is not found.\n"
     ]
    }
   ],
   "source": [
    "student_scores = {\"Surendar\": 85, \n",
    "                  \"Bob\": 92,\n",
    "                  \"Tanner\": 78\n",
    "}\n",
    "\n",
    "if \"Eve\" in student_scores:\n",
    "    print(\"Eve's score is available.\")\n",
    "else:\n",
    "    print(\"Eve's score is not found.\")\n"
   ]
  },
  {
   "cell_type": "markdown",
   "id": "e93c24d9-f77d-4151-95d8-f731fc567d3a",
   "metadata": {},
   "source": [
    "### 5️. Removing an Entry(or clearing) from a Dictionary\n",
    "Scenario: Removing a student's score."
   ]
  },
  {
   "cell_type": "code",
   "execution_count": 17,
   "id": "e347c87a-ae6c-4ce4-bc01-52d2fb202144",
   "metadata": {},
   "outputs": [
    {
     "name": "stdout",
     "output_type": "stream",
     "text": [
      "{'Surendar': 85, 'Tanner': 78}\n"
     ]
    }
   ],
   "source": [
    "# remove style1\n",
    "student_scores = {\"Surendar\": 85, \n",
    "                  \"Bob\": 92,\n",
    "                  \"Tanner\": 78\n",
    "}\n",
    "student_scores.pop(\"Bob\")  # Remove Charlie\n",
    "print(student_scores)"
   ]
  },
  {
   "cell_type": "code",
   "execution_count": 19,
   "id": "5c5d1e1e-ad21-4947-853c-a76b718bf0e5",
   "metadata": {},
   "outputs": [
    {
     "name": "stdout",
     "output_type": "stream",
     "text": [
      "{'Surendar': 85, 'Tanner': 78}\n"
     ]
    }
   ],
   "source": [
    "# remove style2\n",
    "student_scores = {\"Surendar\": 85, \n",
    "                  \"Bob\": 92,\n",
    "                  \"Tanner\": 78\n",
    "}\n",
    "del student_scores['Bob']\n",
    "print(student_scores)"
   ]
  },
  {
   "cell_type": "code",
   "execution_count": 20,
   "id": "b8a2c3e6-1b0d-4490-a48c-b5f86fd17407",
   "metadata": {},
   "outputs": [
    {
     "name": "stdout",
     "output_type": "stream",
     "text": [
      "{}\n"
     ]
    }
   ],
   "source": [
    "# remove style3: remove all entries\n",
    "student_scores = {\"Surendar\": 85, \n",
    "                  \"Bob\": 92,\n",
    "                  \"Tanner\": 78\n",
    "}\n",
    "student_scores.clear()\n",
    "print(student_scores)"
   ]
  },
  {
   "cell_type": "markdown",
   "id": "3cc5089a-2ef0-4562-af00-8768c4dc0e02",
   "metadata": {},
   "source": [
    "### 6. Nested Dictionary (List or Dictionary Inside a Dictionary)\n",
    "Scenario: Storing student information including multiple details."
   ]
  },
  {
   "cell_type": "code",
   "execution_count": 14,
   "id": "50a62c0f-d2f9-4be9-af85-0a8cd64d4d0c",
   "metadata": {},
   "outputs": [
    {
     "name": "stdout",
     "output_type": "stream",
     "text": [
      "{'Swamy': [50, 1.7, 'Kerala'], 'Tinku': [43, 1.3, 'Delhi'], 'Happy': [32, 1.8, 'noida']}\n",
      "[32, 1.8, 'noida']\n",
      "1.8\n"
     ]
    }
   ],
   "source": [
    "students = { # key=name, value=[age,height,location]\n",
    "    \"Swamy\":  [50,1.7,\"Kerala\"],\n",
    "    \"Tinku\"  :  [43,1.3,\"Delhi\"],\n",
    "    \"Happy\":[32, 1.8, \"noida\"]\n",
    "}\n",
    "print(students)\n",
    "print(students['Happy'])\n",
    "print(students['Happy'][1])"
   ]
  },
  {
   "cell_type": "code",
   "execution_count": 12,
   "id": "5a90230f-fdf8-41c3-a1e0-305d69f1f2e4",
   "metadata": {},
   "outputs": [
    {
     "name": "stdout",
     "output_type": "stream",
     "text": [
      "{'Alice': {'age': 20, 'grade': 'A'}, 'Sita': {'age': 45, 'grade': 'F'}, 'Bob': {'age': 22, 'grade': 'B'}}\n",
      "{'age': 20, 'grade': 'A'}\n",
      "A\n"
     ]
    }
   ],
   "source": [
    "\n",
    "students = {\n",
    "    \"Alice\": {\"age\": 20, \"grade\": \"A\"},\n",
    "    \"Sita\" : {\"age\": 45, \"grade\": \"F\"},\n",
    "    \"Bob\"  : {\"age\": 22, \"grade\": \"B\"},\n",
    "    \n",
    "}\n",
    "\n",
    "print(students)  \n",
    "print(students[\"Alice\"])  \n",
    "print(students[\"Alice\"][\"grade\"])  \n"
   ]
  },
  {
   "cell_type": "markdown",
   "id": "1ca235fc-9dea-4c44-aef5-5c4eaa136c2f",
   "metadata": {},
   "source": [
    "# Advanced operations in dictionary\n",
    "### 1️. (SKIP) Sorting a Dictionary by Keys and Values\n",
    "Scenario: Sorting student scores in ascending and descending order."
   ]
  },
  {
   "cell_type": "code",
   "execution_count": 71,
   "id": "6762d86b-9340-41ac-9d23-ccdfdd676b47",
   "metadata": {},
   "outputs": [
    {
     "name": "stdout",
     "output_type": "stream",
     "text": [
      "{'Alice': 85, 'Bob': 92, 'Charlie': 78, 'David': 88}\n",
      "{'Charlie': 78, 'Alice': 85, 'David': 88, 'Bob': 92}\n",
      "{'Bob': 92, 'David': 88, 'Alice': 85, 'Charlie': 78}\n"
     ]
    }
   ],
   "source": [
    "student_scores = {\"Alice\": 85, \"Bob\": 92, \"Charlie\": 78, \"David\": 88}\n",
    "\n",
    "# Sort by keys (alphabetically)\n",
    "sorted_by_keys = dict(sorted(student_scores.items()))\n",
    "print(sorted_by_keys)  \n",
    "\n",
    "# Sort by values (ascending)\n",
    "sorted_by_values = dict(sorted(student_scores.items(), key=lambda item: item[1]))\n",
    "print(sorted_by_values)  \n",
    "\n",
    "# Sort by values (descending)\n",
    "sorted_by_values_desc = dict(sorted(student_scores.items(), key=lambda item: item[1], reverse=True))\n",
    "print(sorted_by_values_desc)  "
   ]
  },
  {
   "cell_type": "markdown",
   "id": "9f5fed48-79a4-4d9d-b5a9-45fba31bb68e",
   "metadata": {},
   "source": [
    "### 2️. Merging Two Dictionaries (update() & | Operator)\n",
    "Scenario: Merging student scores from two classes."
   ]
  },
  {
   "cell_type": "code",
   "execution_count": 72,
   "id": "428c8aeb-5b3e-4b1a-8287-9e122f876795",
   "metadata": {},
   "outputs": [
    {
     "name": "stdout",
     "output_type": "stream",
     "text": [
      "{'Alice': 85, 'Bob': 92, 'Charlie': 78, 'David': 88}\n",
      "{'Alice': 85, 'Bob': 92, 'Charlie': 78, 'David': 88}\n"
     ]
    }
   ],
   "source": [
    "class_a = {\"Alice\": 85, \"Bob\": 92}\n",
    "class_b = {\"Charlie\": 78, \"David\": 88}\n",
    "\n",
    "# Method 1: Using update()\n",
    "merged_scores = class_a.copy()\n",
    "merged_scores.update(class_b)\n",
    "print(merged_scores)\n",
    "\n",
    "# Method 2: Using `|` operator (Python 3.9+)\n",
    "merged_scores = class_a | class_b\n",
    "print(merged_scores)\n"
   ]
  },
  {
   "cell_type": "markdown",
   "id": "3e45a8ae-be3a-4f1e-a207-8755ffe2fd11",
   "metadata": {},
   "source": [
    "### 3. Dictionary Filtering (Keeping Items That Meet a Condition)\n",
    "Scenario: Keeping only students who scored above 80."
   ]
  },
  {
   "cell_type": "code",
   "execution_count": 73,
   "id": "31bae92a-4d94-4e7b-8663-255bd5b94b6e",
   "metadata": {},
   "outputs": [
    {
     "name": "stdout",
     "output_type": "stream",
     "text": [
      "{'Alice': 85, 'Bob': 92, 'David': 88}\n"
     ]
    }
   ],
   "source": [
    "student_scores = {\"Alice\": 85,\n",
    "                  \"Bob\": 92,\n",
    "                  \"Charlie\": 78,\n",
    "                  \"David\": 88\n",
    "}\n",
    "\n",
    "filtered_scores = {k: v for k, v in student_scores.items() if v > 80}\n",
    "print(filtered_scores)"
   ]
  },
  {
   "cell_type": "markdown",
   "id": "09f645d4-1309-4919-a5e6-4e8d830a360c",
   "metadata": {},
   "source": [
    "# Sets\n",
    "### 1️. Creating set using { }"
   ]
  },
  {
   "cell_type": "code",
   "execution_count": 9,
   "id": "4edd019e-2e43-46d2-8923-ae09d755c861",
   "metadata": {},
   "outputs": [
    {
     "name": "stdout",
     "output_type": "stream",
     "text": [
      "{8, 10, 2, 4}\n",
      "<class 'set'>\n",
      "############\n",
      "{8, 10, 2, 4}\n",
      "<class 'set'>\n"
     ]
    }
   ],
   "source": [
    "even = {8, 4, 10, 2}\n",
    "print(even)\n",
    "print(type(even))\n",
    "print(\"############\")\n",
    "\n",
    "# lets add duplicates and they are removed\n",
    "even = {8, 4, 10, 2, 4, 4} \n",
    "print(even)\n",
    "print(type(even))"
   ]
  },
  {
   "cell_type": "code",
   "execution_count": 74,
   "id": "8038ed63-256f-4571-bd9a-9aa8536d870f",
   "metadata": {},
   "outputs": [
    {
     "name": "stdout",
     "output_type": "stream",
     "text": [
      "{'mars', 'saturn', 'jupyter'}\n"
     ]
    }
   ],
   "source": [
    "planets = {\"mars\", \"jupyter\", \"saturn\" } \n",
    "print(planets)  "
   ]
  },
  {
   "cell_type": "code",
   "execution_count": 75,
   "id": "7e3f6de9-3447-4aa3-89a9-2f95fbb94a31",
   "metadata": {},
   "outputs": [
    {
     "name": "stdout",
     "output_type": "stream",
     "text": [
      "{'mars', 'saturn', 'jupyter'}\n"
     ]
    }
   ],
   "source": [
    "planets = set([\"mars\", \"jupyter\", \"saturn\"]) # on list\n",
    "print(planets)  "
   ]
  },
  {
   "cell_type": "code",
   "execution_count": 76,
   "id": "97112f10-3ddd-4156-bd7b-b05ad1f10148",
   "metadata": {},
   "outputs": [
    {
     "name": "stdout",
     "output_type": "stream",
     "text": [
      "{'mars', 'saturn', 'jupyter'}\n"
     ]
    }
   ],
   "source": [
    "planets = set((\"mars\", \"jupyter\", \"saturn\")) # on tuple\n",
    "print(planets)  "
   ]
  },
  {
   "cell_type": "code",
   "execution_count": 77,
   "id": "130222ed-2434-4a9b-a41a-577ebf8572f8",
   "metadata": {},
   "outputs": [
    {
     "name": "stdout",
     "output_type": "stream",
     "text": [
      "{'banana', 'apple', 'cherry'}\n"
     ]
    }
   ],
   "source": [
    "# Scenario: Storing a list of unique fruits.\n",
    "fruits = {\"apple\", \"banana\", \"cherry\", \"apple\", \"apple\"}  # Duplicates are removed\n",
    "print(fruits)  "
   ]
  },
  {
   "cell_type": "code",
   "execution_count": 10,
   "id": "b18f55e3-d3a2-4981-891a-bffdf3093594",
   "metadata": {},
   "outputs": [
    {
     "ename": "TypeError",
     "evalue": "'set' object is not subscriptable",
     "output_type": "error",
     "traceback": [
      "\u001b[1;31m---------------------------------------------------------------------------\u001b[0m",
      "\u001b[1;31mTypeError\u001b[0m                                 Traceback (most recent call last)",
      "Cell \u001b[1;32mIn[10], line 3\u001b[0m\n\u001b[0;32m      1\u001b[0m \u001b[38;5;66;03m# accessing set\u001b[39;00m\n\u001b[0;32m      2\u001b[0m planets \u001b[38;5;241m=\u001b[39m {\u001b[38;5;124m\"\u001b[39m\u001b[38;5;124mmars\u001b[39m\u001b[38;5;124m\"\u001b[39m, \u001b[38;5;124m\"\u001b[39m\u001b[38;5;124mjupyter\u001b[39m\u001b[38;5;124m\"\u001b[39m, \u001b[38;5;124m\"\u001b[39m\u001b[38;5;124msaturn\u001b[39m\u001b[38;5;124m\"\u001b[39m } \n\u001b[1;32m----> 3\u001b[0m \u001b[38;5;28mprint\u001b[39m(\u001b[43mplanets\u001b[49m\u001b[43m[\u001b[49m\u001b[38;5;241;43m2\u001b[39;49m\u001b[43m]\u001b[49m)  \n",
      "\u001b[1;31mTypeError\u001b[0m: 'set' object is not subscriptable"
     ]
    }
   ],
   "source": [
    "# cannot accessing set: 'set' object is not subscriptable\n",
    "planets = {\"mars\", \"jupyter\", \"saturn\" } \n",
    "print(planets[2])  "
   ]
  },
  {
   "cell_type": "markdown",
   "id": "0df004c8-f07e-48c3-8bb1-e70c2699893d",
   "metadata": {},
   "source": [
    "### 2️. Adding and Removing Elements from a set\n",
    "Scenario: Managing a guest list for an event."
   ]
  },
  {
   "cell_type": "code",
   "execution_count": 78,
   "id": "04febcc7-a9e0-477f-92c5-e7319dedad9a",
   "metadata": {},
   "outputs": [
    {
     "name": "stdout",
     "output_type": "stream",
     "text": [
      "{'Bob', 'Alice', 'David'}\n"
     ]
    }
   ],
   "source": [
    "guests = {\"Alice\", \"Bob\", \"Charlie\"}\n",
    "\n",
    "guests.add(\"David\")  # Add a guest\n",
    "guests.remove(\"Charlie\")  # Remove a guest\n",
    "\n",
    "print(guests)\n"
   ]
  },
  {
   "cell_type": "markdown",
   "id": "84e521c1-5d8d-4e34-8e59-ffc8c939cd60",
   "metadata": {},
   "source": [
    "### 3️. Set Operations (Union, Intersection, Difference)\n",
    "Scenario: Finding common and unique students in two classes."
   ]
  },
  {
   "cell_type": "code",
   "execution_count": 79,
   "id": "13961d73-f817-4013-a681-dc7489c01c74",
   "metadata": {},
   "outputs": [
    {
     "name": "stdout",
     "output_type": "stream",
     "text": [
      "{'Alice', 'Charlie', 'Bob', 'Emma', 'David'}\n",
      "{'Bob'}\n",
      "{'Alice', 'Charlie'}\n"
     ]
    }
   ],
   "source": [
    "class_A = {\"Alice\", \"Bob\", \"Charlie\"}\n",
    "class_B = {\"Bob\", \"David\", \"Emma\"}\n",
    "\n",
    "# Union (All students)\n",
    "print(class_A | class_B)  \n",
    "\n",
    "# Intersection (Students in both classes)\n",
    "print(class_A & class_B)  \n",
    "\n",
    "# Difference (Students only in class A)\n",
    "print(class_A - class_B)  "
   ]
  },
  {
   "cell_type": "markdown",
   "id": "ae874d33-9de6-4164-9d2c-4f07731d31c4",
   "metadata": {},
   "source": [
    "### 4️. Checking Membership in a set\n",
    "Scenario: Checking if a word exists in a dictionary."
   ]
  },
  {
   "cell_type": "code",
   "execution_count": 80,
   "id": "d39456d2-c8d8-4a8b-a7dd-b579276f301e",
   "metadata": {},
   "outputs": [
    {
     "name": "stdout",
     "output_type": "stream",
     "text": [
      "Python is in the set.\n"
     ]
    }
   ],
   "source": [
    "word_set = {\"python\", \"java\", \"c++\", \"javascript\"}\n",
    "\n",
    "if \"python\" in word_set:\n",
    "    print(\"Python is in the set.\")\n"
   ]
  },
  {
   "cell_type": "markdown",
   "id": "da5b1d96-55ff-4b3e-8f37-ad7d15510b86",
   "metadata": {},
   "source": [
    "### 5️. Removing Duplicates from a List Using set (A good application of set)\n",
    "Scenario: Cleaning up duplicate email addresses."
   ]
  },
  {
   "cell_type": "code",
   "execution_count": 81,
   "id": "86f1095c-b169-4498-8f9a-d28ec9631bef",
   "metadata": {},
   "outputs": [
    {
     "name": "stdout",
     "output_type": "stream",
     "text": [
      "{'user1@example.com', 'user2@example.com'}\n"
     ]
    }
   ],
   "source": [
    "emails = [\"user1@example.com\", \"user2@example.com\", \"user1@example.com\", \"user1@example.com\"]\n",
    "unique_emails = set(emails)\n",
    "\n",
    "print(unique_emails)\n"
   ]
  },
  {
   "cell_type": "code",
   "execution_count": null,
   "id": "f026587f-35a2-4d36-9376-1918d219cc0d",
   "metadata": {},
   "outputs": [],
   "source": []
  }
 ],
 "metadata": {
  "kernelspec": {
   "display_name": "Python 3 (ipykernel)",
   "language": "python",
   "name": "python3"
  },
  "language_info": {
   "codemirror_mode": {
    "name": "ipython",
    "version": 3
   },
   "file_extension": ".py",
   "mimetype": "text/x-python",
   "name": "python",
   "nbconvert_exporter": "python",
   "pygments_lexer": "ipython3",
   "version": "3.9.9"
  }
 },
 "nbformat": 4,
 "nbformat_minor": 5
}
