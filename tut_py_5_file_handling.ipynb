{
 "cells": [
  {
   "cell_type": "markdown",
   "id": "e92a6480-349b-4038-8e15-bdf675a818c8",
   "metadata": {},
   "source": [
    "## What is File Handling?\n",
    "File handling in Python allows us to read from and write to files stored on a computer. It is essential for working with data storage, logging, and configuration files.\n",
    "\n",
    "### 2. File Modes in Python\n",
    "Python provides different modes for opening files:\n",
    "\n",
    "Mode\tDescription\n",
    "\n",
    "- r\tRead mode (default) – Opens a file for reading; error if file doesn't exist\n",
    "- w\tWrite mode – Creates a new file or overwrites an existing file\n",
    "- a\tAppend mode – Adds content to the end of a file (does not overwrite)\n",
    "- x\tExclusive creation – Creates a new file; fails if file already exists\n",
    "- t\tText mode (default) – Reads/writes data as text\n",
    "- b\tBinary mode – Reads/writes data in binary (useful for images, PDFs, etc.)\n",
    "\n",
    "Example:\n",
    "\n",
    "\"r\" → Read\n",
    "\n",
    "\"w\" → Write\n",
    "\n",
    "\"rb\" → Read in binary\n",
    "\n",
    "\"a+\" → Append and read"
   ]
  },
  {
   "cell_type": "code",
   "execution_count": 1,
   "id": "ad07d924-1008-48b2-b3e4-a2d63565b0cb",
   "metadata": {},
   "outputs": [
    {
     "ename": "FileNotFoundError",
     "evalue": "[Errno 2] No such file or directory: 'example.txt'",
     "output_type": "error",
     "traceback": [
      "\u001b[1;31m---------------------------------------------------------------------------\u001b[0m",
      "\u001b[1;31mFileNotFoundError\u001b[0m                         Traceback (most recent call last)",
      "Cell \u001b[1;32mIn[1], line 6\u001b[0m\n\u001b[0;32m      1\u001b[0m \u001b[38;5;66;03m# Opening and Closing a File\u001b[39;00m\n\u001b[0;32m      2\u001b[0m \u001b[38;5;66;03m# To work with a file, we open it using open() and close it using close().\u001b[39;00m\n\u001b[0;32m      3\u001b[0m \n\u001b[0;32m      4\u001b[0m \u001b[38;5;66;03m# Example: Open a File and Close It\u001b[39;00m\n\u001b[1;32m----> 6\u001b[0m file \u001b[38;5;241m=\u001b[39m \u001b[38;5;28;43mopen\u001b[39;49m\u001b[43m(\u001b[49m\u001b[38;5;124;43m\"\u001b[39;49m\u001b[38;5;124;43mexample.txt\u001b[39;49m\u001b[38;5;124;43m\"\u001b[39;49m\u001b[43m,\u001b[49m\u001b[43m \u001b[49m\u001b[38;5;124;43m\"\u001b[39;49m\u001b[38;5;124;43mr\u001b[39;49m\u001b[38;5;124;43m\"\u001b[39;49m\u001b[43m)\u001b[49m  \u001b[38;5;66;03m# Opens a file in read mode\u001b[39;00m\n\u001b[0;32m      7\u001b[0m \u001b[38;5;28mprint\u001b[39m(file\u001b[38;5;241m.\u001b[39mread())  \u001b[38;5;66;03m# Reads file content\u001b[39;00m\n\u001b[0;32m      8\u001b[0m file\u001b[38;5;241m.\u001b[39mclose()  \u001b[38;5;66;03m# Closes the file\u001b[39;00m\n",
      "File \u001b[1;32mc:\\Users\\hi\\Desktop\\projects\\python_projects\\tutorial\\tut_tensorflow\\.venv\\Lib\\site-packages\\IPython\\core\\interactiveshell.py:324\u001b[0m, in \u001b[0;36m_modified_open\u001b[1;34m(file, *args, **kwargs)\u001b[0m\n\u001b[0;32m    317\u001b[0m \u001b[38;5;28;01mif\u001b[39;00m file \u001b[38;5;129;01min\u001b[39;00m {\u001b[38;5;241m0\u001b[39m, \u001b[38;5;241m1\u001b[39m, \u001b[38;5;241m2\u001b[39m}:\n\u001b[0;32m    318\u001b[0m     \u001b[38;5;28;01mraise\u001b[39;00m \u001b[38;5;167;01mValueError\u001b[39;00m(\n\u001b[0;32m    319\u001b[0m         \u001b[38;5;124mf\u001b[39m\u001b[38;5;124m\"\u001b[39m\u001b[38;5;124mIPython won\u001b[39m\u001b[38;5;124m'\u001b[39m\u001b[38;5;124mt let you open fd=\u001b[39m\u001b[38;5;132;01m{\u001b[39;00mfile\u001b[38;5;132;01m}\u001b[39;00m\u001b[38;5;124m by default \u001b[39m\u001b[38;5;124m\"\u001b[39m\n\u001b[0;32m    320\u001b[0m         \u001b[38;5;124m\"\u001b[39m\u001b[38;5;124mas it is likely to crash IPython. If you know what you are doing, \u001b[39m\u001b[38;5;124m\"\u001b[39m\n\u001b[0;32m    321\u001b[0m         \u001b[38;5;124m\"\u001b[39m\u001b[38;5;124myou can use builtins\u001b[39m\u001b[38;5;124m'\u001b[39m\u001b[38;5;124m open.\u001b[39m\u001b[38;5;124m\"\u001b[39m\n\u001b[0;32m    322\u001b[0m     )\n\u001b[1;32m--> 324\u001b[0m \u001b[38;5;28;01mreturn\u001b[39;00m \u001b[43mio_open\u001b[49m\u001b[43m(\u001b[49m\u001b[43mfile\u001b[49m\u001b[43m,\u001b[49m\u001b[43m \u001b[49m\u001b[38;5;241;43m*\u001b[39;49m\u001b[43margs\u001b[49m\u001b[43m,\u001b[49m\u001b[43m \u001b[49m\u001b[38;5;241;43m*\u001b[39;49m\u001b[38;5;241;43m*\u001b[39;49m\u001b[43mkwargs\u001b[49m\u001b[43m)\u001b[49m\n",
      "\u001b[1;31mFileNotFoundError\u001b[0m: [Errno 2] No such file or directory: 'example.txt'"
     ]
    }
   ],
   "source": [
    "# Opening and Closing a File\n",
    "# To work with a file, we open it using open() and close it using close().\n",
    "\n",
    "# Example: Open a File and Close It\n",
    "\n",
    "file = open(\"example.txt\", \"r\")  # Opens a file in read mode\n",
    "print(file.read())  # Reads file content\n",
    "file.close()  # Closes the file. Always close a file after use to free system resources.\n"
   ]
  },
  {
   "cell_type": "code",
   "execution_count": 2,
   "id": "ce34d3bd-35ea-47d5-9705-ae2ff9f0d108",
   "metadata": {},
   "outputs": [
    {
     "ename": "FileNotFoundError",
     "evalue": "[Errno 2] No such file or directory: 'example.txt'",
     "output_type": "error",
     "traceback": [
      "\u001b[1;31m---------------------------------------------------------------------------\u001b[0m",
      "\u001b[1;31mFileNotFoundError\u001b[0m                         Traceback (most recent call last)",
      "Cell \u001b[1;32mIn[2], line 4\u001b[0m\n\u001b[0;32m      1\u001b[0m \u001b[38;5;66;03m# Reading from a File\u001b[39;00m\n\u001b[0;32m      2\u001b[0m \n\u001b[0;32m      3\u001b[0m \u001b[38;5;66;03m# Example 1: Read the Entire File\u001b[39;00m\n\u001b[1;32m----> 4\u001b[0m file \u001b[38;5;241m=\u001b[39m \u001b[38;5;28;43mopen\u001b[39;49m\u001b[43m(\u001b[49m\u001b[38;5;124;43m\"\u001b[39;49m\u001b[38;5;124;43mexample.txt\u001b[39;49m\u001b[38;5;124;43m\"\u001b[39;49m\u001b[43m,\u001b[49m\u001b[43m \u001b[49m\u001b[38;5;124;43m\"\u001b[39;49m\u001b[38;5;124;43mr\u001b[39;49m\u001b[38;5;124;43m\"\u001b[39;49m\u001b[43m)\u001b[49m\n\u001b[0;32m      5\u001b[0m content \u001b[38;5;241m=\u001b[39m file\u001b[38;5;241m.\u001b[39mread()\n\u001b[0;32m      6\u001b[0m \u001b[38;5;28mprint\u001b[39m(content)\n",
      "File \u001b[1;32mc:\\Users\\hi\\Desktop\\projects\\python_projects\\tutorial\\tut_tensorflow\\.venv\\Lib\\site-packages\\IPython\\core\\interactiveshell.py:324\u001b[0m, in \u001b[0;36m_modified_open\u001b[1;34m(file, *args, **kwargs)\u001b[0m\n\u001b[0;32m    317\u001b[0m \u001b[38;5;28;01mif\u001b[39;00m file \u001b[38;5;129;01min\u001b[39;00m {\u001b[38;5;241m0\u001b[39m, \u001b[38;5;241m1\u001b[39m, \u001b[38;5;241m2\u001b[39m}:\n\u001b[0;32m    318\u001b[0m     \u001b[38;5;28;01mraise\u001b[39;00m \u001b[38;5;167;01mValueError\u001b[39;00m(\n\u001b[0;32m    319\u001b[0m         \u001b[38;5;124mf\u001b[39m\u001b[38;5;124m\"\u001b[39m\u001b[38;5;124mIPython won\u001b[39m\u001b[38;5;124m'\u001b[39m\u001b[38;5;124mt let you open fd=\u001b[39m\u001b[38;5;132;01m{\u001b[39;00mfile\u001b[38;5;132;01m}\u001b[39;00m\u001b[38;5;124m by default \u001b[39m\u001b[38;5;124m\"\u001b[39m\n\u001b[0;32m    320\u001b[0m         \u001b[38;5;124m\"\u001b[39m\u001b[38;5;124mas it is likely to crash IPython. If you know what you are doing, \u001b[39m\u001b[38;5;124m\"\u001b[39m\n\u001b[0;32m    321\u001b[0m         \u001b[38;5;124m\"\u001b[39m\u001b[38;5;124myou can use builtins\u001b[39m\u001b[38;5;124m'\u001b[39m\u001b[38;5;124m open.\u001b[39m\u001b[38;5;124m\"\u001b[39m\n\u001b[0;32m    322\u001b[0m     )\n\u001b[1;32m--> 324\u001b[0m \u001b[38;5;28;01mreturn\u001b[39;00m \u001b[43mio_open\u001b[49m\u001b[43m(\u001b[49m\u001b[43mfile\u001b[49m\u001b[43m,\u001b[49m\u001b[43m \u001b[49m\u001b[38;5;241;43m*\u001b[39;49m\u001b[43margs\u001b[49m\u001b[43m,\u001b[49m\u001b[43m \u001b[49m\u001b[38;5;241;43m*\u001b[39;49m\u001b[38;5;241;43m*\u001b[39;49m\u001b[43mkwargs\u001b[49m\u001b[43m)\u001b[49m\n",
      "\u001b[1;31mFileNotFoundError\u001b[0m: [Errno 2] No such file or directory: 'example.txt'"
     ]
    }
   ],
   "source": [
    "# Reading from a File\n",
    "\n",
    "# Example 1: Read the Entire File\n",
    "file = open(\"example.txt\", \"r\")\n",
    "content = file.read()\n",
    "print(content)\n",
    "file.close()\n"
   ]
  },
  {
   "cell_type": "code",
   "execution_count": null,
   "id": "dc874e60-9bc6-4f7e-946b-345112993192",
   "metadata": {},
   "outputs": [],
   "source": [
    "# Example 2: Read a Specific Number of Characters\n",
    "file = open(\"example.txt\", \"r\")\n",
    "print(file.read(10))  # Reads the first 10 characters\n",
    "file.close()"
   ]
  },
  {
   "cell_type": "code",
   "execution_count": null,
   "id": "b97a17ae-6019-4e47-b6bd-b0d3881921ef",
   "metadata": {},
   "outputs": [],
   "source": [
    "# Example 3: Read Line by Line\n",
    "file = open(\"example.txt\", \"r\")\n",
    "print(file.readline())  # Reads the first line\n",
    "file.close()"
   ]
  },
  {
   "cell_type": "code",
   "execution_count": 3,
   "id": "63959a88-2175-4a72-9714-48fd158dcd5a",
   "metadata": {},
   "outputs": [
    {
     "ename": "FileNotFoundError",
     "evalue": "[Errno 2] No such file or directory: 'example.txt'",
     "output_type": "error",
     "traceback": [
      "\u001b[1;31m---------------------------------------------------------------------------\u001b[0m",
      "\u001b[1;31mFileNotFoundError\u001b[0m                         Traceback (most recent call last)",
      "Cell \u001b[1;32mIn[3], line 2\u001b[0m\n\u001b[0;32m      1\u001b[0m \u001b[38;5;66;03m# Example 4: Read All Lines as a List\u001b[39;00m\n\u001b[1;32m----> 2\u001b[0m file \u001b[38;5;241m=\u001b[39m \u001b[38;5;28;43mopen\u001b[39;49m\u001b[43m(\u001b[49m\u001b[38;5;124;43m\"\u001b[39;49m\u001b[38;5;124;43mexample.txt\u001b[39;49m\u001b[38;5;124;43m\"\u001b[39;49m\u001b[43m,\u001b[49m\u001b[43m \u001b[49m\u001b[38;5;124;43m\"\u001b[39;49m\u001b[38;5;124;43mr\u001b[39;49m\u001b[38;5;124;43m\"\u001b[39;49m\u001b[43m)\u001b[49m\n\u001b[0;32m      3\u001b[0m lines \u001b[38;5;241m=\u001b[39m file\u001b[38;5;241m.\u001b[39mreadlines()  \u001b[38;5;66;03m# Reads all lines into a list\u001b[39;00m\n\u001b[0;32m      4\u001b[0m \u001b[38;5;28mprint\u001b[39m(lines)\n",
      "File \u001b[1;32mc:\\Users\\hi\\Desktop\\projects\\python_projects\\tutorial\\tut_tensorflow\\.venv\\Lib\\site-packages\\IPython\\core\\interactiveshell.py:324\u001b[0m, in \u001b[0;36m_modified_open\u001b[1;34m(file, *args, **kwargs)\u001b[0m\n\u001b[0;32m    317\u001b[0m \u001b[38;5;28;01mif\u001b[39;00m file \u001b[38;5;129;01min\u001b[39;00m {\u001b[38;5;241m0\u001b[39m, \u001b[38;5;241m1\u001b[39m, \u001b[38;5;241m2\u001b[39m}:\n\u001b[0;32m    318\u001b[0m     \u001b[38;5;28;01mraise\u001b[39;00m \u001b[38;5;167;01mValueError\u001b[39;00m(\n\u001b[0;32m    319\u001b[0m         \u001b[38;5;124mf\u001b[39m\u001b[38;5;124m\"\u001b[39m\u001b[38;5;124mIPython won\u001b[39m\u001b[38;5;124m'\u001b[39m\u001b[38;5;124mt let you open fd=\u001b[39m\u001b[38;5;132;01m{\u001b[39;00mfile\u001b[38;5;132;01m}\u001b[39;00m\u001b[38;5;124m by default \u001b[39m\u001b[38;5;124m\"\u001b[39m\n\u001b[0;32m    320\u001b[0m         \u001b[38;5;124m\"\u001b[39m\u001b[38;5;124mas it is likely to crash IPython. If you know what you are doing, \u001b[39m\u001b[38;5;124m\"\u001b[39m\n\u001b[0;32m    321\u001b[0m         \u001b[38;5;124m\"\u001b[39m\u001b[38;5;124myou can use builtins\u001b[39m\u001b[38;5;124m'\u001b[39m\u001b[38;5;124m open.\u001b[39m\u001b[38;5;124m\"\u001b[39m\n\u001b[0;32m    322\u001b[0m     )\n\u001b[1;32m--> 324\u001b[0m \u001b[38;5;28;01mreturn\u001b[39;00m \u001b[43mio_open\u001b[49m\u001b[43m(\u001b[49m\u001b[43mfile\u001b[49m\u001b[43m,\u001b[49m\u001b[43m \u001b[49m\u001b[38;5;241;43m*\u001b[39;49m\u001b[43margs\u001b[49m\u001b[43m,\u001b[49m\u001b[43m \u001b[49m\u001b[38;5;241;43m*\u001b[39;49m\u001b[38;5;241;43m*\u001b[39;49m\u001b[43mkwargs\u001b[49m\u001b[43m)\u001b[49m\n",
      "\u001b[1;31mFileNotFoundError\u001b[0m: [Errno 2] No such file or directory: 'example.txt'"
     ]
    }
   ],
   "source": [
    "# Example 4: Read All Lines as a List\n",
    "file = open(\"example.txt\", \"r\")\n",
    "lines = file.readlines()  # Reads all lines into a list\n",
    "print(lines)\n",
    "file.close()\n"
   ]
  },
  {
   "cell_type": "code",
   "execution_count": null,
   "id": "3bf8e84e-f471-4a1f-aa43-5ee4b87589b7",
   "metadata": {},
   "outputs": [],
   "source": [
    "# Writing to a File\n",
    "# Example 1: Write to a File (w mode)\n",
    "file = open(\"example.txt\", \"w\")  # Opens in write mode (overwrites file)\n",
    "file.write(\"Hello, World!\\n\") # Warning: \"w\" mode will erase existing content before writing new data.\n",
    "file.write(\"Python is great!\")\n",
    "file.close()\n",
    "\n",
    "# Example 2: Append to a File (a mode)\n",
    "file = open(\"example.txt\", \"a\")  # Opens in append mode\n",
    "file.write(\"\\nAppending new line!\")\n",
    "file.close()\n"
   ]
  },
  {
   "cell_type": "code",
   "execution_count": null,
   "id": "83ce1031-a4cd-43e6-a06e-063811e598c8",
   "metadata": {},
   "outputs": [],
   "source": [
    "# Using with Statement (Recommended)\n",
    "# Using with open(...) automatically closes the file after the block ends.\n",
    "with open(\"example.txt\", \"r\") as file:\n",
    "    content = file.read()\n",
    "    print(content)  # File is automatically closed after this block\n"
   ]
  },
  {
   "cell_type": "markdown",
   "id": "27dbe54b-922c-4024-9147-fdbbe41213f6",
   "metadata": {},
   "source": [
    "## File Handling Methods\n",
    "Python provides various file methods for file handling:\n",
    "\n",
    "Method:\tDescription\n",
    "\n",
    "read(size):\tReads size characters (or entire file if not specified)\n",
    "\n",
    "readline():\tReads one line at a time\n",
    "\n",
    "readlines():\tReads all lines and returns a list\n",
    "\n",
    "write(string):\tWrites a string to a file\n",
    "\n",
    "writelines(list):\tWrites a list of strings to a file\n",
    "\n",
    "seek(offset):\tMoves cursor to a specific position in the file\n",
    "\n",
    "tell():\tReturns the current cursor position\n",
    "\n",
    "close():\tCloses the file"
   ]
  },
  {
   "cell_type": "code",
   "execution_count": null,
   "id": "c2c6d5c1-29c6-4add-8d71-337a44db8c60",
   "metadata": {},
   "outputs": [],
   "source": [
    "# Example: Using seek() and tell()\n",
    "with open(\"example.txt\", \"r\") as file:\n",
    "    print(file.tell())  # Shows cursor position (0 at start)\n",
    "    print(file.read(5))  # Reads first 5 characters\n",
    "    print(file.tell())  # Shows new cursor position\n",
    "    file.seek(0)  # Moves cursor back to the beginning\n",
    "    print(file.read(5))  # Reads again from start\n"
   ]
  },
  {
   "cell_type": "code",
   "execution_count": null,
   "id": "5e36fbcf-bab2-4174-988a-33d5f9286628",
   "metadata": {},
   "outputs": [],
   "source": [
    "# Working with Binary Files\n",
    "# Binary mode (b) is useful for images, videos, PDFs, etc.\n",
    "\n",
    "# Example: Copy an Image\n",
    "with open(\"source.jpg\", \"rb\") as source:\n",
    "    with open(\"copy.jpg\", \"wb\") as copy:\n",
    "        copy.write(source.read())\n"
   ]
  },
  {
   "cell_type": "code",
   "execution_count": null,
   "id": "f6c2e876-4b7c-412e-aa21-1a6a23bbc5b0",
   "metadata": {},
   "outputs": [],
   "source": [
    "# Checking If a File Exists\n",
    "# Before performing operations, check if a file exists to avoid errors.\n",
    "\n",
    "import os\n",
    "\n",
    "if os.path.exists(\"example.txt\"):\n",
    "    print(\"File exists!\")\n",
    "else:\n",
    "    print(\"File not found.\")\n"
   ]
  },
  {
   "cell_type": "code",
   "execution_count": null,
   "id": "f0da132e-6796-4eda-b4df-e0c8fcd6fcac",
   "metadata": {},
   "outputs": [],
   "source": [
    "# Deleting a File\n",
    "import os\n",
    "\n",
    "if os.path.exists(\"example.txt\"):\n",
    "    os.remove(\"example.txt\")\n",
    "    print(\"File deleted!\")\n",
    "else:\n",
    "    print(\"File does not exist.\")"
   ]
  }
 ],
 "metadata": {
  "kernelspec": {
   "display_name": "Python 3 (ipykernel)",
   "language": "python",
   "name": "python3"
  },
  "language_info": {
   "codemirror_mode": {
    "name": "ipython",
    "version": 3
   },
   "file_extension": ".py",
   "mimetype": "text/x-python",
   "name": "python",
   "nbconvert_exporter": "python",
   "pygments_lexer": "ipython3",
   "version": "3.11.2"
  }
 },
 "nbformat": 4,
 "nbformat_minor": 5
}
