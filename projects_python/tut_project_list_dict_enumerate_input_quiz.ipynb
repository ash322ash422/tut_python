{
 "cells": [
  {
   "cell_type": "code",
   "execution_count": null,
   "id": "f4a474c1-702b-4f4f-b3f9-dd3109da1983",
   "metadata": {},
   "outputs": [],
   "source": [
    "# Simple Quiz"
   ]
  },
  {
   "cell_type": "code",
   "execution_count": 6,
   "id": "dced76a0-5c76-48ff-967d-79e33fbc6cf3",
   "metadata": {},
   "outputs": [
    {
     "name": "stdout",
     "output_type": "stream",
     "text": [
      "\n",
      "Question 1:\n",
      "Which planet is known as the Red Planet??\n",
      "  a) jupiter\n",
      "  b) mars\n",
      "  c) mercury\n",
      "  d) venus\n"
     ]
    },
    {
     "name": "stdin",
     "output_type": "stream",
     "text": [
      "\n",
      "Choice?  d\n"
     ]
    },
    {
     "name": "stdout",
     "output_type": "stream",
     "text": [
      "The answer is 'mars', not 'venus'\n",
      "\n",
      "Question 2:\n",
      "Which planet is the largest in our solar system??\n",
      "  a) earth\n",
      "  b) jupiter\n",
      "  c) neptune\n",
      "  d) saturn\n"
     ]
    },
    {
     "name": "stdin",
     "output_type": "stream",
     "text": [
      "\n",
      "Choice?  b\n"
     ]
    },
    {
     "name": "stdout",
     "output_type": "stream",
     "text": [
      "Correct!\n",
      "\n",
      "You got 1 correct out of 2 questions\n"
     ]
    }
   ],
   "source": [
    "from string import ascii_lowercase\n",
    "\n",
    "QUESTIONS = {\n",
    "    \"Which planet is known as the Red Planet?\": [\n",
    "        \"mars\", \"jupiter\", \"venus\", \"mercury\",\n",
    "    ],\n",
    "    \"Which planet is the largest in our solar system?\": [\n",
    "        \"jupiter\", \"saturn\", \"neptune\", \"earth\",\n",
    "    ],\n",
    "}\n",
    "\n",
    "num_correct = 0\n",
    "for num, (question, alternatives) in enumerate(QUESTIONS.items(), start=1):\n",
    "    print(f\"\\nQuestion {num}:\")\n",
    "    print(f\"{question}?\")\n",
    "    correct_answer = alternatives[0]\n",
    "    labeled_alternatives = dict(zip(ascii_lowercase, sorted(alternatives)))\n",
    "    for label, alternative in labeled_alternatives.items():\n",
    "        print(f\"  {label}) {alternative}\")\n",
    "\n",
    "    answer_label = input(\"\\nChoice? \")\n",
    "    answer = labeled_alternatives.get(answer_label)\n",
    "    if answer == correct_answer:\n",
    "        num_correct += 1\n",
    "        print(\"Correct!\")\n",
    "    else:\n",
    "        print(f\"The answer is {correct_answer!r}, not {answer!r}\")\n",
    "\n",
    "print(f\"\\nYou got {num_correct} correct out of {num} questions\")"
   ]
  },
  {
   "cell_type": "code",
   "execution_count": 5,
   "id": "2df33e61-2350-4f85-9dda-c601755438ec",
   "metadata": {},
   "outputs": [
    {
     "name": "stdout",
     "output_type": "stream",
     "text": [
      "\n",
      "Question 1:\n",
      "Which planet is the largest in our solar system??\n",
      "  a) saturn\n",
      "  b) neptune\n",
      "  c) jupiter\n",
      "  d) earth\n"
     ]
    },
    {
     "name": "stdin",
     "output_type": "stream",
     "text": [
      "\n",
      "Choice?  c\n"
     ]
    },
    {
     "name": "stdout",
     "output_type": "stream",
     "text": [
      "⭐ Correct! ⭐\n",
      "\n",
      "Question 2:\n",
      "Which planet is known as the Red Planet??\n",
      "  a) venus\n",
      "  b) mercury\n",
      "  c) mars\n",
      "  d) jupiter\n"
     ]
    },
    {
     "name": "stdin",
     "output_type": "stream",
     "text": [
      "\n",
      "Choice?  a\n"
     ]
    },
    {
     "name": "stdout",
     "output_type": "stream",
     "text": [
      "The answer is 'mars', not 'venus'\n",
      "\n",
      "You got 1 correct out of 2 questions\n"
     ]
    }
   ],
   "source": [
    "# Advanced quiz\n",
    "import random\n",
    "from string import ascii_lowercase\n",
    "\n",
    "NUM_QUESTIONS_PER_QUIZ = 5\n",
    "QUESTIONS = {\n",
    "    \"Which planet is known as the Red Planet?\": [\n",
    "        \"mars\", \"jupiter\", \"venus\", \"mercury\",\n",
    "    ],\n",
    "    \"Which planet is the largest in our solar system?\": [\n",
    "        \"jupiter\", \"saturn\", \"neptune\", \"earth\",\n",
    "    ],\n",
    "}\n",
    "\n",
    "num_questions = min(NUM_QUESTIONS_PER_QUIZ, len(QUESTIONS))\n",
    "questions = random.sample(list(QUESTIONS.items()), k=num_questions)\n",
    "\n",
    "num_correct = 0\n",
    "for num, (question, alternatives) in enumerate(questions, start=1):\n",
    "    print(f\"\\nQuestion {num}:\")\n",
    "    print(f\"{question}?\")\n",
    "    correct_answer = alternatives[0]\n",
    "    labeled_alternatives = dict(\n",
    "        zip(ascii_lowercase, random.sample(alternatives, k=len(alternatives)))\n",
    "    )\n",
    "    for label, alternative in labeled_alternatives.items():\n",
    "        print(f\"  {label}) {alternative}\")\n",
    "\n",
    "    while (answer_label := input(\"\\nChoice? \")) not in labeled_alternatives:\n",
    "        print(f\"Please answer one of {', '.join(labeled_alternatives)}\")\n",
    "\n",
    "    answer = labeled_alternatives[answer_label]\n",
    "    if answer == correct_answer:\n",
    "        num_correct += 1\n",
    "        print(\"Correct!\")\n",
    "    else:\n",
    "        print(f\"The answer is {correct_answer!r}, not {answer!r}\")\n",
    "\n",
    "print(f\"\\nYou got {num_correct} correct out of {num} questions\")"
   ]
  },
  {
   "cell_type": "code",
   "execution_count": null,
   "id": "590c685d-7355-4c07-aa5a-957f01535b14",
   "metadata": {},
   "outputs": [],
   "source": []
  }
 ],
 "metadata": {
  "kernelspec": {
   "display_name": "Python 3 (ipykernel)",
   "language": "python",
   "name": "python3"
  },
  "language_info": {
   "codemirror_mode": {
    "name": "ipython",
    "version": 3
   },
   "file_extension": ".py",
   "mimetype": "text/x-python",
   "name": "python",
   "nbconvert_exporter": "python",
   "pygments_lexer": "ipython3",
   "version": "3.11.2"
  }
 },
 "nbformat": 4,
 "nbformat_minor": 5
}
