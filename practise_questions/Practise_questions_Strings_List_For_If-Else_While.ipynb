{
  "cells": [
    {
      "cell_type": "markdown",
      "id": "270f7905",
      "metadata": {
        "id": "270f7905"
      },
      "source": [
        "### 1)Write a Prog. to reverse the words of a string"
      ]
    },
    {
      "cell_type": "code",
      "execution_count": null,
      "id": "507357c7",
      "metadata": {
        "id": "507357c7",
        "outputId": "bc1fcdd1-889c-459f-ba65-dddcf0f2e58b"
      },
      "outputs": [
        {
          "name": "stdout",
          "output_type": "stream",
          "text": [
            "enter a string: Study to remember\n"
          ]
        },
        {
          "data": {
            "text/plain": [
              "'Study to remember'"
            ]
          },
          "execution_count": 16,
          "metadata": {},
          "output_type": "execute_result"
        }
      ],
      "source": [
        "A=input(\"enter a string: \")\n",
        "A"
      ]
    },
    {
      "cell_type": "code",
      "execution_count": null,
      "id": "52d85387",
      "metadata": {
        "id": "52d85387",
        "outputId": "057438ed-3d1e-4eb2-ffaf-1e1227a4cfd7"
      },
      "outputs": [
        {
          "data": {
            "text/plain": [
              "['Study', 'to', 'remember']"
            ]
          },
          "execution_count": 17,
          "metadata": {},
          "output_type": "execute_result"
        }
      ],
      "source": [
        "B=A.split()\n",
        "B"
      ]
    },
    {
      "cell_type": "code",
      "execution_count": null,
      "id": "ac9a75c4",
      "metadata": {
        "id": "ac9a75c4",
        "outputId": "5617352e-ee38-4713-e4ba-d5989cd10bdb"
      },
      "outputs": [
        {
          "data": {
            "text/plain": [
              "['remember', 'to', 'Study']"
            ]
          },
          "execution_count": 18,
          "metadata": {},
          "output_type": "execute_result"
        }
      ],
      "source": [
        "C=B[::-1]\n",
        "C"
      ]
    },
    {
      "cell_type": "code",
      "execution_count": null,
      "id": "e4106845",
      "metadata": {
        "id": "e4106845",
        "outputId": "9ab04e42-a663-4473-b7b2-deb49acc068b"
      },
      "outputs": [
        {
          "data": {
            "text/plain": [
              "'remember to Study'"
            ]
          },
          "execution_count": 19,
          "metadata": {},
          "output_type": "execute_result"
        }
      ],
      "source": [
        "D=' '.join(C)\n",
        "D"
      ]
    },
    {
      "cell_type": "markdown",
      "id": "2af93eb8",
      "metadata": {
        "id": "2af93eb8"
      },
      "source": [
        "### 2) Fetch only \"trying to complete\" from \"I am trying to complete this HW\""
      ]
    },
    {
      "cell_type": "code",
      "execution_count": null,
      "id": "b76aa635",
      "metadata": {
        "id": "b76aa635",
        "outputId": "af4eae11-32c7-4ab2-adbc-d214ae776e28"
      },
      "outputs": [
        {
          "data": {
            "text/plain": [
              "'I am trying to complete this HW'"
            ]
          },
          "execution_count": 19,
          "metadata": {},
          "output_type": "execute_result"
        }
      ],
      "source": [
        "S=\"I am trying to complete this HW\"\n",
        "S"
      ]
    },
    {
      "cell_type": "code",
      "execution_count": null,
      "id": "09381313",
      "metadata": {
        "id": "09381313",
        "outputId": "83feb234-31e4-4746-ee34-b9cd8a26870d"
      },
      "outputs": [
        {
          "data": {
            "text/plain": [
              "'trying to complete'"
            ]
          },
          "execution_count": 24,
          "metadata": {},
          "output_type": "execute_result"
        }
      ],
      "source": [
        "s=S[5:23:1]\n",
        "s"
      ]
    },
    {
      "cell_type": "markdown",
      "id": "7f8cc9fc",
      "metadata": {
        "id": "7f8cc9fc"
      },
      "source": [
        "### 3) Write a program to convert into UPPERCASE or lowercase an entire string."
      ]
    },
    {
      "cell_type": "code",
      "execution_count": null,
      "id": "f346fe2b",
      "metadata": {
        "id": "f346fe2b",
        "outputId": "da76ae8f-9cf8-473a-d295-e5b9a0656b1a"
      },
      "outputs": [
        {
          "name": "stdout",
          "output_type": "stream",
          "text": [
            "MAKE IT IN UPPERCASE\n",
            "make it in uppercase\n"
          ]
        }
      ],
      "source": [
        "S=\"mAKe it in uppercase\"\n",
        "U=S.upper()\n",
        "L=U.lower()\n",
        "print(U)\n",
        "print(L)"
      ]
    },
    {
      "cell_type": "code",
      "execution_count": null,
      "id": "94ea8e2f",
      "metadata": {
        "id": "94ea8e2f"
      },
      "outputs": [],
      "source": [
        "S."
      ]
    },
    {
      "cell_type": "markdown",
      "id": "680f4a54",
      "metadata": {
        "id": "680f4a54"
      },
      "source": [
        "# 4) Write a program to eliminate all the vowels from the given sentence."
      ]
    },
    {
      "cell_type": "code",
      "execution_count": null,
      "id": "8aabcd4e",
      "metadata": {
        "id": "8aabcd4e",
        "outputId": "7a32c683-c0f2-4c60-a954-d408f78ff52d"
      },
      "outputs": [
        {
          "name": "stdout",
          "output_type": "stream",
          "text": [
            "Lts Rmv ll th vwls"
          ]
        }
      ],
      "source": [
        "test='Lets Remove all the vowels'\n",
        "B='aeiouAEIOU'\n",
        "vowels=list(B)\n",
        "for i in test:\n",
        "    if i not in vowels:\n",
        "        print(i,end='')"
      ]
    },
    {
      "cell_type": "markdown",
      "id": "b94e8621",
      "metadata": {
        "id": "b94e8621"
      },
      "source": [
        "# 5)Write a prog. to generate Acronym"
      ]
    },
    {
      "cell_type": "code",
      "execution_count": null,
      "id": "fe1f8b43",
      "metadata": {
        "id": "fe1f8b43",
        "outputId": "19508ff7-2a8a-412a-aed7-fb061fefa939"
      },
      "outputs": [
        {
          "name": "stdout",
          "output_type": "stream",
          "text": [
            "Enter a phrase: state bank of india\n",
            "SBI"
          ]
        }
      ],
      "source": [
        "User_Input=input(\"Enter a phrase: \")\n",
        "Modified_Input=(User_Input.replace('of',''))\n",
        "Final_text=Modified_Input.split()\n",
        "for i in Final_text:\n",
        "    print(i[0].upper(),end=\"\")"
      ]
    },
    {
      "cell_type": "markdown",
      "id": "6ce77e51",
      "metadata": {
        "id": "6ce77e51"
      },
      "source": [
        "# 6)Write a program to find the length of the string \"refrigerator\" without using len function"
      ]
    },
    {
      "cell_type": "code",
      "execution_count": null,
      "id": "a92d05a1",
      "metadata": {
        "id": "a92d05a1",
        "outputId": "3ce5a0dd-122a-43e1-f94e-749413141784"
      },
      "outputs": [
        {
          "name": "stdout",
          "output_type": "stream",
          "text": [
            "12\n"
          ]
        }
      ],
      "source": [
        "a=\"refrigerator\"\n",
        "count=0\n",
        "for i in a:\n",
        "    count=count+1\n",
        "print (count)"
      ]
    },
    {
      "cell_type": "markdown",
      "id": "0e1a2dce",
      "metadata": {
        "id": "0e1a2dce"
      },
      "source": [
        "# 7)Write a program to print characters present at even and odd index separately for a given string"
      ]
    },
    {
      "cell_type": "code",
      "execution_count": null,
      "id": "1a6ba3aa",
      "metadata": {
        "id": "1a6ba3aa",
        "outputId": "138059b3-8b41-4f7a-d3c8-60d2fefefd5c"
      },
      "outputs": [
        {
          "name": "stdout",
          "output_type": "stream",
          "text": [
            "characters present at even index:\n",
            "B,n,a,i,i, ,n, ,f,t,e,s,e,t,s, ,a,g,a,e,"
          ]
        }
      ],
      "source": [
        "sample='Bengali is one of the sweetest language'\n",
        "i=0\n",
        "print(\"characters present at even index:\")\n",
        "while i < len(sample):\n",
        "    print(sample[i], end=\",\")\n",
        "    i=i+2"
      ]
    },
    {
      "cell_type": "code",
      "execution_count": null,
      "id": "0ad2f699",
      "metadata": {
        "id": "0ad2f699",
        "outputId": "70806808-ac98-4ae9-f0e1-1859f112b8f6"
      },
      "outputs": [
        {
          "name": "stdout",
          "output_type": "stream",
          "text": [
            "\n",
            "characters at odd index:\n",
            "e, g, l,  , s, o, e, o,  , h,  , w, e, e, t, l, n, u, g, "
          ]
        }
      ],
      "source": [
        "print(\"\\ncharacters at odd index:\")\n",
        "i=1\n",
        "while i<len(sample):\n",
        "    print(sample[i],end=', ')\n",
        "    i=i+2"
      ]
    },
    {
      "cell_type": "markdown",
      "id": "d96a8c30",
      "metadata": {
        "id": "d96a8c30"
      },
      "source": [
        "# OR"
      ]
    },
    {
      "cell_type": "code",
      "execution_count": null,
      "id": "ae925929",
      "metadata": {
        "id": "ae925929",
        "outputId": "b02b04c0-ae8e-49a9-b0c1-561897b91542"
      },
      "outputs": [
        {
          "name": "stdout",
          "output_type": "stream",
          "text": [
            "characters at even index: Bnaii n ftesets agae\n"
          ]
        }
      ],
      "source": [
        "print('characters at even index:',sample[ : :2])"
      ]
    },
    {
      "cell_type": "code",
      "execution_count": null,
      "id": "2ae80849",
      "metadata": {
        "id": "2ae80849",
        "outputId": "aa928c97-3bb8-4c3e-a11a-9dee0b5fe380"
      },
      "outputs": [
        {
          "name": "stdout",
          "output_type": "stream",
          "text": [
            "characters at odd index: egl soeo h weetlnug\n"
          ]
        }
      ],
      "source": [
        "print('characters at odd index:',sample[ 1: :2])"
      ]
    },
    {
      "cell_type": "markdown",
      "id": "c3c8079a",
      "metadata": {
        "id": "c3c8079a"
      },
      "source": [
        "# 8) Write a program to sort characters of a given string(alphabets followed by numbers)"
      ]
    },
    {
      "cell_type": "code",
      "execution_count": null,
      "id": "81cc2248",
      "metadata": {
        "id": "81cc2248",
        "outputId": "25b06d3a-ce4e-4287-8932-0d2e08f3cf25"
      },
      "outputs": [
        {
          "name": "stdout",
          "output_type": "stream",
          "text": [
            "Sdeepu0124899\n"
          ]
        }
      ],
      "source": [
        "s=\"S2u0d4e1e9p98\"\n",
        "alphabets=[]\n",
        "numbers=[]\n",
        "for i in s:\n",
        "    if i.isalpha():\n",
        "        alphabets.append(i)\n",
        "    else:\n",
        "        numbers.append(i)\n",
        "print(''.join(sorted(alphabets)+sorted(numbers)))"
      ]
    },
    {
      "cell_type": "markdown",
      "id": "c6b24216",
      "metadata": {
        "id": "c6b24216"
      },
      "source": [
        "# 9) Write a prog to remove duplicate characters. Also give the count of each characters in the string'"
      ]
    },
    {
      "cell_type": "code",
      "execution_count": null,
      "id": "ed8f2efd",
      "metadata": {
        "id": "ed8f2efd",
        "outputId": "674c322b-1d1f-4ad9-b7f5-32e29f136cf5"
      },
      "outputs": [
        {
          "name": "stdout",
          "output_type": "stream",
          "text": [
            "['A', 'B', 'C', 'D', 'a', 'b', 'c', 'd']\n",
            "A occurs 2 times\n",
            "B occurs 6 times\n",
            "C occurs 3 times\n",
            "D occurs 4 times\n",
            "a occurs 3 times\n",
            "b occurs 2 times\n",
            "c occurs 2 times\n",
            "d occurs 2 times\n"
          ]
        }
      ],
      "source": [
        "str='AABBBBBBCCCDDDDaaabbccdd'\n",
        "str1=set(str)\n",
        "print(sorted(str1))\n",
        "for i in sorted(str1):\n",
        "    print('{} occurs {} times'.format(i,str.count(i)))\n"
      ]
    },
    {
      "cell_type": "markdown",
      "id": "65b76c2c",
      "metadata": {
        "id": "65b76c2c"
      },
      "source": [
        "# 10) Return a string by appending s2 in middle of s1"
      ]
    },
    {
      "cell_type": "code",
      "execution_count": null,
      "id": "ea9cff41",
      "metadata": {
        "id": "ea9cff41",
        "outputId": "36272f5a-43cc-4264-9c1e-25bbf9a7aa65"
      },
      "outputs": [
        {
          "data": {
            "text/plain": [
              "4"
            ]
          },
          "execution_count": 6,
          "metadata": {},
          "output_type": "execute_result"
        }
      ],
      "source": [
        "s1=\"********\"\n",
        "s2=\"Facebook\"\n",
        "s3=len(s1)//2\n",
        "s3"
      ]
    },
    {
      "cell_type": "code",
      "execution_count": null,
      "id": "587efe4e",
      "metadata": {
        "id": "587efe4e",
        "outputId": "2cd69bbc-14e7-46c4-c825-31ae21e004d8"
      },
      "outputs": [
        {
          "data": {
            "text/plain": [
              "'****Facebook****'"
            ]
          },
          "execution_count": 7,
          "metadata": {},
          "output_type": "execute_result"
        }
      ],
      "source": [
        "s4=s1[0:4]+s2+s1[4:]\n",
        "s4"
      ]
    },
    {
      "cell_type": "markdown",
      "id": "3a99c4b2",
      "metadata": {
        "id": "3a99c4b2"
      },
      "source": [
        "# 11)Write a Python program to check whether a string starts & ends with specified characters"
      ]
    },
    {
      "cell_type": "code",
      "execution_count": null,
      "id": "384b4e91",
      "metadata": {
        "id": "384b4e91",
        "outputId": "0f200b73-4c31-4b4b-cdbd-7c3965915ba4"
      },
      "outputs": [
        {
          "name": "stdout",
          "output_type": "stream",
          "text": [
            "False\n",
            "True\n",
            "True\n"
          ]
        }
      ],
      "source": [
        "test = \"Battery about to die\"\n",
        "print(test.startswith(\"Is\"))\n",
        "print(test.startswith(\"Ba\"))\n",
        "print(test.endswith(\"ie\"))"
      ]
    },
    {
      "cell_type": "markdown",
      "id": "b690adb9",
      "metadata": {
        "id": "b690adb9"
      },
      "source": [
        "# 12)Write a Python program to wrap a given string into a paragraph of given width"
      ]
    },
    {
      "cell_type": "code",
      "execution_count": null,
      "id": "d42b6331",
      "metadata": {
        "id": "d42b6331",
        "outputId": "db0b3711-21c8-4152-da02-e304f0dae23b"
      },
      "outputs": [
        {
          "name": "stdout",
          "output_type": "stream",
          "text": [
            "Enter a String: this is a new function which i saw lets see how it works out\n",
            "Enter the Width of the Paragraph: 4\n",
            "\n",
            "-------------Result---------------\n",
            "\n",
            "this\n",
            "is a\n",
            "new \n",
            "func\n",
            "tion\n",
            "whic\n",
            "h i\n",
            "saw\n",
            "lets\n",
            "see\n",
            "how\n",
            "it w\n",
            "orks\n",
            "out\n"
          ]
        }
      ],
      "source": [
        "import textwrap\n",
        "s = input(\"Enter a String: \")\n",
        "w = int(input(\"Enter the Width of the Paragraph: \").strip())\n",
        "print(\"\\n-------------Result---------------\\n\")\n",
        "print(textwrap.fill(s,w))"
      ]
    },
    {
      "cell_type": "markdown",
      "id": "b55088b2",
      "metadata": {
        "id": "b55088b2"
      },
      "source": [
        "# 13)write a prog to  match a string\n"
      ]
    },
    {
      "cell_type": "code",
      "execution_count": null,
      "id": "c3098f5d",
      "metadata": {
        "id": "c3098f5d",
        "outputId": "7d37c1a0-2310-4c63-cedb-968f36fa9cbe"
      },
      "outputs": [
        {
          "name": "stdout",
          "output_type": "stream",
          "text": [
            "False\n"
          ]
        }
      ],
      "source": [
        "s1=\"amazon.in\"\n",
        "s2=\"AMAZON.IN\"\n",
        "print(s1==s2)"
      ]
    },
    {
      "cell_type": "markdown",
      "id": "259ca0b9",
      "metadata": {
        "id": "259ca0b9"
      },
      "source": [
        "## 14)Write a prog for following  requirement\n",
        "input:a3b2c3d4\n",
        "\n",
        "ouput:aaabbcccdddd"
      ]
    },
    {
      "cell_type": "code",
      "execution_count": null,
      "id": "b0d52723",
      "metadata": {
        "id": "b0d52723",
        "outputId": "c8ee78bd-90ae-4003-9f84-fb0b93969dd8"
      },
      "outputs": [
        {
          "name": "stdout",
          "output_type": "stream",
          "text": [
            "aaabbcccdddd"
          ]
        }
      ],
      "source": [
        "s='a3b2c3d4'\n",
        "for i in s:\n",
        "    if i.isalpha():\n",
        "            x=i\n",
        "    else:\n",
        "        times=int(i)\n",
        "        print(x*times,end='')\n"
      ]
    },
    {
      "cell_type": "markdown",
      "id": "6ac7ac9c",
      "metadata": {
        "id": "6ac7ac9c"
      },
      "source": [
        "# 15) check presence of substring in a string."
      ]
    },
    {
      "cell_type": "code",
      "execution_count": null,
      "id": "e48fd0d2",
      "metadata": {
        "id": "e48fd0d2",
        "outputId": "e94336fa-7a34-4269-f2aa-a0c3bb4f0b33"
      },
      "outputs": [
        {
          "name": "stdout",
          "output_type": "stream",
          "text": [
            "True\n"
          ]
        }
      ],
      "source": [
        "s='earn to learn'\n",
        "print(\"learn\" in s)"
      ]
    },
    {
      "cell_type": "markdown",
      "id": "b04d6f0e",
      "metadata": {
        "id": "b04d6f0e"
      },
      "source": [
        "# 16) Write a Program to fetch a list of common word out of two given strings"
      ]
    },
    {
      "cell_type": "code",
      "execution_count": null,
      "id": "c50a4b54",
      "metadata": {
        "id": "c50a4b54",
        "outputId": "e9f00d06-c7e0-49d7-9d29-9b79c2eec6d2"
      },
      "outputs": [
        {
          "name": "stdout",
          "output_type": "stream",
          "text": [
            "enter 1st string:This world is crazy\n",
            "enter 2st string:Peeps calling this world as crazy are the real crazy\n",
            "['world', 'crazy']\n"
          ]
        }
      ],
      "source": [
        "s1=input(\"enter 1st string:\")\n",
        "s2=input(\"enter 2st string:\")\n",
        "a=s1.split()\n",
        "b=s2.split()\n",
        "c=[]\n",
        "for i in a:\n",
        "    if i in b:\n",
        "        c.append(i)\n",
        "print(c)"
      ]
    },
    {
      "cell_type": "markdown",
      "id": "ac7f5443",
      "metadata": {
        "id": "ac7f5443"
      },
      "source": [
        "# 17) Fetch the largest word from string"
      ]
    },
    {
      "cell_type": "code",
      "execution_count": null,
      "id": "8daa2107",
      "metadata": {
        "id": "8daa2107",
        "outputId": "d626932b-8884-422c-d55c-376fe85f92d9"
      },
      "outputs": [
        {
          "name": "stdout",
          "output_type": "stream",
          "text": [
            "Enter a String: My name is Sudeep\n",
            "Longest word:  Sudeep\n",
            "Position of Longest word:  11\n"
          ]
        }
      ],
      "source": [
        "\n",
        "str = input(\"Enter a String: \")\n",
        "word_list = str.split()\n",
        "longest_word = max(word_list, key = len)\n",
        "pos = str.index(longest_word)\n",
        "\n",
        "print(\"Longest word: \",longest_word)\n",
        "print(\"Position of Longest word: \", pos)"
      ]
    },
    {
      "cell_type": "markdown",
      "id": "2a074be6",
      "metadata": {
        "id": "2a074be6"
      },
      "source": [
        "# 18) Check if String is a Palindrome"
      ]
    },
    {
      "cell_type": "code",
      "execution_count": null,
      "id": "4fcca79d",
      "metadata": {
        "id": "4fcca79d",
        "outputId": "5aec05b6-18c1-4e51-85b8-51de50a043f4"
      },
      "outputs": [
        {
          "name": "stdout",
          "output_type": "stream",
          "text": [
            "enter the word to check:Madam\n",
            "The string is not a palindrome.\n"
          ]
        }
      ],
      "source": [
        "S=input(\"enter the word to check:\")\n",
        "if (S== S[::-1]):\n",
        "    print(\"The string is a palindrome.\" )\n",
        "else:\n",
        "    print(\"The string is not a palindrome.\" )"
      ]
    },
    {
      "cell_type": "markdown",
      "id": "b7b33552",
      "metadata": {
        "id": "b7b33552"
      },
      "source": [
        "# 19)Program To Print All The Non-Empty Substring Of Given String"
      ]
    },
    {
      "cell_type": "code",
      "execution_count": null,
      "id": "aca858c7",
      "metadata": {
        "id": "aca858c7",
        "outputId": "4f5282e9-b5fb-475c-dac5-2481ea9c7f5b"
      },
      "outputs": [
        {
          "name": "stdout",
          "output_type": "stream",
          "text": [
            "enter the string: abcd\n",
            "a\n",
            "ab\n",
            "abc\n",
            "abcd\n",
            "b\n",
            "bc\n",
            "bcd\n",
            "c\n",
            "cd\n",
            "d\n"
          ]
        }
      ],
      "source": [
        "str1=input(\"enter the string: \")\n",
        "for i in range(len(str1)):\n",
        "    for j in range(i+1,len(str1)+1):\n",
        "        print(str1[i:j])"
      ]
    },
    {
      "cell_type": "markdown",
      "id": "72ed91e0",
      "metadata": {
        "id": "72ed91e0"
      },
      "source": [
        "# 20) Find the first and the immediate next occurence of word emma from the given string\n"
      ]
    },
    {
      "cell_type": "code",
      "execution_count": null,
      "id": "63ffa86d",
      "metadata": {
        "id": "63ffa86d",
        "outputId": "4596a1dd-481a-425f-ad57-13fc294189dd"
      },
      "outputs": [
        {
          "name": "stdout",
          "output_type": "stream",
          "text": [
            "0\n",
            "48\n",
            "number of occurences:  2\n"
          ]
        }
      ],
      "source": [
        "Str='emma is the project manager of Sephora. However emma also looks over the integration of dior'\n",
        "first=Str.find('emma')\n",
        "next_occurence=Str.find('emma',first+1)\n",
        "print(first)\n",
        "print(next_occurence)\n",
        "print(\"number of occurences: \",Str.count(\"emma\"))"
      ]
    },
    {
      "cell_type": "code",
      "execution_count": null,
      "id": "a7a3b540",
      "metadata": {
        "id": "a7a3b540"
      },
      "outputs": [],
      "source": []
    }
  ],
  "metadata": {
    "kernelspec": {
      "display_name": "Python 3 (ipykernel)",
      "language": "python",
      "name": "python3"
    },
    "language_info": {
      "codemirror_mode": {
        "name": "ipython",
        "version": 3
      },
      "file_extension": ".py",
      "mimetype": "text/x-python",
      "name": "python",
      "nbconvert_exporter": "python",
      "pygments_lexer": "ipython3",
      "version": "3.9.12"
    },
    "colab": {
      "provenance": []
    }
  },
  "nbformat": 4,
  "nbformat_minor": 5
}