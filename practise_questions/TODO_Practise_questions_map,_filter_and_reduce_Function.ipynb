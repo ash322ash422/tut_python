{
  "cells": [
    {
      "cell_type": "markdown",
      "id": "07dfcd3f",
      "metadata": {
        "id": "07dfcd3f"
      },
      "source": [
        "# Questions on map(), filter() and reduce() Function"
      ]
    },
    {
      "cell_type": "markdown",
      "id": "4c4e3b7d",
      "metadata": {
        "id": "4c4e3b7d"
      },
      "source": [
        "### 1. Write a Python program to triple all numbers of a given list of integers. Use Python map."
      ]
    },
    {
      "cell_type": "code",
      "execution_count": null,
      "id": "d6d72077",
      "metadata": {
        "id": "d6d72077",
        "outputId": "ea3d28cf-3c32-4804-df1a-4b65816f3841"
      },
      "outputs": [
        {
          "data": {
            "text/plain": [
              "[1, 2, 3, 4, 5, 6, 7, 8, 9, 10]"
            ]
          },
          "execution_count": 16,
          "metadata": {},
          "output_type": "execute_result"
        }
      ],
      "source": [
        "list_int = [i for i in range(1,11)]\n",
        "list_int"
      ]
    },
    {
      "cell_type": "code",
      "execution_count": null,
      "id": "c5791233",
      "metadata": {
        "id": "c5791233",
        "outputId": "a0c61d54-283e-4f27-91d8-8d389d764262"
      },
      "outputs": [
        {
          "data": {
            "text/plain": [
              "[3, 6, 9, 12, 15, 18, 21, 24, 27, 30]"
            ]
          },
          "execution_count": 17,
          "metadata": {},
          "output_type": "execute_result"
        }
      ],
      "source": [
        "def int_trippler(l):\n",
        "    return list(map(lambda x : x*3, l))\n",
        "\n",
        "int_trippler(list_int)"
      ]
    },
    {
      "cell_type": "markdown",
      "id": "712fa0e1",
      "metadata": {
        "id": "712fa0e1"
      },
      "source": [
        "### 2. Write a Python program to add three given lists using Python map and lambda."
      ]
    },
    {
      "cell_type": "code",
      "execution_count": null,
      "id": "e1beb20f",
      "metadata": {
        "id": "e1beb20f",
        "outputId": "cae9de36-a40a-4632-e71e-17c5d2f2ea0b"
      },
      "outputs": [
        {
          "data": {
            "text/plain": [
              "[1, 2, 3, 4, 5, 6, 7, 8, 9]"
            ]
          },
          "execution_count": 1,
          "metadata": {},
          "output_type": "execute_result"
        }
      ],
      "source": [
        "list1 = [i for i in range(1,10)]\n",
        "list1"
      ]
    },
    {
      "cell_type": "code",
      "execution_count": null,
      "id": "816faebb",
      "metadata": {
        "id": "816faebb",
        "outputId": "6c748942-938d-4fd9-fe8f-86bc1f2c5011"
      },
      "outputs": [
        {
          "data": {
            "text/plain": [
              "[11, 12, 13, 14, 15, 16, 17, 18, 19]"
            ]
          },
          "execution_count": 2,
          "metadata": {},
          "output_type": "execute_result"
        }
      ],
      "source": [
        "list2 = [i for i in range(11,20)]\n",
        "list2"
      ]
    },
    {
      "cell_type": "code",
      "execution_count": null,
      "id": "9d650e20",
      "metadata": {
        "id": "9d650e20",
        "outputId": "5a383400-fe5b-402f-fdff-66a9bd01d576"
      },
      "outputs": [
        {
          "data": {
            "text/plain": [
              "[21, 22, 23, 24, 25, 26, 27, 28, 29]"
            ]
          },
          "execution_count": 3,
          "metadata": {},
          "output_type": "execute_result"
        }
      ],
      "source": [
        "list3 = [i for i in range(21,30)]\n",
        "list3"
      ]
    },
    {
      "cell_type": "code",
      "execution_count": null,
      "id": "8f126ce6",
      "metadata": {
        "id": "8f126ce6",
        "outputId": "d151b574-d43f-44c1-a370-4fc927f94692"
      },
      "outputs": [
        {
          "data": {
            "text/plain": [
              "[33, 36, 39, 42, 45, 48, 51, 54, 57]"
            ]
          },
          "execution_count": 4,
          "metadata": {},
          "output_type": "execute_result"
        }
      ],
      "source": [
        "def list_addition(l1, l2, l3):\n",
        "    return list(map(lambda x,y,z : x+y+z, l1,l2,l3))\n",
        "\n",
        "list_addition(list1, list2, list3)"
      ]
    },
    {
      "cell_type": "markdown",
      "id": "5170b8f9",
      "metadata": {
        "id": "5170b8f9"
      },
      "source": [
        "### 3. Write a Python program to listify the list of given strings individually using Python map."
      ]
    },
    {
      "cell_type": "code",
      "execution_count": null,
      "id": "6f92e26a",
      "metadata": {
        "id": "6f92e26a",
        "outputId": "178c1f85-5b5e-475d-d938-ecf299280c1c"
      },
      "outputs": [
        {
          "data": {
            "text/plain": [
              "[['M', 'Y'], ['N', 'A', 'M', 'E'], ['I', 'S'], ['P', 'Y', 'T', 'H', 'O', 'N']]"
            ]
          },
          "execution_count": 11,
          "metadata": {},
          "output_type": "execute_result"
        }
      ],
      "source": [
        "l = [\"MY\", \"NAME\", \"IS\", \"PYTHON\"]\n",
        "\n",
        "def listifier(input_list):\n",
        "    return list(map(list, input_list))\n",
        "\n",
        "listifier(l)"
      ]
    },
    {
      "cell_type": "markdown",
      "id": "10ecb7e3",
      "metadata": {
        "id": "10ecb7e3"
      },
      "source": [
        "### 4. Write a Python program to square the elements of a list using map() function."
      ]
    },
    {
      "cell_type": "code",
      "execution_count": null,
      "id": "42c9f280",
      "metadata": {
        "id": "42c9f280",
        "outputId": "d30f0422-7f6f-4be4-9874-ba46e75898ee"
      },
      "outputs": [
        {
          "data": {
            "text/plain": [
              "[1, 2, 3, 4, 5, 6, 7, 8, 9, 10]"
            ]
          },
          "execution_count": 25,
          "metadata": {},
          "output_type": "execute_result"
        }
      ],
      "source": [
        "list_int = [i for i in range(1,11)]\n",
        "list_int"
      ]
    },
    {
      "cell_type": "code",
      "execution_count": null,
      "id": "45cbc870",
      "metadata": {
        "id": "45cbc870",
        "outputId": "efbefc70-dda5-4b1e-dec7-9b906b7e351e"
      },
      "outputs": [
        {
          "data": {
            "text/plain": [
              "[1, 4, 9, 16, 25, 36, 49, 64, 81, 100]"
            ]
          },
          "execution_count": 26,
          "metadata": {},
          "output_type": "execute_result"
        }
      ],
      "source": [
        "def square_calc(l):\n",
        "    return list(map(lambda x : x**2, l))\n",
        "\n",
        "square_calc(list_int)"
      ]
    },
    {
      "cell_type": "markdown",
      "id": "c1a887f1",
      "metadata": {
        "id": "c1a887f1"
      },
      "source": [
        "### 5. Write a Python program to convert all the characters in uppercase and lowercase and eliminate duplicate letters also sort list from a given sequence. Use map() function."
      ]
    },
    {
      "cell_type": "code",
      "execution_count": null,
      "id": "408bdd96",
      "metadata": {
        "id": "408bdd96",
        "outputId": "e25b4cde-a477-433e-ed84-10469736aaa8"
      },
      "outputs": [
        {
          "data": {
            "text/plain": [
              "[('a', 'A'), ('b', 'B'), ('c', 'C'), ('d', 'D'), ('p', 'P'), ('z', 'Z')]"
            ]
          },
          "execution_count": 36,
          "metadata": {},
          "output_type": "execute_result"
        }
      ],
      "source": [
        "list_char = ['a', 'B', 'c', 'd', 'A', 'P', 'p', 'z']\n",
        "def case_changer_dup_remover(l):\n",
        "    return sorted(list(set(map(lambda x : (str(x).lower(), str(x).upper()), l))))\n",
        "\n",
        "case_changer_dup_remover(list_char)"
      ]
    },
    {
      "cell_type": "code",
      "execution_count": null,
      "id": "31a37d62",
      "metadata": {
        "id": "31a37d62"
      },
      "outputs": [],
      "source": []
    },
    {
      "cell_type": "markdown",
      "id": "878adacf",
      "metadata": {
        "id": "878adacf"
      },
      "source": [
        "### 6. Write a Python program to add two given lists and find the difference between lists. Use map() function."
      ]
    },
    {
      "cell_type": "code",
      "execution_count": null,
      "id": "2d566c55",
      "metadata": {
        "id": "2d566c55",
        "outputId": "f22c3503-2f47-4a69-fade-6414fe0117ba"
      },
      "outputs": [
        {
          "data": {
            "text/plain": [
              "[1, 2, 3, 4, 5, 6, 7, 8, 9, 10]"
            ]
          },
          "execution_count": 37,
          "metadata": {},
          "output_type": "execute_result"
        }
      ],
      "source": [
        "list1 = [i for i in range(1,11)]\n",
        "list1"
      ]
    },
    {
      "cell_type": "code",
      "execution_count": null,
      "id": "b8d5b706",
      "metadata": {
        "id": "b8d5b706",
        "outputId": "9984ebd7-b680-4acd-fa3b-f3ed8d3e1e43"
      },
      "outputs": [
        {
          "data": {
            "text/plain": [
              "[10, 11, 12, 13, 14, 15, 16, 17, 18, 19, 20]"
            ]
          },
          "execution_count": 38,
          "metadata": {},
          "output_type": "execute_result"
        }
      ],
      "source": [
        "list2 = [i for i in range(10,21)]\n",
        "list2"
      ]
    },
    {
      "cell_type": "code",
      "execution_count": null,
      "id": "0c125cc7",
      "metadata": {
        "id": "0c125cc7",
        "outputId": "8bc3c35c-aa80-4950-acec-1db00f4f5ed7"
      },
      "outputs": [
        {
          "data": {
            "text/plain": [
              "[(11, 9),\n",
              " (13, 9),\n",
              " (15, 9),\n",
              " (17, 9),\n",
              " (19, 9),\n",
              " (21, 9),\n",
              " (23, 9),\n",
              " (25, 9),\n",
              " (27, 9),\n",
              " (29, 9)]"
            ]
          },
          "execution_count": 44,
          "metadata": {},
          "output_type": "execute_result"
        }
      ],
      "source": [
        "def list_add_sub(l1, l2):\n",
        "    return list(map(lambda x,y : (x+y , y-x), l1, l2))\n",
        "\n",
        "list_add_sub(list1, list2)"
      ]
    },
    {
      "cell_type": "markdown",
      "id": "9b574a72",
      "metadata": {
        "id": "9b574a72"
      },
      "source": [
        "### 7. Write a Python program to convert a given list of integers in a list and tuple of strings."
      ]
    },
    {
      "cell_type": "code",
      "execution_count": null,
      "id": "5e366dc7",
      "metadata": {
        "id": "5e366dc7",
        "outputId": "78eb5a70-8bbb-4248-9880-007651881bd4"
      },
      "outputs": [
        {
          "data": {
            "text/plain": [
              "[1, 2, 3, 4, 5, 6, 7, 8, 9, 10]"
            ]
          },
          "execution_count": 45,
          "metadata": {},
          "output_type": "execute_result"
        }
      ],
      "source": [
        "l_int = [i for i in range(1,11)]\n",
        "l_int"
      ]
    },
    {
      "cell_type": "code",
      "execution_count": null,
      "id": "fd9a4684",
      "metadata": {
        "id": "fd9a4684",
        "outputId": "36df74e6-e015-4188-acec-fa42118551fd"
      },
      "outputs": [
        {
          "data": {
            "text/plain": [
              "['1', '2', '3', '4', '5', '6', '7', '8', '9', '10']"
            ]
          },
          "execution_count": 47,
          "metadata": {},
          "output_type": "execute_result"
        }
      ],
      "source": [
        "def stringify_list(l):\n",
        "    return list(map(lambda x : str(x), l))\n",
        "\n",
        "stringify_list(l_int)"
      ]
    },
    {
      "cell_type": "code",
      "execution_count": null,
      "id": "481b9574",
      "metadata": {
        "id": "481b9574",
        "outputId": "ffff3520-f36e-4899-969d-795547c32698"
      },
      "outputs": [
        {
          "data": {
            "text/plain": [
              "('1', '2', '3', '4', '5', '6', '7', '8', '9', '10')"
            ]
          },
          "execution_count": 48,
          "metadata": {},
          "output_type": "execute_result"
        }
      ],
      "source": [
        "def stringify_list_into_tuple(l):\n",
        "    return tuple(map(lambda x : str(x), l))\n",
        "\n",
        "stringify_list_into_tuple(l_int)"
      ]
    },
    {
      "cell_type": "markdown",
      "id": "df5d9d69",
      "metadata": {
        "id": "df5d9d69"
      },
      "source": [
        "### 8. Write a Python program to create a new list taking specific elements from a tuple and convert a string value to integer."
      ]
    },
    {
      "cell_type": "code",
      "execution_count": null,
      "id": "53e39ce0",
      "metadata": {
        "id": "53e39ce0"
      },
      "outputs": [],
      "source": [
        "employee_data  = [('ABC','15/05/1988','65kg'), ('DEF','17/05/1986','770kg'),\n",
        "                  ('GHI','16/02/1989', '69kg'), ('JKL','25/09/1990', '65kg')]"
      ]
    },
    {
      "cell_type": "code",
      "execution_count": null,
      "id": "6920a23e",
      "metadata": {
        "id": "6920a23e",
        "outputId": "3a71ac99-dff0-422e-be68-8d9ef809bf59"
      },
      "outputs": [
        {
          "data": {
            "text/plain": [
              "['ABC', 'DEF', 'GHI', 'JKL']"
            ]
          },
          "execution_count": 6,
          "metadata": {},
          "output_type": "execute_result"
        }
      ],
      "source": [
        "employee_name = list(map(lambda x : x[0], employee_data))\n",
        "employee_name"
      ]
    },
    {
      "cell_type": "code",
      "execution_count": null,
      "id": "2e4057db",
      "metadata": {
        "id": "2e4057db",
        "outputId": "1f1e0ab5-6c4e-4307-96ce-a74d7934732c"
      },
      "outputs": [
        {
          "data": {
            "text/plain": [
              "['15/05/1988', '17/05/1986', '16/02/1989', '25/09/1990']"
            ]
          },
          "execution_count": 7,
          "metadata": {},
          "output_type": "execute_result"
        }
      ],
      "source": [
        "employee_dob = list(map(lambda x : x[1], employee_data))\n",
        "employee_dob"
      ]
    },
    {
      "cell_type": "code",
      "execution_count": null,
      "id": "e5901230",
      "metadata": {
        "id": "e5901230",
        "outputId": "6a347cb3-9037-4ea1-f50a-c002b0d23021"
      },
      "outputs": [
        {
          "data": {
            "text/plain": [
              "['65kg', '77kg', '69kg', '65kg']"
            ]
          },
          "execution_count": 6,
          "metadata": {},
          "output_type": "execute_result"
        }
      ],
      "source": [
        "employee_dob = list(map(lambda x : x[2], employee_data))\n",
        "employee_dob"
      ]
    },
    {
      "cell_type": "code",
      "execution_count": null,
      "id": "0fdcecbf",
      "metadata": {
        "id": "0fdcecbf",
        "outputId": "c729ba48-3980-42f5-8d21-c219496e50fa"
      },
      "outputs": [
        {
          "data": {
            "text/plain": [
              "[65, 770, 69, 65]"
            ]
          },
          "execution_count": 9,
          "metadata": {},
          "output_type": "execute_result"
        }
      ],
      "source": [
        "employee_weight = list(map(lambda x : int(x[2][0:-2]), employee_data))\n",
        "employee_weight"
      ]
    },
    {
      "cell_type": "markdown",
      "id": "1d812196",
      "metadata": {
        "id": "1d812196"
      },
      "source": [
        "### 9. Write a Python program to compute the square of first N Fibonacci numbers, using map function and generate a list of the numbers."
      ]
    },
    {
      "cell_type": "code",
      "execution_count": null,
      "id": "201f32fe",
      "metadata": {
        "id": "201f32fe",
        "outputId": "58201495-e53b-4193-96ab-5077132f7001"
      },
      "outputs": [
        {
          "name": "stdout",
          "output_type": "stream",
          "text": [
            "[0, 1, 1, 4, 9, 25, 64, 169, 441, 1156]\n"
          ]
        }
      ],
      "source": [
        "def fibonacci(n):\n",
        "    fib_sequence = [0, 1]\n",
        "    for i in range(2, n):\n",
        "        fib_sequence.append(fib_sequence[-1] + fib_sequence[-2])\n",
        "    return fib_sequence[:n]\n",
        "\n",
        "def square_fibonacci(n):\n",
        "    fib_numbers = fibonacci(n)\n",
        "    return list(map(lambda x: x ** 2, fib_numbers))\n",
        "\n",
        "# Example usage\n",
        "N = 10\n",
        "result = square_fibonacci(N)\n",
        "print(result)\n"
      ]
    },
    {
      "cell_type": "markdown",
      "id": "8a50d249",
      "metadata": {
        "id": "8a50d249"
      },
      "source": [
        "### 10. Write a Python program to compute the sum of elements of a given array of integers, use map() function."
      ]
    },
    {
      "cell_type": "code",
      "execution_count": null,
      "id": "d9272ef2",
      "metadata": {
        "id": "d9272ef2"
      },
      "outputs": [],
      "source": [
        "l_int = [i for i in range(1,101)]"
      ]
    },
    {
      "cell_type": "code",
      "execution_count": null,
      "id": "360e4de0",
      "metadata": {
        "id": "360e4de0",
        "outputId": "b2b10610-6281-41c4-9dac-bbf98dc0ad16"
      },
      "outputs": [
        {
          "data": {
            "text/plain": [
              "5050"
            ]
          },
          "execution_count": 20,
          "metadata": {},
          "output_type": "execute_result"
        }
      ],
      "source": [
        "from array import array as arr\n",
        "def add(num_array):\n",
        "    sum = 0\n",
        "    for i in num_array:\n",
        "        sum += i\n",
        "    return sum\n",
        "\n",
        "num = arr('i', l_int)\n",
        "\n",
        "num_array = list(map(int, num))\n",
        "add(num_array)"
      ]
    },
    {
      "cell_type": "markdown",
      "id": "d29c7fe2",
      "metadata": {
        "id": "d29c7fe2"
      },
      "source": [
        "### 11. Write a Python program to count the same pair in two given lists. use map() function."
      ]
    },
    {
      "cell_type": "code",
      "execution_count": null,
      "id": "ae04ded2",
      "metadata": {
        "id": "ae04ded2",
        "outputId": "62f3f34a-b827-47ca-bac3-3b6e262c0e13"
      },
      "outputs": [
        {
          "name": "stdout",
          "output_type": "stream",
          "text": [
            "Number of same pairs: 3\n"
          ]
        }
      ],
      "source": [
        "# Given lists\n",
        "list1 = [1, 2, 3, 4, 5]\n",
        "list2 = [1, 3, 2, 4, 5]\n",
        "\n",
        "same_pairs = sum(map(lambda x, y: x == y, list1, list2))\n",
        "\n",
        "print(f\"Number of same pairs: {same_pairs}\")\n"
      ]
    },
    {
      "cell_type": "markdown",
      "id": "d6cee54a",
      "metadata": {
        "id": "d6cee54a"
      },
      "source": [
        "### 12. Write a Python program to convert a given list of strings into list of lists using map function."
      ]
    },
    {
      "cell_type": "code",
      "execution_count": null,
      "id": "9ac3657c",
      "metadata": {
        "id": "9ac3657c",
        "outputId": "7c61ee0e-2e04-42e1-b616-f5cd547b93da"
      },
      "outputs": [
        {
          "data": {
            "text/plain": [
              "[['D', 'L'], ['M', 'L'], ['N', 'L', 'P'], ['C', 'V']]"
            ]
          },
          "execution_count": 78,
          "metadata": {},
          "output_type": "execute_result"
        }
      ],
      "source": [
        "l_courses = [\"DL\", \"ML\", \"NLP\", \"CV\"]\n",
        "\n",
        "def list_of_list(l):\n",
        "    return list(map(list, l))\n",
        "\n",
        "list_of_list(l_courses)"
      ]
    },
    {
      "cell_type": "markdown",
      "id": "d69e8100",
      "metadata": {
        "id": "d69e8100"
      },
      "source": [
        "### 13. Write a Python program to convert a given list of tuples to a list of strings using map function."
      ]
    },
    {
      "cell_type": "code",
      "execution_count": null,
      "id": "738abac8",
      "metadata": {
        "id": "738abac8",
        "outputId": "4f2a4b9f-a492-4edf-a28d-be24a0621c08"
      },
      "outputs": [
        {
          "data": {
            "text/plain": [
              "['A B', 'C D', 'E F', 'G H']"
            ]
          },
          "execution_count": 12,
          "metadata": {},
          "output_type": "execute_result"
        }
      ],
      "source": [
        "mentors = [(\"A\", \"B\"), (\"C\", \"D\"), (\"E\", \"F\"), (\"G\", \"H\")]\n",
        "\n",
        "def ListofTuples_to_ListofStrings(l):\n",
        "    return list(map(lambda x : x[0] + \" \"+ x[1],l))\n",
        "\n",
        "ListofTuples_to_ListofStrings(mentors)"
      ]
    },
    {
      "cell_type": "markdown",
      "id": "dfd8e1c4",
      "metadata": {
        "id": "dfd8e1c4"
      },
      "source": [
        "### 14. Write a Python program to filter a list of integers using filter function."
      ]
    },
    {
      "cell_type": "code",
      "execution_count": null,
      "id": "5edd9a2a",
      "metadata": {
        "id": "5edd9a2a",
        "outputId": "31817d93-72e7-4623-978b-74bc891753db"
      },
      "outputs": [
        {
          "data": {
            "text/plain": [
              "[2, 4, 6, 8, 10]"
            ]
          },
          "execution_count": 106,
          "metadata": {},
          "output_type": "execute_result"
        }
      ],
      "source": [
        "lint = [i for i in range(1,11)]\n",
        "\n",
        "def even_filter(l):\n",
        "    return list(filter(lambda x : x % 2 == 0 , l))\n",
        "\n",
        "even_filter(lint)"
      ]
    },
    {
      "cell_type": "code",
      "execution_count": null,
      "id": "f148a664",
      "metadata": {
        "id": "f148a664",
        "outputId": "5d0f0dc5-782b-468c-fd32-0e4db183a66d"
      },
      "outputs": [
        {
          "data": {
            "text/plain": [
              "[1, 3, 5, 7, 9]"
            ]
          },
          "execution_count": 107,
          "metadata": {},
          "output_type": "execute_result"
        }
      ],
      "source": [
        "def odd_filter(l):\n",
        "    return list(filter(lambda x : x % 2 != 0 , l))\n",
        "\n",
        "odd_filter(lint)"
      ]
    },
    {
      "cell_type": "markdown",
      "id": "6290b1bf",
      "metadata": {
        "id": "6290b1bf"
      },
      "source": [
        "### 15. Write a Python program to find intersection of two given arrays using Filter function."
      ]
    },
    {
      "cell_type": "code",
      "execution_count": null,
      "id": "ff16bd7f",
      "metadata": {
        "id": "ff16bd7f",
        "outputId": "a25ed2a4-4e80-49b0-cf4f-aa92c8ebc716"
      },
      "outputs": [
        {
          "data": {
            "text/plain": [
              "[2, 4, 6, 8]"
            ]
          },
          "execution_count": 104,
          "metadata": {},
          "output_type": "execute_result"
        }
      ],
      "source": [
        "l1 = [1,2,3,4,5,6,7,8,9,10]\n",
        "l2 = [2,4,6,8,11,12]\n",
        "\n",
        "def intersection(list1, list2):\n",
        "    return list(filter(lambda x : x in list1 , list2))\n",
        "\n",
        "intersection(l1, l2)"
      ]
    },
    {
      "cell_type": "markdown",
      "id": "ddc1f4d6",
      "metadata": {
        "id": "ddc1f4d6"
      },
      "source": [
        "### 16. Write a Python program to count the even, odd numbers in a given array of integers using filter function."
      ]
    },
    {
      "cell_type": "code",
      "execution_count": null,
      "id": "f190210e",
      "metadata": {
        "id": "f190210e",
        "outputId": "b0c89109-3ca8-4f98-f653-472342d66245"
      },
      "outputs": [
        {
          "data": {
            "text/plain": [
              "[28, 29, 49, 9, 23, 35, 44, 47, 10, 35]"
            ]
          },
          "execution_count": 2,
          "metadata": {},
          "output_type": "execute_result"
        }
      ],
      "source": [
        "import random\n",
        "def count_Even_odd(l) :\n",
        "    even = len(list(filter(lambda x: x % 2 == 0, l)))\n",
        "\n",
        "    print(\"Count of Even number in given list is: \", even)\n",
        "    print(\"Count of odd number in given list is: \", len(l) - even)\n",
        "\n",
        "list_num = [random.randrange(1,50) for i in range(10)]\n",
        "list_num"
      ]
    },
    {
      "cell_type": "code",
      "execution_count": null,
      "id": "73985743",
      "metadata": {
        "id": "73985743",
        "outputId": "4823196c-511f-441f-a764-7590a81a0c44"
      },
      "outputs": [
        {
          "name": "stdout",
          "output_type": "stream",
          "text": [
            "Count of Even number in given list is:  3\n",
            "Count of odd number in given list is:  7\n"
          ]
        }
      ],
      "source": [
        "count_Even_odd(list_num)"
      ]
    },
    {
      "cell_type": "markdown",
      "id": "5c21fc0c",
      "metadata": {
        "id": "5c21fc0c"
      },
      "source": [
        "### 17. Write a Python program to find palindromes in a given list of strings using filter function."
      ]
    },
    {
      "cell_type": "code",
      "execution_count": null,
      "id": "af785d0b",
      "metadata": {
        "id": "af785d0b",
        "outputId": "53451140-adf2-431e-9963-c9a16566e0fd"
      },
      "outputs": [
        {
          "data": {
            "text/plain": [
              "['php', 'aaa']"
            ]
          },
          "execution_count": 103,
          "metadata": {},
          "output_type": "execute_result"
        }
      ],
      "source": [
        "l_word = ['php', 'w3r', 'Python', 'abcd', 'Java', 'aaa']\n",
        "\n",
        "def palindrome_filter(l):\n",
        "    return list(filter(lambda x : x if x == x[::-1] else '', l))\n",
        "\n",
        "palindrome_filter(l_word)"
      ]
    },
    {
      "cell_type": "markdown",
      "id": "528e04e8",
      "metadata": {
        "id": "528e04e8"
      },
      "source": [
        "### 18. Write a Python program to find all anagrams of a string in a given list of strings using filter function."
      ]
    },
    {
      "cell_type": "code",
      "execution_count": null,
      "id": "086aabf7",
      "metadata": {
        "id": "086aabf7",
        "outputId": "7650c53e-051e-4d29-b3dc-1124916a19fd"
      },
      "outputs": [
        {
          "data": {
            "text/plain": [
              "['wxyz', 'zywx', 'yzxw']"
            ]
          },
          "execution_count": 108,
          "metadata": {},
          "output_type": "execute_result"
        }
      ],
      "source": [
        "l = ['wxyz', 'wxye', 'zywx', 'zxew', 'yzxw']\n",
        "\n",
        "from collections import Counter\n",
        "\n",
        "def anagrams_filter(main_string, list_words):\n",
        "    return list(filter(lambda x: x if Counter(main_string) == Counter(x) else '', list_words))\n",
        "\n",
        "anagrams_filter(\"wxyz\", l)"
      ]
    },
    {
      "cell_type": "markdown",
      "id": "999b26a4",
      "metadata": {
        "id": "999b26a4"
      },
      "source": [
        "### 19. Write a Python program to calculate the product of a given list of numbers using reduce function."
      ]
    },
    {
      "cell_type": "code",
      "execution_count": null,
      "id": "2d688c1e",
      "metadata": {
        "id": "2d688c1e",
        "outputId": "a5b886d5-8fe7-4163-9b63-ba06e94792da"
      },
      "outputs": [
        {
          "data": {
            "text/plain": [
              "3628800"
            ]
          },
          "execution_count": 121,
          "metadata": {},
          "output_type": "execute_result"
        }
      ],
      "source": [
        "from functools import reduce\n",
        "\n",
        "l = [i for i in range(1,11)]\n",
        "\n",
        "def product_reduce(l_int):\n",
        "    return reduce(lambda x,y : x*y, l_int)\n",
        "\n",
        "product_reduce(l)"
      ]
    },
    {
      "cell_type": "markdown",
      "id": "7569ba7a",
      "metadata": {
        "id": "7569ba7a"
      },
      "source": [
        "### 20. Write a Python program to calculate the sum of numbers in a given list of numbers using reduce function."
      ]
    },
    {
      "cell_type": "code",
      "execution_count": null,
      "id": "20956a97",
      "metadata": {
        "id": "20956a97",
        "outputId": "2ad79ecd-042a-40cc-90d3-d77c070eebfd"
      },
      "outputs": [
        {
          "data": {
            "text/plain": [
              "165"
            ]
          },
          "execution_count": 122,
          "metadata": {},
          "output_type": "execute_result"
        }
      ],
      "source": [
        "l_num = [i for i in range(10, 21)]\n",
        "\n",
        "def sum_reduce(l_int):\n",
        "    return reduce(lambda x,y : x+y, l_int)\n",
        "\n",
        "sum_reduce(l_num)"
      ]
    },
    {
      "cell_type": "markdown",
      "id": "03953e87",
      "metadata": {
        "id": "03953e87"
      },
      "source": [
        "### 21. Write a Python program to multiply all the numbers in a given list using reduce function."
      ]
    },
    {
      "cell_type": "code",
      "execution_count": null,
      "id": "ee12a3eb",
      "metadata": {
        "id": "ee12a3eb"
      },
      "outputs": [],
      "source": [
        "l = [4, 3, 2, 2, -1, 18]\n",
        "l1 = [2.2, 4.12, 6.6, 8.1, 8.3]\n",
        "\n",
        "def multiply_reduce(l_int):\n",
        "    return round(reduce(lambda x,y : x*y, l_int), 2)"
      ]
    },
    {
      "cell_type": "code",
      "execution_count": null,
      "id": "d160cd2d",
      "metadata": {
        "id": "d160cd2d",
        "outputId": "5e74ba41-405b-40f1-8377-4b35e745cfa5"
      },
      "outputs": [
        {
          "data": {
            "text/plain": [
              "-864"
            ]
          },
          "execution_count": 119,
          "metadata": {},
          "output_type": "execute_result"
        }
      ],
      "source": [
        "multiply_reduce(l)"
      ]
    },
    {
      "cell_type": "code",
      "execution_count": null,
      "id": "cd80504f",
      "metadata": {
        "id": "cd80504f",
        "outputId": "19007523-8f85-4aa5-ef79-190da7ed2e6d"
      },
      "outputs": [
        {
          "data": {
            "text/plain": [
              "4021.86"
            ]
          },
          "execution_count": 120,
          "metadata": {},
          "output_type": "execute_result"
        }
      ],
      "source": [
        "multiply_reduce(l1)"
      ]
    }
  ],
  "metadata": {
    "kernelspec": {
      "display_name": "Python 3 (ipykernel)",
      "language": "python",
      "name": "python3"
    },
    "language_info": {
      "codemirror_mode": {
        "name": "ipython",
        "version": 3
      },
      "file_extension": ".py",
      "mimetype": "text/x-python",
      "name": "python",
      "nbconvert_exporter": "python",
      "pygments_lexer": "ipython3",
      "version": "3.11.5"
    },
    "colab": {
      "provenance": []
    }
  },
  "nbformat": 4,
  "nbformat_minor": 5
}