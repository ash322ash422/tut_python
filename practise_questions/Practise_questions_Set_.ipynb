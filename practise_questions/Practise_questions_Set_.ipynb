{
 "cells": [
  {
   "cell_type": "markdown",
   "id": "435e64be",
   "metadata": {},
   "source": [
    "# Sets Questions"
   ]
  },
  {
   "cell_type": "markdown",
   "id": "21486b25",
   "metadata": {},
   "source": [
    "**Question 1. Write a Python program to create a set.**"
   ]
  },
  {
   "cell_type": "code",
   "execution_count": 3,
   "id": "3a481629",
   "metadata": {},
   "outputs": [
    {
     "name": "stdout",
     "output_type": "stream",
     "text": [
      "set()\n"
     ]
    }
   ],
   "source": [
    "#Empty set\n",
    "x = set()\n",
    "print(x)"
   ]
  },
  {
   "cell_type": "code",
   "execution_count": 4,
   "id": "a2509c80",
   "metadata": {},
   "outputs": [
    {
     "data": {
      "text/plain": [
       "set"
      ]
     },
     "execution_count": 4,
     "metadata": {},
     "output_type": "execute_result"
    }
   ],
   "source": [
    "type(x)"
   ]
  },
  {
   "cell_type": "code",
   "execution_count": 5,
   "id": "058b8fc4",
   "metadata": {},
   "outputs": [
    {
     "name": "stdout",
     "output_type": "stream",
     "text": [
      "{0, 1, 2, 3, 4}\n"
     ]
    }
   ],
   "source": [
    "#Non-Empty Set containing numerics\n",
    "y = set([0, 1, 2, 3, 4])\n",
    "print(y)"
   ]
  },
  {
   "cell_type": "code",
   "execution_count": 6,
   "id": "3fe0e2d4",
   "metadata": {},
   "outputs": [
    {
     "data": {
      "text/plain": [
       "{1, 2, 3, 'bar', 'foo'}"
      ]
     },
     "execution_count": 6,
     "metadata": {},
     "output_type": "execute_result"
    }
   ],
   "source": [
    "#Non-Empty Set containing literals\n",
    "z = {1,2,3,'foo','bar'}\n",
    "z"
   ]
  },
  {
   "cell_type": "markdown",
   "id": "76506335",
   "metadata": {},
   "source": [
    "**Question 2. Write a Python program to iterate over sets.**"
   ]
  },
  {
   "cell_type": "code",
   "execution_count": 7,
   "id": "f620f379",
   "metadata": {},
   "outputs": [
    {
     "name": "stdout",
     "output_type": "stream",
     "text": [
      "0 1 2 3 4 5 "
     ]
    }
   ],
   "source": [
    "num_set = {0, 1, 2, 3, 4, 5}\n",
    "# Iterate over the set\n",
    "for i in num_set:\n",
    "    print(i, end=' ')"
   ]
  },
  {
   "cell_type": "markdown",
   "id": "7d948546",
   "metadata": {},
   "source": [
    "**Question 3. Write a Python program to add member(s) to a set**"
   ]
  },
  {
   "cell_type": "code",
   "execution_count": 13,
   "id": "df0f8e6b",
   "metadata": {},
   "outputs": [
    {
     "name": "stdout",
     "output_type": "stream",
     "text": [
      "Set with Single element:\n",
      "{'Orange'}\n"
     ]
    }
   ],
   "source": [
    "#A new empty set\n",
    "set1 = set()\n",
    "print(\"Set with Single element:\")\n",
    "set1.add(\"Orange\")\n",
    "print(set1)"
   ]
  },
  {
   "cell_type": "code",
   "execution_count": 14,
   "id": "ee6269d2",
   "metadata": {},
   "outputs": [
    {
     "name": "stdout",
     "output_type": "stream",
     "text": [
      "Set with Multiple items:\n",
      "{'Black', 'Orange', 'Green'}\n"
     ]
    }
   ],
   "source": [
    "print(\"Set with Multiple items:\")\n",
    "set1.update([\"Black\", \"Green\"])\n",
    "print(set1)"
   ]
  },
  {
   "cell_type": "markdown",
   "id": "c0d17573",
   "metadata": {},
   "source": [
    "**Question 4. Write a Python program to remove item(s) from a given set.**"
   ]
  },
  {
   "cell_type": "code",
   "execution_count": 18,
   "id": "022ffa4f",
   "metadata": {},
   "outputs": [
    {
     "name": "stdout",
     "output_type": "stream",
     "text": [
      "Original set:\n",
      "{0, 1, 3, 4, 5}\n"
     ]
    }
   ],
   "source": [
    "set1 = set([0, 1, 3, 4, 5])\n",
    "print(\"Original set:\")\n",
    "print(set1)"
   ]
  },
  {
   "cell_type": "code",
   "execution_count": 19,
   "id": "e4a1d7ea",
   "metadata": {},
   "outputs": [
    {
     "name": "stdout",
     "output_type": "stream",
     "text": [
      "After removing the first element from the said set:\n",
      "{1, 3, 4, 5}\n"
     ]
    }
   ],
   "source": [
    "set1.pop()\n",
    "print(\"After removing the first element from the said set:\")\n",
    "print(set1)"
   ]
  },
  {
   "cell_type": "markdown",
   "id": "00e7e78f",
   "metadata": {},
   "source": [
    "**Question 5. Write a Python program to create an intersection of sets**"
   ]
  },
  {
   "cell_type": "code",
   "execution_count": 20,
   "id": "84bcb947",
   "metadata": {},
   "outputs": [
    {
     "name": "stdout",
     "output_type": "stream",
     "text": [
      "Original set elements:\n",
      "{'blue', 'green'}\n",
      "{'blue', 'yellow'}\n"
     ]
    }
   ],
   "source": [
    "#Intersection of 2 sets is a new set containing all elements of A that also belong to B \n",
    "set1 = set([\"green\", \"blue\"])\n",
    "set2 = set([\"blue\", \"yellow\"])\n",
    "print(\"Original set elements:\")\n",
    "print(set1)\n",
    "print(set2)"
   ]
  },
  {
   "cell_type": "code",
   "execution_count": 21,
   "id": "544e203d",
   "metadata": {},
   "outputs": [
    {
     "name": "stdout",
     "output_type": "stream",
     "text": [
      "Intersection of two said sets:\n",
      "{'blue'}\n"
     ]
    }
   ],
   "source": [
    "print(\"Intersection of two said sets:\")\n",
    "set3 = set1 & set2 \n",
    "#set1.intersection(set2) can also be used\n",
    "print(set3)"
   ]
  },
  {
   "cell_type": "markdown",
   "id": "29ffb8c7",
   "metadata": {},
   "source": [
    "**Question 6. Write a Python program to create a union of sets.**"
   ]
  },
  {
   "cell_type": "code",
   "execution_count": 22,
   "id": "d4e9a11a",
   "metadata": {},
   "outputs": [
    {
     "name": "stdout",
     "output_type": "stream",
     "text": [
      "Original set elements:\n",
      "{'blue', 'green'}\n",
      "{'blue', 'yellow'}\n"
     ]
    }
   ],
   "source": [
    "#Union of sets is the set of all elements in the collection\n",
    "set1 = set([\"green\", \"blue\"])\n",
    "set2 = set([\"blue\", \"yellow\"])\n",
    "print(\"Original set elements:\")\n",
    "print(set1)\n",
    "print(set2)"
   ]
  },
  {
   "cell_type": "code",
   "execution_count": 23,
   "id": "bdc128bf",
   "metadata": {},
   "outputs": [
    {
     "name": "stdout",
     "output_type": "stream",
     "text": [
      "Union of two said sets:\n",
      "{'blue', 'green', 'yellow'}\n"
     ]
    }
   ],
   "source": [
    "print(\"Union of two said sets:\")\n",
    "set3 = set1 | set2 #set1.union(set2) can also be used\n",
    "print(set3)"
   ]
  },
  {
   "cell_type": "markdown",
   "id": "32d826b2",
   "metadata": {},
   "source": [
    "**Question 7. Write a Python program to create set difference.**"
   ]
  },
  {
   "cell_type": "code",
   "execution_count": 24,
   "id": "3b7a40a6",
   "metadata": {},
   "outputs": [
    {
     "name": "stdout",
     "output_type": "stream",
     "text": [
      "Original set elements:\n",
      "{'blue', 'green'}\n",
      "{'blue', 'yellow'}\n"
     ]
    }
   ],
   "source": [
    "#Set difference gives values that are in A but not in B\n",
    "set1 = set([\"green\", \"blue\"])\n",
    "set2 = set([\"blue\", \"yellow\"])\n",
    "print(\"Original set elements:\")\n",
    "print(set1)\n",
    "print(set2)"
   ]
  },
  {
   "cell_type": "code",
   "execution_count": 25,
   "id": "4945e118",
   "metadata": {},
   "outputs": [
    {
     "name": "stdout",
     "output_type": "stream",
     "text": [
      "Difference of two said sets:\n",
      "{'green'}\n"
     ]
    }
   ],
   "source": [
    "print(\"Difference of two said sets:\")\n",
    "set3 = set1 - set2 #set1.difference(set2) can also be used\n",
    "print(set3)"
   ]
  },
  {
   "cell_type": "markdown",
   "id": "1111531b",
   "metadata": {},
   "source": [
    "**Question 8. Write a Python program to create a symmetric difference.**"
   ]
  },
  {
   "cell_type": "code",
   "execution_count": 26,
   "id": "ed4699e3",
   "metadata": {},
   "outputs": [
    {
     "name": "stdout",
     "output_type": "stream",
     "text": [
      "Original set elements:\n",
      "{'blue', 'green'}\n",
      "{'blue', 'yellow'}\n"
     ]
    }
   ],
   "source": [
    "#Set Symmetric difference gives values that are not common in both sets\n",
    "set1 = set([\"green\", \"blue\"])\n",
    "set2 = set([\"blue\", \"yellow\"])\n",
    "print(\"Original set elements:\")\n",
    "print(set1)\n",
    "print(set2)"
   ]
  },
  {
   "cell_type": "code",
   "execution_count": 27,
   "id": "19a15a60",
   "metadata": {},
   "outputs": [
    {
     "name": "stdout",
     "output_type": "stream",
     "text": [
      "Symmetric Difference of two said sets:\n",
      "{'yellow', 'green'}\n"
     ]
    }
   ],
   "source": [
    "print(\"Symmetric Difference of two said sets:\")\n",
    "set3 = set1 ^ set2 #set1.symmetric_difference(set2) can also be used\n",
    "print(set3)"
   ]
  },
  {
   "cell_type": "markdown",
   "id": "7596203d",
   "metadata": {},
   "source": [
    "**Question 9. Write a Python program to check if a set is a subset of another set.**"
   ]
  },
  {
   "cell_type": "code",
   "execution_count": 28,
   "id": "fd3fde8d",
   "metadata": {},
   "outputs": [
    {
     "name": "stdout",
     "output_type": "stream",
     "text": [
      "Original set elements:\n",
      "{'blue', 'green'}\n",
      "{'blue', 'yellow'}\n"
     ]
    }
   ],
   "source": [
    "#Return True if all elements of the set1 are members of set2\n",
    "set1 = set([\"green\", \"blue\"])\n",
    "set2 = set([\"blue\", \"yellow\"])\n",
    "print(\"Original set elements:\")\n",
    "print(set1)\n",
    "print(set2)"
   ]
  },
  {
   "cell_type": "code",
   "execution_count": 29,
   "id": "8994b9d0",
   "metadata": {},
   "outputs": [
    {
     "name": "stdout",
     "output_type": "stream",
     "text": [
      "If set1 is subset of set2\n",
      "False\n"
     ]
    }
   ],
   "source": [
    "print(\"If set1 is subset of set2\")\n",
    "set3 = set1.issubset(set2)\n",
    "print(set3)"
   ]
  },
  {
   "cell_type": "markdown",
   "id": "1e38578e",
   "metadata": {},
   "source": [
    "**Question 10.  Write a Python program to remove all elements from a given set.**"
   ]
  },
  {
   "cell_type": "code",
   "execution_count": 30,
   "id": "5186dbf9",
   "metadata": {},
   "outputs": [
    {
     "name": "stdout",
     "output_type": "stream",
     "text": [
      "Original set elements:\n",
      "{'Green', 'Red', 'Black', 'White'}\n"
     ]
    }
   ],
   "source": [
    "set1 = {\"Red\", \"Green\", \"Black\", \"White\"}\n",
    "print(\"Original set elements:\")\n",
    "print(set1)        "
   ]
  },
  {
   "cell_type": "code",
   "execution_count": 31,
   "id": "59f63494",
   "metadata": {},
   "outputs": [
    {
     "name": "stdout",
     "output_type": "stream",
     "text": [
      "After removing all elements of the said set.\n",
      "set()\n"
     ]
    }
   ],
   "source": [
    "print(\"After removing all elements of the said set.\")\n",
    "set1.clear()\n",
    "print(set1)"
   ]
  },
  {
   "cell_type": "markdown",
   "id": "82181d72",
   "metadata": {},
   "source": [
    "**Question 11. Write a Python program to find the maximum and minimum values in a set.**"
   ]
  },
  {
   "cell_type": "code",
   "execution_count": 32,
   "id": "10c28e9a",
   "metadata": {},
   "outputs": [
    {
     "name": "stdout",
     "output_type": "stream",
     "text": [
      "Original set elements:\n",
      "{1, 17, 3, 5, 25, 10}\n"
     ]
    }
   ],
   "source": [
    "#Create a set\n",
    "set1 = {5, 10, 3, 17, 1, 25}\n",
    "print(\"Original set elements:\")\n",
    "print(set1)"
   ]
  },
  {
   "cell_type": "code",
   "execution_count": 33,
   "id": "906f8efe",
   "metadata": {},
   "outputs": [
    {
     "name": "stdout",
     "output_type": "stream",
     "text": [
      "Maximum value of the said set:\n",
      "25\n"
     ]
    }
   ],
   "source": [
    "print(\"Maximum value of the said set:\")\n",
    "print(max(set1))"
   ]
  },
  {
   "cell_type": "code",
   "execution_count": 34,
   "id": "43a9b4d0",
   "metadata": {},
   "outputs": [
    {
     "name": "stdout",
     "output_type": "stream",
     "text": [
      "Minimum value of the said set:\n",
      "1\n"
     ]
    }
   ],
   "source": [
    "print(\"Minimum value of the said set:\")\n",
    "print(min(set1))"
   ]
  },
  {
   "cell_type": "markdown",
   "id": "81873506",
   "metadata": {},
   "source": [
    "**Question 12. Write a Python program to find the length of a set.**"
   ]
  },
  {
   "cell_type": "code",
   "execution_count": 35,
   "id": "b3e6d13d",
   "metadata": {},
   "outputs": [
    {
     "name": "stdout",
     "output_type": "stream",
     "text": [
      "Original set elements:\n",
      "{1, 17, 3, 5, 25, 10}\n"
     ]
    }
   ],
   "source": [
    "#Create a set\n",
    "set1 = {5, 10, 3, 17, 1, 25}\n",
    "print(\"Original set elements:\")\n",
    "print(set1)"
   ]
  },
  {
   "cell_type": "code",
   "execution_count": 36,
   "id": "d3caffcf",
   "metadata": {},
   "outputs": [
    {
     "name": "stdout",
     "output_type": "stream",
     "text": [
      "Length of the said set:\n",
      "6\n"
     ]
    }
   ],
   "source": [
    "print(\"Length of the said set:\")\n",
    "print(len(set1))"
   ]
  },
  {
   "cell_type": "markdown",
   "id": "cd9a4d2b",
   "metadata": {},
   "source": [
    "**Question 13. Write a Python program to check if a given value is present in a set or not.**"
   ]
  },
  {
   "cell_type": "code",
   "execution_count": 37,
   "id": "c06484a0",
   "metadata": {},
   "outputs": [
    {
     "name": "stdout",
     "output_type": "stream",
     "text": [
      "Original sets(nums):  {1, 3, 5, 7, 9, 11}\n"
     ]
    }
   ],
   "source": [
    "numbers = {1, 3, 5, 7, 9, 11}\n",
    "print(\"Original sets(nums): \",numbers)"
   ]
  },
  {
   "cell_type": "code",
   "execution_count": 38,
   "id": "8d4ca464",
   "metadata": {},
   "outputs": [
    {
     "name": "stdout",
     "output_type": "stream",
     "text": [
      "Test if 6 exists in nums:\n",
      "False\n"
     ]
    }
   ],
   "source": [
    "print(\"Test if 6 exists in nums:\")\n",
    "print(6 in numbers)"
   ]
  },
  {
   "cell_type": "code",
   "execution_count": 39,
   "id": "9a164679",
   "metadata": {},
   "outputs": [
    {
     "name": "stdout",
     "output_type": "stream",
     "text": [
      "Test if 7 exists in numbers:\n",
      "True\n"
     ]
    }
   ],
   "source": [
    "print(\"Test if 7 exists in numbers:\")\n",
    "print(7 in numbers)"
   ]
  },
  {
   "cell_type": "markdown",
   "id": "1fb94efe",
   "metadata": {},
   "source": [
    "**Question 14. Write a Python program to check if two given sets have no elements in common.**"
   ]
  },
  {
   "cell_type": "code",
   "execution_count": 40,
   "id": "9e94c9e9",
   "metadata": {},
   "outputs": [
    {
     "name": "stdout",
     "output_type": "stream",
     "text": [
      "Original set elements:\n",
      "{1, 2, 3, 4}\n",
      "{4, 5, 6, 7}\n",
      "{8}\n"
     ]
    }
   ],
   "source": [
    "x = {1,2,3,4}\n",
    "y = {4,5,6,7}\n",
    "z = {8}\n",
    "print(\"Original set elements:\")\n",
    "print(x)\n",
    "print(y)\n",
    "print(z)"
   ]
  },
  {
   "cell_type": "code",
   "execution_count": 42,
   "id": "c1d24d89",
   "metadata": {},
   "outputs": [
    {
     "name": "stdout",
     "output_type": "stream",
     "text": [
      "Compare x and y:\n",
      "False\n",
      "Compare x and z:\n",
      "True\n",
      "Compare y and z:\n",
      "True\n"
     ]
    }
   ],
   "source": [
    "print(\"Compare x and y:\")\n",
    "print(x.isdisjoint(y))\n",
    "print(\"Compare x and z:\")\n",
    "print(x.isdisjoint(z))\n",
    "print(\"Compare y and z:\")\n",
    "print(y.isdisjoint(z))"
   ]
  },
  {
   "cell_type": "markdown",
   "id": "4ea065e0",
   "metadata": {},
   "source": [
    "**Question 15. Write a Python program to count number of vowels using sets in given string.**"
   ]
  },
  {
   "cell_type": "code",
   "execution_count": 52,
   "id": "b27d816e",
   "metadata": {},
   "outputs": [
    {
     "name": "stdout",
     "output_type": "stream",
     "text": [
      "String : Riya Chaddha\n",
      "Vowels : {'O', 'o', 'I', 'i', 'u', 'A', 'U', 'e', 'a', 'E'}\n",
      "Number of Vowels : 4\n"
     ]
    }
   ],
   "source": [
    "str = \"Riya Chaddha\"\n",
    "count = 0\n",
    "vowel = set(\"aeiouAEIOU\")\n",
    "print(\"String :\",str)\n",
    "print(\"Vowels :\",vowel)\n",
    "for alphabet in str:\n",
    "    if alphabet in vowel:\n",
    "        count = count + 1\n",
    " \n",
    "print(\"Number of Vowels :\", count)"
   ]
  },
  {
   "cell_type": "markdown",
   "id": "c53e0083",
   "metadata": {},
   "source": [
    "**Question 16. Write a Python program to Convert Set to String.**"
   ]
  },
  {
   "cell_type": "code",
   "execution_count": null,
   "id": "c997ff3c",
   "metadata": {},
   "outputs": [],
   "source": []
  },
  {
   "cell_type": "markdown",
   "id": "c2f64445",
   "metadata": {},
   "source": [
    "**Question 17. Write a Python program to Convert Set to List.**"
   ]
  },
  {
   "cell_type": "code",
   "execution_count": 53,
   "id": "8468ef7d",
   "metadata": {},
   "outputs": [
    {
     "name": "stdout",
     "output_type": "stream",
     "text": [
      "['for', 'DS', 'Python'] <class 'list'>\n"
     ]
    }
   ],
   "source": [
    "a = {'Python', 'for', 'DS'}\n",
    "b = list(a)\n",
    "print(b, type(b))"
   ]
  },
  {
   "cell_type": "markdown",
   "id": "8bd863e0",
   "metadata": {},
   "source": [
    "**QUestion 18. Write a Python program to Convert Set to Tuple.**"
   ]
  },
  {
   "cell_type": "code",
   "execution_count": 54,
   "id": "bfbe4809",
   "metadata": {},
   "outputs": [
    {
     "name": "stdout",
     "output_type": "stream",
     "text": [
      "('for', 'DS', 'Python') <class 'tuple'>\n"
     ]
    }
   ],
   "source": [
    "a = {'Python', 'for', 'DS'}\n",
    "b = tuple(a)\n",
    "print(b, type(b))"
   ]
  },
  {
   "cell_type": "markdown",
   "id": "bec2e0bb",
   "metadata": {},
   "source": [
    "**Question 19. Write a Python program to Convert Tuple to Set.**"
   ]
  },
  {
   "cell_type": "code",
   "execution_count": 55,
   "id": "83d15283",
   "metadata": {},
   "outputs": [
    {
     "name": "stdout",
     "output_type": "stream",
     "text": [
      "{1, 5, 'for', 'Python', 'DS'} <class 'set'>\n"
     ]
    }
   ],
   "source": [
    "a = ('Python', 'for', 'DS', 1, 5)\n",
    "b = set(a)\n",
    "print(b, type(b))"
   ]
  },
  {
   "cell_type": "markdown",
   "id": "65a8664f",
   "metadata": {},
   "source": [
    "**Question 20. Create a sequence of numbers using range, then ask the user to enter a number. Inform the user whether or not their number was within the range you specified.**"
   ]
  },
  {
   "cell_type": "code",
   "execution_count": 12,
   "id": "0a3f38db",
   "metadata": {},
   "outputs": [
    {
     "name": "stdout",
     "output_type": "stream",
     "text": [
      "Enter the Number : 49\n",
      "The Number is a Within the Range.\n"
     ]
    }
   ],
   "source": [
    "a = list(range(1,50))\n",
    "num = int(input(\"Enter the Number : \"))\n",
    "if num in a:\n",
    "    print(\"The Number is a Within the Range.\")\n",
    "else:\n",
    "    if num<a[0]:\n",
    "        print(\"Your Number is Low..\")\n",
    "    else:\n",
    "        print(\"Your Number is High..\")\n"
   ]
  }
 ],
 "metadata": {
  "kernelspec": {
   "display_name": "Python 3 (ipykernel)",
   "language": "python",
   "name": "python3"
  },
  "language_info": {
   "codemirror_mode": {
    "name": "ipython",
    "version": 3
   },
   "file_extension": ".py",
   "mimetype": "text/x-python",
   "name": "python",
   "nbconvert_exporter": "python",
   "pygments_lexer": "ipython3",
   "version": "3.9.12"
  }
 },
 "nbformat": 4,
 "nbformat_minor": 5
}
