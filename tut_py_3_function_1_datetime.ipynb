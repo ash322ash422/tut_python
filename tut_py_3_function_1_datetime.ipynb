{
 "cells": [
  {
   "cell_type": "markdown",
   "metadata": {},
   "source": [
    "# date time functions"
   ]
  },
  {
   "cell_type": "code",
   "execution_count": 39,
   "metadata": {},
   "outputs": [],
   "source": [
    "#Dealing with Dates\n",
    "import datetime as dt"
   ]
  },
  {
   "cell_type": "code",
   "execution_count": 40,
   "metadata": {},
   "outputs": [
    {
     "data": {
      "text/plain": [
       "datetime.datetime(2025, 4, 9, 17, 6, 34, 796244)"
      ]
     },
     "execution_count": 40,
     "metadata": {},
     "output_type": "execute_result"
    }
   ],
   "source": [
    "# Print current date and time\n",
    "dt.datetime.now()"
   ]
  },
  {
   "cell_type": "code",
   "execution_count": 41,
   "metadata": {},
   "outputs": [
    {
     "data": {
      "text/plain": [
       "datetime.date(2025, 4, 9)"
      ]
     },
     "execution_count": 41,
     "metadata": {},
     "output_type": "execute_result"
    }
   ],
   "source": [
    "# Returns the current local date\n",
    "dt.date.today()"
   ]
  },
  {
   "cell_type": "code",
   "execution_count": 42,
   "metadata": {},
   "outputs": [
    {
     "name": "stdout",
     "output_type": "stream",
     "text": [
      "2024-08-18 10:30:00\n"
     ]
    }
   ],
   "source": [
    "#Creating Specific Date and Time Objects\n",
    "\n",
    "date1=dt.datetime(2024, 8, 18, 10, 30)\n",
    "print(date1)"
   ]
  },
  {
   "cell_type": "code",
   "execution_count": 43,
   "metadata": {},
   "outputs": [
    {
     "name": "stdout",
     "output_type": "stream",
     "text": [
      "2024-08-18\n"
     ]
    }
   ],
   "source": [
    "date1=dt.date(2024, 8, 18)\n",
    "print(date1)"
   ]
  },
  {
   "cell_type": "code",
   "execution_count": 44,
   "metadata": {},
   "outputs": [
    {
     "name": "stdout",
     "output_type": "stream",
     "text": [
      "10:30:00\n"
     ]
    }
   ],
   "source": [
    "time1=dt.time(10, 30, 0)\n",
    "print(time1)"
   ]
  },
  {
   "cell_type": "code",
   "execution_count": 45,
   "metadata": {},
   "outputs": [
    {
     "name": "stdout",
     "output_type": "stream",
     "text": [
      "2025-04-09 17:06:34.839257\n",
      "time: 17:06:34\n"
     ]
    }
   ],
   "source": [
    "#strfttime - Convert Date into string format\n",
    "now = dt.datetime.now()\n",
    "print(now)\n",
    "t = now.strftime(\"%H:%M:%S\")\n",
    "print(\"time:\", t)"
   ]
  },
  {
   "cell_type": "code",
   "execution_count": 46,
   "metadata": {},
   "outputs": [
    {
     "name": "stdout",
     "output_type": "stream",
     "text": [
      "04/09/2025, 17:06:34\n"
     ]
    }
   ],
   "source": [
    "# Change the format of date\n",
    "s1 = now.strftime(\"%m/%d/%Y, %H:%M:%S\")\n",
    "print(s1)"
   ]
  },
  {
   "cell_type": "code",
   "execution_count": 47,
   "metadata": {},
   "outputs": [
    {
     "name": "stdout",
     "output_type": "stream",
     "text": [
      "Converted datetime: 2025-04-09 14:30:00\n",
      "<class 'datetime.datetime'>\n"
     ]
    }
   ],
   "source": [
    "# Convert string to datetime object: Needed because sometimes we have to add days, hours etc to time\n",
    "date_string = \"2025-04-09 14:30:00\"\n",
    "dt_obj = dt.datetime.strptime(date_string, \"%Y-%m-%d %H:%M:%S\")\n",
    "print(\"Converted datetime:\", dt_obj)\n",
    "print(type(dt_obj))"
   ]
  },
  {
   "cell_type": "code",
   "execution_count": 57,
   "metadata": {},
   "outputs": [
    {
     "name": "stdout",
     "output_type": "stream",
     "text": [
      "2025-04-09 17:15:23.579169\n",
      "2025\n",
      "4\n",
      "9\n",
      "2\n",
      "17\n",
      "15\n",
      "23\n"
     ]
    }
   ],
   "source": [
    "#Extracting date and time components\n",
    "\n",
    "now = dt.datetime.now()\n",
    "print(now)\n",
    "print(now.year)   \n",
    "print(now.month)  \n",
    "print(now.day)\n",
    "print(now.hour)  \n",
    "print(now.minute) \n",
    "print(now.second) \n"
   ]
  },
  {
   "cell_type": "code",
   "execution_count": 59,
   "metadata": {},
   "outputs": [
    {
     "name": "stdout",
     "output_type": "stream",
     "text": [
      "2\n",
      "3\n"
     ]
    }
   ],
   "source": [
    "# now = dt.datetime.now()\n",
    "# print(now.weekday())\n",
    "# print(now.isoweekday())"
   ]
  },
  {
   "cell_type": "code",
   "execution_count": 49,
   "metadata": {},
   "outputs": [
    {
     "name": "stdout",
     "output_type": "stream",
     "text": [
      "2024-08-20 10:30:00\n",
      "2024-08-19 10:30:00\n",
      "False\n"
     ]
    }
   ],
   "source": [
    "# Comparing different dates\n",
    "\n",
    "dt1 = dt.datetime(2024, 8, 20, 10, 30)\n",
    "dt2 = dt.datetime(2024, 8, 19, 10, 30)\n",
    "print(dt1)\n",
    "print(dt2)\n",
    "print(dt1 < dt2) \n"
   ]
  },
  {
   "cell_type": "code",
   "execution_count": 50,
   "metadata": {},
   "outputs": [
    {
     "name": "stdout",
     "output_type": "stream",
     "text": [
      "10 days from today: 2025-04-19\n",
      "5 days ago: 2025-04-04\n"
     ]
    }
   ],
   "source": [
    "# Add/Subtract Time with timedelta\n",
    "import datetime\n",
    "from datetime import timedelta\n",
    "\n",
    "today = datetime.date.today()\n",
    "# Add 10 days\n",
    "future = today + timedelta(days=10)\n",
    "print(\"10 days from today:\", future)\n",
    "\n",
    "# Subtract 5 days\n",
    "past = today - timedelta(days=5)\n",
    "print(\"5 days ago:\", past)"
   ]
  },
  {
   "cell_type": "code",
   "execution_count": 51,
   "metadata": {},
   "outputs": [
    {
     "name": "stdout",
     "output_type": "stream",
     "text": [
      "Current time:  2025-04-09 17:06:34.997947\n",
      "After 5 hours: 2025-04-09 22:06:34.997947\n"
     ]
    }
   ],
   "source": [
    "# Get current datetime\n",
    "from datetime import datetime\n",
    "\n",
    "now = datetime.now()\n",
    "print(\"Current time: \", now)\n",
    "\n",
    "# Add 5 hours\n",
    "future_time = now + timedelta(hours=5)\n",
    "print(\"After 5 hours:\", future_time)"
   ]
  },
  {
   "cell_type": "code",
   "execution_count": 55,
   "metadata": {},
   "outputs": [
    {
     "name": "stdout",
     "output_type": "stream",
     "text": [
      "Difference in days: 9\n",
      "Difference in hours: 216.0\n"
     ]
    }
   ],
   "source": [
    "# difference in days, hours\n",
    "\n",
    "from datetime import date\n",
    "\n",
    "d1 = date(2025, 4, 10)\n",
    "d2 = date(2025, 4, 1)\n",
    "diff = d1 - d2\n",
    "\n",
    "print(\"Difference in days:\", diff.days)\n",
    "\n",
    "# Convert days to hours\n",
    "hours = diff.total_seconds() / 3600\n",
    "print(\"Difference in hours:\", hours)\n"
   ]
  },
  {
   "cell_type": "code",
   "execution_count": null,
   "metadata": {},
   "outputs": [],
   "source": []
  }
 ],
 "metadata": {
  "kernelspec": {
   "display_name": "Python 3 (ipykernel)",
   "language": "python",
   "name": "python3"
  },
  "language_info": {
   "codemirror_mode": {
    "name": "ipython",
    "version": 3
   },
   "file_extension": ".py",
   "mimetype": "text/x-python",
   "name": "python",
   "nbconvert_exporter": "python",
   "pygments_lexer": "ipython3",
   "version": "3.11.2"
  }
 },
 "nbformat": 4,
 "nbformat_minor": 4
}
