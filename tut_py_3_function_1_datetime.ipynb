{
 "cells": [
  {
   "cell_type": "markdown",
   "metadata": {},
   "source": [
    "# funtions: datetime"
   ]
  },
  {
   "cell_type": "code",
   "execution_count": 36,
   "metadata": {},
   "outputs": [
    {
     "name": "stdout",
     "output_type": "stream",
     "text": [
      "2025-08-06 16:55:44.879634\n",
      "2025-08-06 16:55:44.879634\n",
      "<class 'datetime.datetime'>\n",
      "2025-08-06\n",
      "2024-08-18 10:30:00\n",
      "2024-08-18\n",
      "10:30:00\n"
     ]
    }
   ],
   "source": [
    "#Dealing with Dates\n",
    "import datetime as dt\n",
    "\n",
    "# Print current date and time\n",
    "print(dt.datetime.now())\n",
    "\n",
    "d = dt.datetime.now()\n",
    "print(d)\n",
    "print(type(d))\n",
    "\n",
    "###########################\n",
    "\n",
    "# Returns the current local date\n",
    "print(dt.date.today())\n",
    "\n",
    "###########################\n",
    "\n",
    "#Creating Specific Date and Time Objects\n",
    "date1=dt.datetime(2024, 8, 18, 10, 30) # year 2024, month aug, day 18, time 10AM hours 30\n",
    "print(date1)\n",
    "\n",
    "###############################\n",
    "# create a specific date\n",
    "d =dt.date(2024, 8, 18) # year 2024, month aug, day 18\n",
    "print(d)\n",
    "\n",
    "############################\n",
    "# create a specific time\n",
    "t=dt.time(10, 30, 0)\n",
    "print(t)"
   ]
  },
  {
   "cell_type": "markdown",
   "metadata": {},
   "source": [
    "## convert date object -> string object"
   ]
  },
  {
   "cell_type": "code",
   "execution_count": 9,
   "metadata": {},
   "outputs": [
    {
     "name": "stdout",
     "output_type": "stream",
     "text": [
      "2025-08-06 13:23:05.293095\n",
      "time: 13 hours : 23 minutes : 05 seconds\n"
     ]
    }
   ],
   "source": [
    "#strfttime - string format time: Convert Date into string format\n",
    "# for complete list: https://strftime.org/\n",
    "now = dt.datetime.now()\n",
    "print(now)\n",
    "\n",
    "# I want in a different format\n",
    "t = now.strftime(\"%H hours : %M minutes : %S seconds\")\n",
    "print(\"time:\", t)"
   ]
  },
  {
   "cell_type": "code",
   "execution_count": 37,
   "metadata": {},
   "outputs": [
    {
     "name": "stdout",
     "output_type": "stream",
     "text": [
      "08/06/2025, 14:04:58\n",
      "Today's date: Wednesday, 06 August 2025\n"
     ]
    }
   ],
   "source": [
    "# Change the format of date: month/day/year, hours:minutes:sec\n",
    "d = now.strftime(\"%m/%d/%Y, %H:%M:%S\")\n",
    "print(d)\n",
    "\n",
    "##############################\n",
    "d = now.strftime(\"%A, %d %B %Y\")\n",
    "print(\"Today's date:\", d)"
   ]
  },
  {
   "cell_type": "code",
   "execution_count": 38,
   "metadata": {},
   "outputs": [
    {
     "name": "stdout",
     "output_type": "stream",
     "text": [
      "Good afternoon!\n"
     ]
    }
   ],
   "source": [
    "# following prints good morning/afternoon/evening depending when u run this\n",
    "hr = now.hour\n",
    "\n",
    "if hr < 12:\n",
    "    print(\"Good morning!\")\n",
    "elif hr < 18:\n",
    "    print(\"Good afternoon!\")\n",
    "else:\n",
    "    print(\"Good evening!\")\n"
   ]
  },
  {
   "cell_type": "code",
   "execution_count": 39,
   "metadata": {},
   "outputs": [
    {
     "name": "stdout",
     "output_type": "stream",
     "text": [
      "Saving to: logfile_20250806_140458.txt\n"
     ]
    }
   ],
   "source": [
    "# Application: adding a timestamp on log files\n",
    "filename = now.strftime(\"logfile_%Y%m%d_%H%M%S.txt\")\n",
    "\n",
    "\n",
    "# some data is written to above filename\n",
    "with open(filename, 'w') as file:\n",
    "    t = now.strftime(\"%m/%d/%Y, %H:%M:%S\")\n",
    "    file.write(f\"{t}: caught SIGTERM, shutting down \")# Write the message to the file\n",
    "    \n",
    "print(\"Saving to:\", filename)"
   ]
  },
  {
   "cell_type": "markdown",
   "metadata": {},
   "source": [
    "##  string object -> date object"
   ]
  },
  {
   "cell_type": "code",
   "execution_count": 11,
   "metadata": {},
   "outputs": [
    {
     "name": "stdout",
     "output_type": "stream",
     "text": [
      "Converted datetime: 2025-04-09 14:30:00\n",
      "<class 'datetime.datetime'>\n"
     ]
    }
   ],
   "source": [
    "# Convert string to datetime object: Needed because sometimes we have to add days, hours etc to time\n",
    "date_string = \"2025-04-09 14:30:00\"\n",
    "dt_obj = dt.datetime.strptime(date_string, \"%Y-%m-%d %H:%M:%S\")\n",
    "\n",
    "print(\"Converted datetime:\", dt_obj)\n",
    "print(type(dt_obj))"
   ]
  },
  {
   "cell_type": "code",
   "execution_count": 19,
   "metadata": {},
   "outputs": [
    {
     "name": "stdout",
     "output_type": "stream",
     "text": [
      "2025-08-06 13:41:51.997525\n",
      "2025\n",
      "8\n",
      "6\n",
      "13\n",
      "41\n",
      "51\n"
     ]
    }
   ],
   "source": [
    "#Extracting date and time components\n",
    "\n",
    "now = dt.datetime.now()\n",
    "\n",
    "print(now)\n",
    "print(now.year)   \n",
    "print(now.month)  \n",
    "print(now.day)\n",
    "print(now.hour)  \n",
    "print(now.minute) \n",
    "print(now.second) \n"
   ]
  },
  {
   "cell_type": "code",
   "execution_count": 20,
   "metadata": {},
   "outputs": [
    {
     "name": "stdout",
     "output_type": "stream",
     "text": [
      "2\n",
      "3\n"
     ]
    }
   ],
   "source": [
    "now = dt.datetime.now()\n",
    "\n",
    "print(now.weekday()) #    Print the weekday (Monday is 0 and Sunday is 6)\n",
    "print(now.isoweekday()) # Print the ISO weekday (1=Monday, 7=Sunday)"
   ]
  },
  {
   "cell_type": "code",
   "execution_count": 21,
   "metadata": {},
   "outputs": [
    {
     "name": "stdout",
     "output_type": "stream",
     "text": [
      "2024-08-19 10:30:00\n",
      "2024-08-20 10:30:00\n",
      "False\n"
     ]
    }
   ],
   "source": [
    "# Comparing different date\n",
    "\n",
    "dt1 = dt.datetime(2024, 8, 19, 10, 30) # Aug 19, 2025\n",
    "dt2 = dt.datetime(2024, 8, 20, 10, 30) # Aug 20, 2025\n",
    "print(dt1)\n",
    "print(dt2)\n",
    "\n",
    "print(dt1 > dt2) # checks if dt1 is after dt2\n"
   ]
  },
  {
   "cell_type": "markdown",
   "metadata": {},
   "source": [
    "## timedelta\n",
    "Sometimes we add subtract some time"
   ]
  },
  {
   "cell_type": "code",
   "execution_count": 26,
   "metadata": {},
   "outputs": [
    {
     "name": "stdout",
     "output_type": "stream",
     "text": [
      "2025-08-06\n",
      "10 days from today: 2025-08-16\n",
      "5 days ago: 2025-08-01\n"
     ]
    }
   ],
   "source": [
    "# Add/Subtract day and time with timedelta\n",
    "import datetime as dt\n",
    "from datetime import timedelta\n",
    "\n",
    "today = dt.date.today()\n",
    "print(today)\n",
    "# Add 10 days\n",
    "future = today + timedelta(days=10) # change to 100,1000\n",
    "print(\"10 days from today:\", future)\n",
    "\n",
    "# Subtract 5 days\n",
    "past = today - timedelta(days=5)\n",
    "print(\"5 days ago:\", past)"
   ]
  },
  {
   "cell_type": "code",
   "execution_count": 28,
   "metadata": {},
   "outputs": [
    {
     "name": "stdin",
     "output_type": "stream",
     "text": [
      "Enter date:(yyyy-mm-dd): 2025-08-09\n",
      "Enter future number of days: 5\n"
     ]
    },
    {
     "ename": "TypeError",
     "evalue": "unsupported type for timedelta days component: str",
     "output_type": "error",
     "traceback": [
      "\u001b[1;31m---------------------------------------------------------------------------\u001b[0m",
      "\u001b[1;31mTypeError\u001b[0m                                 Traceback (most recent call last)",
      "Cell \u001b[1;32mIn[28], line 11\u001b[0m\n\u001b[0;32m      7\u001b[0m d \u001b[38;5;241m=\u001b[39m \u001b[38;5;28minput\u001b[39m(\u001b[38;5;124m\"\u001b[39m\u001b[38;5;124mEnter date:(yyyy-mm-dd):\u001b[39m\u001b[38;5;124m\"\u001b[39m) \u001b[38;5;66;03m# this is return a str\u001b[39;00m\n\u001b[0;32m      8\u001b[0m future_day \u001b[38;5;241m=\u001b[39m \u001b[38;5;28minput\u001b[39m(\u001b[38;5;124m\"\u001b[39m\u001b[38;5;124mEnter future number of days:\u001b[39m\u001b[38;5;124m\"\u001b[39m) \u001b[38;5;66;03m# this is return a str\u001b[39;00m\n\u001b[1;32m---> 11\u001b[0m future \u001b[38;5;241m=\u001b[39m d \u001b[38;5;241m+\u001b[39m timedelta(days\u001b[38;5;241m=\u001b[39mfuture_day) \n\u001b[0;32m     12\u001b[0m \u001b[38;5;28mprint\u001b[39m(\u001b[38;5;124m\"\u001b[39m\u001b[38;5;124mfuture date:\u001b[39m\u001b[38;5;124m\"\u001b[39m, future)\n",
      "\u001b[1;31mTypeError\u001b[0m: unsupported type for timedelta days component: str"
     ]
    }
   ],
   "source": [
    "# a simple application\n",
    "# STEP1: Following is wrong program\n",
    "\n",
    "# Users enter the date and how far in the future he wants to calculate the date\n",
    "import datetime as dt\n",
    "from datetime import timedelta\n",
    "\n",
    "d = input(\"Enter date:(yyyy-mm-dd):\") # this returns a str\n",
    "future_day = input(\"Enter future number of days:\") # this returns a str\n",
    "\n",
    "\n",
    "future = d + timedelta(days=future_day) \n",
    "print(\"future date:\", future)\n"
   ]
  },
  {
   "cell_type": "code",
   "execution_count": 30,
   "metadata": {},
   "outputs": [
    {
     "name": "stdin",
     "output_type": "stream",
     "text": [
      "Enter date:(yyyy-mm-dd): 2025-08-14\n",
      "Enter future number of days: 7\n"
     ]
    },
    {
     "name": "stdout",
     "output_type": "stream",
     "text": [
      "future date: 2025-08-21 00:00:00\n"
     ]
    }
   ],
   "source": [
    "# a simple application\n",
    "# STEP2\n",
    "# Users enter the date and how far in the future he wants to calculate the date\n",
    "import datetime as dt\n",
    "from datetime import timedelta\n",
    "\n",
    "d = input(\"Enter date:(yyyy-mm-dd):\") # this is return a str\n",
    "future_day = input(\"Enter future number of days:\") # this is return a str\n",
    "\n",
    "# convert d into a datetime object\n",
    "d_obj = dt.datetime.strptime(d, \"%Y-%m-%d\")\n",
    "\n",
    "future_day = int(future_day)\n",
    "\n",
    "future = d_obj + timedelta(days=future_day) \n",
    "print(\"future date:\", future)\n"
   ]
  },
  {
   "cell_type": "code",
   "execution_count": 33,
   "metadata": {},
   "outputs": [
    {
     "name": "stdout",
     "output_type": "stream",
     "text": [
      "Current time:  2025-08-06 14:04:58.920524\n",
      "After 5 hours: 2025-09-17 06:04:58.920524\n"
     ]
    }
   ],
   "source": [
    "# Now lets add time\n",
    "from datetime import datetime\n",
    "\n",
    "now = datetime.now()\n",
    "print(\"Current time: \", now)\n",
    "\n",
    "# Add 5 hours\n",
    "future_time = now + timedelta(hours=1000) # change to 100,1000\n",
    "print(\"After 5 hours:\", future_time)"
   ]
  },
  {
   "cell_type": "code",
   "execution_count": 35,
   "metadata": {},
   "outputs": [
    {
     "name": "stdout",
     "output_type": "stream",
     "text": [
      "<class 'datetime.date'>\n",
      "Difference in days: 9\n",
      "Difference in seconds: 777600.0\n",
      "Difference in minutes: 12960.0\n",
      "Difference in hours: 216.0\n"
     ]
    }
   ],
   "source": [
    "# difference in days, hours\n",
    "\n",
    "from datetime import date\n",
    "\n",
    "d1 = date(2025, 4, 10) # apr 10, 2025\n",
    "d2 = date(2025, 4, 1)  # apr 1, 2025\n",
    "print(type(d1))\n",
    "\n",
    "diff = d1 - d2\n",
    "\n",
    "print(\"Difference in days:\", diff.days)\n",
    "\n",
    "# Convert days to hours\n",
    "diff_seconds = diff.total_seconds()\n",
    "print(\"Difference in seconds:\", diff_seconds)\n",
    "\n",
    "diff_minutes = diff.total_seconds()/60\n",
    "print(\"Difference in minutes:\", diff_minutes)\n",
    "\n",
    "diff_hours   = diff.total_seconds()/3600\n",
    "print(\"Difference in hours:\", diff_hours)"
   ]
  },
  {
   "cell_type": "code",
   "execution_count": null,
   "metadata": {},
   "outputs": [],
   "source": []
  }
 ],
 "metadata": {
  "kernelspec": {
   "display_name": "Python 3 (ipykernel)",
   "language": "python",
   "name": "python3"
  },
  "language_info": {
   "codemirror_mode": {
    "name": "ipython",
    "version": 3
   },
   "file_extension": ".py",
   "mimetype": "text/x-python",
   "name": "python",
   "nbconvert_exporter": "python",
   "pygments_lexer": "ipython3",
   "version": "3.12.7"
  }
 },
 "nbformat": 4,
 "nbformat_minor": 4
}
