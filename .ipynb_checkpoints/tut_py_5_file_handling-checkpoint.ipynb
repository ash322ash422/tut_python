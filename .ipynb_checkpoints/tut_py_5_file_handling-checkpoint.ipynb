{
 "cells": [
  {
   "cell_type": "markdown",
   "id": "e92a6480-349b-4038-8e15-bdf675a818c8",
   "metadata": {},
   "source": [
    "## What is File Handling?\n",
    "File handling in Python allows us to read from and write to files stored on a computer. It is essential for working with data storage, logging, and configuration files.\n",
    "\n",
    "### 2. File Modes in Python\n",
    "Python provides different modes for opening files:\n",
    "\n",
    "Mode\tDescription\n",
    "\n",
    "- r\tRead mode (default) – Opens a file for reading; error if file doesn't exist\n",
    "- w\tWrite mode – Creates a new file or overwrites an existing file\n",
    "- a\tAppend mode – Adds content to the end of a file (does not overwrite)\n",
    "- x\tExclusive creation – Creates a new file; fails if file already exists\n",
    "- t\tText mode (default) – Reads/writes data as text\n",
    "- b\tBinary mode – Reads/writes data in binary (useful for images, PDFs, etc.)\n",
    "\n",
    "Example:\n",
    "\n",
    "\"r\" → Read\n",
    "\n",
    "\"w\" → Write\n",
    "\n",
    "\"rb\" → Read in binary\n",
    "\n",
    "\"a+\" → Append and read"
   ]
  },
  {
   "cell_type": "code",
   "execution_count": 2,
   "id": "ad07d924-1008-48b2-b3e4-a2d63565b0cb",
   "metadata": {},
   "outputs": [
    {
     "name": "stdout",
     "output_type": "stream",
     "text": [
      "I came on a metro.\n",
      "It took me some time.\n",
      "I have reached.\n"
     ]
    }
   ],
   "source": [
    "# Opening and Closing a File\n",
    "# To work with a file, we open it using open() and close it using close().\n",
    "\n",
    "# Example: Open a File and Close It\n",
    "\n",
    "file = open(\"example.txt\", \"r\")  # Opens a file in read mode\n",
    "print(file.read())  # Reads file content\n",
    "file.close()  # Closes the file. Always close a file after use to free system resources.\n"
   ]
  },
  {
   "cell_type": "code",
   "execution_count": 3,
   "id": "ce34d3bd-35ea-47d5-9705-ae2ff9f0d108",
   "metadata": {},
   "outputs": [
    {
     "name": "stdout",
     "output_type": "stream",
     "text": [
      "I came on a metro.\n",
      "It took me some time.\n",
      "I have reached.\n"
     ]
    }
   ],
   "source": [
    "# Reading from a File\n",
    "\n",
    "# Example 1: Read the Entire File\n",
    "file = open(\"example.txt\", \"r\")\n",
    "content = file.read()\n",
    "print(content)\n",
    "file.close()\n"
   ]
  },
  {
   "cell_type": "code",
   "execution_count": 4,
   "id": "dc874e60-9bc6-4f7e-946b-345112993192",
   "metadata": {},
   "outputs": [
    {
     "name": "stdout",
     "output_type": "stream",
     "text": [
      "I came on \n"
     ]
    }
   ],
   "source": [
    "# Example 2: Read a Specific Number of Characters\n",
    "file = open(\"example.txt\", \"r\")\n",
    "print(file.read(10))  # Reads the first 10 characters\n",
    "file.close()"
   ]
  },
  {
   "cell_type": "code",
   "execution_count": 5,
   "id": "b97a17ae-6019-4e47-b6bd-b0d3881921ef",
   "metadata": {},
   "outputs": [
    {
     "name": "stdout",
     "output_type": "stream",
     "text": [
      "I came on a metro.\n",
      "\n"
     ]
    }
   ],
   "source": [
    "# Example 3: Read Line by Line\n",
    "file = open(\"example.txt\", \"r\")\n",
    "print(file.readline())  # Reads the first line\n",
    "file.close()"
   ]
  },
  {
   "cell_type": "code",
   "execution_count": 6,
   "id": "63959a88-2175-4a72-9714-48fd158dcd5a",
   "metadata": {},
   "outputs": [
    {
     "name": "stdout",
     "output_type": "stream",
     "text": [
      "['I came on a metro.\\n', 'It took me some time.\\n', 'I have reached.']\n"
     ]
    }
   ],
   "source": [
    "# Example 4: Read All Lines as a List\n",
    "file = open(\"example.txt\", \"r\")\n",
    "lines = file.readlines()  # Reads all lines into a list\n",
    "print(lines)\n",
    "file.close()\n",
    "\n",
    "#cont.."
   ]
  },
  {
   "cell_type": "code",
   "execution_count": 11,
   "id": "84aa73fa-fa03-4dd3-9dd6-1ad066107275",
   "metadata": {},
   "outputs": [
    {
     "name": "stdout",
     "output_type": "stream",
     "text": [
      "Hello, World!\n",
      "Python is great\n",
      "But homework is torturee\n",
      "Appending new line!"
     ]
    }
   ],
   "source": [
    "# ..cont  Lets print above in a more readbale manner\n",
    "file = open(\"example.txt\", \"r\")\n",
    "lines = file.readlines()  # Reads all lines into a list\n",
    "for line in lines:\n",
    "    print(line, end='')\n",
    "file.close()\n"
   ]
  },
  {
   "cell_type": "code",
   "execution_count": 7,
   "id": "3bf8e84e-f471-4a1f-aa43-5ee4b87589b7",
   "metadata": {},
   "outputs": [],
   "source": [
    "# Writing to a File\n",
    "# Example 1: Write to a File (w mode)\n",
    "file = open(\"example.txt\", \"w\")  # Opens in write mode (overwrites file)\n",
    "\n",
    "msg = \"Hello, World!\\n\"\n",
    "file.write(msg) # Warning: \"w\" mode will erase existing content before writing new data.\n",
    "\n",
    "file.close()\n"
   ]
  },
  {
   "cell_type": "code",
   "execution_count": 4,
   "id": "c3c4a6fe-e2f0-4430-b4e9-441e475bae8d",
   "metadata": {},
   "outputs": [],
   "source": [
    "# write series of txt\n",
    "file = open(\"example.txt\", \"w\")  # Opens in write mode (overwrites file)\n",
    "\n",
    "msg = \"Hello, World!\\n\"\n",
    "file.write(msg) # Warning: \"w\" mode will erase existing content before writing new data.\n",
    "msg = \"Python is great\\n\"\n",
    "file.write(msg)\n",
    "msg = \"But homework is torture1\"\n",
    "file.write(msg)\n",
    "\n",
    "file.close()\n",
    "# cont.."
   ]
  },
  {
   "cell_type": "code",
   "execution_count": 5,
   "id": "c032380f-5661-40eb-a8ee-70cf30b39cb7",
   "metadata": {},
   "outputs": [],
   "source": [
    "# ...cont  write series of txt\n",
    "file = open(\"example.txt\", \"w\")  # Opens in write mode (overwrites file)\n",
    "\n",
    "msg = \"Hello, World!\\n\"\n",
    "msg = msg + \"Python is great\\n\"\n",
    "msg = msg + \"But homework is torture2\"\n",
    "file.write(msg)\n",
    "\n",
    "file.close()\n",
    "# cont.."
   ]
  },
  {
   "cell_type": "code",
   "execution_count": 7,
   "id": "bd9533af-81a6-419d-8a77-c7525a991fe9",
   "metadata": {},
   "outputs": [],
   "source": [
    "# write series of txt\n",
    "file = open(\"example.txt\", \"w\")  # Opens in write mode (overwrites file)\n",
    "\n",
    "msg = \"\"\"Hello, World!\n",
    "Python is great\n",
    "But homework is torture3\"\"\"\n",
    "file.write(msg)\n",
    "\n",
    "file.close()\n",
    "# cont.."
   ]
  },
  {
   "cell_type": "code",
   "execution_count": null,
   "id": "57a211e6-432b-4467-8e9e-1b820a9da05c",
   "metadata": {},
   "outputs": [],
   "source": [
    "# ...cont List of lines to write to the file\n",
    "lines = [\n",
    "    \"Hello, World!\\n\",\n",
    "    \"Python is great\\n\",\n",
    "    \"But homework is torture\\n\"\n",
    "]\n",
    "\n",
    "# Open the file in write mode\n",
    "file = open(\"example.txt\", \"w\")\n",
    "\n",
    "file.writelines(lines) # Write the list of lines to the file\n",
    "file.close()\n",
    "\n",
    "# cont.."
   ]
  },
  {
   "cell_type": "code",
   "execution_count": null,
   "id": "506876da-0c74-4e4d-adda-f1103542d70f",
   "metadata": {},
   "outputs": [],
   "source": [
    "# List of lines to write to the file\n",
    "lines = [\n",
    "    \"Hello, World!\\n\",\n",
    "    \"Python is great\\n\",\n",
    "    \"But homework is torture\\n\"\n",
    "]\n",
    "\n",
    "# Open the file in write mode\n",
    "with open(\"example.txt\", \"w\") as file:\n",
    "    file.writelines(lines)# Write the list of lines to the file\n",
    "\n",
    "# The file is automatically closed when using 'with' statement"
   ]
  },
  {
   "cell_type": "code",
   "execution_count": 8,
   "id": "678a5e68-f599-4dee-82ac-99832ed0a5c4",
   "metadata": {},
   "outputs": [],
   "source": [
    "\n",
    "# Example 2: Append to a File (a mode)\n",
    "file = open(\"example.txt\", \"a\")  # Opens in append mode\n",
    "file.write(\"\\nAppending new line!\")\n",
    "file.close()\n"
   ]
  },
  {
   "cell_type": "code",
   "execution_count": 8,
   "id": "83ce1031-a4cd-43e6-a06e-063811e598c8",
   "metadata": {},
   "outputs": [
    {
     "name": "stdout",
     "output_type": "stream",
     "text": [
      "Hello, World!\n",
      "Python is great!\n",
      "Appending new line!\n"
     ]
    }
   ],
   "source": [
    "# Using with Statement (Recommended)\n",
    "# Using with open(...) automatically closes the file after the block ends.\n",
    "with open(\"example.txt\", \"r\") as file:\n",
    "    content = file.read()\n",
    "    print(content)  # File is automatically closed after this block\n"
   ]
  },
  {
   "cell_type": "code",
   "execution_count": null,
   "id": "18d5348e",
   "metadata": {},
   "outputs": [
    {
     "name": "stdout",
     "output_type": "stream",
     "text": [
      "\n",
      "I ate my lunch\n"
     ]
    }
   ],
   "source": [
    "file = open(\"example.txt\", \"w\")  # Opens in write mode (overwrites file)\n",
    "file.write(\"\\nI ate my lunch\") # Warning: \"w\" mode will erase existing content before writing new data.\n",
    "file.close()\n",
    "\n",
    "#Now we read the file\n",
    "with open(\"example.txt\", \"r\") as file:\n",
    "    content = file.read()\n",
    "    print(content)  # File is automatically closed after this block\n",
    "\n"
   ]
  },
  {
   "cell_type": "markdown",
   "id": "27dbe54b-922c-4024-9147-fdbbe41213f6",
   "metadata": {},
   "source": [
    "## File Handling Methods\n",
    "Python provides various file methods for file handling:\n",
    "\n",
    "Method:\tDescription\n",
    "\n",
    "read(size):\tReads size characters (or entire file if not specified)\n",
    "\n",
    "readline():\tReads one line at a time\n",
    "\n",
    "readlines():\tReads all lines and returns a list\n",
    "\n",
    "write(string):\tWrites a string to a file\n",
    "\n",
    "writelines(list):\tWrites a list of strings to a file\n",
    "\n",
    "seek(offset):\tMoves cursor to a specific position in the file\n",
    "\n",
    "tell():\tReturns the current cursor position\n",
    "\n",
    "close():\tCloses the file"
   ]
  },
  {
   "cell_type": "code",
   "execution_count": null,
   "id": "c2c6d5c1-29c6-4add-8d71-337a44db8c60",
   "metadata": {},
   "outputs": [],
   "source": [
    "# Example: Using seek() and tell()\n",
    "with open(\"example.txt\", \"r\") as file:\n",
    "    print(file.tell())  # Shows cursor position (0 at start)\n",
    "    print(file.read(5))  # Reads first 5 characters\n",
    "    print(file.tell())  # Shows new cursor position\n",
    "    file.seek(0)  # Moves cursor back to the beginning\n",
    "    print(file.read(5))  # Reads again from start\n"
   ]
  },
  {
   "cell_type": "code",
   "execution_count": null,
   "id": "5e36fbcf-bab2-4174-988a-33d5f9286628",
   "metadata": {},
   "outputs": [],
   "source": [
    "# Working with Binary Files\n",
    "# Binary mode (b) is useful for images, videos, PDFs, etc.\n",
    "\n",
    "# Example: Copy an Image\n",
    "with open(\"source.jpg\", \"rb\") as source:\n",
    "    with open(\"copy.jpg\", \"wb\") as copy:\n",
    "        copy.write(source.read())\n"
   ]
  },
  {
   "cell_type": "markdown",
   "id": "56501a39-679c-44ac-aebd-d5f013bc2f3e",
   "metadata": {},
   "source": [
    "## os module"
   ]
  },
  {
   "cell_type": "code",
   "execution_count": null,
   "id": "b4c592a3-88d7-4dc4-bb72-6a18952572a0",
   "metadata": {},
   "outputs": [],
   "source": [
    "import os\n",
    "\n",
    "# 1. Create a new directory\n",
    "os.mkdir(\"new_directory\")\n",
    "\n",
    "# 2\n",
    "os.chdir(\"new_directory\") # Change the current working directory\n",
    "print(\"Current Working Directory:\", os.getcwd())\n",
    "\n",
    "# 3. List files in the current directory\n",
    "files = os.listdir(\".\")\n",
    "print(\"Files in current directory:\", files)\n",
    "\n",
    "# 4. Create and write to a new file\n",
    "with open(\"example.txt\", \"w\") as file:\n",
    "    file.write(\"Hello, World!\\n\")\n",
    "\n",
    "# 5. Read from the file\n",
    "with open(\"example.txt\", \"r\") as file:\n",
    "    content = file.read()\n",
    "    print(\"File Content:\\n\", content)\n",
    "\n",
    "# 6. Rename a file\n",
    "os.rename(\"example.txt\", \"renamed_example.txt\")\n",
    "\n",
    "# 7. Delete a file\n",
    "os.remove(\"renamed_example.txt\")\n",
    "\n",
    "# 8. Check if a file exists\n",
    "if os.path.exists(\"renamed_example.txt\"):\n",
    "    print(\"File exists.\")\n",
    "else:\n",
    "    print(\"File does not exist.\")"
   ]
  },
  {
   "cell_type": "code",
   "execution_count": null,
   "id": "8df02c2f-f8c3-4567-b6b6-1785f9e5a4e3",
   "metadata": {},
   "outputs": [],
   "source": [
    "# Get file information\n",
    "if os.path.exists(\"example.txt\"):\n",
    "    file_info = os.stat(\"example.txt\")\n",
    "    print(\"File Size in Bytes:\", file_info.st_size)\n",
    "    print(\"Last Modified:\", file_info.st_mtime)"
   ]
  },
  {
   "cell_type": "code",
   "execution_count": null,
   "id": "6dfec9fa-90ab-4202-b2b5-1d35f631f39e",
   "metadata": {},
   "outputs": [],
   "source": [
    "# Remove a directory (must be empty)\n",
    "os.rmdir(\"new_directory\")"
   ]
  },
  {
   "cell_type": "code",
   "execution_count": null,
   "id": "e1553b01-80c0-4594-ba99-8faf75c62c67",
   "metadata": {},
   "outputs": [],
   "source": [
    "# Check if a path is a file or directory\n",
    "path = \"example.txt\"\n",
    "if os.path.isfile(path):\n",
    "    print(f\"{path} is a file.\")\n",
    "elif os.path.isdir(path):\n",
    "    print(f\"{path} is a directory.\")\n",
    "else:\n",
    "    print(f\"{path} does not exist.\")"
   ]
  },
  {
   "cell_type": "code",
   "execution_count": 12,
   "id": "2f484805-a11a-4826-a8dc-efc10072edb9",
   "metadata": {},
   "outputs": [
    {
     "ename": "NameError",
     "evalue": "name 'os' is not defined",
     "output_type": "error",
     "traceback": [
      "\u001b[1;31m---------------------------------------------------------------------------\u001b[0m",
      "\u001b[1;31mNameError\u001b[0m                                 Traceback (most recent call last)",
      "Cell \u001b[1;32mIn[12], line 2\u001b[0m\n\u001b[0;32m      1\u001b[0m \u001b[38;5;66;03m# Walk through a directory tree\u001b[39;00m\n\u001b[1;32m----> 2\u001b[0m \u001b[38;5;28;01mfor\u001b[39;00m dirpath, dirnames, filenames \u001b[38;5;129;01min\u001b[39;00m \u001b[43mos\u001b[49m\u001b[38;5;241m.\u001b[39mwalk(\u001b[38;5;124m\"\u001b[39m\u001b[38;5;124m.\u001b[39m\u001b[38;5;124m\"\u001b[39m):\n\u001b[0;32m      3\u001b[0m     \u001b[38;5;28mprint\u001b[39m(\u001b[38;5;124m\"\u001b[39m\u001b[38;5;124mCurrent Directory:\u001b[39m\u001b[38;5;124m\"\u001b[39m, dirpath)\n\u001b[0;32m      4\u001b[0m     \u001b[38;5;28mprint\u001b[39m(\u001b[38;5;124m\"\u001b[39m\u001b[38;5;124mDirectories:\u001b[39m\u001b[38;5;124m\"\u001b[39m, dirnames)\n",
      "\u001b[1;31mNameError\u001b[0m: name 'os' is not defined"
     ]
    }
   ],
   "source": [
    "# Walk through a directory tree\n",
    "for dirpath, dirnames, filenames in os.walk(\".\"):\n",
    "    print(\"Current Directory:\", dirpath)\n",
    "    print(\"Directories:\", dirnames)\n",
    "    print(\"Files:\", filenames)"
   ]
  },
  {
   "cell_type": "code",
   "execution_count": null,
   "id": "f6554a57-4dd8-4e63-8690-b8a06e31daf5",
   "metadata": {},
   "outputs": [],
   "source": []
  }
 ],
 "metadata": {
  "kernelspec": {
   "display_name": "Python 3 (ipykernel)",
   "language": "python",
   "name": "python3"
  },
  "language_info": {
   "codemirror_mode": {
    "name": "ipython",
    "version": 3
   },
   "file_extension": ".py",
   "mimetype": "text/x-python",
   "name": "python",
   "nbconvert_exporter": "python",
   "pygments_lexer": "ipython3",
   "version": "3.11.9"
  }
 },
 "nbformat": 4,
 "nbformat_minor": 5
}
