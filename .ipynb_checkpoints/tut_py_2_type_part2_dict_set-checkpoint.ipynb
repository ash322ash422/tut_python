{
 "cells": [
  {
   "cell_type": "markdown",
   "id": "accbac1e-d592-4a95-a295-88ed9e7d093c",
   "metadata": {},
   "source": [
    "## Mapping Type\n",
    "dict → Key-value pairs: d = {\"a\": 1, \"b\": 2}"
   ]
  },
  {
   "cell_type": "markdown",
   "id": "dd4a60d5-4100-4f71-a1cc-4696a1f68dbd",
   "metadata": {},
   "source": [
    "### 1️. Creating and Accessing a Dictionary\n",
    "Scenario: Storing student scores in a dictionary."
   ]
  },
  {
   "cell_type": "code",
   "execution_count": 19,
   "id": "1dffc368-8dca-42c1-9920-125c751d2529",
   "metadata": {},
   "outputs": [
    {
     "name": "stdout",
     "output_type": "stream",
     "text": [
      "{'Alice': 85, 'Bob': 92, 'Charlie': 78}\n"
     ]
    }
   ],
   "source": [
    "student_scores = {\"Alice\": 85, \"Bob\": 92, \"Charlie\": 78}\n",
    "\n",
    "print(student_scores)"
   ]
  },
  {
   "cell_type": "code",
   "execution_count": 20,
   "id": "ba1da969-6a07-4dc9-9cd7-f241a70d1377",
   "metadata": {},
   "outputs": [
    {
     "name": "stdout",
     "output_type": "stream",
     "text": [
      "85\n",
      "92\n"
     ]
    }
   ],
   "source": [
    "student_scores = {\"Alice\": 85, \"Bob\": 92, \"Charlie\": 78}\n",
    "\n",
    "# Accessing values using keys\n",
    "print(student_scores[\"Alice\"])  # Output: 85\n",
    "print(student_scores.get(\"Bob\"))  # Output: 92"
   ]
  },
  {
   "cell_type": "code",
   "execution_count": 22,
   "id": "d153e57d-89be-48f9-8dd3-65f7942c8df8",
   "metadata": {},
   "outputs": [
    {
     "name": "stdout",
     "output_type": "stream",
     "text": [
      "dict_keys(['Alice', 'Bob', 'Charlie'])\n"
     ]
    }
   ],
   "source": [
    "keys = student_scores.keys()\n",
    "print(keys)"
   ]
  },
  {
   "cell_type": "code",
   "execution_count": 23,
   "id": "b9ce7070-cb13-406e-835d-3bf98753d0e3",
   "metadata": {},
   "outputs": [
    {
     "name": "stdout",
     "output_type": "stream",
     "text": [
      "dict_items([('Alice', 85), ('Bob', 92), ('Charlie', 78)])\n"
     ]
    }
   ],
   "source": [
    "items = student_scores.items()\n",
    "print(items)"
   ]
  },
  {
   "cell_type": "markdown",
   "id": "477ce400-b749-4a71-8a9b-3cf8fb86d83e",
   "metadata": {},
   "source": [
    "### 2️. Adding and Modifying Dictionary Entries\n",
    "Scenario: Adding a new student's score and updating an existing one"
   ]
  },
  {
   "cell_type": "code",
   "execution_count": 13,
   "id": "4b035212-e669-4f6c-bed7-bc4f4072f7cd",
   "metadata": {},
   "outputs": [
    {
     "name": "stdout",
     "output_type": "stream",
     "text": [
      "{'Alice': 90, 'Bob': 92, 'Charlie': 78, 'David': 88}\n"
     ]
    }
   ],
   "source": [
    "student_scores[\"David\"] = 88  # Adding new key-value pair\n",
    "student_scores[\"Alice\"] = 90  # Updating value\n",
    "\n",
    "print(student_scores)"
   ]
  },
  {
   "cell_type": "markdown",
   "id": "d1deae01-3e12-4366-91eb-c5e11bb902b2",
   "metadata": {},
   "source": [
    "### 3️. Iterating Over a Dictionary\n",
    "Scenario: Printing each student's name and score."
   ]
  },
  {
   "cell_type": "code",
   "execution_count": 14,
   "id": "0bd422bb-8be7-4a10-8d97-d074b9117eaf",
   "metadata": {},
   "outputs": [
    {
     "name": "stdout",
     "output_type": "stream",
     "text": [
      "Alice: 90\n",
      "Bob: 92\n",
      "Charlie: 78\n",
      "David: 88\n"
     ]
    }
   ],
   "source": [
    "for name, score in student_scores.items():\n",
    "    print(f\"{name}: {score}\")\n"
   ]
  },
  {
   "cell_type": "markdown",
   "id": "83a1da65-3ba9-4504-b56a-8ea7c4847321",
   "metadata": {},
   "source": [
    "### 4️. Checking for a Key in the Dictionary\n",
    "Scenario: Checking if a student's score is stored."
   ]
  },
  {
   "cell_type": "code",
   "execution_count": 15,
   "id": "788af760-a3dd-4547-8941-d3c22e8b414b",
   "metadata": {},
   "outputs": [
    {
     "name": "stdout",
     "output_type": "stream",
     "text": [
      "Eve's score is not found.\n"
     ]
    }
   ],
   "source": [
    "if \"Eve\" in student_scores:\n",
    "    print(\"Eve's score is available.\")\n",
    "else:\n",
    "    print(\"Eve's score is not found.\")\n"
   ]
  },
  {
   "cell_type": "markdown",
   "id": "e93c24d9-f77d-4151-95d8-f731fc567d3a",
   "metadata": {},
   "source": [
    "### 5️. Removing an Entry from a Dictionary\n",
    "Scenario: Removing a student's score."
   ]
  },
  {
   "cell_type": "code",
   "execution_count": 16,
   "id": "e347c87a-ae6c-4ce4-bc01-52d2fb202144",
   "metadata": {},
   "outputs": [
    {
     "name": "stdout",
     "output_type": "stream",
     "text": [
      "{'Alice': 90, 'Bob': 92, 'David': 88}\n"
     ]
    }
   ],
   "source": [
    "student_scores.pop(\"Charlie\")  # Remove Charlie\n",
    "print(student_scores)"
   ]
  },
  {
   "cell_type": "markdown",
   "id": "8713ace3-27df-40d2-96a5-e90c6ce42edc",
   "metadata": {},
   "source": [
    "### 6️. Using dict with zip() to Create a Dictionary\n",
    "Scenario: Creating a dictionary from two lists (names and scores)."
   ]
  },
  {
   "cell_type": "code",
   "execution_count": 17,
   "id": "82553bff-6f86-475f-ad91-88617298cbc7",
   "metadata": {},
   "outputs": [
    {
     "name": "stdout",
     "output_type": "stream",
     "text": [
      "{'Alice': 85, 'Bob': 92, 'Charlie': 78}\n"
     ]
    }
   ],
   "source": [
    "names = [\"Alice\", \"Bob\", \"Charlie\"]\n",
    "scores = [85, 92, 78]\n",
    "\n",
    "student_scores = dict(zip(names, scores))\n",
    "print(student_scores)\n"
   ]
  },
  {
   "cell_type": "markdown",
   "id": "3cc5089a-2ef0-4562-af00-8768c4dc0e02",
   "metadata": {},
   "source": [
    "### 7️. Nested Dictionary (Dictionary Inside a Dictionary)\n",
    "Scenario: Storing student information including multiple details."
   ]
  },
  {
   "cell_type": "code",
   "execution_count": 18,
   "id": "50a62c0f-d2f9-4be9-af85-0a8cd64d4d0c",
   "metadata": {},
   "outputs": [
    {
     "name": "stdout",
     "output_type": "stream",
     "text": [
      "A\n"
     ]
    }
   ],
   "source": [
    "students = {\n",
    "    \"Alice\": {\"age\": 20, \"grade\": \"A\"},\n",
    "    \"Bob\": {\"age\": 22, \"grade\": \"B\"},\n",
    "}\n",
    "\n",
    "print(students[\"Alice\"][\"grade\"])  # Output: A\n"
   ]
  },
  {
   "cell_type": "markdown",
   "id": "1ca235fc-9dea-4c44-aef5-5c4eaa136c2f",
   "metadata": {},
   "source": [
    "# Advanced operations in dictionary\n",
    "### 1️. Sorting a Dictionary by Keys and Values\n",
    "Scenario: Sorting student scores in ascending and descending order."
   ]
  },
  {
   "cell_type": "code",
   "execution_count": 24,
   "id": "6762d86b-9340-41ac-9d23-ccdfdd676b47",
   "metadata": {},
   "outputs": [
    {
     "name": "stdout",
     "output_type": "stream",
     "text": [
      "{'Alice': 85, 'Bob': 92, 'Charlie': 78, 'David': 88}\n",
      "{'Charlie': 78, 'Alice': 85, 'David': 88, 'Bob': 92}\n",
      "{'Bob': 92, 'David': 88, 'Alice': 85, 'Charlie': 78}\n"
     ]
    }
   ],
   "source": [
    "student_scores = {\"Alice\": 85, \"Bob\": 92, \"Charlie\": 78, \"David\": 88}\n",
    "\n",
    "# Sort by keys (alphabetically)\n",
    "sorted_by_keys = dict(sorted(student_scores.items()))\n",
    "print(sorted_by_keys)  \n",
    "\n",
    "# Sort by values (ascending)\n",
    "sorted_by_values = dict(sorted(student_scores.items(), key=lambda item: item[1]))\n",
    "print(sorted_by_values)  \n",
    "\n",
    "# Sort by values (descending)\n",
    "sorted_by_values_desc = dict(sorted(student_scores.items(), key=lambda item: item[1], reverse=True))\n",
    "print(sorted_by_values_desc)  "
   ]
  },
  {
   "cell_type": "markdown",
   "id": "9f5fed48-79a4-4d9d-b5a9-45fba31bb68e",
   "metadata": {},
   "source": [
    "### 2️. Merging Two Dictionaries (update() & | Operator)\n",
    "Scenario: Merging student scores from two classes."
   ]
  },
  {
   "cell_type": "code",
   "execution_count": 25,
   "id": "428c8aeb-5b3e-4b1a-8287-9e122f876795",
   "metadata": {},
   "outputs": [
    {
     "name": "stdout",
     "output_type": "stream",
     "text": [
      "{'Alice': 85, 'Bob': 92, 'Charlie': 78, 'David': 88}\n",
      "{'Alice': 85, 'Bob': 92, 'Charlie': 78, 'David': 88}\n"
     ]
    }
   ],
   "source": [
    "class_a = {\"Alice\": 85, \"Bob\": 92}\n",
    "class_b = {\"Charlie\": 78, \"David\": 88}\n",
    "\n",
    "# Method 1: Using update()\n",
    "merged_scores = class_a.copy()\n",
    "merged_scores.update(class_b)\n",
    "print(merged_scores)\n",
    "\n",
    "# Method 2: Using `|` operator (Python 3.9+)\n",
    "merged_scores = class_a | class_b\n",
    "print(merged_scores)\n"
   ]
  },
  {
   "cell_type": "markdown",
   "id": "3e45a8ae-be3a-4f1e-a207-8755ffe2fd11",
   "metadata": {},
   "source": [
    "### 3. Dictionary Filtering (Keeping Items That Meet a Condition)\n",
    "Scenario: Keeping only students who scored above 80."
   ]
  },
  {
   "cell_type": "code",
   "execution_count": 26,
   "id": "31bae92a-4d94-4e7b-8663-255bd5b94b6e",
   "metadata": {},
   "outputs": [
    {
     "name": "stdout",
     "output_type": "stream",
     "text": [
      "{'Alice': 85, 'Bob': 92, 'David': 88}\n"
     ]
    }
   ],
   "source": [
    "student_scores = {\"Alice\": 85, \"Bob\": 92, \"Charlie\": 78, \"David\": 88}\n",
    "\n",
    "filtered_scores = {k: v for k, v in student_scores.items() if v > 80}\n",
    "print(filtered_scores)"
   ]
  },
  {
   "cell_type": "markdown",
   "id": "09f645d4-1309-4919-a5e6-4e8d830a360c",
   "metadata": {},
   "source": [
    "# Sets\n",
    "### 1️. Creating and Accessing a set\n",
    "Scenario: Storing a list of unique fruits."
   ]
  },
  {
   "cell_type": "code",
   "execution_count": 28,
   "id": "130222ed-2434-4a9b-a41a-577ebf8572f8",
   "metadata": {},
   "outputs": [
    {
     "name": "stdout",
     "output_type": "stream",
     "text": [
      "{'apple', 'banana', 'cherry'}\n"
     ]
    }
   ],
   "source": [
    "fruits = {\"apple\", \"banana\", \"cherry\", \"apple\", \"apple\"}  # Duplicates areremoved\n",
    "\n",
    "print(fruits)  "
   ]
  },
  {
   "cell_type": "markdown",
   "id": "0df004c8-f07e-48c3-8bb1-e70c2699893d",
   "metadata": {},
   "source": [
    "### 2️. Adding and Removing Elements from a set\n",
    "Scenario: Managing a guest list for an event."
   ]
  },
  {
   "cell_type": "code",
   "execution_count": 29,
   "id": "04febcc7-a9e0-477f-92c5-e7319dedad9a",
   "metadata": {},
   "outputs": [
    {
     "name": "stdout",
     "output_type": "stream",
     "text": [
      "{'Alice', 'Bob', 'David'}\n"
     ]
    }
   ],
   "source": [
    "guests = {\"Alice\", \"Bob\", \"Charlie\"}\n",
    "\n",
    "guests.add(\"David\")  # Add a guest\n",
    "guests.remove(\"Charlie\")  # Remove a guest\n",
    "\n",
    "print(guests)\n"
   ]
  },
  {
   "cell_type": "code",
   "execution_count": null,
   "id": "d3ff5a4a-d941-44b2-a95b-20b5f399c0d4",
   "metadata": {},
   "outputs": [],
   "source": [
    "### 3️. Set Operations (Union, Intersection, Difference)\n",
    "Scenario: Finding common and unique students in two classes."
   ]
  },
  {
   "cell_type": "code",
   "execution_count": 30,
   "id": "13961d73-f817-4013-a681-dc7489c01c74",
   "metadata": {},
   "outputs": [
    {
     "name": "stdout",
     "output_type": "stream",
     "text": [
      "{'Emma', 'David', 'Charlie', 'Alice', 'Bob'}\n",
      "{'Bob'}\n",
      "{'Alice', 'Charlie'}\n"
     ]
    }
   ],
   "source": [
    "class_A = {\"Alice\", \"Bob\", \"Charlie\"}\n",
    "class_B = {\"Bob\", \"David\", \"Emma\"}\n",
    "\n",
    "# Union (All students)\n",
    "print(class_A | class_B)  \n",
    "\n",
    "# Intersection (Students in both classes)\n",
    "print(class_A & class_B)  \n",
    "\n",
    "# Difference (Students only in class A)\n",
    "print(class_A - class_B)  "
   ]
  },
  {
   "cell_type": "markdown",
   "id": "ae874d33-9de6-4164-9d2c-4f07731d31c4",
   "metadata": {},
   "source": [
    "### 4️. Checking Membership in a set\n",
    "Scenario: Checking if a word exists in a dictionary."
   ]
  },
  {
   "cell_type": "code",
   "execution_count": 31,
   "id": "d39456d2-c8d8-4a8b-a7dd-b579276f301e",
   "metadata": {},
   "outputs": [
    {
     "name": "stdout",
     "output_type": "stream",
     "text": [
      "Python is in the set.\n"
     ]
    }
   ],
   "source": [
    "word_set = {\"python\", \"java\", \"c++\", \"javascript\"}\n",
    "\n",
    "if \"python\" in word_set:\n",
    "    print(\"Python is in the set.\")\n"
   ]
  },
  {
   "cell_type": "markdown",
   "id": "da5b1d96-55ff-4b3e-8f37-ad7d15510b86",
   "metadata": {},
   "source": [
    "### 5️. Removing Duplicates from a List Using set\n",
    "Scenario: Cleaning up duplicate email addresses."
   ]
  },
  {
   "cell_type": "code",
   "execution_count": 32,
   "id": "86f1095c-b169-4498-8f9a-d28ec9631bef",
   "metadata": {},
   "outputs": [
    {
     "name": "stdout",
     "output_type": "stream",
     "text": [
      "{'user1@example.com', 'user2@example.com'}\n"
     ]
    }
   ],
   "source": [
    "emails = [\"user1@example.com\", \"user2@example.com\", \"user1@example.com\", \"user1@example.com\"]\n",
    "unique_emails = set(emails)\n",
    "\n",
    "print(unique_emails)\n"
   ]
  },
  {
   "cell_type": "code",
   "execution_count": null,
   "id": "f026587f-35a2-4d36-9376-1918d219cc0d",
   "metadata": {},
   "outputs": [],
   "source": []
  }
 ],
 "metadata": {
  "kernelspec": {
   "display_name": "Python 3 (ipykernel)",
   "language": "python",
   "name": "python3"
  },
  "language_info": {
   "codemirror_mode": {
    "name": "ipython",
    "version": 3
   },
   "file_extension": ".py",
   "mimetype": "text/x-python",
   "name": "python",
   "nbconvert_exporter": "python",
   "pygments_lexer": "ipython3",
   "version": "3.11.2"
  }
 },
 "nbformat": 4,
 "nbformat_minor": 5
}
