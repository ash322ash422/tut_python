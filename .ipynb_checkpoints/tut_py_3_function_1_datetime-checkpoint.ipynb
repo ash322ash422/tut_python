{
 "cells": [
  {
   "cell_type": "markdown",
   "metadata": {},
   "source": [
    "# funtions: datetime"
   ]
  },
  {
   "cell_type": "code",
   "execution_count": 2,
   "metadata": {},
   "outputs": [],
   "source": [
    "#Dealing with Dates\n",
    "import datetime as dt"
   ]
  },
  {
   "cell_type": "code",
   "execution_count": 3,
   "metadata": {},
   "outputs": [
    {
     "data": {
      "text/plain": [
       "datetime.datetime(2025, 4, 10, 22, 50, 24, 223556)"
      ]
     },
     "execution_count": 3,
     "metadata": {},
     "output_type": "execute_result"
    }
   ],
   "source": [
    "# Print current date and time\n",
    "dt.datetime.now()"
   ]
  },
  {
   "cell_type": "code",
   "execution_count": 4,
   "metadata": {},
   "outputs": [
    {
     "data": {
      "text/plain": [
       "datetime.date(2025, 4, 10)"
      ]
     },
     "execution_count": 4,
     "metadata": {},
     "output_type": "execute_result"
    }
   ],
   "source": [
    "# Returns the current local date\n",
    "dt.date.today()"
   ]
  },
  {
   "cell_type": "code",
   "execution_count": 5,
   "metadata": {},
   "outputs": [
    {
     "name": "stdout",
     "output_type": "stream",
     "text": [
      "2024-08-18 10:30:00\n"
     ]
    }
   ],
   "source": [
    "#Creating Specific Date and Time Objects\n",
    "\n",
    "date1=dt.datetime(2024, 8, 18, 10, 30)\n",
    "print(date1)"
   ]
  },
  {
   "cell_type": "code",
   "execution_count": 6,
   "metadata": {},
   "outputs": [
    {
     "name": "stdout",
     "output_type": "stream",
     "text": [
      "2024-08-18\n"
     ]
    }
   ],
   "source": [
    "date1=dt.date(2024, 8, 18)\n",
    "print(date1)"
   ]
  },
  {
   "cell_type": "code",
   "execution_count": 7,
   "metadata": {},
   "outputs": [
    {
     "name": "stdout",
     "output_type": "stream",
     "text": [
      "10:30:00\n"
     ]
    }
   ],
   "source": [
    "time1=dt.time(10, 30, 0)\n",
    "print(time1)"
   ]
  },
  {
   "cell_type": "code",
   "execution_count": 8,
   "metadata": {},
   "outputs": [
    {
     "name": "stdout",
     "output_type": "stream",
     "text": [
      "2025-04-10 22:50:24.292580\n",
      "time: 22:50:24\n"
     ]
    }
   ],
   "source": [
    "#strfttime - Convert Date into string format\n",
    "now = dt.datetime.now()\n",
    "print(now)\n",
    "t = now.strftime(\"%H:%M:%S\")\n",
    "print(\"time:\", t)"
   ]
  },
  {
   "cell_type": "code",
   "execution_count": 9,
   "metadata": {},
   "outputs": [
    {
     "name": "stdout",
     "output_type": "stream",
     "text": [
      "04/10/2025, 22:50:24\n"
     ]
    }
   ],
   "source": [
    "# Change the format of date\n",
    "s1 = now.strftime(\"%m/%d/%Y, %H:%M:%S\")\n",
    "print(s1)"
   ]
  },
  {
   "cell_type": "code",
   "execution_count": 10,
   "metadata": {},
   "outputs": [
    {
     "name": "stdout",
     "output_type": "stream",
     "text": [
      "Today's date: Thursday, 10 April 2025\n"
     ]
    }
   ],
   "source": [
    "date = now.strftime(\"%A, %d %B %Y\")\n",
    "print(\"Today's date:\", date)"
   ]
  },
  {
   "cell_type": "code",
   "execution_count": 18,
   "metadata": {},
   "outputs": [
    {
     "name": "stdout",
     "output_type": "stream",
     "text": [
      "Good evening!\n"
     ]
    }
   ],
   "source": [
    "hour = now.hour\n",
    "if hour < 12:\n",
    "    print(\"Good morning!\")\n",
    "elif hour < 18:\n",
    "    print(\"Good afternoon!\")\n",
    "else:\n",
    "    print(\"Good evening!\")\n"
   ]
  },
  {
   "cell_type": "code",
   "execution_count": 19,
   "metadata": {},
   "outputs": [
    {
     "name": "stdout",
     "output_type": "stream",
     "text": [
      "Saving to: logfile_20250410_225024.txt\n"
     ]
    }
   ],
   "source": [
    "filename = now.strftime(\"logfile_%Y%m%d_%H%M%S.txt\")\n",
    "print(\"Saving to:\", filename)"
   ]
  },
  {
   "cell_type": "code",
   "execution_count": 11,
   "metadata": {},
   "outputs": [
    {
     "name": "stdout",
     "output_type": "stream",
     "text": [
      "Converted datetime: 2025-04-09 14:30:00\n",
      "<class 'datetime.datetime'>\n"
     ]
    }
   ],
   "source": [
    "# Convert string to datetime object: Needed because sometimes we have to add days, hours etc to time\n",
    "date_string = \"2025-04-09 14:30:00\"\n",
    "dt_obj = dt.datetime.strptime(date_string, \"%Y-%m-%d %H:%M:%S\")\n",
    "print(\"Converted datetime:\", dt_obj)\n",
    "print(type(dt_obj))"
   ]
  },
  {
   "cell_type": "code",
   "execution_count": 12,
   "metadata": {},
   "outputs": [
    {
     "name": "stdout",
     "output_type": "stream",
     "text": [
      "2025-04-10 22:50:24.348877\n",
      "2025\n",
      "4\n",
      "10\n",
      "22\n",
      "50\n",
      "24\n"
     ]
    }
   ],
   "source": [
    "#Extracting date and time components\n",
    "\n",
    "now = dt.datetime.now()\n",
    "print(now)\n",
    "print(now.year)   \n",
    "print(now.month)  \n",
    "print(now.day)\n",
    "print(now.hour)  \n",
    "print(now.minute) \n",
    "print(now.second) \n"
   ]
  },
  {
   "cell_type": "code",
   "execution_count": 13,
   "metadata": {},
   "outputs": [],
   "source": [
    "# now = dt.datetime.now()\n",
    "# print(now.weekday())\n",
    "# print(now.isoweekday())"
   ]
  },
  {
   "cell_type": "code",
   "execution_count": 14,
   "metadata": {},
   "outputs": [
    {
     "name": "stdout",
     "output_type": "stream",
     "text": [
      "2024-08-20 10:30:00\n",
      "2024-08-19 10:30:00\n",
      "False\n"
     ]
    }
   ],
   "source": [
    "# Comparing different dates\n",
    "\n",
    "dt1 = dt.datetime(2024, 8, 20, 10, 30)\n",
    "dt2 = dt.datetime(2024, 8, 19, 10, 30)\n",
    "print(dt1)\n",
    "print(dt2)\n",
    "print(dt1 < dt2) \n"
   ]
  },
  {
   "cell_type": "code",
   "execution_count": 15,
   "metadata": {},
   "outputs": [
    {
     "name": "stdout",
     "output_type": "stream",
     "text": [
      "10 days from today: 2025-04-20\n",
      "5 days ago: 2025-04-05\n"
     ]
    }
   ],
   "source": [
    "# Add/Subtract Time with timedelta\n",
    "import datetime\n",
    "from datetime import timedelta\n",
    "\n",
    "today = datetime.date.today()\n",
    "# Add 10 days\n",
    "future = today + timedelta(days=10)\n",
    "print(\"10 days from today:\", future)\n",
    "\n",
    "# Subtract 5 days\n",
    "past = today - timedelta(days=5)\n",
    "print(\"5 days ago:\", past)"
   ]
  },
  {
   "cell_type": "code",
   "execution_count": 16,
   "metadata": {},
   "outputs": [
    {
     "name": "stdout",
     "output_type": "stream",
     "text": [
      "Current time:  2025-04-10 22:50:24.403081\n",
      "After 5 hours: 2025-04-11 03:50:24.403081\n"
     ]
    }
   ],
   "source": [
    "# Get current datetime\n",
    "from datetime import datetime\n",
    "\n",
    "now = datetime.now()\n",
    "print(\"Current time: \", now)\n",
    "\n",
    "# Add 5 hours\n",
    "future_time = now + timedelta(hours=5)\n",
    "print(\"After 5 hours:\", future_time)"
   ]
  },
  {
   "cell_type": "code",
   "execution_count": 17,
   "metadata": {},
   "outputs": [
    {
     "name": "stdout",
     "output_type": "stream",
     "text": [
      "Difference in days: 9\n",
      "Difference in hours: 216.0\n"
     ]
    }
   ],
   "source": [
    "# difference in days, hours\n",
    "\n",
    "from datetime import date\n",
    "\n",
    "d1 = date(2025, 4, 10)\n",
    "d2 = date(2025, 4, 1)\n",
    "diff = d1 - d2\n",
    "\n",
    "print(\"Difference in days:\", diff.days)\n",
    "\n",
    "# Convert days to hours\n",
    "hours = diff.total_seconds() / 3600\n",
    "print(\"Difference in hours:\", hours)\n"
   ]
  },
  {
   "cell_type": "code",
   "execution_count": null,
   "metadata": {},
   "outputs": [],
   "source": []
  }
 ],
 "metadata": {
  "kernelspec": {
   "display_name": "Python 3 (ipykernel)",
   "language": "python",
   "name": "python3"
  },
  "language_info": {
   "codemirror_mode": {
    "name": "ipython",
    "version": 3
   },
   "file_extension": ".py",
   "mimetype": "text/x-python",
   "name": "python",
   "nbconvert_exporter": "python",
   "pygments_lexer": "ipython3",
   "version": "3.11.9"
  }
 },
 "nbformat": 4,
 "nbformat_minor": 4
}
