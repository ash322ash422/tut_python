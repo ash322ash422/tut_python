{
 "cells": [
  {
   "cell_type": "markdown",
   "id": "426f5688-8c3a-4f30-8900-c906ffa242cd",
   "metadata": {},
   "source": [
    "# Jupyter advantages\n",
    "### Actual final .py code\n",
    "Follwing is the actual final python code created after going through code development"
   ]
  },
  {
   "cell_type": "code",
   "execution_count": null,
   "id": "cdf97e3c-e5a4-4e88-97b4-aeeb25c9fce9",
   "metadata": {},
   "outputs": [],
   "source": [
    "# Ask the user to choose an operation\n",
    "operation = input(\"Which operation would you like to perform? (+, -, *): \")\n",
    "\n",
    "# Ask the user to enter two numbers\n",
    "num1 = float(input(\"Enter the first number: \"))\n",
    "num2 = float(input(\"Enter the second number: \"))\n",
    "\n",
    "# Perform the operation\n",
    "if operation == '+':\n",
    "    result = num1 + num2\n",
    "    print(\"Result:\", result)\n",
    "elif operation == '-':\n",
    "    result = num1 - num2\n",
    "    print(\"Result:\", result)\n",
    "elif operation == '*':\n",
    "    result = num1 * num2\n",
    "    print(\"Result:\", result)\n",
    "else:\n",
    "    print(\"Invalid operation selected.\")\n"
   ]
  },
  {
   "cell_type": "markdown",
   "id": "eb21a147-1722-4294-86a7-ffcc5969dee3",
   "metadata": {},
   "source": [
    "## Iterative steps taken in jupyter notebook to arrive at above code"
   ]
  },
  {
   "cell_type": "code",
   "execution_count": 7,
   "id": "83329cbc-3c81-46df-a5b1-f72dd7fe0673",
   "metadata": {},
   "outputs": [
    {
     "name": "stdin",
     "output_type": "stream",
     "text": [
      "Which operation would you like to perform? (+, -, *):  +\n"
     ]
    }
   ],
   "source": [
    "operation = input(\"Which operation would you like to perform? (+, -, *): \")"
   ]
  },
  {
   "cell_type": "code",
   "execution_count": 8,
   "id": "4623cf00-dcf4-4e0b-87c9-f3750cc595bb",
   "metadata": {},
   "outputs": [
    {
     "name": "stdout",
     "output_type": "stream",
     "text": [
      "+\n"
     ]
    }
   ],
   "source": [
    "print(operation)"
   ]
  },
  {
   "cell_type": "code",
   "execution_count": 11,
   "id": "eb9cf48a-b5ae-44e6-b7d3-4aa93ad79e28",
   "metadata": {},
   "outputs": [
    {
     "name": "stdin",
     "output_type": "stream",
     "text": [
      "Enter the first number:  1\n",
      "Enter the second number:  3\n"
     ]
    }
   ],
   "source": [
    "# Ask the user to enter two numbers\n",
    "num1 = input(\"Enter the first number: \")\n",
    "num2 = input(\"Enter the second number: \")"
   ]
  },
  {
   "cell_type": "code",
   "execution_count": 13,
   "id": "c5e3d822-7198-414d-9cfb-99eda6d7ee0c",
   "metadata": {},
   "outputs": [
    {
     "name": "stdout",
     "output_type": "stream",
     "text": [
      "1 , 3\n",
      "<class 'str'>\n",
      "<class 'str'>\n"
     ]
    }
   ],
   "source": [
    "print(f\"{num1} , {num2}\")\n",
    "print(type(num1))\n",
    "print(type(num2))"
   ]
  },
  {
   "cell_type": "markdown",
   "id": "543e27f0-997c-4878-95ba-c22df491d712",
   "metadata": {},
   "source": [
    "## This is problem....because I want numeric data types.\n",
    "So I convert it into float (or int)"
   ]
  },
  {
   "cell_type": "code",
   "execution_count": 14,
   "id": "b175b9cf-64bf-4651-88ac-827a5db53ee5",
   "metadata": {},
   "outputs": [
    {
     "name": "stdin",
     "output_type": "stream",
     "text": [
      "Enter the first number:  2\n",
      "Enter the second number:  4\n"
     ]
    }
   ],
   "source": [
    "# Ask the user to enter two numbers\n",
    "num1 = float(input(\"Enter the first number: \"))\n",
    "num2 = float(input(\"Enter the second number: \"))"
   ]
  },
  {
   "cell_type": "code",
   "execution_count": 15,
   "id": "b0ff46b5-1f93-4b8e-8ee1-72f6bf6b446c",
   "metadata": {},
   "outputs": [
    {
     "name": "stdout",
     "output_type": "stream",
     "text": [
      "2.0 , 4.0\n",
      "<class 'float'>\n",
      "<class 'float'>\n"
     ]
    }
   ],
   "source": [
    "print(f\"{num1} , {num2}\")\n",
    "print(type(num1))\n",
    "print(type(num2))"
   ]
  },
  {
   "cell_type": "markdown",
   "id": "7afd8f99-9306-48da-9fad-41d2eb100dc2",
   "metadata": {},
   "source": [
    "## Now you can delete the above cell that gave string data type"
   ]
  },
  {
   "cell_type": "code",
   "execution_count": 1,
   "id": "43ac9954-52a0-4fd9-a07e-2f25c7ff2ff7",
   "metadata": {},
   "outputs": [
    {
     "name": "stdout",
     "output_type": "stream",
     "text": [
      "Result: 6\n"
     ]
    }
   ],
   "source": [
    "operation = \"+\"\n",
    "num1 = 2\n",
    "num2 = 4\n",
    "\n",
    "# check + operation\n",
    "if operation == '+':\n",
    "    result = num1 + num2\n",
    "    print(\"Result:\", result)\n",
    "else:\n",
    "    print(\"Invalid operation selected.\")\n"
   ]
  },
  {
   "cell_type": "code",
   "execution_count": 2,
   "id": "69597b04-7e80-4073-94e5-64b2d59ae0e0",
   "metadata": {},
   "outputs": [
    {
     "name": "stdout",
     "output_type": "stream",
     "text": [
      "Result: -2\n"
     ]
    }
   ],
   "source": [
    "operation = \"-\"\n",
    "num1 = 2\n",
    "num2 = 4\n",
    "\n",
    "# check + - operation\n",
    "if operation == '+':\n",
    "    result = num1 + num2\n",
    "    print(\"Result:\", result)\n",
    "elif operation == '-':\n",
    "    result = num1 - num2\n",
    "    print(\"Result:\", result)\n",
    "else:\n",
    "    print(\"Invalid operation selected.\")\n"
   ]
  },
  {
   "cell_type": "code",
   "execution_count": 3,
   "id": "4ba60b30-e423-44b2-ab2c-7f9979581201",
   "metadata": {},
   "outputs": [
    {
     "name": "stdout",
     "output_type": "stream",
     "text": [
      "Result: 8\n"
     ]
    }
   ],
   "source": [
    "operation = \"*\"\n",
    "num1 = 2\n",
    "num2 = 4\n",
    "\n",
    "# Perform the operation\n",
    "if operation == '+':\n",
    "    result = num1 + num2\n",
    "    print(\"Result:\", result)\n",
    "elif operation == '-':\n",
    "    result = num1 - num2\n",
    "    print(\"Result:\", result)\n",
    "elif operation == '*':\n",
    "    result = num1 * num2\n",
    "    print(\"Result:\", result)\n",
    "else:\n",
    "    print(\"Invalid operation selected.\")\n"
   ]
  },
  {
   "cell_type": "code",
   "execution_count": 4,
   "id": "76d0f479-f34d-4177-a8cd-df84c9133d54",
   "metadata": {},
   "outputs": [
    {
     "name": "stdout",
     "output_type": "stream",
     "text": [
      "Invalid operation selected.\n"
     ]
    }
   ],
   "source": [
    "operation = \"&&\"\n",
    "num1 = 2\n",
    "num2 = 4\n",
    "\n",
    "# Perform the operation\n",
    "if operation == '+':\n",
    "    result = num1 + num2\n",
    "    print(\"Result:\", result)\n",
    "elif operation == '-':\n",
    "    result = num1 - num2\n",
    "    print(\"Result:\", result)\n",
    "elif operation == '*':\n",
    "    result = num1 * num2\n",
    "    print(\"Result:\", result)\n",
    "else:\n",
    "    print(\"Invalid operation selected.\")\n"
   ]
  },
  {
   "cell_type": "code",
   "execution_count": null,
   "id": "5d8f7747-7583-47dc-9938-db95ae52eace",
   "metadata": {},
   "outputs": [],
   "source": [
    "## Good . All cases are tested here. Now copy and paste the necessary cell code in .py file"
   ]
  }
 ],
 "metadata": {
  "kernelspec": {
   "display_name": "Python 3 (ipykernel)",
   "language": "python",
   "name": "python3"
  },
  "language_info": {
   "codemirror_mode": {
    "name": "ipython",
    "version": 3
   },
   "file_extension": ".py",
   "mimetype": "text/x-python",
   "name": "python",
   "nbconvert_exporter": "python",
   "pygments_lexer": "ipython3",
   "version": "3.11.2"
  }
 },
 "nbformat": 4,
 "nbformat_minor": 5
}
