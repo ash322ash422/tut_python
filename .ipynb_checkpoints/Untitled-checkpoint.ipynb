{
 "cells": [
  {
   "cell_type": "markdown",
   "id": "2343ce52-b285-4369-bef0-c83253e8020c",
   "metadata": {},
   "source": [
    "## enumerate"
   ]
  },
  {
   "cell_type": "code",
   "execution_count": 1,
   "id": "02e2c0f2-1587-4075-9376-428e6e7097cb",
   "metadata": {},
   "outputs": [
    {
     "name": "stdout",
     "output_type": "stream",
     "text": [
      "Index: 0, Fruit: apple\n",
      "Index: 1, Fruit: banana\n",
      "Index: 2, Fruit: cherry\n"
     ]
    }
   ],
   "source": [
    "fruits = [\"apple\", \"banana\", \"cherry\"]\n",
    "\n",
    "for index, fruit in enumerate(fruits):\n",
    "    print(f\"Index: {index}, Fruit: {fruit}\")\n"
   ]
  },
  {
   "cell_type": "code",
   "execution_count": 2,
   "id": "cbf18136-9e86-45f3-b61d-0ba2f0f03e19",
   "metadata": {},
   "outputs": [
    {
     "name": "stdout",
     "output_type": "stream",
     "text": [
      "Count: 1, Color: red\n",
      "Count: 2, Color: green\n",
      "Count: 3, Color: blue\n"
     ]
    }
   ],
   "source": [
    "colors = [\"red\", \"green\", \"blue\"]\n",
    "\n",
    "for count, color in enumerate(colors, start=1):\n",
    "    print(f\"Count: {count}, Color: {color}\")\n"
   ]
  },
  {
   "cell_type": "code",
   "execution_count": 3,
   "id": "b648bc59-1881-4344-8076-f33f1726f1d1",
   "metadata": {},
   "outputs": [
    {
     "name": "stdout",
     "output_type": "stream",
     "text": [
      "Index 0: h\n",
      "Index 1: e\n",
      "Index 2: l\n",
      "Index 3: l\n",
      "Index 4: o\n"
     ]
    }
   ],
   "source": [
    "message = \"hello\"\n",
    "\n",
    "for index, char in enumerate(message):\n",
    "    print(f\"Index {index}: {char}\")\n"
   ]
  },
  {
   "cell_type": "code",
   "execution_count": 4,
   "id": "81a07543-8959-4c91-aa7c-29cbb5d55f79",
   "metadata": {},
   "outputs": [
    {
     "name": "stdout",
     "output_type": "stream",
     "text": [
      "At even index 0: 10\n",
      "At even index 2: 5\n",
      "At even index 4: 15\n"
     ]
    }
   ],
   "source": [
    "# Filtering Elements Based on Index\n",
    "data = [10, 25, 5, 30, 15, 40]\n",
    "\n",
    "for index, value in enumerate(data):\n",
    "    if index % 2 == 0:  # Process only elements at even indices\n",
    "        print(f\"At even index {index}: {value}\")\n"
   ]
  },
  {
   "cell_type": "code",
   "execution_count": 5,
   "id": "7dfbdd52-890c-4ade-9a56-a8a5ca116650",
   "metadata": {},
   "outputs": [
    {
     "name": "stdout",
     "output_type": "stream",
     "text": [
      "'Charlie' found at index: 2\n"
     ]
    }
   ],
   "source": [
    "# Finding the Index of a Specific Element\n",
    "names = [\"Alice\", \"Bob\", \"Charlie\", \"David\", \"Eve\"]\n",
    "search_name = \"Charlie\"\n",
    "found_index = -1  # Initialize to a value indicating not found\n",
    "\n",
    "for index, name in enumerate(names):\n",
    "    if name == search_name:\n",
    "        found_index = index\n",
    "        break  # Exit the loop once found\n",
    "\n",
    "if found_index != -1:\n",
    "    print(f\"'{search_name}' found at index: {found_index}\")\n",
    "else:\n",
    "    print(f\"'{search_name}' not found in the list.\")\n"
   ]
  },
  {
   "cell_type": "code",
   "execution_count": null,
   "id": "d0b2a6e6-1d4f-479a-a193-03880d4e95d4",
   "metadata": {},
   "outputs": [],
   "source": []
  }
 ],
 "metadata": {
  "kernelspec": {
   "display_name": "Python 3 (ipykernel)",
   "language": "python",
   "name": "python3"
  },
  "language_info": {
   "codemirror_mode": {
    "name": "ipython",
    "version": 3
   },
   "file_extension": ".py",
   "mimetype": "text/x-python",
   "name": "python",
   "nbconvert_exporter": "python",
   "pygments_lexer": "ipython3",
   "version": "3.11.9"
  }
 },
 "nbformat": 4,
 "nbformat_minor": 5
}
