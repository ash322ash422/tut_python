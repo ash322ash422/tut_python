{
 "cells": [
  {
   "cell_type": "markdown",
   "id": "a59e8ea5-034c-4174-a348-5c31b2dd42bb",
   "metadata": {},
   "source": [
    "## function : anonymous function lambda\n",
    "-  anonymous functions — that is, functions without a name.\n",
    "-  Used when you need a quick, short function for a one-time use\n",
    "-  Used when you want compact code\n",
    "-  No doc string option"
   ]
  },
  {
   "cell_type": "code",
   "execution_count": 5,
   "id": "0008ec2c-107a-44bd-be90-74d657e4b20a",
   "metadata": {},
   "outputs": [
    {
     "name": "stdout",
     "output_type": "stream",
     "text": [
      "25\n"
     ]
    }
   ],
   "source": [
    "def square(x):\n",
    "    return x * x\n",
    "\n",
    "print(square(5))  "
   ]
  },
  {
   "cell_type": "code",
   "execution_count": 6,
   "id": "19008a46-0fd1-4915-95c2-f088540bfda0",
   "metadata": {},
   "outputs": [
    {
     "name": "stdout",
     "output_type": "stream",
     "text": [
      "25\n"
     ]
    }
   ],
   "source": [
    "square = lambda x: x * x\n",
    "print(square(5))  "
   ]
  },
  {
   "cell_type": "code",
   "execution_count": 7,
   "id": "5608376c-1ff4-46a5-b0c2-e83766ba0512",
   "metadata": {},
   "outputs": [
    {
     "name": "stdout",
     "output_type": "stream",
     "text": [
      "7\n"
     ]
    }
   ],
   "source": [
    "def add(a, b):\n",
    "    return a + b\n",
    "\n",
    "print(add(3, 4))  "
   ]
  },
  {
   "cell_type": "code",
   "execution_count": 8,
   "id": "b6aa12d6-5e2b-43ec-817f-89c169ca8208",
   "metadata": {},
   "outputs": [
    {
     "name": "stdout",
     "output_type": "stream",
     "text": [
      "7\n"
     ]
    }
   ],
   "source": [
    "add = lambda a, b: a + b\n",
    "print(add(3, 4))  # Output: 7"
   ]
  },
  {
   "cell_type": "code",
   "execution_count": 9,
   "id": "b3532118-b4cd-4d32-a08e-49cafced5e3b",
   "metadata": {},
   "outputs": [
    {
     "name": "stdout",
     "output_type": "stream",
     "text": [
      "['Bob', 'Alice', 'Charlie']\n"
     ]
    }
   ],
   "source": [
    "# sort names based on their string length\n",
    "names = [\"Charlie\", \"Alice\", \"Bob\"]\n",
    "sorted_names = sorted(names, key=lambda x: len(x))\n",
    "print(sorted_names)  # Output: ['Bob', 'Alice', 'Charlie']"
   ]
  },
  {
   "cell_type": "code",
   "execution_count": null,
   "id": "98a11ff1-8164-446c-84f1-6e80bb83b7a1",
   "metadata": {},
   "outputs": [],
   "source": []
  }
 ],
 "metadata": {
  "kernelspec": {
   "display_name": "Python 3 (ipykernel)",
   "language": "python",
   "name": "python3"
  },
  "language_info": {
   "codemirror_mode": {
    "name": "ipython",
    "version": 3
   },
   "file_extension": ".py",
   "mimetype": "text/x-python",
   "name": "python",
   "nbconvert_exporter": "python",
   "pygments_lexer": "ipython3",
   "version": "3.11.9"
  }
 },
 "nbformat": 4,
 "nbformat_minor": 5
}
